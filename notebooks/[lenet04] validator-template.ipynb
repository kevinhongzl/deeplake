{
 "cells": [
  {
   "cell_type": "markdown",
   "metadata": {},
   "source": [
    "# [lenet04] BaseValidator As an Validator Template\n",
    "\n",
    "在這個教學裡面，會告訴你怎麼透過模板，修改出自己的驗證器 (Validator)。\n",
    "\n",
    "Validataor 基本上用在二個地方，分別為訓練中的驗證，以及訓練後的測試。"
   ]
  },
  {
   "cell_type": "code",
   "execution_count": 8,
   "metadata": {},
   "outputs": [
    {
     "data": {
      "text/html": [
       "<style>\n",
       ".cell-output-ipywidget-background {\n",
       "    background-color: transparent !important;\n",
       "}\n",
       ":root {\n",
       "    --jp-widgets-color: var(--vscode-editor-foreground);\n",
       "    --jp-widgets-font-size: var(--vscode-editor-font-size);\n",
       "}  \n",
       "</style>\n"
      ],
      "text/plain": [
       "<IPython.core.display.HTML object>"
      ]
     },
     "metadata": {},
     "output_type": "display_data"
    }
   ],
   "source": [
    "%%html\n",
    "<style>\n",
    ".cell-output-ipywidget-background {\n",
    "    background-color: transparent !important;\n",
    "}\n",
    ":root {\n",
    "    --jp-widgets-color: var(--vscode-editor-foreground);\n",
    "    --jp-widgets-font-size: var(--vscode-editor-font-size);\n",
    "}  \n",
    "</style>"
   ]
  },
  {
   "cell_type": "markdown",
   "metadata": {},
   "source": [
    "## Introduction"
   ]
  },
  {
   "cell_type": "code",
   "execution_count": 14,
   "metadata": {},
   "outputs": [
    {
     "data": {
      "text/html": [
       "<style>pre { line-height: 125%; }\n",
       "td.linenos .normal { color: #3c4354; background-color: transparent; padding-left: 5px; padding-right: 5px; }\n",
       "span.linenos { color: #3c4354; background-color: transparent; padding-left: 5px; padding-right: 5px; }\n",
       "td.linenos .special { color: #3c4354; background-color: #ffffc0; padding-left: 5px; padding-right: 5px; }\n",
       "span.linenos.special { color: #3c4354; background-color: #ffffc0; padding-left: 5px; padding-right: 5px; }\n",
       ".highlight .hll { background-color: #6e7681 }\n",
       ".highlight { background: #1d2331; color: #d4d2c8 }\n",
       ".highlight .c { color: #7e8aa1 } /* Comment */\n",
       ".highlight .err { color: #f88f7f } /* Error */\n",
       ".highlight .esc { color: #d4d2c8 } /* Escape */\n",
       ".highlight .g { color: #d4d2c8 } /* Generic */\n",
       ".highlight .k { color: #FFAD66 } /* Keyword */\n",
       ".highlight .l { color: #D5FF80 } /* Literal */\n",
       ".highlight .n { color: #d4d2c8 } /* Name */\n",
       ".highlight .o { color: #FFAD66 } /* Operator */\n",
       ".highlight .x { color: #d4d2c8 } /* Other */\n",
       ".highlight .p { color: #d4d2c8 } /* Punctuation */\n",
       ".highlight .ch { color: #f88f7f; font-style: italic } /* Comment.Hashbang */\n",
       ".highlight .cm { color: #7e8aa1 } /* Comment.Multiline */\n",
       ".highlight .cp { color: #FFAD66; font-weight: bold } /* Comment.Preproc */\n",
       ".highlight .cpf { color: #7e8aa1 } /* Comment.PreprocFile */\n",
       ".highlight .c1 { color: #7e8aa1 } /* Comment.Single */\n",
       ".highlight .cs { color: #7e8aa1; font-style: italic } /* Comment.Special */\n",
       ".highlight .gd { color: #f88f7f; background-color: #3d1e20 } /* Generic.Deleted */\n",
       ".highlight .ge { color: #d4d2c8; font-style: italic } /* Generic.Emph */\n",
       ".highlight .ges { color: #d4d2c8 } /* Generic.EmphStrong */\n",
       ".highlight .gr { color: #f88f7f } /* Generic.Error */\n",
       ".highlight .gh { color: #d4d2c8 } /* Generic.Heading */\n",
       ".highlight .gi { color: #6ad4af; background-color: #19362c } /* Generic.Inserted */\n",
       ".highlight .go { color: #7e8aa1 } /* Generic.Output */\n",
       ".highlight .gp { color: #d4d2c8 } /* Generic.Prompt */\n",
       ".highlight .gs { color: #d4d2c8; font-weight: bold } /* Generic.Strong */\n",
       ".highlight .gu { color: #d4d2c8 } /* Generic.Subheading */\n",
       ".highlight .gt { color: #f88f7f } /* Generic.Traceback */\n",
       ".highlight .kc { color: #FFAD66 } /* Keyword.Constant */\n",
       ".highlight .kd { color: #FFAD66 } /* Keyword.Declaration */\n",
       ".highlight .kn { color: #FFAD66 } /* Keyword.Namespace */\n",
       ".highlight .kp { color: #FFAD66 } /* Keyword.Pseudo */\n",
       ".highlight .kr { color: #FFAD66 } /* Keyword.Reserved */\n",
       ".highlight .kt { color: #73D0FF } /* Keyword.Type */\n",
       ".highlight .ld { color: #D5FF80 } /* Literal.Date */\n",
       ".highlight .m { color: #DFBFFF } /* Literal.Number */\n",
       ".highlight .s { color: #D5FF80 } /* Literal.String */\n",
       ".highlight .na { color: #FFD173 } /* Name.Attribute */\n",
       ".highlight .nb { color: #FFD173 } /* Name.Builtin */\n",
       ".highlight .nc { color: #73D0FF } /* Name.Class */\n",
       ".highlight .no { color: #FFD173 } /* Name.Constant */\n",
       ".highlight .nd { color: #7e8aa1; font-weight: bold; font-style: italic } /* Name.Decorator */\n",
       ".highlight .ni { color: #95E6CB } /* Name.Entity */\n",
       ".highlight .ne { color: #73D0FF } /* Name.Exception */\n",
       ".highlight .nf { color: #FFD173 } /* Name.Function */\n",
       ".highlight .nl { color: #d4d2c8 } /* Name.Label */\n",
       ".highlight .nn { color: #d4d2c8 } /* Name.Namespace */\n",
       ".highlight .nx { color: #d4d2c8 } /* Name.Other */\n",
       ".highlight .py { color: #FFD173 } /* Name.Property */\n",
       ".highlight .nt { color: #5CCFE6 } /* Name.Tag */\n",
       ".highlight .nv { color: #d4d2c8 } /* Name.Variable */\n",
       ".highlight .ow { color: #FFAD66 } /* Operator.Word */\n",
       ".highlight .pm { color: #d4d2c8 } /* Punctuation.Marker */\n",
       ".highlight .w { color: #d4d2c8 } /* Text.Whitespace */\n",
       ".highlight .mb { color: #DFBFFF } /* Literal.Number.Bin */\n",
       ".highlight .mf { color: #DFBFFF } /* Literal.Number.Float */\n",
       ".highlight .mh { color: #DFBFFF } /* Literal.Number.Hex */\n",
       ".highlight .mi { color: #DFBFFF } /* Literal.Number.Integer */\n",
       ".highlight .mo { color: #DFBFFF } /* Literal.Number.Oct */\n",
       ".highlight .sa { color: #F29E74 } /* Literal.String.Affix */\n",
       ".highlight .sb { color: #D5FF80 } /* Literal.String.Backtick */\n",
       ".highlight .sc { color: #D5FF80 } /* Literal.String.Char */\n",
       ".highlight .dl { color: #D5FF80 } /* Literal.String.Delimiter */\n",
       ".highlight .sd { color: #7e8aa1 } /* Literal.String.Doc */\n",
       ".highlight .s2 { color: #D5FF80 } /* Literal.String.Double */\n",
       ".highlight .se { color: #95E6CB } /* Literal.String.Escape */\n",
       ".highlight .sh { color: #D5FF80 } /* Literal.String.Heredoc */\n",
       ".highlight .si { color: #95E6CB } /* Literal.String.Interpol */\n",
       ".highlight .sx { color: #95E6CB } /* Literal.String.Other */\n",
       ".highlight .sr { color: #95E6CB } /* Literal.String.Regex */\n",
       ".highlight .s1 { color: #D5FF80 } /* Literal.String.Single */\n",
       ".highlight .ss { color: #DFBFFF } /* Literal.String.Symbol */\n",
       ".highlight .bp { color: #5CCFE6 } /* Name.Builtin.Pseudo */\n",
       ".highlight .fm { color: #FFD173 } /* Name.Function.Magic */\n",
       ".highlight .vc { color: #d4d2c8 } /* Name.Variable.Class */\n",
       ".highlight .vg { color: #d4d2c8 } /* Name.Variable.Global */\n",
       ".highlight .vi { color: #d4d2c8 } /* Name.Variable.Instance */\n",
       ".highlight .vm { color: #d4d2c8 } /* Name.Variable.Magic */\n",
       ".highlight .il { color: #DFBFFF } /* Literal.Number.Integer.Long */</style>"
      ],
      "text/plain": [
       "<IPython.core.display.HTML object>"
      ]
     },
     "metadata": {},
     "output_type": "display_data"
    },
    {
     "data": {
      "text/html": [
       "<div class=\"highlight\"><pre><span></span><span class=\"k\">class</span> <span class=\"nc\">BaseValidator</span><span class=\"p\">:</span>\n",
       "<span class=\"w\">    </span><span class=\"sd\">&quot;&quot;&quot;</span>\n",
       "<span class=\"sd\">    The base class of validators.</span>\n",
       "<span class=\"sd\">    It is intended to be a template for users to create their own validator class.</span>\n",
       "<span class=\"sd\">    &quot;&quot;&quot;</span>\n",
       "\n",
       "    <span class=\"k\">def</span> <span class=\"fm\">__init__</span><span class=\"p\">(</span>\n",
       "        <span class=\"bp\">self</span><span class=\"p\">,</span>\n",
       "        <span class=\"n\">metric</span><span class=\"p\">:</span> <span class=\"n\">Callable</span> <span class=\"o\">|</span> <span class=\"n\">Metric</span><span class=\"p\">,</span>\n",
       "        <span class=\"n\">is_train</span><span class=\"p\">:</span> <span class=\"nb\">bool</span> <span class=\"o\">=</span> <span class=\"kc\">False</span><span class=\"p\">,</span>\n",
       "        <span class=\"n\">device</span><span class=\"p\">:</span> <span class=\"n\">Literal</span><span class=\"p\">[</span><span class=\"s2\">&quot;cuda&quot;</span><span class=\"p\">,</span> <span class=\"s2\">&quot;cpu&quot;</span><span class=\"p\">]</span> <span class=\"o\">=</span> <span class=\"s2\">&quot;cuda&quot;</span><span class=\"p\">,</span>\n",
       "        <span class=\"n\">unpack_item</span><span class=\"p\">:</span> <span class=\"n\">Callable</span> <span class=\"o\">|</span> <span class=\"n\">Literal</span><span class=\"p\">[</span><span class=\"s2\">&quot;monai&quot;</span><span class=\"p\">,</span> <span class=\"s2\">&quot;pytorch&quot;</span><span class=\"p\">]</span> <span class=\"o\">=</span> <span class=\"s2\">&quot;pytorch&quot;</span><span class=\"p\">,</span>\n",
       "        <span class=\"n\">output_infer</span><span class=\"p\">:</span> <span class=\"nb\">bool</span> <span class=\"o\">=</span> <span class=\"kc\">True</span><span class=\"p\">,</span>\n",
       "    <span class=\"p\">):</span>\n",
       "<span class=\"w\">        </span><span class=\"sd\">&quot;&quot;&quot;</span>\n",
       "<span class=\"sd\">        Args:</span>\n",
       "<span class=\"sd\">            metric (monai.Metric): The metric used to evaluate the model&#39;s performance.</span>\n",
       "<span class=\"sd\">            is_train (bool): Flag indicating if the validator is for training. Defaults to False.</span>\n",
       "<span class=\"sd\">            device (Literal[&quot;cuda&quot;, &quot;cpu&quot;]): The device to use for validation. Defaults to &#39;cuda&#39;.</span>\n",
       "<span class=\"sd\">        &quot;&quot;&quot;</span>\n",
       "        <span class=\"bp\">self</span><span class=\"o\">.</span><span class=\"n\">metric</span> <span class=\"o\">=</span> <span class=\"n\">metric</span>\n",
       "        <span class=\"bp\">self</span><span class=\"o\">.</span><span class=\"n\">is_train</span> <span class=\"o\">=</span> <span class=\"n\">is_train</span>\n",
       "        <span class=\"bp\">self</span><span class=\"o\">.</span><span class=\"n\">device</span> <span class=\"o\">=</span> <span class=\"n\">device</span>\n",
       "        <span class=\"bp\">self</span><span class=\"o\">.</span><span class=\"n\">output_infer</span> <span class=\"o\">=</span> <span class=\"n\">output_infer</span>\n",
       "\n",
       "        <span class=\"k\">if</span> <span class=\"n\">unpack_item</span> <span class=\"o\">==</span> <span class=\"s2\">&quot;pytorch&quot;</span><span class=\"p\">:</span>\n",
       "            <span class=\"bp\">self</span><span class=\"o\">.</span><span class=\"n\">unpack_item</span> <span class=\"o\">=</span> <span class=\"k\">lambda</span> <span class=\"n\">batch</span><span class=\"p\">:</span> <span class=\"p\">(</span><span class=\"n\">batch</span><span class=\"p\">[</span><span class=\"mi\">0</span><span class=\"p\">]</span><span class=\"o\">.</span><span class=\"n\">to</span><span class=\"p\">(</span><span class=\"bp\">self</span><span class=\"o\">.</span><span class=\"n\">device</span><span class=\"p\">),</span> <span class=\"n\">batch</span><span class=\"p\">[</span><span class=\"mi\">1</span><span class=\"p\">]</span><span class=\"o\">.</span><span class=\"n\">to</span><span class=\"p\">(</span><span class=\"bp\">self</span><span class=\"o\">.</span><span class=\"n\">device</span><span class=\"p\">))</span>\n",
       "        <span class=\"k\">elif</span> <span class=\"n\">unpack_item</span> <span class=\"o\">==</span> <span class=\"s2\">&quot;monai&quot;</span><span class=\"p\">:</span>\n",
       "            <span class=\"bp\">self</span><span class=\"o\">.</span><span class=\"n\">unpack_item</span> <span class=\"o\">=</span> <span class=\"k\">lambda</span> <span class=\"n\">batch</span><span class=\"p\">:</span> <span class=\"p\">(</span><span class=\"n\">batch</span><span class=\"p\">[</span><span class=\"s2\">&quot;image&quot;</span><span class=\"p\">]</span><span class=\"o\">.</span><span class=\"n\">to</span><span class=\"p\">(</span><span class=\"bp\">self</span><span class=\"o\">.</span><span class=\"n\">device</span><span class=\"p\">),</span> <span class=\"n\">batch</span><span class=\"p\">[</span><span class=\"s2\">&quot;label&quot;</span><span class=\"p\">]</span><span class=\"o\">.</span><span class=\"n\">to</span><span class=\"p\">(</span><span class=\"bp\">self</span><span class=\"o\">.</span><span class=\"n\">device</span><span class=\"p\">))</span>\n",
       "        <span class=\"k\">else</span><span class=\"p\">:</span>\n",
       "            <span class=\"bp\">self</span><span class=\"o\">.</span><span class=\"n\">unpack_item</span> <span class=\"o\">=</span> <span class=\"n\">unpack_item</span>\n",
       "\n",
       "        <span class=\"k\">if</span> <span class=\"n\">is_train</span><span class=\"p\">:</span>\n",
       "            <span class=\"bp\">self</span><span class=\"o\">.</span><span class=\"n\">pbar_description</span> <span class=\"o\">=</span> <span class=\"s2\">&quot;Validate (</span><span class=\"si\">{global_step}</span><span class=\"s2\"> Steps) (</span><span class=\"si\">{metric_name}</span><span class=\"s2\">=</span><span class=\"si\">{batch_metric:2.5f}</span><span class=\"s2\">)&quot;</span>\n",
       "        <span class=\"k\">else</span><span class=\"p\">:</span>\n",
       "            <span class=\"bp\">self</span><span class=\"o\">.</span><span class=\"n\">pbar_description</span> <span class=\"o\">=</span> <span class=\"s2\">&quot;Validate (</span><span class=\"si\">{metric_name}</span><span class=\"s2\">=</span><span class=\"si\">{batch_metric:2.5f}</span><span class=\"s2\">)&quot;</span>\n",
       "\n",
       "    <span class=\"k\">def</span> <span class=\"fm\">__call__</span><span class=\"p\">(</span>\n",
       "        <span class=\"bp\">self</span><span class=\"p\">,</span>\n",
       "        <span class=\"n\">module</span><span class=\"p\">:</span> <span class=\"n\">nn</span><span class=\"o\">.</span><span class=\"n\">Module</span><span class=\"p\">,</span>\n",
       "        <span class=\"n\">dataloader</span><span class=\"p\">:</span> <span class=\"n\">DataLoader</span> <span class=\"o\">|</span> <span class=\"n\">Sequence</span><span class=\"p\">[</span><span class=\"n\">DataLoader</span><span class=\"p\">],</span>\n",
       "        <span class=\"n\">global_step</span><span class=\"p\">:</span> <span class=\"nb\">int</span> <span class=\"o\">|</span> <span class=\"kc\">None</span> <span class=\"o\">=</span> <span class=\"kc\">None</span><span class=\"p\">,</span>\n",
       "    <span class=\"p\">)</span> <span class=\"o\">-&gt;</span> <span class=\"nb\">dict</span><span class=\"p\">:</span>\n",
       "        <span class=\"k\">return</span> <span class=\"bp\">self</span><span class=\"o\">.</span><span class=\"n\">validation</span><span class=\"p\">(</span><span class=\"n\">module</span><span class=\"p\">,</span> <span class=\"n\">dataloader</span><span class=\"p\">,</span> <span class=\"n\">global_step</span><span class=\"p\">)</span>\n",
       "\n",
       "    <span class=\"k\">def</span> <span class=\"nf\">validation</span><span class=\"p\">(</span>\n",
       "        <span class=\"bp\">self</span><span class=\"p\">,</span>\n",
       "        <span class=\"n\">module</span><span class=\"p\">:</span> <span class=\"n\">nn</span><span class=\"o\">.</span><span class=\"n\">Module</span><span class=\"p\">,</span>\n",
       "        <span class=\"n\">dataloader</span><span class=\"p\">:</span> <span class=\"n\">DataLoader</span> <span class=\"o\">|</span> <span class=\"n\">Sequence</span><span class=\"p\">[</span><span class=\"n\">DataLoader</span><span class=\"p\">],</span>\n",
       "        <span class=\"n\">global_step</span><span class=\"p\">:</span> <span class=\"nb\">int</span> <span class=\"o\">|</span> <span class=\"kc\">None</span> <span class=\"o\">=</span> <span class=\"kc\">None</span><span class=\"p\">,</span>\n",
       "    <span class=\"p\">)</span> <span class=\"o\">-&gt;</span> <span class=\"nb\">dict</span><span class=\"p\">:</span>\n",
       "\n",
       "        <span class=\"n\">module</span><span class=\"o\">.</span><span class=\"n\">eval</span><span class=\"p\">()</span>\n",
       "        <span class=\"n\">module</span><span class=\"o\">.</span><span class=\"n\">to</span><span class=\"p\">(</span><span class=\"bp\">self</span><span class=\"o\">.</span><span class=\"n\">device</span><span class=\"p\">)</span>\n",
       "        <span class=\"n\">val_metrics</span> <span class=\"o\">=</span> <span class=\"p\">[]</span>\n",
       "\n",
       "        <span class=\"k\">if</span> <span class=\"ow\">not</span> <span class=\"nb\">isinstance</span><span class=\"p\">(</span><span class=\"n\">dataloader</span><span class=\"p\">,</span> <span class=\"p\">(</span><span class=\"nb\">list</span><span class=\"p\">,</span> <span class=\"nb\">tuple</span><span class=\"p\">)):</span>\n",
       "            <span class=\"n\">dataloader</span> <span class=\"o\">=</span> <span class=\"p\">[</span><span class=\"n\">dataloader</span><span class=\"p\">]</span>\n",
       "        <span class=\"k\">else</span><span class=\"p\">:</span>\n",
       "            <span class=\"n\">dataloader</span> <span class=\"o\">=</span> <span class=\"p\">[</span><span class=\"n\">dl</span> <span class=\"k\">for</span> <span class=\"n\">dl</span> <span class=\"ow\">in</span> <span class=\"n\">dataloader</span> <span class=\"k\">if</span> <span class=\"n\">dl</span> <span class=\"ow\">is</span> <span class=\"ow\">not</span> <span class=\"kc\">None</span><span class=\"p\">]</span>\n",
       "        <span class=\"n\">data_iter</span> <span class=\"o\">=</span> <span class=\"n\">itertools</span><span class=\"o\">.</span><span class=\"n\">chain</span><span class=\"p\">(</span><span class=\"o\">*</span><span class=\"n\">dataloader</span><span class=\"p\">)</span>\n",
       "        <span class=\"n\">pbar</span> <span class=\"o\">=</span> <span class=\"n\">tqdm</span><span class=\"p\">(</span>\n",
       "            <span class=\"n\">data_iter</span><span class=\"p\">,</span>\n",
       "            <span class=\"n\">total</span><span class=\"o\">=</span><span class=\"nb\">sum</span><span class=\"p\">(</span><span class=\"nb\">len</span><span class=\"p\">(</span><span class=\"n\">dl</span><span class=\"p\">)</span> <span class=\"k\">for</span> <span class=\"n\">dl</span> <span class=\"ow\">in</span> <span class=\"n\">dataloader</span><span class=\"p\">),</span>\n",
       "            <span class=\"n\">dynamic_ncols</span><span class=\"o\">=</span><span class=\"kc\">True</span><span class=\"p\">,</span>\n",
       "        <span class=\"p\">)</span>\n",
       "\n",
       "        <span class=\"k\">with</span> <span class=\"n\">torch</span><span class=\"o\">.</span><span class=\"n\">no_grad</span><span class=\"p\">():</span>\n",
       "            <span class=\"k\">for</span> <span class=\"n\">batch</span> <span class=\"ow\">in</span> <span class=\"n\">pbar</span><span class=\"p\">:</span>\n",
       "                <span class=\"c1\"># Infer, decollate data into list of samples, and postprocess both predictions and labels</span>\n",
       "                <span class=\"n\">images</span><span class=\"p\">,</span> <span class=\"n\">targets</span> <span class=\"o\">=</span> <span class=\"bp\">self</span><span class=\"o\">.</span><span class=\"n\">unpack_item</span><span class=\"p\">(</span><span class=\"n\">batch</span><span class=\"p\">)</span>\n",
       "\n",
       "                <span class=\"c1\"># Get inferred / forwarded results of module</span>\n",
       "                <span class=\"k\">if</span> <span class=\"nb\">getattr</span><span class=\"p\">(</span><span class=\"n\">module</span><span class=\"p\">,</span> <span class=\"s2\">&quot;inference&quot;</span><span class=\"p\">,</span> <span class=\"kc\">False</span><span class=\"p\">)</span> <span class=\"ow\">and</span> <span class=\"bp\">self</span><span class=\"o\">.</span><span class=\"n\">output_infer</span><span class=\"p\">:</span>\n",
       "                    <span class=\"n\">infer_out</span> <span class=\"o\">=</span> <span class=\"n\">module</span><span class=\"o\">.</span><span class=\"n\">inference</span><span class=\"p\">(</span><span class=\"n\">images</span><span class=\"p\">)</span>\n",
       "                <span class=\"k\">else</span><span class=\"p\">:</span>\n",
       "                    <span class=\"n\">infer_out</span> <span class=\"o\">=</span> <span class=\"n\">module</span><span class=\"o\">.</span><span class=\"n\">forward</span><span class=\"p\">(</span><span class=\"n\">images</span><span class=\"p\">)</span>\n",
       "\n",
       "                <span class=\"c1\"># Compute validation metrics</span>\n",
       "                <span class=\"n\">batch_metric</span> <span class=\"o\">=</span> <span class=\"bp\">self</span><span class=\"o\">.</span><span class=\"n\">metric</span><span class=\"p\">(</span><span class=\"n\">infer_out</span><span class=\"p\">,</span> <span class=\"n\">targets</span><span class=\"p\">)</span><span class=\"o\">.</span><span class=\"n\">item</span><span class=\"p\">()</span>\n",
       "                <span class=\"n\">val_metrics</span> <span class=\"o\">+=</span> <span class=\"p\">[</span><span class=\"n\">batch_metric</span><span class=\"p\">]</span>\n",
       "\n",
       "                <span class=\"c1\"># Update progressbar</span>\n",
       "                <span class=\"n\">info</span> <span class=\"o\">=</span> <span class=\"p\">{</span>\n",
       "                    <span class=\"s2\">&quot;metric_name&quot;</span><span class=\"p\">:</span> <span class=\"bp\">self</span><span class=\"o\">.</span><span class=\"n\">metric</span><span class=\"o\">.</span><span class=\"vm\">__class__</span><span class=\"o\">.</span><span class=\"vm\">__name__</span><span class=\"p\">,</span>\n",
       "                    <span class=\"s2\">&quot;batch_metric&quot;</span><span class=\"p\">:</span> <span class=\"n\">batch_metric</span><span class=\"p\">,</span>\n",
       "                    <span class=\"s2\">&quot;global_step&quot;</span><span class=\"p\">:</span> <span class=\"n\">global_step</span><span class=\"p\">,</span>\n",
       "                <span class=\"p\">}</span>\n",
       "                <span class=\"n\">desc</span> <span class=\"o\">=</span> <span class=\"bp\">self</span><span class=\"o\">.</span><span class=\"n\">pbar_description</span><span class=\"o\">.</span><span class=\"n\">format</span><span class=\"p\">(</span><span class=\"o\">**</span><span class=\"n\">info</span><span class=\"p\">)</span>\n",
       "                <span class=\"n\">pbar</span><span class=\"o\">.</span><span class=\"n\">set_description</span><span class=\"p\">(</span><span class=\"n\">desc</span><span class=\"p\">)</span>\n",
       "\n",
       "        <span class=\"n\">output</span> <span class=\"o\">=</span> <span class=\"n\">np</span><span class=\"o\">.</span><span class=\"n\">mean</span><span class=\"p\">(</span><span class=\"n\">val_metrics</span><span class=\"p\">)</span>\n",
       "        <span class=\"k\">return</span> <span class=\"n\">output</span>\n",
       "</pre></div>\n"
      ],
      "text/plain": [
       "<IPython.core.display.HTML object>"
      ]
     },
     "metadata": {},
     "output_type": "display_data"
    }
   ],
   "source": [
    "import sys\n",
    "from pathlib import Path\n",
    "sys.path.append(str(Path.cwd().parent))\n",
    "\n",
    "from modules.base.validator import BaseValidator\n",
    "from print_source import print_source\n",
    "\n",
    "print_source(BaseValidator)"
   ]
  },
  {
   "cell_type": "markdown",
   "metadata": {},
   "source": [
    "基本上跟 Trainer 的架構差不多，主要的差別在於 `__init__` 多了 `is_train` 和 `output_infer` 的設計。\n",
    "\n",
    "1. `is_train` 用來區別這個 Validator 是否用在訓練流程中。如果是的話，會把目前訓練的步數呈現出來。\n",
    "2. `output_infer` 用來決定驗證時，神經網路的輸出是透過 `forward` 還是 `inference`，一般而言， `forward` 的輸出會是 logits，而 `inference` 的輸出會是 label。\n",
    "\n",
    "至於 `validation` 中\n",
    "\n",
    "```python\n",
    "if not isinstance(dataloader, (list, tuple)):\n",
    "            dataloader = [dataloader]\n",
    "        else:\n",
    "            dataloader = [dl for dl in dataloader if dl is not None]\n",
    "        data_iter = itertools.chain(*dataloader)\n",
    "        pbar = tqdm(\n",
    "            data_iter,\n",
    "            total=sum(len(dl) for dl in dataloader),\n",
    "            dynamic_ncols=True,\n",
    "        )\n",
    "```\n",
    "\n",
    "則在你輸入一個包含很多 dataloaders 的 list 的時候，幫你把這些 dataloaders 給串起來。"
   ]
  },
  {
   "cell_type": "markdown",
   "metadata": {},
   "source": [
    "## Example \n",
    "\n",
    "這邊我們來實作適用於 [TorchMetrics](https://lightning.ai/docs/torchmetrics/stable/pages/quickstart.html) 的 Validator。 <br>\n",
    "我們配合 TorchMetrics 的 API，把計算分數的函數放在 Validator 中對應的位置。 <br>\n",
    "我們以 `# >> Modified` 表示修改的地方。"
   ]
  },
  {
   "cell_type": "code",
   "execution_count": 10,
   "metadata": {},
   "outputs": [],
   "source": [
    "import sys\n",
    "from pathlib import Path\n",
    "sys.path.append(str(Path.cwd().parent))\n",
    "\n",
    "import torch\n",
    "import torchmetrics\n",
    "import itertools\n",
    "from tqdm.auto import tqdm\n",
    "from modules.base.validator import BaseValidator\n",
    "\n",
    "class CustomValidator(BaseValidator):\n",
    "    def validation(self, module, dataloader, global_step=None):\n",
    "\n",
    "        module.eval()\n",
    "        module.to(self.device)\n",
    "\n",
    "        if not isinstance(dataloader, (list, tuple)):\n",
    "            dataloader = [dataloader]\n",
    "        else:\n",
    "            dataloader = [dl for dl in dataloader if dl is not None]\n",
    "        data_iter = itertools.chain(*dataloader)\n",
    "        pbar = tqdm(\n",
    "            data_iter,\n",
    "            total=sum(len(dl) for dl in dataloader),\n",
    "            dynamic_ncols=True,\n",
    "        )\n",
    "\n",
    "        with torch.no_grad():\n",
    "            for batch in pbar:\n",
    "                # Infer, decollate data into list of samples, and postprocess both predictions and labels\n",
    "                images, targets = self.unpack_item(batch)\n",
    "\n",
    "                # Get inferred / forwarded results of module\n",
    "                if getattr(module, \"inference\", False) and self.output_infer:\n",
    "                    infer_out = module.inference(images)\n",
    "                else:\n",
    "                    infer_out = module.forward(images)\n",
    "\n",
    "                # Compute validation metrics\n",
    "                batch_metric = self.metric(infer_out, targets).item() # >> Modified\n",
    "\n",
    "                # Update progressbar\n",
    "                info = {\n",
    "                    \"metric_name\": self.metric.__class__.__name__,\n",
    "                    \"batch_metric\": batch_metric,\n",
    "                    \"global_step\": global_step,\n",
    "                }\n",
    "                desc = self.pbar_description.format(**info)\n",
    "                pbar.set_description(desc)\n",
    "\n",
    "        output = self.metric.compute() # >> Modified\n",
    "        self.metric.reset() # >> Modified\n",
    "        return output"
   ]
  },
  {
   "cell_type": "code",
   "execution_count": 7,
   "metadata": {},
   "outputs": [
    {
     "name": "stdout",
     "output_type": "stream",
     "text": [
      "Train:\n",
      "--------\n",
      "Device: cuda\n",
      "# of Training Samples: 211\n",
      "# of Validation Samples: 47\n",
      "Max iteration: 1000 steps (validates per 334 steps)\n",
      "Checkpoint directory: ./checkpoints/\n",
      "Evaluation metric: MulticlassAccuracy\n",
      "--------\n"
     ]
    },
    {
     "data": {
      "application/vnd.jupyter.widget-view+json": {
       "model_id": "4c8b48381cdf49cfa0358c0b90741d95",
       "version_major": 2,
       "version_minor": 0
      },
      "text/plain": [
       "  0%|          | 0/1000 [00:00<?, ?it/s]"
      ]
     },
     "metadata": {},
     "output_type": "display_data"
    },
    {
     "data": {
      "application/vnd.jupyter.widget-view+json": {
       "model_id": "23d2c39e49c1404ab6e61a7ff8f8a87d",
       "version_major": 2,
       "version_minor": 0
      },
      "text/plain": [
       "  0%|          | 0/47 [00:00<?, ?it/s]"
      ]
     },
     "metadata": {},
     "output_type": "display_data"
    },
    {
     "name": "stdout",
     "output_type": "stream",
     "text": [
      "\u001b[32m2024-08-19 16:08:34.109\u001b[0m | \u001b[32m\u001b[1mSUCCESS \u001b[0m | \u001b[36mmodules.base.trainer\u001b[0m:\u001b[36msuccess\u001b[0m:\u001b[36m71\u001b[0m - \u001b[32m\u001b[1mModel saved! Validation: (New) 0.81783 > (Old) 0.00000\u001b[0m\n"
     ]
    },
    {
     "data": {
      "application/vnd.jupyter.widget-view+json": {
       "model_id": "376de1c7624546178bf5853d49ac9e6c",
       "version_major": 2,
       "version_minor": 0
      },
      "text/plain": [
       "  0%|          | 0/47 [00:00<?, ?it/s]"
      ]
     },
     "metadata": {},
     "output_type": "display_data"
    },
    {
     "name": "stdout",
     "output_type": "stream",
     "text": [
      "\u001b[32m2024-08-19 16:08:46.299\u001b[0m | \u001b[32m\u001b[1mSUCCESS \u001b[0m | \u001b[36mmodules.base.trainer\u001b[0m:\u001b[36msuccess\u001b[0m:\u001b[36m71\u001b[0m - \u001b[32m\u001b[1mModel saved! Validation: (New) 0.90783 > (Old) 0.81783\u001b[0m\n"
     ]
    },
    {
     "data": {
      "application/vnd.jupyter.widget-view+json": {
       "model_id": "de90a8d7bf28490cb61791855f778c9a",
       "version_major": 2,
       "version_minor": 0
      },
      "text/plain": [
       "  0%|          | 0/47 [00:00<?, ?it/s]"
      ]
     },
     "metadata": {},
     "output_type": "display_data"
    },
    {
     "name": "stdout",
     "output_type": "stream",
     "text": [
      "\u001b[32m2024-08-19 16:08:58.429\u001b[0m | \u001b[32m\u001b[1mSUCCESS \u001b[0m | \u001b[36mmodules.base.trainer\u001b[0m:\u001b[36msuccess\u001b[0m:\u001b[36m71\u001b[0m - \u001b[32m\u001b[1mModel saved! Validation: (New) 0.92933 > (Old) 0.90783\u001b[0m\n",
      "\n",
      " Test:\n"
     ]
    },
    {
     "data": {
      "application/vnd.jupyter.widget-view+json": {
       "model_id": "c04aeb8a8b694cf49bb8cebf21f10bfe",
       "version_major": 2,
       "version_minor": 0
      },
      "text/plain": [
       "  0%|          | 0/79 [00:00<?, ?it/s]"
      ]
     },
     "metadata": {},
     "output_type": "display_data"
    },
    {
     "data": {
      "text/plain": [
       "tensor(0.9376, device='cuda:0')"
      ]
     },
     "execution_count": 7,
     "metadata": {},
     "output_type": "execute_result"
    }
   ],
   "source": [
    "import sys\n",
    "from pathlib import Path\n",
    "sys.path.append(str(Path.cwd().parent))\n",
    "\n",
    "from modules.base.trainer import BaseTrainer\n",
    "from modules.base.updater import BaseUpdater\n",
    "from modules.base.validator import BaseValidator\n",
    "\n",
    "from torch import nn\n",
    "from mnist_dataloaders import train_dataloader, val_dataloader, test_dataloader\n",
    "from lenet import LeNet5,  batch_acc\n",
    "\n",
    "validator = CustomValidator(metric=torchmetrics.classification.Accuracy(task=\"multiclass\", num_classes=10).to(\"cuda\"))\n",
    "updater = BaseUpdater()\n",
    "trainer = BaseTrainer(max_iter=1000, eval_step=334, validator=validator)\n",
    "\n",
    "\n",
    "# train\n",
    "print(\"Train:\")\n",
    "lenet = LeNet5().cuda()\n",
    "trainer.train(module=lenet, updater=updater, train_dataloader=train_dataloader, val_dataloader=val_dataloader)\n",
    "\n",
    "# test\n",
    "print(\"\\n Test:\")\n",
    "lenet.load(\"./checkpoints\")\n",
    "validator.validation(module=lenet, dataloader=test_dataloader)"
   ]
  },
  {
   "cell_type": "markdown",
   "metadata": {},
   "source": [
    "完成。"
   ]
  }
 ],
 "metadata": {
  "kernelspec": {
   "display_name": "env-py39",
   "language": "python",
   "name": "python3"
  },
  "language_info": {
   "codemirror_mode": {
    "name": "ipython",
    "version": 3
   },
   "file_extension": ".py",
   "mimetype": "text/x-python",
   "name": "python",
   "nbconvert_exporter": "python",
   "pygments_lexer": "ipython3",
   "version": "3.9.19"
  }
 },
 "nbformat": 4,
 "nbformat_minor": 2
}
