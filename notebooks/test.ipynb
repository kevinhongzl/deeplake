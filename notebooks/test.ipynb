{
 "cells": [
  {
   "cell_type": "markdown",
   "id": "a7ff2bed-2ef5-4cde-8ec9-47eb95513ee5",
   "metadata": {},
   "source": [
    "# Visualize trained network using Grad-CAM"
   ]
  },
  {
   "cell_type": "code",
   "execution_count": 1,
   "id": "0bf32e42-2fca-4e0b-bea4-c519216deb30",
   "metadata": {},
   "outputs": [
    {
     "name": "stdout",
     "output_type": "stream",
     "text": [
      "c:\\Users\\User\\Desktop\\Kevin\\Partial-DANN\n"
     ]
    },
    {
     "name": "stderr",
     "output_type": "stream",
     "text": [
      "c:\\Users\\User\\miniconda3\\envs\\uxnet3d\\lib\\site-packages\\monai\\utils\\deprecate_utils.py:321: FutureWarning: monai.transforms.croppad.dictionary CropForegroundd.__init__:allow_smaller: Current default value of argument `allow_smaller=True` has been deprecated since version 1.2. It will be changed to `allow_smaller=False` in version 1.5.\n",
      "  warn_deprecated(argname, msg, warning_category)\n"
     ]
    }
   ],
   "source": [
    "import os\n",
    "os.chdir(\"..\")\n",
    "print(os.getcwd())\n",
    "from main import *"
   ]
  },
  {
   "cell_type": "markdown",
   "id": "1f45215b-57d6-4e9b-8a70-ac15f72010b4",
   "metadata": {},
   "source": [
    "## Hyperparameters"
   ]
  },
  {
   "cell_type": "code",
   "execution_count": 2,
   "id": "938c8ac4-55fa-4c0f-9575-bc2abc5d824f",
   "metadata": {},
   "outputs": [],
   "source": [
    "class Args:\n",
    "    # Data\n",
    "    dataset = \"smat\"\n",
    "    modality = \"ct+mr\"\n",
    "    partially_labelled = True\n",
    "    holdout_ratio = 0.1\n",
    "    mode = \"train\"\n",
    "    \n",
    "    # Module\n",
    "    module = \"dann\" \n",
    "    pretrained = None\n",
    "    batch_size = 1\n",
    "    loss = \"tal\"\n",
    "    lr = 0.001\n",
    "    optim = \"AdamW\"\n",
    "    max_iter = 10000\n",
    "    eval_step = 1000\n",
    "    \n",
    "    # Development\n",
    "    deterministic = False\n",
    "    alpha = False\n",
    "    beta = False\n",
    "    \n",
    "    # Efficiency\n",
    "    cache_rate = 0.1\n",
    "    num_workers = 2"
   ]
  },
  {
   "cell_type": "markdown",
   "id": "986f01d3-db4b-470a-99ee-956f3bcab759",
   "metadata": {},
   "source": [
    "## Read data & Load Module from checkpoint\n",
    "The code may be obsolete since it may not be updated along development. Thus, copy the code from the `main.py` if any error occurs."
   ]
  },
  {
   "cell_type": "code",
   "execution_count": 3,
   "id": "17a8be91-a238-4c3d-8227-0671c3b3be61",
   "metadata": {},
   "outputs": [],
   "source": [
    "config = configparser.ConfigParser()\n",
    "config.read(\"./config.ini\")\n",
    "args = Args()\n",
    "\n",
    "## Parameters\n",
    "# Data\n",
    "root = \"C:\\\\Users\\\\User\\\\Desktop\\\\smat\"\n",
    "output = config[\"path\"][\"output\"]\n",
    "debug = config[\"path\"][\"debug\"]\n",
    "dataset = args.dataset\n",
    "modality = args.modality  # {\"ct\", \"mr\", \"ct+mr\"}\n",
    "partially_labelled = args.partially_labelled  # {True, False}\n",
    "holdout_ratio = args.holdout_ratio\n",
    "mode = args.mode  # {\"train\", \"test\"}\n",
    "\n",
    "# Module\n",
    "module_name = args.module  # {\"segmentation\", \"dann\"}\n",
    "pretrained = args.pretrained\n",
    "batch_size = args.batch_size\n",
    "loss = args.loss  # {\"dice2\", \"tal\"}\n",
    "lr = args.lr\n",
    "optim = args.optim\n",
    "max_iter = args.max_iter\n",
    "eval_step = args.eval_step\n",
    "\n",
    "# Development\n",
    "deterministic = args.deterministic\n",
    "alpha = args.alpha\n",
    "beta = args.beta\n",
    "\n",
    "# Efficiency\n",
    "cache_rate = args.cache_rate\n",
    "num_workers = args.num_workers\n",
    "\n",
    "## Configurations: data_info and mod_init\n",
    "data_info = datasets[dataset]\n",
    "mod_init = modules[module_name][\"initializer\"]"
   ]
  },
  {
   "cell_type": "code",
   "execution_count": 4,
   "id": "cd8bbca3-a087-4e91-96db-ce94fab22d1a",
   "metadata": {},
   "outputs": [
    {
     "name": "stdout",
     "output_type": "stream",
     "text": [
      "root dir: C:\\Users\\User\\Desktop\\smat\n",
      "checkpoint dir: ./checkpoints\n",
      "\n",
      "dataset info:\n"
     ]
    },
    {
     "data": {
      "text/plain": [
       "{'name': 'SMAT',\n",
       " 'class': medaset.lake.SMATDataset,\n",
       " 'train_transforms': None,\n",
       " 'val_transforms': None,\n",
       " 'fg': {'ct': [3], 'mr': [1, 2]},\n",
       " 'bg': {'ct': {1: 0, 2: 0}, 'mr': {3: 0}}}"
      ]
     },
     "metadata": {},
     "output_type": "display_data"
    }
   ],
   "source": [
    "print(\"root dir:\", root)\n",
    "print(\"checkpoint dir:\", output)\n",
    "print(\"\\ndataset info:\")\n",
    "display(data_info)"
   ]
  },
  {
   "cell_type": "code",
   "execution_count": 5,
   "id": "d2fbc3a5-1639-4e0c-bd2b-6747b5325a19",
   "metadata": {},
   "outputs": [
    {
     "name": "stderr",
     "output_type": "stream",
     "text": [
      "c:\\users\\user\\desktop\\kevin\\medaset\\src\\medaset\\lake.py:115: UserWarning: Some images are removed due to the lack of associated label: ['SMAT_CT_010', 'SMAT_CT_011', 'SMAT_CT_016', 'SMAT_CT_040', 'SMAT_CT_047', 'SMAT_CT_049', 'SMAT_CT_055', 'SMAT_CT_095', 'SMAT_CT_123', 'SMAT_CT_135', 'SMAT_CT_139']\n",
      "  warnings.warn(\n"
     ]
    },
    {
     "name": "stdout",
     "output_type": "stream",
     "text": [
      "** Dataset = SMAT\n",
      "** Modality = ct+mr\n",
      "** Validation split ratio = 0.1\n",
      "** Partially Labelled = True\n",
      "** Foreground =\n",
      "  - ct: [3] \n",
      "  - mr: [1, 2]\n"
     ]
    },
    {
     "name": "stderr",
     "output_type": "stream",
     "text": [
      "Loading dataset: 100%|██████████| 11/11 [00:00<?, ?it/s]\n",
      "Loading dataset: 100%|██████████| 11/11 [00:00<?, ?it/s]\n",
      "Loading dataset: 100%|██████████| 1/1 [00:00<?, ?it/s]\n",
      "Loading dataset: 100%|██████████| 9/9 [00:00<?, ?it/s]\n",
      "Loading dataset: 100%|██████████| 9/9 [00:00<?, ?it/s]\n",
      "Loading dataset: 100%|██████████| 1/1 [00:00<00:00, 1001.51it/s]"
     ]
    },
    {
     "name": "stdout",
     "output_type": "stream",
     "text": [
      "** # of Training data = {'ct': 101, 'mr': 89}\n",
      "** # of Validation data = {'ct': 11, 'mr': 9}\n",
      "** # of Testing data = {'ct': 14, 'mr': 11}\n"
     ]
    },
    {
     "name": "stderr",
     "output_type": "stream",
     "text": [
      "\n"
     ]
    }
   ],
   "source": [
    "train_dataset, val_dataset, test_dataset = get_datasets(\n",
    "    data_info=data_info,\n",
    "    modality=modality,\n",
    "    holdout_ratio=holdout_ratio,\n",
    "    partially_labelled=partially_labelled,\n",
    "    root_dir=root,\n",
    "    cache_rate=cache_rate,\n",
    "    num_workers=num_workers,\n",
    "    dev=alpha,\n",
    ")\n",
    "train_dataloader, val_dataloader, test_dataloader = mod_init.init_dataloaders(\n",
    "    train_dataset, val_dataset, test_dataset, batch_size, alpha\n",
    ")"
   ]
  },
  {
   "cell_type": "code",
   "execution_count": null,
   "id": "08620395-bd2b-42b4-903b-8937b57643b1",
   "metadata": {},
   "outputs": [],
   "source": [
    "module = mod_init.init_module(\n",
    "    out_channels=data_info[\"num_classes\"],\n",
    "    loss=loss,\n",
    "    optim=optim,\n",
    "    lr=lr,\n",
    "    data_info=data_info,\n",
    "    modality=modality,\n",
    "    partially_labelled=partially_labelled,\n",
    "    device=device,\n",
    ")\n",
    "if pretrained:\n",
    "    print(\"** Pretrained checkpoint =\", pretrained)\n",
    "    module.load(pretrained)\n",
    "module = module.to(device)\n",
    "module = module.eval()\n",
    "iterator = iter(test_dataloader[0])"
   ]
  },
  {
   "cell_type": "code",
   "execution_count": null,
   "id": "09a8f691-0d05-4c22-8740-de567cc615be",
   "metadata": {},
   "outputs": [],
   "source": []
  }
 ],
 "metadata": {
  "kernelspec": {
   "display_name": "Python 3 (ipykernel)",
   "language": "python",
   "name": "python3"
  },
  "language_info": {
   "codemirror_mode": {
    "name": "ipython",
    "version": 3
   },
   "file_extension": ".py",
   "mimetype": "text/x-python",
   "name": "python",
   "nbconvert_exporter": "python",
   "pygments_lexer": "ipython3",
   "version": "3.8.17"
  },
  "widgets": {
   "application/vnd.jupyter.widget-state+json": {
    "state": {},
    "version_major": 2,
    "version_minor": 0
   }
  }
 },
 "nbformat": 4,
 "nbformat_minor": 5
}
