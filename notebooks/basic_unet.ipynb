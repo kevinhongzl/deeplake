{
 "cells": [
  {
   "cell_type": "code",
   "execution_count": 1,
   "id": "e1b05740-4b76-43fc-ba9b-5cb4f3e3545e",
   "metadata": {},
   "outputs": [
    {
     "name": "stdout",
     "output_type": "stream",
     "text": [
      "C:\\Users\\User\\Desktop\\Kevin\\Partial-DANN\n"
     ]
    }
   ],
   "source": [
    "# cwd = Partial-DANN/\n",
    "import os\n",
    "os.chdir(\"..\")\n",
    "print(os.getcwd())\n",
    "from main import *"
   ]
  },
  {
   "cell_type": "code",
   "execution_count": 2,
   "id": "40c00363-ee1a-41db-959c-9955ad47c163",
   "metadata": {},
   "outputs": [],
   "source": [
    "config = configparser.ConfigParser()\n",
    "config.read(\"./config.ini\")\n",
    "\n",
    "# Data\n",
    "root = config[\"path\"][\"root\"]\n",
    "output = config[\"path\"][\"output\"]\n",
    "debug = config[\"path\"][\"debug\"]\n",
    "dataset = datasets[\"simple_amos\"]\n",
    "modality = \"ct+mr:balance\"\n",
    "masked = True\n",
    "train_data = \"split\"\n",
    "mode = \"train\"\n",
    "\n",
    "# Module\n",
    "module_name = \"segmentation\"\n",
    "pretrained = None\n",
    "batch_size = 1\n",
    "loss = \"dice2\"\n",
    "lr = 0.001\n",
    "optim = \"Adam\"\n",
    "max_iter = 10000\n",
    "eval_step = 100\n",
    "\n",
    "# Efficiency\n",
    "deterministic = False\n",
    "dev = False\n",
    "cache_rate = 0.1\n",
    "num_workers = 2"
   ]
  },
  {
   "cell_type": "code",
   "execution_count": 3,
   "id": "6523be00-49d3-4830-90a2-2a9cb1de7cfb",
   "metadata": {},
   "outputs": [
    {
     "name": "stdout",
     "output_type": "stream",
     "text": [
      "root dir: C:/Users/User/Desktop/TSM_Project/data/amos22\n",
      "checkpoint dir: ./checkpoints\n",
      "\n",
      "dataset info:\n"
     ]
    },
    {
     "data": {
      "text/plain": [
       "{'name': 'SIMPLE_AMOS',\n",
       " 'class': medaset.amos.SimpleAMOSDataset,\n",
       " 'train_transforms': <monai.transforms.compose.Compose at 0x2a5055d5610>,\n",
       " 'val_transforms': <monai.transforms.compose.Compose at 0x2a5055e00a0>,\n",
       " 'num_classes': 9,\n",
       " 'fg': {'ct': [1, 3, 5, 7], 'mr': [2, 4, 6, 8]},\n",
       " 'bg': {'ct': {2: 0, 4: 0, 6: 0, 8: 0}, 'mr': {1: 0, 3: 0, 5: 0, 7: 0}}}"
      ]
     },
     "metadata": {},
     "output_type": "display_data"
    }
   ],
   "source": [
    "print(\"root dir:\", root)\n",
    "print(\"checkpoint dir:\", output)\n",
    "print(\"\\ndataset info:\")\n",
    "display(dataset)"
   ]
  },
  {
   "cell_type": "code",
   "execution_count": 4,
   "id": "bfa01813-d4b0-4b62-a613-1a5a57f44dff",
   "metadata": {},
   "outputs": [
    {
     "name": "stdout",
     "output_type": "stream",
     "text": [
      "BasicUNet features: (32, 32, 64, 128, 256, 32).\n"
     ]
    }
   ],
   "source": [
    "from networks.unet.unet3d import UNet3DEncoder, UNet3DDecoder\n",
    "from monai.networks.nets import BasicUNet\n",
    "net = BasicUNet(in_channels=1, out_channels=dataset[\"num_classes\"], spatial_dims=3, features=(32, 32, 64, 128, 256, 32))"
   ]
  },
  {
   "cell_type": "code",
   "execution_count": 5,
   "id": "62576e45-e805-4eb2-ba68-2c2b27c4466d",
   "metadata": {},
   "outputs": [
    {
     "name": "stdout",
     "output_type": "stream",
     "text": [
      "** Dataset = SIMPLE_AMOS\n",
      "** Modality = ct+mr:balance\n",
      "** Training set = split\n",
      "** Annotation masked = True\n",
      "** Foreground =\n",
      "  - ct: [1, 3, 5, 7] \n",
      "  - mr: [2, 4, 6, 8]\n"
     ]
    },
    {
     "name": "stderr",
     "output_type": "stream",
     "text": [
      "Loading dataset: 100%|██████████████████████████████████████████████████████████| 20/20 [00:00<?, ?it/s]\n",
      "Loading dataset: 100%|██████████████████████████████████████████████████████████| 20/20 [00:00<?, ?it/s]\n",
      "Loading dataset: 100%|███████████████████████████████████████████████| 10/10 [00:00<00:00, 10029.42it/s]\n",
      "Loading dataset: 100%|████████████████████████████████████████████████████████████| 4/4 [00:00<?, ?it/s]\n",
      "Loading dataset: 100%|████████████████████████████████████████████████████████████| 4/4 [00:00<?, ?it/s]\n",
      "Loading dataset: 100%|████████████████████████████████████████████████████████████| 2/2 [00:00<?, ?it/s]\n"
     ]
    },
    {
     "name": "stdout",
     "output_type": "stream",
     "text": [
      "** Mode = train\n",
      "--------\n",
      "Device: cuda\n",
      "# of Training Samples: 360\n",
      "# of Validation Samples: 40\n",
      "Max iteration: 10000 steps (validates per 100 steps)\n",
      "Checkpoint directory: checkpoints\\20231024-091234\n",
      "Evaluation metric: DiceMetric\n",
      "Module: BasicUNet\n",
      "Optimizer: Adam (lr = 0.001)\n",
      "Loss function: DiceCELoss(\n",
      "  (dice): DiceLoss()\n",
      "  (cross_entropy): CrossEntropyLoss()\n",
      ")\n",
      "--------\n"
     ]
    },
    {
     "data": {
      "application/vnd.jupyter.widget-view+json": {
       "model_id": "bad210e8e2924af8aa531a4bbc07e5b8",
       "version_major": 2,
       "version_minor": 0
      },
      "text/plain": [
       "  0%|                                                                         | 0/10000 [00:00<?, ?it/s]"
      ]
     },
     "metadata": {},
     "output_type": "display_data"
    },
    {
     "data": {
      "application/vnd.jupyter.widget-view+json": {
       "model_id": "d1852ce057e943b094af4cee473800b5",
       "version_major": 2,
       "version_minor": 0
      },
      "text/plain": [
       "  0%|                                                                            | 0/40 [00:00<?, ?it/s]"
      ]
     },
     "metadata": {},
     "output_type": "display_data"
    },
    {
     "name": "stdout",
     "output_type": "stream",
     "text": [
      "Model saved! Validation: (New) 0.2083843 > (Old) 0.0000000\n"
     ]
    },
    {
     "data": {
      "application/vnd.jupyter.widget-view+json": {
       "model_id": "66b2d728ad3a42e2a00f36843f3462c8",
       "version_major": 2,
       "version_minor": 0
      },
      "text/plain": [
       "  0%|                                                                            | 0/40 [00:00<?, ?it/s]"
      ]
     },
     "metadata": {},
     "output_type": "display_data"
    },
    {
     "name": "stdout",
     "output_type": "stream",
     "text": [
      "No improvement. Validation: (New) 0.1968512 <= (Old) 0.2083843\n"
     ]
    },
    {
     "data": {
      "application/vnd.jupyter.widget-view+json": {
       "model_id": "d4e3b7c95af645e5add10c828be9a006",
       "version_major": 2,
       "version_minor": 0
      },
      "text/plain": [
       "  0%|                                                                            | 0/40 [00:00<?, ?it/s]"
      ]
     },
     "metadata": {},
     "output_type": "display_data"
    },
    {
     "name": "stdout",
     "output_type": "stream",
     "text": [
      "No improvement. Validation: (New) 0.1968512 <= (Old) 0.2083843\n"
     ]
    },
    {
     "data": {
      "application/vnd.jupyter.widget-view+json": {
       "model_id": "1939e813866c4b9281f614cd29473430",
       "version_major": 2,
       "version_minor": 0
      },
      "text/plain": [
       "  0%|                                                                            | 0/40 [00:00<?, ?it/s]"
      ]
     },
     "metadata": {},
     "output_type": "display_data"
    },
    {
     "name": "stdout",
     "output_type": "stream",
     "text": [
      "No improvement. Validation: (New) 0.1968512 <= (Old) 0.2083843\n"
     ]
    },
    {
     "data": {
      "application/vnd.jupyter.widget-view+json": {
       "model_id": "8efc991bcf784c898df08098163258be",
       "version_major": 2,
       "version_minor": 0
      },
      "text/plain": [
       "  0%|                                                                            | 0/40 [00:00<?, ?it/s]"
      ]
     },
     "metadata": {},
     "output_type": "display_data"
    },
    {
     "name": "stdout",
     "output_type": "stream",
     "text": [
      "No improvement. Validation: (New) 0.1968512 <= (Old) 0.2083843\n"
     ]
    },
    {
     "data": {
      "application/vnd.jupyter.widget-view+json": {
       "model_id": "2b140f0c66264c2488270f6d3ec8c1ea",
       "version_major": 2,
       "version_minor": 0
      },
      "text/plain": [
       "  0%|                                                                            | 0/40 [00:00<?, ?it/s]"
      ]
     },
     "metadata": {},
     "output_type": "display_data"
    },
    {
     "name": "stdout",
     "output_type": "stream",
     "text": [
      "No improvement. Validation: (New) 0.2076249 <= (Old) 0.2083843\n"
     ]
    },
    {
     "data": {
      "application/vnd.jupyter.widget-view+json": {
       "model_id": "9052291daf9748aa9134335035e0154c",
       "version_major": 2,
       "version_minor": 0
      },
      "text/plain": [
       "  0%|                                                                            | 0/40 [00:00<?, ?it/s]"
      ]
     },
     "metadata": {},
     "output_type": "display_data"
    },
    {
     "name": "stdout",
     "output_type": "stream",
     "text": [
      "Model saved! Validation: (New) 0.2281287 > (Old) 0.2083843\n"
     ]
    },
    {
     "data": {
      "application/vnd.jupyter.widget-view+json": {
       "model_id": "64ddfd608fd9436f85abce0da26073a0",
       "version_major": 2,
       "version_minor": 0
      },
      "text/plain": [
       "  0%|                                                                            | 0/40 [00:00<?, ?it/s]"
      ]
     },
     "metadata": {},
     "output_type": "display_data"
    },
    {
     "name": "stdout",
     "output_type": "stream",
     "text": [
      "Model saved! Validation: (New) 0.2383507 > (Old) 0.2281287\n"
     ]
    },
    {
     "data": {
      "application/vnd.jupyter.widget-view+json": {
       "model_id": "62439c9730c545c8a8c1203534f5f633",
       "version_major": 2,
       "version_minor": 0
      },
      "text/plain": [
       "  0%|                                                                            | 0/40 [00:00<?, ?it/s]"
      ]
     },
     "metadata": {},
     "output_type": "display_data"
    },
    {
     "name": "stdout",
     "output_type": "stream",
     "text": [
      "No improvement. Validation: (New) 0.2161557 <= (Old) 0.2383507\n"
     ]
    },
    {
     "data": {
      "application/vnd.jupyter.widget-view+json": {
       "model_id": "720e7ee5effd4b1f802aa342b1ddbcfb",
       "version_major": 2,
       "version_minor": 0
      },
      "text/plain": [
       "  0%|                                                                            | 0/40 [00:00<?, ?it/s]"
      ]
     },
     "metadata": {},
     "output_type": "display_data"
    },
    {
     "name": "stdout",
     "output_type": "stream",
     "text": [
      "No improvement. Validation: (New) 0.2216367 <= (Old) 0.2383507\n"
     ]
    },
    {
     "data": {
      "application/vnd.jupyter.widget-view+json": {
       "model_id": "8e361d3f10694bffb2e60f5ef37f7816",
       "version_major": 2,
       "version_minor": 0
      },
      "text/plain": [
       "  0%|                                                                            | 0/40 [00:00<?, ?it/s]"
      ]
     },
     "metadata": {},
     "output_type": "display_data"
    },
    {
     "name": "stdout",
     "output_type": "stream",
     "text": [
      "No improvement. Validation: (New) 0.2089673 <= (Old) 0.2383507\n"
     ]
    },
    {
     "data": {
      "application/vnd.jupyter.widget-view+json": {
       "model_id": "fbaac5d44c284fd39ea421cc8db7bcf9",
       "version_major": 2,
       "version_minor": 0
      },
      "text/plain": [
       "  0%|                                                                            | 0/40 [00:00<?, ?it/s]"
      ]
     },
     "metadata": {},
     "output_type": "display_data"
    },
    {
     "name": "stdout",
     "output_type": "stream",
     "text": [
      "Model saved! Validation: (New) 0.2593935 > (Old) 0.2383507\n"
     ]
    },
    {
     "data": {
      "application/vnd.jupyter.widget-view+json": {
       "model_id": "dea11dd120014dc7be59479c159729f0",
       "version_major": 2,
       "version_minor": 0
      },
      "text/plain": [
       "  0%|                                                                            | 0/40 [00:00<?, ?it/s]"
      ]
     },
     "metadata": {},
     "output_type": "display_data"
    },
    {
     "name": "stdout",
     "output_type": "stream",
     "text": [
      "No improvement. Validation: (New) 0.2575138 <= (Old) 0.2593935\n"
     ]
    },
    {
     "data": {
      "application/vnd.jupyter.widget-view+json": {
       "model_id": "1a0cc88d167945d7a2632ffca634cfae",
       "version_major": 2,
       "version_minor": 0
      },
      "text/plain": [
       "  0%|                                                                            | 0/40 [00:00<?, ?it/s]"
      ]
     },
     "metadata": {},
     "output_type": "display_data"
    },
    {
     "name": "stdout",
     "output_type": "stream",
     "text": [
      "Model saved! Validation: (New) 0.2630083 > (Old) 0.2593935\n"
     ]
    },
    {
     "data": {
      "application/vnd.jupyter.widget-view+json": {
       "model_id": "9a3f607e8d344c298b1cc8e9336b8eee",
       "version_major": 2,
       "version_minor": 0
      },
      "text/plain": [
       "  0%|                                                                            | 0/40 [00:00<?, ?it/s]"
      ]
     },
     "metadata": {},
     "output_type": "display_data"
    },
    {
     "name": "stdout",
     "output_type": "stream",
     "text": [
      "No improvement. Validation: (New) 0.2597463 <= (Old) 0.2630083\n"
     ]
    },
    {
     "data": {
      "application/vnd.jupyter.widget-view+json": {
       "model_id": "f9ecf77fc3b44c9ca28938f8ebe12756",
       "version_major": 2,
       "version_minor": 0
      },
      "text/plain": [
       "  0%|                                                                            | 0/40 [00:00<?, ?it/s]"
      ]
     },
     "metadata": {},
     "output_type": "display_data"
    },
    {
     "name": "stdout",
     "output_type": "stream",
     "text": [
      "No improvement. Validation: (New) 0.2589073 <= (Old) 0.2630083\n"
     ]
    },
    {
     "data": {
      "application/vnd.jupyter.widget-view+json": {
       "model_id": "7003c0f04c5b44fbb4f972e90b19aa17",
       "version_major": 2,
       "version_minor": 0
      },
      "text/plain": [
       "  0%|                                                                            | 0/40 [00:00<?, ?it/s]"
      ]
     },
     "metadata": {},
     "output_type": "display_data"
    },
    {
     "name": "stdout",
     "output_type": "stream",
     "text": [
      "No improvement. Validation: (New) 0.2595770 <= (Old) 0.2630083\n"
     ]
    },
    {
     "data": {
      "application/vnd.jupyter.widget-view+json": {
       "model_id": "9aa992fcb7e84c69aa491844d5a39730",
       "version_major": 2,
       "version_minor": 0
      },
      "text/plain": [
       "  0%|                                                                            | 0/40 [00:00<?, ?it/s]"
      ]
     },
     "metadata": {},
     "output_type": "display_data"
    },
    {
     "name": "stdout",
     "output_type": "stream",
     "text": [
      "Model saved! Validation: (New) 0.2696349 > (Old) 0.2630083\n"
     ]
    },
    {
     "data": {
      "application/vnd.jupyter.widget-view+json": {
       "model_id": "e89117ac2ebe4dce85a5e92da026e3bc",
       "version_major": 2,
       "version_minor": 0
      },
      "text/plain": [
       "  0%|                                                                            | 0/40 [00:00<?, ?it/s]"
      ]
     },
     "metadata": {},
     "output_type": "display_data"
    },
    {
     "name": "stdout",
     "output_type": "stream",
     "text": [
      "No improvement. Validation: (New) 0.2575706 <= (Old) 0.2696349\n"
     ]
    },
    {
     "data": {
      "application/vnd.jupyter.widget-view+json": {
       "model_id": "21f012210f1547e4b7ba8c2bbabdd91e",
       "version_major": 2,
       "version_minor": 0
      },
      "text/plain": [
       "  0%|                                                                            | 0/40 [00:00<?, ?it/s]"
      ]
     },
     "metadata": {},
     "output_type": "display_data"
    },
    {
     "name": "stdout",
     "output_type": "stream",
     "text": [
      "No improvement. Validation: (New) 0.2696100 <= (Old) 0.2696349\n"
     ]
    },
    {
     "data": {
      "application/vnd.jupyter.widget-view+json": {
       "model_id": "17944162095f4cbc9c75ba0f8c2da41f",
       "version_major": 2,
       "version_minor": 0
      },
      "text/plain": [
       "  0%|                                                                            | 0/40 [00:00<?, ?it/s]"
      ]
     },
     "metadata": {},
     "output_type": "display_data"
    },
    {
     "name": "stdout",
     "output_type": "stream",
     "text": [
      "Model saved! Validation: (New) 0.2739233 > (Old) 0.2696349\n"
     ]
    },
    {
     "data": {
      "application/vnd.jupyter.widget-view+json": {
       "model_id": "995af0cbb5944988a2611daf8ea11cb8",
       "version_major": 2,
       "version_minor": 0
      },
      "text/plain": [
       "  0%|                                                                            | 0/40 [00:00<?, ?it/s]"
      ]
     },
     "metadata": {},
     "output_type": "display_data"
    },
    {
     "name": "stdout",
     "output_type": "stream",
     "text": [
      "No improvement. Validation: (New) 0.2356536 <= (Old) 0.2739233\n"
     ]
    },
    {
     "data": {
      "application/vnd.jupyter.widget-view+json": {
       "model_id": "4f4d757b4f3b4fdaa7a47b1a4d56fdcd",
       "version_major": 2,
       "version_minor": 0
      },
      "text/plain": [
       "  0%|                                                                            | 0/40 [00:00<?, ?it/s]"
      ]
     },
     "metadata": {},
     "output_type": "display_data"
    },
    {
     "name": "stdout",
     "output_type": "stream",
     "text": [
      "Model saved! Validation: (New) 0.3003228 > (Old) 0.2739233\n"
     ]
    },
    {
     "data": {
      "application/vnd.jupyter.widget-view+json": {
       "model_id": "42657bfaf6254cba8fd349f6c5f43a15",
       "version_major": 2,
       "version_minor": 0
      },
      "text/plain": [
       "  0%|                                                                            | 0/40 [00:00<?, ?it/s]"
      ]
     },
     "metadata": {},
     "output_type": "display_data"
    },
    {
     "name": "stdout",
     "output_type": "stream",
     "text": [
      "Model saved! Validation: (New) 0.3136582 > (Old) 0.3003228\n"
     ]
    },
    {
     "data": {
      "application/vnd.jupyter.widget-view+json": {
       "model_id": "af084485f41e4aa1820ee06092d7cf5e",
       "version_major": 2,
       "version_minor": 0
      },
      "text/plain": [
       "  0%|                                                                            | 0/40 [00:00<?, ?it/s]"
      ]
     },
     "metadata": {},
     "output_type": "display_data"
    },
    {
     "name": "stdout",
     "output_type": "stream",
     "text": [
      "No improvement. Validation: (New) 0.2801328 <= (Old) 0.3136582\n"
     ]
    },
    {
     "data": {
      "application/vnd.jupyter.widget-view+json": {
       "model_id": "0d045c914a4b47b3a4e3a724807aee51",
       "version_major": 2,
       "version_minor": 0
      },
      "text/plain": [
       "  0%|                                                                            | 0/40 [00:00<?, ?it/s]"
      ]
     },
     "metadata": {},
     "output_type": "display_data"
    },
    {
     "name": "stdout",
     "output_type": "stream",
     "text": [
      "No improvement. Validation: (New) 0.2852536 <= (Old) 0.3136582\n"
     ]
    },
    {
     "data": {
      "application/vnd.jupyter.widget-view+json": {
       "model_id": "dae76e0d206f42409081e40f67c25eeb",
       "version_major": 2,
       "version_minor": 0
      },
      "text/plain": [
       "  0%|                                                                            | 0/40 [00:00<?, ?it/s]"
      ]
     },
     "metadata": {},
     "output_type": "display_data"
    },
    {
     "name": "stdout",
     "output_type": "stream",
     "text": [
      "Model saved! Validation: (New) 0.3331242 > (Old) 0.3136582\n"
     ]
    },
    {
     "data": {
      "application/vnd.jupyter.widget-view+json": {
       "model_id": "3c1f641ab0e14a9ba22773ec72f18830",
       "version_major": 2,
       "version_minor": 0
      },
      "text/plain": [
       "  0%|                                                                            | 0/40 [00:00<?, ?it/s]"
      ]
     },
     "metadata": {},
     "output_type": "display_data"
    },
    {
     "name": "stdout",
     "output_type": "stream",
     "text": [
      "No improvement. Validation: (New) 0.2909249 <= (Old) 0.3331242\n"
     ]
    },
    {
     "data": {
      "application/vnd.jupyter.widget-view+json": {
       "model_id": "8e40b4493c7f4c85876b7befdaea5110",
       "version_major": 2,
       "version_minor": 0
      },
      "text/plain": [
       "  0%|                                                                            | 0/40 [00:00<?, ?it/s]"
      ]
     },
     "metadata": {},
     "output_type": "display_data"
    },
    {
     "name": "stdout",
     "output_type": "stream",
     "text": [
      "No improvement. Validation: (New) 0.3231749 <= (Old) 0.3331242\n"
     ]
    },
    {
     "data": {
      "application/vnd.jupyter.widget-view+json": {
       "model_id": "7fd8d70270424ad6ba7fab5429c1f6c6",
       "version_major": 2,
       "version_minor": 0
      },
      "text/plain": [
       "  0%|                                                                            | 0/40 [00:00<?, ?it/s]"
      ]
     },
     "metadata": {},
     "output_type": "display_data"
    },
    {
     "name": "stdout",
     "output_type": "stream",
     "text": [
      "No improvement. Validation: (New) 0.3158468 <= (Old) 0.3331242\n"
     ]
    },
    {
     "data": {
      "application/vnd.jupyter.widget-view+json": {
       "model_id": "e9a685022f8849e6b2e335246e064d9f",
       "version_major": 2,
       "version_minor": 0
      },
      "text/plain": [
       "  0%|                                                                            | 0/40 [00:00<?, ?it/s]"
      ]
     },
     "metadata": {},
     "output_type": "display_data"
    },
    {
     "name": "stdout",
     "output_type": "stream",
     "text": [
      "No improvement. Validation: (New) 0.2821405 <= (Old) 0.3331242\n"
     ]
    },
    {
     "data": {
      "application/vnd.jupyter.widget-view+json": {
       "model_id": "9e71148ce8254905bcc582a0aa6f6e07",
       "version_major": 2,
       "version_minor": 0
      },
      "text/plain": [
       "  0%|                                                                            | 0/40 [00:00<?, ?it/s]"
      ]
     },
     "metadata": {},
     "output_type": "display_data"
    },
    {
     "name": "stdout",
     "output_type": "stream",
     "text": [
      "Model saved! Validation: (New) 0.3681236 > (Old) 0.3331242\n"
     ]
    },
    {
     "data": {
      "application/vnd.jupyter.widget-view+json": {
       "model_id": "e9b7d94f2dba491c9afdbf69d538832a",
       "version_major": 2,
       "version_minor": 0
      },
      "text/plain": [
       "  0%|                                                                            | 0/40 [00:00<?, ?it/s]"
      ]
     },
     "metadata": {},
     "output_type": "display_data"
    },
    {
     "name": "stdout",
     "output_type": "stream",
     "text": [
      "No improvement. Validation: (New) 0.3292173 <= (Old) 0.3681236\n"
     ]
    },
    {
     "data": {
      "application/vnd.jupyter.widget-view+json": {
       "model_id": "89d88192e82144d2bd3ac048b5b90ded",
       "version_major": 2,
       "version_minor": 0
      },
      "text/plain": [
       "  0%|                                                                            | 0/40 [00:00<?, ?it/s]"
      ]
     },
     "metadata": {},
     "output_type": "display_data"
    },
    {
     "name": "stdout",
     "output_type": "stream",
     "text": [
      "No improvement. Validation: (New) 0.3096041 <= (Old) 0.3681236\n"
     ]
    },
    {
     "data": {
      "application/vnd.jupyter.widget-view+json": {
       "model_id": "4bfdb26d0c5c425fb5038738a65fd509",
       "version_major": 2,
       "version_minor": 0
      },
      "text/plain": [
       "  0%|                                                                            | 0/40 [00:00<?, ?it/s]"
      ]
     },
     "metadata": {},
     "output_type": "display_data"
    },
    {
     "name": "stdout",
     "output_type": "stream",
     "text": [
      "No improvement. Validation: (New) 0.3607286 <= (Old) 0.3681236\n"
     ]
    },
    {
     "data": {
      "application/vnd.jupyter.widget-view+json": {
       "model_id": "90a0f2ccf5ca40768ac742a9dbe5de7f",
       "version_major": 2,
       "version_minor": 0
      },
      "text/plain": [
       "  0%|                                                                            | 0/40 [00:00<?, ?it/s]"
      ]
     },
     "metadata": {},
     "output_type": "display_data"
    },
    {
     "name": "stdout",
     "output_type": "stream",
     "text": [
      "No improvement. Validation: (New) 0.3356979 <= (Old) 0.3681236\n"
     ]
    },
    {
     "data": {
      "application/vnd.jupyter.widget-view+json": {
       "model_id": "56147578f64d4fdb9e2bd53ad7142a42",
       "version_major": 2,
       "version_minor": 0
      },
      "text/plain": [
       "  0%|                                                                            | 0/40 [00:00<?, ?it/s]"
      ]
     },
     "metadata": {},
     "output_type": "display_data"
    },
    {
     "name": "stdout",
     "output_type": "stream",
     "text": [
      "No improvement. Validation: (New) 0.3228893 <= (Old) 0.3681236\n"
     ]
    },
    {
     "data": {
      "application/vnd.jupyter.widget-view+json": {
       "model_id": "8ae32038298a458d97bbf8561460c63d",
       "version_major": 2,
       "version_minor": 0
      },
      "text/plain": [
       "  0%|                                                                            | 0/40 [00:00<?, ?it/s]"
      ]
     },
     "metadata": {},
     "output_type": "display_data"
    },
    {
     "name": "stdout",
     "output_type": "stream",
     "text": [
      "Model saved! Validation: (New) 0.4434363 > (Old) 0.3681236\n"
     ]
    },
    {
     "data": {
      "application/vnd.jupyter.widget-view+json": {
       "model_id": "ce7b2d255a5d40e990c76f80574e93e1",
       "version_major": 2,
       "version_minor": 0
      },
      "text/plain": [
       "  0%|                                                                            | 0/40 [00:00<?, ?it/s]"
      ]
     },
     "metadata": {},
     "output_type": "display_data"
    },
    {
     "name": "stdout",
     "output_type": "stream",
     "text": [
      "No improvement. Validation: (New) 0.4302612 <= (Old) 0.4434363\n"
     ]
    },
    {
     "data": {
      "application/vnd.jupyter.widget-view+json": {
       "model_id": "f39652354d5b4370ab9676bf99aa619e",
       "version_major": 2,
       "version_minor": 0
      },
      "text/plain": [
       "  0%|                                                                            | 0/40 [00:00<?, ?it/s]"
      ]
     },
     "metadata": {},
     "output_type": "display_data"
    },
    {
     "name": "stdout",
     "output_type": "stream",
     "text": [
      "No improvement. Validation: (New) 0.4025128 <= (Old) 0.4434363\n"
     ]
    },
    {
     "data": {
      "application/vnd.jupyter.widget-view+json": {
       "model_id": "cfe9381f75b14e529c9c535b8d984e33",
       "version_major": 2,
       "version_minor": 0
      },
      "text/plain": [
       "  0%|                                                                            | 0/40 [00:00<?, ?it/s]"
      ]
     },
     "metadata": {},
     "output_type": "display_data"
    },
    {
     "name": "stdout",
     "output_type": "stream",
     "text": [
      "No improvement. Validation: (New) 0.4033827 <= (Old) 0.4434363\n"
     ]
    },
    {
     "data": {
      "application/vnd.jupyter.widget-view+json": {
       "model_id": "f9db7e4372b84ed0b4c2f91259b11b2a",
       "version_major": 2,
       "version_minor": 0
      },
      "text/plain": [
       "  0%|                                                                            | 0/40 [00:00<?, ?it/s]"
      ]
     },
     "metadata": {},
     "output_type": "display_data"
    },
    {
     "name": "stdout",
     "output_type": "stream",
     "text": [
      "Model saved! Validation: (New) 0.4670707 > (Old) 0.4434363\n"
     ]
    },
    {
     "data": {
      "application/vnd.jupyter.widget-view+json": {
       "model_id": "1d1c009cd7c64926a6834f6b9b1345ba",
       "version_major": 2,
       "version_minor": 0
      },
      "text/plain": [
       "  0%|                                                                            | 0/40 [00:00<?, ?it/s]"
      ]
     },
     "metadata": {},
     "output_type": "display_data"
    },
    {
     "name": "stdout",
     "output_type": "stream",
     "text": [
      "No improvement. Validation: (New) 0.3411421 <= (Old) 0.4670707\n"
     ]
    },
    {
     "data": {
      "application/vnd.jupyter.widget-view+json": {
       "model_id": "44e007a6f9844723a97d1b59887c6b9f",
       "version_major": 2,
       "version_minor": 0
      },
      "text/plain": [
       "  0%|                                                                            | 0/40 [00:00<?, ?it/s]"
      ]
     },
     "metadata": {},
     "output_type": "display_data"
    },
    {
     "name": "stdout",
     "output_type": "stream",
     "text": [
      "No improvement. Validation: (New) 0.3692501 <= (Old) 0.4670707\n"
     ]
    },
    {
     "data": {
      "application/vnd.jupyter.widget-view+json": {
       "model_id": "f4d8aea4cc4e44c28989d5184272e605",
       "version_major": 2,
       "version_minor": 0
      },
      "text/plain": [
       "  0%|                                                                            | 0/40 [00:00<?, ?it/s]"
      ]
     },
     "metadata": {},
     "output_type": "display_data"
    },
    {
     "name": "stdout",
     "output_type": "stream",
     "text": [
      "No improvement. Validation: (New) 0.3897086 <= (Old) 0.4670707\n"
     ]
    },
    {
     "data": {
      "application/vnd.jupyter.widget-view+json": {
       "model_id": "0cf39136daba4f7a961d172fe2b98889",
       "version_major": 2,
       "version_minor": 0
      },
      "text/plain": [
       "  0%|                                                                            | 0/40 [00:00<?, ?it/s]"
      ]
     },
     "metadata": {},
     "output_type": "display_data"
    },
    {
     "name": "stdout",
     "output_type": "stream",
     "text": [
      "No improvement. Validation: (New) 0.4083873 <= (Old) 0.4670707\n"
     ]
    },
    {
     "data": {
      "application/vnd.jupyter.widget-view+json": {
       "model_id": "fbf417ceabb748e6a4db5bc8b50bdac5",
       "version_major": 2,
       "version_minor": 0
      },
      "text/plain": [
       "  0%|                                                                            | 0/40 [00:00<?, ?it/s]"
      ]
     },
     "metadata": {},
     "output_type": "display_data"
    },
    {
     "name": "stdout",
     "output_type": "stream",
     "text": [
      "No improvement. Validation: (New) 0.3252013 <= (Old) 0.4670707\n"
     ]
    },
    {
     "data": {
      "application/vnd.jupyter.widget-view+json": {
       "model_id": "50d116a1213546a08049bfd6c380b329",
       "version_major": 2,
       "version_minor": 0
      },
      "text/plain": [
       "  0%|                                                                            | 0/40 [00:00<?, ?it/s]"
      ]
     },
     "metadata": {},
     "output_type": "display_data"
    },
    {
     "name": "stdout",
     "output_type": "stream",
     "text": [
      "No improvement. Validation: (New) 0.4295913 <= (Old) 0.4670707\n"
     ]
    },
    {
     "data": {
      "application/vnd.jupyter.widget-view+json": {
       "model_id": "79b57716534d4c5aa570b5256b8a8dea",
       "version_major": 2,
       "version_minor": 0
      },
      "text/plain": [
       "  0%|                                                                            | 0/40 [00:00<?, ?it/s]"
      ]
     },
     "metadata": {},
     "output_type": "display_data"
    },
    {
     "name": "stdout",
     "output_type": "stream",
     "text": [
      "No improvement. Validation: (New) 0.4230309 <= (Old) 0.4670707\n"
     ]
    },
    {
     "data": {
      "application/vnd.jupyter.widget-view+json": {
       "model_id": "e0b44089310d48a4b712bd057e07809b",
       "version_major": 2,
       "version_minor": 0
      },
      "text/plain": [
       "  0%|                                                                            | 0/40 [00:00<?, ?it/s]"
      ]
     },
     "metadata": {},
     "output_type": "display_data"
    },
    {
     "name": "stdout",
     "output_type": "stream",
     "text": [
      "Model saved! Validation: (New) 0.4767907 > (Old) 0.4670707\n"
     ]
    },
    {
     "data": {
      "application/vnd.jupyter.widget-view+json": {
       "model_id": "7843b9e938ce45c08fda1c1723841baa",
       "version_major": 2,
       "version_minor": 0
      },
      "text/plain": [
       "  0%|                                                                            | 0/40 [00:00<?, ?it/s]"
      ]
     },
     "metadata": {},
     "output_type": "display_data"
    },
    {
     "name": "stdout",
     "output_type": "stream",
     "text": [
      "No improvement. Validation: (New) 0.4601336 <= (Old) 0.4767907\n"
     ]
    },
    {
     "data": {
      "application/vnd.jupyter.widget-view+json": {
       "model_id": "a4a3e35ba88d4c40a22e0f95b2cf452f",
       "version_major": 2,
       "version_minor": 0
      },
      "text/plain": [
       "  0%|                                                                            | 0/40 [00:00<?, ?it/s]"
      ]
     },
     "metadata": {},
     "output_type": "display_data"
    },
    {
     "name": "stdout",
     "output_type": "stream",
     "text": [
      "Model saved! Validation: (New) 0.4886849 > (Old) 0.4767907\n"
     ]
    },
    {
     "data": {
      "application/vnd.jupyter.widget-view+json": {
       "model_id": "c6c4eb8f870c49efbaf341eecb6c7e14",
       "version_major": 2,
       "version_minor": 0
      },
      "text/plain": [
       "  0%|                                                                            | 0/40 [00:00<?, ?it/s]"
      ]
     },
     "metadata": {},
     "output_type": "display_data"
    },
    {
     "name": "stdout",
     "output_type": "stream",
     "text": [
      "No improvement. Validation: (New) 0.4777997 <= (Old) 0.4886849\n"
     ]
    },
    {
     "data": {
      "application/vnd.jupyter.widget-view+json": {
       "model_id": "6ad8b76ef7a84b3c9339a79cda204616",
       "version_major": 2,
       "version_minor": 0
      },
      "text/plain": [
       "  0%|                                                                            | 0/40 [00:00<?, ?it/s]"
      ]
     },
     "metadata": {},
     "output_type": "display_data"
    },
    {
     "name": "stdout",
     "output_type": "stream",
     "text": [
      "No improvement. Validation: (New) 0.4140048 <= (Old) 0.4886849\n"
     ]
    },
    {
     "data": {
      "application/vnd.jupyter.widget-view+json": {
       "model_id": "32ce63be54974618977e8eb4065a7279",
       "version_major": 2,
       "version_minor": 0
      },
      "text/plain": [
       "  0%|                                                                            | 0/40 [00:00<?, ?it/s]"
      ]
     },
     "metadata": {},
     "output_type": "display_data"
    },
    {
     "name": "stdout",
     "output_type": "stream",
     "text": [
      "No improvement. Validation: (New) 0.4206459 <= (Old) 0.4886849\n"
     ]
    },
    {
     "data": {
      "application/vnd.jupyter.widget-view+json": {
       "model_id": "859ff9ccad4042edae424f19e6bf9912",
       "version_major": 2,
       "version_minor": 0
      },
      "text/plain": [
       "  0%|                                                                            | 0/40 [00:00<?, ?it/s]"
      ]
     },
     "metadata": {},
     "output_type": "display_data"
    },
    {
     "name": "stdout",
     "output_type": "stream",
     "text": [
      "No improvement. Validation: (New) 0.4854680 <= (Old) 0.4886849\n"
     ]
    },
    {
     "data": {
      "application/vnd.jupyter.widget-view+json": {
       "model_id": "7cf6ee0cf921427f8874bcc2570fd1a4",
       "version_major": 2,
       "version_minor": 0
      },
      "text/plain": [
       "  0%|                                                                            | 0/40 [00:00<?, ?it/s]"
      ]
     },
     "metadata": {},
     "output_type": "display_data"
    },
    {
     "name": "stdout",
     "output_type": "stream",
     "text": [
      "No improvement. Validation: (New) 0.4798392 <= (Old) 0.4886849\n"
     ]
    },
    {
     "data": {
      "application/vnd.jupyter.widget-view+json": {
       "model_id": "ed8093ba5da6481193da9248780fc739",
       "version_major": 2,
       "version_minor": 0
      },
      "text/plain": [
       "  0%|                                                                            | 0/40 [00:00<?, ?it/s]"
      ]
     },
     "metadata": {},
     "output_type": "display_data"
    },
    {
     "name": "stdout",
     "output_type": "stream",
     "text": [
      "Model saved! Validation: (New) 0.5629744 > (Old) 0.4886849\n"
     ]
    },
    {
     "data": {
      "application/vnd.jupyter.widget-view+json": {
       "model_id": "87d9d11db8d641b9952f174482f9fd2f",
       "version_major": 2,
       "version_minor": 0
      },
      "text/plain": [
       "  0%|                                                                            | 0/40 [00:00<?, ?it/s]"
      ]
     },
     "metadata": {},
     "output_type": "display_data"
    },
    {
     "name": "stdout",
     "output_type": "stream",
     "text": [
      "Model saved! Validation: (New) 0.5634375 > (Old) 0.5629744\n"
     ]
    },
    {
     "data": {
      "application/vnd.jupyter.widget-view+json": {
       "model_id": "2961cc1bc45841a4b7646529ddce27ff",
       "version_major": 2,
       "version_minor": 0
      },
      "text/plain": [
       "  0%|                                                                            | 0/40 [00:00<?, ?it/s]"
      ]
     },
     "metadata": {},
     "output_type": "display_data"
    },
    {
     "name": "stdout",
     "output_type": "stream",
     "text": [
      "No improvement. Validation: (New) 0.5374361 <= (Old) 0.5634375\n"
     ]
    },
    {
     "data": {
      "application/vnd.jupyter.widget-view+json": {
       "model_id": "79488759d15b4962b85a414675fc00b9",
       "version_major": 2,
       "version_minor": 0
      },
      "text/plain": [
       "  0%|                                                                            | 0/40 [00:00<?, ?it/s]"
      ]
     },
     "metadata": {},
     "output_type": "display_data"
    },
    {
     "name": "stdout",
     "output_type": "stream",
     "text": [
      "No improvement. Validation: (New) 0.4921868 <= (Old) 0.5634375\n"
     ]
    },
    {
     "data": {
      "application/vnd.jupyter.widget-view+json": {
       "model_id": "426f204f349f455ea0ad9eee980ab6b0",
       "version_major": 2,
       "version_minor": 0
      },
      "text/plain": [
       "  0%|                                                                            | 0/40 [00:00<?, ?it/s]"
      ]
     },
     "metadata": {},
     "output_type": "display_data"
    },
    {
     "name": "stdout",
     "output_type": "stream",
     "text": [
      "No improvement. Validation: (New) 0.4197545 <= (Old) 0.5634375\n"
     ]
    },
    {
     "data": {
      "application/vnd.jupyter.widget-view+json": {
       "model_id": "ff9242f142b3401c8365837aa0219fc2",
       "version_major": 2,
       "version_minor": 0
      },
      "text/plain": [
       "  0%|                                                                            | 0/40 [00:00<?, ?it/s]"
      ]
     },
     "metadata": {},
     "output_type": "display_data"
    },
    {
     "name": "stdout",
     "output_type": "stream",
     "text": [
      "No improvement. Validation: (New) 0.5415540 <= (Old) 0.5634375\n"
     ]
    },
    {
     "data": {
      "application/vnd.jupyter.widget-view+json": {
       "model_id": "15be9ff79bf04d068516df8038bb07f8",
       "version_major": 2,
       "version_minor": 0
      },
      "text/plain": [
       "  0%|                                                                            | 0/40 [00:00<?, ?it/s]"
      ]
     },
     "metadata": {},
     "output_type": "display_data"
    },
    {
     "name": "stdout",
     "output_type": "stream",
     "text": [
      "No improvement. Validation: (New) 0.5329823 <= (Old) 0.5634375\n"
     ]
    },
    {
     "data": {
      "application/vnd.jupyter.widget-view+json": {
       "model_id": "89efbf8371c54fc7bd54103304cd9345",
       "version_major": 2,
       "version_minor": 0
      },
      "text/plain": [
       "  0%|                                                                            | 0/40 [00:00<?, ?it/s]"
      ]
     },
     "metadata": {},
     "output_type": "display_data"
    },
    {
     "name": "stdout",
     "output_type": "stream",
     "text": [
      "No improvement. Validation: (New) 0.5439053 <= (Old) 0.5634375\n"
     ]
    },
    {
     "data": {
      "application/vnd.jupyter.widget-view+json": {
       "model_id": "91cc00d55d7448569d8f81d2ef08a10c",
       "version_major": 2,
       "version_minor": 0
      },
      "text/plain": [
       "  0%|                                                                            | 0/40 [00:00<?, ?it/s]"
      ]
     },
     "metadata": {},
     "output_type": "display_data"
    },
    {
     "name": "stdout",
     "output_type": "stream",
     "text": [
      "No improvement. Validation: (New) 0.5227590 <= (Old) 0.5634375\n"
     ]
    },
    {
     "data": {
      "application/vnd.jupyter.widget-view+json": {
       "model_id": "2485aaa2aa2948a0b5990e1739d40aca",
       "version_major": 2,
       "version_minor": 0
      },
      "text/plain": [
       "  0%|                                                                            | 0/40 [00:00<?, ?it/s]"
      ]
     },
     "metadata": {},
     "output_type": "display_data"
    },
    {
     "name": "stdout",
     "output_type": "stream",
     "text": [
      "No improvement. Validation: (New) 0.5389060 <= (Old) 0.5634375\n"
     ]
    },
    {
     "data": {
      "application/vnd.jupyter.widget-view+json": {
       "model_id": "95fc46fd866c4f18a8f12b625dad147f",
       "version_major": 2,
       "version_minor": 0
      },
      "text/plain": [
       "  0%|                                                                            | 0/40 [00:00<?, ?it/s]"
      ]
     },
     "metadata": {},
     "output_type": "display_data"
    },
    {
     "name": "stdout",
     "output_type": "stream",
     "text": [
      "No improvement. Validation: (New) 0.5505434 <= (Old) 0.5634375\n"
     ]
    },
    {
     "data": {
      "application/vnd.jupyter.widget-view+json": {
       "model_id": "3df2436a08344a3eb19e91ac1a662083",
       "version_major": 2,
       "version_minor": 0
      },
      "text/plain": [
       "  0%|                                                                            | 0/40 [00:00<?, ?it/s]"
      ]
     },
     "metadata": {},
     "output_type": "display_data"
    },
    {
     "name": "stdout",
     "output_type": "stream",
     "text": [
      "Model saved! Validation: (New) 0.5857109 > (Old) 0.5634375\n"
     ]
    },
    {
     "data": {
      "application/vnd.jupyter.widget-view+json": {
       "model_id": "e1563e99e1d044c5aafece7216e64fc6",
       "version_major": 2,
       "version_minor": 0
      },
      "text/plain": [
       "  0%|                                                                            | 0/40 [00:00<?, ?it/s]"
      ]
     },
     "metadata": {},
     "output_type": "display_data"
    },
    {
     "name": "stdout",
     "output_type": "stream",
     "text": [
      "No improvement. Validation: (New) 0.5134567 <= (Old) 0.5857109\n"
     ]
    },
    {
     "data": {
      "application/vnd.jupyter.widget-view+json": {
       "model_id": "20d523420f8449e1862c28809b707938",
       "version_major": 2,
       "version_minor": 0
      },
      "text/plain": [
       "  0%|                                                                            | 0/40 [00:00<?, ?it/s]"
      ]
     },
     "metadata": {},
     "output_type": "display_data"
    },
    {
     "name": "stdout",
     "output_type": "stream",
     "text": [
      "No improvement. Validation: (New) 0.5474246 <= (Old) 0.5857109\n"
     ]
    },
    {
     "data": {
      "application/vnd.jupyter.widget-view+json": {
       "model_id": "c569483fd41d4943ba8aa901e151f478",
       "version_major": 2,
       "version_minor": 0
      },
      "text/plain": [
       "  0%|                                                                            | 0/40 [00:00<?, ?it/s]"
      ]
     },
     "metadata": {},
     "output_type": "display_data"
    },
    {
     "name": "stdout",
     "output_type": "stream",
     "text": [
      "Model saved! Validation: (New) 0.6314798 > (Old) 0.5857109\n"
     ]
    },
    {
     "data": {
      "application/vnd.jupyter.widget-view+json": {
       "model_id": "7ec98772846b43c9bb1244775c9dc6fe",
       "version_major": 2,
       "version_minor": 0
      },
      "text/plain": [
       "  0%|                                                                            | 0/40 [00:00<?, ?it/s]"
      ]
     },
     "metadata": {},
     "output_type": "display_data"
    },
    {
     "name": "stdout",
     "output_type": "stream",
     "text": [
      "Model saved! Validation: (New) 0.6380966 > (Old) 0.6314798\n"
     ]
    },
    {
     "data": {
      "application/vnd.jupyter.widget-view+json": {
       "model_id": "892d0c63d6ee44d292b48916ba43ecb2",
       "version_major": 2,
       "version_minor": 0
      },
      "text/plain": [
       "  0%|                                                                            | 0/40 [00:00<?, ?it/s]"
      ]
     },
     "metadata": {},
     "output_type": "display_data"
    },
    {
     "name": "stdout",
     "output_type": "stream",
     "text": [
      "No improvement. Validation: (New) 0.5897966 <= (Old) 0.6380966\n"
     ]
    },
    {
     "data": {
      "application/vnd.jupyter.widget-view+json": {
       "model_id": "f38e54d919024b3f88ee2766a0385d9a",
       "version_major": 2,
       "version_minor": 0
      },
      "text/plain": [
       "  0%|                                                                            | 0/40 [00:00<?, ?it/s]"
      ]
     },
     "metadata": {},
     "output_type": "display_data"
    },
    {
     "name": "stdout",
     "output_type": "stream",
     "text": [
      "No improvement. Validation: (New) 0.5950524 <= (Old) 0.6380966\n"
     ]
    },
    {
     "data": {
      "application/vnd.jupyter.widget-view+json": {
       "model_id": "c7a612baa987437f948e884a5f7f6df0",
       "version_major": 2,
       "version_minor": 0
      },
      "text/plain": [
       "  0%|                                                                            | 0/40 [00:00<?, ?it/s]"
      ]
     },
     "metadata": {},
     "output_type": "display_data"
    },
    {
     "name": "stdout",
     "output_type": "stream",
     "text": [
      "No improvement. Validation: (New) 0.6176960 <= (Old) 0.6380966\n"
     ]
    },
    {
     "data": {
      "application/vnd.jupyter.widget-view+json": {
       "model_id": "9ccc4aafc68c4ae5994917b7884a8463",
       "version_major": 2,
       "version_minor": 0
      },
      "text/plain": [
       "  0%|                                                                            | 0/40 [00:00<?, ?it/s]"
      ]
     },
     "metadata": {},
     "output_type": "display_data"
    },
    {
     "name": "stdout",
     "output_type": "stream",
     "text": [
      "No improvement. Validation: (New) 0.5821552 <= (Old) 0.6380966\n"
     ]
    },
    {
     "data": {
      "application/vnd.jupyter.widget-view+json": {
       "model_id": "3b91da93f1d14f14b1870f3bd990f90f",
       "version_major": 2,
       "version_minor": 0
      },
      "text/plain": [
       "  0%|                                                                            | 0/40 [00:00<?, ?it/s]"
      ]
     },
     "metadata": {},
     "output_type": "display_data"
    },
    {
     "name": "stdout",
     "output_type": "stream",
     "text": [
      "No improvement. Validation: (New) 0.6287471 <= (Old) 0.6380966\n"
     ]
    },
    {
     "data": {
      "application/vnd.jupyter.widget-view+json": {
       "model_id": "d4708ac14b804b76a11f0cccc0aa675e",
       "version_major": 2,
       "version_minor": 0
      },
      "text/plain": [
       "  0%|                                                                            | 0/40 [00:00<?, ?it/s]"
      ]
     },
     "metadata": {},
     "output_type": "display_data"
    },
    {
     "name": "stdout",
     "output_type": "stream",
     "text": [
      "No improvement. Validation: (New) 0.6205900 <= (Old) 0.6380966\n"
     ]
    },
    {
     "data": {
      "application/vnd.jupyter.widget-view+json": {
       "model_id": "cd4c41f3bd1940d499e13f219f1aeaa6",
       "version_major": 2,
       "version_minor": 0
      },
      "text/plain": [
       "  0%|                                                                            | 0/40 [00:00<?, ?it/s]"
      ]
     },
     "metadata": {},
     "output_type": "display_data"
    },
    {
     "name": "stdout",
     "output_type": "stream",
     "text": [
      "Model saved! Validation: (New) 0.6432692 > (Old) 0.6380966\n"
     ]
    },
    {
     "data": {
      "application/vnd.jupyter.widget-view+json": {
       "model_id": "b55b556d18f44bb1a6a7f9fc1e34d4d7",
       "version_major": 2,
       "version_minor": 0
      },
      "text/plain": [
       "  0%|                                                                            | 0/40 [00:00<?, ?it/s]"
      ]
     },
     "metadata": {},
     "output_type": "display_data"
    },
    {
     "name": "stdout",
     "output_type": "stream",
     "text": [
      "No improvement. Validation: (New) 0.6121394 <= (Old) 0.6432692\n"
     ]
    },
    {
     "data": {
      "application/vnd.jupyter.widget-view+json": {
       "model_id": "d0676c870a71442b8dc373fed3661118",
       "version_major": 2,
       "version_minor": 0
      },
      "text/plain": [
       "  0%|                                                                            | 0/40 [00:00<?, ?it/s]"
      ]
     },
     "metadata": {},
     "output_type": "display_data"
    },
    {
     "name": "stdout",
     "output_type": "stream",
     "text": [
      "No improvement. Validation: (New) 0.5975049 <= (Old) 0.6432692\n"
     ]
    },
    {
     "data": {
      "application/vnd.jupyter.widget-view+json": {
       "model_id": "4d059deb7b154800b2387140623f7df0",
       "version_major": 2,
       "version_minor": 0
      },
      "text/plain": [
       "  0%|                                                                            | 0/40 [00:00<?, ?it/s]"
      ]
     },
     "metadata": {},
     "output_type": "display_data"
    },
    {
     "name": "stdout",
     "output_type": "stream",
     "text": [
      "No improvement. Validation: (New) 0.5781817 <= (Old) 0.6432692\n"
     ]
    },
    {
     "data": {
      "application/vnd.jupyter.widget-view+json": {
       "model_id": "61dff8ac6d8e44d988d439d962448232",
       "version_major": 2,
       "version_minor": 0
      },
      "text/plain": [
       "  0%|                                                                            | 0/40 [00:00<?, ?it/s]"
      ]
     },
     "metadata": {},
     "output_type": "display_data"
    },
    {
     "name": "stdout",
     "output_type": "stream",
     "text": [
      "No improvement. Validation: (New) 0.6063320 <= (Old) 0.6432692\n"
     ]
    },
    {
     "data": {
      "application/vnd.jupyter.widget-view+json": {
       "model_id": "c06960d228fd4ec08407134f9ecc7052",
       "version_major": 2,
       "version_minor": 0
      },
      "text/plain": [
       "  0%|                                                                            | 0/40 [00:00<?, ?it/s]"
      ]
     },
     "metadata": {},
     "output_type": "display_data"
    },
    {
     "name": "stdout",
     "output_type": "stream",
     "text": [
      "No improvement. Validation: (New) 0.6047998 <= (Old) 0.6432692\n"
     ]
    },
    {
     "data": {
      "application/vnd.jupyter.widget-view+json": {
       "model_id": "46da2fc0b2534db4adf385491bec2885",
       "version_major": 2,
       "version_minor": 0
      },
      "text/plain": [
       "  0%|                                                                            | 0/40 [00:00<?, ?it/s]"
      ]
     },
     "metadata": {},
     "output_type": "display_data"
    },
    {
     "name": "stdout",
     "output_type": "stream",
     "text": [
      "Model saved! Validation: (New) 0.6456156 > (Old) 0.6432692\n"
     ]
    },
    {
     "data": {
      "application/vnd.jupyter.widget-view+json": {
       "model_id": "6162dbc5f4f44a6dbdf62b5e256ca53c",
       "version_major": 2,
       "version_minor": 0
      },
      "text/plain": [
       "  0%|                                                                            | 0/40 [00:00<?, ?it/s]"
      ]
     },
     "metadata": {},
     "output_type": "display_data"
    },
    {
     "name": "stdout",
     "output_type": "stream",
     "text": [
      "No improvement. Validation: (New) 0.6261984 <= (Old) 0.6456156\n"
     ]
    },
    {
     "data": {
      "application/vnd.jupyter.widget-view+json": {
       "model_id": "81c7ab13f25c460bae84c1b2d62e4f66",
       "version_major": 2,
       "version_minor": 0
      },
      "text/plain": [
       "  0%|                                                                            | 0/40 [00:00<?, ?it/s]"
      ]
     },
     "metadata": {},
     "output_type": "display_data"
    },
    {
     "name": "stdout",
     "output_type": "stream",
     "text": [
      "No improvement. Validation: (New) 0.6282133 <= (Old) 0.6456156\n"
     ]
    },
    {
     "data": {
      "application/vnd.jupyter.widget-view+json": {
       "model_id": "ee465020f33e4b49a88b0223b56879d3",
       "version_major": 2,
       "version_minor": 0
      },
      "text/plain": [
       "  0%|                                                                            | 0/40 [00:00<?, ?it/s]"
      ]
     },
     "metadata": {},
     "output_type": "display_data"
    },
    {
     "name": "stdout",
     "output_type": "stream",
     "text": [
      "No improvement. Validation: (New) 0.6271749 <= (Old) 0.6456156\n"
     ]
    },
    {
     "data": {
      "application/vnd.jupyter.widget-view+json": {
       "model_id": "02b9abccb24f4e36963c10ae0a800d0e",
       "version_major": 2,
       "version_minor": 0
      },
      "text/plain": [
       "  0%|                                                                            | 0/40 [00:00<?, ?it/s]"
      ]
     },
     "metadata": {},
     "output_type": "display_data"
    },
    {
     "name": "stdout",
     "output_type": "stream",
     "text": [
      "No improvement. Validation: (New) 0.6334293 <= (Old) 0.6456156\n"
     ]
    },
    {
     "data": {
      "application/vnd.jupyter.widget-view+json": {
       "model_id": "3b382b5a66f64bbca66f991d82c13140",
       "version_major": 2,
       "version_minor": 0
      },
      "text/plain": [
       "  0%|                                                                            | 0/40 [00:00<?, ?it/s]"
      ]
     },
     "metadata": {},
     "output_type": "display_data"
    },
    {
     "name": "stdout",
     "output_type": "stream",
     "text": [
      "Model saved! Validation: (New) 0.6731261 > (Old) 0.6456156\n"
     ]
    },
    {
     "data": {
      "application/vnd.jupyter.widget-view+json": {
       "model_id": "65ecca93cd9e4504b6fa60865f624c4d",
       "version_major": 2,
       "version_minor": 0
      },
      "text/plain": [
       "  0%|                                                                            | 0/40 [00:00<?, ?it/s]"
      ]
     },
     "metadata": {},
     "output_type": "display_data"
    },
    {
     "name": "stdout",
     "output_type": "stream",
     "text": [
      "No improvement. Validation: (New) 0.6430773 <= (Old) 0.6731261\n"
     ]
    },
    {
     "data": {
      "application/vnd.jupyter.widget-view+json": {
       "model_id": "358eaf39ba2f48c99ca3d4024365163b",
       "version_major": 2,
       "version_minor": 0
      },
      "text/plain": [
       "  0%|                                                                            | 0/40 [00:00<?, ?it/s]"
      ]
     },
     "metadata": {},
     "output_type": "display_data"
    },
    {
     "name": "stdout",
     "output_type": "stream",
     "text": [
      "No improvement. Validation: (New) 0.6079474 <= (Old) 0.6731261\n"
     ]
    },
    {
     "data": {
      "application/vnd.jupyter.widget-view+json": {
       "model_id": "804d88ffa07e42e18ee24b75111881cf",
       "version_major": 2,
       "version_minor": 0
      },
      "text/plain": [
       "  0%|                                                                            | 0/40 [00:00<?, ?it/s]"
      ]
     },
     "metadata": {},
     "output_type": "display_data"
    },
    {
     "name": "stdout",
     "output_type": "stream",
     "text": [
      "No improvement. Validation: (New) 0.6699107 <= (Old) 0.6731261\n"
     ]
    },
    {
     "data": {
      "application/vnd.jupyter.widget-view+json": {
       "model_id": "1edb5e2319e74cf7bffbff0da4522a24",
       "version_major": 2,
       "version_minor": 0
      },
      "text/plain": [
       "  0%|                                                                            | 0/40 [00:00<?, ?it/s]"
      ]
     },
     "metadata": {},
     "output_type": "display_data"
    },
    {
     "name": "stdout",
     "output_type": "stream",
     "text": [
      "No improvement. Validation: (New) 0.6506838 <= (Old) 0.6731261\n"
     ]
    },
    {
     "data": {
      "application/vnd.jupyter.widget-view+json": {
       "model_id": "e7babf98964c4181a131a80bb2e9f540",
       "version_major": 2,
       "version_minor": 0
      },
      "text/plain": [
       "  0%|                                                                            | 0/40 [00:00<?, ?it/s]"
      ]
     },
     "metadata": {},
     "output_type": "display_data"
    },
    {
     "name": "stdout",
     "output_type": "stream",
     "text": [
      "No improvement. Validation: (New) 0.6055299 <= (Old) 0.6731261\n"
     ]
    },
    {
     "data": {
      "application/vnd.jupyter.widget-view+json": {
       "model_id": "118375eed9fd4229b0d1fe20a190eb41",
       "version_major": 2,
       "version_minor": 0
      },
      "text/plain": [
       "  0%|                                                                            | 0/40 [00:00<?, ?it/s]"
      ]
     },
     "metadata": {},
     "output_type": "display_data"
    },
    {
     "name": "stdout",
     "output_type": "stream",
     "text": [
      "No improvement. Validation: (New) 0.6566619 <= (Old) 0.6731261\n"
     ]
    },
    {
     "data": {
      "application/vnd.jupyter.widget-view+json": {
       "model_id": "290dacdefca44927ae91eaae5c98ec44",
       "version_major": 2,
       "version_minor": 0
      },
      "text/plain": [
       "  0%|                                                                            | 0/40 [00:00<?, ?it/s]"
      ]
     },
     "metadata": {},
     "output_type": "display_data"
    },
    {
     "name": "stdout",
     "output_type": "stream",
     "text": [
      "No improvement. Validation: (New) 0.6717658 <= (Old) 0.6731261\n"
     ]
    },
    {
     "data": {
      "application/vnd.jupyter.widget-view+json": {
       "model_id": "cfcd289c4e23403aa8cb9554c59a7be1",
       "version_major": 2,
       "version_minor": 0
      },
      "text/plain": [
       "  0%|                                                                            | 0/40 [00:00<?, ?it/s]"
      ]
     },
     "metadata": {},
     "output_type": "display_data"
    },
    {
     "name": "stdout",
     "output_type": "stream",
     "text": [
      "Model saved! Validation: (New) 0.6756982 > (Old) 0.6731261\n"
     ]
    },
    {
     "data": {
      "application/vnd.jupyter.widget-view+json": {
       "model_id": "322e6c36ba824f50bfd85ae077e12bf7",
       "version_major": 2,
       "version_minor": 0
      },
      "text/plain": [
       "  0%|                                                                            | 0/40 [00:00<?, ?it/s]"
      ]
     },
     "metadata": {},
     "output_type": "display_data"
    },
    {
     "name": "stdout",
     "output_type": "stream",
     "text": [
      "No improvement. Validation: (New) 0.6580935 <= (Old) 0.6756982\n"
     ]
    },
    {
     "data": {
      "application/vnd.jupyter.widget-view+json": {
       "model_id": "d8c66250858841c68a3cd14d29c55361",
       "version_major": 2,
       "version_minor": 0
      },
      "text/plain": [
       "  0%|                                                                           | 0/120 [00:00<?, ?it/s]"
      ]
     },
     "metadata": {},
     "output_type": "display_data"
    },
    {
     "name": "stdout",
     "output_type": "stream",
     "text": [
      "** Test (Final): 0.3835371658205986\n"
     ]
    }
   ],
   "source": [
    "## Whether train without randomness\n",
    "if deterministic:\n",
    "    set_determinism(seed=0)\n",
    "    print(\"** Deterministic = True\")\n",
    "\n",
    "## Dataloaders\n",
    "train_dataset, val_dataset, test_dataset = get_datasets(\n",
    "    dataset=dataset,\n",
    "    modality=modality,\n",
    "    train_data=train_data,\n",
    "    masked=masked,\n",
    "    return_modality_dataset=modules[module_name][\"return_modality_dataset\"],\n",
    "    root_dir=root,\n",
    "    cache_rate=cache_rate,\n",
    "    num_workers=num_workers,\n",
    "    dev=dev,\n",
    ")\n",
    "train_dataloader, val_dataloader, test_dataloader = modules[module_name][\"initializer\"].init_dataloaders(\n",
    "    train_dataset, val_dataset, test_dataset, batch_size, dev\n",
    ")\n",
    "\n",
    "## Initialize module\n",
    "module = modules[module_name][\"initializer\"].init_module(\n",
    "    loss, optim, lr, dataset[\"class\"], modality, masked, dataset[\"fg\"], device,\n",
    "    net = net,\n",
    ")\n",
    "if pretrained:\n",
    "    print(\"** Pretrained checkpoint =\", pretrained)\n",
    "    module.load(pretrained)\n",
    "module.to(device)\n",
    "\n",
    "## Train or test\n",
    "# ** note: temp checkpoints are saved in the \"debug\" directory\n",
    "#          to separate the result of experiments and temporary\n",
    "#          checkpoints generated in developer mode.\n",
    "checkpoint_dir = output if not dev else debug\n",
    "# create subfolder based on time\n",
    "checkpoint_dir = Path(checkpoint_dir) / datetime.now().strftime(\"%Y%m%d-%H%M%S\")\n",
    "trainer = modules[module_name][\"initializer\"].init_trainer(\n",
    "    max_iter=max_iter,\n",
    "    eval_step=eval_step,\n",
    "    checkpoint_dir=checkpoint_dir,\n",
    "    device=device,\n",
    ")\n",
    "\n",
    "print(\"** Mode =\", mode)\n",
    "if mode == \"train\":\n",
    "    trainer.train(module, train_dataloader, val_dataloader)\n",
    "    # Save command-line arguments\n",
    "    Path(trainer.checkpoint_dir).mkdir(parents=True, exist_ok=True)\n",
    "    \n",
    "    # Comment the code below since there is no args\n",
    "    # with open(Path(trainer.checkpoint_dir) / \"json\", \"w\") as f:\n",
    "    #     json.dump(vars(args), f, indent=4)\n",
    "if mode == \"test\" or test_dataloader:\n",
    "    test_metric = trainer.validation(module, test_dataloader, label=\"all\")\n",
    "    print(\"** Test (Final):\", test_metric)\n",
    "else:\n",
    "    raise ValueError(\"Got an invalid input of option --mode.\")"
   ]
  },
  {
   "cell_type": "code",
   "execution_count": null,
   "id": "ab7c41f9-15fd-40ff-9c7c-318d7f8d2038",
   "metadata": {},
   "outputs": [],
   "source": []
  }
 ],
 "metadata": {
  "kernelspec": {
   "display_name": "Python 3 (ipykernel)",
   "language": "python",
   "name": "python3"
  },
  "language_info": {
   "codemirror_mode": {
    "name": "ipython",
    "version": 3
   },
   "file_extension": ".py",
   "mimetype": "text/x-python",
   "name": "python",
   "nbconvert_exporter": "python",
   "pygments_lexer": "ipython3",
   "version": "3.8.17"
  },
  "widgets": {
   "application/vnd.jupyter.widget-state+json": {
    "state": {
     "003c5f22d19f48a9b8bb45a59e7c889e": {
      "model_module": "@jupyter-widgets/controls",
      "model_module_version": "2.0.0",
      "model_name": "ProgressStyleModel",
      "state": {
       "description_width": ""
      }
     },
     "0054961a51d14e188a688777e3105be7": {
      "model_module": "@jupyter-widgets/controls",
      "model_module_version": "2.0.0",
      "model_name": "HTMLModel",
      "state": {
       "layout": "IPY_MODEL_cff68bd281104d9d8ceafc76ad974ecf",
       "style": "IPY_MODEL_aedf86f3b2e74fbfaa3aeec5fa62bdf4",
       "value": "Validate (1700 Steps) (DiceMetric=0.34248): 100%"
      }
     },
     "007493ba7e524496b7375c93c29522d3": {
      "model_module": "@jupyter-widgets/base",
      "model_module_version": "2.0.0",
      "model_name": "LayoutModel",
      "state": {}
     },
     "00cc17156f0a400f93229ab10856b5af": {
      "model_module": "@jupyter-widgets/controls",
      "model_module_version": "2.0.0",
      "model_name": "HTMLModel",
      "state": {
       "layout": "IPY_MODEL_771da78fa4164ab9aa08f90c2155c666",
       "style": "IPY_MODEL_60b763ee0d3a437b8e45a940726ddfe7",
       "value": "Validate (8300 Steps) (DiceMetric=0.61769): 100%"
      }
     },
     "019a650185b34463856c9ece4e09735b": {
      "model_module": "@jupyter-widgets/base",
      "model_module_version": "2.0.0",
      "model_name": "LayoutModel",
      "state": {}
     },
     "01ff8b01c72c42d6872795dd08106206": {
      "model_module": "@jupyter-widgets/controls",
      "model_module_version": "2.0.0",
      "model_name": "ProgressStyleModel",
      "state": {
       "description_width": ""
      }
     },
     "0237cbbbf7e04ffdbba69e5cca797327": {
      "model_module": "@jupyter-widgets/controls",
      "model_module_version": "2.0.0",
      "model_name": "FloatProgressModel",
      "state": {
       "bar_style": "success",
       "layout": "IPY_MODEL_2118261b2a664eeaa0198a9c07f35b90",
       "max": 40,
       "style": "IPY_MODEL_206e7898116c48a985ee3d671b285792",
       "value": 40
      }
     },
     "02b9abccb24f4e36963c10ae0a800d0e": {
      "model_module": "@jupyter-widgets/controls",
      "model_module_version": "2.0.0",
      "model_name": "HBoxModel",
      "state": {
       "children": [
        "IPY_MODEL_3d7d7aebc5e24f4487121cc793d6fdcd",
        "IPY_MODEL_c09442749de24e088ba7d3f8269449b0",
        "IPY_MODEL_c6da903309c5498580c3c9d6c1271068"
       ],
       "layout": "IPY_MODEL_c3d82a419c9e4e87831793c6b714b536"
      }
     },
     "02df942aa29c414fa019c97e3ce4b8b4": {
      "model_module": "@jupyter-widgets/base",
      "model_module_version": "2.0.0",
      "model_name": "LayoutModel",
      "state": {
       "flex": "2"
      }
     },
     "02feab9e1fbd46019476f4016b77d024": {
      "model_module": "@jupyter-widgets/base",
      "model_module_version": "2.0.0",
      "model_name": "LayoutModel",
      "state": {}
     },
     "03f43b42810f451e91b6b894b4a1fcd5": {
      "model_module": "@jupyter-widgets/base",
      "model_module_version": "2.0.0",
      "model_name": "LayoutModel",
      "state": {}
     },
     "04120810eac844818bef974eaed93dff": {
      "model_module": "@jupyter-widgets/controls",
      "model_module_version": "2.0.0",
      "model_name": "FloatProgressModel",
      "state": {
       "bar_style": "success",
       "layout": "IPY_MODEL_e6c26ac229c94c0a96420982064513b7",
       "max": 40,
       "style": "IPY_MODEL_197ec167757a4e72a9f44ca14cf11bbc",
       "value": 40
      }
     },
     "0487e37879d94b2fa60769c4bd0faf4f": {
      "model_module": "@jupyter-widgets/controls",
      "model_module_version": "2.0.0",
      "model_name": "HTMLStyleModel",
      "state": {
       "description_width": "",
       "font_size": null,
       "text_color": null
      }
     },
     "048f9bcac1fc4802ab02605e5e429569": {
      "model_module": "@jupyter-widgets/controls",
      "model_module_version": "2.0.0",
      "model_name": "HTMLModel",
      "state": {
       "layout": "IPY_MODEL_523a0e4720b6418fa020f1797f70ebd5",
       "style": "IPY_MODEL_dc8da46b778943d3b29959df473b6a05",
       "value": "Validate (1100 Steps) (DiceMetric=0.20948): 100%"
      }
     },
     "04cae033071447da99a1122b7c3335a4": {
      "model_module": "@jupyter-widgets/controls",
      "model_module_version": "2.0.0",
      "model_name": "HTMLStyleModel",
      "state": {
       "description_width": "",
       "font_size": null,
       "text_color": null
      }
     },
     "04fb71b2c43142b38d9be47e45ebb695": {
      "model_module": "@jupyter-widgets/base",
      "model_module_version": "2.0.0",
      "model_name": "LayoutModel",
      "state": {}
     },
     "053f867409a04143a26bdd1686f3612d": {
      "model_module": "@jupyter-widgets/base",
      "model_module_version": "2.0.0",
      "model_name": "LayoutModel",
      "state": {
       "display": "inline-flex",
       "flex_flow": "row wrap",
       "width": "100%"
      }
     },
     "060ed0d33dcf4ab696159c9ad969b6de": {
      "model_module": "@jupyter-widgets/controls",
      "model_module_version": "2.0.0",
      "model_name": "HTMLModel",
      "state": {
       "layout": "IPY_MODEL_6c744234559b474f884ff677768b906b",
       "style": "IPY_MODEL_eae6881525474a3384feafa0064bdce4",
       "value": "Validate (2900 Steps) (DiceMetric=0.38084): 100%"
      }
     },
     "060f7e68f7074e3aabda797cbfeb3ea2": {
      "model_module": "@jupyter-widgets/controls",
      "model_module_version": "2.0.0",
      "model_name": "HTMLStyleModel",
      "state": {
       "description_width": "",
       "font_size": null,
       "text_color": null
      }
     },
     "06a18e138b224a1f985489b8d825a97b": {
      "model_module": "@jupyter-widgets/base",
      "model_module_version": "2.0.0",
      "model_name": "LayoutModel",
      "state": {
       "flex": "2"
      }
     },
     "06cc28f57aee4811abd66cd88579011f": {
      "model_module": "@jupyter-widgets/base",
      "model_module_version": "2.0.0",
      "model_name": "LayoutModel",
      "state": {}
     },
     "06d25a587a994a7fbc0d61a453f8e66d": {
      "model_module": "@jupyter-widgets/controls",
      "model_module_version": "2.0.0",
      "model_name": "ProgressStyleModel",
      "state": {
       "description_width": ""
      }
     },
     "06d5dbf3c24246bdb58e8f186c2cb726": {
      "model_module": "@jupyter-widgets/controls",
      "model_module_version": "2.0.0",
      "model_name": "HTMLModel",
      "state": {
       "layout": "IPY_MODEL_9d5667789c1641169f7a09abd2a63b21",
       "style": "IPY_MODEL_a1ab47b65b0d41c48df4e77b09ed3561",
       "value": "Validate (4500 Steps) (DiceMetric=0.36235): 100%"
      }
     },
     "06e66f0ee39b47e6ad1f5e48ee0661f5": {
      "model_module": "@jupyter-widgets/controls",
      "model_module_version": "2.0.0",
      "model_name": "ProgressStyleModel",
      "state": {
       "description_width": ""
      }
     },
     "06f313df8ec6495d89663a2d3aa226d9": {
      "model_module": "@jupyter-widgets/controls",
      "model_module_version": "2.0.0",
      "model_name": "HTMLStyleModel",
      "state": {
       "description_width": "",
       "font_size": null,
       "text_color": null
      }
     },
     "0711c566ddee44fda1e6bf93035f8c93": {
      "model_module": "@jupyter-widgets/base",
      "model_module_version": "2.0.0",
      "model_name": "LayoutModel",
      "state": {
       "display": "inline-flex",
       "flex_flow": "row wrap",
       "width": "100%"
      }
     },
     "078aa31dedc54ed084c1a7ae4371797e": {
      "model_module": "@jupyter-widgets/controls",
      "model_module_version": "2.0.0",
      "model_name": "FloatProgressModel",
      "state": {
       "bar_style": "success",
       "layout": "IPY_MODEL_e56a2de4bbc7401ca62eaa007c49a975",
       "max": 40,
       "style": "IPY_MODEL_0af7d81474134658a8abde8fa4210731",
       "value": 40
      }
     },
     "078dafead05f4727abe3416a2a1f4f3b": {
      "model_module": "@jupyter-widgets/controls",
      "model_module_version": "2.0.0",
      "model_name": "HTMLModel",
      "state": {
       "layout": "IPY_MODEL_5c8e2842719748c997e1732efeedc06b",
       "style": "IPY_MODEL_20983e3ac611439f857f3f9ca5c2046f",
       "value": " 40/40 [02:37&lt;00:00,  1.95s/it]"
      }
     },
     "07ace08bbb064105bbc49b83b07438cd": {
      "model_module": "@jupyter-widgets/controls",
      "model_module_version": "2.0.0",
      "model_name": "HTMLStyleModel",
      "state": {
       "description_width": "",
       "font_size": null,
       "text_color": null
      }
     },
     "07d97117e82c4bc79a1fdc908fe4065a": {
      "model_module": "@jupyter-widgets/controls",
      "model_module_version": "2.0.0",
      "model_name": "ProgressStyleModel",
      "state": {
       "description_width": ""
      }
     },
     "0846b00b78cc48458ff35828568edeeb": {
      "model_module": "@jupyter-widgets/base",
      "model_module_version": "2.0.0",
      "model_name": "LayoutModel",
      "state": {}
     },
     "0850b1b80dd548658552db9c7f143b4b": {
      "model_module": "@jupyter-widgets/controls",
      "model_module_version": "2.0.0",
      "model_name": "HTMLStyleModel",
      "state": {
       "description_width": "",
       "font_size": null,
       "text_color": null
      }
     },
     "087ed67f4cc04c81a94bf6ae6b87014e": {
      "model_module": "@jupyter-widgets/base",
      "model_module_version": "2.0.0",
      "model_name": "LayoutModel",
      "state": {}
     },
     "08b7f1b6622d4f76a5715c5c3304853d": {
      "model_module": "@jupyter-widgets/controls",
      "model_module_version": "2.0.0",
      "model_name": "HTMLModel",
      "state": {
       "layout": "IPY_MODEL_7c07c9f873964df39d0ecca0af176471",
       "style": "IPY_MODEL_de47333d599946209ebd28bf4960091a",
       "value": " 40/40 [02:35&lt;00:00,  1.92s/it]"
      }
     },
     "08ee3d94e759444799fcb416aa4bdb95": {
      "model_module": "@jupyter-widgets/controls",
      "model_module_version": "2.0.0",
      "model_name": "HTMLModel",
      "state": {
       "layout": "IPY_MODEL_6d90737ed4164d2bb647d6c486cd56c1",
       "style": "IPY_MODEL_91bfaf08f491473db79887abea5458d3",
       "value": " 40/40 [02:37&lt;00:00,  1.97s/it]"
      }
     },
     "0989e8e0d23b423e804d4f69987a068b": {
      "model_module": "@jupyter-widgets/controls",
      "model_module_version": "2.0.0",
      "model_name": "HTMLStyleModel",
      "state": {
       "description_width": "",
       "font_size": null,
       "text_color": null
      }
     },
     "09eae29bdf9343409e05ce1f789e84ff": {
      "model_module": "@jupyter-widgets/controls",
      "model_module_version": "2.0.0",
      "model_name": "HTMLModel",
      "state": {
       "layout": "IPY_MODEL_4584c53272aa47b08243f677397a51ab",
       "style": "IPY_MODEL_93e297e301b447a08958de4ca02e0425",
       "value": " 40/40 [02:34&lt;00:00,  1.94s/it]"
      }
     },
     "09ff7b264d6c415982ad483602c553a5": {
      "model_module": "@jupyter-widgets/base",
      "model_module_version": "2.0.0",
      "model_name": "LayoutModel",
      "state": {
       "display": "inline-flex",
       "flex_flow": "row wrap",
       "width": "100%"
      }
     },
     "0a31d143f4c74581a4adb279c995c662": {
      "model_module": "@jupyter-widgets/controls",
      "model_module_version": "2.0.0",
      "model_name": "ProgressStyleModel",
      "state": {
       "description_width": ""
      }
     },
     "0a5530dd6b5a460c823ff3b93b326cda": {
      "model_module": "@jupyter-widgets/controls",
      "model_module_version": "2.0.0",
      "model_name": "HTMLStyleModel",
      "state": {
       "description_width": "",
       "font_size": null,
       "text_color": null
      }
     },
     "0a84ca4c8083430b81bd24777e21303c": {
      "model_module": "@jupyter-widgets/controls",
      "model_module_version": "2.0.0",
      "model_name": "HTMLModel",
      "state": {
       "layout": "IPY_MODEL_3a17a73a25f04cc5b26ef107bdb416b9",
       "style": "IPY_MODEL_eaac40b23b684b6c938a999749842c5f",
       "value": "Validate (6900 Steps) (DiceMetric=0.63440): 100%"
      }
     },
     "0a9d805afc6643faa87f5abe2f0766c5": {
      "model_module": "@jupyter-widgets/base",
      "model_module_version": "2.0.0",
      "model_name": "LayoutModel",
      "state": {
       "display": "inline-flex",
       "flex_flow": "row wrap",
       "width": "100%"
      }
     },
     "0ab6a4f958b04a34ba852d26998cf101": {
      "model_module": "@jupyter-widgets/controls",
      "model_module_version": "2.0.0",
      "model_name": "HTMLStyleModel",
      "state": {
       "description_width": "",
       "font_size": null,
       "text_color": null
      }
     },
     "0af7d81474134658a8abde8fa4210731": {
      "model_module": "@jupyter-widgets/controls",
      "model_module_version": "2.0.0",
      "model_name": "ProgressStyleModel",
      "state": {
       "description_width": ""
      }
     },
     "0b3b9dbd0c4d4700921abb4bd3201f44": {
      "model_module": "@jupyter-widgets/base",
      "model_module_version": "2.0.0",
      "model_name": "LayoutModel",
      "state": {
       "display": "inline-flex",
       "flex_flow": "row wrap",
       "width": "100%"
      }
     },
     "0b4de840a9c64d35892cc414988fda0b": {
      "model_module": "@jupyter-widgets/base",
      "model_module_version": "2.0.0",
      "model_name": "LayoutModel",
      "state": {
       "flex": "2"
      }
     },
     "0b71de44115349f08b5ea0f698081dc8": {
      "model_module": "@jupyter-widgets/base",
      "model_module_version": "2.0.0",
      "model_name": "LayoutModel",
      "state": {}
     },
     "0bb97a3a1eb14a879b6379e40cee5dec": {
      "model_module": "@jupyter-widgets/base",
      "model_module_version": "2.0.0",
      "model_name": "LayoutModel",
      "state": {
       "display": "inline-flex",
       "flex_flow": "row wrap",
       "width": "100%"
      }
     },
     "0bd214e08298498ca2dbe66e168b47e7": {
      "model_module": "@jupyter-widgets/base",
      "model_module_version": "2.0.0",
      "model_name": "LayoutModel",
      "state": {
       "flex": "2"
      }
     },
     "0c2769b58965474595f22f323a4452e0": {
      "model_module": "@jupyter-widgets/controls",
      "model_module_version": "2.0.0",
      "model_name": "FloatProgressModel",
      "state": {
       "bar_style": "success",
       "layout": "IPY_MODEL_838998afc5af4d658a51648491bde035",
       "max": 40,
       "style": "IPY_MODEL_fd0d88ebc66e4ddebac85e0069bc6eb0",
       "value": 40
      }
     },
     "0c772588f81640018e473a8e1835e4db": {
      "model_module": "@jupyter-widgets/base",
      "model_module_version": "2.0.0",
      "model_name": "LayoutModel",
      "state": {}
     },
     "0cf39136daba4f7a961d172fe2b98889": {
      "model_module": "@jupyter-widgets/controls",
      "model_module_version": "2.0.0",
      "model_name": "HBoxModel",
      "state": {
       "children": [
        "IPY_MODEL_5ba14a6edc1c470fa6b47a6f5fd8eee6",
        "IPY_MODEL_373836a57a7a4dc1a1410d1ffb4480f7",
        "IPY_MODEL_53d75102f5aa4543afdd66eec1c47464"
       ],
       "layout": "IPY_MODEL_0d7483ed3fb44cb88ba35942d786e152"
      }
     },
     "0d045c914a4b47b3a4e3a724807aee51": {
      "model_module": "@jupyter-widgets/controls",
      "model_module_version": "2.0.0",
      "model_name": "HBoxModel",
      "state": {
       "children": [
        "IPY_MODEL_9c1a7df785d241879e1f714dc0fd5d34",
        "IPY_MODEL_aad2ed11545c49b0a6874da85be4c2d1",
        "IPY_MODEL_94e2734e2b564c1cbc58bcfc374f3433"
       ],
       "layout": "IPY_MODEL_0f6e4ca1226c42b1a7abf2f4ae0b782a"
      }
     },
     "0d7483ed3fb44cb88ba35942d786e152": {
      "model_module": "@jupyter-widgets/base",
      "model_module_version": "2.0.0",
      "model_name": "LayoutModel",
      "state": {
       "display": "inline-flex",
       "flex_flow": "row wrap",
       "width": "100%"
      }
     },
     "0d7b273bb8b04c2b90fb41456933de14": {
      "model_module": "@jupyter-widgets/controls",
      "model_module_version": "2.0.0",
      "model_name": "HTMLStyleModel",
      "state": {
       "description_width": "",
       "font_size": null,
       "text_color": null
      }
     },
     "0e48e32f6d2748289b083cdac9a9ecf1": {
      "model_module": "@jupyter-widgets/base",
      "model_module_version": "2.0.0",
      "model_name": "LayoutModel",
      "state": {
       "flex": "2"
      }
     },
     "0f03bf33c45f4053bc854097d05a84a3": {
      "model_module": "@jupyter-widgets/controls",
      "model_module_version": "2.0.0",
      "model_name": "ProgressStyleModel",
      "state": {
       "description_width": ""
      }
     },
     "0f248be6423346c181afe17c822fee51": {
      "model_module": "@jupyter-widgets/controls",
      "model_module_version": "2.0.0",
      "model_name": "HTMLModel",
      "state": {
       "layout": "IPY_MODEL_3853a315d0294bda9b65bc70d48d6c25",
       "style": "IPY_MODEL_36c4ab5823bc4d0c8d14d7ea0698ab49",
       "value": " 40/40 [02:34&lt;00:00,  1.94s/it]"
      }
     },
     "0f56a2ce26e84fad80b0bcf2b17c8172": {
      "model_module": "@jupyter-widgets/controls",
      "model_module_version": "2.0.0",
      "model_name": "HTMLModel",
      "state": {
       "layout": "IPY_MODEL_ac08cf00b00342b9ada9ab4d87be5a65",
       "style": "IPY_MODEL_fcece4405343465d9e45cb0ff54b541e",
       "value": "Validate (5000 Steps) (DiceMetric=0.53296): 100%"
      }
     },
     "0f6e4ca1226c42b1a7abf2f4ae0b782a": {
      "model_module": "@jupyter-widgets/base",
      "model_module_version": "2.0.0",
      "model_name": "LayoutModel",
      "state": {
       "display": "inline-flex",
       "flex_flow": "row wrap",
       "width": "100%"
      }
     },
     "0f82c076f746467687c3a889a666e945": {
      "model_module": "@jupyter-widgets/base",
      "model_module_version": "2.0.0",
      "model_name": "LayoutModel",
      "state": {
       "flex": "2"
      }
     },
     "1007cf7d13fa4864924a931319b38696": {
      "model_module": "@jupyter-widgets/controls",
      "model_module_version": "2.0.0",
      "model_name": "HTMLModel",
      "state": {
       "layout": "IPY_MODEL_ff67459f42814928991f73ae2a4611ae",
       "style": "IPY_MODEL_bd9bb7265b5a45c8af28ad523da7989d",
       "value": " 40/40 [02:33&lt;00:00,  1.92s/it]"
      }
     },
     "10d4c6de757c459e99bb268a45523802": {
      "model_module": "@jupyter-widgets/base",
      "model_module_version": "2.0.0",
      "model_name": "LayoutModel",
      "state": {}
     },
     "10f2b3413319473693dade9b7821b608": {
      "model_module": "@jupyter-widgets/controls",
      "model_module_version": "2.0.0",
      "model_name": "FloatProgressModel",
      "state": {
       "bar_style": "success",
       "layout": "IPY_MODEL_c43096b5d0494ca1baa5ef8b775c8e8f",
       "max": 40,
       "style": "IPY_MODEL_c628cf6495ce4d748f624d0b57e476c5",
       "value": 40
      }
     },
     "1109ce2daa1042988bf71f8f5325de47": {
      "model_module": "@jupyter-widgets/base",
      "model_module_version": "2.0.0",
      "model_name": "LayoutModel",
      "state": {}
     },
     "118375eed9fd4229b0d1fe20a190eb41": {
      "model_module": "@jupyter-widgets/controls",
      "model_module_version": "2.0.0",
      "model_name": "HBoxModel",
      "state": {
       "children": [
        "IPY_MODEL_a3d6f989b03c4419af1f66c0390e9588",
        "IPY_MODEL_9d4497232e4747b6a9c67cbd4d6a8354",
        "IPY_MODEL_6852974c96234b8ca530dc8501fb9c53"
       ],
       "layout": "IPY_MODEL_1dd0d748eb8e4938b20b20ea7f624075"
      }
     },
     "11c2045a75f940eea013413d4dc04709": {
      "model_module": "@jupyter-widgets/controls",
      "model_module_version": "2.0.0",
      "model_name": "HTMLModel",
      "state": {
       "layout": "IPY_MODEL_0b71de44115349f08b5ea0f698081dc8",
       "style": "IPY_MODEL_2b097811255a40f58dcf3800ab607534",
       "value": "Validate (5200 Steps) (DiceMetric=0.65083): 100%"
      }
     },
     "11d59b4190da407497a1a24ea6de1e93": {
      "model_module": "@jupyter-widgets/base",
      "model_module_version": "2.0.0",
      "model_name": "LayoutModel",
      "state": {}
     },
     "120d415b005946b48d84af9d04d2e3e9": {
      "model_module": "@jupyter-widgets/base",
      "model_module_version": "2.0.0",
      "model_name": "LayoutModel",
      "state": {
       "flex": "2"
      }
     },
     "127249329087437d9a23922122b3dcb3": {
      "model_module": "@jupyter-widgets/base",
      "model_module_version": "2.0.0",
      "model_name": "LayoutModel",
      "state": {
       "display": "inline-flex",
       "flex_flow": "row wrap",
       "width": "100%"
      }
     },
     "12abc8213f9f4929b7feb4fe1f2adbca": {
      "model_module": "@jupyter-widgets/controls",
      "model_module_version": "2.0.0",
      "model_name": "ProgressStyleModel",
      "state": {
       "description_width": ""
      }
     },
     "12d284c2809d42dfa1baccbaaffd7150": {
      "model_module": "@jupyter-widgets/controls",
      "model_module_version": "2.0.0",
      "model_name": "ProgressStyleModel",
      "state": {
       "description_width": ""
      }
     },
     "12e2f2f122d8441aa79d8cecf6d04fce": {
      "model_module": "@jupyter-widgets/base",
      "model_module_version": "2.0.0",
      "model_name": "LayoutModel",
      "state": {
       "flex": "2"
      }
     },
     "13008227a0e24bfc9b56ea10382cf54d": {
      "model_module": "@jupyter-widgets/controls",
      "model_module_version": "2.0.0",
      "model_name": "ProgressStyleModel",
      "state": {
       "description_width": ""
      }
     },
     "130340c566f84902b6e5244c236fd99a": {
      "model_module": "@jupyter-widgets/base",
      "model_module_version": "2.0.0",
      "model_name": "LayoutModel",
      "state": {}
     },
     "1323015b9b6945acb644342a7026df10": {
      "model_module": "@jupyter-widgets/base",
      "model_module_version": "2.0.0",
      "model_name": "LayoutModel",
      "state": {}
     },
     "132f99a8d70146ba90e49d9bc99c562b": {
      "model_module": "@jupyter-widgets/base",
      "model_module_version": "2.0.0",
      "model_name": "LayoutModel",
      "state": {}
     },
     "144147323d3b43ea979247023681651e": {
      "model_module": "@jupyter-widgets/controls",
      "model_module_version": "2.0.0",
      "model_name": "FloatProgressModel",
      "state": {
       "bar_style": "success",
       "layout": "IPY_MODEL_2e61ddb0424442a99703d1eb3a24a45c",
       "max": 40,
       "style": "IPY_MODEL_dae97693a05b463fadec0f4bb796bb04",
       "value": 40
      }
     },
     "1454d58fb7b745178eeec17365110d55": {
      "model_module": "@jupyter-widgets/base",
      "model_module_version": "2.0.0",
      "model_name": "LayoutModel",
      "state": {
       "display": "inline-flex",
       "flex_flow": "row wrap",
       "width": "100%"
      }
     },
     "1457b89eab75471b8af7f5e13db99773": {
      "model_module": "@jupyter-widgets/base",
      "model_module_version": "2.0.0",
      "model_name": "LayoutModel",
      "state": {}
     },
     "146fa1cfe53848f48143e6e1adbc7cb4": {
      "model_module": "@jupyter-widgets/controls",
      "model_module_version": "2.0.0",
      "model_name": "HTMLStyleModel",
      "state": {
       "description_width": "",
       "font_size": null,
       "text_color": null
      }
     },
     "148dd579f5d34df8b528938e8420ab89": {
      "model_module": "@jupyter-widgets/base",
      "model_module_version": "2.0.0",
      "model_name": "LayoutModel",
      "state": {}
     },
     "14c7aa357d6a4db2bef4eb69946ea920": {
      "model_module": "@jupyter-widgets/controls",
      "model_module_version": "2.0.0",
      "model_name": "HTMLModel",
      "state": {
       "layout": "IPY_MODEL_ed3b19fd5ef64e4789880815556161c7",
       "style": "IPY_MODEL_8969fa9c881c441fb3812020df689ad9",
       "value": " 40/40 [02:37&lt;00:00,  1.93s/it]"
      }
     },
     "151498cf494444a9a904f929247caacf": {
      "model_module": "@jupyter-widgets/controls",
      "model_module_version": "2.0.0",
      "model_name": "HTMLModel",
      "state": {
       "layout": "IPY_MODEL_1a3e5c28d0514fd18589c4b27dd316ba",
       "style": "IPY_MODEL_4c734937044f451fb847efeb7266639a",
       "value": " 40/40 [02:36&lt;00:00,  1.95s/it]"
      }
     },
     "153ee9c701834cb18429facd0e42676c": {
      "model_module": "@jupyter-widgets/base",
      "model_module_version": "2.0.0",
      "model_name": "LayoutModel",
      "state": {}
     },
     "15602a46eb984133880ce382cc624894": {
      "model_module": "@jupyter-widgets/controls",
      "model_module_version": "2.0.0",
      "model_name": "FloatProgressModel",
      "state": {
       "bar_style": "success",
       "layout": "IPY_MODEL_aeff40e96d1c45d0a7385b076b07146f",
       "max": 40,
       "style": "IPY_MODEL_a748daf42482481dbea5face914188c0",
       "value": 40
      }
     },
     "1578db8801b649bfb6c3074a7e722d58": {
      "model_module": "@jupyter-widgets/base",
      "model_module_version": "2.0.0",
      "model_name": "LayoutModel",
      "state": {}
     },
     "15aaed6efc2c499ab9f84e1f0b305637": {
      "model_module": "@jupyter-widgets/controls",
      "model_module_version": "2.0.0",
      "model_name": "FloatProgressModel",
      "state": {
       "bar_style": "success",
       "layout": "IPY_MODEL_99caab4c40d44830ab31269112d6b5e6",
       "max": 40,
       "style": "IPY_MODEL_169ce4a56c2f4dbd863e7c71e2cff4d4",
       "value": 40
      }
     },
     "15be9ff79bf04d068516df8038bb07f8": {
      "model_module": "@jupyter-widgets/controls",
      "model_module_version": "2.0.0",
      "model_name": "HBoxModel",
      "state": {
       "children": [
        "IPY_MODEL_2c591d3384fb4a8297419251628be13e",
        "IPY_MODEL_e904e8cb13c9436590c81ae18824c667",
        "IPY_MODEL_3d8f95af58434336abbd74c1e077edcb"
       ],
       "layout": "IPY_MODEL_127249329087437d9a23922122b3dcb3"
      }
     },
     "15bedc536f1749ba9905c66989dbcaca": {
      "model_module": "@jupyter-widgets/controls",
      "model_module_version": "2.0.0",
      "model_name": "HTMLModel",
      "state": {
       "layout": "IPY_MODEL_60014f49d0894b35827f4689cc522704",
       "style": "IPY_MODEL_8561d9d898c5446c923e3f46cfbdbfe6",
       "value": " 40/40 [02:36&lt;00:00,  1.99s/it]"
      }
     },
     "167363960e97465aa3cd24d999e50be3": {
      "model_module": "@jupyter-widgets/base",
      "model_module_version": "2.0.0",
      "model_name": "LayoutModel",
      "state": {
       "flex": "2"
      }
     },
     "16932cf8aa554ad58520f338741b7b00": {
      "model_module": "@jupyter-widgets/base",
      "model_module_version": "2.0.0",
      "model_name": "LayoutModel",
      "state": {}
     },
     "169ce4a56c2f4dbd863e7c71e2cff4d4": {
      "model_module": "@jupyter-widgets/controls",
      "model_module_version": "2.0.0",
      "model_name": "ProgressStyleModel",
      "state": {
       "description_width": ""
      }
     },
     "16ba0b66f89f46b38db557f41cb9562e": {
      "model_module": "@jupyter-widgets/base",
      "model_module_version": "2.0.0",
      "model_name": "LayoutModel",
      "state": {}
     },
     "16cf15830e004e95bfc720503b2238f8": {
      "model_module": "@jupyter-widgets/base",
      "model_module_version": "2.0.0",
      "model_name": "LayoutModel",
      "state": {}
     },
     "17047810207448a5a57c34782c26f65d": {
      "model_module": "@jupyter-widgets/base",
      "model_module_version": "2.0.0",
      "model_name": "LayoutModel",
      "state": {}
     },
     "175d7b9e7f2d493bb024b954d35c099f": {
      "model_module": "@jupyter-widgets/controls",
      "model_module_version": "2.0.0",
      "model_name": "ProgressStyleModel",
      "state": {
       "description_width": ""
      }
     },
     "17944162095f4cbc9c75ba0f8c2da41f": {
      "model_module": "@jupyter-widgets/controls",
      "model_module_version": "2.0.0",
      "model_name": "HBoxModel",
      "state": {
       "children": [
        "IPY_MODEL_914cbbd6d9764b0c8bf7a169f737021a",
        "IPY_MODEL_5f445ef70bed42a99c1f95ce060e5809",
        "IPY_MODEL_689c0f7b08e04283b7da2f28ce7aa345"
       ],
       "layout": "IPY_MODEL_95a7ea85d8fa460da6fb7f87d8adb855"
      }
     },
     "1888c48a7f5f4284a83453f1f40189d4": {
      "model_module": "@jupyter-widgets/controls",
      "model_module_version": "2.0.0",
      "model_name": "ProgressStyleModel",
      "state": {
       "description_width": ""
      }
     },
     "18b48eaab7ea476d89229bc4664fc31f": {
      "model_module": "@jupyter-widgets/base",
      "model_module_version": "2.0.0",
      "model_name": "LayoutModel",
      "state": {}
     },
     "18f6b96c5e164d53ad96cfa6f9bc9aa3": {
      "model_module": "@jupyter-widgets/controls",
      "model_module_version": "2.0.0",
      "model_name": "HTMLModel",
      "state": {
       "layout": "IPY_MODEL_d99b94536c30435d8b911b5fd695d4a8",
       "style": "IPY_MODEL_3523ea7867f048bfbdf5ec792e740cd8",
       "value": "Validate (6100 Steps) (DiceMetric=0.57708): 100%"
      }
     },
     "1923d01c49b34ce2a1b0357015fe6e8e": {
      "model_module": "@jupyter-widgets/base",
      "model_module_version": "2.0.0",
      "model_name": "LayoutModel",
      "state": {
       "display": "inline-flex",
       "flex_flow": "row wrap",
       "width": "100%"
      }
     },
     "1939e813866c4b9281f614cd29473430": {
      "model_module": "@jupyter-widgets/controls",
      "model_module_version": "2.0.0",
      "model_name": "HBoxModel",
      "state": {
       "children": [
        "IPY_MODEL_f0223722412e47be91ba2312042de199",
        "IPY_MODEL_10f2b3413319473693dade9b7821b608",
        "IPY_MODEL_da13402cf13840dab51aee317d83c39b"
       ],
       "layout": "IPY_MODEL_74a877ef7b0845a3b8372620698307a4"
      }
     },
     "197ec167757a4e72a9f44ca14cf11bbc": {
      "model_module": "@jupyter-widgets/controls",
      "model_module_version": "2.0.0",
      "model_name": "ProgressStyleModel",
      "state": {
       "description_width": ""
      }
     },
     "19c402c37441486182ff515cc9a0e692": {
      "model_module": "@jupyter-widgets/controls",
      "model_module_version": "2.0.0",
      "model_name": "HTMLModel",
      "state": {
       "layout": "IPY_MODEL_a45d9591daf34887ab686ab2fa691576",
       "style": "IPY_MODEL_207558cbdd0e4e4fba7bfa6da8d589e1",
       "value": " 40/40 [02:32&lt;00:00,  1.91s/it]"
      }
     },
     "1a0cc88d167945d7a2632ffca634cfae": {
      "model_module": "@jupyter-widgets/controls",
      "model_module_version": "2.0.0",
      "model_name": "HBoxModel",
      "state": {
       "children": [
        "IPY_MODEL_a4950489f03e4e2bbf061fc643a5454a",
        "IPY_MODEL_528c89f9949f4d2eb552b3b2867bb55c",
        "IPY_MODEL_856324bd6af343b7b4a7cd98baed5106"
       ],
       "layout": "IPY_MODEL_dafe33071ae84735b8543439a6ba80ba"
      }
     },
     "1a3e5c28d0514fd18589c4b27dd316ba": {
      "model_module": "@jupyter-widgets/base",
      "model_module_version": "2.0.0",
      "model_name": "LayoutModel",
      "state": {}
     },
     "1aa746c08b9441b5827ab7f4a65f8b34": {
      "model_module": "@jupyter-widgets/base",
      "model_module_version": "2.0.0",
      "model_name": "LayoutModel",
      "state": {
       "flex": "2"
      }
     },
     "1b10779069ac44c084eabed68805aa60": {
      "model_module": "@jupyter-widgets/base",
      "model_module_version": "2.0.0",
      "model_name": "LayoutModel",
      "state": {
       "display": "inline-flex",
       "flex_flow": "row wrap",
       "width": "100%"
      }
     },
     "1b5d3e50276242779658a92714525e76": {
      "model_module": "@jupyter-widgets/base",
      "model_module_version": "2.0.0",
      "model_name": "LayoutModel",
      "state": {}
     },
     "1bdc5202110b4c3c9933c77d8d8b8d8b": {
      "model_module": "@jupyter-widgets/controls",
      "model_module_version": "2.0.0",
      "model_name": "ProgressStyleModel",
      "state": {
       "description_width": ""
      }
     },
     "1c3b6875f80e44d9bea25696fbdcd348": {
      "model_module": "@jupyter-widgets/controls",
      "model_module_version": "2.0.0",
      "model_name": "ProgressStyleModel",
      "state": {
       "description_width": ""
      }
     },
     "1cd6907ebefe4d4fb19c087fc0c1b65b": {
      "model_module": "@jupyter-widgets/controls",
      "model_module_version": "2.0.0",
      "model_name": "HTMLStyleModel",
      "state": {
       "description_width": "",
       "font_size": null,
       "text_color": null
      }
     },
     "1d1bbcf9207540e9b51d6b456fd7a9b6": {
      "model_module": "@jupyter-widgets/base",
      "model_module_version": "2.0.0",
      "model_name": "LayoutModel",
      "state": {
       "display": "inline-flex",
       "flex_flow": "row wrap",
       "width": "100%"
      }
     },
     "1d1c009cd7c64926a6834f6b9b1345ba": {
      "model_module": "@jupyter-widgets/controls",
      "model_module_version": "2.0.0",
      "model_name": "HBoxModel",
      "state": {
       "children": [
        "IPY_MODEL_efa3545503f642bbb185e5f7cbf31291",
        "IPY_MODEL_99887154663d4dda810970c4a5ba8de4",
        "IPY_MODEL_0f248be6423346c181afe17c822fee51"
       ],
       "layout": "IPY_MODEL_54e73fe5c4df4a299b65e42bfe656c8d"
      }
     },
     "1d3d6ba7e794453ea4cdd8a080eee0b3": {
      "model_module": "@jupyter-widgets/controls",
      "model_module_version": "2.0.0",
      "model_name": "ProgressStyleModel",
      "state": {
       "description_width": ""
      }
     },
     "1db07433bde44a87b8f8bd6dffe06370": {
      "model_module": "@jupyter-widgets/base",
      "model_module_version": "2.0.0",
      "model_name": "LayoutModel",
      "state": {
       "display": "inline-flex",
       "flex_flow": "row wrap",
       "width": "100%"
      }
     },
     "1db47fe504c2426a876fd2f532cd5c54": {
      "model_module": "@jupyter-widgets/controls",
      "model_module_version": "2.0.0",
      "model_name": "ProgressStyleModel",
      "state": {
       "description_width": ""
      }
     },
     "1db70a2b10a344538ee7bfd2e72c2f9b": {
      "model_module": "@jupyter-widgets/controls",
      "model_module_version": "2.0.0",
      "model_name": "HTMLStyleModel",
      "state": {
       "description_width": "",
       "font_size": null,
       "text_color": null
      }
     },
     "1dbb47e7317740eaace0c6db0eebb931": {
      "model_module": "@jupyter-widgets/base",
      "model_module_version": "2.0.0",
      "model_name": "LayoutModel",
      "state": {}
     },
     "1dd0d748eb8e4938b20b20ea7f624075": {
      "model_module": "@jupyter-widgets/base",
      "model_module_version": "2.0.0",
      "model_name": "LayoutModel",
      "state": {
       "display": "inline-flex",
       "flex_flow": "row wrap",
       "width": "100%"
      }
     },
     "1dd6617126974486a9ade748be974115": {
      "model_module": "@jupyter-widgets/base",
      "model_module_version": "2.0.0",
      "model_name": "LayoutModel",
      "state": {
       "display": "inline-flex",
       "flex_flow": "row wrap",
       "width": "100%"
      }
     },
     "1eacefbe70c049fc9ef28a785a48d956": {
      "model_module": "@jupyter-widgets/controls",
      "model_module_version": "2.0.0",
      "model_name": "HTMLModel",
      "state": {
       "layout": "IPY_MODEL_937530c410f841189308fa8f4b3d5dfd",
       "style": "IPY_MODEL_20a5208d2a6a4a88bee1b703f2fd4e4b",
       "value": " 40/40 [02:33&lt;00:00,  1.92s/it]"
      }
     },
     "1ebed120e7e541a6b1f481662ba933ae": {
      "model_module": "@jupyter-widgets/controls",
      "model_module_version": "2.0.0",
      "model_name": "HTMLModel",
      "state": {
       "layout": "IPY_MODEL_1109ce2daa1042988bf71f8f5325de47",
       "style": "IPY_MODEL_b07237cd8c204deb87dc605e1cf238b0",
       "value": "Validate (5100 Steps) (DiceMetric=0.52665): 100%"
      }
     },
     "1ec1e7107b384ab6ad736306a27f5e24": {
      "model_module": "@jupyter-widgets/controls",
      "model_module_version": "2.0.0",
      "model_name": "HTMLStyleModel",
      "state": {
       "description_width": "",
       "font_size": null,
       "text_color": null
      }
     },
     "1edb5e2319e74cf7bffbff0da4522a24": {
      "model_module": "@jupyter-widgets/controls",
      "model_module_version": "2.0.0",
      "model_name": "HBoxModel",
      "state": {
       "children": [
        "IPY_MODEL_fcebfa838a4b467fbeb7de6990b2fc0a",
        "IPY_MODEL_144147323d3b43ea979247023681651e",
        "IPY_MODEL_2fadc2ca1add484bb6fb34e3744ad62d"
       ],
       "layout": "IPY_MODEL_843c5d5a12c044779387a958fa6e7be3"
      }
     },
     "1edce3e11f0049bd96d8a75ae6b341a4": {
      "model_module": "@jupyter-widgets/controls",
      "model_module_version": "2.0.0",
      "model_name": "ProgressStyleModel",
      "state": {
       "description_width": ""
      }
     },
     "1fe722ec84d34475b6d3cc0b326eb694": {
      "model_module": "@jupyter-widgets/controls",
      "model_module_version": "2.0.0",
      "model_name": "HTMLStyleModel",
      "state": {
       "description_width": "",
       "font_size": null,
       "text_color": null
      }
     },
     "206e7898116c48a985ee3d671b285792": {
      "model_module": "@jupyter-widgets/controls",
      "model_module_version": "2.0.0",
      "model_name": "ProgressStyleModel",
      "state": {
       "description_width": ""
      }
     },
     "207558cbdd0e4e4fba7bfa6da8d589e1": {
      "model_module": "@jupyter-widgets/controls",
      "model_module_version": "2.0.0",
      "model_name": "HTMLStyleModel",
      "state": {
       "description_width": "",
       "font_size": null,
       "text_color": null
      }
     },
     "20792a7af3264cd0aebd5e2c07b4fb6f": {
      "model_module": "@jupyter-widgets/base",
      "model_module_version": "2.0.0",
      "model_name": "LayoutModel",
      "state": {
       "flex": "2"
      }
     },
     "20983e3ac611439f857f3f9ca5c2046f": {
      "model_module": "@jupyter-widgets/controls",
      "model_module_version": "2.0.0",
      "model_name": "HTMLStyleModel",
      "state": {
       "description_width": "",
       "font_size": null,
       "text_color": null
      }
     },
     "20a5208d2a6a4a88bee1b703f2fd4e4b": {
      "model_module": "@jupyter-widgets/controls",
      "model_module_version": "2.0.0",
      "model_name": "HTMLStyleModel",
      "state": {
       "description_width": "",
       "font_size": null,
       "text_color": null
      }
     },
     "20d523420f8449e1862c28809b707938": {
      "model_module": "@jupyter-widgets/controls",
      "model_module_version": "2.0.0",
      "model_name": "HBoxModel",
      "state": {
       "children": [
        "IPY_MODEL_41f66b369ebc422fa46a1b2215cd9288",
        "IPY_MODEL_c23e8ebc912b4d7fab560a62ab504656",
        "IPY_MODEL_4e845eb63a2a4e2d840a106afe3442b8"
       ],
       "layout": "IPY_MODEL_fbd8121ab7fa4385a6707b2f305167aa"
      }
     },
     "20eebab38faa43a0b1ad125e2dea41a8": {
      "model_module": "@jupyter-widgets/controls",
      "model_module_version": "2.0.0",
      "model_name": "ProgressStyleModel",
      "state": {
       "description_width": ""
      }
     },
     "2118261b2a664eeaa0198a9c07f35b90": {
      "model_module": "@jupyter-widgets/base",
      "model_module_version": "2.0.0",
      "model_name": "LayoutModel",
      "state": {
       "flex": "2"
      }
     },
     "21bf8c31341a45288d038144a6946da2": {
      "model_module": "@jupyter-widgets/controls",
      "model_module_version": "2.0.0",
      "model_name": "HTMLModel",
      "state": {
       "layout": "IPY_MODEL_5e8cfbb0bed34537b6b66308a9a1bfff",
       "style": "IPY_MODEL_3e44593f591447498d78fe47d1c6aa34",
       "value": " 40/40 [02:37&lt;00:00,  1.96s/it]"
      }
     },
     "21ea7182ae9b4931b2181a03c3da70a6": {
      "model_module": "@jupyter-widgets/controls",
      "model_module_version": "2.0.0",
      "model_name": "FloatProgressModel",
      "state": {
       "bar_style": "success",
       "layout": "IPY_MODEL_38adde739a1f4fd3869a85bc4f367cee",
       "max": 40,
       "style": "IPY_MODEL_5d038061c7154d9285883b3d45ae0f77",
       "value": 40
      }
     },
     "21ec70c3939843a1a603094a441cf389": {
      "model_module": "@jupyter-widgets/controls",
      "model_module_version": "2.0.0",
      "model_name": "HTMLStyleModel",
      "state": {
       "description_width": "",
       "font_size": null,
       "text_color": null
      }
     },
     "21f012210f1547e4b7ba8c2bbabdd91e": {
      "model_module": "@jupyter-widgets/controls",
      "model_module_version": "2.0.0",
      "model_name": "HBoxModel",
      "state": {
       "children": [
        "IPY_MODEL_8acd54b6e24645daa493ee8515e1d4be",
        "IPY_MODEL_04120810eac844818bef974eaed93dff",
        "IPY_MODEL_09eae29bdf9343409e05ce1f789e84ff"
       ],
       "layout": "IPY_MODEL_1d1bbcf9207540e9b51d6b456fd7a9b6"
      }
     },
     "220de25b82d942ab827bc5f9b6a03918": {
      "model_module": "@jupyter-widgets/controls",
      "model_module_version": "2.0.0",
      "model_name": "FloatProgressModel",
      "state": {
       "bar_style": "success",
       "layout": "IPY_MODEL_90a27c6b3a0b403aa516c26743ec2127",
       "max": 40,
       "style": "IPY_MODEL_593b3cca31b94e1784d1b065dd010465",
       "value": 40
      }
     },
     "222b8eed54e14e79bfa96e6537b98690": {
      "model_module": "@jupyter-widgets/controls",
      "model_module_version": "2.0.0",
      "model_name": "HTMLStyleModel",
      "state": {
       "description_width": "",
       "font_size": null,
       "text_color": null
      }
     },
     "2237e5a0a1dd4333ab7665bfa27602dc": {
      "model_module": "@jupyter-widgets/controls",
      "model_module_version": "2.0.0",
      "model_name": "HTMLStyleModel",
      "state": {
       "description_width": "",
       "font_size": null,
       "text_color": null
      }
     },
     "22ebdc40b9bd46edbf34d686d6556955": {
      "model_module": "@jupyter-widgets/base",
      "model_module_version": "2.0.0",
      "model_name": "LayoutModel",
      "state": {}
     },
     "2349a0f7116b498daeaa961bdd7ce1ee": {
      "model_module": "@jupyter-widgets/controls",
      "model_module_version": "2.0.0",
      "model_name": "HTMLStyleModel",
      "state": {
       "description_width": "",
       "font_size": null,
       "text_color": null
      }
     },
     "23539ded2f3046d2b83bbfb542579e16": {
      "model_module": "@jupyter-widgets/controls",
      "model_module_version": "2.0.0",
      "model_name": "HTMLModel",
      "state": {
       "layout": "IPY_MODEL_2c23a31015fb48e7830da67129d8c2a2",
       "style": "IPY_MODEL_690ad8a5c5df45c2a760e08bf0ff7a4d",
       "value": " 40/40 [02:34&lt;00:00,  1.94s/it]"
      }
     },
     "237edd91146d4023a4a4a64189236736": {
      "model_module": "@jupyter-widgets/base",
      "model_module_version": "2.0.0",
      "model_name": "LayoutModel",
      "state": {}
     },
     "23fd5caa9824418facfa2395f0531cd4": {
      "model_module": "@jupyter-widgets/controls",
      "model_module_version": "2.0.0",
      "model_name": "HTMLStyleModel",
      "state": {
       "description_width": "",
       "font_size": null,
       "text_color": null
      }
     },
     "242bd16294e340aa9dc29068dcd5e26b": {
      "model_module": "@jupyter-widgets/controls",
      "model_module_version": "2.0.0",
      "model_name": "HTMLStyleModel",
      "state": {
       "description_width": "",
       "font_size": null,
       "text_color": null
      }
     },
     "243fd08a7c9643e5b53703c3413fd3fd": {
      "model_module": "@jupyter-widgets/controls",
      "model_module_version": "2.0.0",
      "model_name": "HTMLModel",
      "state": {
       "layout": "IPY_MODEL_3866de4c6c9e423a8f88aaefffe56c01",
       "style": "IPY_MODEL_4ef7d3a053994557a209aa820674cbbc",
       "value": " 40/40 [02:34&lt;00:00,  1.95s/it]"
      }
     },
     "24599490388848b2b9e4bfed38b8f976": {
      "model_module": "@jupyter-widgets/base",
      "model_module_version": "2.0.0",
      "model_name": "LayoutModel",
      "state": {}
     },
     "2485aaa2aa2948a0b5990e1739d40aca": {
      "model_module": "@jupyter-widgets/controls",
      "model_module_version": "2.0.0",
      "model_name": "HBoxModel",
      "state": {
       "children": [
        "IPY_MODEL_4660e437187643ce9cbe38a22c88db41",
        "IPY_MODEL_25abd0c4e53a43a69979ed2eab511776",
        "IPY_MODEL_887c743052ac4606803dc2f4843ac3d7"
       ],
       "layout": "IPY_MODEL_b4dc12bb06a049c8aa987b28e3781623"
      }
     },
     "24daa858235d4ccea069f3357c2db7d9": {
      "model_module": "@jupyter-widgets/controls",
      "model_module_version": "2.0.0",
      "model_name": "HTMLStyleModel",
      "state": {
       "description_width": "",
       "font_size": null,
       "text_color": null
      }
     },
     "24ec3e09632d40ba8d7dd6e4b9b38c56": {
      "model_module": "@jupyter-widgets/controls",
      "model_module_version": "2.0.0",
      "model_name": "HTMLModel",
      "state": {
       "layout": "IPY_MODEL_5d8c3bc736a94448863bf2fd29de9087",
       "style": "IPY_MODEL_29ee5356ebca400c908089aea7d4dc0f",
       "value": "Validate (7300 Steps) (DiceMetric=0.74376): 100%"
      }
     },
     "24f2146f591945949974bd023543af8d": {
      "model_module": "@jupyter-widgets/base",
      "model_module_version": "2.0.0",
      "model_name": "LayoutModel",
      "state": {}
     },
     "24fb7e0ede9745e186dd51b552be33c2": {
      "model_module": "@jupyter-widgets/controls",
      "model_module_version": "2.0.0",
      "model_name": "HTMLModel",
      "state": {
       "layout": "IPY_MODEL_24599490388848b2b9e4bfed38b8f976",
       "style": "IPY_MODEL_6399ea9f66b14dff9cd0d6ba5d983f25",
       "value": " 40/40 [02:34&lt;00:00,  1.94s/it]"
      }
     },
     "2522c712e4f34045a43c3bca82d3dfc5": {
      "model_module": "@jupyter-widgets/controls",
      "model_module_version": "2.0.0",
      "model_name": "HTMLModel",
      "state": {
       "layout": "IPY_MODEL_6e16a97c46a448a6a7ef375797f03e92",
       "style": "IPY_MODEL_8a34b9d784e3471cad28e789c0692f85",
       "value": "Validate (1600 Steps) (DiceMetric=0.33939): 100%"
      }
     },
     "253060ecd14e465a96fe1fa5736d2fff": {
      "model_module": "@jupyter-widgets/base",
      "model_module_version": "2.0.0",
      "model_name": "LayoutModel",
      "state": {
       "display": "inline-flex",
       "flex_flow": "row wrap",
       "width": "100%"
      }
     },
     "2544e979339a4c7ea3038cd0e8c4c15a": {
      "model_module": "@jupyter-widgets/controls",
      "model_module_version": "2.0.0",
      "model_name": "HTMLModel",
      "state": {
       "layout": "IPY_MODEL_24f2146f591945949974bd023543af8d",
       "style": "IPY_MODEL_1ec1e7107b384ab6ad736306a27f5e24",
       "value": " 120/120 [09:10&lt;00:00,  2.00s/it]"
      }
     },
     "25abd0c4e53a43a69979ed2eab511776": {
      "model_module": "@jupyter-widgets/controls",
      "model_module_version": "2.0.0",
      "model_name": "FloatProgressModel",
      "state": {
       "bar_style": "success",
       "layout": "IPY_MODEL_20792a7af3264cd0aebd5e2c07b4fb6f",
       "max": 40,
       "style": "IPY_MODEL_06d25a587a994a7fbc0d61a453f8e66d",
       "value": 40
      }
     },
     "261ea83aa4a542e29f9c06cf79b25659": {
      "model_module": "@jupyter-widgets/base",
      "model_module_version": "2.0.0",
      "model_name": "LayoutModel",
      "state": {
       "flex": "2"
      }
     },
     "26720a45250a4093b0df10f883e5561e": {
      "model_module": "@jupyter-widgets/base",
      "model_module_version": "2.0.0",
      "model_name": "LayoutModel",
      "state": {
       "flex": "2"
      }
     },
     "26e89dc0726f435f938bed70e5653cc3": {
      "model_module": "@jupyter-widgets/controls",
      "model_module_version": "2.0.0",
      "model_name": "HTMLModel",
      "state": {
       "layout": "IPY_MODEL_8645d13bbda5439a9122cc652099829c",
       "style": "IPY_MODEL_e10f9f1e6f554594806c8817736e4979",
       "value": "Validate (5400 Steps) (DiceMetric=0.42534): 100%"
      }
     },
     "2734c4f02f6247a99bf1c89fff8c113b": {
      "model_module": "@jupyter-widgets/controls",
      "model_module_version": "2.0.0",
      "model_name": "HTMLModel",
      "state": {
       "layout": "IPY_MODEL_b32d012c131c4105b1b9218aba068126",
       "style": "IPY_MODEL_38f559900ba54c2babb4245f32a1dd47",
       "value": " 40/40 [02:37&lt;00:00,  1.94s/it]"
      }
     },
     "27a9843d5fa44c438bb6abf79996083a": {
      "model_module": "@jupyter-widgets/controls",
      "model_module_version": "2.0.0",
      "model_name": "HTMLStyleModel",
      "state": {
       "description_width": "",
       "font_size": null,
       "text_color": null
      }
     },
     "27c1437419fc48498d3aacdde307dfd3": {
      "model_module": "@jupyter-widgets/controls",
      "model_module_version": "2.0.0",
      "model_name": "HTMLStyleModel",
      "state": {
       "description_width": "",
       "font_size": null,
       "text_color": null
      }
     },
     "27e1a063c26f423dac10101cf8d5c0a8": {
      "model_module": "@jupyter-widgets/base",
      "model_module_version": "2.0.0",
      "model_name": "LayoutModel",
      "state": {
       "display": "inline-flex",
       "flex_flow": "row wrap",
       "width": "100%"
      }
     },
     "280b32bad40e417c91e92fbd498dd3ee": {
      "model_module": "@jupyter-widgets/base",
      "model_module_version": "2.0.0",
      "model_name": "LayoutModel",
      "state": {
       "flex": "2"
      }
     },
     "2898c5da20d0406095a36344e1ec4f27": {
      "model_module": "@jupyter-widgets/controls",
      "model_module_version": "2.0.0",
      "model_name": "FloatProgressModel",
      "state": {
       "bar_style": "success",
       "layout": "IPY_MODEL_da2fbcda0deb411792bca8f4fdb614a2",
       "max": 40,
       "style": "IPY_MODEL_f8ad7f6bde1144958a5b18eef59497a4",
       "value": 40
      }
     },
     "28c3993b4d6d42728ab8c2b3cbe1840a": {
      "model_module": "@jupyter-widgets/controls",
      "model_module_version": "2.0.0",
      "model_name": "HTMLStyleModel",
      "state": {
       "description_width": "",
       "font_size": null,
       "text_color": null
      }
     },
     "28c65fbd17dd42d0a685eb798b6735e3": {
      "model_module": "@jupyter-widgets/base",
      "model_module_version": "2.0.0",
      "model_name": "LayoutModel",
      "state": {
       "flex": "2"
      }
     },
     "28d6e0fc2a7c4883a93665bf53023488": {
      "model_module": "@jupyter-widgets/controls",
      "model_module_version": "2.0.0",
      "model_name": "FloatProgressModel",
      "state": {
       "bar_style": "success",
       "layout": "IPY_MODEL_d6390c579e9d4686b1a1eb48e8841016",
       "max": 40,
       "style": "IPY_MODEL_175d7b9e7f2d493bb024b954d35c099f",
       "value": 40
      }
     },
     "290dacdefca44927ae91eaae5c98ec44": {
      "model_module": "@jupyter-widgets/controls",
      "model_module_version": "2.0.0",
      "model_name": "HBoxModel",
      "state": {
       "children": [
        "IPY_MODEL_5c7510e09c134bf5bcca840b53c79571",
        "IPY_MODEL_4493e69dc08c49658df9eaa1c2b04bb4",
        "IPY_MODEL_60913f22fe864bed8771127ef513bc54"
       ],
       "layout": "IPY_MODEL_b10be7a26f134498a66d39a423b537e0"
      }
     },
     "29185e505b00421c9e2c3f1c56aea6c7": {
      "model_module": "@jupyter-widgets/controls",
      "model_module_version": "2.0.0",
      "model_name": "HTMLModel",
      "state": {
       "layout": "IPY_MODEL_2f92e7f45cb1447b9883cf36137d484e",
       "style": "IPY_MODEL_52e5b5b1a0314718a4a90a23bd9c1b48",
       "value": " 40/40 [02:37&lt;00:00,  1.99s/it]"
      }
     },
     "2956914d53074c28a09717e125a3aeb2": {
      "model_module": "@jupyter-widgets/controls",
      "model_module_version": "2.0.0",
      "model_name": "HTMLModel",
      "state": {
       "layout": "IPY_MODEL_a64c4675c2fc408bb3d1ace32a9b5bfe",
       "style": "IPY_MODEL_8ef281274457496aae0953e29138406c",
       "value": "Validate (6200 Steps) (DiceMetric=0.37767): 100%"
      }
     },
     "295e4eb1307548b688e4fe36610979d3": {
      "model_module": "@jupyter-widgets/base",
      "model_module_version": "2.0.0",
      "model_name": "LayoutModel",
      "state": {
       "flex": "2"
      }
     },
     "2961cc1bc45841a4b7646529ddce27ff": {
      "model_module": "@jupyter-widgets/controls",
      "model_module_version": "2.0.0",
      "model_name": "HBoxModel",
      "state": {
       "children": [
        "IPY_MODEL_b5c59ab229b24cccb61561cc7ed13d38",
        "IPY_MODEL_ebedd3d8dc94479698b42f4344267f0e",
        "IPY_MODEL_f40f950001454af4bdb1551818ccef7f"
       ],
       "layout": "IPY_MODEL_eabaa4a5278d4d57b4915d33cebd2406"
      }
     },
     "2992c62fede04ae1abd9e501978ea00b": {
      "model_module": "@jupyter-widgets/base",
      "model_module_version": "2.0.0",
      "model_name": "LayoutModel",
      "state": {}
     },
     "299a0fd2f6d44d18bf42d7a3808578ec": {
      "model_module": "@jupyter-widgets/base",
      "model_module_version": "2.0.0",
      "model_name": "LayoutModel",
      "state": {}
     },
     "29a81818452240ce86f87ad1f36359e1": {
      "model_module": "@jupyter-widgets/controls",
      "model_module_version": "2.0.0",
      "model_name": "ProgressStyleModel",
      "state": {
       "description_width": ""
      }
     },
     "29ee5356ebca400c908089aea7d4dc0f": {
      "model_module": "@jupyter-widgets/controls",
      "model_module_version": "2.0.0",
      "model_name": "HTMLStyleModel",
      "state": {
       "description_width": "",
       "font_size": null,
       "text_color": null
      }
     },
     "2a5f79eca3b44c92b33707c8b82067ef": {
      "model_module": "@jupyter-widgets/controls",
      "model_module_version": "2.0.0",
      "model_name": "ProgressStyleModel",
      "state": {
       "description_width": ""
      }
     },
     "2b097811255a40f58dcf3800ab607534": {
      "model_module": "@jupyter-widgets/controls",
      "model_module_version": "2.0.0",
      "model_name": "HTMLStyleModel",
      "state": {
       "description_width": "",
       "font_size": null,
       "text_color": null
      }
     },
     "2b140f0c66264c2488270f6d3ec8c1ea": {
      "model_module": "@jupyter-widgets/controls",
      "model_module_version": "2.0.0",
      "model_name": "HBoxModel",
      "state": {
       "children": [
        "IPY_MODEL_b2c591363270453ab1bf8ee53e55efba",
        "IPY_MODEL_15602a46eb984133880ce382cc624894",
        "IPY_MODEL_c652388023e64783b495ac339c209df0"
       ],
       "layout": "IPY_MODEL_9849cf096cc749df8b98dc3d31dc4524"
      }
     },
     "2b454df686d848a2b731beae08361b0c": {
      "model_module": "@jupyter-widgets/controls",
      "model_module_version": "2.0.0",
      "model_name": "ProgressStyleModel",
      "state": {
       "description_width": ""
      }
     },
     "2b5f5903ea4b44bca971102ad4c1e57c": {
      "model_module": "@jupyter-widgets/controls",
      "model_module_version": "2.0.0",
      "model_name": "HTMLModel",
      "state": {
       "layout": "IPY_MODEL_c57ac087a3ce48caa49d431c7804614d",
       "style": "IPY_MODEL_639ca35116cf4ae98125f97f19ecb89a",
       "value": " 40/40 [02:33&lt;00:00,  1.90s/it]"
      }
     },
     "2b7b3481ae004d62b96a90c6cfe8a92c": {
      "model_module": "@jupyter-widgets/base",
      "model_module_version": "2.0.0",
      "model_name": "LayoutModel",
      "state": {
       "display": "inline-flex",
       "flex_flow": "row wrap",
       "width": "100%"
      }
     },
     "2be11382d63a4bc8b3ad9116b057b4a2": {
      "model_module": "@jupyter-widgets/base",
      "model_module_version": "2.0.0",
      "model_name": "LayoutModel",
      "state": {}
     },
     "2c23a31015fb48e7830da67129d8c2a2": {
      "model_module": "@jupyter-widgets/base",
      "model_module_version": "2.0.0",
      "model_name": "LayoutModel",
      "state": {}
     },
     "2c591d3384fb4a8297419251628be13e": {
      "model_module": "@jupyter-widgets/controls",
      "model_module_version": "2.0.0",
      "model_name": "HTMLModel",
      "state": {
       "layout": "IPY_MODEL_374eb8b98deb4b87ae074c1fadc4ac3c",
       "style": "IPY_MODEL_0d7b273bb8b04c2b90fb41456933de14",
       "value": "Validate (6400 Steps) (DiceMetric=0.53858): 100%"
      }
     },
     "2cb71f167a5d458db866a90d6bae865e": {
      "model_module": "@jupyter-widgets/base",
      "model_module_version": "2.0.0",
      "model_name": "LayoutModel",
      "state": {
       "flex": "2"
      }
     },
     "2cb87ce7b4f8443b8ee8fb14eefba30d": {
      "model_module": "@jupyter-widgets/controls",
      "model_module_version": "2.0.0",
      "model_name": "HTMLStyleModel",
      "state": {
       "description_width": "",
       "font_size": null,
       "text_color": null
      }
     },
     "2cc54ddf0ef747a589a0835e4a37ec1d": {
      "model_module": "@jupyter-widgets/controls",
      "model_module_version": "2.0.0",
      "model_name": "HTMLModel",
      "state": {
       "layout": "IPY_MODEL_1457b89eab75471b8af7f5e13db99773",
       "style": "IPY_MODEL_9efeef4872b64256ab57988a5231bac7",
       "value": " 40/40 [02:34&lt;00:00,  1.94s/it]"
      }
     },
     "2cf28ea59e114d909f0340d7d691a378": {
      "model_module": "@jupyter-widgets/controls",
      "model_module_version": "2.0.0",
      "model_name": "HTMLModel",
      "state": {
       "layout": "IPY_MODEL_299a0fd2f6d44d18bf42d7a3808578ec",
       "style": "IPY_MODEL_6dfb5251a09242a8b732f8c2edfe9197",
       "value": "Validate (6500 Steps) (DiceMetric=0.63093): 100%"
      }
     },
     "2d0866c6a26240659e874e59fd79507b": {
      "model_module": "@jupyter-widgets/base",
      "model_module_version": "2.0.0",
      "model_name": "LayoutModel",
      "state": {}
     },
     "2d0a05c2fc4a43ff99d641d0b681f7b6": {
      "model_module": "@jupyter-widgets/controls",
      "model_module_version": "2.0.0",
      "model_name": "HTMLModel",
      "state": {
       "layout": "IPY_MODEL_6c0853d0034e46dd96df6e510bc43bac",
       "style": "IPY_MODEL_f343cd59e70b4d9c8c339f421f641355",
       "value": " 40/40 [02:36&lt;00:00,  1.94s/it]"
      }
     },
     "2d329d1149184407981a3607f527a93a": {
      "model_module": "@jupyter-widgets/controls",
      "model_module_version": "2.0.0",
      "model_name": "FloatProgressModel",
      "state": {
       "bar_style": "success",
       "layout": "IPY_MODEL_899da72e759f466e9ab9292d7e1e9e6b",
       "max": 40,
       "style": "IPY_MODEL_12abc8213f9f4929b7feb4fe1f2adbca",
       "value": 40
      }
     },
     "2d8cd2fcf0a7414295a9ad02363bd422": {
      "model_module": "@jupyter-widgets/base",
      "model_module_version": "2.0.0",
      "model_name": "LayoutModel",
      "state": {
       "flex": "2"
      }
     },
     "2dbd63f111e146d9af0f94e5371b2026": {
      "model_module": "@jupyter-widgets/controls",
      "model_module_version": "2.0.0",
      "model_name": "HTMLStyleModel",
      "state": {
       "description_width": "",
       "font_size": null,
       "text_color": null
      }
     },
     "2ddd42080d2f43a9a026cad2d588a1d6": {
      "model_module": "@jupyter-widgets/controls",
      "model_module_version": "2.0.0",
      "model_name": "ProgressStyleModel",
      "state": {
       "description_width": ""
      }
     },
     "2dec811c3e01426e8edce72c66a6c466": {
      "model_module": "@jupyter-widgets/controls",
      "model_module_version": "2.0.0",
      "model_name": "HTMLStyleModel",
      "state": {
       "description_width": "",
       "font_size": null,
       "text_color": null
      }
     },
     "2e61ddb0424442a99703d1eb3a24a45c": {
      "model_module": "@jupyter-widgets/base",
      "model_module_version": "2.0.0",
      "model_name": "LayoutModel",
      "state": {
       "flex": "2"
      }
     },
     "2e82cc9eab6c45ebb98c21317bb02f28": {
      "model_module": "@jupyter-widgets/base",
      "model_module_version": "2.0.0",
      "model_name": "LayoutModel",
      "state": {}
     },
     "2f4b346a0c1340418bdca7a9623da347": {
      "model_module": "@jupyter-widgets/controls",
      "model_module_version": "2.0.0",
      "model_name": "ProgressStyleModel",
      "state": {
       "description_width": ""
      }
     },
     "2f8bde0c85e94ab8a5ec388c66d0915e": {
      "model_module": "@jupyter-widgets/base",
      "model_module_version": "2.0.0",
      "model_name": "LayoutModel",
      "state": {
       "display": "inline-flex",
       "flex_flow": "row wrap",
       "width": "100%"
      }
     },
     "2f92e7f45cb1447b9883cf36137d484e": {
      "model_module": "@jupyter-widgets/base",
      "model_module_version": "2.0.0",
      "model_name": "LayoutModel",
      "state": {}
     },
     "2faa5fd495d74e5dbea14ad96022ed07": {
      "model_module": "@jupyter-widgets/controls",
      "model_module_version": "2.0.0",
      "model_name": "FloatProgressModel",
      "state": {
       "bar_style": "success",
       "layout": "IPY_MODEL_2d8cd2fcf0a7414295a9ad02363bd422",
       "max": 40,
       "style": "IPY_MODEL_6ebb73fe20fc4ec6a6da8c7e3e7c49dd",
       "value": 40
      }
     },
     "2fadc2ca1add484bb6fb34e3744ad62d": {
      "model_module": "@jupyter-widgets/controls",
      "model_module_version": "2.0.0",
      "model_name": "HTMLModel",
      "state": {
       "layout": "IPY_MODEL_0846b00b78cc48458ff35828568edeeb",
       "style": "IPY_MODEL_67e2f9557cc949ea91a1a9e49119563d",
       "value": " 40/40 [02:33&lt;00:00,  1.90s/it]"
      }
     },
     "2ff20f8ad8c84cdc94ebd850e8f8cccd": {
      "model_module": "@jupyter-widgets/controls",
      "model_module_version": "2.0.0",
      "model_name": "FloatProgressModel",
      "state": {
       "bar_style": "success",
       "layout": "IPY_MODEL_d5636c8cf720424d86d5c31143b5229a",
       "max": 40,
       "style": "IPY_MODEL_b6ca5f36722947f582fcf469a5b26c66",
       "value": 40
      }
     },
     "30242d20d0af47f4980e30adcba9d69e": {
      "model_module": "@jupyter-widgets/controls",
      "model_module_version": "2.0.0",
      "model_name": "HTMLModel",
      "state": {
       "layout": "IPY_MODEL_fa611d93deaf4e4e9a895f82a645f53b",
       "style": "IPY_MODEL_b7979480e8ca4a8ea1d02716db6e9160",
       "value": "Training (10000 / 10000 Steps) (loss=0.89465): 100%"
      }
     },
     "30e977aaee864944a015a39e17cedf4a": {
      "model_module": "@jupyter-widgets/base",
      "model_module_version": "2.0.0",
      "model_name": "LayoutModel",
      "state": {}
     },
     "315c86f3005249689c8b8087e681a776": {
      "model_module": "@jupyter-widgets/controls",
      "model_module_version": "2.0.0",
      "model_name": "ProgressStyleModel",
      "state": {
       "description_width": ""
      }
     },
     "31efa4250aa84222ad11edcbdc5faa0e": {
      "model_module": "@jupyter-widgets/controls",
      "model_module_version": "2.0.0",
      "model_name": "ProgressStyleModel",
      "state": {
       "description_width": ""
      }
     },
     "322e6c36ba824f50bfd85ae077e12bf7": {
      "model_module": "@jupyter-widgets/controls",
      "model_module_version": "2.0.0",
      "model_name": "HBoxModel",
      "state": {
       "children": [
        "IPY_MODEL_9512643fb5584d87ad6198c1bea32002",
        "IPY_MODEL_f01311d3aff140e2a7521df23b1e5533",
        "IPY_MODEL_919abc56afd747be9cea5ce3122a50d5"
       ],
       "layout": "IPY_MODEL_ba841ec7f11549ce96282920c9efc246"
      }
     },
     "327a2f8c48a144ed976cb406c110a4ef": {
      "model_module": "@jupyter-widgets/controls",
      "model_module_version": "2.0.0",
      "model_name": "FloatProgressModel",
      "state": {
       "bar_style": "success",
       "layout": "IPY_MODEL_be1b790bde974db097ed6f8bebf2ce95",
       "max": 40,
       "style": "IPY_MODEL_29a81818452240ce86f87ad1f36359e1",
       "value": 40
      }
     },
     "32b35c9a700f433e9542ae3525d6f34d": {
      "model_module": "@jupyter-widgets/controls",
      "model_module_version": "2.0.0",
      "model_name": "HTMLStyleModel",
      "state": {
       "description_width": "",
       "font_size": null,
       "text_color": null
      }
     },
     "32bc585bddb249bca09ffe1e882258a9": {
      "model_module": "@jupyter-widgets/controls",
      "model_module_version": "2.0.0",
      "model_name": "HTMLModel",
      "state": {
       "layout": "IPY_MODEL_65d215589157458cbd21861f27465d60",
       "style": "IPY_MODEL_6a63e66f0ccf4ceaaabe21207fcde4f3",
       "value": " 40/40 [02:33&lt;00:00,  1.93s/it]"
      }
     },
     "32ce63be54974618977e8eb4065a7279": {
      "model_module": "@jupyter-widgets/controls",
      "model_module_version": "2.0.0",
      "model_name": "HBoxModel",
      "state": {
       "children": [
        "IPY_MODEL_dc3aebee96ae4f50aa72d532f0c451c1",
        "IPY_MODEL_8a032022d4244233a1a2d638d304fcce",
        "IPY_MODEL_da54fe0aea59405882aac25afdc8be0e"
       ],
       "layout": "IPY_MODEL_41b7b8f561d8488cb729add957a95c97"
      }
     },
     "32faec05204040c29edda20e2b2b9d1b": {
      "model_module": "@jupyter-widgets/controls",
      "model_module_version": "2.0.0",
      "model_name": "FloatProgressModel",
      "state": {
       "bar_style": "success",
       "layout": "IPY_MODEL_dafcb40284f4485dab7b48695d47bfb8",
       "max": 40,
       "style": "IPY_MODEL_9466fa486cb4491787cf4dad30213f12",
       "value": 40
      }
     },
     "343d2293475d468c8b47392a5fed2791": {
      "model_module": "@jupyter-widgets/controls",
      "model_module_version": "2.0.0",
      "model_name": "HTMLStyleModel",
      "state": {
       "description_width": "",
       "font_size": null,
       "text_color": null
      }
     },
     "3450bc2fbb134ccdb456eb1e4ec85093": {
      "model_module": "@jupyter-widgets/controls",
      "model_module_version": "2.0.0",
      "model_name": "HTMLModel",
      "state": {
       "layout": "IPY_MODEL_c327d66361a4491ca1739e47373dc89c",
       "style": "IPY_MODEL_916ac70410934ff3bd4f2c1dc9130f79",
       "value": " 40/40 [02:34&lt;00:00,  1.94s/it]"
      }
     },
     "348ffbac4713459bb023f39a3cde6899": {
      "model_module": "@jupyter-widgets/base",
      "model_module_version": "2.0.0",
      "model_name": "LayoutModel",
      "state": {}
     },
     "351a1c10d11c473e8030adc62065c271": {
      "model_module": "@jupyter-widgets/controls",
      "model_module_version": "2.0.0",
      "model_name": "HTMLModel",
      "state": {
       "layout": "IPY_MODEL_e30262bd32864b109300f5ffa8566a27",
       "style": "IPY_MODEL_63be257b43084deb8d17f4d32cf04464",
       "value": "Validate (3000 Steps) (DiceMetric=0.32602): 100%"
      }
     },
     "3523ea7867f048bfbdf5ec792e740cd8": {
      "model_module": "@jupyter-widgets/controls",
      "model_module_version": "2.0.0",
      "model_name": "HTMLStyleModel",
      "state": {
       "description_width": "",
       "font_size": null,
       "text_color": null
      }
     },
     "356561842756485cbd0c533a2c284148": {
      "model_module": "@jupyter-widgets/base",
      "model_module_version": "2.0.0",
      "model_name": "LayoutModel",
      "state": {
       "flex": "2"
      }
     },
     "358eaf39ba2f48c99ca3d4024365163b": {
      "model_module": "@jupyter-widgets/controls",
      "model_module_version": "2.0.0",
      "model_name": "HBoxModel",
      "state": {
       "children": [
        "IPY_MODEL_da878fd0bc9f4a54bc7b369577df1ed6",
        "IPY_MODEL_b8733231f91d40cea32b5fbdb0ef0e21",
        "IPY_MODEL_2b5f5903ea4b44bca971102ad4c1e57c"
       ],
       "layout": "IPY_MODEL_f0246faaa41c4d929c653b2c2c2b9447"
      }
     },
     "363e475c7ee64d32909a41e931ee0be5": {
      "model_module": "@jupyter-widgets/controls",
      "model_module_version": "2.0.0",
      "model_name": "HTMLModel",
      "state": {
       "layout": "IPY_MODEL_7e6fceeb3b6b41e396c10824513ded8d",
       "style": "IPY_MODEL_eb9a29d472664126b07bea71c4c06f25",
       "value": "Validate (9600 Steps) (DiceMetric=0.64069): 100%"
      }
     },
     "367761245d7447819253b3be752d43af": {
      "model_module": "@jupyter-widgets/base",
      "model_module_version": "2.0.0",
      "model_name": "LayoutModel",
      "state": {}
     },
     "3689154569bf4d4781ecccf2fb416529": {
      "model_module": "@jupyter-widgets/base",
      "model_module_version": "2.0.0",
      "model_name": "LayoutModel",
      "state": {}
     },
     "36c4ab5823bc4d0c8d14d7ea0698ab49": {
      "model_module": "@jupyter-widgets/controls",
      "model_module_version": "2.0.0",
      "model_name": "HTMLStyleModel",
      "state": {
       "description_width": "",
       "font_size": null,
       "text_color": null
      }
     },
     "36e7f699577b4ce5bbb312f339bd5544": {
      "model_module": "@jupyter-widgets/controls",
      "model_module_version": "2.0.0",
      "model_name": "FloatProgressModel",
      "state": {
       "bar_style": "success",
       "layout": "IPY_MODEL_8ef58ec98ef14ea482a645bc25baeb9b",
       "max": 40,
       "style": "IPY_MODEL_bc23fafd569b4fafb9bece235640f3f2",
       "value": 40
      }
     },
     "3714fb5733ac4bc5b9196c5d4bcb956a": {
      "model_module": "@jupyter-widgets/base",
      "model_module_version": "2.0.0",
      "model_name": "LayoutModel",
      "state": {
       "display": "inline-flex",
       "flex_flow": "row wrap",
       "width": "100%"
      }
     },
     "371cd4889e974982a2e16688635914d3": {
      "model_module": "@jupyter-widgets/controls",
      "model_module_version": "2.0.0",
      "model_name": "ProgressStyleModel",
      "state": {
       "description_width": ""
      }
     },
     "371f4068fb824988850f4dc78c3a028c": {
      "model_module": "@jupyter-widgets/controls",
      "model_module_version": "2.0.0",
      "model_name": "HTMLStyleModel",
      "state": {
       "description_width": "",
       "font_size": null,
       "text_color": null
      }
     },
     "37313a1b153f4869a539e4300268af14": {
      "model_module": "@jupyter-widgets/controls",
      "model_module_version": "2.0.0",
      "model_name": "FloatProgressModel",
      "state": {
       "bar_style": "success",
       "layout": "IPY_MODEL_d9476196313f41df82d3ad7c4f2ae4d9",
       "max": 40,
       "style": "IPY_MODEL_1c3b6875f80e44d9bea25696fbdcd348",
       "value": 40
      }
     },
     "373836a57a7a4dc1a1410d1ffb4480f7": {
      "model_module": "@jupyter-widgets/controls",
      "model_module_version": "2.0.0",
      "model_name": "FloatProgressModel",
      "state": {
       "bar_style": "success",
       "layout": "IPY_MODEL_dafc260da83043f692d12ae610bc3078",
       "max": 40,
       "style": "IPY_MODEL_dc552f58a76c4722a16cb1791e6e6c3b",
       "value": 40
      }
     },
     "37427f858df54d9b84e9995b33499851": {
      "model_module": "@jupyter-widgets/controls",
      "model_module_version": "2.0.0",
      "model_name": "HTMLStyleModel",
      "state": {
       "description_width": "",
       "font_size": null,
       "text_color": null
      }
     },
     "374eb8b98deb4b87ae074c1fadc4ac3c": {
      "model_module": "@jupyter-widgets/base",
      "model_module_version": "2.0.0",
      "model_name": "LayoutModel",
      "state": {}
     },
     "38468b822eed45a98855f967614743e3": {
      "model_module": "@jupyter-widgets/controls",
      "model_module_version": "2.0.0",
      "model_name": "HTMLModel",
      "state": {
       "layout": "IPY_MODEL_d891eb7074b54b0cb08aa41a4f8b2759",
       "style": "IPY_MODEL_6c7393b7013845c2bd770fc3fbcd716e",
       "value": " 40/40 [02:38&lt;00:00,  1.97s/it]"
      }
     },
     "3853a315d0294bda9b65bc70d48d6c25": {
      "model_module": "@jupyter-widgets/base",
      "model_module_version": "2.0.0",
      "model_name": "LayoutModel",
      "state": {}
     },
     "3857e9a57d984679992353cbd019c760": {
      "model_module": "@jupyter-widgets/controls",
      "model_module_version": "2.0.0",
      "model_name": "HTMLModel",
      "state": {
       "layout": "IPY_MODEL_cb6ab2a5149b4561b2a4791440cc55df",
       "style": "IPY_MODEL_57561d0c0afa4c47a993e5c1d85dc0b3",
       "value": "Validate (2500 Steps) (DiceMetric=0.32010): 100%"
      }
     },
     "3866de4c6c9e423a8f88aaefffe56c01": {
      "model_module": "@jupyter-widgets/base",
      "model_module_version": "2.0.0",
      "model_name": "LayoutModel",
      "state": {}
     },
     "38adde739a1f4fd3869a85bc4f367cee": {
      "model_module": "@jupyter-widgets/base",
      "model_module_version": "2.0.0",
      "model_name": "LayoutModel",
      "state": {
       "flex": "2"
      }
     },
     "38f493b8aeef4fa4bff9ff313b486850": {
      "model_module": "@jupyter-widgets/base",
      "model_module_version": "2.0.0",
      "model_name": "LayoutModel",
      "state": {
       "display": "inline-flex",
       "flex_flow": "row wrap",
       "width": "100%"
      }
     },
     "38f559900ba54c2babb4245f32a1dd47": {
      "model_module": "@jupyter-widgets/controls",
      "model_module_version": "2.0.0",
      "model_name": "HTMLStyleModel",
      "state": {
       "description_width": "",
       "font_size": null,
       "text_color": null
      }
     },
     "396e770b4bef45198cc99cc9982272bc": {
      "model_module": "@jupyter-widgets/controls",
      "model_module_version": "2.0.0",
      "model_name": "ProgressStyleModel",
      "state": {
       "description_width": ""
      }
     },
     "39937027550e45b686306c9029ee68ab": {
      "model_module": "@jupyter-widgets/controls",
      "model_module_version": "2.0.0",
      "model_name": "HTMLStyleModel",
      "state": {
       "description_width": "",
       "font_size": null,
       "text_color": null
      }
     },
     "3a17a73a25f04cc5b26ef107bdb416b9": {
      "model_module": "@jupyter-widgets/base",
      "model_module_version": "2.0.0",
      "model_name": "LayoutModel",
      "state": {}
     },
     "3a4ab81c64a84a2399c78c01c7b2355d": {
      "model_module": "@jupyter-widgets/controls",
      "model_module_version": "2.0.0",
      "model_name": "HTMLModel",
      "state": {
       "layout": "IPY_MODEL_019a650185b34463856c9ece4e09735b",
       "style": "IPY_MODEL_bad1705d14814a2ca1d8e12dd6f6f8d5",
       "value": "Validate (4900 Steps) (DiceMetric=0.44185): 100%"
      }
     },
     "3a6079dd83f24650934206861a0baad9": {
      "model_module": "@jupyter-widgets/controls",
      "model_module_version": "2.0.0",
      "model_name": "HTMLStyleModel",
      "state": {
       "description_width": "",
       "font_size": null,
       "text_color": null
      }
     },
     "3a73d8ea2dc542cf92c741ca0e316fb8": {
      "model_module": "@jupyter-widgets/controls",
      "model_module_version": "2.0.0",
      "model_name": "HTMLModel",
      "state": {
       "layout": "IPY_MODEL_9d1778669f434a4e878c60f651083bb6",
       "style": "IPY_MODEL_b40bb489010f41e2b3d3359a6f4c243b",
       "value": "Validate (5800 Steps) (DiceMetric=0.62470): 100%"
      }
     },
     "3aa8817b94944c5790aeb385a9b02f23": {
      "model_module": "@jupyter-widgets/base",
      "model_module_version": "2.0.0",
      "model_name": "LayoutModel",
      "state": {
       "display": "inline-flex",
       "flex_flow": "row wrap",
       "width": "100%"
      }
     },
     "3af65d7c66f2480a90c2bf25504f6112": {
      "model_module": "@jupyter-widgets/controls",
      "model_module_version": "2.0.0",
      "model_name": "HTMLModel",
      "state": {
       "layout": "IPY_MODEL_79159aa66bee4a31a032ccac78286ce5",
       "style": "IPY_MODEL_c6839a0307e24a43a0a8bc228aac1338",
       "value": " 40/40 [02:37&lt;00:00,  1.98s/it]"
      }
     },
     "3b270b6cf2cd4d0a8627bf3bc5dc20be": {
      "model_module": "@jupyter-widgets/base",
      "model_module_version": "2.0.0",
      "model_name": "LayoutModel",
      "state": {}
     },
     "3b382b5a66f64bbca66f991d82c13140": {
      "model_module": "@jupyter-widgets/controls",
      "model_module_version": "2.0.0",
      "model_name": "HBoxModel",
      "state": {
       "children": [
        "IPY_MODEL_e375396d3e4b426daef72eb2143983e7",
        "IPY_MODEL_a6da9016abe842e896bda49345ae20ef",
        "IPY_MODEL_1eacefbe70c049fc9ef28a785a48d956"
       ],
       "layout": "IPY_MODEL_0b3b9dbd0c4d4700921abb4bd3201f44"
      }
     },
     "3b43fc81a13b4ebaa80203c0131cd238": {
      "model_module": "@jupyter-widgets/controls",
      "model_module_version": "2.0.0",
      "model_name": "HTMLModel",
      "state": {
       "layout": "IPY_MODEL_c8bd5f0720084e1a816dda44524fffc6",
       "style": "IPY_MODEL_2dbd63f111e146d9af0f94e5371b2026",
       "value": " 40/40 [02:33&lt;00:00,  1.92s/it]"
      }
     },
     "3b8358f45b014249904b56495fba9c5c": {
      "model_module": "@jupyter-widgets/controls",
      "model_module_version": "2.0.0",
      "model_name": "HTMLStyleModel",
      "state": {
       "description_width": "",
       "font_size": null,
       "text_color": null
      }
     },
     "3b91da93f1d14f14b1870f3bd990f90f": {
      "model_module": "@jupyter-widgets/controls",
      "model_module_version": "2.0.0",
      "model_name": "HBoxModel",
      "state": {
       "children": [
        "IPY_MODEL_f977cf37e291439a81fe124d2b039694",
        "IPY_MODEL_d34d969c86e940f3a400f1352c997488",
        "IPY_MODEL_d35826949e4c4e71b6f243c62d8555be"
       ],
       "layout": "IPY_MODEL_62b53566da564787bc2b8185be3465b9"
      }
     },
     "3b9dcd0e565749ddabb18f1f8a5cf2d8": {
      "model_module": "@jupyter-widgets/controls",
      "model_module_version": "2.0.0",
      "model_name": "HTMLModel",
      "state": {
       "layout": "IPY_MODEL_22ebdc40b9bd46edbf34d686d6556955",
       "style": "IPY_MODEL_06f313df8ec6495d89663a2d3aa226d9",
       "value": " 40/40 [02:36&lt;00:00,  1.95s/it]"
      }
     },
     "3bdf6efd02f9491db6e1a9fc0153f89d": {
      "model_module": "@jupyter-widgets/controls",
      "model_module_version": "2.0.0",
      "model_name": "HTMLStyleModel",
      "state": {
       "description_width": "",
       "font_size": null,
       "text_color": null
      }
     },
     "3bed450bf19c4161ba7b964151bcdc69": {
      "model_module": "@jupyter-widgets/controls",
      "model_module_version": "2.0.0",
      "model_name": "HTMLModel",
      "state": {
       "layout": "IPY_MODEL_130340c566f84902b6e5244c236fd99a",
       "style": "IPY_MODEL_27c1437419fc48498d3aacdde307dfd3",
       "value": "Validate (3100 Steps) (DiceMetric=0.34583): 100%"
      }
     },
     "3c1f641ab0e14a9ba22773ec72f18830": {
      "model_module": "@jupyter-widgets/controls",
      "model_module_version": "2.0.0",
      "model_name": "HBoxModel",
      "state": {
       "children": [
        "IPY_MODEL_818fced91d1940d8b1b00bf127416d5f",
        "IPY_MODEL_32faec05204040c29edda20e2b2b9d1b",
        "IPY_MODEL_96b8950a1ab44f949b4b594a40d654f6"
       ],
       "layout": "IPY_MODEL_1454d58fb7b745178eeec17365110d55"
      }
     },
     "3c9d40f6685649a29329577c4fc525fe": {
      "model_module": "@jupyter-widgets/controls",
      "model_module_version": "2.0.0",
      "model_name": "ProgressStyleModel",
      "state": {
       "description_width": ""
      }
     },
     "3cb745e1a8bf452d946c1f444506f9aa": {
      "model_module": "@jupyter-widgets/controls",
      "model_module_version": "2.0.0",
      "model_name": "HTMLModel",
      "state": {
       "layout": "IPY_MODEL_367761245d7447819253b3be752d43af",
       "style": "IPY_MODEL_222b8eed54e14e79bfa96e6537b98690",
       "value": "Validate (7000 Steps) (DiceMetric=0.58947): 100%"
      }
     },
     "3ce5ecfc05ee4ef296f4974ed280c4df": {
      "model_module": "@jupyter-widgets/controls",
      "model_module_version": "2.0.0",
      "model_name": "FloatProgressModel",
      "state": {
       "bar_style": "success",
       "layout": "IPY_MODEL_356561842756485cbd0c533a2c284148",
       "max": 40,
       "style": "IPY_MODEL_a4e71bef01ce4c1096ca72d28ccbc66c",
       "value": 40
      }
     },
     "3d7d7aebc5e24f4487121cc793d6fdcd": {
      "model_module": "@jupyter-widgets/controls",
      "model_module_version": "2.0.0",
      "model_name": "HTMLModel",
      "state": {
       "layout": "IPY_MODEL_f7afdea3d52e4102b8ff14cf4751537a",
       "style": "IPY_MODEL_52c2dff241ef4cacb3517b753d18f83f",
       "value": "Validate (9000 Steps) (DiceMetric=0.76025): 100%"
      }
     },
     "3d8f95af58434336abbd74c1e077edcb": {
      "model_module": "@jupyter-widgets/controls",
      "model_module_version": "2.0.0",
      "model_name": "HTMLModel",
      "state": {
       "layout": "IPY_MODEL_4e5ff095cb814639b4748517e87d9b9e",
       "style": "IPY_MODEL_8f7d922bb086476398c9ee4b26defbbd",
       "value": " 40/40 [02:42&lt;00:00,  2.05s/it]"
      }
     },
     "3da4a98b00e540c3ab18d4a804fd5a47": {
      "model_module": "@jupyter-widgets/base",
      "model_module_version": "2.0.0",
      "model_name": "LayoutModel",
      "state": {
       "display": "inline-flex",
       "flex_flow": "row wrap",
       "width": "100%"
      }
     },
     "3dd6075f8ef64c2dae15cd543149ef70": {
      "model_module": "@jupyter-widgets/base",
      "model_module_version": "2.0.0",
      "model_name": "LayoutModel",
      "state": {
       "flex": "2"
      }
     },
     "3de8fc419597472da50cbd479bdb707f": {
      "model_module": "@jupyter-widgets/base",
      "model_module_version": "2.0.0",
      "model_name": "LayoutModel",
      "state": {}
     },
     "3df2436a08344a3eb19e91ac1a662083": {
      "model_module": "@jupyter-widgets/controls",
      "model_module_version": "2.0.0",
      "model_name": "HBoxModel",
      "state": {
       "children": [
        "IPY_MODEL_0a84ca4c8083430b81bd24777e21303c",
        "IPY_MODEL_d292af0c33674ed09af77f189b2a5c55",
        "IPY_MODEL_e135469fedbb4c30be0aaedf4b18d757"
       ],
       "layout": "IPY_MODEL_838716b9ef9848c18093770964867d90"
      }
     },
     "3df5818c8a3f460bac62cb742cb49780": {
      "model_module": "@jupyter-widgets/controls",
      "model_module_version": "2.0.0",
      "model_name": "ProgressStyleModel",
      "state": {
       "description_width": ""
      }
     },
     "3e44593f591447498d78fe47d1c6aa34": {
      "model_module": "@jupyter-widgets/controls",
      "model_module_version": "2.0.0",
      "model_name": "HTMLStyleModel",
      "state": {
       "description_width": "",
       "font_size": null,
       "text_color": null
      }
     },
     "3e93fc9b7fdb4398942b9af5fac38120": {
      "model_module": "@jupyter-widgets/base",
      "model_module_version": "2.0.0",
      "model_name": "LayoutModel",
      "state": {
       "flex": "2"
      }
     },
     "3efb8cb752e04a3893aa5c63e1f82f6b": {
      "model_module": "@jupyter-widgets/base",
      "model_module_version": "2.0.0",
      "model_name": "LayoutModel",
      "state": {
       "display": "inline-flex",
       "flex_flow": "row wrap",
       "width": "100%"
      }
     },
     "3f803391214748b2bff7f5128cb689ce": {
      "model_module": "@jupyter-widgets/base",
      "model_module_version": "2.0.0",
      "model_name": "LayoutModel",
      "state": {}
     },
     "400f31473c644bf583585ebe77d4e757": {
      "model_module": "@jupyter-widgets/controls",
      "model_module_version": "2.0.0",
      "model_name": "FloatProgressModel",
      "state": {
       "bar_style": "success",
       "layout": "IPY_MODEL_d0f73516390549629212c38906e5940a",
       "max": 40,
       "style": "IPY_MODEL_606d12ae26ce40ec801c0cc045ca8968",
       "value": 40
      }
     },
     "4052e148f0fa4a50b52828aaaa69c738": {
      "model_module": "@jupyter-widgets/base",
      "model_module_version": "2.0.0",
      "model_name": "LayoutModel",
      "state": {
       "flex": "2"
      }
     },
     "40b9684ff83a47398f3ec40be7944ba3": {
      "model_module": "@jupyter-widgets/controls",
      "model_module_version": "2.0.0",
      "model_name": "ProgressStyleModel",
      "state": {
       "description_width": ""
      }
     },
     "41b7b8f561d8488cb729add957a95c97": {
      "model_module": "@jupyter-widgets/base",
      "model_module_version": "2.0.0",
      "model_name": "LayoutModel",
      "state": {
       "display": "inline-flex",
       "flex_flow": "row wrap",
       "width": "100%"
      }
     },
     "41bb1aeefce5403fa25f12ad78733b1d": {
      "model_module": "@jupyter-widgets/controls",
      "model_module_version": "2.0.0",
      "model_name": "HTMLModel",
      "state": {
       "layout": "IPY_MODEL_17047810207448a5a57c34782c26f65d",
       "style": "IPY_MODEL_5b36b05db52c4808952349de56ebed45",
       "value": " 40/40 [02:33&lt;00:00,  1.91s/it]"
      }
     },
     "41d32e2b4cf94a6e87af0ce644482802": {
      "model_module": "@jupyter-widgets/controls",
      "model_module_version": "2.0.0",
      "model_name": "HTMLStyleModel",
      "state": {
       "description_width": "",
       "font_size": null,
       "text_color": null
      }
     },
     "41f66b369ebc422fa46a1b2215cd9288": {
      "model_module": "@jupyter-widgets/controls",
      "model_module_version": "2.0.0",
      "model_name": "HTMLModel",
      "state": {
       "layout": "IPY_MODEL_7ffb08d126b645b0a665eb42e328dd22",
       "style": "IPY_MODEL_2dec811c3e01426e8edce72c66a6c466",
       "value": "Validate (7100 Steps) (DiceMetric=0.58864): 100%"
      }
     },
     "4217bbc9e2114e268fa1974c91dc0997": {
      "model_module": "@jupyter-widgets/controls",
      "model_module_version": "2.0.0",
      "model_name": "HTMLModel",
      "state": {
       "layout": "IPY_MODEL_72684340cebd44e4899ae410fd65e5d8",
       "style": "IPY_MODEL_1fe722ec84d34475b6d3cc0b326eb694",
       "value": " 40/40 [02:34&lt;00:00,  1.96s/it]"
      }
     },
     "42657bfaf6254cba8fd349f6c5f43a15": {
      "model_module": "@jupyter-widgets/controls",
      "model_module_version": "2.0.0",
      "model_name": "HBoxModel",
      "state": {
       "children": [
        "IPY_MODEL_a3e9e7e8d5d542d0923e4837ea2c55fd",
        "IPY_MODEL_f0ffb6a9643745169a1a859c164d6fb8",
        "IPY_MODEL_f6522fc9f29447b1afa4d500edf96f0a"
       ],
       "layout": "IPY_MODEL_dac97dc040a3427f9198c7baf7f7431c"
      }
     },
     "426f204f349f455ea0ad9eee980ab6b0": {
      "model_module": "@jupyter-widgets/controls",
      "model_module_version": "2.0.0",
      "model_name": "HBoxModel",
      "state": {
       "children": [
        "IPY_MODEL_2956914d53074c28a09717e125a3aeb2",
        "IPY_MODEL_bde3e548c2584ba8af1988b846e7350b",
        "IPY_MODEL_cf76dbfe0e714b32afdbd9fc6f10a841"
       ],
       "layout": "IPY_MODEL_83538273d1fc4f508653a3b86a3922c7"
      }
     },
     "42831ed81a7242b6a27b7e588ef033ef": {
      "model_module": "@jupyter-widgets/controls",
      "model_module_version": "2.0.0",
      "model_name": "HTMLModel",
      "state": {
       "layout": "IPY_MODEL_d72de550e0a94c198a2ff5601dc139a5",
       "style": "IPY_MODEL_ea15355bef4a4a4d8fb69058cd46b7b6",
       "value": " 40/40 [02:33&lt;00:00,  1.93s/it]"
      }
     },
     "42bbdc6a53d4454498f1aaed2c2e0a51": {
      "model_module": "@jupyter-widgets/controls",
      "model_module_version": "2.0.0",
      "model_name": "ProgressStyleModel",
      "state": {
       "description_width": ""
      }
     },
     "42f460e169cf4db28fc32b348b3e2e61": {
      "model_module": "@jupyter-widgets/controls",
      "model_module_version": "2.0.0",
      "model_name": "HTMLStyleModel",
      "state": {
       "description_width": "",
       "font_size": null,
       "text_color": null
      }
     },
     "436b6698ace94bacb9085b152784f0ef": {
      "model_module": "@jupyter-widgets/base",
      "model_module_version": "2.0.0",
      "model_name": "LayoutModel",
      "state": {}
     },
     "442a94d2db1f44a89710573be9578396": {
      "model_module": "@jupyter-widgets/controls",
      "model_module_version": "2.0.0",
      "model_name": "HTMLModel",
      "state": {
       "layout": "IPY_MODEL_da917fe183844d1292c8f6536dde102f",
       "style": "IPY_MODEL_04cae033071447da99a1122b7c3335a4",
       "value": " 40/40 [02:38&lt;00:00,  2.06s/it]"
      }
     },
     "4493e69dc08c49658df9eaa1c2b04bb4": {
      "model_module": "@jupyter-widgets/controls",
      "model_module_version": "2.0.0",
      "model_name": "FloatProgressModel",
      "state": {
       "bar_style": "success",
       "layout": "IPY_MODEL_468a2bf2ae454af6b89359819afa0a82",
       "max": 40,
       "style": "IPY_MODEL_5413848455994b7696cbb58407c5ca2b",
       "value": 40
      }
     },
     "44a9e7617605445babdfffb38c543a28": {
      "model_module": "@jupyter-widgets/controls",
      "model_module_version": "2.0.0",
      "model_name": "HTMLModel",
      "state": {
       "layout": "IPY_MODEL_bdacaa18eac648288e642fa94f95f943",
       "style": "IPY_MODEL_e58d71cf0ee94eaaa404fb3fcd976c65",
       "value": " 40/40 [02:33&lt;00:00,  1.92s/it]"
      }
     },
     "44e007a6f9844723a97d1b59887c6b9f": {
      "model_module": "@jupyter-widgets/controls",
      "model_module_version": "2.0.0",
      "model_name": "HBoxModel",
      "state": {
       "children": [
        "IPY_MODEL_500876f03ee74c6e9f7570f8ff18bc10",
        "IPY_MODEL_8ad1e5a77b884e1b82f518132fc8527b",
        "IPY_MODEL_53c2d0ec33214afd9001c21bb2754aa1"
       ],
       "layout": "IPY_MODEL_b7488ca1139e4c3da9672e4df4269a9c"
      }
     },
     "4534694762ef47998a6d524231ff129b": {
      "model_module": "@jupyter-widgets/controls",
      "model_module_version": "2.0.0",
      "model_name": "HTMLStyleModel",
      "state": {
       "description_width": "",
       "font_size": null,
       "text_color": null
      }
     },
     "45522988481f49618e77c96348acf8ac": {
      "model_module": "@jupyter-widgets/controls",
      "model_module_version": "2.0.0",
      "model_name": "HTMLModel",
      "state": {
       "layout": "IPY_MODEL_4b94c007d5a04378a54f25b96417572c",
       "style": "IPY_MODEL_d7ab6a647f7e4d64ad099847e9d819be",
       "value": " 40/40 [02:35&lt;00:00,  1.97s/it]"
      }
     },
     "456b6e6c007442ac98bd454eb4f1ac84": {
      "model_module": "@jupyter-widgets/controls",
      "model_module_version": "2.0.0",
      "model_name": "HTMLStyleModel",
      "state": {
       "description_width": "",
       "font_size": null,
       "text_color": null
      }
     },
     "4584c53272aa47b08243f677397a51ab": {
      "model_module": "@jupyter-widgets/base",
      "model_module_version": "2.0.0",
      "model_name": "LayoutModel",
      "state": {}
     },
     "4660e437187643ce9cbe38a22c88db41": {
      "model_module": "@jupyter-widgets/controls",
      "model_module_version": "2.0.0",
      "model_name": "HTMLModel",
      "state": {
       "layout": "IPY_MODEL_c81b9ecc40ee4df8ba5f630360663211",
       "style": "IPY_MODEL_feb3cb62bf454e3394d273a02ff860bb",
       "value": "Validate (6700 Steps) (DiceMetric=0.56160): 100%"
      }
     },
     "468a2bf2ae454af6b89359819afa0a82": {
      "model_module": "@jupyter-widgets/base",
      "model_module_version": "2.0.0",
      "model_name": "LayoutModel",
      "state": {
       "flex": "2"
      }
     },
     "46904cb5805a4d3cb0d312f7cb674a0d": {
      "model_module": "@jupyter-widgets/base",
      "model_module_version": "2.0.0",
      "model_name": "LayoutModel",
      "state": {}
     },
     "469303d4fa524e76a78f997362f1dec7": {
      "model_module": "@jupyter-widgets/base",
      "model_module_version": "2.0.0",
      "model_name": "LayoutModel",
      "state": {
       "flex": "2"
      }
     },
     "46b758f9fc294aca938481bd535c42c5": {
      "model_module": "@jupyter-widgets/base",
      "model_module_version": "2.0.0",
      "model_name": "LayoutModel",
      "state": {}
     },
     "46da2fc0b2534db4adf385491bec2885": {
      "model_module": "@jupyter-widgets/controls",
      "model_module_version": "2.0.0",
      "model_name": "HBoxModel",
      "state": {
       "children": [
        "IPY_MODEL_4b9d67607034426f9db62f16f3f8785e",
        "IPY_MODEL_50ca3a56938a43d5a6d53bf42b23199c",
        "IPY_MODEL_cde4042f8f0e475d9ee3d513052867ae"
       ],
       "layout": "IPY_MODEL_8d366c700d5948a9b8fb60bacf80d871"
      }
     },
     "47eb76b8fd2f4b25a2940fd015630f4c": {
      "model_module": "@jupyter-widgets/controls",
      "model_module_version": "2.0.0",
      "model_name": "HTMLModel",
      "state": {
       "layout": "IPY_MODEL_a7f6a99eecb04c44ad6bbed72b48e087",
       "style": "IPY_MODEL_90cfa1f1cf004988aba83aea74df243b",
       "value": "Validate (1800 Steps) (DiceMetric=0.36794): 100%"
      }
     },
     "47f244bfd2c14ac19bc119a0fb8e98a1": {
      "model_module": "@jupyter-widgets/controls",
      "model_module_version": "2.0.0",
      "model_name": "HTMLStyleModel",
      "state": {
       "description_width": "",
       "font_size": null,
       "text_color": null
      }
     },
     "480830286c8f4409be8067418d69cb5a": {
      "model_module": "@jupyter-widgets/controls",
      "model_module_version": "2.0.0",
      "model_name": "HTMLModel",
      "state": {
       "layout": "IPY_MODEL_c5be880486ac4c4180008ae2da1afd6c",
       "style": "IPY_MODEL_be966bf884154ae4a3cc5d294a85bdfd",
       "value": "Validate (7500 Steps) (DiceMetric=0.64750): 100%"
      }
     },
     "482853ba22bc41bb8d2d7b078565beb3": {
      "model_module": "@jupyter-widgets/base",
      "model_module_version": "2.0.0",
      "model_name": "LayoutModel",
      "state": {
       "display": "inline-flex",
       "flex_flow": "row wrap",
       "width": "100%"
      }
     },
     "4828ebde100e4b6dab5ec1a6cba437f9": {
      "model_module": "@jupyter-widgets/controls",
      "model_module_version": "2.0.0",
      "model_name": "HTMLStyleModel",
      "state": {
       "description_width": "",
       "font_size": null,
       "text_color": null
      }
     },
     "484cbc3029f44dde9d6245a8b412d6f2": {
      "model_module": "@jupyter-widgets/controls",
      "model_module_version": "2.0.0",
      "model_name": "ProgressStyleModel",
      "state": {
       "description_width": ""
      }
     },
     "485589aace6d434a8384b7252f5331f6": {
      "model_module": "@jupyter-widgets/controls",
      "model_module_version": "2.0.0",
      "model_name": "HTMLStyleModel",
      "state": {
       "description_width": "",
       "font_size": null,
       "text_color": null
      }
     },
     "48976ff67a6d4d28851392e3ba5427d2": {
      "model_module": "@jupyter-widgets/controls",
      "model_module_version": "2.0.0",
      "model_name": "FloatProgressModel",
      "state": {
       "bar_style": "success",
       "layout": "IPY_MODEL_caac330a1a634f599089dadd37924451",
       "max": 40,
       "style": "IPY_MODEL_01ff8b01c72c42d6872795dd08106206",
       "value": 40
      }
     },
     "493361c5056a47d28c6d65ce5593afa9": {
      "model_module": "@jupyter-widgets/controls",
      "model_module_version": "2.0.0",
      "model_name": "HTMLStyleModel",
      "state": {
       "description_width": "",
       "font_size": null,
       "text_color": null
      }
     },
     "4941f822626b47a2be9864d9d86b49b2": {
      "model_module": "@jupyter-widgets/base",
      "model_module_version": "2.0.0",
      "model_name": "LayoutModel",
      "state": {}
     },
     "49987e10538d4af99e00b1171982941c": {
      "model_module": "@jupyter-widgets/base",
      "model_module_version": "2.0.0",
      "model_name": "LayoutModel",
      "state": {
       "flex": "2"
      }
     },
     "49c5a12ff05d46b6bce905b0b1f91b72": {
      "model_module": "@jupyter-widgets/controls",
      "model_module_version": "2.0.0",
      "model_name": "HTMLModel",
      "state": {
       "layout": "IPY_MODEL_06cc28f57aee4811abd66cd88579011f",
       "style": "IPY_MODEL_b3c13424f4294d8eb9b17babd4e425ba",
       "value": " 40/40 [02:36&lt;00:00,  1.96s/it]"
      }
     },
     "49efef14c0b54d33a14a252620aaaba3": {
      "model_module": "@jupyter-widgets/base",
      "model_module_version": "2.0.0",
      "model_name": "LayoutModel",
      "state": {
       "display": "inline-flex",
       "flex_flow": "row wrap",
       "width": "100%"
      }
     },
     "4a39642e958145ee8c73dfe190847650": {
      "model_module": "@jupyter-widgets/controls",
      "model_module_version": "2.0.0",
      "model_name": "HTMLModel",
      "state": {
       "layout": "IPY_MODEL_ef5542e7fdf2483ba33c00bb6e37da14",
       "style": "IPY_MODEL_1cd6907ebefe4d4fb19c087fc0c1b65b",
       "value": " 40/40 [02:34&lt;00:00,  1.92s/it]"
      }
     },
     "4acbd9479105419a813b4cefddb5d9bd": {
      "model_module": "@jupyter-widgets/controls",
      "model_module_version": "2.0.0",
      "model_name": "HTMLModel",
      "state": {
       "layout": "IPY_MODEL_5494aa42df8d47d8b87ea4b9af54583c",
       "style": "IPY_MODEL_9b6fb6620c58423e9846f1845eb30b8e",
       "value": "Validate (5600 Steps) (DiceMetric=0.54053): 100%"
      }
     },
     "4b04bbf9ec874e0aa5c8a979440fc24f": {
      "model_module": "@jupyter-widgets/base",
      "model_module_version": "2.0.0",
      "model_name": "LayoutModel",
      "state": {
       "flex": "2"
      }
     },
     "4b2aa441e2dd4dbb9d7f1b79e1946174": {
      "model_module": "@jupyter-widgets/controls",
      "model_module_version": "2.0.0",
      "model_name": "HTMLModel",
      "state": {
       "layout": "IPY_MODEL_cd05be25bc0e49149faff0b8d3581c50",
       "style": "IPY_MODEL_83676b2b1a9241e29a1124b1a560a8cd",
       "value": "Validate (5900 Steps) (DiceMetric=0.66946): 100%"
      }
     },
     "4b57422044a549b585eb1eb4807acc6d": {
      "model_module": "@jupyter-widgets/controls",
      "model_module_version": "2.0.0",
      "model_name": "HTMLStyleModel",
      "state": {
       "description_width": "",
       "font_size": null,
       "text_color": null
      }
     },
     "4b5fb91e994940ac8b3cdb47781b4c0b": {
      "model_module": "@jupyter-widgets/base",
      "model_module_version": "2.0.0",
      "model_name": "LayoutModel",
      "state": {
       "flex": "2"
      }
     },
     "4b94c007d5a04378a54f25b96417572c": {
      "model_module": "@jupyter-widgets/base",
      "model_module_version": "2.0.0",
      "model_name": "LayoutModel",
      "state": {}
     },
     "4b96a526340c4206a7f66646bc37b055": {
      "model_module": "@jupyter-widgets/controls",
      "model_module_version": "2.0.0",
      "model_name": "FloatProgressModel",
      "state": {
       "bar_style": "success",
       "layout": "IPY_MODEL_edbc9cac7e704fdab528e486d2b2f14c",
       "max": 40,
       "style": "IPY_MODEL_06e66f0ee39b47e6ad1f5e48ee0661f5",
       "value": 40
      }
     },
     "4b9d67607034426f9db62f16f3f8785e": {
      "model_module": "@jupyter-widgets/controls",
      "model_module_version": "2.0.0",
      "model_name": "HTMLModel",
      "state": {
       "layout": "IPY_MODEL_2992c62fede04ae1abd9e501978ea00b",
       "style": "IPY_MODEL_f86a40e9c84b42a0b582350fa77e07e0",
       "value": "Validate (8600 Steps) (DiceMetric=0.77380): 100%"
      }
     },
     "4bb3e787cf0f45bb941621b4a93465c3": {
      "model_module": "@jupyter-widgets/controls",
      "model_module_version": "2.0.0",
      "model_name": "ProgressStyleModel",
      "state": {
       "description_width": ""
      }
     },
     "4be14f0ebb754b1ca29641456758a207": {
      "model_module": "@jupyter-widgets/base",
      "model_module_version": "2.0.0",
      "model_name": "LayoutModel",
      "state": {}
     },
     "4bfc27f3b0cf4fc1904a890e1dcf6b76": {
      "model_module": "@jupyter-widgets/controls",
      "model_module_version": "2.0.0",
      "model_name": "HTMLStyleModel",
      "state": {
       "description_width": "",
       "font_size": null,
       "text_color": null
      }
     },
     "4bfdb26d0c5c425fb5038738a65fd509": {
      "model_module": "@jupyter-widgets/controls",
      "model_module_version": "2.0.0",
      "model_name": "HBoxModel",
      "state": {
       "children": [
        "IPY_MODEL_b66929a786554c2eba55b4bd2ddfe07d",
        "IPY_MODEL_6ae5b67f73ff4ac78b5ed84c6c5e21ec",
        "IPY_MODEL_e1cb1798cdbe4ac0aea245af7688316c"
       ],
       "layout": "IPY_MODEL_3efb8cb752e04a3893aa5c63e1f82f6b"
      }
     },
     "4c1ad9cbbba34358b057431ddb09c09e": {
      "model_module": "@jupyter-widgets/controls",
      "model_module_version": "2.0.0",
      "model_name": "HTMLModel",
      "state": {
       "layout": "IPY_MODEL_e948f27096864f859f69567e8d7f9b0b",
       "style": "IPY_MODEL_a432cc71a55a457fbbf6584576a44fab",
       "value": " 40/40 [02:34&lt;00:00,  1.94s/it]"
      }
     },
     "4c312d1af3e44199a228345f6ff397a7": {
      "model_module": "@jupyter-widgets/base",
      "model_module_version": "2.0.0",
      "model_name": "LayoutModel",
      "state": {
       "display": "inline-flex",
       "flex_flow": "row wrap",
       "width": "100%"
      }
     },
     "4c57be6d46234bbf9944318c41aa7405": {
      "model_module": "@jupyter-widgets/controls",
      "model_module_version": "2.0.0",
      "model_name": "ProgressStyleModel",
      "state": {
       "description_width": ""
      }
     },
     "4c613c0dedc449b7a6398a4a87440585": {
      "model_module": "@jupyter-widgets/controls",
      "model_module_version": "2.0.0",
      "model_name": "HTMLModel",
      "state": {
       "layout": "IPY_MODEL_3b270b6cf2cd4d0a8627bf3bc5dc20be",
       "style": "IPY_MODEL_146fa1cfe53848f48143e6e1adbc7cb4",
       "value": "Validate (8700 Steps) (DiceMetric=0.68921): 100%"
      }
     },
     "4c734937044f451fb847efeb7266639a": {
      "model_module": "@jupyter-widgets/controls",
      "model_module_version": "2.0.0",
      "model_name": "HTMLStyleModel",
      "state": {
       "description_width": "",
       "font_size": null,
       "text_color": null
      }
     },
     "4c80428398e445fc8e6586ce1bc1f737": {
      "model_module": "@jupyter-widgets/base",
      "model_module_version": "2.0.0",
      "model_name": "LayoutModel",
      "state": {}
     },
     "4c9ce3ed7be044aaa5a3b8b5f80ca4ee": {
      "model_module": "@jupyter-widgets/controls",
      "model_module_version": "2.0.0",
      "model_name": "HTMLModel",
      "state": {
       "layout": "IPY_MODEL_57237d3befe147f49f3faed2871d3838",
       "style": "IPY_MODEL_f6812b19542e41878723119c91c641f2",
       "value": "Validate (8200 Steps) (DiceMetric=0.68773): 100%"
      }
     },
     "4d059deb7b154800b2387140623f7df0": {
      "model_module": "@jupyter-widgets/controls",
      "model_module_version": "2.0.0",
      "model_name": "HBoxModel",
      "state": {
       "children": [
        "IPY_MODEL_00cc17156f0a400f93229ab10856b5af",
        "IPY_MODEL_f558713cc12e49ffa6bdfad9b988c4fe",
        "IPY_MODEL_45522988481f49618e77c96348acf8ac"
       ],
       "layout": "IPY_MODEL_3714fb5733ac4bc5b9196c5d4bcb956a"
      }
     },
     "4d2055c1193241219dda6e79116e1475": {
      "model_module": "@jupyter-widgets/base",
      "model_module_version": "2.0.0",
      "model_name": "LayoutModel",
      "state": {}
     },
     "4d33b27477dd43848ad540e90feda482": {
      "model_module": "@jupyter-widgets/controls",
      "model_module_version": "2.0.0",
      "model_name": "HTMLStyleModel",
      "state": {
       "description_width": "",
       "font_size": null,
       "text_color": null
      }
     },
     "4d8d4372377541a2ba02bdfbb488915e": {
      "model_module": "@jupyter-widgets/base",
      "model_module_version": "2.0.0",
      "model_name": "LayoutModel",
      "state": {
       "flex": "2"
      }
     },
     "4dac19ee1d4a4329a01a4f644a900d35": {
      "model_module": "@jupyter-widgets/controls",
      "model_module_version": "2.0.0",
      "model_name": "FloatProgressModel",
      "state": {
       "bar_style": "success",
       "layout": "IPY_MODEL_d650a77df02846c19d69674f301278fb",
       "max": 40,
       "style": "IPY_MODEL_6c30bc85f9e0488eac8b8c92004e99c7",
       "value": 40
      }
     },
     "4e5ff095cb814639b4748517e87d9b9e": {
      "model_module": "@jupyter-widgets/base",
      "model_module_version": "2.0.0",
      "model_name": "LayoutModel",
      "state": {}
     },
     "4e845eb63a2a4e2d840a106afe3442b8": {
      "model_module": "@jupyter-widgets/controls",
      "model_module_version": "2.0.0",
      "model_name": "HTMLModel",
      "state": {
       "layout": "IPY_MODEL_632d5346693948e7a6afcac90eb4a963",
       "style": "IPY_MODEL_3b8358f45b014249904b56495fba9c5c",
       "value": " 40/40 [02:34&lt;00:00,  1.93s/it]"
      }
     },
     "4e964a00cdf34097ad68a20e7cbc069d": {
      "model_module": "@jupyter-widgets/controls",
      "model_module_version": "2.0.0",
      "model_name": "HTMLStyleModel",
      "state": {
       "description_width": "",
       "font_size": null,
       "text_color": null
      }
     },
     "4ea179d2da5a467ba3f20dd2f5d81f5c": {
      "model_module": "@jupyter-widgets/base",
      "model_module_version": "2.0.0",
      "model_name": "LayoutModel",
      "state": {}
     },
     "4ef7d3a053994557a209aa820674cbbc": {
      "model_module": "@jupyter-widgets/controls",
      "model_module_version": "2.0.0",
      "model_name": "HTMLStyleModel",
      "state": {
       "description_width": "",
       "font_size": null,
       "text_color": null
      }
     },
     "4f31337cef6e465c8c94b5c985d36583": {
      "model_module": "@jupyter-widgets/controls",
      "model_module_version": "2.0.0",
      "model_name": "FloatProgressModel",
      "state": {
       "bar_style": "success",
       "layout": "IPY_MODEL_79720ccf35f5419dbb857496e312ecc0",
       "max": 40,
       "style": "IPY_MODEL_711233bd98b74ecd8c491c43cbc31342",
       "value": 40
      }
     },
     "4f35e0564231449cac2f922bc1e6365c": {
      "model_module": "@jupyter-widgets/base",
      "model_module_version": "2.0.0",
      "model_name": "LayoutModel",
      "state": {}
     },
     "4f4d757b4f3b4fdaa7a47b1a4d56fdcd": {
      "model_module": "@jupyter-widgets/controls",
      "model_module_version": "2.0.0",
      "model_name": "HBoxModel",
      "state": {
       "children": [
        "IPY_MODEL_94ee047ca353420e9683f53cb6171005",
        "IPY_MODEL_c5f4d8800d96486784f6adc7c383e6d2",
        "IPY_MODEL_14c7aa357d6a4db2bef4eb69946ea920"
       ],
       "layout": "IPY_MODEL_2b7b3481ae004d62b96a90c6cfe8a92c"
      }
     },
     "4f6bf72412434f5f9319d4d14c6318da": {
      "model_module": "@jupyter-widgets/base",
      "model_module_version": "2.0.0",
      "model_name": "LayoutModel",
      "state": {}
     },
     "4f839eeccdee4f528a61688af1c8f70b": {
      "model_module": "@jupyter-widgets/controls",
      "model_module_version": "2.0.0",
      "model_name": "HTMLStyleModel",
      "state": {
       "description_width": "",
       "font_size": null,
       "text_color": null
      }
     },
     "4f983ed9a1904181bec766953308638f": {
      "model_module": "@jupyter-widgets/controls",
      "model_module_version": "2.0.0",
      "model_name": "HTMLModel",
      "state": {
       "layout": "IPY_MODEL_82912562d7f44890b184a5125010550b",
       "style": "IPY_MODEL_3a6079dd83f24650934206861a0baad9",
       "value": " 40/40 [02:33&lt;00:00,  1.92s/it]"
      }
     },
     "4fbfb03d8cfc435ea898a7327bc80bb2": {
      "model_module": "@jupyter-widgets/base",
      "model_module_version": "2.0.0",
      "model_name": "LayoutModel",
      "state": {}
     },
     "4fc79994f1324bbda8e3766cb43bc74d": {
      "model_module": "@jupyter-widgets/controls",
      "model_module_version": "2.0.0",
      "model_name": "HTMLStyleModel",
      "state": {
       "description_width": "",
       "font_size": null,
       "text_color": null
      }
     },
     "4ff03c35cfc84882acd784405a4cad47": {
      "model_module": "@jupyter-widgets/controls",
      "model_module_version": "2.0.0",
      "model_name": "FloatProgressModel",
      "state": {
       "bar_style": "success",
       "layout": "IPY_MODEL_b169cb3ee09843feb21caa2acaab3dbc",
       "max": 40,
       "style": "IPY_MODEL_20eebab38faa43a0b1ad125e2dea41a8",
       "value": 40
      }
     },
     "500876f03ee74c6e9f7570f8ff18bc10": {
      "model_module": "@jupyter-widgets/controls",
      "model_module_version": "2.0.0",
      "model_name": "HTMLModel",
      "state": {
       "layout": "IPY_MODEL_bd8cc78b965245cc90085c1bc0f2e977",
       "style": "IPY_MODEL_ae980910fa81442dbf9084e631ced41a",
       "value": "Validate (4400 Steps) (DiceMetric=0.31196): 100%"
      }
     },
     "500ce9c3f9ec4266b5510087939b0f6d": {
      "model_module": "@jupyter-widgets/controls",
      "model_module_version": "2.0.0",
      "model_name": "HTMLStyleModel",
      "state": {
       "description_width": "",
       "font_size": null,
       "text_color": null
      }
     },
     "505e65b37ec54484a3c6c3c967d9b6d7": {
      "model_module": "@jupyter-widgets/base",
      "model_module_version": "2.0.0",
      "model_name": "LayoutModel",
      "state": {
       "display": "inline-flex",
       "flex_flow": "row wrap",
       "width": "100%"
      }
     },
     "50c3324120a1443682b1674d876792b6": {
      "model_module": "@jupyter-widgets/base",
      "model_module_version": "2.0.0",
      "model_name": "LayoutModel",
      "state": {
       "display": "inline-flex",
       "flex_flow": "row wrap",
       "width": "100%"
      }
     },
     "50ca3a56938a43d5a6d53bf42b23199c": {
      "model_module": "@jupyter-widgets/controls",
      "model_module_version": "2.0.0",
      "model_name": "FloatProgressModel",
      "state": {
       "bar_style": "success",
       "layout": "IPY_MODEL_cdd5d2829c59450fa87b5aa625e91229",
       "max": 40,
       "style": "IPY_MODEL_1888c48a7f5f4284a83453f1f40189d4",
       "value": 40
      }
     },
     "50cdbed535294a949e99a6f9faa3cb23": {
      "model_module": "@jupyter-widgets/base",
      "model_module_version": "2.0.0",
      "model_name": "LayoutModel",
      "state": {}
     },
     "50d116a1213546a08049bfd6c380b329": {
      "model_module": "@jupyter-widgets/controls",
      "model_module_version": "2.0.0",
      "model_name": "HBoxModel",
      "state": {
       "children": [
        "IPY_MODEL_ce18712a72d84f06a4488d8edad01b06",
        "IPY_MODEL_8f0f2771b82343eeb2992bd0f0930881",
        "IPY_MODEL_d37f4821a8034688b42c27e87f3b067b"
       ],
       "layout": "IPY_MODEL_93c38114ff39418d839d4ca163fa380e"
      }
     },
     "50f54fb493ce4171a71dacddbd102295": {
      "model_module": "@jupyter-widgets/base",
      "model_module_version": "2.0.0",
      "model_name": "LayoutModel",
      "state": {
       "flex": "2"
      }
     },
     "514652aef591445cb97831681aa61cb8": {
      "model_module": "@jupyter-widgets/controls",
      "model_module_version": "2.0.0",
      "model_name": "HTMLModel",
      "state": {
       "layout": "IPY_MODEL_3de8fc419597472da50cbd479bdb707f",
       "style": "IPY_MODEL_98763ed6733d4bf0a39433e5e5353b10",
       "value": "Validate (1200 Steps) (DiceMetric=0.33783): 100%"
      }
     },
     "521362fc355941888fe1c096b2fbfe12": {
      "model_module": "@jupyter-widgets/controls",
      "model_module_version": "2.0.0",
      "model_name": "HTMLModel",
      "state": {
       "layout": "IPY_MODEL_925533bfcf434ba69a8314d196107c7a",
       "style": "IPY_MODEL_2349a0f7116b498daeaa961bdd7ce1ee",
       "value": " 40/40 [02:36&lt;00:00,  1.94s/it]"
      }
     },
     "523a0e4720b6418fa020f1797f70ebd5": {
      "model_module": "@jupyter-widgets/base",
      "model_module_version": "2.0.0",
      "model_name": "LayoutModel",
      "state": {}
     },
     "524d7a37a0d246578caf8dd6d232e0b3": {
      "model_module": "@jupyter-widgets/controls",
      "model_module_version": "2.0.0",
      "model_name": "HTMLModel",
      "state": {
       "layout": "IPY_MODEL_4c80428398e445fc8e6586ce1bc1f737",
       "style": "IPY_MODEL_737db581a6594fbb9bec97b355efbb50",
       "value": " 40/40 [02:34&lt;00:00,  1.94s/it]"
      }
     },
     "5256323c6e514abca3c6ca77b9720fb0": {
      "model_module": "@jupyter-widgets/controls",
      "model_module_version": "2.0.0",
      "model_name": "HTMLStyleModel",
      "state": {
       "description_width": "",
       "font_size": null,
       "text_color": null
      }
     },
     "528c89f9949f4d2eb552b3b2867bb55c": {
      "model_module": "@jupyter-widgets/controls",
      "model_module_version": "2.0.0",
      "model_name": "FloatProgressModel",
      "state": {
       "bar_style": "success",
       "layout": "IPY_MODEL_a3a6eb6fd1a9488d9225dc3e77e22e30",
       "max": 40,
       "style": "IPY_MODEL_3df5818c8a3f460bac62cb742cb49780",
       "value": 40
      }
     },
     "52c2dff241ef4cacb3517b753d18f83f": {
      "model_module": "@jupyter-widgets/controls",
      "model_module_version": "2.0.0",
      "model_name": "HTMLStyleModel",
      "state": {
       "description_width": "",
       "font_size": null,
       "text_color": null
      }
     },
     "52e5b5b1a0314718a4a90a23bd9c1b48": {
      "model_module": "@jupyter-widgets/controls",
      "model_module_version": "2.0.0",
      "model_name": "HTMLStyleModel",
      "state": {
       "description_width": "",
       "font_size": null,
       "text_color": null
      }
     },
     "534d00e9cca7456baedca7c51ccfd5c8": {
      "model_module": "@jupyter-widgets/base",
      "model_module_version": "2.0.0",
      "model_name": "LayoutModel",
      "state": {
       "flex": "2"
      }
     },
     "53b9ff586c2a41e0bd75c9ef41e2e1fb": {
      "model_module": "@jupyter-widgets/controls",
      "model_module_version": "2.0.0",
      "model_name": "HTMLStyleModel",
      "state": {
       "description_width": "",
       "font_size": null,
       "text_color": null
      }
     },
     "53c2d0ec33214afd9001c21bb2754aa1": {
      "model_module": "@jupyter-widgets/controls",
      "model_module_version": "2.0.0",
      "model_name": "HTMLModel",
      "state": {
       "layout": "IPY_MODEL_cacd581fcb584594a5a2f7a107c1b021",
       "style": "IPY_MODEL_655c52d29bd94c3882492b776b8aadd0",
       "value": " 40/40 [02:35&lt;00:00,  1.96s/it]"
      }
     },
     "53d75102f5aa4543afdd66eec1c47464": {
      "model_module": "@jupyter-widgets/controls",
      "model_module_version": "2.0.0",
      "model_name": "HTMLModel",
      "state": {
       "layout": "IPY_MODEL_f29cb569d72640dda06e9a5bcc2f0f25",
       "style": "IPY_MODEL_fdc6157d27654689b3212de487e0ea69",
       "value": " 40/40 [02:36&lt;00:00,  1.93s/it]"
      }
     },
     "53fcf00389274880aa82f8e9b864c9f2": {
      "model_module": "@jupyter-widgets/controls",
      "model_module_version": "2.0.0",
      "model_name": "HTMLModel",
      "state": {
       "layout": "IPY_MODEL_1323015b9b6945acb644342a7026df10",
       "style": "IPY_MODEL_e356a3edb7104fd18eb707e4f4eb2197",
       "value": " 40/40 [02:36&lt;00:00,  1.98s/it]"
      }
     },
     "5413848455994b7696cbb58407c5ca2b": {
      "model_module": "@jupyter-widgets/controls",
      "model_module_version": "2.0.0",
      "model_name": "ProgressStyleModel",
      "state": {
       "description_width": ""
      }
     },
     "5487b31cca1443abb4b87938da7693d0": {
      "model_module": "@jupyter-widgets/controls",
      "model_module_version": "2.0.0",
      "model_name": "ProgressStyleModel",
      "state": {
       "description_width": ""
      }
     },
     "5494aa42df8d47d8b87ea4b9af54583c": {
      "model_module": "@jupyter-widgets/base",
      "model_module_version": "2.0.0",
      "model_name": "LayoutModel",
      "state": {}
     },
     "54db9101cd794d6d8dc328597c3dbbb0": {
      "model_module": "@jupyter-widgets/controls",
      "model_module_version": "2.0.0",
      "model_name": "HTMLStyleModel",
      "state": {
       "description_width": "",
       "font_size": null,
       "text_color": null
      }
     },
     "54e73fe5c4df4a299b65e42bfe656c8d": {
      "model_module": "@jupyter-widgets/base",
      "model_module_version": "2.0.0",
      "model_name": "LayoutModel",
      "state": {
       "display": "inline-flex",
       "flex_flow": "row wrap",
       "width": "100%"
      }
     },
     "55d67c2bb207406dac7ef5f987f05315": {
      "model_module": "@jupyter-widgets/base",
      "model_module_version": "2.0.0",
      "model_name": "LayoutModel",
      "state": {}
     },
     "56147578f64d4fdb9e2bd53ad7142a42": {
      "model_module": "@jupyter-widgets/controls",
      "model_module_version": "2.0.0",
      "model_name": "HBoxModel",
      "state": {
       "children": [
        "IPY_MODEL_a4392055da444e098f5d89cdae991d22",
        "IPY_MODEL_8f4a302cbcfe42e394ea6025fdb07c96",
        "IPY_MODEL_bf77dd9315fd42d895d070957f4ba3d2"
       ],
       "layout": "IPY_MODEL_88ed50dfb69349fb9a803706685c36d3"
      }
     },
     "5628183ead2c4541a92574f65a302b9f": {
      "model_module": "@jupyter-widgets/controls",
      "model_module_version": "2.0.0",
      "model_name": "HTMLModel",
      "state": {
       "layout": "IPY_MODEL_860b35b98f95459ba0ca8c22d8f0f6c7",
       "style": "IPY_MODEL_6c6fe714b34341c0bb08da4ab9b5e716",
       "value": " 40/40 [02:35&lt;00:00,  1.94s/it]"
      }
     },
     "568b38088dcd47f2a4f8014e1b36a06e": {
      "model_module": "@jupyter-widgets/controls",
      "model_module_version": "2.0.0",
      "model_name": "HTMLStyleModel",
      "state": {
       "description_width": "",
       "font_size": null,
       "text_color": null
      }
     },
     "5705d71373cc4854bc8a791d1d135b8a": {
      "model_module": "@jupyter-widgets/base",
      "model_module_version": "2.0.0",
      "model_name": "LayoutModel",
      "state": {}
     },
     "57237d3befe147f49f3faed2871d3838": {
      "model_module": "@jupyter-widgets/base",
      "model_module_version": "2.0.0",
      "model_name": "LayoutModel",
      "state": {}
     },
     "5742dbbff98848529e2e1a8e348557a4": {
      "model_module": "@jupyter-widgets/controls",
      "model_module_version": "2.0.0",
      "model_name": "HTMLModel",
      "state": {
       "layout": "IPY_MODEL_c4d996f2c61f43718335ddf583c69945",
       "style": "IPY_MODEL_42f460e169cf4db28fc32b348b3e2e61",
       "value": "Validate (200 Steps) (DiceMetric=0.19581): 100%"
      }
     },
     "5744709ef211423ead500748610ac331": {
      "model_module": "@jupyter-widgets/controls",
      "model_module_version": "2.0.0",
      "model_name": "FloatProgressModel",
      "state": {
       "bar_style": "success",
       "layout": "IPY_MODEL_cdcc73fbb4a1435c8dae97a0afa88886",
       "max": 40,
       "style": "IPY_MODEL_484cbc3029f44dde9d6245a8b412d6f2",
       "value": 40
      }
     },
     "57561d0c0afa4c47a993e5c1d85dc0b3": {
      "model_module": "@jupyter-widgets/controls",
      "model_module_version": "2.0.0",
      "model_name": "HTMLStyleModel",
      "state": {
       "description_width": "",
       "font_size": null,
       "text_color": null
      }
     },
     "582828feb8b547c1b763ce792f4501b0": {
      "model_module": "@jupyter-widgets/controls",
      "model_module_version": "2.0.0",
      "model_name": "HTMLStyleModel",
      "state": {
       "description_width": "",
       "font_size": null,
       "text_color": null
      }
     },
     "585b964f69804476aecb7094c5c5a24e": {
      "model_module": "@jupyter-widgets/controls",
      "model_module_version": "2.0.0",
      "model_name": "HTMLStyleModel",
      "state": {
       "description_width": "",
       "font_size": null,
       "text_color": null
      }
     },
     "5861f25cd5fa4f47b644c68b098b52a8": {
      "model_module": "@jupyter-widgets/controls",
      "model_module_version": "2.0.0",
      "model_name": "HTMLModel",
      "state": {
       "layout": "IPY_MODEL_74a5bf503bc8486785abdbe39dd46886",
       "style": "IPY_MODEL_9ac2f9ad9256446090be5ff8454ec09d",
       "value": "Validate (900 Steps) (DiceMetric=0.20852): 100%"
      }
     },
     "592276ecd2f34d349da13aa5b57b416f": {
      "model_module": "@jupyter-widgets/base",
      "model_module_version": "2.0.0",
      "model_name": "LayoutModel",
      "state": {
       "flex": "2"
      }
     },
     "593b3cca31b94e1784d1b065dd010465": {
      "model_module": "@jupyter-widgets/controls",
      "model_module_version": "2.0.0",
      "model_name": "ProgressStyleModel",
      "state": {
       "description_width": ""
      }
     },
     "59b5502dc18743c89f0ce11e422fbf79": {
      "model_module": "@jupyter-widgets/controls",
      "model_module_version": "2.0.0",
      "model_name": "ProgressStyleModel",
      "state": {
       "description_width": ""
      }
     },
     "5a2d936d964f4adc85b47997602e7264": {
      "model_module": "@jupyter-widgets/base",
      "model_module_version": "2.0.0",
      "model_name": "LayoutModel",
      "state": {
       "display": "inline-flex",
       "flex_flow": "row wrap",
       "width": "100%"
      }
     },
     "5a43b8accbf649d181425af6dbebf01a": {
      "model_module": "@jupyter-widgets/controls",
      "model_module_version": "2.0.0",
      "model_name": "HTMLModel",
      "state": {
       "layout": "IPY_MODEL_861970f3c34943e0963ffb17fd40bf3b",
       "style": "IPY_MODEL_242bd16294e340aa9dc29068dcd5e26b",
       "value": "Validate (9900 Steps) (DiceMetric=0.79564): 100%"
      }
     },
     "5a5cc7d32fb64a4aba5cd6330c2dbee4": {
      "model_module": "@jupyter-widgets/controls",
      "model_module_version": "2.0.0",
      "model_name": "HTMLModel",
      "state": {
       "layout": "IPY_MODEL_c8ec0837bdb949459a2b7c437cfd8a8d",
       "style": "IPY_MODEL_9165d5416cf443808607279199e63ade",
       "value": " 40/40 [02:35&lt;00:00,  1.94s/it]"
      }
     },
     "5ae6be4ef5774015b3b56338a28a5ab3": {
      "model_module": "@jupyter-widgets/base",
      "model_module_version": "2.0.0",
      "model_name": "LayoutModel",
      "state": {
       "display": "inline-flex",
       "flex_flow": "row wrap",
       "width": "100%"
      }
     },
     "5b36b05db52c4808952349de56ebed45": {
      "model_module": "@jupyter-widgets/controls",
      "model_module_version": "2.0.0",
      "model_name": "HTMLStyleModel",
      "state": {
       "description_width": "",
       "font_size": null,
       "text_color": null
      }
     },
     "5b9c78f3d56e4cb586be8841215ab8ab": {
      "model_module": "@jupyter-widgets/controls",
      "model_module_version": "2.0.0",
      "model_name": "HTMLModel",
      "state": {
       "layout": "IPY_MODEL_2d0866c6a26240659e874e59fd79507b",
       "style": "IPY_MODEL_b7333be8bad54bb4b6c22be621420f80",
       "value": "Validate (1900 Steps) (DiceMetric=0.31990): 100%"
      }
     },
     "5ba14a6edc1c470fa6b47a6f5fd8eee6": {
      "model_module": "@jupyter-widgets/controls",
      "model_module_version": "2.0.0",
      "model_name": "HTMLModel",
      "state": {
       "layout": "IPY_MODEL_007493ba7e524496b7375c93c29522d3",
       "style": "IPY_MODEL_1db70a2b10a344538ee7bfd2e72c2f9b",
       "value": "Validate (4600 Steps) (DiceMetric=0.50991): 100%"
      }
     },
     "5bcae76723fa4cca9e462dc457b5fcc9": {
      "model_module": "@jupyter-widgets/base",
      "model_module_version": "2.0.0",
      "model_name": "LayoutModel",
      "state": {}
     },
     "5bda69bb67dd4d3ca9b79a83f6f861aa": {
      "model_module": "@jupyter-widgets/base",
      "model_module_version": "2.0.0",
      "model_name": "LayoutModel",
      "state": {}
     },
     "5bf57280f36f40279049c955abec4b5a": {
      "model_module": "@jupyter-widgets/base",
      "model_module_version": "2.0.0",
      "model_name": "LayoutModel",
      "state": {}
     },
     "5c7510e09c134bf5bcca840b53c79571": {
      "model_module": "@jupyter-widgets/controls",
      "model_module_version": "2.0.0",
      "model_name": "HTMLModel",
      "state": {
       "layout": "IPY_MODEL_786c2cd1712540cbb6bf2a4e336bfa85",
       "style": "IPY_MODEL_0ab6a4f958b04a34ba852d26998cf101",
       "value": "Validate (9800 Steps) (DiceMetric=0.74574): 100%"
      }
     },
     "5c8e2842719748c997e1732efeedc06b": {
      "model_module": "@jupyter-widgets/base",
      "model_module_version": "2.0.0",
      "model_name": "LayoutModel",
      "state": {}
     },
     "5cc8ea20ef2146129180cab52ae83db5": {
      "model_module": "@jupyter-widgets/controls",
      "model_module_version": "2.0.0",
      "model_name": "HTMLModel",
      "state": {
       "layout": "IPY_MODEL_62ac9e995aa94a2098f71b351563ed7e",
       "style": "IPY_MODEL_060f7e68f7074e3aabda797cbfeb3ea2",
       "value": " 40/40 [02:35&lt;00:00,  1.99s/it]"
      }
     },
     "5d038061c7154d9285883b3d45ae0f77": {
      "model_module": "@jupyter-widgets/controls",
      "model_module_version": "2.0.0",
      "model_name": "ProgressStyleModel",
      "state": {
       "description_width": ""
      }
     },
     "5d03a4c9ad68488cae1e5055a155d6ba": {
      "model_module": "@jupyter-widgets/controls",
      "model_module_version": "2.0.0",
      "model_name": "ProgressStyleModel",
      "state": {
       "description_width": ""
      }
     },
     "5d8c3bc736a94448863bf2fd29de9087": {
      "model_module": "@jupyter-widgets/base",
      "model_module_version": "2.0.0",
      "model_name": "LayoutModel",
      "state": {}
     },
     "5d99c48b65ba4128b7bd7e3812f62879": {
      "model_module": "@jupyter-widgets/controls",
      "model_module_version": "2.0.0",
      "model_name": "HTMLModel",
      "state": {
       "layout": "IPY_MODEL_f97d903032254bf4a198f39cbc6824e8",
       "style": "IPY_MODEL_d88263a310cd4cf19721651618507da3",
       "value": "Validate (8900 Steps) (DiceMetric=0.69284): 100%"
      }
     },
     "5e8cfbb0bed34537b6b66308a9a1bfff": {
      "model_module": "@jupyter-widgets/base",
      "model_module_version": "2.0.0",
      "model_name": "LayoutModel",
      "state": {}
     },
     "5f1628ab304e48938d4526e730e86419": {
      "model_module": "@jupyter-widgets/controls",
      "model_module_version": "2.0.0",
      "model_name": "HTMLModel",
      "state": {
       "layout": "IPY_MODEL_fbf69fabcea744eb8852f4f37ffed400",
       "style": "IPY_MODEL_63798d84cb6c411d8a39338238ca40e2",
       "value": "Validate (8000 Steps) (DiceMetric=0.74663): 100%"
      }
     },
     "5f445ef70bed42a99c1f95ce060e5809": {
      "model_module": "@jupyter-widgets/controls",
      "model_module_version": "2.0.0",
      "model_name": "FloatProgressModel",
      "state": {
       "bar_style": "success",
       "layout": "IPY_MODEL_cdbeb1649be94baa887547df1ce338ed",
       "max": 40,
       "style": "IPY_MODEL_42bbdc6a53d4454498f1aaed2c2e0a51",
       "value": 40
      }
     },
     "5f9116c3b9cb4ae7af76ec3830a1e345": {
      "model_module": "@jupyter-widgets/controls",
      "model_module_version": "2.0.0",
      "model_name": "FloatProgressModel",
      "state": {
       "bar_style": "success",
       "layout": "IPY_MODEL_c59a11e50a7e465ab7ecb0c3a0986fd8",
       "max": 40,
       "style": "IPY_MODEL_7f60983a5468444590c607e95d82550f",
       "value": 40
      }
     },
     "60014f49d0894b35827f4689cc522704": {
      "model_module": "@jupyter-widgets/base",
      "model_module_version": "2.0.0",
      "model_name": "LayoutModel",
      "state": {}
     },
     "606d12ae26ce40ec801c0cc045ca8968": {
      "model_module": "@jupyter-widgets/controls",
      "model_module_version": "2.0.0",
      "model_name": "ProgressStyleModel",
      "state": {
       "description_width": ""
      }
     },
     "60913f22fe864bed8771127ef513bc54": {
      "model_module": "@jupyter-widgets/controls",
      "model_module_version": "2.0.0",
      "model_name": "HTMLModel",
      "state": {
       "layout": "IPY_MODEL_16cf15830e004e95bfc720503b2238f8",
       "style": "IPY_MODEL_23fd5caa9824418facfa2395f0531cd4",
       "value": " 40/40 [02:33&lt;00:00,  1.92s/it]"
      }
     },
     "60b763ee0d3a437b8e45a940726ddfe7": {
      "model_module": "@jupyter-widgets/controls",
      "model_module_version": "2.0.0",
      "model_name": "HTMLStyleModel",
      "state": {
       "description_width": "",
       "font_size": null,
       "text_color": null
      }
     },
     "61567332d67f47b4a8c9c4ba3f8e1770": {
      "model_module": "@jupyter-widgets/controls",
      "model_module_version": "2.0.0",
      "model_name": "FloatProgressModel",
      "state": {
       "bar_style": "success",
       "layout": "IPY_MODEL_9267a5e3ce7a42909343f73586ca3971",
       "max": 40,
       "style": "IPY_MODEL_959c3078a3d0430b97a3a9c04d535310",
       "value": 40
      }
     },
     "6162dbc5f4f44a6dbdf62b5e256ca53c": {
      "model_module": "@jupyter-widgets/controls",
      "model_module_version": "2.0.0",
      "model_name": "HBoxModel",
      "state": {
       "children": [
        "IPY_MODEL_4c613c0dedc449b7a6398a4a87440585",
        "IPY_MODEL_ee1e226572a8442bae76d174a6285180",
        "IPY_MODEL_da16e45fb5b94a53ab4b5886b47ea0f9"
       ],
       "layout": "IPY_MODEL_78a0d1d0de98434c90181f9c8f2b084f"
      }
     },
     "61dff8ac6d8e44d988d439d962448232": {
      "model_module": "@jupyter-widgets/controls",
      "model_module_version": "2.0.0",
      "model_name": "HBoxModel",
      "state": {
       "children": [
        "IPY_MODEL_b502af54efaf4693b0327625d289fb32",
        "IPY_MODEL_781bc9676a0b4e3fb4f9d1f42cfe8d7b",
        "IPY_MODEL_62367bd1bba4476cb4b78d3531194cde"
       ],
       "layout": "IPY_MODEL_919ea6b666da405dabfbf410de821613"
      }
     },
     "61f364f88083459783803e418233451b": {
      "model_module": "@jupyter-widgets/base",
      "model_module_version": "2.0.0",
      "model_name": "LayoutModel",
      "state": {}
     },
     "61f9cbaf21a0437cab77e86c52c0b4af": {
      "model_module": "@jupyter-widgets/controls",
      "model_module_version": "2.0.0",
      "model_name": "FloatProgressModel",
      "state": {
       "bar_style": "success",
       "layout": "IPY_MODEL_592276ecd2f34d349da13aa5b57b416f",
       "max": 40,
       "style": "IPY_MODEL_5d03a4c9ad68488cae1e5055a155d6ba",
       "value": 40
      }
     },
     "62367bd1bba4476cb4b78d3531194cde": {
      "model_module": "@jupyter-widgets/controls",
      "model_module_version": "2.0.0",
      "model_name": "HTMLModel",
      "state": {
       "layout": "IPY_MODEL_c73e26c0c7654bc2bb059e485d08f98d",
       "style": "IPY_MODEL_e28db26221ce4f279207797e8e3245be",
       "value": " 40/40 [02:34&lt;00:00,  1.92s/it]"
      }
     },
     "62439c9730c545c8a8c1203534f5f633": {
      "model_module": "@jupyter-widgets/controls",
      "model_module_version": "2.0.0",
      "model_name": "HBoxModel",
      "state": {
       "children": [
        "IPY_MODEL_5861f25cd5fa4f47b644c68b098b52a8",
        "IPY_MODEL_ae3f0160924445f38ac422fbfcf2f3ca",
        "IPY_MODEL_08ee3d94e759444799fcb416aa4bdb95"
       ],
       "layout": "IPY_MODEL_4c312d1af3e44199a228345f6ff397a7"
      }
     },
     "62ac9e995aa94a2098f71b351563ed7e": {
      "model_module": "@jupyter-widgets/base",
      "model_module_version": "2.0.0",
      "model_name": "LayoutModel",
      "state": {}
     },
     "62b53566da564787bc2b8185be3465b9": {
      "model_module": "@jupyter-widgets/base",
      "model_module_version": "2.0.0",
      "model_name": "LayoutModel",
      "state": {
       "display": "inline-flex",
       "flex_flow": "row wrap",
       "width": "100%"
      }
     },
     "632d5346693948e7a6afcac90eb4a963": {
      "model_module": "@jupyter-widgets/base",
      "model_module_version": "2.0.0",
      "model_name": "LayoutModel",
      "state": {}
     },
     "63798d84cb6c411d8a39338238ca40e2": {
      "model_module": "@jupyter-widgets/controls",
      "model_module_version": "2.0.0",
      "model_name": "HTMLStyleModel",
      "state": {
       "description_width": "",
       "font_size": null,
       "text_color": null
      }
     },
     "63805d0a360342deb7d8fa41b285dd5d": {
      "model_module": "@jupyter-widgets/controls",
      "model_module_version": "2.0.0",
      "model_name": "HTMLStyleModel",
      "state": {
       "description_width": "",
       "font_size": null,
       "text_color": null
      }
     },
     "6399ea9f66b14dff9cd0d6ba5d983f25": {
      "model_module": "@jupyter-widgets/controls",
      "model_module_version": "2.0.0",
      "model_name": "HTMLStyleModel",
      "state": {
       "description_width": "",
       "font_size": null,
       "text_color": null
      }
     },
     "639ca35116cf4ae98125f97f19ecb89a": {
      "model_module": "@jupyter-widgets/controls",
      "model_module_version": "2.0.0",
      "model_name": "HTMLStyleModel",
      "state": {
       "description_width": "",
       "font_size": null,
       "text_color": null
      }
     },
     "63be257b43084deb8d17f4d32cf04464": {
      "model_module": "@jupyter-widgets/controls",
      "model_module_version": "2.0.0",
      "model_name": "HTMLStyleModel",
      "state": {
       "description_width": "",
       "font_size": null,
       "text_color": null
      }
     },
     "63f419bb8727468a918ad70677cfeec3": {
      "model_module": "@jupyter-widgets/base",
      "model_module_version": "2.0.0",
      "model_name": "LayoutModel",
      "state": {
       "flex": "2"
      }
     },
     "63fd172c8a814305a89aee409c1b444f": {
      "model_module": "@jupyter-widgets/controls",
      "model_module_version": "2.0.0",
      "model_name": "HTMLModel",
      "state": {
       "layout": "IPY_MODEL_16932cf8aa554ad58520f338741b7b00",
       "style": "IPY_MODEL_e6b4acbf76f141ffaa4dbf49f0ac1d1b",
       "value": " 40/40 [02:35&lt;00:00,  1.96s/it]"
      }
     },
     "643327ce39cd417a9e8738f9c32d4546": {
      "model_module": "@jupyter-widgets/controls",
      "model_module_version": "2.0.0",
      "model_name": "HTMLStyleModel",
      "state": {
       "description_width": "",
       "font_size": null,
       "text_color": null
      }
     },
     "646e90d83b9b49fa95272286a33f4424": {
      "model_module": "@jupyter-widgets/base",
      "model_module_version": "2.0.0",
      "model_name": "LayoutModel",
      "state": {}
     },
     "6480c8a9553b479383cee84069e4c103": {
      "model_module": "@jupyter-widgets/controls",
      "model_module_version": "2.0.0",
      "model_name": "HTMLModel",
      "state": {
       "layout": "IPY_MODEL_f68260e446404ff7b18a46302fe2e43a",
       "style": "IPY_MODEL_6b22c8a96b9543ccaf484c04867c8c92",
       "value": "Validate (3400 Steps) (DiceMetric=0.38639): 100%"
      }
     },
     "64ddfd608fd9436f85abce0da26073a0": {
      "model_module": "@jupyter-widgets/controls",
      "model_module_version": "2.0.0",
      "model_name": "HBoxModel",
      "state": {
       "children": [
        "IPY_MODEL_ed6948ff307940eebf59dba698ad4293",
        "IPY_MODEL_89a35378130e4b42aa8b30c9b651feee",
        "IPY_MODEL_5cc8ea20ef2146129180cab52ae83db5"
       ],
       "layout": "IPY_MODEL_a2fee6aa469241ad9beea29a68872989"
      }
     },
     "64f89259592b4d2b98b6335945ae3584": {
      "model_module": "@jupyter-widgets/controls",
      "model_module_version": "2.0.0",
      "model_name": "ProgressStyleModel",
      "state": {
       "description_width": ""
      }
     },
     "655c52d29bd94c3882492b776b8aadd0": {
      "model_module": "@jupyter-widgets/controls",
      "model_module_version": "2.0.0",
      "model_name": "HTMLStyleModel",
      "state": {
       "description_width": "",
       "font_size": null,
       "text_color": null
      }
     },
     "6573c759d1e443278b64a5dc8016691f": {
      "model_module": "@jupyter-widgets/controls",
      "model_module_version": "2.0.0",
      "model_name": "HTMLModel",
      "state": {
       "layout": "IPY_MODEL_b0425d6fe905455593798843be124762",
       "style": "IPY_MODEL_b90bb14147bb44b092c39d97019b23c8",
       "value": "Validate (7400 Steps) (DiceMetric=0.60005): 100%"
      }
     },
     "6579a0884725494e978d2a873c20656d": {
      "model_module": "@jupyter-widgets/controls",
      "model_module_version": "2.0.0",
      "model_name": "ProgressStyleModel",
      "state": {
       "description_width": ""
      }
     },
     "659fe292529847af871d7935c4134bee": {
      "model_module": "@jupyter-widgets/controls",
      "model_module_version": "2.0.0",
      "model_name": "HTMLStyleModel",
      "state": {
       "description_width": "",
       "font_size": null,
       "text_color": null
      }
     },
     "65d215589157458cbd21861f27465d60": {
      "model_module": "@jupyter-widgets/base",
      "model_module_version": "2.0.0",
      "model_name": "LayoutModel",
      "state": {}
     },
     "65ecca93cd9e4504b6fa60865f624c4d": {
      "model_module": "@jupyter-widgets/controls",
      "model_module_version": "2.0.0",
      "model_name": "HBoxModel",
      "state": {
       "children": [
        "IPY_MODEL_813a0f51fffd4686a7b2bed4aab2fa63",
        "IPY_MODEL_3ce5ecfc05ee4ef296f4974ed280c4df",
        "IPY_MODEL_f09d296f0dcc4ca18a1b23c12da672a0"
       ],
       "layout": "IPY_MODEL_6e4149bc06e94250810845e4c1c32f6e"
      }
     },
     "66b2d728ad3a42e2a00f36843f3462c8": {
      "model_module": "@jupyter-widgets/controls",
      "model_module_version": "2.0.0",
      "model_name": "HBoxModel",
      "state": {
       "children": [
        "IPY_MODEL_5742dbbff98848529e2e1a8e348557a4",
        "IPY_MODEL_b6669c905894454fbaaa6123475dd3da",
        "IPY_MODEL_521362fc355941888fe1c096b2fbfe12"
       ],
       "layout": "IPY_MODEL_3aa8817b94944c5790aeb385a9b02f23"
      }
     },
     "6713b4f8c67f4bc483c865e9675128a2": {
      "model_module": "@jupyter-widgets/base",
      "model_module_version": "2.0.0",
      "model_name": "LayoutModel",
      "state": {}
     },
     "67e2f9557cc949ea91a1a9e49119563d": {
      "model_module": "@jupyter-widgets/controls",
      "model_module_version": "2.0.0",
      "model_name": "HTMLStyleModel",
      "state": {
       "description_width": "",
       "font_size": null,
       "text_color": null
      }
     },
     "68380dc579a6445abb2a25d2390c0fd4": {
      "model_module": "@jupyter-widgets/controls",
      "model_module_version": "2.0.0",
      "model_name": "HTMLModel",
      "state": {
       "layout": "IPY_MODEL_e1ecb1142741431ea827a37618d15529",
       "style": "IPY_MODEL_db47a720f6414f669635ce8be5658369",
       "value": "Validate (7700 Steps) (DiceMetric=0.67357): 100%"
      }
     },
     "6852974c96234b8ca530dc8501fb9c53": {
      "model_module": "@jupyter-widgets/controls",
      "model_module_version": "2.0.0",
      "model_name": "HTMLModel",
      "state": {
       "layout": "IPY_MODEL_e82291f7d3aa4664a1e71dea02e8ab2c",
       "style": "IPY_MODEL_53b9ff586c2a41e0bd75c9ef41e2e1fb",
       "value": " 40/40 [02:33&lt;00:00,  1.90s/it]"
      }
     },
     "689c0f7b08e04283b7da2f28ce7aa345": {
      "model_module": "@jupyter-widgets/controls",
      "model_module_version": "2.0.0",
      "model_name": "HTMLModel",
      "state": {
       "layout": "IPY_MODEL_959181d15540407ba7b9f3a5786e3f49",
       "style": "IPY_MODEL_83206c0deaaa455db038edc5576e195e",
       "value": " 40/40 [02:36&lt;00:00,  1.95s/it]"
      }
     },
     "690ad8a5c5df45c2a760e08bf0ff7a4d": {
      "model_module": "@jupyter-widgets/controls",
      "model_module_version": "2.0.0",
      "model_name": "HTMLStyleModel",
      "state": {
       "description_width": "",
       "font_size": null,
       "text_color": null
      }
     },
     "69bd44fa931e44e993f09edd76b3c050": {
      "model_module": "@jupyter-widgets/controls",
      "model_module_version": "2.0.0",
      "model_name": "HTMLModel",
      "state": {
       "layout": "IPY_MODEL_348ffbac4713459bb023f39a3cde6899",
       "style": "IPY_MODEL_fb76c837c0684aa78610a1856c387eb9",
       "value": "Validate (6300 Steps) (DiceMetric=0.60785): 100%"
      }
     },
     "6a311a42df7c44dba7899b19e83c75d2": {
      "model_module": "@jupyter-widgets/base",
      "model_module_version": "2.0.0",
      "model_name": "LayoutModel",
      "state": {
       "flex": "2"
      }
     },
     "6a63e66f0ccf4ceaaabe21207fcde4f3": {
      "model_module": "@jupyter-widgets/controls",
      "model_module_version": "2.0.0",
      "model_name": "HTMLStyleModel",
      "state": {
       "description_width": "",
       "font_size": null,
       "text_color": null
      }
     },
     "6a945c98d9ee45119300666b622cd3a2": {
      "model_module": "@jupyter-widgets/controls",
      "model_module_version": "2.0.0",
      "model_name": "HTMLModel",
      "state": {
       "layout": "IPY_MODEL_9bad31af6a514f1fac91c7c9e700014f",
       "style": "IPY_MODEL_47f244bfd2c14ac19bc119a0fb8e98a1",
       "value": "Validate (3900 Steps) (DiceMetric=0.50240): 100%"
      }
     },
     "6ad8b76ef7a84b3c9339a79cda204616": {
      "model_module": "@jupyter-widgets/controls",
      "model_module_version": "2.0.0",
      "model_name": "HBoxModel",
      "state": {
       "children": [
        "IPY_MODEL_26e89dc0726f435f938bed70e5653cc3",
        "IPY_MODEL_4ff03c35cfc84882acd784405a4cad47",
        "IPY_MODEL_3b9dcd0e565749ddabb18f1f8a5cf2d8"
       ],
       "layout": "IPY_MODEL_dda2076d4fa14b7b930dc0494260668a"
      }
     },
     "6adca8e1e8434212af647630c4d9f87c": {
      "model_module": "@jupyter-widgets/controls",
      "model_module_version": "2.0.0",
      "model_name": "HTMLModel",
      "state": {
       "layout": "IPY_MODEL_153ee9c701834cb18429facd0e42676c",
       "style": "IPY_MODEL_343d2293475d468c8b47392a5fed2791",
       "value": "Validate (4000 Steps) (DiceMetric=0.51278): 100%"
      }
     },
     "6ae2ffbe05424912b98601d70671637d": {
      "model_module": "@jupyter-widgets/controls",
      "model_module_version": "2.0.0",
      "model_name": "HTMLStyleModel",
      "state": {
       "description_width": "",
       "font_size": null,
       "text_color": null
      }
     },
     "6ae5b67f73ff4ac78b5ed84c6c5e21ec": {
      "model_module": "@jupyter-widgets/controls",
      "model_module_version": "2.0.0",
      "model_name": "FloatProgressModel",
      "state": {
       "bar_style": "success",
       "layout": "IPY_MODEL_a74a4eeef715438c96164c6b4c3349e1",
       "max": 40,
       "style": "IPY_MODEL_896d9c5a65a74545abc5e92c7db76308",
       "value": 40
      }
     },
     "6b22c8a96b9543ccaf484c04867c8c92": {
      "model_module": "@jupyter-widgets/controls",
      "model_module_version": "2.0.0",
      "model_name": "HTMLStyleModel",
      "state": {
       "description_width": "",
       "font_size": null,
       "text_color": null
      }
     },
     "6b60b0ff8a2f49fba849f003586fb93f": {
      "model_module": "@jupyter-widgets/controls",
      "model_module_version": "2.0.0",
      "model_name": "HTMLModel",
      "state": {
       "layout": "IPY_MODEL_4d2055c1193241219dda6e79116e1475",
       "style": "IPY_MODEL_f5ab5f05143c40228f2948f74bf01e88",
       "value": "Validate (8800 Steps) (DiceMetric=0.75349): 100%"
      }
     },
     "6ba310b0aad74f4faea9fa1fd9080b9c": {
      "model_module": "@jupyter-widgets/base",
      "model_module_version": "2.0.0",
      "model_name": "LayoutModel",
      "state": {
       "display": "inline-flex",
       "flex_flow": "row wrap",
       "width": "100%"
      }
     },
     "6c0853d0034e46dd96df6e510bc43bac": {
      "model_module": "@jupyter-widgets/base",
      "model_module_version": "2.0.0",
      "model_name": "LayoutModel",
      "state": {}
     },
     "6c30bc85f9e0488eac8b8c92004e99c7": {
      "model_module": "@jupyter-widgets/controls",
      "model_module_version": "2.0.0",
      "model_name": "ProgressStyleModel",
      "state": {
       "description_width": ""
      }
     },
     "6c6fe714b34341c0bb08da4ab9b5e716": {
      "model_module": "@jupyter-widgets/controls",
      "model_module_version": "2.0.0",
      "model_name": "HTMLStyleModel",
      "state": {
       "description_width": "",
       "font_size": null,
       "text_color": null
      }
     },
     "6c7393b7013845c2bd770fc3fbcd716e": {
      "model_module": "@jupyter-widgets/controls",
      "model_module_version": "2.0.0",
      "model_name": "HTMLStyleModel",
      "state": {
       "description_width": "",
       "font_size": null,
       "text_color": null
      }
     },
     "6c744234559b474f884ff677768b906b": {
      "model_module": "@jupyter-widgets/base",
      "model_module_version": "2.0.0",
      "model_name": "LayoutModel",
      "state": {}
     },
     "6c9977a7fc8a404080a39096b0d7c9e5": {
      "model_module": "@jupyter-widgets/base",
      "model_module_version": "2.0.0",
      "model_name": "LayoutModel",
      "state": {
       "flex": "2"
      }
     },
     "6d21252bb3d24812b2f5a89136b0940d": {
      "model_module": "@jupyter-widgets/base",
      "model_module_version": "2.0.0",
      "model_name": "LayoutModel",
      "state": {}
     },
     "6d90737ed4164d2bb647d6c486cd56c1": {
      "model_module": "@jupyter-widgets/base",
      "model_module_version": "2.0.0",
      "model_name": "LayoutModel",
      "state": {}
     },
     "6dfb5251a09242a8b732f8c2edfe9197": {
      "model_module": "@jupyter-widgets/controls",
      "model_module_version": "2.0.0",
      "model_name": "HTMLStyleModel",
      "state": {
       "description_width": "",
       "font_size": null,
       "text_color": null
      }
     },
     "6e16a97c46a448a6a7ef375797f03e92": {
      "model_module": "@jupyter-widgets/base",
      "model_module_version": "2.0.0",
      "model_name": "LayoutModel",
      "state": {}
     },
     "6e4149bc06e94250810845e4c1c32f6e": {
      "model_module": "@jupyter-widgets/base",
      "model_module_version": "2.0.0",
      "model_name": "LayoutModel",
      "state": {
       "display": "inline-flex",
       "flex_flow": "row wrap",
       "width": "100%"
      }
     },
     "6ea940efa8754511b19a8e6eef2ff860": {
      "model_module": "@jupyter-widgets/controls",
      "model_module_version": "2.0.0",
      "model_name": "HTMLModel",
      "state": {
       "layout": "IPY_MODEL_55d67c2bb207406dac7ef5f987f05315",
       "style": "IPY_MODEL_b3a37b00776b4b6cbf13f02c2f2c6323",
       "value": " 40/40 [02:33&lt;00:00,  1.93s/it]"
      }
     },
     "6ebb73fe20fc4ec6a6da8c7e3e7c49dd": {
      "model_module": "@jupyter-widgets/controls",
      "model_module_version": "2.0.0",
      "model_name": "ProgressStyleModel",
      "state": {
       "description_width": ""
      }
     },
     "6ee4acf1412140f7aa56213e62da9cb1": {
      "model_module": "@jupyter-widgets/controls",
      "model_module_version": "2.0.0",
      "model_name": "HTMLModel",
      "state": {
       "layout": "IPY_MODEL_bb4dea94e61b4459973dceee5949bfa8",
       "style": "IPY_MODEL_a22c8ac6ba3a4e91aa3ffec3ad28cdfe",
       "value": " 40/40 [02:33&lt;00:00,  1.90s/it]"
      }
     },
     "7003c0f04c5b44fbb4f972e90b19aa17": {
      "model_module": "@jupyter-widgets/controls",
      "model_module_version": "2.0.0",
      "model_name": "HBoxModel",
      "state": {
       "children": [
        "IPY_MODEL_0054961a51d14e188a688777e3105be7",
        "IPY_MODEL_ef7814cf2d694c11970776e21ad64be7",
        "IPY_MODEL_08b7f1b6622d4f76a5715c5c3304853d"
       ],
       "layout": "IPY_MODEL_b450c6952b8f46d5ba493fd93269d431"
      }
     },
     "700a7dd5cfbc4cca9b016f4adb678996": {
      "model_module": "@jupyter-widgets/controls",
      "model_module_version": "2.0.0",
      "model_name": "HTMLModel",
      "state": {
       "layout": "IPY_MODEL_c88f28a721144bc7bcf31a2261e5f677",
       "style": "IPY_MODEL_ca540591973e4688aca422d046c11efa",
       "value": "Validate (6800 Steps) (DiceMetric=0.71130): 100%"
      }
     },
     "70e5033647964d479d99a12c349629d7": {
      "model_module": "@jupyter-widgets/base",
      "model_module_version": "2.0.0",
      "model_name": "LayoutModel",
      "state": {}
     },
     "711233bd98b74ecd8c491c43cbc31342": {
      "model_module": "@jupyter-widgets/controls",
      "model_module_version": "2.0.0",
      "model_name": "ProgressStyleModel",
      "state": {
       "description_width": ""
      }
     },
     "7192fc6bf0bd4e8e9ae9c34efd4e1013": {
      "model_module": "@jupyter-widgets/base",
      "model_module_version": "2.0.0",
      "model_name": "LayoutModel",
      "state": {}
     },
     "71c269a9021a4045b7f8ab9e40db0dca": {
      "model_module": "@jupyter-widgets/base",
      "model_module_version": "2.0.0",
      "model_name": "LayoutModel",
      "state": {
       "flex": "2"
      }
     },
     "720e7ee5effd4b1f802aa342b1ddbcfb": {
      "model_module": "@jupyter-widgets/controls",
      "model_module_version": "2.0.0",
      "model_name": "HBoxModel",
      "state": {
       "children": [
        "IPY_MODEL_bc92111b48c34ac9b99e8f9b2ff491bc",
        "IPY_MODEL_e2989e88204d4cd08081cecadd94ca15",
        "IPY_MODEL_29185e505b00421c9e2c3f1c56aea6c7"
       ],
       "layout": "IPY_MODEL_38f493b8aeef4fa4bff9ff313b486850"
      }
     },
     "72684340cebd44e4899ae410fd65e5d8": {
      "model_module": "@jupyter-widgets/base",
      "model_module_version": "2.0.0",
      "model_name": "LayoutModel",
      "state": {}
     },
     "734c9b62010147a088c0615350f5ab9c": {
      "model_module": "@jupyter-widgets/controls",
      "model_module_version": "2.0.0",
      "model_name": "ProgressStyleModel",
      "state": {
       "description_width": ""
      }
     },
     "737db581a6594fbb9bec97b355efbb50": {
      "model_module": "@jupyter-widgets/controls",
      "model_module_version": "2.0.0",
      "model_name": "HTMLStyleModel",
      "state": {
       "description_width": "",
       "font_size": null,
       "text_color": null
      }
     },
     "7477d2eff84a4ac1bb636741db8eeb9b": {
      "model_module": "@jupyter-widgets/controls",
      "model_module_version": "2.0.0",
      "model_name": "HTMLStyleModel",
      "state": {
       "description_width": "",
       "font_size": null,
       "text_color": null
      }
     },
     "74a5bf503bc8486785abdbe39dd46886": {
      "model_module": "@jupyter-widgets/base",
      "model_module_version": "2.0.0",
      "model_name": "LayoutModel",
      "state": {}
     },
     "74a877ef7b0845a3b8372620698307a4": {
      "model_module": "@jupyter-widgets/base",
      "model_module_version": "2.0.0",
      "model_name": "LayoutModel",
      "state": {
       "display": "inline-flex",
       "flex_flow": "row wrap",
       "width": "100%"
      }
     },
     "74f9d2ae63904618adad270e92ed7ffb": {
      "model_module": "@jupyter-widgets/controls",
      "model_module_version": "2.0.0",
      "model_name": "HTMLStyleModel",
      "state": {
       "description_width": "",
       "font_size": null,
       "text_color": null
      }
     },
     "7562b495a9b140c5a4b372373039ce59": {
      "model_module": "@jupyter-widgets/controls",
      "model_module_version": "2.0.0",
      "model_name": "FloatProgressModel",
      "state": {
       "bar_style": "success",
       "layout": "IPY_MODEL_71c269a9021a4045b7f8ab9e40db0dca",
       "max": 40,
       "style": "IPY_MODEL_1d3d6ba7e794453ea4cdd8a080eee0b3",
       "value": 40
      }
     },
     "76842d96b9ff4809b3b1c51a5f98c88a": {
      "model_module": "@jupyter-widgets/base",
      "model_module_version": "2.0.0",
      "model_name": "LayoutModel",
      "state": {
       "display": "inline-flex",
       "flex_flow": "row wrap",
       "width": "100%"
      }
     },
     "771da78fa4164ab9aa08f90c2155c666": {
      "model_module": "@jupyter-widgets/base",
      "model_module_version": "2.0.0",
      "model_name": "LayoutModel",
      "state": {}
     },
     "773b28224f1b46dca9eaf37ab87ad2b3": {
      "model_module": "@jupyter-widgets/controls",
      "model_module_version": "2.0.0",
      "model_name": "HTMLModel",
      "state": {
       "layout": "IPY_MODEL_ff13fc4b815c460cafe1f4f3c67935bd",
       "style": "IPY_MODEL_ad412999ddb34572ab812996cb224857",
       "value": "Validate (5700 Steps) (DiceMetric=0.44841): 100%"
      }
     },
     "7787101f10b14fc0a3beea9bc9b45f4d": {
      "model_module": "@jupyter-widgets/controls",
      "model_module_version": "2.0.0",
      "model_name": "FloatProgressModel",
      "state": {
       "bar_style": "success",
       "layout": "IPY_MODEL_ba72110c095143e0a3f53f714566ec33",
       "max": 40,
       "style": "IPY_MODEL_bf59c025348649a09390bc8c1149956f",
       "value": 40
      }
     },
     "781bc9676a0b4e3fb4f9d1f42cfe8d7b": {
      "model_module": "@jupyter-widgets/controls",
      "model_module_version": "2.0.0",
      "model_name": "FloatProgressModel",
      "state": {
       "bar_style": "success",
       "layout": "IPY_MODEL_b9008ca0f19341b0a1f5c0999db8da45",
       "max": 40,
       "style": "IPY_MODEL_315c86f3005249689c8b8087e681a776",
       "value": 40
      }
     },
     "7843b9e938ce45c08fda1c1723841baa": {
      "model_module": "@jupyter-widgets/controls",
      "model_module_version": "2.0.0",
      "model_name": "HBoxModel",
      "state": {
       "children": [
        "IPY_MODEL_1ebed120e7e541a6b1f481662ba933ae",
        "IPY_MODEL_9066fbaa6f254894bbac7e6ea83b4895",
        "IPY_MODEL_827ca2774978453192bfc07aab28257b"
       ],
       "layout": "IPY_MODEL_5a2d936d964f4adc85b47997602e7264"
      }
     },
     "786c2cd1712540cbb6bf2a4e336bfa85": {
      "model_module": "@jupyter-widgets/base",
      "model_module_version": "2.0.0",
      "model_name": "LayoutModel",
      "state": {}
     },
     "788141b076a147b29f08a04decf5c1ed": {
      "model_module": "@jupyter-widgets/controls",
      "model_module_version": "2.0.0",
      "model_name": "ProgressStyleModel",
      "state": {
       "description_width": ""
      }
     },
     "78a0d1d0de98434c90181f9c8f2b084f": {
      "model_module": "@jupyter-widgets/base",
      "model_module_version": "2.0.0",
      "model_name": "LayoutModel",
      "state": {
       "display": "inline-flex",
       "flex_flow": "row wrap",
       "width": "100%"
      }
     },
     "78b2afb28e644b9ea9741be8d66ef6f5": {
      "model_module": "@jupyter-widgets/base",
      "model_module_version": "2.0.0",
      "model_name": "LayoutModel",
      "state": {
       "flex": "2"
      }
     },
     "79159aa66bee4a31a032ccac78286ce5": {
      "model_module": "@jupyter-widgets/base",
      "model_module_version": "2.0.0",
      "model_name": "LayoutModel",
      "state": {}
     },
     "793cbb9f1ae3459b97631a4561164d36": {
      "model_module": "@jupyter-widgets/controls",
      "model_module_version": "2.0.0",
      "model_name": "HTMLModel",
      "state": {
       "layout": "IPY_MODEL_46b758f9fc294aca938481bd535c42c5",
       "style": "IPY_MODEL_acc11965d0a84147999952c1d427753c",
       "value": "Validate (DiceMetric=0.44587): 100%"
      }
     },
     "79488759d15b4962b85a414675fc00b9": {
      "model_module": "@jupyter-widgets/controls",
      "model_module_version": "2.0.0",
      "model_name": "HBoxModel",
      "state": {
       "children": [
        "IPY_MODEL_18f6b96c5e164d53ad96cfa6f9bc9aa3",
        "IPY_MODEL_4f31337cef6e465c8c94b5c985d36583",
        "IPY_MODEL_49c5a12ff05d46b6bce905b0b1f91b72"
       ],
       "layout": "IPY_MODEL_0a9d805afc6643faa87f5abe2f0766c5"
      }
     },
     "796b1d60887a42dbbfe8bf55e7a93b16": {
      "model_module": "@jupyter-widgets/base",
      "model_module_version": "2.0.0",
      "model_name": "LayoutModel",
      "state": {}
     },
     "79720ccf35f5419dbb857496e312ecc0": {
      "model_module": "@jupyter-widgets/base",
      "model_module_version": "2.0.0",
      "model_name": "LayoutModel",
      "state": {
       "flex": "2"
      }
     },
     "79b57716534d4c5aa570b5256b8a8dea": {
      "model_module": "@jupyter-widgets/controls",
      "model_module_version": "2.0.0",
      "model_name": "HBoxModel",
      "state": {
       "children": [
        "IPY_MODEL_3a4ab81c64a84a2399c78c01c7b2355d",
        "IPY_MODEL_cf9518ce871845bfb1202e829e3a25d0",
        "IPY_MODEL_2d0a05c2fc4a43ff99d641d0b681f7b6"
       ],
       "layout": "IPY_MODEL_b5345470e9324fcdb066e6170a8b0d16"
      }
     },
     "7b04e7bab80e499983b1ac3a931e58a0": {
      "model_module": "@jupyter-widgets/base",
      "model_module_version": "2.0.0",
      "model_name": "LayoutModel",
      "state": {}
     },
     "7c07c9f873964df39d0ecca0af176471": {
      "model_module": "@jupyter-widgets/base",
      "model_module_version": "2.0.0",
      "model_name": "LayoutModel",
      "state": {}
     },
     "7cf6ee0cf921427f8874bcc2570fd1a4": {
      "model_module": "@jupyter-widgets/controls",
      "model_module_version": "2.0.0",
      "model_name": "HBoxModel",
      "state": {
       "children": [
        "IPY_MODEL_773b28224f1b46dca9eaf37ab87ad2b3",
        "IPY_MODEL_5744709ef211423ead500748610ac331",
        "IPY_MODEL_5a5cc7d32fb64a4aba5cd6330c2dbee4"
       ],
       "layout": "IPY_MODEL_90f2baacc92a498f9029022c28fd7d92"
      }
     },
     "7d2a6d2494cf4056b0716474bb70d277": {
      "model_module": "@jupyter-widgets/base",
      "model_module_version": "2.0.0",
      "model_name": "LayoutModel",
      "state": {}
     },
     "7d7ea6cbe52a4ab9aad5804753c967f9": {
      "model_module": "@jupyter-widgets/controls",
      "model_module_version": "2.0.0",
      "model_name": "HTMLStyleModel",
      "state": {
       "description_width": "",
       "font_size": null,
       "text_color": null
      }
     },
     "7db531a9a115424682e4d46f451a366a": {
      "model_module": "@jupyter-widgets/controls",
      "model_module_version": "2.0.0",
      "model_name": "HTMLModel",
      "state": {
       "layout": "IPY_MODEL_f27065ff8c23479285b2f43b1d18b673",
       "style": "IPY_MODEL_7ea2046607a3442abfbb51f095cdd424",
       "value": "Validate (7600 Steps) (DiceMetric=0.70037): 100%"
      }
     },
     "7e01e001e1be4c51b68ef3fba904d4e0": {
      "model_module": "@jupyter-widgets/base",
      "model_module_version": "2.0.0",
      "model_name": "LayoutModel",
      "state": {
       "flex": "2"
      }
     },
     "7e040792019a4b2f994e688728e04f84": {
      "model_module": "@jupyter-widgets/controls",
      "model_module_version": "2.0.0",
      "model_name": "HTMLStyleModel",
      "state": {
       "description_width": "",
       "font_size": null,
       "text_color": null
      }
     },
     "7e6fceeb3b6b41e396c10824513ded8d": {
      "model_module": "@jupyter-widgets/base",
      "model_module_version": "2.0.0",
      "model_name": "LayoutModel",
      "state": {}
     },
     "7e86dc2438d24410a59030a1cfed72c0": {
      "model_module": "@jupyter-widgets/controls",
      "model_module_version": "2.0.0",
      "model_name": "HTMLStyleModel",
      "state": {
       "description_width": "",
       "font_size": null,
       "text_color": null
      }
     },
     "7ea2046607a3442abfbb51f095cdd424": {
      "model_module": "@jupyter-widgets/controls",
      "model_module_version": "2.0.0",
      "model_name": "HTMLStyleModel",
      "state": {
       "description_width": "",
       "font_size": null,
       "text_color": null
      }
     },
     "7ec98772846b43c9bb1244775c9dc6fe": {
      "model_module": "@jupyter-widgets/controls",
      "model_module_version": "2.0.0",
      "model_name": "HBoxModel",
      "state": {
       "children": [
        "IPY_MODEL_24ec3e09632d40ba8d7dd6e4b9b38c56",
        "IPY_MODEL_e3a5f7a8e2c8479db40c6de5a5c49f05",
        "IPY_MODEL_d2db0df00e0a4a159640ae0fa6b07a63"
       ],
       "layout": "IPY_MODEL_27e1a063c26f423dac10101cf8d5c0a8"
      }
     },
     "7f4aa1bc612c42caa3bdecec426ad87e": {
      "model_module": "@jupyter-widgets/controls",
      "model_module_version": "2.0.0",
      "model_name": "FloatProgressModel",
      "state": {
       "bar_style": "success",
       "layout": "IPY_MODEL_49987e10538d4af99e00b1171982941c",
       "max": 40,
       "style": "IPY_MODEL_b341977962504162bfa2f32858adb17a",
       "value": 40
      }
     },
     "7f60983a5468444590c607e95d82550f": {
      "model_module": "@jupyter-widgets/controls",
      "model_module_version": "2.0.0",
      "model_name": "ProgressStyleModel",
      "state": {
       "description_width": ""
      }
     },
     "7f95f1df48804205a95c04893af54775": {
      "model_module": "@jupyter-widgets/controls",
      "model_module_version": "2.0.0",
      "model_name": "HTMLStyleModel",
      "state": {
       "description_width": "",
       "font_size": null,
       "text_color": null
      }
     },
     "7fd8d70270424ad6ba7fab5429c1f6c6": {
      "model_module": "@jupyter-widgets/controls",
      "model_module_version": "2.0.0",
      "model_name": "HBoxModel",
      "state": {
       "children": [
        "IPY_MODEL_351a1c10d11c473e8030adc62065c271",
        "IPY_MODEL_61f9cbaf21a0437cab77e86c52c0b4af",
        "IPY_MODEL_2734c4f02f6247a99bf1c89fff8c113b"
       ],
       "layout": "IPY_MODEL_ac2eb6cd00e740a5907330dca45698de"
      }
     },
     "7ffb08d126b645b0a665eb42e328dd22": {
      "model_module": "@jupyter-widgets/base",
      "model_module_version": "2.0.0",
      "model_name": "LayoutModel",
      "state": {}
     },
     "8004183aadbf4db4b6b2850e13a444a6": {
      "model_module": "@jupyter-widgets/base",
      "model_module_version": "2.0.0",
      "model_name": "LayoutModel",
      "state": {}
     },
     "8038f5dab276446ba6b34387dac4ba86": {
      "model_module": "@jupyter-widgets/controls",
      "model_module_version": "2.0.0",
      "model_name": "ProgressStyleModel",
      "state": {
       "description_width": ""
      }
     },
     "804d88ffa07e42e18ee24b75111881cf": {
      "model_module": "@jupyter-widgets/controls",
      "model_module_version": "2.0.0",
      "model_name": "HBoxModel",
      "state": {
       "children": [
        "IPY_MODEL_d5789b757f394055ad8968f11b61a8fc",
        "IPY_MODEL_aef8fbc0a87047bf9bfa95e4c3702b95",
        "IPY_MODEL_19c402c37441486182ff515cc9a0e692"
       ],
       "layout": "IPY_MODEL_97665843fa5c4483a8a871897f1f9b9b"
      }
     },
     "80bfde89c42045c083b44e635940d0bf": {
      "model_module": "@jupyter-widgets/base",
      "model_module_version": "2.0.0",
      "model_name": "LayoutModel",
      "state": {
       "flex": "2"
      }
     },
     "813a0f51fffd4686a7b2bed4aab2fa63": {
      "model_module": "@jupyter-widgets/controls",
      "model_module_version": "2.0.0",
      "model_name": "HTMLModel",
      "state": {
       "layout": "IPY_MODEL_f4fa69e1908a423ebbc1a05e9ce6f590",
       "style": "IPY_MODEL_37427f858df54d9b84e9995b33499851",
       "value": "Validate (9200 Steps) (DiceMetric=0.67163): 100%"
      }
     },
     "818f7a94714642f092f7a6ce0c0b6a56": {
      "model_module": "@jupyter-widgets/controls",
      "model_module_version": "2.0.0",
      "model_name": "FloatProgressModel",
      "state": {
       "bar_style": "success",
       "layout": "IPY_MODEL_f92be451d267460aa3fd5832bc8d4b0b",
       "max": 40,
       "style": "IPY_MODEL_1edce3e11f0049bd96d8a75ae6b341a4",
       "value": 40
      }
     },
     "818fced91d1940d8b1b00bf127416d5f": {
      "model_module": "@jupyter-widgets/controls",
      "model_module_version": "2.0.0",
      "model_name": "HTMLModel",
      "state": {
       "layout": "IPY_MODEL_16ba0b66f89f46b38db557f41cb9562e",
       "style": "IPY_MODEL_92aeaeee97f44d3fa2318ae0ba8f49e9",
       "value": "Validate (2800 Steps) (DiceMetric=0.37045): 100%"
      }
     },
     "81c7ab13f25c460bae84c1b2d62e4f66": {
      "model_module": "@jupyter-widgets/controls",
      "model_module_version": "2.0.0",
      "model_name": "HBoxModel",
      "state": {
       "children": [
        "IPY_MODEL_6b60b0ff8a2f49fba849f003586fb93f",
        "IPY_MODEL_f1858abe809b483ca621b5a4174c8172",
        "IPY_MODEL_cc8dfd9bd50641b5b2c27e6475b45a53"
       ],
       "layout": "IPY_MODEL_1db07433bde44a87b8f8bd6dffe06370"
      }
     },
     "81ca529d70614ece93396a5369741389": {
      "model_module": "@jupyter-widgets/base",
      "model_module_version": "2.0.0",
      "model_name": "LayoutModel",
      "state": {
       "display": "inline-flex",
       "flex_flow": "row wrap",
       "width": "100%"
      }
     },
     "81d3567814f3488896d6c0c11c1ec7b1": {
      "model_module": "@jupyter-widgets/controls",
      "model_module_version": "2.0.0",
      "model_name": "FloatProgressModel",
      "state": {
       "bar_style": "success",
       "layout": "IPY_MODEL_b068c7878f1c4747be3066905de15bad",
       "max": 120,
       "style": "IPY_MODEL_b9abaa722a1b42768d97f94b960284a2",
       "value": 120
      }
     },
     "8216ab5a86b0421ebfca03e110937949": {
      "model_module": "@jupyter-widgets/base",
      "model_module_version": "2.0.0",
      "model_name": "LayoutModel",
      "state": {
       "display": "inline-flex",
       "flex_flow": "row wrap",
       "width": "100%"
      }
     },
     "827ca2774978453192bfc07aab28257b": {
      "model_module": "@jupyter-widgets/controls",
      "model_module_version": "2.0.0",
      "model_name": "HTMLModel",
      "state": {
       "layout": "IPY_MODEL_faa9251f1d1e48ba846dd1cb7b6db5c6",
       "style": "IPY_MODEL_7f95f1df48804205a95c04893af54775",
       "value": " 40/40 [02:34&lt;00:00,  1.94s/it]"
      }
     },
     "82912562d7f44890b184a5125010550b": {
      "model_module": "@jupyter-widgets/base",
      "model_module_version": "2.0.0",
      "model_name": "LayoutModel",
      "state": {}
     },
     "831fce4444364a4f82f65371c20e673c": {
      "model_module": "@jupyter-widgets/controls",
      "model_module_version": "2.0.0",
      "model_name": "ProgressStyleModel",
      "state": {
       "description_width": ""
      }
     },
     "83206c0deaaa455db038edc5576e195e": {
      "model_module": "@jupyter-widgets/controls",
      "model_module_version": "2.0.0",
      "model_name": "HTMLStyleModel",
      "state": {
       "description_width": "",
       "font_size": null,
       "text_color": null
      }
     },
     "83538273d1fc4f508653a3b86a3922c7": {
      "model_module": "@jupyter-widgets/base",
      "model_module_version": "2.0.0",
      "model_name": "LayoutModel",
      "state": {
       "display": "inline-flex",
       "flex_flow": "row wrap",
       "width": "100%"
      }
     },
     "83676b2b1a9241e29a1124b1a560a8cd": {
      "model_module": "@jupyter-widgets/controls",
      "model_module_version": "2.0.0",
      "model_name": "HTMLStyleModel",
      "state": {
       "description_width": "",
       "font_size": null,
       "text_color": null
      }
     },
     "838716b9ef9848c18093770964867d90": {
      "model_module": "@jupyter-widgets/base",
      "model_module_version": "2.0.0",
      "model_name": "LayoutModel",
      "state": {
       "display": "inline-flex",
       "flex_flow": "row wrap",
       "width": "100%"
      }
     },
     "838998afc5af4d658a51648491bde035": {
      "model_module": "@jupyter-widgets/base",
      "model_module_version": "2.0.0",
      "model_name": "LayoutModel",
      "state": {
       "flex": "2"
      }
     },
     "83bdf9a03dbc4e9f8a97b636aceac923": {
      "model_module": "@jupyter-widgets/controls",
      "model_module_version": "2.0.0",
      "model_name": "ProgressStyleModel",
      "state": {
       "description_width": ""
      }
     },
     "83e67dd3eea341959a0e54ebee918e84": {
      "model_module": "@jupyter-widgets/base",
      "model_module_version": "2.0.0",
      "model_name": "LayoutModel",
      "state": {
       "flex": "2"
      }
     },
     "8411ab79c9d8458594c7e8bdcca108d6": {
      "model_module": "@jupyter-widgets/controls",
      "model_module_version": "2.0.0",
      "model_name": "HTMLStyleModel",
      "state": {
       "description_width": "",
       "font_size": null,
       "text_color": null
      }
     },
     "84143cc5d33e48e0b3fec1a7039243bb": {
      "model_module": "@jupyter-widgets/base",
      "model_module_version": "2.0.0",
      "model_name": "LayoutModel",
      "state": {}
     },
     "843c5d5a12c044779387a958fa6e7be3": {
      "model_module": "@jupyter-widgets/base",
      "model_module_version": "2.0.0",
      "model_name": "LayoutModel",
      "state": {
       "display": "inline-flex",
       "flex_flow": "row wrap",
       "width": "100%"
      }
     },
     "846bc93c17ad461a879738207328774b": {
      "model_module": "@jupyter-widgets/base",
      "model_module_version": "2.0.0",
      "model_name": "LayoutModel",
      "state": {}
     },
     "847f0926e90e45d1be00b5e6a5f2bda1": {
      "model_module": "@jupyter-widgets/base",
      "model_module_version": "2.0.0",
      "model_name": "LayoutModel",
      "state": {}
     },
     "8511523d07a4427191cb2fef115d7c1c": {
      "model_module": "@jupyter-widgets/controls",
      "model_module_version": "2.0.0",
      "model_name": "HTMLStyleModel",
      "state": {
       "description_width": "",
       "font_size": null,
       "text_color": null
      }
     },
     "854cef6358574b178839b96e4eb7eb0d": {
      "model_module": "@jupyter-widgets/controls",
      "model_module_version": "2.0.0",
      "model_name": "HTMLModel",
      "state": {
       "layout": "IPY_MODEL_d26a9ef0aa144d0489de996e5ae9612a",
       "style": "IPY_MODEL_df60b3b3aebb490e9ee312c44be4f155",
       "value": "Validate (100 Steps) (DiceMetric=0.23987): 100%"
      }
     },
     "8561d9d898c5446c923e3f46cfbdbfe6": {
      "model_module": "@jupyter-widgets/controls",
      "model_module_version": "2.0.0",
      "model_name": "HTMLStyleModel",
      "state": {
       "description_width": "",
       "font_size": null,
       "text_color": null
      }
     },
     "856324bd6af343b7b4a7cd98baed5106": {
      "model_module": "@jupyter-widgets/controls",
      "model_module_version": "2.0.0",
      "model_name": "HTMLModel",
      "state": {
       "layout": "IPY_MODEL_abe3665be2d44583bb714b3f9b8d08b8",
       "style": "IPY_MODEL_4bfc27f3b0cf4fc1904a890e1dcf6b76",
       "value": " 40/40 [02:35&lt;00:00,  1.97s/it]"
      }
     },
     "859ff9ccad4042edae424f19e6bf9912": {
      "model_module": "@jupyter-widgets/controls",
      "model_module_version": "2.0.0",
      "model_name": "HBoxModel",
      "state": {
       "children": [
        "IPY_MODEL_4acbd9479105419a813b4cefddb5d9bd",
        "IPY_MODEL_4dac19ee1d4a4329a01a4f644a900d35",
        "IPY_MODEL_3af65d7c66f2480a90c2bf25504f6112"
       ],
       "layout": "IPY_MODEL_ae445704cdf34e6f89ce94138805276f"
      }
     },
     "860b35b98f95459ba0ca8c22d8f0f6c7": {
      "model_module": "@jupyter-widgets/base",
      "model_module_version": "2.0.0",
      "model_name": "LayoutModel",
      "state": {}
     },
     "861970f3c34943e0963ffb17fd40bf3b": {
      "model_module": "@jupyter-widgets/base",
      "model_module_version": "2.0.0",
      "model_name": "LayoutModel",
      "state": {}
     },
     "8645d13bbda5439a9122cc652099829c": {
      "model_module": "@jupyter-widgets/base",
      "model_module_version": "2.0.0",
      "model_name": "LayoutModel",
      "state": {}
     },
     "8670d45e9742488dba47ddeb9b70d011": {
      "model_module": "@jupyter-widgets/controls",
      "model_module_version": "2.0.0",
      "model_name": "ProgressStyleModel",
      "state": {
       "description_width": ""
      }
     },
     "870ba79462a3415aa65711a53b1b8f4b": {
      "model_module": "@jupyter-widgets/base",
      "model_module_version": "2.0.0",
      "model_name": "LayoutModel",
      "state": {
       "flex": "2"
      }
     },
     "874169962cbf4b8b8d65e029f552834d": {
      "model_module": "@jupyter-widgets/controls",
      "model_module_version": "2.0.0",
      "model_name": "HTMLModel",
      "state": {
       "layout": "IPY_MODEL_dd1a82b045dd456484ef1bd9ab4429f0",
       "style": "IPY_MODEL_4f839eeccdee4f528a61688af1c8f70b",
       "value": "Validate (3300 Steps) (DiceMetric=0.34482): 100%"
      }
     },
     "87aac1fbf59d4d7cbb9730cb87168714": {
      "model_module": "@jupyter-widgets/controls",
      "model_module_version": "2.0.0",
      "model_name": "HTMLModel",
      "state": {
       "layout": "IPY_MODEL_3689154569bf4d4781ecccf2fb416529",
       "style": "IPY_MODEL_b5047cca6a204cc7ae722e7dacca4adc",
       "value": "Validate (3200 Steps) (DiceMetric=0.45014): 100%"
      }
     },
     "87d9d11db8d641b9952f174482f9fd2f": {
      "model_module": "@jupyter-widgets/controls",
      "model_module_version": "2.0.0",
      "model_name": "HBoxModel",
      "state": {
       "children": [
        "IPY_MODEL_4b2aa441e2dd4dbb9d7f1b79e1946174",
        "IPY_MODEL_a0198940c76f4c8f897bf5e377bd2538",
        "IPY_MODEL_dcf28ea43009448cac73ee2b0c3e20ab"
       ],
       "layout": "IPY_MODEL_d5e6f6bc69b94dee92361018c6eae85f"
      }
     },
     "887c743052ac4606803dc2f4843ac3d7": {
      "model_module": "@jupyter-widgets/controls",
      "model_module_version": "2.0.0",
      "model_name": "HTMLModel",
      "state": {
       "layout": "IPY_MODEL_8a5933f1e2e94277a21b84f39b1f0872",
       "style": "IPY_MODEL_e31b9870397c4e98a5590079198f2016",
       "value": " 40/40 [02:34&lt;00:00,  1.94s/it]"
      }
     },
     "88b0249ab1804ac898ac39a6e162d82e": {
      "model_module": "@jupyter-widgets/controls",
      "model_module_version": "2.0.0",
      "model_name": "HTMLStyleModel",
      "state": {
       "description_width": "",
       "font_size": null,
       "text_color": null
      }
     },
     "88bc76944af54d4baac8cfb83fb8be2c": {
      "model_module": "@jupyter-widgets/base",
      "model_module_version": "2.0.0",
      "model_name": "LayoutModel",
      "state": {}
     },
     "88ed50dfb69349fb9a803706685c36d3": {
      "model_module": "@jupyter-widgets/base",
      "model_module_version": "2.0.0",
      "model_name": "LayoutModel",
      "state": {
       "display": "inline-flex",
       "flex_flow": "row wrap",
       "width": "100%"
      }
     },
     "88f0766c208c434a8bb56f340fb78936": {
      "model_module": "@jupyter-widgets/controls",
      "model_module_version": "2.0.0",
      "model_name": "HTMLModel",
      "state": {
       "layout": "IPY_MODEL_d5b30a3eb9354ed99cb1d69d92133941",
       "style": "IPY_MODEL_d5f53e79804142d284b95575e9936159",
       "value": "Validate (1500 Steps) (DiceMetric=0.34543): 100%"
      }
     },
     "892d0c63d6ee44d292b48916ba43ecb2": {
      "model_module": "@jupyter-widgets/controls",
      "model_module_version": "2.0.0",
      "model_name": "HBoxModel",
      "state": {
       "children": [
        "IPY_MODEL_6573c759d1e443278b64a5dc8016691f",
        "IPY_MODEL_15aaed6efc2c499ab9f84e1f0b305637",
        "IPY_MODEL_6ea940efa8754511b19a8e6eef2ff860"
       ],
       "layout": "IPY_MODEL_0bb97a3a1eb14a879b6379e40cee5dec"
      }
     },
     "893bb9e4a127455ea6b1e5626eb84981": {
      "model_module": "@jupyter-widgets/controls",
      "model_module_version": "2.0.0",
      "model_name": "FloatProgressModel",
      "state": {
       "bar_style": "success",
       "layout": "IPY_MODEL_f63c83161922448aa476e1a44050479d",
       "max": 40,
       "style": "IPY_MODEL_1db47fe504c2426a876fd2f532cd5c54",
       "value": 40
      }
     },
     "8969fa9c881c441fb3812020df689ad9": {
      "model_module": "@jupyter-widgets/controls",
      "model_module_version": "2.0.0",
      "model_name": "HTMLStyleModel",
      "state": {
       "description_width": "",
       "font_size": null,
       "text_color": null
      }
     },
     "896d9c5a65a74545abc5e92c7db76308": {
      "model_module": "@jupyter-widgets/controls",
      "model_module_version": "2.0.0",
      "model_name": "ProgressStyleModel",
      "state": {
       "description_width": ""
      }
     },
     "899da72e759f466e9ab9292d7e1e9e6b": {
      "model_module": "@jupyter-widgets/base",
      "model_module_version": "2.0.0",
      "model_name": "LayoutModel",
      "state": {
       "flex": "2"
      }
     },
     "89a35378130e4b42aa8b30c9b651feee": {
      "model_module": "@jupyter-widgets/controls",
      "model_module_version": "2.0.0",
      "model_name": "FloatProgressModel",
      "state": {
       "bar_style": "success",
       "layout": "IPY_MODEL_50f54fb493ce4171a71dacddbd102295",
       "max": 40,
       "style": "IPY_MODEL_fa55ba338a584b3a8969423e8532cb15",
       "value": 40
      }
     },
     "89d42f7045b541e68fd538cf4bfd8181": {
      "model_module": "@jupyter-widgets/base",
      "model_module_version": "2.0.0",
      "model_name": "LayoutModel",
      "state": {
       "display": "inline-flex",
       "flex_flow": "row wrap",
       "width": "100%"
      }
     },
     "89d88192e82144d2bd3ac048b5b90ded": {
      "model_module": "@jupyter-widgets/controls",
      "model_module_version": "2.0.0",
      "model_name": "HBoxModel",
      "state": {
       "children": [
        "IPY_MODEL_6480c8a9553b479383cee84069e4c103",
        "IPY_MODEL_e076b9640e2648efb56c362b36ae1aea",
        "IPY_MODEL_b92f987f87974c59885c851c830f9ed7"
       ],
       "layout": "IPY_MODEL_253060ecd14e465a96fe1fa5736d2fff"
      }
     },
     "89efbf8371c54fc7bd54103304cd9345": {
      "model_module": "@jupyter-widgets/controls",
      "model_module_version": "2.0.0",
      "model_name": "HBoxModel",
      "state": {
       "children": [
        "IPY_MODEL_2cf28ea59e114d909f0340d7d691a378",
        "IPY_MODEL_d213d0340ddd423e9d9cea49195da9e9",
        "IPY_MODEL_442a94d2db1f44a89710573be9578396"
       ],
       "layout": "IPY_MODEL_a01c531734bf4427908ee3132ecca028"
      }
     },
     "8a032022d4244233a1a2d638d304fcce": {
      "model_module": "@jupyter-widgets/controls",
      "model_module_version": "2.0.0",
      "model_name": "FloatProgressModel",
      "state": {
       "bar_style": "success",
       "layout": "IPY_MODEL_8c369add735e446bafe09a9e0dc4d78c",
       "max": 40,
       "style": "IPY_MODEL_935a850eaadc49eaae673ccbf1e180b0",
       "value": 40
      }
     },
     "8a2983a531cb4ce8a6dc2c51eba91d19": {
      "model_module": "@jupyter-widgets/controls",
      "model_module_version": "2.0.0",
      "model_name": "HTMLStyleModel",
      "state": {
       "description_width": "",
       "font_size": null,
       "text_color": null
      }
     },
     "8a34b9d784e3471cad28e789c0692f85": {
      "model_module": "@jupyter-widgets/controls",
      "model_module_version": "2.0.0",
      "model_name": "HTMLStyleModel",
      "state": {
       "description_width": "",
       "font_size": null,
       "text_color": null
      }
     },
     "8a5933f1e2e94277a21b84f39b1f0872": {
      "model_module": "@jupyter-widgets/base",
      "model_module_version": "2.0.0",
      "model_name": "LayoutModel",
      "state": {}
     },
     "8a695810325746218607614959cfd431": {
      "model_module": "@jupyter-widgets/controls",
      "model_module_version": "2.0.0",
      "model_name": "HTMLModel",
      "state": {
       "layout": "IPY_MODEL_0c772588f81640018e473a8e1835e4db",
       "style": "IPY_MODEL_9db329b5eec843e890d4cac44a14db1e",
       "value": " 40/40 [02:34&lt;00:00,  1.94s/it]"
      }
     },
     "8a7335c9a691478e9ac0e51970462cc9": {
      "model_module": "@jupyter-widgets/controls",
      "model_module_version": "2.0.0",
      "model_name": "HTMLModel",
      "state": {
       "layout": "IPY_MODEL_f1e96070ea4e4abc95a1d85c398e633e",
       "style": "IPY_MODEL_f44a08619dbe42768f3b1b8d45a02a07",
       "value": "Validate (7900 Steps) (DiceMetric=0.70052): 100%"
      }
     },
     "8abf8810d10b4c7da13f170fdeb0d09f": {
      "model_module": "@jupyter-widgets/base",
      "model_module_version": "2.0.0",
      "model_name": "LayoutModel",
      "state": {}
     },
     "8acd54b6e24645daa493ee8515e1d4be": {
      "model_module": "@jupyter-widgets/controls",
      "model_module_version": "2.0.0",
      "model_name": "HTMLModel",
      "state": {
       "layout": "IPY_MODEL_88bc76944af54d4baac8cfb83fb8be2c",
       "style": "IPY_MODEL_95b2ed09b51b4400ae0a60b236fe4e2e",
       "value": "Validate (2000 Steps) (DiceMetric=0.35809): 100%"
      }
     },
     "8ad1e5a77b884e1b82f518132fc8527b": {
      "model_module": "@jupyter-widgets/controls",
      "model_module_version": "2.0.0",
      "model_name": "FloatProgressModel",
      "state": {
       "bar_style": "success",
       "layout": "IPY_MODEL_469303d4fa524e76a78f997362f1dec7",
       "max": 40,
       "style": "IPY_MODEL_8670d45e9742488dba47ddeb9b70d011",
       "value": 40
      }
     },
     "8ae32038298a458d97bbf8561460c63d": {
      "model_module": "@jupyter-widgets/controls",
      "model_module_version": "2.0.0",
      "model_name": "HBoxModel",
      "state": {
       "children": [
        "IPY_MODEL_b512d8cf2ee6470382b501aad5a85f76",
        "IPY_MODEL_818f7a94714642f092f7a6ce0c0b6a56",
        "IPY_MODEL_a785883aa03a468f99bbec2dd31e4eec"
       ],
       "layout": "IPY_MODEL_6ba310b0aad74f4faea9fa1fd9080b9c"
      }
     },
     "8b2b0e2dc2fc4643a7a0dba0dd040e90": {
      "model_module": "@jupyter-widgets/controls",
      "model_module_version": "2.0.0",
      "model_name": "HTMLModel",
      "state": {
       "layout": "IPY_MODEL_cab279c072e74aecb5ea66b1a881be1a",
       "style": "IPY_MODEL_585b964f69804476aecb7094c5c5a24e",
       "value": "Validate (1300 Steps) (DiceMetric=0.34560): 100%"
      }
     },
     "8b2c3f1ec3164f4aafe3e345f0fcd1d5": {
      "model_module": "@jupyter-widgets/controls",
      "model_module_version": "2.0.0",
      "model_name": "HTMLStyleModel",
      "state": {
       "description_width": "",
       "font_size": null,
       "text_color": null
      }
     },
     "8b4e997506fe4a7fb1c51f2563f14413": {
      "model_module": "@jupyter-widgets/base",
      "model_module_version": "2.0.0",
      "model_name": "LayoutModel",
      "state": {
       "display": "inline-flex",
       "flex_flow": "row wrap",
       "width": "100%"
      }
     },
     "8b5fe53808a444f78f3055e4103df6e0": {
      "model_module": "@jupyter-widgets/controls",
      "model_module_version": "2.0.0",
      "model_name": "ProgressStyleModel",
      "state": {
       "description_width": ""
      }
     },
     "8b8c0aa52b67407f94d552e4f61af5e6": {
      "model_module": "@jupyter-widgets/controls",
      "model_module_version": "2.0.0",
      "model_name": "HTMLModel",
      "state": {
       "layout": "IPY_MODEL_4ea179d2da5a467ba3f20dd2f5d81f5c",
       "style": "IPY_MODEL_07ace08bbb064105bbc49b83b07438cd",
       "value": " 40/40 [02:36&lt;00:00,  1.95s/it]"
      }
     },
     "8c369add735e446bafe09a9e0dc4d78c": {
      "model_module": "@jupyter-widgets/base",
      "model_module_version": "2.0.0",
      "model_name": "LayoutModel",
      "state": {
       "flex": "2"
      }
     },
     "8c9a62c4ded64ecab320c0418f6a9d35": {
      "model_module": "@jupyter-widgets/controls",
      "model_module_version": "2.0.0",
      "model_name": "HTMLStyleModel",
      "state": {
       "description_width": "",
       "font_size": null,
       "text_color": null
      }
     },
     "8ca43dbc2e1541e683a86a844c82cc29": {
      "model_module": "@jupyter-widgets/controls",
      "model_module_version": "2.0.0",
      "model_name": "HTMLStyleModel",
      "state": {
       "description_width": "",
       "font_size": null,
       "text_color": null
      }
     },
     "8d366c700d5948a9b8fb60bacf80d871": {
      "model_module": "@jupyter-widgets/base",
      "model_module_version": "2.0.0",
      "model_name": "LayoutModel",
      "state": {
       "display": "inline-flex",
       "flex_flow": "row wrap",
       "width": "100%"
      }
     },
     "8d3b97fcb666418d87ff8742fb186fe3": {
      "model_module": "@jupyter-widgets/base",
      "model_module_version": "2.0.0",
      "model_name": "LayoutModel",
      "state": {}
     },
     "8d92969464ba499b963aba5dd4d929fd": {
      "model_module": "@jupyter-widgets/controls",
      "model_module_version": "2.0.0",
      "model_name": "HTMLModel",
      "state": {
       "layout": "IPY_MODEL_8abf8810d10b4c7da13f170fdeb0d09f",
       "style": "IPY_MODEL_7d7ea6cbe52a4ab9aad5804753c967f9",
       "value": " 10000/10000 [13:09:46&lt;00:00, 49.44s/it]"
      }
     },
     "8e0495de7bab4c8880a8c9afd119a97b": {
      "model_module": "@jupyter-widgets/controls",
      "model_module_version": "2.0.0",
      "model_name": "HTMLModel",
      "state": {
       "layout": "IPY_MODEL_f73a73b45afd4157a14f6029ffc41ec6",
       "style": "IPY_MODEL_4e964a00cdf34097ad68a20e7cbc069d",
       "value": " 40/40 [02:42&lt;00:00,  2.05s/it]"
      }
     },
     "8e20062daaef4a71a66dd3fcc467d169": {
      "model_module": "@jupyter-widgets/controls",
      "model_module_version": "2.0.0",
      "model_name": "ProgressStyleModel",
      "state": {
       "description_width": ""
      }
     },
     "8e2300b35c3a40ee9f8d9deb6a337513": {
      "model_module": "@jupyter-widgets/controls",
      "model_module_version": "2.0.0",
      "model_name": "HTMLStyleModel",
      "state": {
       "description_width": "",
       "font_size": null,
       "text_color": null
      }
     },
     "8e361d3f10694bffb2e60f5ef37f7816": {
      "model_module": "@jupyter-widgets/controls",
      "model_module_version": "2.0.0",
      "model_name": "HBoxModel",
      "state": {
       "children": [
        "IPY_MODEL_048f9bcac1fc4802ab02605e5e429569",
        "IPY_MODEL_36e7f699577b4ce5bbb312f339bd5544",
        "IPY_MODEL_1007cf7d13fa4864924a931319b38696"
       ],
       "layout": "IPY_MODEL_a1a5fe20040249e49e9933b6cc31b3d9"
      }
     },
     "8e40b4493c7f4c85876b7befdaea5110": {
      "model_module": "@jupyter-widgets/controls",
      "model_module_version": "2.0.0",
      "model_name": "HBoxModel",
      "state": {
       "children": [
        "IPY_MODEL_060ed0d33dcf4ab696159c9ad969b6de",
        "IPY_MODEL_d1e82ed028c64f88a27299455e7184d8",
        "IPY_MODEL_a2e66d2440fa49b6bb4ce6c1ef8905ac"
       ],
       "layout": "IPY_MODEL_9d5e5261e4b248a28da92b08902c3913"
      }
     },
     "8e5921f9b61b4a85a837d7b1373451df": {
      "model_module": "@jupyter-widgets/controls",
      "model_module_version": "2.0.0",
      "model_name": "HTMLModel",
      "state": {
       "layout": "IPY_MODEL_2be11382d63a4bc8b3ad9116b057b4a2",
       "style": "IPY_MODEL_e73fc6536b874eb98bee9bfa1ddbd2ed",
       "value": " 40/40 [02:35&lt;00:00,  1.95s/it]"
      }
     },
     "8ebeae6c5c97418dab30be67486ac82a": {
      "model_module": "@jupyter-widgets/controls",
      "model_module_version": "2.0.0",
      "model_name": "FloatProgressModel",
      "state": {
       "bar_style": "success",
       "layout": "IPY_MODEL_d539e5a7742c4bfa88ce7bce7c168840",
       "max": 40,
       "style": "IPY_MODEL_d046909276d7461f9cf1d58cc9ed3755",
       "value": 40
      }
     },
     "8ef281274457496aae0953e29138406c": {
      "model_module": "@jupyter-widgets/controls",
      "model_module_version": "2.0.0",
      "model_name": "HTMLStyleModel",
      "state": {
       "description_width": "",
       "font_size": null,
       "text_color": null
      }
     },
     "8ef58ec98ef14ea482a645bc25baeb9b": {
      "model_module": "@jupyter-widgets/base",
      "model_module_version": "2.0.0",
      "model_name": "LayoutModel",
      "state": {
       "flex": "2"
      }
     },
     "8efc991bcf784c898df08098163258be": {
      "model_module": "@jupyter-widgets/controls",
      "model_module_version": "2.0.0",
      "model_name": "HBoxModel",
      "state": {
       "children": [
        "IPY_MODEL_c99037f505914de8ad6d3ef14240d70e",
        "IPY_MODEL_c6992abd3950472c83d5957950e7b669",
        "IPY_MODEL_d53b7fd4539149a0a7d49bf089bd9a50"
       ],
       "layout": "IPY_MODEL_a2c19a09cc46448293c457da793f2afc"
      }
     },
     "8f0f2771b82343eeb2992bd0f0930881": {
      "model_module": "@jupyter-widgets/controls",
      "model_module_version": "2.0.0",
      "model_name": "FloatProgressModel",
      "state": {
       "bar_style": "success",
       "layout": "IPY_MODEL_b3e3aee3d5d44549832f06126e06ecd0",
       "max": 40,
       "style": "IPY_MODEL_4c57be6d46234bbf9944318c41aa7405",
       "value": 40
      }
     },
     "8f4a302cbcfe42e394ea6025fdb07c96": {
      "model_module": "@jupyter-widgets/controls",
      "model_module_version": "2.0.0",
      "model_name": "FloatProgressModel",
      "state": {
       "bar_style": "success",
       "layout": "IPY_MODEL_f1b501b0fcb7442da927d6efc6346adb",
       "max": 40,
       "style": "IPY_MODEL_b7c2613ddfb14e73a4f087817b5c178f",
       "value": 40
      }
     },
     "8f7d922bb086476398c9ee4b26defbbd": {
      "model_module": "@jupyter-widgets/controls",
      "model_module_version": "2.0.0",
      "model_name": "HTMLStyleModel",
      "state": {
       "description_width": "",
       "font_size": null,
       "text_color": null
      }
     },
     "903bffb7f018423d8135a21319321668": {
      "model_module": "@jupyter-widgets/base",
      "model_module_version": "2.0.0",
      "model_name": "LayoutModel",
      "state": {}
     },
     "9052291daf9748aa9134335035e0154c": {
      "model_module": "@jupyter-widgets/controls",
      "model_module_version": "2.0.0",
      "model_name": "HBoxModel",
      "state": {
       "children": [
        "IPY_MODEL_bc9f7994f3cb46d98a96cdaf24f675dd",
        "IPY_MODEL_e1273b3ef9584dca8c6bcd0a7103d97d",
        "IPY_MODEL_15bedc536f1749ba9905c66989dbcaca"
       ],
       "layout": "IPY_MODEL_f7964dc0aa6d4b45b04a95201e70b5e8"
      }
     },
     "9066fbaa6f254894bbac7e6ea83b4895": {
      "model_module": "@jupyter-widgets/controls",
      "model_module_version": "2.0.0",
      "model_name": "FloatProgressModel",
      "state": {
       "bar_style": "success",
       "layout": "IPY_MODEL_80bfde89c42045c083b44e635940d0bf",
       "max": 40,
       "style": "IPY_MODEL_40b9684ff83a47398f3ec40be7944ba3",
       "value": 40
      }
     },
     "90a0f2ccf5ca40768ac742a9dbe5de7f": {
      "model_module": "@jupyter-widgets/controls",
      "model_module_version": "2.0.0",
      "model_name": "HBoxModel",
      "state": {
       "children": [
        "IPY_MODEL_fc29d075e0a641eba9a30844268805d2",
        "IPY_MODEL_fdaa3c00b7804cdd83086858c3217398",
        "IPY_MODEL_243fd08a7c9643e5b53703c3413fd3fd"
       ],
       "layout": "IPY_MODEL_9795fd76f87843768dbecabadf9e49fb"
      }
     },
     "90a27c6b3a0b403aa516c26743ec2127": {
      "model_module": "@jupyter-widgets/base",
      "model_module_version": "2.0.0",
      "model_name": "LayoutModel",
      "state": {
       "flex": "2"
      }
     },
     "90cfa1f1cf004988aba83aea74df243b": {
      "model_module": "@jupyter-widgets/controls",
      "model_module_version": "2.0.0",
      "model_name": "HTMLStyleModel",
      "state": {
       "description_width": "",
       "font_size": null,
       "text_color": null
      }
     },
     "90f2baacc92a498f9029022c28fd7d92": {
      "model_module": "@jupyter-widgets/base",
      "model_module_version": "2.0.0",
      "model_name": "LayoutModel",
      "state": {
       "display": "inline-flex",
       "flex_flow": "row wrap",
       "width": "100%"
      }
     },
     "91391bb9ee304be39966a307437d2080": {
      "model_module": "@jupyter-widgets/base",
      "model_module_version": "2.0.0",
      "model_name": "LayoutModel",
      "state": {}
     },
     "91495c43106744d5a5363dbda2646002": {
      "model_module": "@jupyter-widgets/controls",
      "model_module_version": "2.0.0",
      "model_name": "HTMLStyleModel",
      "state": {
       "description_width": "",
       "font_size": null,
       "text_color": null
      }
     },
     "914cbbd6d9764b0c8bf7a169f737021a": {
      "model_module": "@jupyter-widgets/controls",
      "model_module_version": "2.0.0",
      "model_name": "HTMLModel",
      "state": {
       "layout": "IPY_MODEL_087ed67f4cc04c81a94bf6ae6b87014e",
       "style": "IPY_MODEL_500ce9c3f9ec4266b5510087939b0f6d",
       "value": "Validate (2100 Steps) (DiceMetric=0.36773): 100%"
      }
     },
     "9165d5416cf443808607279199e63ade": {
      "model_module": "@jupyter-widgets/controls",
      "model_module_version": "2.0.0",
      "model_name": "HTMLStyleModel",
      "state": {
       "description_width": "",
       "font_size": null,
       "text_color": null
      }
     },
     "916ac70410934ff3bd4f2c1dc9130f79": {
      "model_module": "@jupyter-widgets/controls",
      "model_module_version": "2.0.0",
      "model_name": "HTMLStyleModel",
      "state": {
       "description_width": "",
       "font_size": null,
       "text_color": null
      }
     },
     "919abc56afd747be9cea5ce3122a50d5": {
      "model_module": "@jupyter-widgets/controls",
      "model_module_version": "2.0.0",
      "model_name": "HTMLModel",
      "state": {
       "layout": "IPY_MODEL_1b5d3e50276242779658a92714525e76",
       "style": "IPY_MODEL_de8269e1c33b4c6caa484626014d2671",
       "value": " 40/40 [02:33&lt;00:00,  1.91s/it]"
      }
     },
     "919ea6b666da405dabfbf410de821613": {
      "model_module": "@jupyter-widgets/base",
      "model_module_version": "2.0.0",
      "model_name": "LayoutModel",
      "state": {
       "display": "inline-flex",
       "flex_flow": "row wrap",
       "width": "100%"
      }
     },
     "91bfaf08f491473db79887abea5458d3": {
      "model_module": "@jupyter-widgets/controls",
      "model_module_version": "2.0.0",
      "model_name": "HTMLStyleModel",
      "state": {
       "description_width": "",
       "font_size": null,
       "text_color": null
      }
     },
     "91cc00d55d7448569d8f81d2ef08a10c": {
      "model_module": "@jupyter-widgets/controls",
      "model_module_version": "2.0.0",
      "model_name": "HBoxModel",
      "state": {
       "children": [
        "IPY_MODEL_f6ae0c0101064280ba9c5c6b0f44b376",
        "IPY_MODEL_7562b495a9b140c5a4b372373039ce59",
        "IPY_MODEL_8e0495de7bab4c8880a8c9afd119a97b"
       ],
       "layout": "IPY_MODEL_d564d0ab05744063bda5486ea981f962"
      }
     },
     "925533bfcf434ba69a8314d196107c7a": {
      "model_module": "@jupyter-widgets/base",
      "model_module_version": "2.0.0",
      "model_name": "LayoutModel",
      "state": {}
     },
     "9267a5e3ce7a42909343f73586ca3971": {
      "model_module": "@jupyter-widgets/base",
      "model_module_version": "2.0.0",
      "model_name": "LayoutModel",
      "state": {
       "flex": "2"
      }
     },
     "927d007c0f704b7e9d981a6518e2f53f": {
      "model_module": "@jupyter-widgets/base",
      "model_module_version": "2.0.0",
      "model_name": "LayoutModel",
      "state": {}
     },
     "92aeaeee97f44d3fa2318ae0ba8f49e9": {
      "model_module": "@jupyter-widgets/controls",
      "model_module_version": "2.0.0",
      "model_name": "HTMLStyleModel",
      "state": {
       "description_width": "",
       "font_size": null,
       "text_color": null
      }
     },
     "93551bdb5f764f0ba43eea5ca7fa5b93": {
      "model_module": "@jupyter-widgets/controls",
      "model_module_version": "2.0.0",
      "model_name": "FloatProgressModel",
      "state": {
       "bar_style": "success",
       "layout": "IPY_MODEL_7e01e001e1be4c51b68ef3fba904d4e0",
       "max": 40,
       "style": "IPY_MODEL_f28260efbb084362bac5476efceb1a61",
       "value": 40
      }
     },
     "935a850eaadc49eaae673ccbf1e180b0": {
      "model_module": "@jupyter-widgets/controls",
      "model_module_version": "2.0.0",
      "model_name": "ProgressStyleModel",
      "state": {
       "description_width": ""
      }
     },
     "937530c410f841189308fa8f4b3d5dfd": {
      "model_module": "@jupyter-widgets/base",
      "model_module_version": "2.0.0",
      "model_name": "LayoutModel",
      "state": {}
     },
     "939bbfddc587419fb22ee658d70e041e": {
      "model_module": "@jupyter-widgets/controls",
      "model_module_version": "2.0.0",
      "model_name": "FloatProgressModel",
      "state": {
       "bar_style": "success",
       "layout": "IPY_MODEL_6c9977a7fc8a404080a39096b0d7c9e5",
       "max": 40,
       "style": "IPY_MODEL_831fce4444364a4f82f65371c20e673c",
       "value": 40
      }
     },
     "93c38114ff39418d839d4ca163fa380e": {
      "model_module": "@jupyter-widgets/base",
      "model_module_version": "2.0.0",
      "model_name": "LayoutModel",
      "state": {
       "display": "inline-flex",
       "flex_flow": "row wrap",
       "width": "100%"
      }
     },
     "93e297e301b447a08958de4ca02e0425": {
      "model_module": "@jupyter-widgets/controls",
      "model_module_version": "2.0.0",
      "model_name": "HTMLStyleModel",
      "state": {
       "description_width": "",
       "font_size": null,
       "text_color": null
      }
     },
     "9466fa486cb4491787cf4dad30213f12": {
      "model_module": "@jupyter-widgets/controls",
      "model_module_version": "2.0.0",
      "model_name": "ProgressStyleModel",
      "state": {
       "description_width": ""
      }
     },
     "94e2734e2b564c1cbc58bcfc374f3433": {
      "model_module": "@jupyter-widgets/controls",
      "model_module_version": "2.0.0",
      "model_name": "HTMLModel",
      "state": {
       "layout": "IPY_MODEL_a07d4f4e9c9846db8ce6f56818e83e68",
       "style": "IPY_MODEL_4828ebde100e4b6dab5ec1a6cba437f9",
       "value": " 40/40 [02:36&lt;00:00,  1.94s/it]"
      }
     },
     "94e47848b919481785200c4b9beeb86d": {
      "model_module": "@jupyter-widgets/base",
      "model_module_version": "2.0.0",
      "model_name": "LayoutModel",
      "state": {
       "display": "inline-flex",
       "flex_flow": "row wrap",
       "width": "100%"
      }
     },
     "94ee047ca353420e9683f53cb6171005": {
      "model_module": "@jupyter-widgets/controls",
      "model_module_version": "2.0.0",
      "model_name": "HTMLModel",
      "state": {
       "layout": "IPY_MODEL_acc6d8e82fea4dc29d9d574847de98cb",
       "style": "IPY_MODEL_4d33b27477dd43848ad540e90feda482",
       "value": "Validate (2300 Steps) (DiceMetric=0.39720): 100%"
      }
     },
     "9512643fb5584d87ad6198c1bea32002": {
      "model_module": "@jupyter-widgets/controls",
      "model_module_version": "2.0.0",
      "model_name": "HTMLModel",
      "state": {
       "layout": "IPY_MODEL_4be14f0ebb754b1ca29641456758a207",
       "style": "IPY_MODEL_ba0deca08ef64f9ab8c5e98e99ef9f89",
       "value": "Validate (10000 Steps) (DiceMetric=0.76006): 100%"
      }
     },
     "951f0c2ce3db4b44b6feae1ec62ea03b": {
      "model_module": "@jupyter-widgets/controls",
      "model_module_version": "2.0.0",
      "model_name": "FloatProgressModel",
      "state": {
       "bar_style": "success",
       "layout": "IPY_MODEL_f966cb0897e540878d989d6d33d62427",
       "max": 10000,
       "style": "IPY_MODEL_e704e5c0950d48e684872a57f4fbaad8",
       "value": 10000
      }
     },
     "959181d15540407ba7b9f3a5786e3f49": {
      "model_module": "@jupyter-widgets/base",
      "model_module_version": "2.0.0",
      "model_name": "LayoutModel",
      "state": {}
     },
     "959c3078a3d0430b97a3a9c04d535310": {
      "model_module": "@jupyter-widgets/controls",
      "model_module_version": "2.0.0",
      "model_name": "ProgressStyleModel",
      "state": {
       "description_width": ""
      }
     },
     "95a7ea85d8fa460da6fb7f87d8adb855": {
      "model_module": "@jupyter-widgets/base",
      "model_module_version": "2.0.0",
      "model_name": "LayoutModel",
      "state": {
       "display": "inline-flex",
       "flex_flow": "row wrap",
       "width": "100%"
      }
     },
     "95b2ed09b51b4400ae0a60b236fe4e2e": {
      "model_module": "@jupyter-widgets/controls",
      "model_module_version": "2.0.0",
      "model_name": "HTMLStyleModel",
      "state": {
       "description_width": "",
       "font_size": null,
       "text_color": null
      }
     },
     "95fc46fd866c4f18a8f12b625dad147f": {
      "model_module": "@jupyter-widgets/controls",
      "model_module_version": "2.0.0",
      "model_name": "HBoxModel",
      "state": {
       "children": [
        "IPY_MODEL_700a7dd5cfbc4cca9b016f4adb678996",
        "IPY_MODEL_28d6e0fc2a7c4883a93665bf53023488",
        "IPY_MODEL_fccd29f9b2c84d85b5b9f1024f5a4101"
       ],
       "layout": "IPY_MODEL_c6651e30efad4d448662e9bc8df9619a"
      }
     },
     "968f4a240a634180b2a2957dd91c9550": {
      "model_module": "@jupyter-widgets/base",
      "model_module_version": "2.0.0",
      "model_name": "LayoutModel",
      "state": {}
     },
     "96b8950a1ab44f949b4b594a40d654f6": {
      "model_module": "@jupyter-widgets/controls",
      "model_module_version": "2.0.0",
      "model_name": "HTMLModel",
      "state": {
       "layout": "IPY_MODEL_4f35e0564231449cac2f922bc1e6365c",
       "style": "IPY_MODEL_8411ab79c9d8458594c7e8bdcca108d6",
       "value": " 40/40 [02:33&lt;00:00,  1.92s/it]"
      }
     },
     "96d4192d94294167a3439585f830ee94": {
      "model_module": "@jupyter-widgets/controls",
      "model_module_version": "2.0.0",
      "model_name": "ProgressStyleModel",
      "state": {
       "description_width": ""
      }
     },
     "970c1eb157d44ea091a69e723641d02b": {
      "model_module": "@jupyter-widgets/controls",
      "model_module_version": "2.0.0",
      "model_name": "FloatProgressModel",
      "state": {
       "bar_style": "success",
       "layout": "IPY_MODEL_261ea83aa4a542e29f9c06cf79b25659",
       "max": 40,
       "style": "IPY_MODEL_12d284c2809d42dfa1baccbaaffd7150",
       "value": 40
      }
     },
     "97665843fa5c4483a8a871897f1f9b9b": {
      "model_module": "@jupyter-widgets/base",
      "model_module_version": "2.0.0",
      "model_name": "LayoutModel",
      "state": {
       "display": "inline-flex",
       "flex_flow": "row wrap",
       "width": "100%"
      }
     },
     "9795fd76f87843768dbecabadf9e49fb": {
      "model_module": "@jupyter-widgets/base",
      "model_module_version": "2.0.0",
      "model_name": "LayoutModel",
      "state": {
       "display": "inline-flex",
       "flex_flow": "row wrap",
       "width": "100%"
      }
     },
     "97dd6b10b42b49b7b98372a76419a6e7": {
      "model_module": "@jupyter-widgets/base",
      "model_module_version": "2.0.0",
      "model_name": "LayoutModel",
      "state": {
       "display": "inline-flex",
       "flex_flow": "row wrap",
       "width": "100%"
      }
     },
     "9849cf096cc749df8b98dc3d31dc4524": {
      "model_module": "@jupyter-widgets/base",
      "model_module_version": "2.0.0",
      "model_name": "LayoutModel",
      "state": {
       "display": "inline-flex",
       "flex_flow": "row wrap",
       "width": "100%"
      }
     },
     "98704e24e52c46758e5771e2a5d03343": {
      "model_module": "@jupyter-widgets/base",
      "model_module_version": "2.0.0",
      "model_name": "LayoutModel",
      "state": {}
     },
     "98763ed6733d4bf0a39433e5e5353b10": {
      "model_module": "@jupyter-widgets/controls",
      "model_module_version": "2.0.0",
      "model_name": "HTMLStyleModel",
      "state": {
       "description_width": "",
       "font_size": null,
       "text_color": null
      }
     },
     "995af0cbb5944988a2611daf8ea11cb8": {
      "model_module": "@jupyter-widgets/controls",
      "model_module_version": "2.0.0",
      "model_name": "HBoxModel",
      "state": {
       "children": [
        "IPY_MODEL_a1aa73bf52aa4d0a9aff1b7794e6c8a7",
        "IPY_MODEL_939bbfddc587419fb22ee658d70e041e",
        "IPY_MODEL_8e5921f9b61b4a85a837d7b1373451df"
       ],
       "layout": "IPY_MODEL_9c7ddabafd48434cbd9e284a7907be08"
      }
     },
     "997f126c33464ae0b495e3f2d167d3cf": {
      "model_module": "@jupyter-widgets/controls",
      "model_module_version": "2.0.0",
      "model_name": "ProgressStyleModel",
      "state": {
       "description_width": ""
      }
     },
     "99887154663d4dda810970c4a5ba8de4": {
      "model_module": "@jupyter-widgets/controls",
      "model_module_version": "2.0.0",
      "model_name": "FloatProgressModel",
      "state": {
       "bar_style": "success",
       "layout": "IPY_MODEL_167363960e97465aa3cd24d999e50be3",
       "max": 40,
       "style": "IPY_MODEL_997f126c33464ae0b495e3f2d167d3cf",
       "value": 40
      }
     },
     "99caab4c40d44830ab31269112d6b5e6": {
      "model_module": "@jupyter-widgets/base",
      "model_module_version": "2.0.0",
      "model_name": "LayoutModel",
      "state": {
       "flex": "2"
      }
     },
     "99ff0df614684c0793caa29dd58c9b01": {
      "model_module": "@jupyter-widgets/base",
      "model_module_version": "2.0.0",
      "model_name": "LayoutModel",
      "state": {
       "flex": "2"
      }
     },
     "9a3689c389c94540a850e219278a944a": {
      "model_module": "@jupyter-widgets/controls",
      "model_module_version": "2.0.0",
      "model_name": "FloatProgressModel",
      "state": {
       "bar_style": "success",
       "layout": "IPY_MODEL_3e93fc9b7fdb4398942b9af5fac38120",
       "max": 40,
       "style": "IPY_MODEL_d6ad4f4c15324c1b965f58ac89316ada",
       "value": 40
      }
     },
     "9a3f607e8d344c298b1cc8e9336b8eee": {
      "model_module": "@jupyter-widgets/controls",
      "model_module_version": "2.0.0",
      "model_name": "HBoxModel",
      "state": {
       "children": [
        "IPY_MODEL_88f0766c208c434a8bb56f340fb78936",
        "IPY_MODEL_2d329d1149184407981a3607f527a93a",
        "IPY_MODEL_41bb1aeefce5403fa25f12ad78733b1d"
       ],
       "layout": "IPY_MODEL_e2f253b688c44e2095db02d4b311a353"
      }
     },
     "9aa992fcb7e84c69aa491844d5a39730": {
      "model_module": "@jupyter-widgets/controls",
      "model_module_version": "2.0.0",
      "model_name": "HBoxModel",
      "state": {
       "children": [
        "IPY_MODEL_47eb76b8fd2f4b25a2940fd015630f4c",
        "IPY_MODEL_2faa5fd495d74e5dbea14ad96022ed07",
        "IPY_MODEL_2cc54ddf0ef747a589a0835e4a37ec1d"
       ],
       "layout": "IPY_MODEL_0711c566ddee44fda1e6bf93035f8c93"
      }
     },
     "9ac2f9ad9256446090be5ff8454ec09d": {
      "model_module": "@jupyter-widgets/controls",
      "model_module_version": "2.0.0",
      "model_name": "HTMLStyleModel",
      "state": {
       "description_width": "",
       "font_size": null,
       "text_color": null
      }
     },
     "9b6fb6620c58423e9846f1845eb30b8e": {
      "model_module": "@jupyter-widgets/controls",
      "model_module_version": "2.0.0",
      "model_name": "HTMLStyleModel",
      "state": {
       "description_width": "",
       "font_size": null,
       "text_color": null
      }
     },
     "9b9a08810698489496a6b4466d01a960": {
      "model_module": "@jupyter-widgets/controls",
      "model_module_version": "2.0.0",
      "model_name": "ProgressStyleModel",
      "state": {
       "description_width": ""
      }
     },
     "9bad31af6a514f1fac91c7c9e700014f": {
      "model_module": "@jupyter-widgets/base",
      "model_module_version": "2.0.0",
      "model_name": "LayoutModel",
      "state": {}
     },
     "9bf056f1dfbf40caa2138c9ad24a8d8c": {
      "model_module": "@jupyter-widgets/base",
      "model_module_version": "2.0.0",
      "model_name": "LayoutModel",
      "state": {}
     },
     "9c11edf4938a4f9493003a9d3b033643": {
      "model_module": "@jupyter-widgets/base",
      "model_module_version": "2.0.0",
      "model_name": "LayoutModel",
      "state": {}
     },
     "9c1a7df785d241879e1f714dc0fd5d34": {
      "model_module": "@jupyter-widgets/controls",
      "model_module_version": "2.0.0",
      "model_name": "HTMLModel",
      "state": {
       "layout": "IPY_MODEL_6d21252bb3d24812b2f5a89136b0940d",
       "style": "IPY_MODEL_b27b86ecbf744d0bbab2098284bc5d41",
       "value": "Validate (2600 Steps) (DiceMetric=0.37516): 100%"
      }
     },
     "9c2a455ed73e4520adba32e8c259b578": {
      "model_module": "@jupyter-widgets/controls",
      "model_module_version": "2.0.0",
      "model_name": "HTMLStyleModel",
      "state": {
       "description_width": "",
       "font_size": null,
       "text_color": null
      }
     },
     "9c4c6e8a000a4b4b98f64546c23d2c61": {
      "model_module": "@jupyter-widgets/controls",
      "model_module_version": "2.0.0",
      "model_name": "HTMLStyleModel",
      "state": {
       "description_width": "",
       "font_size": null,
       "text_color": null
      }
     },
     "9c7cb4f33f204260a2c2837d95a32f8c": {
      "model_module": "@jupyter-widgets/controls",
      "model_module_version": "2.0.0",
      "model_name": "HTMLStyleModel",
      "state": {
       "description_width": "",
       "font_size": null,
       "text_color": null
      }
     },
     "9c7ddabafd48434cbd9e284a7907be08": {
      "model_module": "@jupyter-widgets/base",
      "model_module_version": "2.0.0",
      "model_name": "LayoutModel",
      "state": {
       "display": "inline-flex",
       "flex_flow": "row wrap",
       "width": "100%"
      }
     },
     "9ccc4aafc68c4ae5994917b7884a8463": {
      "model_module": "@jupyter-widgets/controls",
      "model_module_version": "2.0.0",
      "model_name": "HBoxModel",
      "state": {
       "children": [
        "IPY_MODEL_68380dc579a6445abb2a25d2390c0fd4",
        "IPY_MODEL_0237cbbbf7e04ffdbba69e5cca797327",
        "IPY_MODEL_524d7a37a0d246578caf8dd6d232e0b3"
       ],
       "layout": "IPY_MODEL_9dfbf6190fb14aa79447047fa0c887d5"
      }
     },
     "9d1778669f434a4e878c60f651083bb6": {
      "model_module": "@jupyter-widgets/base",
      "model_module_version": "2.0.0",
      "model_name": "LayoutModel",
      "state": {}
     },
     "9d4497232e4747b6a9c67cbd4d6a8354": {
      "model_module": "@jupyter-widgets/controls",
      "model_module_version": "2.0.0",
      "model_name": "FloatProgressModel",
      "state": {
       "bar_style": "success",
       "layout": "IPY_MODEL_4b04bbf9ec874e0aa5c8a979440fc24f",
       "max": 40,
       "style": "IPY_MODEL_3c9d40f6685649a29329577c4fc525fe",
       "value": 40
      }
     },
     "9d539e0838904981974ac267363e6c69": {
      "model_module": "@jupyter-widgets/base",
      "model_module_version": "2.0.0",
      "model_name": "LayoutModel",
      "state": {}
     },
     "9d5667789c1641169f7a09abd2a63b21": {
      "model_module": "@jupyter-widgets/base",
      "model_module_version": "2.0.0",
      "model_name": "LayoutModel",
      "state": {}
     },
     "9d5e5261e4b248a28da92b08902c3913": {
      "model_module": "@jupyter-widgets/base",
      "model_module_version": "2.0.0",
      "model_name": "LayoutModel",
      "state": {
       "display": "inline-flex",
       "flex_flow": "row wrap",
       "width": "100%"
      }
     },
     "9db329b5eec843e890d4cac44a14db1e": {
      "model_module": "@jupyter-widgets/controls",
      "model_module_version": "2.0.0",
      "model_name": "HTMLStyleModel",
      "state": {
       "description_width": "",
       "font_size": null,
       "text_color": null
      }
     },
     "9dfbf6190fb14aa79447047fa0c887d5": {
      "model_module": "@jupyter-widgets/base",
      "model_module_version": "2.0.0",
      "model_name": "LayoutModel",
      "state": {
       "display": "inline-flex",
       "flex_flow": "row wrap",
       "width": "100%"
      }
     },
     "9e71148ce8254905bcc582a0aa6f6e07": {
      "model_module": "@jupyter-widgets/controls",
      "model_module_version": "2.0.0",
      "model_name": "HBoxModel",
      "state": {
       "children": [
        "IPY_MODEL_87aac1fbf59d4d7cbb9730cb87168714",
        "IPY_MODEL_93551bdb5f764f0ba43eea5ca7fa5b93",
        "IPY_MODEL_53fcf00389274880aa82f8e9b864c9f2"
       ],
       "layout": "IPY_MODEL_bbc5f9bb7fcc4dfd9297d6ec0b10b8b8"
      }
     },
     "9efeef4872b64256ab57988a5231bac7": {
      "model_module": "@jupyter-widgets/controls",
      "model_module_version": "2.0.0",
      "model_name": "HTMLStyleModel",
      "state": {
       "description_width": "",
       "font_size": null,
       "text_color": null
      }
     },
     "9f9b4c0cc46449b98b42ceb46fa43652": {
      "model_module": "@jupyter-widgets/controls",
      "model_module_version": "2.0.0",
      "model_name": "FloatProgressModel",
      "state": {
       "bar_style": "success",
       "layout": "IPY_MODEL_3dd6075f8ef64c2dae15cd543149ef70",
       "max": 40,
       "style": "IPY_MODEL_e4859addba3c4495b694e01ca1bfabea",
       "value": 40
      }
     },
     "a019348bd20646a68cc3b1f393e95e2a": {
      "model_module": "@jupyter-widgets/controls",
      "model_module_version": "2.0.0",
      "model_name": "HTMLStyleModel",
      "state": {
       "description_width": "",
       "font_size": null,
       "text_color": null
      }
     },
     "a0198940c76f4c8f897bf5e377bd2538": {
      "model_module": "@jupyter-widgets/controls",
      "model_module_version": "2.0.0",
      "model_name": "FloatProgressModel",
      "state": {
       "bar_style": "success",
       "layout": "IPY_MODEL_aff97347b19d470b921e8dbf71fda455",
       "max": 40,
       "style": "IPY_MODEL_8b5fe53808a444f78f3055e4103df6e0",
       "value": 40
      }
     },
     "a01c531734bf4427908ee3132ecca028": {
      "model_module": "@jupyter-widgets/base",
      "model_module_version": "2.0.0",
      "model_name": "LayoutModel",
      "state": {
       "display": "inline-flex",
       "flex_flow": "row wrap",
       "width": "100%"
      }
     },
     "a07d4f4e9c9846db8ce6f56818e83e68": {
      "model_module": "@jupyter-widgets/base",
      "model_module_version": "2.0.0",
      "model_name": "LayoutModel",
      "state": {}
     },
     "a0831c0148c94cc691d1d17532b77a2f": {
      "model_module": "@jupyter-widgets/controls",
      "model_module_version": "2.0.0",
      "model_name": "HTMLModel",
      "state": {
       "layout": "IPY_MODEL_7192fc6bf0bd4e8e9ae9c34efd4e1013",
       "style": "IPY_MODEL_eea3813f4c854aec88dc7a1ba6429c5a",
       "value": " 40/40 [02:36&lt;00:00,  1.97s/it]"
      }
     },
     "a0e018b7a8a348a9a1c747b99e177e1c": {
      "model_module": "@jupyter-widgets/controls",
      "model_module_version": "2.0.0",
      "model_name": "ProgressStyleModel",
      "state": {
       "description_width": ""
      }
     },
     "a1a5fe20040249e49e9933b6cc31b3d9": {
      "model_module": "@jupyter-widgets/base",
      "model_module_version": "2.0.0",
      "model_name": "LayoutModel",
      "state": {
       "display": "inline-flex",
       "flex_flow": "row wrap",
       "width": "100%"
      }
     },
     "a1aa73bf52aa4d0a9aff1b7794e6c8a7": {
      "model_module": "@jupyter-widgets/controls",
      "model_module_version": "2.0.0",
      "model_name": "HTMLModel",
      "state": {
       "layout": "IPY_MODEL_50cdbed535294a949e99a6f9faa3cb23",
       "style": "IPY_MODEL_7e040792019a4b2f994e688728e04f84",
       "value": "Validate (2200 Steps) (DiceMetric=0.26148): 100%"
      }
     },
     "a1ab47b65b0d41c48df4e77b09ed3561": {
      "model_module": "@jupyter-widgets/controls",
      "model_module_version": "2.0.0",
      "model_name": "HTMLStyleModel",
      "state": {
       "description_width": "",
       "font_size": null,
       "text_color": null
      }
     },
     "a22c8ac6ba3a4e91aa3ffec3ad28cdfe": {
      "model_module": "@jupyter-widgets/controls",
      "model_module_version": "2.0.0",
      "model_name": "HTMLStyleModel",
      "state": {
       "description_width": "",
       "font_size": null,
       "text_color": null
      }
     },
     "a2c19a09cc46448293c457da793f2afc": {
      "model_module": "@jupyter-widgets/base",
      "model_module_version": "2.0.0",
      "model_name": "LayoutModel",
      "state": {
       "display": "inline-flex",
       "flex_flow": "row wrap",
       "width": "100%"
      }
     },
     "a2e66d2440fa49b6bb4ce6c1ef8905ac": {
      "model_module": "@jupyter-widgets/controls",
      "model_module_version": "2.0.0",
      "model_name": "HTMLModel",
      "state": {
       "layout": "IPY_MODEL_846bc93c17ad461a879738207328774b",
       "style": "IPY_MODEL_456b6e6c007442ac98bd454eb4f1ac84",
       "value": " 40/40 [02:35&lt;00:00,  1.99s/it]"
      }
     },
     "a2e91b1c703941d2b678fe759f4c7e35": {
      "model_module": "@jupyter-widgets/base",
      "model_module_version": "2.0.0",
      "model_name": "LayoutModel",
      "state": {
       "display": "inline-flex",
       "flex_flow": "row wrap",
       "width": "100%"
      }
     },
     "a2fee6aa469241ad9beea29a68872989": {
      "model_module": "@jupyter-widgets/base",
      "model_module_version": "2.0.0",
      "model_name": "LayoutModel",
      "state": {
       "display": "inline-flex",
       "flex_flow": "row wrap",
       "width": "100%"
      }
     },
     "a31f1413ca0841e5acf99de03d844cb6": {
      "model_module": "@jupyter-widgets/base",
      "model_module_version": "2.0.0",
      "model_name": "LayoutModel",
      "state": {
       "flex": "2"
      }
     },
     "a342d561ca3e4949948af4e9210e8c35": {
      "model_module": "@jupyter-widgets/base",
      "model_module_version": "2.0.0",
      "model_name": "LayoutModel",
      "state": {}
     },
     "a3947ef7fe024fc5a303d2b607954925": {
      "model_module": "@jupyter-widgets/controls",
      "model_module_version": "2.0.0",
      "model_name": "FloatProgressModel",
      "state": {
       "bar_style": "success",
       "layout": "IPY_MODEL_bc71b28c694744b68c09b99a1cddfef2",
       "max": 40,
       "style": "IPY_MODEL_ffc7b28c741747babff5849b69de6c18",
       "value": 40
      }
     },
     "a395c4b63c9346629eaf7f331afc3659": {
      "model_module": "@jupyter-widgets/base",
      "model_module_version": "2.0.0",
      "model_name": "LayoutModel",
      "state": {
       "flex": "2"
      }
     },
     "a3a6eb6fd1a9488d9225dc3e77e22e30": {
      "model_module": "@jupyter-widgets/base",
      "model_module_version": "2.0.0",
      "model_name": "LayoutModel",
      "state": {
       "flex": "2"
      }
     },
     "a3b75dd0a48b4a00addaeba18943fc4c": {
      "model_module": "@jupyter-widgets/controls",
      "model_module_version": "2.0.0",
      "model_name": "HTMLStyleModel",
      "state": {
       "description_width": "",
       "font_size": null,
       "text_color": null
      }
     },
     "a3d6f989b03c4419af1f66c0390e9588": {
      "model_module": "@jupyter-widgets/controls",
      "model_module_version": "2.0.0",
      "model_name": "HTMLModel",
      "state": {
       "layout": "IPY_MODEL_61f364f88083459783803e418233451b",
       "style": "IPY_MODEL_af60d215ce1642d0aad57ddd1a937b61",
       "value": "Validate (9700 Steps) (DiceMetric=0.77929): 100%"
      }
     },
     "a3e9e7e8d5d542d0923e4837ea2c55fd": {
      "model_module": "@jupyter-widgets/controls",
      "model_module_version": "2.0.0",
      "model_name": "HTMLModel",
      "state": {
       "layout": "IPY_MODEL_e97fff4f624746b2aae1f1885f7f3ce2",
       "style": "IPY_MODEL_f6c1df2461e045c1b7ef2d670bf1ad89",
       "value": "Validate (2400 Steps) (DiceMetric=0.40209): 100%"
      }
     },
     "a3f8d149289e488c9d71a032c82d9bc1": {
      "model_module": "@jupyter-widgets/base",
      "model_module_version": "2.0.0",
      "model_name": "LayoutModel",
      "state": {}
     },
     "a432cc71a55a457fbbf6584576a44fab": {
      "model_module": "@jupyter-widgets/controls",
      "model_module_version": "2.0.0",
      "model_name": "HTMLStyleModel",
      "state": {
       "description_width": "",
       "font_size": null,
       "text_color": null
      }
     },
     "a4392055da444e098f5d89cdae991d22": {
      "model_module": "@jupyter-widgets/controls",
      "model_module_version": "2.0.0",
      "model_name": "HTMLModel",
      "state": {
       "layout": "IPY_MODEL_968f4a240a634180b2a2957dd91c9550",
       "style": "IPY_MODEL_74f9d2ae63904618adad270e92ed7ffb",
       "value": "Validate (3700 Steps) (DiceMetric=0.35491): 100%"
      }
     },
     "a45d9591daf34887ab686ab2fa691576": {
      "model_module": "@jupyter-widgets/base",
      "model_module_version": "2.0.0",
      "model_name": "LayoutModel",
      "state": {}
     },
     "a46dbf4bfa95407699cbf961f0076fcd": {
      "model_module": "@jupyter-widgets/controls",
      "model_module_version": "2.0.0",
      "model_name": "FloatProgressModel",
      "state": {
       "bar_style": "success",
       "layout": "IPY_MODEL_06a18e138b224a1f985489b8d825a97b",
       "max": 40,
       "style": "IPY_MODEL_2ddd42080d2f43a9a026cad2d588a1d6",
       "value": 40
      }
     },
     "a48062d01228424891bfae5e25e88d84": {
      "model_module": "@jupyter-widgets/base",
      "model_module_version": "2.0.0",
      "model_name": "LayoutModel",
      "state": {}
     },
     "a4950489f03e4e2bbf061fc643a5454a": {
      "model_module": "@jupyter-widgets/controls",
      "model_module_version": "2.0.0",
      "model_name": "HTMLModel",
      "state": {
       "layout": "IPY_MODEL_ac9b0013e40b4a1989e13d9fcd86a5f5",
       "style": "IPY_MODEL_cb65073d175e4370909f3f084a9ecd50",
       "value": "Validate (1400 Steps) (DiceMetric=0.35369): 100%"
      }
     },
     "a4a3e35ba88d4c40a22e0f95b2cf452f": {
      "model_module": "@jupyter-widgets/controls",
      "model_module_version": "2.0.0",
      "model_name": "HBoxModel",
      "state": {
       "children": [
        "IPY_MODEL_11c2045a75f940eea013413d4dc04709",
        "IPY_MODEL_61567332d67f47b4a8c9c4ba3f8e1770",
        "IPY_MODEL_fba352ac1a0a44febb981fa41ee753c3"
       ],
       "layout": "IPY_MODEL_09ff7b264d6c415982ad483602c553a5"
      }
     },
     "a4e71bef01ce4c1096ca72d28ccbc66c": {
      "model_module": "@jupyter-widgets/controls",
      "model_module_version": "2.0.0",
      "model_name": "ProgressStyleModel",
      "state": {
       "description_width": ""
      }
     },
     "a4e8cf81667b44688996f2fa7ef16893": {
      "model_module": "@jupyter-widgets/controls",
      "model_module_version": "2.0.0",
      "model_name": "HTMLModel",
      "state": {
       "layout": "IPY_MODEL_d3bb47c40535458e83c33ef83ec8b0b5",
       "style": "IPY_MODEL_643327ce39cd417a9e8738f9c32d4546",
       "value": " 40/40 [02:34&lt;00:00,  1.92s/it]"
      }
     },
     "a524cfd8ca7b4c1697a3a23d900cf3b6": {
      "model_module": "@jupyter-widgets/controls",
      "model_module_version": "2.0.0",
      "model_name": "HTMLStyleModel",
      "state": {
       "description_width": "",
       "font_size": null,
       "text_color": null
      }
     },
     "a5777b21d208476e8b7ce58f802a6d4c": {
      "model_module": "@jupyter-widgets/controls",
      "model_module_version": "2.0.0",
      "model_name": "ProgressStyleModel",
      "state": {
       "description_width": ""
      }
     },
     "a5971067941b4331bbbca18abcb7f894": {
      "model_module": "@jupyter-widgets/controls",
      "model_module_version": "2.0.0",
      "model_name": "ProgressStyleModel",
      "state": {
       "description_width": ""
      }
     },
     "a5b2b58aecab45d89fe17380809a038b": {
      "model_module": "@jupyter-widgets/controls",
      "model_module_version": "2.0.0",
      "model_name": "ProgressStyleModel",
      "state": {
       "description_width": ""
      }
     },
     "a64c4675c2fc408bb3d1ace32a9b5bfe": {
      "model_module": "@jupyter-widgets/base",
      "model_module_version": "2.0.0",
      "model_name": "LayoutModel",
      "state": {}
     },
     "a6da9016abe842e896bda49345ae20ef": {
      "model_module": "@jupyter-widgets/controls",
      "model_module_version": "2.0.0",
      "model_name": "FloatProgressModel",
      "state": {
       "bar_style": "success",
       "layout": "IPY_MODEL_28c65fbd17dd42d0a685eb798b6735e3",
       "max": 40,
       "style": "IPY_MODEL_59b5502dc18743c89f0ce11e422fbf79",
       "value": 40
      }
     },
     "a748daf42482481dbea5face914188c0": {
      "model_module": "@jupyter-widgets/controls",
      "model_module_version": "2.0.0",
      "model_name": "ProgressStyleModel",
      "state": {
       "description_width": ""
      }
     },
     "a74a4eeef715438c96164c6b4c3349e1": {
      "model_module": "@jupyter-widgets/base",
      "model_module_version": "2.0.0",
      "model_name": "LayoutModel",
      "state": {
       "flex": "2"
      }
     },
     "a785883aa03a468f99bbec2dd31e4eec": {
      "model_module": "@jupyter-widgets/controls",
      "model_module_version": "2.0.0",
      "model_name": "HTMLModel",
      "state": {
       "layout": "IPY_MODEL_1578db8801b649bfb6c3074a7e722d58",
       "style": "IPY_MODEL_5256323c6e514abca3c6ca77b9720fb0",
       "value": " 40/40 [02:34&lt;00:00,  1.94s/it]"
      }
     },
     "a7f6a99eecb04c44ad6bbed72b48e087": {
      "model_module": "@jupyter-widgets/base",
      "model_module_version": "2.0.0",
      "model_name": "LayoutModel",
      "state": {}
     },
     "a82878703fc249f0b76a02596dcb5240": {
      "model_module": "@jupyter-widgets/base",
      "model_module_version": "2.0.0",
      "model_name": "LayoutModel",
      "state": {
       "flex": "2"
      }
     },
     "aa22e85566c44aae81c8d72afee93862": {
      "model_module": "@jupyter-widgets/base",
      "model_module_version": "2.0.0",
      "model_name": "LayoutModel",
      "state": {
       "display": "inline-flex",
       "flex_flow": "row wrap",
       "width": "100%"
      }
     },
     "aaa6970828514c4f93939a63433454e6": {
      "model_module": "@jupyter-widgets/base",
      "model_module_version": "2.0.0",
      "model_name": "LayoutModel",
      "state": {}
     },
     "aad2ed11545c49b0a6874da85be4c2d1": {
      "model_module": "@jupyter-widgets/controls",
      "model_module_version": "2.0.0",
      "model_name": "FloatProgressModel",
      "state": {
       "bar_style": "success",
       "layout": "IPY_MODEL_e15f7f78efef49afb6af72b4e488a373",
       "max": 40,
       "style": "IPY_MODEL_788141b076a147b29f08a04decf5c1ed",
       "value": 40
      }
     },
     "aae83a46957d429aa0a268eeaf805e84": {
      "model_module": "@jupyter-widgets/base",
      "model_module_version": "2.0.0",
      "model_name": "LayoutModel",
      "state": {
       "flex": "2"
      }
     },
     "ab6ee28ea6c2472db64fa8f1d0fc7f42": {
      "model_module": "@jupyter-widgets/controls",
      "model_module_version": "2.0.0",
      "model_name": "ProgressStyleModel",
      "state": {
       "description_width": ""
      }
     },
     "ab8d1761e6d44436bbbc7b37efca9588": {
      "model_module": "@jupyter-widgets/controls",
      "model_module_version": "2.0.0",
      "model_name": "HTMLModel",
      "state": {
       "layout": "IPY_MODEL_f844f1e060924c39b6e138ed55006a1c",
       "style": "IPY_MODEL_f04c12ee644f46bb94d04214a047d8fc",
       "value": "Validate (5300 Steps) (DiceMetric=0.50920): 100%"
      }
     },
     "abe3665be2d44583bb714b3f9b8d08b8": {
      "model_module": "@jupyter-widgets/base",
      "model_module_version": "2.0.0",
      "model_name": "LayoutModel",
      "state": {}
     },
     "ac08cf00b00342b9ada9ab4d87be5a65": {
      "model_module": "@jupyter-widgets/base",
      "model_module_version": "2.0.0",
      "model_name": "LayoutModel",
      "state": {}
     },
     "ac2eb6cd00e740a5907330dca45698de": {
      "model_module": "@jupyter-widgets/base",
      "model_module_version": "2.0.0",
      "model_name": "LayoutModel",
      "state": {
       "display": "inline-flex",
       "flex_flow": "row wrap",
       "width": "100%"
      }
     },
     "ac9b0013e40b4a1989e13d9fcd86a5f5": {
      "model_module": "@jupyter-widgets/base",
      "model_module_version": "2.0.0",
      "model_name": "LayoutModel",
      "state": {}
     },
     "acc11965d0a84147999952c1d427753c": {
      "model_module": "@jupyter-widgets/controls",
      "model_module_version": "2.0.0",
      "model_name": "HTMLStyleModel",
      "state": {
       "description_width": "",
       "font_size": null,
       "text_color": null
      }
     },
     "acc6d8e82fea4dc29d9d574847de98cb": {
      "model_module": "@jupyter-widgets/base",
      "model_module_version": "2.0.0",
      "model_name": "LayoutModel",
      "state": {}
     },
     "acd5569eddc94525a7b000091f23ac1f": {
      "model_module": "@jupyter-widgets/controls",
      "model_module_version": "2.0.0",
      "model_name": "FloatProgressModel",
      "state": {
       "bar_style": "success",
       "layout": "IPY_MODEL_0f82c076f746467687c3a889a666e945",
       "max": 40,
       "style": "IPY_MODEL_8e20062daaef4a71a66dd3fcc467d169",
       "value": 40
      }
     },
     "ad412999ddb34572ab812996cb224857": {
      "model_module": "@jupyter-widgets/controls",
      "model_module_version": "2.0.0",
      "model_name": "HTMLStyleModel",
      "state": {
       "description_width": "",
       "font_size": null,
       "text_color": null
      }
     },
     "ad97e9b1ddf747f0baa8eba66759d12f": {
      "model_module": "@jupyter-widgets/base",
      "model_module_version": "2.0.0",
      "model_name": "LayoutModel",
      "state": {
       "display": "inline-flex",
       "flex_flow": "row wrap",
       "width": "100%"
      }
     },
     "ae3f0160924445f38ac422fbfcf2f3ca": {
      "model_module": "@jupyter-widgets/controls",
      "model_module_version": "2.0.0",
      "model_name": "FloatProgressModel",
      "state": {
       "bar_style": "success",
       "layout": "IPY_MODEL_2cb71f167a5d458db866a90d6bae865e",
       "max": 40,
       "style": "IPY_MODEL_0f03bf33c45f4053bc854097d05a84a3",
       "value": 40
      }
     },
     "ae445704cdf34e6f89ce94138805276f": {
      "model_module": "@jupyter-widgets/base",
      "model_module_version": "2.0.0",
      "model_name": "LayoutModel",
      "state": {
       "display": "inline-flex",
       "flex_flow": "row wrap",
       "width": "100%"
      }
     },
     "ae980910fa81442dbf9084e631ced41a": {
      "model_module": "@jupyter-widgets/controls",
      "model_module_version": "2.0.0",
      "model_name": "HTMLStyleModel",
      "state": {
       "description_width": "",
       "font_size": null,
       "text_color": null
      }
     },
     "aedf86f3b2e74fbfaa3aeec5fa62bdf4": {
      "model_module": "@jupyter-widgets/controls",
      "model_module_version": "2.0.0",
      "model_name": "HTMLStyleModel",
      "state": {
       "description_width": "",
       "font_size": null,
       "text_color": null
      }
     },
     "aef8fbc0a87047bf9bfa95e4c3702b95": {
      "model_module": "@jupyter-widgets/controls",
      "model_module_version": "2.0.0",
      "model_name": "FloatProgressModel",
      "state": {
       "bar_style": "success",
       "layout": "IPY_MODEL_4b5fb91e994940ac8b3cdb47781b4c0b",
       "max": 40,
       "style": "IPY_MODEL_396e770b4bef45198cc99cc9982272bc",
       "value": 40
      }
     },
     "aeff40e96d1c45d0a7385b076b07146f": {
      "model_module": "@jupyter-widgets/base",
      "model_module_version": "2.0.0",
      "model_name": "LayoutModel",
      "state": {
       "flex": "2"
      }
     },
     "af084485f41e4aa1820ee06092d7cf5e": {
      "model_module": "@jupyter-widgets/controls",
      "model_module_version": "2.0.0",
      "model_name": "HBoxModel",
      "state": {
       "children": [
        "IPY_MODEL_3857e9a57d984679992353cbd019c760",
        "IPY_MODEL_970c1eb157d44ea091a69e723641d02b",
        "IPY_MODEL_24fb7e0ede9745e186dd51b552be33c2"
       ],
       "layout": "IPY_MODEL_db9f3bacff2b4aaca6714c5837fd3da7"
      }
     },
     "af60d215ce1642d0aad57ddd1a937b61": {
      "model_module": "@jupyter-widgets/controls",
      "model_module_version": "2.0.0",
      "model_name": "HTMLStyleModel",
      "state": {
       "description_width": "",
       "font_size": null,
       "text_color": null
      }
     },
     "aff97347b19d470b921e8dbf71fda455": {
      "model_module": "@jupyter-widgets/base",
      "model_module_version": "2.0.0",
      "model_name": "LayoutModel",
      "state": {
       "flex": "2"
      }
     },
     "b0425d6fe905455593798843be124762": {
      "model_module": "@jupyter-widgets/base",
      "model_module_version": "2.0.0",
      "model_name": "LayoutModel",
      "state": {}
     },
     "b068c7878f1c4747be3066905de15bad": {
      "model_module": "@jupyter-widgets/base",
      "model_module_version": "2.0.0",
      "model_name": "LayoutModel",
      "state": {
       "flex": "2"
      }
     },
     "b07237cd8c204deb87dc605e1cf238b0": {
      "model_module": "@jupyter-widgets/controls",
      "model_module_version": "2.0.0",
      "model_name": "HTMLStyleModel",
      "state": {
       "description_width": "",
       "font_size": null,
       "text_color": null
      }
     },
     "b10be7a26f134498a66d39a423b537e0": {
      "model_module": "@jupyter-widgets/base",
      "model_module_version": "2.0.0",
      "model_name": "LayoutModel",
      "state": {
       "display": "inline-flex",
       "flex_flow": "row wrap",
       "width": "100%"
      }
     },
     "b1362243d256482cb8779144b1c897c1": {
      "model_module": "@jupyter-widgets/base",
      "model_module_version": "2.0.0",
      "model_name": "LayoutModel",
      "state": {
       "flex": "2"
      }
     },
     "b169cb3ee09843feb21caa2acaab3dbc": {
      "model_module": "@jupyter-widgets/base",
      "model_module_version": "2.0.0",
      "model_name": "LayoutModel",
      "state": {
       "flex": "2"
      }
     },
     "b2285667e8bc48b08e2a784b84f22fc9": {
      "model_module": "@jupyter-widgets/controls",
      "model_module_version": "2.0.0",
      "model_name": "ProgressStyleModel",
      "state": {
       "description_width": ""
      }
     },
     "b27b86ecbf744d0bbab2098284bc5d41": {
      "model_module": "@jupyter-widgets/controls",
      "model_module_version": "2.0.0",
      "model_name": "HTMLStyleModel",
      "state": {
       "description_width": "",
       "font_size": null,
       "text_color": null
      }
     },
     "b2c591363270453ab1bf8ee53e55efba": {
      "model_module": "@jupyter-widgets/controls",
      "model_module_version": "2.0.0",
      "model_name": "HTMLModel",
      "state": {
       "layout": "IPY_MODEL_30e977aaee864944a015a39e17cedf4a",
       "style": "IPY_MODEL_493361c5056a47d28c6d65ce5593afa9",
       "value": "Validate (600 Steps) (DiceMetric=0.23137): 100%"
      }
     },
     "b32d012c131c4105b1b9218aba068126": {
      "model_module": "@jupyter-widgets/base",
      "model_module_version": "2.0.0",
      "model_name": "LayoutModel",
      "state": {}
     },
     "b341977962504162bfa2f32858adb17a": {
      "model_module": "@jupyter-widgets/controls",
      "model_module_version": "2.0.0",
      "model_name": "ProgressStyleModel",
      "state": {
       "description_width": ""
      }
     },
     "b3a37b00776b4b6cbf13f02c2f2c6323": {
      "model_module": "@jupyter-widgets/controls",
      "model_module_version": "2.0.0",
      "model_name": "HTMLStyleModel",
      "state": {
       "description_width": "",
       "font_size": null,
       "text_color": null
      }
     },
     "b3c13424f4294d8eb9b17babd4e425ba": {
      "model_module": "@jupyter-widgets/controls",
      "model_module_version": "2.0.0",
      "model_name": "HTMLStyleModel",
      "state": {
       "description_width": "",
       "font_size": null,
       "text_color": null
      }
     },
     "b3e3aee3d5d44549832f06126e06ecd0": {
      "model_module": "@jupyter-widgets/base",
      "model_module_version": "2.0.0",
      "model_name": "LayoutModel",
      "state": {
       "flex": "2"
      }
     },
     "b40bb489010f41e2b3d3359a6f4c243b": {
      "model_module": "@jupyter-widgets/controls",
      "model_module_version": "2.0.0",
      "model_name": "HTMLStyleModel",
      "state": {
       "description_width": "",
       "font_size": null,
       "text_color": null
      }
     },
     "b44095fb36c44d329a5c447e341ecfe6": {
      "model_module": "@jupyter-widgets/base",
      "model_module_version": "2.0.0",
      "model_name": "LayoutModel",
      "state": {
       "display": "inline-flex",
       "flex_flow": "row wrap",
       "width": "100%"
      }
     },
     "b450c6952b8f46d5ba493fd93269d431": {
      "model_module": "@jupyter-widgets/base",
      "model_module_version": "2.0.0",
      "model_name": "LayoutModel",
      "state": {
       "display": "inline-flex",
       "flex_flow": "row wrap",
       "width": "100%"
      }
     },
     "b4dc12bb06a049c8aa987b28e3781623": {
      "model_module": "@jupyter-widgets/base",
      "model_module_version": "2.0.0",
      "model_name": "LayoutModel",
      "state": {
       "display": "inline-flex",
       "flex_flow": "row wrap",
       "width": "100%"
      }
     },
     "b502af54efaf4693b0327625d289fb32": {
      "model_module": "@jupyter-widgets/controls",
      "model_module_version": "2.0.0",
      "model_name": "HTMLModel",
      "state": {
       "layout": "IPY_MODEL_c7ed3e2ab8584037b64cf9770e9210b2",
       "style": "IPY_MODEL_63805d0a360342deb7d8fa41b285dd5d",
       "value": "Validate (8400 Steps) (DiceMetric=0.59164): 100%"
      }
     },
     "b5047cca6a204cc7ae722e7dacca4adc": {
      "model_module": "@jupyter-widgets/controls",
      "model_module_version": "2.0.0",
      "model_name": "HTMLStyleModel",
      "state": {
       "description_width": "",
       "font_size": null,
       "text_color": null
      }
     },
     "b512d8cf2ee6470382b501aad5a85f76": {
      "model_module": "@jupyter-widgets/controls",
      "model_module_version": "2.0.0",
      "model_name": "HTMLModel",
      "state": {
       "layout": "IPY_MODEL_4fbfb03d8cfc435ea898a7327bc80bb2",
       "style": "IPY_MODEL_da031ab0066a41eda4e740e990da9609",
       "value": "Validate (3800 Steps) (DiceMetric=0.47494): 100%"
      }
     },
     "b523ad6204734a49b99205bff97ede60": {
      "model_module": "@jupyter-widgets/base",
      "model_module_version": "2.0.0",
      "model_name": "LayoutModel",
      "state": {}
     },
     "b5345470e9324fcdb066e6170a8b0d16": {
      "model_module": "@jupyter-widgets/base",
      "model_module_version": "2.0.0",
      "model_name": "LayoutModel",
      "state": {
       "display": "inline-flex",
       "flex_flow": "row wrap",
       "width": "100%"
      }
     },
     "b55b556d18f44bb1a6a7f9fc1e34d4d7": {
      "model_module": "@jupyter-widgets/controls",
      "model_module_version": "2.0.0",
      "model_name": "HBoxModel",
      "state": {
       "children": [
        "IPY_MODEL_c292e706337e4f4bab0647245b3da6a9",
        "IPY_MODEL_2898c5da20d0406095a36344e1ec4f27",
        "IPY_MODEL_32bc585bddb249bca09ffe1e882258a9"
       ],
       "layout": "IPY_MODEL_d603f1ec4669409c868cec9b584a7342"
      }
     },
     "b5a015914b03420aa5f6b49c2658e7cc": {
      "model_module": "@jupyter-widgets/base",
      "model_module_version": "2.0.0",
      "model_name": "LayoutModel",
      "state": {
       "flex": "2"
      }
     },
     "b5c59ab229b24cccb61561cc7ed13d38": {
      "model_module": "@jupyter-widgets/controls",
      "model_module_version": "2.0.0",
      "model_name": "HTMLModel",
      "state": {
       "layout": "IPY_MODEL_91391bb9ee304be39966a307437d2080",
       "style": "IPY_MODEL_8511523d07a4427191cb2fef115d7c1c",
       "value": "Validate (6000 Steps) (DiceMetric=0.68396): 100%"
      }
     },
     "b5e37eba676446898ff29caa93d46ced": {
      "model_module": "@jupyter-widgets/controls",
      "model_module_version": "2.0.0",
      "model_name": "HTMLModel",
      "state": {
       "layout": "IPY_MODEL_2e82cc9eab6c45ebb98c21317bb02f28",
       "style": "IPY_MODEL_8b2c3f1ec3164f4aafe3e345f0fcd1d5",
       "value": "Validate (8500 Steps) (DiceMetric=0.65354): 100%"
      }
     },
     "b6669c905894454fbaaa6123475dd3da": {
      "model_module": "@jupyter-widgets/controls",
      "model_module_version": "2.0.0",
      "model_name": "FloatProgressModel",
      "state": {
       "bar_style": "success",
       "layout": "IPY_MODEL_02df942aa29c414fa019c97e3ce4b8b4",
       "max": 40,
       "style": "IPY_MODEL_ebc4768a429e44deb789376f641ab0a3",
       "value": 40
      }
     },
     "b66929a786554c2eba55b4bd2ddfe07d": {
      "model_module": "@jupyter-widgets/controls",
      "model_module_version": "2.0.0",
      "model_name": "HTMLModel",
      "state": {
       "layout": "IPY_MODEL_148dd579f5d34df8b528938e8420ab89",
       "style": "IPY_MODEL_91495c43106744d5a5363dbda2646002",
       "value": "Validate (3500 Steps) (DiceMetric=0.51826): 100%"
      }
     },
     "b6ca5f36722947f582fcf469a5b26c66": {
      "model_module": "@jupyter-widgets/controls",
      "model_module_version": "2.0.0",
      "model_name": "ProgressStyleModel",
      "state": {
       "description_width": ""
      }
     },
     "b7333be8bad54bb4b6c22be621420f80": {
      "model_module": "@jupyter-widgets/controls",
      "model_module_version": "2.0.0",
      "model_name": "HTMLStyleModel",
      "state": {
       "description_width": "",
       "font_size": null,
       "text_color": null
      }
     },
     "b7488ca1139e4c3da9672e4df4269a9c": {
      "model_module": "@jupyter-widgets/base",
      "model_module_version": "2.0.0",
      "model_name": "LayoutModel",
      "state": {
       "display": "inline-flex",
       "flex_flow": "row wrap",
       "width": "100%"
      }
     },
     "b7522689c946467389e1b3a396b45afd": {
      "model_module": "@jupyter-widgets/base",
      "model_module_version": "2.0.0",
      "model_name": "LayoutModel",
      "state": {
       "flex": "2"
      }
     },
     "b7979480e8ca4a8ea1d02716db6e9160": {
      "model_module": "@jupyter-widgets/controls",
      "model_module_version": "2.0.0",
      "model_name": "HTMLStyleModel",
      "state": {
       "description_width": "",
       "font_size": null,
       "text_color": null
      }
     },
     "b7c2613ddfb14e73a4f087817b5c178f": {
      "model_module": "@jupyter-widgets/controls",
      "model_module_version": "2.0.0",
      "model_name": "ProgressStyleModel",
      "state": {
       "description_width": ""
      }
     },
     "b813b87bda2547fcb7f114d3d367b2ad": {
      "model_module": "@jupyter-widgets/base",
      "model_module_version": "2.0.0",
      "model_name": "LayoutModel",
      "state": {
       "display": "inline-flex",
       "flex_flow": "row wrap",
       "width": "100%"
      }
     },
     "b8733231f91d40cea32b5fbdb0ef0e21": {
      "model_module": "@jupyter-widgets/controls",
      "model_module_version": "2.0.0",
      "model_name": "FloatProgressModel",
      "state": {
       "bar_style": "success",
       "layout": "IPY_MODEL_c9dc192aaa9c439aa07738a7f9246a1e",
       "max": 40,
       "style": "IPY_MODEL_64f89259592b4d2b98b6335945ae3584",
       "value": 40
      }
     },
     "b9008ca0f19341b0a1f5c0999db8da45": {
      "model_module": "@jupyter-widgets/base",
      "model_module_version": "2.0.0",
      "model_name": "LayoutModel",
      "state": {
       "flex": "2"
      }
     },
     "b90bb14147bb44b092c39d97019b23c8": {
      "model_module": "@jupyter-widgets/controls",
      "model_module_version": "2.0.0",
      "model_name": "HTMLStyleModel",
      "state": {
       "description_width": "",
       "font_size": null,
       "text_color": null
      }
     },
     "b92f987f87974c59885c851c830f9ed7": {
      "model_module": "@jupyter-widgets/controls",
      "model_module_version": "2.0.0",
      "model_name": "HTMLModel",
      "state": {
       "layout": "IPY_MODEL_bfc0bbcd300e414f987c26a32c191a8f",
       "style": "IPY_MODEL_8c9a62c4ded64ecab320c0418f6a9d35",
       "value": " 40/40 [02:35&lt;00:00,  1.92s/it]"
      }
     },
     "b9abaa722a1b42768d97f94b960284a2": {
      "model_module": "@jupyter-widgets/controls",
      "model_module_version": "2.0.0",
      "model_name": "ProgressStyleModel",
      "state": {
       "description_width": ""
      }
     },
     "ba0deca08ef64f9ab8c5e98e99ef9f89": {
      "model_module": "@jupyter-widgets/controls",
      "model_module_version": "2.0.0",
      "model_name": "HTMLStyleModel",
      "state": {
       "description_width": "",
       "font_size": null,
       "text_color": null
      }
     },
     "ba72110c095143e0a3f53f714566ec33": {
      "model_module": "@jupyter-widgets/base",
      "model_module_version": "2.0.0",
      "model_name": "LayoutModel",
      "state": {
       "flex": "2"
      }
     },
     "ba841ec7f11549ce96282920c9efc246": {
      "model_module": "@jupyter-widgets/base",
      "model_module_version": "2.0.0",
      "model_name": "LayoutModel",
      "state": {
       "display": "inline-flex",
       "flex_flow": "row wrap",
       "width": "100%"
      }
     },
     "babfe00043f64aeeb5e92ecc79af27be": {
      "model_module": "@jupyter-widgets/base",
      "model_module_version": "2.0.0",
      "model_name": "LayoutModel",
      "state": {
       "display": "inline-flex",
       "flex_flow": "row wrap",
       "width": "100%"
      }
     },
     "bad1705d14814a2ca1d8e12dd6f6f8d5": {
      "model_module": "@jupyter-widgets/controls",
      "model_module_version": "2.0.0",
      "model_name": "HTMLStyleModel",
      "state": {
       "description_width": "",
       "font_size": null,
       "text_color": null
      }
     },
     "bad210e8e2924af8aa531a4bbc07e5b8": {
      "model_module": "@jupyter-widgets/controls",
      "model_module_version": "2.0.0",
      "model_name": "HBoxModel",
      "state": {
       "children": [
        "IPY_MODEL_30242d20d0af47f4980e30adcba9d69e",
        "IPY_MODEL_951f0c2ce3db4b44b6feae1ec62ea03b",
        "IPY_MODEL_8d92969464ba499b963aba5dd4d929fd"
       ],
       "layout": "IPY_MODEL_94e47848b919481785200c4b9beeb86d"
      }
     },
     "bb4dea94e61b4459973dceee5949bfa8": {
      "model_module": "@jupyter-widgets/base",
      "model_module_version": "2.0.0",
      "model_name": "LayoutModel",
      "state": {}
     },
     "bbc5f9bb7fcc4dfd9297d6ec0b10b8b8": {
      "model_module": "@jupyter-widgets/base",
      "model_module_version": "2.0.0",
      "model_name": "LayoutModel",
      "state": {
       "display": "inline-flex",
       "flex_flow": "row wrap",
       "width": "100%"
      }
     },
     "bbe4973940584e6d89640bfdacdbf3d3": {
      "model_module": "@jupyter-widgets/base",
      "model_module_version": "2.0.0",
      "model_name": "LayoutModel",
      "state": {}
     },
     "bc23fafd569b4fafb9bece235640f3f2": {
      "model_module": "@jupyter-widgets/controls",
      "model_module_version": "2.0.0",
      "model_name": "ProgressStyleModel",
      "state": {
       "description_width": ""
      }
     },
     "bc71b28c694744b68c09b99a1cddfef2": {
      "model_module": "@jupyter-widgets/base",
      "model_module_version": "2.0.0",
      "model_name": "LayoutModel",
      "state": {
       "flex": "2"
      }
     },
     "bc92111b48c34ac9b99e8f9b2ff491bc": {
      "model_module": "@jupyter-widgets/controls",
      "model_module_version": "2.0.0",
      "model_name": "HTMLModel",
      "state": {
       "layout": "IPY_MODEL_9d539e0838904981974ac267363e6c69",
       "style": "IPY_MODEL_7e86dc2438d24410a59030a1cfed72c0",
       "value": "Validate (1000 Steps) (DiceMetric=0.23874): 100%"
      }
     },
     "bc9f7994f3cb46d98a96cdaf24f675dd": {
      "model_module": "@jupyter-widgets/controls",
      "model_module_version": "2.0.0",
      "model_name": "HTMLModel",
      "state": {
       "layout": "IPY_MODEL_03f43b42810f451e91b6b894b4a1fcd5",
       "style": "IPY_MODEL_de88ed747fcd49f1851c9fd689c13375",
       "value": "Validate (700 Steps) (DiceMetric=0.26454): 100%"
      }
     },
     "bd8cc78b965245cc90085c1bc0f2e977": {
      "model_module": "@jupyter-widgets/base",
      "model_module_version": "2.0.0",
      "model_name": "LayoutModel",
      "state": {}
     },
     "bd9bb7265b5a45c8af28ad523da7989d": {
      "model_module": "@jupyter-widgets/controls",
      "model_module_version": "2.0.0",
      "model_name": "HTMLStyleModel",
      "state": {
       "description_width": "",
       "font_size": null,
       "text_color": null
      }
     },
     "bda01c63867d453585e346959910bbab": {
      "model_module": "@jupyter-widgets/controls",
      "model_module_version": "2.0.0",
      "model_name": "HTMLStyleModel",
      "state": {
       "description_width": "",
       "font_size": null,
       "text_color": null
      }
     },
     "bdacaa18eac648288e642fa94f95f943": {
      "model_module": "@jupyter-widgets/base",
      "model_module_version": "2.0.0",
      "model_name": "LayoutModel",
      "state": {}
     },
     "bde3e548c2584ba8af1988b846e7350b": {
      "model_module": "@jupyter-widgets/controls",
      "model_module_version": "2.0.0",
      "model_name": "FloatProgressModel",
      "state": {
       "bar_style": "success",
       "layout": "IPY_MODEL_be6f235793da4347978e97a05e01d65f",
       "max": 40,
       "style": "IPY_MODEL_ab6ee28ea6c2472db64fa8f1d0fc7f42",
       "value": 40
      }
     },
     "bde6d3f8d0f44fa8b4b6290c7bc9d984": {
      "model_module": "@jupyter-widgets/controls",
      "model_module_version": "2.0.0",
      "model_name": "HTMLStyleModel",
      "state": {
       "description_width": "",
       "font_size": null,
       "text_color": null
      }
     },
     "be123a97b35548e8b68432c81ea721e0": {
      "model_module": "@jupyter-widgets/controls",
      "model_module_version": "2.0.0",
      "model_name": "HTMLStyleModel",
      "state": {
       "description_width": "",
       "font_size": null,
       "text_color": null
      }
     },
     "be1b790bde974db097ed6f8bebf2ce95": {
      "model_module": "@jupyter-widgets/base",
      "model_module_version": "2.0.0",
      "model_name": "LayoutModel",
      "state": {
       "flex": "2"
      }
     },
     "be21f0b89a9947639441e11150424462": {
      "model_module": "@jupyter-widgets/controls",
      "model_module_version": "2.0.0",
      "model_name": "HTMLStyleModel",
      "state": {
       "description_width": "",
       "font_size": null,
       "text_color": null
      }
     },
     "be6f235793da4347978e97a05e01d65f": {
      "model_module": "@jupyter-widgets/base",
      "model_module_version": "2.0.0",
      "model_name": "LayoutModel",
      "state": {
       "flex": "2"
      }
     },
     "be966bf884154ae4a3cc5d294a85bdfd": {
      "model_module": "@jupyter-widgets/controls",
      "model_module_version": "2.0.0",
      "model_name": "HTMLStyleModel",
      "state": {
       "description_width": "",
       "font_size": null,
       "text_color": null
      }
     },
     "bf17ab2b1d9c42dbb03145149502a05f": {
      "model_module": "@jupyter-widgets/controls",
      "model_module_version": "2.0.0",
      "model_name": "FloatProgressModel",
      "state": {
       "bar_style": "success",
       "layout": "IPY_MODEL_870ba79462a3415aa65711a53b1b8f4b",
       "max": 40,
       "style": "IPY_MODEL_31efa4250aa84222ad11edcbdc5faa0e",
       "value": 40
      }
     },
     "bf53ec571958457ca5b280e38a7129e2": {
      "model_module": "@jupyter-widgets/controls",
      "model_module_version": "2.0.0",
      "model_name": "HTMLModel",
      "state": {
       "layout": "IPY_MODEL_5705d71373cc4854bc8a791d1d135b8a",
       "style": "IPY_MODEL_e4fd0e91d2804a3bb8e80392b84f70f4",
       "value": " 40/40 [02:34&lt;00:00,  1.92s/it]"
      }
     },
     "bf59c025348649a09390bc8c1149956f": {
      "model_module": "@jupyter-widgets/controls",
      "model_module_version": "2.0.0",
      "model_name": "ProgressStyleModel",
      "state": {
       "description_width": ""
      }
     },
     "bf77dd9315fd42d895d070957f4ba3d2": {
      "model_module": "@jupyter-widgets/controls",
      "model_module_version": "2.0.0",
      "model_name": "HTMLModel",
      "state": {
       "layout": "IPY_MODEL_c890e6a78db142ad987124b039ea0245",
       "style": "IPY_MODEL_0a5530dd6b5a460c823ff3b93b326cda",
       "value": " 40/40 [02:34&lt;00:00,  1.94s/it]"
      }
     },
     "bfc0bbcd300e414f987c26a32c191a8f": {
      "model_module": "@jupyter-widgets/base",
      "model_module_version": "2.0.0",
      "model_name": "LayoutModel",
      "state": {}
     },
     "c06960d228fd4ec08407134f9ecc7052": {
      "model_module": "@jupyter-widgets/controls",
      "model_module_version": "2.0.0",
      "model_name": "HBoxModel",
      "state": {
       "children": [
        "IPY_MODEL_b5e37eba676446898ff29caa93d46ced",
        "IPY_MODEL_fdfe8776917c4f7ea9e06d53da5b85d3",
        "IPY_MODEL_3b43fc81a13b4ebaa80203c0131cd238"
       ],
       "layout": "IPY_MODEL_50c3324120a1443682b1674d876792b6"
      }
     },
     "c07c7c1828ff4f0f9b017702602c7a7a": {
      "model_module": "@jupyter-widgets/controls",
      "model_module_version": "2.0.0",
      "model_name": "HTMLModel",
      "state": {
       "layout": "IPY_MODEL_927d007c0f704b7e9d981a6518e2f53f",
       "style": "IPY_MODEL_32b35c9a700f433e9542ae3525d6f34d",
       "value": " 40/40 [02:34&lt;00:00,  1.91s/it]"
      }
     },
     "c09442749de24e088ba7d3f8269449b0": {
      "model_module": "@jupyter-widgets/controls",
      "model_module_version": "2.0.0",
      "model_name": "FloatProgressModel",
      "state": {
       "bar_style": "success",
       "layout": "IPY_MODEL_0b4de840a9c64d35892cc414988fda0b",
       "max": 40,
       "style": "IPY_MODEL_a5971067941b4331bbbca18abcb7f894",
       "value": 40
      }
     },
     "c15d888a41b1488198e7a18701ddc4e6": {
      "model_module": "@jupyter-widgets/controls",
      "model_module_version": "2.0.0",
      "model_name": "HTMLModel",
      "state": {
       "layout": "IPY_MODEL_436b6698ace94bacb9085b152784f0ef",
       "style": "IPY_MODEL_0850b1b80dd548658552db9c7f143b4b",
       "value": "Validate (4100 Steps) (DiceMetric=0.44779): 100%"
      }
     },
     "c23e8ebc912b4d7fab560a62ab504656": {
      "model_module": "@jupyter-widgets/controls",
      "model_module_version": "2.0.0",
      "model_name": "FloatProgressModel",
      "state": {
       "bar_style": "success",
       "layout": "IPY_MODEL_295e4eb1307548b688e4fe36610979d3",
       "max": 40,
       "style": "IPY_MODEL_d778b28497f149dfb44d613cfc289ede",
       "value": 40
      }
     },
     "c2529873376b4b419c428a2bdeb2f0dc": {
      "model_module": "@jupyter-widgets/base",
      "model_module_version": "2.0.0",
      "model_name": "LayoutModel",
      "state": {}
     },
     "c292e706337e4f4bab0647245b3da6a9": {
      "model_module": "@jupyter-widgets/controls",
      "model_module_version": "2.0.0",
      "model_name": "HTMLModel",
      "state": {
       "layout": "IPY_MODEL_4941f822626b47a2be9864d9d86b49b2",
       "style": "IPY_MODEL_39937027550e45b686306c9029ee68ab",
       "value": "Validate (8100 Steps) (DiceMetric=0.70420): 100%"
      }
     },
     "c327d66361a4491ca1739e47373dc89c": {
      "model_module": "@jupyter-widgets/base",
      "model_module_version": "2.0.0",
      "model_name": "LayoutModel",
      "state": {}
     },
     "c37320b69e3c4a988126fe89ae256386": {
      "model_module": "@jupyter-widgets/controls",
      "model_module_version": "2.0.0",
      "model_name": "HTMLStyleModel",
      "state": {
       "description_width": "",
       "font_size": null,
       "text_color": null
      }
     },
     "c38dee7e598e4c4ca91477585aa65eba": {
      "model_module": "@jupyter-widgets/controls",
      "model_module_version": "2.0.0",
      "model_name": "FloatProgressModel",
      "state": {
       "bar_style": "success",
       "layout": "IPY_MODEL_4052e148f0fa4a50b52828aaaa69c738",
       "max": 40,
       "style": "IPY_MODEL_e0c7bae5e251460cbe8aba579b0cd0dc",
       "value": 40
      }
     },
     "c3d82a419c9e4e87831793c6b714b536": {
      "model_module": "@jupyter-widgets/base",
      "model_module_version": "2.0.0",
      "model_name": "LayoutModel",
      "state": {
       "display": "inline-flex",
       "flex_flow": "row wrap",
       "width": "100%"
      }
     },
     "c3ea396efc79431fbbe469798c514b1c": {
      "model_module": "@jupyter-widgets/controls",
      "model_module_version": "2.0.0",
      "model_name": "HTMLStyleModel",
      "state": {
       "description_width": "",
       "font_size": null,
       "text_color": null
      }
     },
     "c43096b5d0494ca1baa5ef8b775c8e8f": {
      "model_module": "@jupyter-widgets/base",
      "model_module_version": "2.0.0",
      "model_name": "LayoutModel",
      "state": {
       "flex": "2"
      }
     },
     "c4422a77d7a94b169963bcacae5884ca": {
      "model_module": "@jupyter-widgets/base",
      "model_module_version": "2.0.0",
      "model_name": "LayoutModel",
      "state": {}
     },
     "c4cb6c69b6cd45949ac399051125f3d0": {
      "model_module": "@jupyter-widgets/controls",
      "model_module_version": "2.0.0",
      "model_name": "FloatProgressModel",
      "state": {
       "bar_style": "success",
       "layout": "IPY_MODEL_120d415b005946b48d84af9d04d2e3e9",
       "max": 40,
       "style": "IPY_MODEL_e0875cc39e4f4708adf95c15132a055e",
       "value": 40
      }
     },
     "c4d996f2c61f43718335ddf583c69945": {
      "model_module": "@jupyter-widgets/base",
      "model_module_version": "2.0.0",
      "model_name": "LayoutModel",
      "state": {}
     },
     "c569483fd41d4943ba8aa901e151f478": {
      "model_module": "@jupyter-widgets/controls",
      "model_module_version": "2.0.0",
      "model_name": "HBoxModel",
      "state": {
       "children": [
        "IPY_MODEL_eb4210993a9f4c8398d0260e81b170b0",
        "IPY_MODEL_c94d62f5a29a494680ef32e0d9c5bed6",
        "IPY_MODEL_ef41ef36886f4f348d6f46403cf0ea6e"
       ],
       "layout": "IPY_MODEL_ad97e9b1ddf747f0baa8eba66759d12f"
      }
     },
     "c57ac087a3ce48caa49d431c7804614d": {
      "model_module": "@jupyter-widgets/base",
      "model_module_version": "2.0.0",
      "model_name": "LayoutModel",
      "state": {}
     },
     "c59a11e50a7e465ab7ecb0c3a0986fd8": {
      "model_module": "@jupyter-widgets/base",
      "model_module_version": "2.0.0",
      "model_name": "LayoutModel",
      "state": {
       "flex": "2"
      }
     },
     "c5be880486ac4c4180008ae2da1afd6c": {
      "model_module": "@jupyter-widgets/base",
      "model_module_version": "2.0.0",
      "model_name": "LayoutModel",
      "state": {}
     },
     "c5f4d8800d96486784f6adc7c383e6d2": {
      "model_module": "@jupyter-widgets/controls",
      "model_module_version": "2.0.0",
      "model_name": "FloatProgressModel",
      "state": {
       "bar_style": "success",
       "layout": "IPY_MODEL_cc206c33a52e4581b28ad32a9d562fbb",
       "max": 40,
       "style": "IPY_MODEL_1bdc5202110b4c3c9933c77d8d8b8d8b",
       "value": 40
      }
     },
     "c628cf6495ce4d748f624d0b57e476c5": {
      "model_module": "@jupyter-widgets/controls",
      "model_module_version": "2.0.0",
      "model_name": "ProgressStyleModel",
      "state": {
       "description_width": ""
      }
     },
     "c652388023e64783b495ac339c209df0": {
      "model_module": "@jupyter-widgets/controls",
      "model_module_version": "2.0.0",
      "model_name": "HTMLModel",
      "state": {
       "layout": "IPY_MODEL_c9f78c3ca299422a96fa674e3cb9c97e",
       "style": "IPY_MODEL_a3b75dd0a48b4a00addaeba18943fc4c",
       "value": " 40/40 [02:36&lt;00:00,  1.95s/it]"
      }
     },
     "c6651e30efad4d448662e9bc8df9619a": {
      "model_module": "@jupyter-widgets/base",
      "model_module_version": "2.0.0",
      "model_name": "LayoutModel",
      "state": {
       "display": "inline-flex",
       "flex_flow": "row wrap",
       "width": "100%"
      }
     },
     "c6839a0307e24a43a0a8bc228aac1338": {
      "model_module": "@jupyter-widgets/controls",
      "model_module_version": "2.0.0",
      "model_name": "HTMLStyleModel",
      "state": {
       "description_width": "",
       "font_size": null,
       "text_color": null
      }
     },
     "c6992abd3950472c83d5957950e7b669": {
      "model_module": "@jupyter-widgets/controls",
      "model_module_version": "2.0.0",
      "model_name": "FloatProgressModel",
      "state": {
       "bar_style": "success",
       "layout": "IPY_MODEL_6a311a42df7c44dba7899b19e83c75d2",
       "max": 40,
       "style": "IPY_MODEL_d47b09867e14403e9f368246e2db8f87",
       "value": 40
      }
     },
     "c6c4eb8f870c49efbaf341eecb6c7e14": {
      "model_module": "@jupyter-widgets/controls",
      "model_module_version": "2.0.0",
      "model_name": "HBoxModel",
      "state": {
       "children": [
        "IPY_MODEL_ab8d1761e6d44436bbbc7b37efca9588",
        "IPY_MODEL_327a2f8c48a144ed976cb406c110a4ef",
        "IPY_MODEL_21bf8c31341a45288d038144a6946da2"
       ],
       "layout": "IPY_MODEL_f2d62c88be6e47a8aae5c1ad5b4b6208"
      }
     },
     "c6da903309c5498580c3c9d6c1271068": {
      "model_module": "@jupyter-widgets/controls",
      "model_module_version": "2.0.0",
      "model_name": "HTMLModel",
      "state": {
       "layout": "IPY_MODEL_c4422a77d7a94b169963bcacae5884ca",
       "style": "IPY_MODEL_2cb87ce7b4f8443b8ee8fb14eefba30d",
       "value": " 40/40 [02:33&lt;00:00,  1.90s/it]"
      }
     },
     "c73e26c0c7654bc2bb059e485d08f98d": {
      "model_module": "@jupyter-widgets/base",
      "model_module_version": "2.0.0",
      "model_name": "LayoutModel",
      "state": {}
     },
     "c759c08c40c74f2eb4586480cbe4263b": {
      "model_module": "@jupyter-widgets/base",
      "model_module_version": "2.0.0",
      "model_name": "LayoutModel",
      "state": {
       "flex": "2"
      }
     },
     "c7a612baa987437f948e884a5f7f6df0": {
      "model_module": "@jupyter-widgets/controls",
      "model_module_version": "2.0.0",
      "model_name": "HBoxModel",
      "state": {
       "children": [
        "IPY_MODEL_7db531a9a115424682e4d46f451a366a",
        "IPY_MODEL_5f9116c3b9cb4ae7af76ec3830a1e345",
        "IPY_MODEL_cdad6d8bf206492a847cd0b607ebb307"
       ],
       "layout": "IPY_MODEL_81ca529d70614ece93396a5369741389"
      }
     },
     "c7c7b072eec9489a8650da426c869304": {
      "model_module": "@jupyter-widgets/controls",
      "model_module_version": "2.0.0",
      "model_name": "FloatProgressModel",
      "state": {
       "bar_style": "success",
       "layout": "IPY_MODEL_1aa746c08b9441b5827ab7f4a65f8b34",
       "max": 40,
       "style": "IPY_MODEL_6579a0884725494e978d2a873c20656d",
       "value": 40
      }
     },
     "c7cff99fe5264e42a643d0c03d5058a1": {
      "model_module": "@jupyter-widgets/controls",
      "model_module_version": "2.0.0",
      "model_name": "FloatProgressModel",
      "state": {
       "bar_style": "success",
       "layout": "IPY_MODEL_0bd214e08298498ca2dbe66e168b47e7",
       "max": 40,
       "style": "IPY_MODEL_8038f5dab276446ba6b34387dac4ba86",
       "value": 40
      }
     },
     "c7e3ad50b68f4275b3cd973568a630fa": {
      "model_module": "@jupyter-widgets/controls",
      "model_module_version": "2.0.0",
      "model_name": "HTMLModel",
      "state": {
       "layout": "IPY_MODEL_70e5033647964d479d99a12c349629d7",
       "style": "IPY_MODEL_568b38088dcd47f2a4f8014e1b36a06e",
       "value": "Validate (4700 Steps) (DiceMetric=0.26166): 100%"
      }
     },
     "c7ed3e2ab8584037b64cf9770e9210b2": {
      "model_module": "@jupyter-widgets/base",
      "model_module_version": "2.0.0",
      "model_name": "LayoutModel",
      "state": {}
     },
     "c81b9ecc40ee4df8ba5f630360663211": {
      "model_module": "@jupyter-widgets/base",
      "model_module_version": "2.0.0",
      "model_name": "LayoutModel",
      "state": {}
     },
     "c88f28a721144bc7bcf31a2261e5f677": {
      "model_module": "@jupyter-widgets/base",
      "model_module_version": "2.0.0",
      "model_name": "LayoutModel",
      "state": {}
     },
     "c890e6a78db142ad987124b039ea0245": {
      "model_module": "@jupyter-widgets/base",
      "model_module_version": "2.0.0",
      "model_name": "LayoutModel",
      "state": {}
     },
     "c8bd5f0720084e1a816dda44524fffc6": {
      "model_module": "@jupyter-widgets/base",
      "model_module_version": "2.0.0",
      "model_name": "LayoutModel",
      "state": {}
     },
     "c8ec0837bdb949459a2b7c437cfd8a8d": {
      "model_module": "@jupyter-widgets/base",
      "model_module_version": "2.0.0",
      "model_name": "LayoutModel",
      "state": {}
     },
     "c94d62f5a29a494680ef32e0d9c5bed6": {
      "model_module": "@jupyter-widgets/controls",
      "model_module_version": "2.0.0",
      "model_name": "FloatProgressModel",
      "state": {
       "bar_style": "success",
       "layout": "IPY_MODEL_534d00e9cca7456baedca7c51ccfd5c8",
       "max": 40,
       "style": "IPY_MODEL_a5777b21d208476e8b7ce58f802a6d4c",
       "value": 40
      }
     },
     "c99037f505914de8ad6d3ef14240d70e": {
      "model_module": "@jupyter-widgets/controls",
      "model_module_version": "2.0.0",
      "model_name": "HTMLModel",
      "state": {
       "layout": "IPY_MODEL_04fb71b2c43142b38d9be47e45ebb695",
       "style": "IPY_MODEL_4fc79994f1324bbda8e3766cb43bc74d",
       "value": "Validate (500 Steps) (DiceMetric=0.19581): 100%"
      }
     },
     "c9dc192aaa9c439aa07738a7f9246a1e": {
      "model_module": "@jupyter-widgets/base",
      "model_module_version": "2.0.0",
      "model_name": "LayoutModel",
      "state": {
       "flex": "2"
      }
     },
     "c9f78c3ca299422a96fa674e3cb9c97e": {
      "model_module": "@jupyter-widgets/base",
      "model_module_version": "2.0.0",
      "model_name": "LayoutModel",
      "state": {}
     },
     "ca0887e3c94c4b9c8620acca9dbd36e0": {
      "model_module": "@jupyter-widgets/base",
      "model_module_version": "2.0.0",
      "model_name": "LayoutModel",
      "state": {
       "display": "inline-flex",
       "flex_flow": "row wrap",
       "width": "100%"
      }
     },
     "ca540591973e4688aca422d046c11efa": {
      "model_module": "@jupyter-widgets/controls",
      "model_module_version": "2.0.0",
      "model_name": "HTMLStyleModel",
      "state": {
       "description_width": "",
       "font_size": null,
       "text_color": null
      }
     },
     "caac330a1a634f599089dadd37924451": {
      "model_module": "@jupyter-widgets/base",
      "model_module_version": "2.0.0",
      "model_name": "LayoutModel",
      "state": {
       "flex": "2"
      }
     },
     "cab279c072e74aecb5ea66b1a881be1a": {
      "model_module": "@jupyter-widgets/base",
      "model_module_version": "2.0.0",
      "model_name": "LayoutModel",
      "state": {}
     },
     "cabc5bdbbfd8423a93233bad00056d2d": {
      "model_module": "@jupyter-widgets/base",
      "model_module_version": "2.0.0",
      "model_name": "LayoutModel",
      "state": {
       "display": "inline-flex",
       "flex_flow": "row wrap",
       "width": "100%"
      }
     },
     "cacd581fcb584594a5a2f7a107c1b021": {
      "model_module": "@jupyter-widgets/base",
      "model_module_version": "2.0.0",
      "model_name": "LayoutModel",
      "state": {}
     },
     "cb65073d175e4370909f3f084a9ecd50": {
      "model_module": "@jupyter-widgets/controls",
      "model_module_version": "2.0.0",
      "model_name": "HTMLStyleModel",
      "state": {
       "description_width": "",
       "font_size": null,
       "text_color": null
      }
     },
     "cb6ab2a5149b4561b2a4791440cc55df": {
      "model_module": "@jupyter-widgets/base",
      "model_module_version": "2.0.0",
      "model_name": "LayoutModel",
      "state": {}
     },
     "cb75a85c0e6649778dc1571140bea202": {
      "model_module": "@jupyter-widgets/controls",
      "model_module_version": "2.0.0",
      "model_name": "HTMLModel",
      "state": {
       "layout": "IPY_MODEL_f40abdb23e5542c481f7a4c1c680a59a",
       "style": "IPY_MODEL_4b57422044a549b585eb1eb4807acc6d",
       "value": "Validate (2700 Steps) (DiceMetric=0.38620): 100%"
      }
     },
     "cbd0c8706c3f4255931a29f25fe63552": {
      "model_module": "@jupyter-widgets/controls",
      "model_module_version": "2.0.0",
      "model_name": "HTMLModel",
      "state": {
       "layout": "IPY_MODEL_46904cb5805a4d3cb0d312f7cb674a0d",
       "style": "IPY_MODEL_cca50c6a1a2443cfb332402faa9242ea",
       "value": " 40/40 [02:36&lt;00:00,  1.94s/it]"
      }
     },
     "cc206c33a52e4581b28ad32a9d562fbb": {
      "model_module": "@jupyter-widgets/base",
      "model_module_version": "2.0.0",
      "model_name": "LayoutModel",
      "state": {
       "flex": "2"
      }
     },
     "cc8dfd9bd50641b5b2c27e6475b45a53": {
      "model_module": "@jupyter-widgets/controls",
      "model_module_version": "2.0.0",
      "model_name": "HTMLModel",
      "state": {
       "layout": "IPY_MODEL_c2529873376b4b419c428a2bdeb2f0dc",
       "style": "IPY_MODEL_4534694762ef47998a6d524231ff129b",
       "value": " 40/40 [02:33&lt;00:00,  1.91s/it]"
      }
     },
     "cca50c6a1a2443cfb332402faa9242ea": {
      "model_module": "@jupyter-widgets/controls",
      "model_module_version": "2.0.0",
      "model_name": "HTMLStyleModel",
      "state": {
       "description_width": "",
       "font_size": null,
       "text_color": null
      }
     },
     "cd05be25bc0e49149faff0b8d3581c50": {
      "model_module": "@jupyter-widgets/base",
      "model_module_version": "2.0.0",
      "model_name": "LayoutModel",
      "state": {}
     },
     "cd4c41f3bd1940d499e13f219f1aeaa6": {
      "model_module": "@jupyter-widgets/controls",
      "model_module_version": "2.0.0",
      "model_name": "HBoxModel",
      "state": {
       "children": [
        "IPY_MODEL_5f1628ab304e48938d4526e730e86419",
        "IPY_MODEL_c7cff99fe5264e42a643d0c03d5058a1",
        "IPY_MODEL_ce494bb329bb48d0a5bc1f9671688eca"
       ],
       "layout": "IPY_MODEL_1b10779069ac44c084eabed68805aa60"
      }
     },
     "cd952de6e5e74bbcb33b6bacf96de2cd": {
      "model_module": "@jupyter-widgets/base",
      "model_module_version": "2.0.0",
      "model_name": "LayoutModel",
      "state": {}
     },
     "cda0f4c81c8946609ce0744ec6a641bd": {
      "model_module": "@jupyter-widgets/controls",
      "model_module_version": "2.0.0",
      "model_name": "HTMLStyleModel",
      "state": {
       "description_width": "",
       "font_size": null,
       "text_color": null
      }
     },
     "cdad6d8bf206492a847cd0b607ebb307": {
      "model_module": "@jupyter-widgets/controls",
      "model_module_version": "2.0.0",
      "model_name": "HTMLModel",
      "state": {
       "layout": "IPY_MODEL_3f803391214748b2bff7f5128cb689ce",
       "style": "IPY_MODEL_8e2300b35c3a40ee9f8d9deb6a337513",
       "value": " 40/40 [02:32&lt;00:00,  1.94s/it]"
      }
     },
     "cdbeb1649be94baa887547df1ce338ed": {
      "model_module": "@jupyter-widgets/base",
      "model_module_version": "2.0.0",
      "model_name": "LayoutModel",
      "state": {
       "flex": "2"
      }
     },
     "cdcbb4222fcd4a3d980a18cd0c298466": {
      "model_module": "@jupyter-widgets/controls",
      "model_module_version": "2.0.0",
      "model_name": "HTMLModel",
      "state": {
       "layout": "IPY_MODEL_98704e24e52c46758e5771e2a5d03343",
       "style": "IPY_MODEL_6ae2ffbe05424912b98601d70671637d",
       "value": " 40/40 [02:38&lt;00:00,  2.01s/it]"
      }
     },
     "cdcc73fbb4a1435c8dae97a0afa88886": {
      "model_module": "@jupyter-widgets/base",
      "model_module_version": "2.0.0",
      "model_name": "LayoutModel",
      "state": {
       "flex": "2"
      }
     },
     "cdd5d2829c59450fa87b5aa625e91229": {
      "model_module": "@jupyter-widgets/base",
      "model_module_version": "2.0.0",
      "model_name": "LayoutModel",
      "state": {
       "flex": "2"
      }
     },
     "cde4042f8f0e475d9ee3d513052867ae": {
      "model_module": "@jupyter-widgets/controls",
      "model_module_version": "2.0.0",
      "model_name": "HTMLModel",
      "state": {
       "layout": "IPY_MODEL_11d59b4190da407497a1a24ea6de1e93",
       "style": "IPY_MODEL_eb17c10d41c94b96be1c051c23608bfb",
       "value": " 40/40 [02:33&lt;00:00,  1.91s/it]"
      }
     },
     "ce18712a72d84f06a4488d8edad01b06": {
      "model_module": "@jupyter-widgets/controls",
      "model_module_version": "2.0.0",
      "model_name": "HTMLModel",
      "state": {
       "layout": "IPY_MODEL_b523ad6204734a49b99205bff97ede60",
       "style": "IPY_MODEL_8a2983a531cb4ce8a6dc2c51eba91d19",
       "value": "Validate (4800 Steps) (DiceMetric=0.46996): 100%"
      }
     },
     "ce494bb329bb48d0a5bc1f9671688eca": {
      "model_module": "@jupyter-widgets/controls",
      "model_module_version": "2.0.0",
      "model_name": "HTMLModel",
      "state": {
       "layout": "IPY_MODEL_f0979f91bcf5454d9cf13439c92db43c",
       "style": "IPY_MODEL_7477d2eff84a4ac1bb636741db8eeb9b",
       "value": " 40/40 [02:34&lt;00:00,  1.93s/it]"
      }
     },
     "ce7b2d255a5d40e990c76f80574e93e1": {
      "model_module": "@jupyter-widgets/controls",
      "model_module_version": "2.0.0",
      "model_name": "HBoxModel",
      "state": {
       "children": [
        "IPY_MODEL_6a945c98d9ee45119300666b622cd3a2",
        "IPY_MODEL_acd5569eddc94525a7b000091f23ac1f",
        "IPY_MODEL_23539ded2f3046d2b83bbfb542579e16"
       ],
       "layout": "IPY_MODEL_89d42f7045b541e68fd538cf4bfd8181"
      }
     },
     "ced64235ca604bd99ddac2b4002e931b": {
      "model_module": "@jupyter-widgets/controls",
      "model_module_version": "2.0.0",
      "model_name": "HTMLModel",
      "state": {
       "layout": "IPY_MODEL_132f99a8d70146ba90e49d9bc99c562b",
       "style": "IPY_MODEL_c3ea396efc79431fbbe469798c514b1c",
       "value": "Validate (4200 Steps) (DiceMetric=0.49733): 100%"
      }
     },
     "cee16ee9c9cf40098ef5c87c583aea34": {
      "model_module": "@jupyter-widgets/base",
      "model_module_version": "2.0.0",
      "model_name": "LayoutModel",
      "state": {}
     },
     "cf76dbfe0e714b32afdbd9fc6f10a841": {
      "model_module": "@jupyter-widgets/controls",
      "model_module_version": "2.0.0",
      "model_name": "HTMLModel",
      "state": {
       "layout": "IPY_MODEL_4f6bf72412434f5f9319d4d14c6318da",
       "style": "IPY_MODEL_ec5995a2c2074fb19988d752e7d3b84f",
       "value": " 40/40 [02:35&lt;00:00,  1.95s/it]"
      }
     },
     "cf9518ce871845bfb1202e829e3a25d0": {
      "model_module": "@jupyter-widgets/controls",
      "model_module_version": "2.0.0",
      "model_name": "FloatProgressModel",
      "state": {
       "bar_style": "success",
       "layout": "IPY_MODEL_b5a015914b03420aa5f6b49c2658e7cc",
       "max": 40,
       "style": "IPY_MODEL_5487b31cca1443abb4b87938da7693d0",
       "value": 40
      }
     },
     "cfcd289c4e23403aa8cb9554c59a7be1": {
      "model_module": "@jupyter-widgets/controls",
      "model_module_version": "2.0.0",
      "model_name": "HBoxModel",
      "state": {
       "children": [
        "IPY_MODEL_5a43b8accbf649d181425af6dbebf01a",
        "IPY_MODEL_220de25b82d942ab827bc5f9b6a03918",
        "IPY_MODEL_4f983ed9a1904181bec766953308638f"
       ],
       "layout": "IPY_MODEL_b44095fb36c44d329a5c447e341ecfe6"
      }
     },
     "cfe9381f75b14e529c9c535b8d984e33": {
      "model_module": "@jupyter-widgets/controls",
      "model_module_version": "2.0.0",
      "model_name": "HBoxModel",
      "state": {
       "children": [
        "IPY_MODEL_c15d888a41b1488198e7a18701ddc4e6",
        "IPY_MODEL_9a3689c389c94540a850e219278a944a",
        "IPY_MODEL_8a695810325746218607614959cfd431"
       ],
       "layout": "IPY_MODEL_eef2d7d47e5a4202a9a5db71c7fbfbd1"
      }
     },
     "cff68bd281104d9d8ceafc76ad974ecf": {
      "model_module": "@jupyter-widgets/base",
      "model_module_version": "2.0.0",
      "model_name": "LayoutModel",
      "state": {}
     },
     "d046909276d7461f9cf1d58cc9ed3755": {
      "model_module": "@jupyter-widgets/controls",
      "model_module_version": "2.0.0",
      "model_name": "ProgressStyleModel",
      "state": {
       "description_width": ""
      }
     },
     "d0676c870a71442b8dc373fed3661118": {
      "model_module": "@jupyter-widgets/controls",
      "model_module_version": "2.0.0",
      "model_name": "HBoxModel",
      "state": {
       "children": [
        "IPY_MODEL_4c9ce3ed7be044aaa5a3b8b5f80ca4ee",
        "IPY_MODEL_c4cb6c69b6cd45949ac399051125f3d0",
        "IPY_MODEL_bf53ec571958457ca5b280e38a7129e2"
       ],
       "layout": "IPY_MODEL_97dd6b10b42b49b7b98372a76419a6e7"
      }
     },
     "d0f73516390549629212c38906e5940a": {
      "model_module": "@jupyter-widgets/base",
      "model_module_version": "2.0.0",
      "model_name": "LayoutModel",
      "state": {
       "flex": "2"
      }
     },
     "d1852ce057e943b094af4cee473800b5": {
      "model_module": "@jupyter-widgets/controls",
      "model_module_version": "2.0.0",
      "model_name": "HBoxModel",
      "state": {
       "children": [
        "IPY_MODEL_854cef6358574b178839b96e4eb7eb0d",
        "IPY_MODEL_893bb9e4a127455ea6b1e5626eb84981",
        "IPY_MODEL_4217bbc9e2114e268fa1974c91dc0997"
       ],
       "layout": "IPY_MODEL_76842d96b9ff4809b3b1c51a5f98c88a"
      }
     },
     "d1e82ed028c64f88a27299455e7184d8": {
      "model_module": "@jupyter-widgets/controls",
      "model_module_version": "2.0.0",
      "model_name": "FloatProgressModel",
      "state": {
       "bar_style": "success",
       "layout": "IPY_MODEL_0e48e32f6d2748289b083cdac9a9ecf1",
       "max": 40,
       "style": "IPY_MODEL_9b9a08810698489496a6b4466d01a960",
       "value": 40
      }
     },
     "d213d0340ddd423e9d9cea49195da9e9": {
      "model_module": "@jupyter-widgets/controls",
      "model_module_version": "2.0.0",
      "model_name": "FloatProgressModel",
      "state": {
       "bar_style": "success",
       "layout": "IPY_MODEL_c759c08c40c74f2eb4586480cbe4263b",
       "max": 40,
       "style": "IPY_MODEL_371cd4889e974982a2e16688635914d3",
       "value": 40
      }
     },
     "d26a9ef0aa144d0489de996e5ae9612a": {
      "model_module": "@jupyter-widgets/base",
      "model_module_version": "2.0.0",
      "model_name": "LayoutModel",
      "state": {}
     },
     "d292af0c33674ed09af77f189b2a5c55": {
      "model_module": "@jupyter-widgets/controls",
      "model_module_version": "2.0.0",
      "model_name": "FloatProgressModel",
      "state": {
       "bar_style": "success",
       "layout": "IPY_MODEL_faea797bce554068bc89b52d533b700a",
       "max": 40,
       "style": "IPY_MODEL_83bdf9a03dbc4e9f8a97b636aceac923",
       "value": 40
      }
     },
     "d2db0df00e0a4a159640ae0fa6b07a63": {
      "model_module": "@jupyter-widgets/controls",
      "model_module_version": "2.0.0",
      "model_name": "HTMLModel",
      "state": {
       "layout": "IPY_MODEL_02feab9e1fbd46019476f4016b77d024",
       "style": "IPY_MODEL_371f4068fb824988850f4dc78c3a028c",
       "value": " 40/40 [02:33&lt;00:00,  1.93s/it]"
      }
     },
     "d34d969c86e940f3a400f1352c997488": {
      "model_module": "@jupyter-widgets/controls",
      "model_module_version": "2.0.0",
      "model_name": "FloatProgressModel",
      "state": {
       "bar_style": "success",
       "layout": "IPY_MODEL_280b32bad40e417c91e92fbd498dd3ee",
       "max": 40,
       "style": "IPY_MODEL_a0e018b7a8a348a9a1c747b99e177e1c",
       "value": 40
      }
     },
     "d35826949e4c4e71b6f243c62d8555be": {
      "model_module": "@jupyter-widgets/controls",
      "model_module_version": "2.0.0",
      "model_name": "HTMLModel",
      "state": {
       "layout": "IPY_MODEL_5bcae76723fa4cca9e462dc457b5fcc9",
       "style": "IPY_MODEL_659fe292529847af871d7935c4134bee",
       "value": " 40/40 [02:34&lt;00:00,  1.93s/it]"
      }
     },
     "d37f4821a8034688b42c27e87f3b067b": {
      "model_module": "@jupyter-widgets/controls",
      "model_module_version": "2.0.0",
      "model_name": "HTMLModel",
      "state": {
       "layout": "IPY_MODEL_903bffb7f018423d8135a21319321668",
       "style": "IPY_MODEL_be21f0b89a9947639441e11150424462",
       "value": " 40/40 [02:36&lt;00:00,  1.92s/it]"
      }
     },
     "d3bb47c40535458e83c33ef83ec8b0b5": {
      "model_module": "@jupyter-widgets/base",
      "model_module_version": "2.0.0",
      "model_name": "LayoutModel",
      "state": {}
     },
     "d4708ac14b804b76a11f0cccc0aa675e": {
      "model_module": "@jupyter-widgets/controls",
      "model_module_version": "2.0.0",
      "model_name": "HBoxModel",
      "state": {
       "children": [
        "IPY_MODEL_8a7335c9a691478e9ac0e51970462cc9",
        "IPY_MODEL_2ff20f8ad8c84cdc94ebd850e8f8cccd",
        "IPY_MODEL_4a39642e958145ee8c73dfe190847650"
       ],
       "layout": "IPY_MODEL_a2e91b1c703941d2b678fe759f4c7e35"
      }
     },
     "d47b09867e14403e9f368246e2db8f87": {
      "model_module": "@jupyter-widgets/controls",
      "model_module_version": "2.0.0",
      "model_name": "ProgressStyleModel",
      "state": {
       "description_width": ""
      }
     },
     "d4e3b7c95af645e5add10c828be9a006": {
      "model_module": "@jupyter-widgets/controls",
      "model_module_version": "2.0.0",
      "model_name": "HBoxModel",
      "state": {
       "children": [
        "IPY_MODEL_f6b8679c8fbb4f5fbc503a14a7adecab",
        "IPY_MODEL_21ea7182ae9b4931b2181a03c3da70a6",
        "IPY_MODEL_cdcbb4222fcd4a3d980a18cd0c298466"
       ],
       "layout": "IPY_MODEL_ca0887e3c94c4b9c8620acca9dbd36e0"
      }
     },
     "d539e5a7742c4bfa88ce7bce7c168840": {
      "model_module": "@jupyter-widgets/base",
      "model_module_version": "2.0.0",
      "model_name": "LayoutModel",
      "state": {
       "flex": "2"
      }
     },
     "d53b7fd4539149a0a7d49bf089bd9a50": {
      "model_module": "@jupyter-widgets/controls",
      "model_module_version": "2.0.0",
      "model_name": "HTMLModel",
      "state": {
       "layout": "IPY_MODEL_10d4c6de757c459e99bb268a45523802",
       "style": "IPY_MODEL_28c3993b4d6d42728ab8c2b3cbe1840a",
       "value": " 40/40 [02:33&lt;00:00,  1.92s/it]"
      }
     },
     "d5636c8cf720424d86d5c31143b5229a": {
      "model_module": "@jupyter-widgets/base",
      "model_module_version": "2.0.0",
      "model_name": "LayoutModel",
      "state": {
       "flex": "2"
      }
     },
     "d564d0ab05744063bda5486ea981f962": {
      "model_module": "@jupyter-widgets/base",
      "model_module_version": "2.0.0",
      "model_name": "LayoutModel",
      "state": {
       "display": "inline-flex",
       "flex_flow": "row wrap",
       "width": "100%"
      }
     },
     "d5789b757f394055ad8968f11b61a8fc": {
      "model_module": "@jupyter-widgets/controls",
      "model_module_version": "2.0.0",
      "model_name": "HTMLModel",
      "state": {
       "layout": "IPY_MODEL_f2e62c36980940a0a154ec38f4167dce",
       "style": "IPY_MODEL_2237e5a0a1dd4333ab7665bfa27602dc",
       "value": "Validate (9400 Steps) (DiceMetric=0.77785): 100%"
      }
     },
     "d5b30a3eb9354ed99cb1d69d92133941": {
      "model_module": "@jupyter-widgets/base",
      "model_module_version": "2.0.0",
      "model_name": "LayoutModel",
      "state": {}
     },
     "d5e6f6bc69b94dee92361018c6eae85f": {
      "model_module": "@jupyter-widgets/base",
      "model_module_version": "2.0.0",
      "model_name": "LayoutModel",
      "state": {
       "display": "inline-flex",
       "flex_flow": "row wrap",
       "width": "100%"
      }
     },
     "d5f53e79804142d284b95575e9936159": {
      "model_module": "@jupyter-widgets/controls",
      "model_module_version": "2.0.0",
      "model_name": "HTMLStyleModel",
      "state": {
       "description_width": "",
       "font_size": null,
       "text_color": null
      }
     },
     "d603f1ec4669409c868cec9b584a7342": {
      "model_module": "@jupyter-widgets/base",
      "model_module_version": "2.0.0",
      "model_name": "LayoutModel",
      "state": {
       "display": "inline-flex",
       "flex_flow": "row wrap",
       "width": "100%"
      }
     },
     "d6390c579e9d4686b1a1eb48e8841016": {
      "model_module": "@jupyter-widgets/base",
      "model_module_version": "2.0.0",
      "model_name": "LayoutModel",
      "state": {
       "flex": "2"
      }
     },
     "d650a77df02846c19d69674f301278fb": {
      "model_module": "@jupyter-widgets/base",
      "model_module_version": "2.0.0",
      "model_name": "LayoutModel",
      "state": {
       "flex": "2"
      }
     },
     "d65384e65c6c498b8fd7da95302372d9": {
      "model_module": "@jupyter-widgets/base",
      "model_module_version": "2.0.0",
      "model_name": "LayoutModel",
      "state": {
       "flex": "2"
      }
     },
     "d6ad4f4c15324c1b965f58ac89316ada": {
      "model_module": "@jupyter-widgets/controls",
      "model_module_version": "2.0.0",
      "model_name": "ProgressStyleModel",
      "state": {
       "description_width": ""
      }
     },
     "d72de550e0a94c198a2ff5601dc139a5": {
      "model_module": "@jupyter-widgets/base",
      "model_module_version": "2.0.0",
      "model_name": "LayoutModel",
      "state": {}
     },
     "d778b28497f149dfb44d613cfc289ede": {
      "model_module": "@jupyter-widgets/controls",
      "model_module_version": "2.0.0",
      "model_name": "ProgressStyleModel",
      "state": {
       "description_width": ""
      }
     },
     "d7ab6a647f7e4d64ad099847e9d819be": {
      "model_module": "@jupyter-widgets/controls",
      "model_module_version": "2.0.0",
      "model_name": "HTMLStyleModel",
      "state": {
       "description_width": "",
       "font_size": null,
       "text_color": null
      }
     },
     "d83ba568f86c4e51abc4938fccf9b166": {
      "model_module": "@jupyter-widgets/controls",
      "model_module_version": "2.0.0",
      "model_name": "HTMLStyleModel",
      "state": {
       "description_width": "",
       "font_size": null,
       "text_color": null
      }
     },
     "d88263a310cd4cf19721651618507da3": {
      "model_module": "@jupyter-widgets/controls",
      "model_module_version": "2.0.0",
      "model_name": "HTMLStyleModel",
      "state": {
       "description_width": "",
       "font_size": null,
       "text_color": null
      }
     },
     "d891eb7074b54b0cb08aa41a4f8b2759": {
      "model_module": "@jupyter-widgets/base",
      "model_module_version": "2.0.0",
      "model_name": "LayoutModel",
      "state": {}
     },
     "d8c66250858841c68a3cd14d29c55361": {
      "model_module": "@jupyter-widgets/controls",
      "model_module_version": "2.0.0",
      "model_name": "HBoxModel",
      "state": {
       "children": [
        "IPY_MODEL_793cbb9f1ae3459b97631a4561164d36",
        "IPY_MODEL_81d3567814f3488896d6c0c11c1ec7b1",
        "IPY_MODEL_2544e979339a4c7ea3038cd0e8c4c15a"
       ],
       "layout": "IPY_MODEL_f96618d6d7654747857ac467b4a0ba0e"
      }
     },
     "d9476196313f41df82d3ad7c4f2ae4d9": {
      "model_module": "@jupyter-widgets/base",
      "model_module_version": "2.0.0",
      "model_name": "LayoutModel",
      "state": {
       "flex": "2"
      }
     },
     "d99b94536c30435d8b911b5fd695d4a8": {
      "model_module": "@jupyter-widgets/base",
      "model_module_version": "2.0.0",
      "model_name": "LayoutModel",
      "state": {}
     },
     "d9a51548e31f4796ad9d84d5d3d2d7f7": {
      "model_module": "@jupyter-widgets/base",
      "model_module_version": "2.0.0",
      "model_name": "LayoutModel",
      "state": {
       "flex": "2"
      }
     },
     "da031ab0066a41eda4e740e990da9609": {
      "model_module": "@jupyter-widgets/controls",
      "model_module_version": "2.0.0",
      "model_name": "HTMLStyleModel",
      "state": {
       "description_width": "",
       "font_size": null,
       "text_color": null
      }
     },
     "da13402cf13840dab51aee317d83c39b": {
      "model_module": "@jupyter-widgets/controls",
      "model_module_version": "2.0.0",
      "model_name": "HTMLModel",
      "state": {
       "layout": "IPY_MODEL_1dbb47e7317740eaace0c6db0eebb931",
       "style": "IPY_MODEL_8ca43dbc2e1541e683a86a844c82cc29",
       "value": " 40/40 [02:35&lt;00:00,  1.99s/it]"
      }
     },
     "da16e45fb5b94a53ab4b5886b47ea0f9": {
      "model_module": "@jupyter-widgets/controls",
      "model_module_version": "2.0.0",
      "model_name": "HTMLModel",
      "state": {
       "layout": "IPY_MODEL_5bda69bb67dd4d3ca9b79a83f6f861aa",
       "style": "IPY_MODEL_21ec70c3939843a1a603094a441cf389",
       "value": " 40/40 [02:33&lt;00:00,  1.90s/it]"
      }
     },
     "da2fbcda0deb411792bca8f4fdb614a2": {
      "model_module": "@jupyter-widgets/base",
      "model_module_version": "2.0.0",
      "model_name": "LayoutModel",
      "state": {
       "flex": "2"
      }
     },
     "da54fe0aea59405882aac25afdc8be0e": {
      "model_module": "@jupyter-widgets/controls",
      "model_module_version": "2.0.0",
      "model_name": "HTMLModel",
      "state": {
       "layout": "IPY_MODEL_a48062d01228424891bfae5e25e88d84",
       "style": "IPY_MODEL_582828feb8b547c1b763ce792f4501b0",
       "value": " 40/40 [02:34&lt;00:00,  1.95s/it]"
      }
     },
     "da7eff5cac2d48a0a1a6786e570cfdf4": {
      "model_module": "@jupyter-widgets/controls",
      "model_module_version": "2.0.0",
      "model_name": "FloatProgressModel",
      "state": {
       "bar_style": "success",
       "layout": "IPY_MODEL_a82878703fc249f0b76a02596dcb5240",
       "max": 40,
       "style": "IPY_MODEL_13008227a0e24bfc9b56ea10382cf54d",
       "value": 40
      }
     },
     "da878fd0bc9f4a54bc7b369577df1ed6": {
      "model_module": "@jupyter-widgets/controls",
      "model_module_version": "2.0.0",
      "model_name": "HTMLModel",
      "state": {
       "layout": "IPY_MODEL_aaa6970828514c4f93939a63433454e6",
       "style": "IPY_MODEL_f3969bc17a8a427297ef1dbaaefcfece",
       "value": "Validate (9300 Steps) (DiceMetric=0.66387): 100%"
      }
     },
     "da917fe183844d1292c8f6536dde102f": {
      "model_module": "@jupyter-widgets/base",
      "model_module_version": "2.0.0",
      "model_name": "LayoutModel",
      "state": {}
     },
     "dac97dc040a3427f9198c7baf7f7431c": {
      "model_module": "@jupyter-widgets/base",
      "model_module_version": "2.0.0",
      "model_name": "LayoutModel",
      "state": {
       "display": "inline-flex",
       "flex_flow": "row wrap",
       "width": "100%"
      }
     },
     "dacbf4ce62bf469a8de5d610f50917ac": {
      "model_module": "@jupyter-widgets/controls",
      "model_module_version": "2.0.0",
      "model_name": "HTMLStyleModel",
      "state": {
       "description_width": "",
       "font_size": null,
       "text_color": null
      }
     },
     "dae76e0d206f42409081e40f67c25eeb": {
      "model_module": "@jupyter-widgets/controls",
      "model_module_version": "2.0.0",
      "model_name": "HBoxModel",
      "state": {
       "children": [
        "IPY_MODEL_cb75a85c0e6649778dc1571140bea202",
        "IPY_MODEL_9f9b4c0cc46449b98b42ceb46fa43652",
        "IPY_MODEL_a4e8cf81667b44688996f2fa7ef16893"
       ],
       "layout": "IPY_MODEL_49efef14c0b54d33a14a252620aaaba3"
      }
     },
     "dae97693a05b463fadec0f4bb796bb04": {
      "model_module": "@jupyter-widgets/controls",
      "model_module_version": "2.0.0",
      "model_name": "ProgressStyleModel",
      "state": {
       "description_width": ""
      }
     },
     "dafc260da83043f692d12ae610bc3078": {
      "model_module": "@jupyter-widgets/base",
      "model_module_version": "2.0.0",
      "model_name": "LayoutModel",
      "state": {
       "flex": "2"
      }
     },
     "dafcb40284f4485dab7b48695d47bfb8": {
      "model_module": "@jupyter-widgets/base",
      "model_module_version": "2.0.0",
      "model_name": "LayoutModel",
      "state": {
       "flex": "2"
      }
     },
     "dafe33071ae84735b8543439a6ba80ba": {
      "model_module": "@jupyter-widgets/base",
      "model_module_version": "2.0.0",
      "model_name": "LayoutModel",
      "state": {
       "display": "inline-flex",
       "flex_flow": "row wrap",
       "width": "100%"
      }
     },
     "db47a720f6414f669635ce8be5658369": {
      "model_module": "@jupyter-widgets/controls",
      "model_module_version": "2.0.0",
      "model_name": "HTMLStyleModel",
      "state": {
       "description_width": "",
       "font_size": null,
       "text_color": null
      }
     },
     "db5a4938263744539be4cdaccc85ea69": {
      "model_module": "@jupyter-widgets/controls",
      "model_module_version": "2.0.0",
      "model_name": "HTMLModel",
      "state": {
       "layout": "IPY_MODEL_a3f8d149289e488c9d71a032c82d9bc1",
       "style": "IPY_MODEL_9c7cb4f33f204260a2c2837d95a32f8c",
       "value": " 40/40 [02:36&lt;00:00,  1.96s/it]"
      }
     },
     "db9f3bacff2b4aaca6714c5837fd3da7": {
      "model_module": "@jupyter-widgets/base",
      "model_module_version": "2.0.0",
      "model_name": "LayoutModel",
      "state": {
       "display": "inline-flex",
       "flex_flow": "row wrap",
       "width": "100%"
      }
     },
     "dc3aebee96ae4f50aa72d532f0c451c1": {
      "model_module": "@jupyter-widgets/controls",
      "model_module_version": "2.0.0",
      "model_name": "HTMLModel",
      "state": {
       "layout": "IPY_MODEL_5bf57280f36f40279049c955abec4b5a",
       "style": "IPY_MODEL_a524cfd8ca7b4c1697a3a23d900cf3b6",
       "value": "Validate (5500 Steps) (DiceMetric=0.40039): 100%"
      }
     },
     "dc552f58a76c4722a16cb1791e6e6c3b": {
      "model_module": "@jupyter-widgets/controls",
      "model_module_version": "2.0.0",
      "model_name": "ProgressStyleModel",
      "state": {
       "description_width": ""
      }
     },
     "dc8da46b778943d3b29959df473b6a05": {
      "model_module": "@jupyter-widgets/controls",
      "model_module_version": "2.0.0",
      "model_name": "HTMLStyleModel",
      "state": {
       "description_width": "",
       "font_size": null,
       "text_color": null
      }
     },
     "dcf28ea43009448cac73ee2b0c3e20ab": {
      "model_module": "@jupyter-widgets/controls",
      "model_module_version": "2.0.0",
      "model_name": "HTMLModel",
      "state": {
       "layout": "IPY_MODEL_ecdfe8d76d844a6884232ba2648bbe3e",
       "style": "IPY_MODEL_dacbf4ce62bf469a8de5d610f50917ac",
       "value": " 40/40 [02:37&lt;00:00,  1.96s/it]"
      }
     },
     "dd1a82b045dd456484ef1bd9ab4429f0": {
      "model_module": "@jupyter-widgets/base",
      "model_module_version": "2.0.0",
      "model_name": "LayoutModel",
      "state": {}
     },
     "dd8d1645c0904ea79b469cdf846da447": {
      "model_module": "@jupyter-widgets/controls",
      "model_module_version": "2.0.0",
      "model_name": "HTMLModel",
      "state": {
       "layout": "IPY_MODEL_bbe4973940584e6d89640bfdacdbf3d3",
       "style": "IPY_MODEL_41d32e2b4cf94a6e87af0ce644482802",
       "value": " 40/40 [02:36&lt;00:00,  1.93s/it]"
      }
     },
     "dda2076d4fa14b7b930dc0494260668a": {
      "model_module": "@jupyter-widgets/base",
      "model_module_version": "2.0.0",
      "model_name": "LayoutModel",
      "state": {
       "display": "inline-flex",
       "flex_flow": "row wrap",
       "width": "100%"
      }
     },
     "dddb040396a54c90bbfed68e31943528": {
      "model_module": "@jupyter-widgets/controls",
      "model_module_version": "2.0.0",
      "model_name": "ProgressStyleModel",
      "state": {
       "description_width": ""
      }
     },
     "de47333d599946209ebd28bf4960091a": {
      "model_module": "@jupyter-widgets/controls",
      "model_module_version": "2.0.0",
      "model_name": "HTMLStyleModel",
      "state": {
       "description_width": "",
       "font_size": null,
       "text_color": null
      }
     },
     "de8269e1c33b4c6caa484626014d2671": {
      "model_module": "@jupyter-widgets/controls",
      "model_module_version": "2.0.0",
      "model_name": "HTMLStyleModel",
      "state": {
       "description_width": "",
       "font_size": null,
       "text_color": null
      }
     },
     "de88ed747fcd49f1851c9fd689c13375": {
      "model_module": "@jupyter-widgets/controls",
      "model_module_version": "2.0.0",
      "model_name": "HTMLStyleModel",
      "state": {
       "description_width": "",
       "font_size": null,
       "text_color": null
      }
     },
     "dea11dd120014dc7be59479c159729f0": {
      "model_module": "@jupyter-widgets/controls",
      "model_module_version": "2.0.0",
      "model_name": "HBoxModel",
      "state": {
       "children": [
        "IPY_MODEL_8b2b0e2dc2fc4643a7a0dba0dd040e90",
        "IPY_MODEL_4b96a526340c4206a7f66646bc37b055",
        "IPY_MODEL_a0831c0148c94cc691d1d17532b77a2f"
       ],
       "layout": "IPY_MODEL_2f8bde0c85e94ab8a5ec388c66d0915e"
      }
     },
     "def7ec5a53774c6192f9ca0711a7989b": {
      "model_module": "@jupyter-widgets/base",
      "model_module_version": "2.0.0",
      "model_name": "LayoutModel",
      "state": {}
     },
     "df016fc14ca549b4852516af83c2a2e8": {
      "model_module": "@jupyter-widgets/controls",
      "model_module_version": "2.0.0",
      "model_name": "ProgressStyleModel",
      "state": {
       "description_width": ""
      }
     },
     "df60b3b3aebb490e9ee312c44be4f155": {
      "model_module": "@jupyter-widgets/controls",
      "model_module_version": "2.0.0",
      "model_name": "HTMLStyleModel",
      "state": {
       "description_width": "",
       "font_size": null,
       "text_color": null
      }
     },
     "e076b9640e2648efb56c362b36ae1aea": {
      "model_module": "@jupyter-widgets/controls",
      "model_module_version": "2.0.0",
      "model_name": "FloatProgressModel",
      "state": {
       "bar_style": "success",
       "layout": "IPY_MODEL_b7522689c946467389e1b3a396b45afd",
       "max": 40,
       "style": "IPY_MODEL_a5b2b58aecab45d89fe17380809a038b",
       "value": 40
      }
     },
     "e0875cc39e4f4708adf95c15132a055e": {
      "model_module": "@jupyter-widgets/controls",
      "model_module_version": "2.0.0",
      "model_name": "ProgressStyleModel",
      "state": {
       "description_width": ""
      }
     },
     "e0b44089310d48a4b712bd057e07809b": {
      "model_module": "@jupyter-widgets/controls",
      "model_module_version": "2.0.0",
      "model_name": "HBoxModel",
      "state": {
       "children": [
        "IPY_MODEL_0f56a2ce26e84fad80b0bcf2b17c8172",
        "IPY_MODEL_48976ff67a6d4d28851392e3ba5427d2",
        "IPY_MODEL_4c1ad9cbbba34358b057431ddb09c09e"
       ],
       "layout": "IPY_MODEL_e7844ff0a3f74951bad063b55d37628f"
      }
     },
     "e0c7bae5e251460cbe8aba579b0cd0dc": {
      "model_module": "@jupyter-widgets/controls",
      "model_module_version": "2.0.0",
      "model_name": "ProgressStyleModel",
      "state": {
       "description_width": ""
      }
     },
     "e10f9f1e6f554594806c8817736e4979": {
      "model_module": "@jupyter-widgets/controls",
      "model_module_version": "2.0.0",
      "model_name": "HTMLStyleModel",
      "state": {
       "description_width": "",
       "font_size": null,
       "text_color": null
      }
     },
     "e1273b3ef9584dca8c6bcd0a7103d97d": {
      "model_module": "@jupyter-widgets/controls",
      "model_module_version": "2.0.0",
      "model_name": "FloatProgressModel",
      "state": {
       "bar_style": "success",
       "layout": "IPY_MODEL_12e2f2f122d8441aa79d8cecf6d04fce",
       "max": 40,
       "style": "IPY_MODEL_e16a3a4c521d45239f84ed164fd79a9b",
       "value": 40
      }
     },
     "e135469fedbb4c30be0aaedf4b18d757": {
      "model_module": "@jupyter-widgets/controls",
      "model_module_version": "2.0.0",
      "model_name": "HTMLModel",
      "state": {
       "layout": "IPY_MODEL_9c11edf4938a4f9493003a9d3b033643",
       "style": "IPY_MODEL_54db9101cd794d6d8dc328597c3dbbb0",
       "value": " 40/40 [02:34&lt;00:00,  1.92s/it]"
      }
     },
     "e1563e99e1d044c5aafece7216e64fc6": {
      "model_module": "@jupyter-widgets/controls",
      "model_module_version": "2.0.0",
      "model_name": "HBoxModel",
      "state": {
       "children": [
        "IPY_MODEL_3cb745e1a8bf452d946c1f444506f9aa",
        "IPY_MODEL_e235754fd2034de08e5028e73de45e49",
        "IPY_MODEL_42831ed81a7242b6a27b7e588ef033ef"
       ],
       "layout": "IPY_MODEL_aa22e85566c44aae81c8d72afee93862"
      }
     },
     "e15f7f78efef49afb6af72b4e488a373": {
      "model_module": "@jupyter-widgets/base",
      "model_module_version": "2.0.0",
      "model_name": "LayoutModel",
      "state": {
       "flex": "2"
      }
     },
     "e16a3a4c521d45239f84ed164fd79a9b": {
      "model_module": "@jupyter-widgets/controls",
      "model_module_version": "2.0.0",
      "model_name": "ProgressStyleModel",
      "state": {
       "description_width": ""
      }
     },
     "e1cb1798cdbe4ac0aea245af7688316c": {
      "model_module": "@jupyter-widgets/controls",
      "model_module_version": "2.0.0",
      "model_name": "HTMLModel",
      "state": {
       "layout": "IPY_MODEL_cd952de6e5e74bbcb33b6bacf96de2cd",
       "style": "IPY_MODEL_3bdf6efd02f9491db6e1a9fc0153f89d",
       "value": " 40/40 [02:34&lt;00:00,  1.99s/it]"
      }
     },
     "e1ecb1142741431ea827a37618d15529": {
      "model_module": "@jupyter-widgets/base",
      "model_module_version": "2.0.0",
      "model_name": "LayoutModel",
      "state": {}
     },
     "e235754fd2034de08e5028e73de45e49": {
      "model_module": "@jupyter-widgets/controls",
      "model_module_version": "2.0.0",
      "model_name": "FloatProgressModel",
      "state": {
       "bar_style": "success",
       "layout": "IPY_MODEL_a395c4b63c9346629eaf7f331afc3659",
       "max": 40,
       "style": "IPY_MODEL_96d4192d94294167a3439585f830ee94",
       "value": 40
      }
     },
     "e25231efd20f4073ac04facc507be77f": {
      "model_module": "@jupyter-widgets/base",
      "model_module_version": "2.0.0",
      "model_name": "LayoutModel",
      "state": {
       "display": "inline-flex",
       "flex_flow": "row wrap",
       "width": "100%"
      }
     },
     "e28db26221ce4f279207797e8e3245be": {
      "model_module": "@jupyter-widgets/controls",
      "model_module_version": "2.0.0",
      "model_name": "HTMLStyleModel",
      "state": {
       "description_width": "",
       "font_size": null,
       "text_color": null
      }
     },
     "e2989e88204d4cd08081cecadd94ca15": {
      "model_module": "@jupyter-widgets/controls",
      "model_module_version": "2.0.0",
      "model_name": "FloatProgressModel",
      "state": {
       "bar_style": "success",
       "layout": "IPY_MODEL_b1362243d256482cb8779144b1c897c1",
       "max": 40,
       "style": "IPY_MODEL_734c9b62010147a088c0615350f5ab9c",
       "value": 40
      }
     },
     "e2f253b688c44e2095db02d4b311a353": {
      "model_module": "@jupyter-widgets/base",
      "model_module_version": "2.0.0",
      "model_name": "LayoutModel",
      "state": {
       "display": "inline-flex",
       "flex_flow": "row wrap",
       "width": "100%"
      }
     },
     "e30262bd32864b109300f5ffa8566a27": {
      "model_module": "@jupyter-widgets/base",
      "model_module_version": "2.0.0",
      "model_name": "LayoutModel",
      "state": {}
     },
     "e31b9870397c4e98a5590079198f2016": {
      "model_module": "@jupyter-widgets/controls",
      "model_module_version": "2.0.0",
      "model_name": "HTMLStyleModel",
      "state": {
       "description_width": "",
       "font_size": null,
       "text_color": null
      }
     },
     "e356a3edb7104fd18eb707e4f4eb2197": {
      "model_module": "@jupyter-widgets/controls",
      "model_module_version": "2.0.0",
      "model_name": "HTMLStyleModel",
      "state": {
       "description_width": "",
       "font_size": null,
       "text_color": null
      }
     },
     "e375396d3e4b426daef72eb2143983e7": {
      "model_module": "@jupyter-widgets/controls",
      "model_module_version": "2.0.0",
      "model_name": "HTMLModel",
      "state": {
       "layout": "IPY_MODEL_e5e5af8f17694535a2cfade9bad2cf98",
       "style": "IPY_MODEL_bde6d3f8d0f44fa8b4b6290c7bc9d984",
       "value": "Validate (9100 Steps) (DiceMetric=0.78208): 100%"
      }
     },
     "e3a5f7a8e2c8479db40c6de5a5c49f05": {
      "model_module": "@jupyter-widgets/controls",
      "model_module_version": "2.0.0",
      "model_name": "FloatProgressModel",
      "state": {
       "bar_style": "success",
       "layout": "IPY_MODEL_26720a45250a4093b0df10f883e5561e",
       "max": 40,
       "style": "IPY_MODEL_003c5f22d19f48a9b8bb45a59e7c889e",
       "value": 40
      }
     },
     "e4859addba3c4495b694e01ca1bfabea": {
      "model_module": "@jupyter-widgets/controls",
      "model_module_version": "2.0.0",
      "model_name": "ProgressStyleModel",
      "state": {
       "description_width": ""
      }
     },
     "e4fd0e91d2804a3bb8e80392b84f70f4": {
      "model_module": "@jupyter-widgets/controls",
      "model_module_version": "2.0.0",
      "model_name": "HTMLStyleModel",
      "state": {
       "description_width": "",
       "font_size": null,
       "text_color": null
      }
     },
     "e56a2de4bbc7401ca62eaa007c49a975": {
      "model_module": "@jupyter-widgets/base",
      "model_module_version": "2.0.0",
      "model_name": "LayoutModel",
      "state": {
       "flex": "2"
      }
     },
     "e581a19db9bc4a51b7675c4b5d1a052f": {
      "model_module": "@jupyter-widgets/base",
      "model_module_version": "2.0.0",
      "model_name": "LayoutModel",
      "state": {
       "display": "inline-flex",
       "flex_flow": "row wrap",
       "width": "100%"
      }
     },
     "e58d71cf0ee94eaaa404fb3fcd976c65": {
      "model_module": "@jupyter-widgets/controls",
      "model_module_version": "2.0.0",
      "model_name": "HTMLStyleModel",
      "state": {
       "description_width": "",
       "font_size": null,
       "text_color": null
      }
     },
     "e5b134f699c34764b248780233693747": {
      "model_module": "@jupyter-widgets/controls",
      "model_module_version": "2.0.0",
      "model_name": "FloatProgressModel",
      "state": {
       "bar_style": "success",
       "layout": "IPY_MODEL_aae83a46957d429aa0a268eeaf805e84",
       "max": 40,
       "style": "IPY_MODEL_2f4b346a0c1340418bdca7a9623da347",
       "value": 40
      }
     },
     "e5e5af8f17694535a2cfade9bad2cf98": {
      "model_module": "@jupyter-widgets/base",
      "model_module_version": "2.0.0",
      "model_name": "LayoutModel",
      "state": {}
     },
     "e6b4acbf76f141ffaa4dbf49f0ac1d1b": {
      "model_module": "@jupyter-widgets/controls",
      "model_module_version": "2.0.0",
      "model_name": "HTMLStyleModel",
      "state": {
       "description_width": "",
       "font_size": null,
       "text_color": null
      }
     },
     "e6c26ac229c94c0a96420982064513b7": {
      "model_module": "@jupyter-widgets/base",
      "model_module_version": "2.0.0",
      "model_name": "LayoutModel",
      "state": {
       "flex": "2"
      }
     },
     "e704e5c0950d48e684872a57f4fbaad8": {
      "model_module": "@jupyter-widgets/controls",
      "model_module_version": "2.0.0",
      "model_name": "ProgressStyleModel",
      "state": {
       "description_width": ""
      }
     },
     "e73fc6536b874eb98bee9bfa1ddbd2ed": {
      "model_module": "@jupyter-widgets/controls",
      "model_module_version": "2.0.0",
      "model_name": "HTMLStyleModel",
      "state": {
       "description_width": "",
       "font_size": null,
       "text_color": null
      }
     },
     "e7844ff0a3f74951bad063b55d37628f": {
      "model_module": "@jupyter-widgets/base",
      "model_module_version": "2.0.0",
      "model_name": "LayoutModel",
      "state": {
       "display": "inline-flex",
       "flex_flow": "row wrap",
       "width": "100%"
      }
     },
     "e7babf98964c4181a131a80bb2e9f540": {
      "model_module": "@jupyter-widgets/controls",
      "model_module_version": "2.0.0",
      "model_name": "HBoxModel",
      "state": {
       "children": [
        "IPY_MODEL_363e475c7ee64d32909a41e931ee0be5",
        "IPY_MODEL_da7eff5cac2d48a0a1a6786e570cfdf4",
        "IPY_MODEL_6ee4acf1412140f7aa56213e62da9cb1"
       ],
       "layout": "IPY_MODEL_053f867409a04143a26bdd1686f3612d"
      }
     },
     "e82291f7d3aa4664a1e71dea02e8ab2c": {
      "model_module": "@jupyter-widgets/base",
      "model_module_version": "2.0.0",
      "model_name": "LayoutModel",
      "state": {}
     },
     "e89117ac2ebe4dce85a5e92da026e3bc": {
      "model_module": "@jupyter-widgets/controls",
      "model_module_version": "2.0.0",
      "model_name": "HBoxModel",
      "state": {
       "children": [
        "IPY_MODEL_5b9c78f3d56e4cb586be8841215ab8ab",
        "IPY_MODEL_e5b134f699c34764b248780233693747",
        "IPY_MODEL_151498cf494444a9a904f929247caacf"
       ],
       "layout": "IPY_MODEL_e25231efd20f4073ac04facc507be77f"
      }
     },
     "e904e8cb13c9436590c81ae18824c667": {
      "model_module": "@jupyter-widgets/controls",
      "model_module_version": "2.0.0",
      "model_name": "FloatProgressModel",
      "state": {
       "bar_style": "success",
       "layout": "IPY_MODEL_63f419bb8727468a918ad70677cfeec3",
       "max": 40,
       "style": "IPY_MODEL_b2285667e8bc48b08e2a784b84f22fc9",
       "value": 40
      }
     },
     "e948f27096864f859f69567e8d7f9b0b": {
      "model_module": "@jupyter-widgets/base",
      "model_module_version": "2.0.0",
      "model_name": "LayoutModel",
      "state": {}
     },
     "e97fff4f624746b2aae1f1885f7f3ce2": {
      "model_module": "@jupyter-widgets/base",
      "model_module_version": "2.0.0",
      "model_name": "LayoutModel",
      "state": {}
     },
     "e9a685022f8849e6b2e335246e064d9f": {
      "model_module": "@jupyter-widgets/controls",
      "model_module_version": "2.0.0",
      "model_name": "HBoxModel",
      "state": {
       "children": [
        "IPY_MODEL_3bed450bf19c4161ba7b964151bcdc69",
        "IPY_MODEL_7787101f10b14fc0a3beea9bc9b45f4d",
        "IPY_MODEL_078dafead05f4727abe3416a2a1f4f3b"
       ],
       "layout": "IPY_MODEL_1923d01c49b34ce2a1b0357015fe6e8e"
      }
     },
     "e9b7d94f2dba491c9afdbf69d538832a": {
      "model_module": "@jupyter-widgets/controls",
      "model_module_version": "2.0.0",
      "model_name": "HBoxModel",
      "state": {
       "children": [
        "IPY_MODEL_874169962cbf4b8b8d65e029f552834d",
        "IPY_MODEL_8ebeae6c5c97418dab30be67486ac82a",
        "IPY_MODEL_dd8d1645c0904ea79b469cdf846da447"
       ],
       "layout": "IPY_MODEL_cabc5bdbbfd8423a93233bad00056d2d"
      }
     },
     "ea15355bef4a4a4d8fb69058cd46b7b6": {
      "model_module": "@jupyter-widgets/controls",
      "model_module_version": "2.0.0",
      "model_name": "HTMLStyleModel",
      "state": {
       "description_width": "",
       "font_size": null,
       "text_color": null
      }
     },
     "eaac40b23b684b6c938a999749842c5f": {
      "model_module": "@jupyter-widgets/controls",
      "model_module_version": "2.0.0",
      "model_name": "HTMLStyleModel",
      "state": {
       "description_width": "",
       "font_size": null,
       "text_color": null
      }
     },
     "eabaa4a5278d4d57b4915d33cebd2406": {
      "model_module": "@jupyter-widgets/base",
      "model_module_version": "2.0.0",
      "model_name": "LayoutModel",
      "state": {
       "display": "inline-flex",
       "flex_flow": "row wrap",
       "width": "100%"
      }
     },
     "eae6881525474a3384feafa0064bdce4": {
      "model_module": "@jupyter-widgets/controls",
      "model_module_version": "2.0.0",
      "model_name": "HTMLStyleModel",
      "state": {
       "description_width": "",
       "font_size": null,
       "text_color": null
      }
     },
     "eae8b2941e9649178110ceedf54fe129": {
      "model_module": "@jupyter-widgets/base",
      "model_module_version": "2.0.0",
      "model_name": "LayoutModel",
      "state": {
       "flex": "2"
      }
     },
     "eb17c10d41c94b96be1c051c23608bfb": {
      "model_module": "@jupyter-widgets/controls",
      "model_module_version": "2.0.0",
      "model_name": "HTMLStyleModel",
      "state": {
       "description_width": "",
       "font_size": null,
       "text_color": null
      }
     },
     "eb4210993a9f4c8398d0260e81b170b0": {
      "model_module": "@jupyter-widgets/controls",
      "model_module_version": "2.0.0",
      "model_name": "HTMLModel",
      "state": {
       "layout": "IPY_MODEL_def7ec5a53774c6192f9ca0711a7989b",
       "style": "IPY_MODEL_9c2a455ed73e4520adba32e8c259b578",
       "value": "Validate (7200 Steps) (DiceMetric=0.78763): 100%"
      }
     },
     "eb9a29d472664126b07bea71c4c06f25": {
      "model_module": "@jupyter-widgets/controls",
      "model_module_version": "2.0.0",
      "model_name": "HTMLStyleModel",
      "state": {
       "description_width": "",
       "font_size": null,
       "text_color": null
      }
     },
     "ebc4768a429e44deb789376f641ab0a3": {
      "model_module": "@jupyter-widgets/controls",
      "model_module_version": "2.0.0",
      "model_name": "ProgressStyleModel",
      "state": {
       "description_width": ""
      }
     },
     "ebedd3d8dc94479698b42f4344267f0e": {
      "model_module": "@jupyter-widgets/controls",
      "model_module_version": "2.0.0",
      "model_name": "FloatProgressModel",
      "state": {
       "bar_style": "success",
       "layout": "IPY_MODEL_eae8b2941e9649178110ceedf54fe129",
       "max": 40,
       "style": "IPY_MODEL_f118453e6aba42d195519c288a3afa32",
       "value": 40
      }
     },
     "ec5995a2c2074fb19988d752e7d3b84f": {
      "model_module": "@jupyter-widgets/controls",
      "model_module_version": "2.0.0",
      "model_name": "HTMLStyleModel",
      "state": {
       "description_width": "",
       "font_size": null,
       "text_color": null
      }
     },
     "ecdfe8d76d844a6884232ba2648bbe3e": {
      "model_module": "@jupyter-widgets/base",
      "model_module_version": "2.0.0",
      "model_name": "LayoutModel",
      "state": {}
     },
     "ed3b19fd5ef64e4789880815556161c7": {
      "model_module": "@jupyter-widgets/base",
      "model_module_version": "2.0.0",
      "model_name": "LayoutModel",
      "state": {}
     },
     "ed6948ff307940eebf59dba698ad4293": {
      "model_module": "@jupyter-widgets/controls",
      "model_module_version": "2.0.0",
      "model_name": "HTMLModel",
      "state": {
       "layout": "IPY_MODEL_847f0926e90e45d1be00b5e6a5f2bda1",
       "style": "IPY_MODEL_0989e8e0d23b423e804d4f69987a068b",
       "value": "Validate (800 Steps) (DiceMetric=0.27354): 100%"
      }
     },
     "ed8093ba5da6481193da9248780fc739": {
      "model_module": "@jupyter-widgets/controls",
      "model_module_version": "2.0.0",
      "model_name": "HBoxModel",
      "state": {
       "children": [
        "IPY_MODEL_3a73d8ea2dc542cf92c741ca0e316fb8",
        "IPY_MODEL_37313a1b153f4869a539e4300268af14",
        "IPY_MODEL_38468b822eed45a98855f967614743e3"
       ],
       "layout": "IPY_MODEL_482853ba22bc41bb8d2d7b078565beb3"
      }
     },
     "edbc9cac7e704fdab528e486d2b2f14c": {
      "model_module": "@jupyter-widgets/base",
      "model_module_version": "2.0.0",
      "model_name": "LayoutModel",
      "state": {
       "flex": "2"
      }
     },
     "ee1e226572a8442bae76d174a6285180": {
      "model_module": "@jupyter-widgets/controls",
      "model_module_version": "2.0.0",
      "model_name": "FloatProgressModel",
      "state": {
       "bar_style": "success",
       "layout": "IPY_MODEL_4d8d4372377541a2ba02bdfbb488915e",
       "max": 40,
       "style": "IPY_MODEL_df016fc14ca549b4852516af83c2a2e8",
       "value": 40
      }
     },
     "ee465020f33e4b49a88b0223b56879d3": {
      "model_module": "@jupyter-widgets/controls",
      "model_module_version": "2.0.0",
      "model_name": "HBoxModel",
      "state": {
       "children": [
        "IPY_MODEL_5d99c48b65ba4128b7bd7e3812f62879",
        "IPY_MODEL_a46dbf4bfa95407699cbf961f0076fcd",
        "IPY_MODEL_c07c7c1828ff4f0f9b017702602c7a7a"
       ],
       "layout": "IPY_MODEL_1dd6617126974486a9ade748be974115"
      }
     },
     "eea3813f4c854aec88dc7a1ba6429c5a": {
      "model_module": "@jupyter-widgets/controls",
      "model_module_version": "2.0.0",
      "model_name": "HTMLStyleModel",
      "state": {
       "description_width": "",
       "font_size": null,
       "text_color": null
      }
     },
     "eef2d7d47e5a4202a9a5db71c7fbfbd1": {
      "model_module": "@jupyter-widgets/base",
      "model_module_version": "2.0.0",
      "model_name": "LayoutModel",
      "state": {
       "display": "inline-flex",
       "flex_flow": "row wrap",
       "width": "100%"
      }
     },
     "ef41ef36886f4f348d6f46403cf0ea6e": {
      "model_module": "@jupyter-widgets/controls",
      "model_module_version": "2.0.0",
      "model_name": "HTMLModel",
      "state": {
       "layout": "IPY_MODEL_fb0d29f236204a14a57f0bbadc393600",
       "style": "IPY_MODEL_0487e37879d94b2fa60769c4bd0faf4f",
       "value": " 40/40 [02:34&lt;00:00,  1.95s/it]"
      }
     },
     "ef5542e7fdf2483ba33c00bb6e37da14": {
      "model_module": "@jupyter-widgets/base",
      "model_module_version": "2.0.0",
      "model_name": "LayoutModel",
      "state": {}
     },
     "ef7814cf2d694c11970776e21ad64be7": {
      "model_module": "@jupyter-widgets/controls",
      "model_module_version": "2.0.0",
      "model_name": "FloatProgressModel",
      "state": {
       "bar_style": "success",
       "layout": "IPY_MODEL_83e67dd3eea341959a0e54ebee918e84",
       "max": 40,
       "style": "IPY_MODEL_2b454df686d848a2b731beae08361b0c",
       "value": 40
      }
     },
     "efa3545503f642bbb185e5f7cbf31291": {
      "model_module": "@jupyter-widgets/controls",
      "model_module_version": "2.0.0",
      "model_name": "HTMLModel",
      "state": {
       "layout": "IPY_MODEL_18b48eaab7ea476d89229bc4664fc31f",
       "style": "IPY_MODEL_f854c94a222f46d394cb900f6fb08ec0",
       "value": "Validate (4300 Steps) (DiceMetric=0.31905): 100%"
      }
     },
     "efc3dcb50ce44a4dbd89b301d52a1a3f": {
      "model_module": "@jupyter-widgets/controls",
      "model_module_version": "2.0.0",
      "model_name": "ProgressStyleModel",
      "state": {
       "description_width": ""
      }
     },
     "f01311d3aff140e2a7521df23b1e5533": {
      "model_module": "@jupyter-widgets/controls",
      "model_module_version": "2.0.0",
      "model_name": "FloatProgressModel",
      "state": {
       "bar_style": "success",
       "layout": "IPY_MODEL_f12138d6d7cb43bcbacaacfe27362dd4",
       "max": 40,
       "style": "IPY_MODEL_4bb3e787cf0f45bb941621b4a93465c3",
       "value": 40
      }
     },
     "f0223722412e47be91ba2312042de199": {
      "model_module": "@jupyter-widgets/controls",
      "model_module_version": "2.0.0",
      "model_name": "HTMLModel",
      "state": {
       "layout": "IPY_MODEL_9bf056f1dfbf40caa2138c9ad24a8d8c",
       "style": "IPY_MODEL_9c4c6e8a000a4b4b98f64546c23d2c61",
       "value": "Validate (400 Steps) (DiceMetric=0.19581): 100%"
      }
     },
     "f0246faaa41c4d929c653b2c2c2b9447": {
      "model_module": "@jupyter-widgets/base",
      "model_module_version": "2.0.0",
      "model_name": "LayoutModel",
      "state": {
       "display": "inline-flex",
       "flex_flow": "row wrap",
       "width": "100%"
      }
     },
     "f04c12ee644f46bb94d04214a047d8fc": {
      "model_module": "@jupyter-widgets/controls",
      "model_module_version": "2.0.0",
      "model_name": "HTMLStyleModel",
      "state": {
       "description_width": "",
       "font_size": null,
       "text_color": null
      }
     },
     "f0979f91bcf5454d9cf13439c92db43c": {
      "model_module": "@jupyter-widgets/base",
      "model_module_version": "2.0.0",
      "model_name": "LayoutModel",
      "state": {}
     },
     "f09d296f0dcc4ca18a1b23c12da672a0": {
      "model_module": "@jupyter-widgets/controls",
      "model_module_version": "2.0.0",
      "model_name": "HTMLModel",
      "state": {
       "layout": "IPY_MODEL_84143cc5d33e48e0b3fec1a7039243bb",
       "style": "IPY_MODEL_be123a97b35548e8b68432c81ea721e0",
       "value": " 40/40 [02:33&lt;00:00,  1.91s/it]"
      }
     },
     "f0ffb6a9643745169a1a859c164d6fb8": {
      "model_module": "@jupyter-widgets/controls",
      "model_module_version": "2.0.0",
      "model_name": "FloatProgressModel",
      "state": {
       "bar_style": "success",
       "layout": "IPY_MODEL_d65384e65c6c498b8fd7da95302372d9",
       "max": 40,
       "style": "IPY_MODEL_efc3dcb50ce44a4dbd89b301d52a1a3f",
       "value": 40
      }
     },
     "f118453e6aba42d195519c288a3afa32": {
      "model_module": "@jupyter-widgets/controls",
      "model_module_version": "2.0.0",
      "model_name": "ProgressStyleModel",
      "state": {
       "description_width": ""
      }
     },
     "f12138d6d7cb43bcbacaacfe27362dd4": {
      "model_module": "@jupyter-widgets/base",
      "model_module_version": "2.0.0",
      "model_name": "LayoutModel",
      "state": {
       "flex": "2"
      }
     },
     "f1858abe809b483ca621b5a4174c8172": {
      "model_module": "@jupyter-widgets/controls",
      "model_module_version": "2.0.0",
      "model_name": "FloatProgressModel",
      "state": {
       "bar_style": "success",
       "layout": "IPY_MODEL_d9a51548e31f4796ad9d84d5d3d2d7f7",
       "max": 40,
       "style": "IPY_MODEL_2a5f79eca3b44c92b33707c8b82067ef",
       "value": 40
      }
     },
     "f1b501b0fcb7442da927d6efc6346adb": {
      "model_module": "@jupyter-widgets/base",
      "model_module_version": "2.0.0",
      "model_name": "LayoutModel",
      "state": {
       "flex": "2"
      }
     },
     "f1e96070ea4e4abc95a1d85c398e633e": {
      "model_module": "@jupyter-widgets/base",
      "model_module_version": "2.0.0",
      "model_name": "LayoutModel",
      "state": {}
     },
     "f27065ff8c23479285b2f43b1d18b673": {
      "model_module": "@jupyter-widgets/base",
      "model_module_version": "2.0.0",
      "model_name": "LayoutModel",
      "state": {}
     },
     "f28260efbb084362bac5476efceb1a61": {
      "model_module": "@jupyter-widgets/controls",
      "model_module_version": "2.0.0",
      "model_name": "ProgressStyleModel",
      "state": {
       "description_width": ""
      }
     },
     "f29cb569d72640dda06e9a5bcc2f0f25": {
      "model_module": "@jupyter-widgets/base",
      "model_module_version": "2.0.0",
      "model_name": "LayoutModel",
      "state": {}
     },
     "f2d62c88be6e47a8aae5c1ad5b4b6208": {
      "model_module": "@jupyter-widgets/base",
      "model_module_version": "2.0.0",
      "model_name": "LayoutModel",
      "state": {
       "display": "inline-flex",
       "flex_flow": "row wrap",
       "width": "100%"
      }
     },
     "f2e62c36980940a0a154ec38f4167dce": {
      "model_module": "@jupyter-widgets/base",
      "model_module_version": "2.0.0",
      "model_name": "LayoutModel",
      "state": {}
     },
     "f343cd59e70b4d9c8c339f421f641355": {
      "model_module": "@jupyter-widgets/controls",
      "model_module_version": "2.0.0",
      "model_name": "HTMLStyleModel",
      "state": {
       "description_width": "",
       "font_size": null,
       "text_color": null
      }
     },
     "f38e54d919024b3f88ee2766a0385d9a": {
      "model_module": "@jupyter-widgets/controls",
      "model_module_version": "2.0.0",
      "model_name": "HBoxModel",
      "state": {
       "children": [
        "IPY_MODEL_480830286c8f4409be8067418d69cb5a",
        "IPY_MODEL_400f31473c644bf583585ebe77d4e757",
        "IPY_MODEL_fe707390883646819945e92ebd2468d5"
       ],
       "layout": "IPY_MODEL_3da4a98b00e540c3ab18d4a804fd5a47"
      }
     },
     "f39652354d5b4370ab9676bf99aa619e": {
      "model_module": "@jupyter-widgets/controls",
      "model_module_version": "2.0.0",
      "model_name": "HBoxModel",
      "state": {
       "children": [
        "IPY_MODEL_6adca8e1e8434212af647630c4d9f87c",
        "IPY_MODEL_c38dee7e598e4c4ca91477585aa65eba",
        "IPY_MODEL_3450bc2fbb134ccdb456eb1e4ec85093"
       ],
       "layout": "IPY_MODEL_505e65b37ec54484a3c6c3c967d9b6d7"
      }
     },
     "f3969bc17a8a427297ef1dbaaefcfece": {
      "model_module": "@jupyter-widgets/controls",
      "model_module_version": "2.0.0",
      "model_name": "HTMLStyleModel",
      "state": {
       "description_width": "",
       "font_size": null,
       "text_color": null
      }
     },
     "f40abdb23e5542c481f7a4c1c680a59a": {
      "model_module": "@jupyter-widgets/base",
      "model_module_version": "2.0.0",
      "model_name": "LayoutModel",
      "state": {}
     },
     "f40f950001454af4bdb1551818ccef7f": {
      "model_module": "@jupyter-widgets/controls",
      "model_module_version": "2.0.0",
      "model_name": "HTMLModel",
      "state": {
       "layout": "IPY_MODEL_646e90d83b9b49fa95272286a33f4424",
       "style": "IPY_MODEL_fb269feb5be243039e1e09db11f1c8e2",
       "value": " 40/40 [02:36&lt;00:00,  1.99s/it]"
      }
     },
     "f44a08619dbe42768f3b1b8d45a02a07": {
      "model_module": "@jupyter-widgets/controls",
      "model_module_version": "2.0.0",
      "model_name": "HTMLStyleModel",
      "state": {
       "description_width": "",
       "font_size": null,
       "text_color": null
      }
     },
     "f4d8aea4cc4e44c28989d5184272e605": {
      "model_module": "@jupyter-widgets/controls",
      "model_module_version": "2.0.0",
      "model_name": "HBoxModel",
      "state": {
       "children": [
        "IPY_MODEL_06d5dbf3c24246bdb58e8f186c2cb726",
        "IPY_MODEL_7f4aa1bc612c42caa3bdecec426ad87e",
        "IPY_MODEL_cbd0c8706c3f4255931a29f25fe63552"
       ],
       "layout": "IPY_MODEL_5ae6be4ef5774015b3b56338a28a5ab3"
      }
     },
     "f4fa69e1908a423ebbc1a05e9ce6f590": {
      "model_module": "@jupyter-widgets/base",
      "model_module_version": "2.0.0",
      "model_name": "LayoutModel",
      "state": {}
     },
     "f558713cc12e49ffa6bdfad9b988c4fe": {
      "model_module": "@jupyter-widgets/controls",
      "model_module_version": "2.0.0",
      "model_name": "FloatProgressModel",
      "state": {
       "bar_style": "success",
       "layout": "IPY_MODEL_99ff0df614684c0793caa29dd58c9b01",
       "max": 40,
       "style": "IPY_MODEL_07d97117e82c4bc79a1fdc908fe4065a",
       "value": 40
      }
     },
     "f5ab5f05143c40228f2948f74bf01e88": {
      "model_module": "@jupyter-widgets/controls",
      "model_module_version": "2.0.0",
      "model_name": "HTMLStyleModel",
      "state": {
       "description_width": "",
       "font_size": null,
       "text_color": null
      }
     },
     "f63c83161922448aa476e1a44050479d": {
      "model_module": "@jupyter-widgets/base",
      "model_module_version": "2.0.0",
      "model_name": "LayoutModel",
      "state": {
       "flex": "2"
      }
     },
     "f6522fc9f29447b1afa4d500edf96f0a": {
      "model_module": "@jupyter-widgets/controls",
      "model_module_version": "2.0.0",
      "model_name": "HTMLModel",
      "state": {
       "layout": "IPY_MODEL_6713b4f8c67f4bc483c865e9675128a2",
       "style": "IPY_MODEL_c37320b69e3c4a988126fe89ae256386",
       "value": " 40/40 [02:34&lt;00:00,  1.93s/it]"
      }
     },
     "f6812b19542e41878723119c91c641f2": {
      "model_module": "@jupyter-widgets/controls",
      "model_module_version": "2.0.0",
      "model_name": "HTMLStyleModel",
      "state": {
       "description_width": "",
       "font_size": null,
       "text_color": null
      }
     },
     "f68260e446404ff7b18a46302fe2e43a": {
      "model_module": "@jupyter-widgets/base",
      "model_module_version": "2.0.0",
      "model_name": "LayoutModel",
      "state": {}
     },
     "f6ae0c0101064280ba9c5c6b0f44b376": {
      "model_module": "@jupyter-widgets/controls",
      "model_module_version": "2.0.0",
      "model_name": "HTMLModel",
      "state": {
       "layout": "IPY_MODEL_a342d561ca3e4949948af4e9210e8c35",
       "style": "IPY_MODEL_485589aace6d434a8384b7252f5331f6",
       "value": "Validate (6600 Steps) (DiceMetric=0.64842): 100%"
      }
     },
     "f6b8679c8fbb4f5fbc503a14a7adecab": {
      "model_module": "@jupyter-widgets/controls",
      "model_module_version": "2.0.0",
      "model_name": "HTMLModel",
      "state": {
       "layout": "IPY_MODEL_cee16ee9c9cf40098ef5c87c583aea34",
       "style": "IPY_MODEL_a019348bd20646a68cc3b1f393e95e2a",
       "value": "Validate (300 Steps) (DiceMetric=0.19581): 100%"
      }
     },
     "f6c1df2461e045c1b7ef2d670bf1ad89": {
      "model_module": "@jupyter-widgets/controls",
      "model_module_version": "2.0.0",
      "model_name": "HTMLStyleModel",
      "state": {
       "description_width": "",
       "font_size": null,
       "text_color": null
      }
     },
     "f73a73b45afd4157a14f6029ffc41ec6": {
      "model_module": "@jupyter-widgets/base",
      "model_module_version": "2.0.0",
      "model_name": "LayoutModel",
      "state": {}
     },
     "f7964dc0aa6d4b45b04a95201e70b5e8": {
      "model_module": "@jupyter-widgets/base",
      "model_module_version": "2.0.0",
      "model_name": "LayoutModel",
      "state": {
       "display": "inline-flex",
       "flex_flow": "row wrap",
       "width": "100%"
      }
     },
     "f7afdea3d52e4102b8ff14cf4751537a": {
      "model_module": "@jupyter-widgets/base",
      "model_module_version": "2.0.0",
      "model_name": "LayoutModel",
      "state": {}
     },
     "f844f1e060924c39b6e138ed55006a1c": {
      "model_module": "@jupyter-widgets/base",
      "model_module_version": "2.0.0",
      "model_name": "LayoutModel",
      "state": {}
     },
     "f854c94a222f46d394cb900f6fb08ec0": {
      "model_module": "@jupyter-widgets/controls",
      "model_module_version": "2.0.0",
      "model_name": "HTMLStyleModel",
      "state": {
       "description_width": "",
       "font_size": null,
       "text_color": null
      }
     },
     "f86a40e9c84b42a0b582350fa77e07e0": {
      "model_module": "@jupyter-widgets/controls",
      "model_module_version": "2.0.0",
      "model_name": "HTMLStyleModel",
      "state": {
       "description_width": "",
       "font_size": null,
       "text_color": null
      }
     },
     "f8ad7f6bde1144958a5b18eef59497a4": {
      "model_module": "@jupyter-widgets/controls",
      "model_module_version": "2.0.0",
      "model_name": "ProgressStyleModel",
      "state": {
       "description_width": ""
      }
     },
     "f92be451d267460aa3fd5832bc8d4b0b": {
      "model_module": "@jupyter-widgets/base",
      "model_module_version": "2.0.0",
      "model_name": "LayoutModel",
      "state": {
       "flex": "2"
      }
     },
     "f96618d6d7654747857ac467b4a0ba0e": {
      "model_module": "@jupyter-widgets/base",
      "model_module_version": "2.0.0",
      "model_name": "LayoutModel",
      "state": {
       "display": "inline-flex",
       "flex_flow": "row wrap",
       "width": "100%"
      }
     },
     "f966cb0897e540878d989d6d33d62427": {
      "model_module": "@jupyter-widgets/base",
      "model_module_version": "2.0.0",
      "model_name": "LayoutModel",
      "state": {
       "flex": "2"
      }
     },
     "f977cf37e291439a81fe124d2b039694": {
      "model_module": "@jupyter-widgets/controls",
      "model_module_version": "2.0.0",
      "model_name": "HTMLModel",
      "state": {
       "layout": "IPY_MODEL_8004183aadbf4db4b6b2850e13a444a6",
       "style": "IPY_MODEL_27a9843d5fa44c438bb6abf79996083a",
       "value": "Validate (7800 Steps) (DiceMetric=0.77184): 100%"
      }
     },
     "f97d903032254bf4a198f39cbc6824e8": {
      "model_module": "@jupyter-widgets/base",
      "model_module_version": "2.0.0",
      "model_name": "LayoutModel",
      "state": {}
     },
     "f9db7e4372b84ed0b4c2f91259b11b2a": {
      "model_module": "@jupyter-widgets/controls",
      "model_module_version": "2.0.0",
      "model_name": "HBoxModel",
      "state": {
       "children": [
        "IPY_MODEL_ced64235ca604bd99ddac2b4002e931b",
        "IPY_MODEL_0c2769b58965474595f22f323a4452e0",
        "IPY_MODEL_5628183ead2c4541a92574f65a302b9f"
       ],
       "layout": "IPY_MODEL_8216ab5a86b0421ebfca03e110937949"
      }
     },
     "f9ecf77fc3b44c9ca28938f8ebe12756": {
      "model_module": "@jupyter-widgets/controls",
      "model_module_version": "2.0.0",
      "model_name": "HBoxModel",
      "state": {
       "children": [
        "IPY_MODEL_2522c712e4f34045a43c3bca82d3dfc5",
        "IPY_MODEL_078aa31dedc54ed084c1a7ae4371797e",
        "IPY_MODEL_db5a4938263744539be4cdaccc85ea69"
       ],
       "layout": "IPY_MODEL_b813b87bda2547fcb7f114d3d367b2ad"
      }
     },
     "fa55ba338a584b3a8969423e8532cb15": {
      "model_module": "@jupyter-widgets/controls",
      "model_module_version": "2.0.0",
      "model_name": "ProgressStyleModel",
      "state": {
       "description_width": ""
      }
     },
     "fa611d93deaf4e4e9a895f82a645f53b": {
      "model_module": "@jupyter-widgets/base",
      "model_module_version": "2.0.0",
      "model_name": "LayoutModel",
      "state": {}
     },
     "faa9251f1d1e48ba846dd1cb7b6db5c6": {
      "model_module": "@jupyter-widgets/base",
      "model_module_version": "2.0.0",
      "model_name": "LayoutModel",
      "state": {}
     },
     "faea797bce554068bc89b52d533b700a": {
      "model_module": "@jupyter-widgets/base",
      "model_module_version": "2.0.0",
      "model_name": "LayoutModel",
      "state": {
       "flex": "2"
      }
     },
     "fb0d29f236204a14a57f0bbadc393600": {
      "model_module": "@jupyter-widgets/base",
      "model_module_version": "2.0.0",
      "model_name": "LayoutModel",
      "state": {}
     },
     "fb269feb5be243039e1e09db11f1c8e2": {
      "model_module": "@jupyter-widgets/controls",
      "model_module_version": "2.0.0",
      "model_name": "HTMLStyleModel",
      "state": {
       "description_width": "",
       "font_size": null,
       "text_color": null
      }
     },
     "fb76c837c0684aa78610a1856c387eb9": {
      "model_module": "@jupyter-widgets/controls",
      "model_module_version": "2.0.0",
      "model_name": "HTMLStyleModel",
      "state": {
       "description_width": "",
       "font_size": null,
       "text_color": null
      }
     },
     "fba352ac1a0a44febb981fa41ee753c3": {
      "model_module": "@jupyter-widgets/controls",
      "model_module_version": "2.0.0",
      "model_name": "HTMLModel",
      "state": {
       "layout": "IPY_MODEL_7b04e7bab80e499983b1ac3a931e58a0",
       "style": "IPY_MODEL_d83ba568f86c4e51abc4938fccf9b166",
       "value": " 40/40 [02:35&lt;00:00,  1.96s/it]"
      }
     },
     "fbaac5d44c284fd39ea421cc8db7bcf9": {
      "model_module": "@jupyter-widgets/controls",
      "model_module_version": "2.0.0",
      "model_name": "HBoxModel",
      "state": {
       "children": [
        "IPY_MODEL_514652aef591445cb97831681aa61cb8",
        "IPY_MODEL_c7c7b072eec9489a8650da426c869304",
        "IPY_MODEL_44a9e7617605445babdfffb38c543a28"
       ],
       "layout": "IPY_MODEL_babfe00043f64aeeb5e92ecc79af27be"
      }
     },
     "fbd8121ab7fa4385a6707b2f305167aa": {
      "model_module": "@jupyter-widgets/base",
      "model_module_version": "2.0.0",
      "model_name": "LayoutModel",
      "state": {
       "display": "inline-flex",
       "flex_flow": "row wrap",
       "width": "100%"
      }
     },
     "fbf417ceabb748e6a4db5bc8b50bdac5": {
      "model_module": "@jupyter-widgets/controls",
      "model_module_version": "2.0.0",
      "model_name": "HBoxModel",
      "state": {
       "children": [
        "IPY_MODEL_c7e3ad50b68f4275b3cd973568a630fa",
        "IPY_MODEL_a3947ef7fe024fc5a303d2b607954925",
        "IPY_MODEL_8b8c0aa52b67407f94d552e4f61af5e6"
       ],
       "layout": "IPY_MODEL_e581a19db9bc4a51b7675c4b5d1a052f"
      }
     },
     "fbf69fabcea744eb8852f4f37ffed400": {
      "model_module": "@jupyter-widgets/base",
      "model_module_version": "2.0.0",
      "model_name": "LayoutModel",
      "state": {}
     },
     "fc29d075e0a641eba9a30844268805d2": {
      "model_module": "@jupyter-widgets/controls",
      "model_module_version": "2.0.0",
      "model_name": "HTMLModel",
      "state": {
       "layout": "IPY_MODEL_8d3b97fcb666418d87ff8742fb186fe3",
       "style": "IPY_MODEL_24daa858235d4ccea069f3357c2db7d9",
       "value": "Validate (3600 Steps) (DiceMetric=0.41253): 100%"
      }
     },
     "fccd29f9b2c84d85b5b9f1024f5a4101": {
      "model_module": "@jupyter-widgets/controls",
      "model_module_version": "2.0.0",
      "model_name": "HTMLModel",
      "state": {
       "layout": "IPY_MODEL_7d2a6d2494cf4056b0716474bb70d277",
       "style": "IPY_MODEL_bda01c63867d453585e346959910bbab",
       "value": " 40/40 [02:33&lt;00:00,  1.94s/it]"
      }
     },
     "fcebfa838a4b467fbeb7de6990b2fc0a": {
      "model_module": "@jupyter-widgets/controls",
      "model_module_version": "2.0.0",
      "model_name": "HTMLModel",
      "state": {
       "layout": "IPY_MODEL_237edd91146d4023a4a4a64189236736",
       "style": "IPY_MODEL_cda0f4c81c8946609ce0744ec6a641bd",
       "value": "Validate (9500 Steps) (DiceMetric=0.74943): 100%"
      }
     },
     "fcece4405343465d9e45cb0ff54b541e": {
      "model_module": "@jupyter-widgets/controls",
      "model_module_version": "2.0.0",
      "model_name": "HTMLStyleModel",
      "state": {
       "description_width": "",
       "font_size": null,
       "text_color": null
      }
     },
     "fd0d88ebc66e4ddebac85e0069bc6eb0": {
      "model_module": "@jupyter-widgets/controls",
      "model_module_version": "2.0.0",
      "model_name": "ProgressStyleModel",
      "state": {
       "description_width": ""
      }
     },
     "fdaa3c00b7804cdd83086858c3217398": {
      "model_module": "@jupyter-widgets/controls",
      "model_module_version": "2.0.0",
      "model_name": "FloatProgressModel",
      "state": {
       "bar_style": "success",
       "layout": "IPY_MODEL_a31f1413ca0841e5acf99de03d844cb6",
       "max": 40,
       "style": "IPY_MODEL_dddb040396a54c90bbfed68e31943528",
       "value": 40
      }
     },
     "fdc6157d27654689b3212de487e0ea69": {
      "model_module": "@jupyter-widgets/controls",
      "model_module_version": "2.0.0",
      "model_name": "HTMLStyleModel",
      "state": {
       "description_width": "",
       "font_size": null,
       "text_color": null
      }
     },
     "fdfe8776917c4f7ea9e06d53da5b85d3": {
      "model_module": "@jupyter-widgets/controls",
      "model_module_version": "2.0.0",
      "model_name": "FloatProgressModel",
      "state": {
       "bar_style": "success",
       "layout": "IPY_MODEL_78b2afb28e644b9ea9741be8d66ef6f5",
       "max": 40,
       "style": "IPY_MODEL_0a31d143f4c74581a4adb279c995c662",
       "value": 40
      }
     },
     "fe707390883646819945e92ebd2468d5": {
      "model_module": "@jupyter-widgets/controls",
      "model_module_version": "2.0.0",
      "model_name": "HTMLModel",
      "state": {
       "layout": "IPY_MODEL_796b1d60887a42dbbfe8bf55e7a93b16",
       "style": "IPY_MODEL_88b0249ab1804ac898ac39a6e162d82e",
       "value": " 40/40 [02:34&lt;00:00,  1.94s/it]"
      }
     },
     "feb3cb62bf454e3394d273a02ff860bb": {
      "model_module": "@jupyter-widgets/controls",
      "model_module_version": "2.0.0",
      "model_name": "HTMLStyleModel",
      "state": {
       "description_width": "",
       "font_size": null,
       "text_color": null
      }
     },
     "ff13fc4b815c460cafe1f4f3c67935bd": {
      "model_module": "@jupyter-widgets/base",
      "model_module_version": "2.0.0",
      "model_name": "LayoutModel",
      "state": {}
     },
     "ff67459f42814928991f73ae2a4611ae": {
      "model_module": "@jupyter-widgets/base",
      "model_module_version": "2.0.0",
      "model_name": "LayoutModel",
      "state": {}
     },
     "ff9242f142b3401c8365837aa0219fc2": {
      "model_module": "@jupyter-widgets/controls",
      "model_module_version": "2.0.0",
      "model_name": "HBoxModel",
      "state": {
       "children": [
        "IPY_MODEL_69bd44fa931e44e993f09edd76b3c050",
        "IPY_MODEL_bf17ab2b1d9c42dbb03145149502a05f",
        "IPY_MODEL_63fd172c8a814305a89aee409c1b444f"
       ],
       "layout": "IPY_MODEL_8b4e997506fe4a7fb1c51f2563f14413"
      }
     },
     "ffc7b28c741747babff5849b69de6c18": {
      "model_module": "@jupyter-widgets/controls",
      "model_module_version": "2.0.0",
      "model_name": "ProgressStyleModel",
      "state": {
       "description_width": ""
      }
     }
    },
    "version_major": 2,
    "version_minor": 0
   }
  }
 },
 "nbformat": 4,
 "nbformat_minor": 5
}
