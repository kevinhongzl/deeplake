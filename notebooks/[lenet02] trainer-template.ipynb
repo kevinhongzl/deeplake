{
 "cells": [
  {
   "cell_type": "markdown",
   "metadata": {},
   "source": [
    "# [lenet02] BaseTrainer as a Trainer Template\n",
    "\n",
    "在這個教學裡面，會告訴你怎麼透過模板，製作出屬於自己的訓練流程。"
   ]
  },
  {
   "cell_type": "code",
   "execution_count": 1,
   "metadata": {},
   "outputs": [
    {
     "data": {
      "text/html": [
       "<style>\n",
       ".cell-output-ipywidget-background {\n",
       "    background-color: transparent !important;\n",
       "}\n",
       ":root {\n",
       "    --jp-widgets-color: var(--vscode-editor-foreground);\n",
       "    --jp-widgets-font-size: var(--vscode-editor-font-size);\n",
       "}  \n",
       "</style>\n"
      ],
      "text/plain": [
       "<IPython.core.display.HTML object>"
      ]
     },
     "metadata": {},
     "output_type": "display_data"
    }
   ],
   "source": [
    "%%html\n",
    "<style>\n",
    ".cell-output-ipywidget-background {\n",
    "    background-color: transparent !important;\n",
    "}\n",
    ":root {\n",
    "    --jp-widgets-color: var(--vscode-editor-foreground);\n",
    "    --jp-widgets-font-size: var(--vscode-editor-font-size);\n",
    "}  \n",
    "</style>"
   ]
  },
  {
   "cell_type": "markdown",
   "metadata": {},
   "source": [
    "## Introduction"
   ]
  },
  {
   "cell_type": "code",
   "execution_count": 2,
   "metadata": {},
   "outputs": [
    {
     "data": {
      "text/html": [
       "<style>pre { line-height: 125%; }\n",
       "td.linenos .normal { color: #3c4354; background-color: transparent; padding-left: 5px; padding-right: 5px; }\n",
       "span.linenos { color: #3c4354; background-color: transparent; padding-left: 5px; padding-right: 5px; }\n",
       "td.linenos .special { color: #3c4354; background-color: #ffffc0; padding-left: 5px; padding-right: 5px; }\n",
       "span.linenos.special { color: #3c4354; background-color: #ffffc0; padding-left: 5px; padding-right: 5px; }\n",
       ".highlight .hll { background-color: #6e7681 }\n",
       ".highlight { background: #1d2331; color: #d4d2c8 }\n",
       ".highlight .c { color: #7e8aa1 } /* Comment */\n",
       ".highlight .err { color: #f88f7f } /* Error */\n",
       ".highlight .esc { color: #d4d2c8 } /* Escape */\n",
       ".highlight .g { color: #d4d2c8 } /* Generic */\n",
       ".highlight .k { color: #FFAD66 } /* Keyword */\n",
       ".highlight .l { color: #D5FF80 } /* Literal */\n",
       ".highlight .n { color: #d4d2c8 } /* Name */\n",
       ".highlight .o { color: #FFAD66 } /* Operator */\n",
       ".highlight .x { color: #d4d2c8 } /* Other */\n",
       ".highlight .p { color: #d4d2c8 } /* Punctuation */\n",
       ".highlight .ch { color: #f88f7f; font-style: italic } /* Comment.Hashbang */\n",
       ".highlight .cm { color: #7e8aa1 } /* Comment.Multiline */\n",
       ".highlight .cp { color: #FFAD66; font-weight: bold } /* Comment.Preproc */\n",
       ".highlight .cpf { color: #7e8aa1 } /* Comment.PreprocFile */\n",
       ".highlight .c1 { color: #7e8aa1 } /* Comment.Single */\n",
       ".highlight .cs { color: #7e8aa1; font-style: italic } /* Comment.Special */\n",
       ".highlight .gd { color: #f88f7f; background-color: #3d1e20 } /* Generic.Deleted */\n",
       ".highlight .ge { color: #d4d2c8; font-style: italic } /* Generic.Emph */\n",
       ".highlight .ges { color: #d4d2c8 } /* Generic.EmphStrong */\n",
       ".highlight .gr { color: #f88f7f } /* Generic.Error */\n",
       ".highlight .gh { color: #d4d2c8 } /* Generic.Heading */\n",
       ".highlight .gi { color: #6ad4af; background-color: #19362c } /* Generic.Inserted */\n",
       ".highlight .go { color: #7e8aa1 } /* Generic.Output */\n",
       ".highlight .gp { color: #d4d2c8 } /* Generic.Prompt */\n",
       ".highlight .gs { color: #d4d2c8; font-weight: bold } /* Generic.Strong */\n",
       ".highlight .gu { color: #d4d2c8 } /* Generic.Subheading */\n",
       ".highlight .gt { color: #f88f7f } /* Generic.Traceback */\n",
       ".highlight .kc { color: #FFAD66 } /* Keyword.Constant */\n",
       ".highlight .kd { color: #FFAD66 } /* Keyword.Declaration */\n",
       ".highlight .kn { color: #FFAD66 } /* Keyword.Namespace */\n",
       ".highlight .kp { color: #FFAD66 } /* Keyword.Pseudo */\n",
       ".highlight .kr { color: #FFAD66 } /* Keyword.Reserved */\n",
       ".highlight .kt { color: #73D0FF } /* Keyword.Type */\n",
       ".highlight .ld { color: #D5FF80 } /* Literal.Date */\n",
       ".highlight .m { color: #DFBFFF } /* Literal.Number */\n",
       ".highlight .s { color: #D5FF80 } /* Literal.String */\n",
       ".highlight .na { color: #FFD173 } /* Name.Attribute */\n",
       ".highlight .nb { color: #FFD173 } /* Name.Builtin */\n",
       ".highlight .nc { color: #73D0FF } /* Name.Class */\n",
       ".highlight .no { color: #FFD173 } /* Name.Constant */\n",
       ".highlight .nd { color: #7e8aa1; font-weight: bold; font-style: italic } /* Name.Decorator */\n",
       ".highlight .ni { color: #95E6CB } /* Name.Entity */\n",
       ".highlight .ne { color: #73D0FF } /* Name.Exception */\n",
       ".highlight .nf { color: #FFD173 } /* Name.Function */\n",
       ".highlight .nl { color: #d4d2c8 } /* Name.Label */\n",
       ".highlight .nn { color: #d4d2c8 } /* Name.Namespace */\n",
       ".highlight .nx { color: #d4d2c8 } /* Name.Other */\n",
       ".highlight .py { color: #FFD173 } /* Name.Property */\n",
       ".highlight .nt { color: #5CCFE6 } /* Name.Tag */\n",
       ".highlight .nv { color: #d4d2c8 } /* Name.Variable */\n",
       ".highlight .ow { color: #FFAD66 } /* Operator.Word */\n",
       ".highlight .pm { color: #d4d2c8 } /* Punctuation.Marker */\n",
       ".highlight .w { color: #d4d2c8 } /* Text.Whitespace */\n",
       ".highlight .mb { color: #DFBFFF } /* Literal.Number.Bin */\n",
       ".highlight .mf { color: #DFBFFF } /* Literal.Number.Float */\n",
       ".highlight .mh { color: #DFBFFF } /* Literal.Number.Hex */\n",
       ".highlight .mi { color: #DFBFFF } /* Literal.Number.Integer */\n",
       ".highlight .mo { color: #DFBFFF } /* Literal.Number.Oct */\n",
       ".highlight .sa { color: #F29E74 } /* Literal.String.Affix */\n",
       ".highlight .sb { color: #D5FF80 } /* Literal.String.Backtick */\n",
       ".highlight .sc { color: #D5FF80 } /* Literal.String.Char */\n",
       ".highlight .dl { color: #D5FF80 } /* Literal.String.Delimiter */\n",
       ".highlight .sd { color: #7e8aa1 } /* Literal.String.Doc */\n",
       ".highlight .s2 { color: #D5FF80 } /* Literal.String.Double */\n",
       ".highlight .se { color: #95E6CB } /* Literal.String.Escape */\n",
       ".highlight .sh { color: #D5FF80 } /* Literal.String.Heredoc */\n",
       ".highlight .si { color: #95E6CB } /* Literal.String.Interpol */\n",
       ".highlight .sx { color: #95E6CB } /* Literal.String.Other */\n",
       ".highlight .sr { color: #95E6CB } /* Literal.String.Regex */\n",
       ".highlight .s1 { color: #D5FF80 } /* Literal.String.Single */\n",
       ".highlight .ss { color: #DFBFFF } /* Literal.String.Symbol */\n",
       ".highlight .bp { color: #5CCFE6 } /* Name.Builtin.Pseudo */\n",
       ".highlight .fm { color: #FFD173 } /* Name.Function.Magic */\n",
       ".highlight .vc { color: #d4d2c8 } /* Name.Variable.Class */\n",
       ".highlight .vg { color: #d4d2c8 } /* Name.Variable.Global */\n",
       ".highlight .vi { color: #d4d2c8 } /* Name.Variable.Instance */\n",
       ".highlight .vm { color: #d4d2c8 } /* Name.Variable.Magic */\n",
       ".highlight .il { color: #DFBFFF } /* Literal.Number.Integer.Long */</style>"
      ],
      "text/plain": [
       "<IPython.core.display.HTML object>"
      ]
     },
     "metadata": {},
     "output_type": "display_data"
    },
    {
     "data": {
      "text/html": [
       "<div class=\"highlight\"><pre><span></span><span class=\"k\">class</span> <span class=\"nc\">BaseTrainer</span><span class=\"p\">:</span>\n",
       "    <span class=\"k\">def</span> <span class=\"fm\">__init__</span><span class=\"p\">(</span>\n",
       "        <span class=\"bp\">self</span><span class=\"p\">,</span>\n",
       "        <span class=\"n\">max_iter</span><span class=\"p\">:</span> <span class=\"nb\">int</span> <span class=\"o\">=</span> <span class=\"mi\">10000</span><span class=\"p\">,</span>\n",
       "        <span class=\"n\">eval_step</span><span class=\"p\">:</span> <span class=\"nb\">int</span> <span class=\"o\">=</span> <span class=\"mi\">200</span><span class=\"p\">,</span>\n",
       "        <span class=\"n\">metric</span><span class=\"p\">:</span> <span class=\"n\">Metric</span> <span class=\"o\">|</span> <span class=\"kc\">None</span> <span class=\"o\">=</span> <span class=\"kc\">None</span><span class=\"p\">,</span>\n",
       "        <span class=\"n\">validator</span><span class=\"p\">:</span> <span class=\"n\">BaseValidator</span> <span class=\"o\">|</span> <span class=\"kc\">None</span> <span class=\"o\">=</span> <span class=\"kc\">None</span><span class=\"p\">,</span>\n",
       "        <span class=\"n\">checkpoint_dir</span><span class=\"p\">:</span> <span class=\"nb\">str</span> <span class=\"o\">=</span> <span class=\"s2\">&quot;./checkpoints/&quot;</span><span class=\"p\">,</span>\n",
       "        <span class=\"n\">device</span><span class=\"p\">:</span> <span class=\"n\">Literal</span><span class=\"p\">[</span><span class=\"s2\">&quot;cuda&quot;</span><span class=\"p\">,</span> <span class=\"s2\">&quot;cpu&quot;</span><span class=\"p\">]</span> <span class=\"o\">=</span> <span class=\"s2\">&quot;cuda&quot;</span><span class=\"p\">,</span>\n",
       "        <span class=\"n\">unpack_item</span><span class=\"p\">:</span> <span class=\"n\">Callable</span> <span class=\"o\">|</span> <span class=\"n\">Literal</span><span class=\"p\">[</span><span class=\"s2\">&quot;monai&quot;</span><span class=\"p\">,</span> <span class=\"s2\">&quot;pytorch&quot;</span><span class=\"p\">]</span> <span class=\"o\">=</span> <span class=\"s2\">&quot;pytorch&quot;</span><span class=\"p\">,</span>\n",
       "        <span class=\"n\">dev</span><span class=\"p\">:</span> <span class=\"nb\">bool</span> <span class=\"o\">=</span> <span class=\"kc\">False</span><span class=\"p\">,</span>\n",
       "    <span class=\"p\">):</span>\n",
       "        <span class=\"bp\">self</span><span class=\"o\">.</span><span class=\"n\">max_iter</span> <span class=\"o\">=</span> <span class=\"n\">max_iter</span>\n",
       "        <span class=\"bp\">self</span><span class=\"o\">.</span><span class=\"n\">eval_step</span> <span class=\"o\">=</span> <span class=\"n\">eval_step</span>\n",
       "        <span class=\"bp\">self</span><span class=\"o\">.</span><span class=\"n\">checkpoint_dir</span> <span class=\"o\">=</span> <span class=\"n\">checkpoint_dir</span>\n",
       "        <span class=\"bp\">self</span><span class=\"o\">.</span><span class=\"n\">device</span> <span class=\"o\">=</span> <span class=\"n\">device</span>\n",
       "\n",
       "        <span class=\"bp\">self</span><span class=\"o\">.</span><span class=\"n\">pbar_description</span> <span class=\"o\">=</span> <span class=\"s2\">&quot;Training (</span><span class=\"si\">{step}</span><span class=\"s2\"> / </span><span class=\"si\">{max_iter}</span><span class=\"s2\"> Steps) (loss=</span><span class=\"si\">{loss:2.5f}</span><span class=\"s2\">)&quot;</span>\n",
       "\n",
       "        <span class=\"c1\"># Setup validator or metric used during training</span>\n",
       "        <span class=\"c1\"># 設定驗證器</span>\n",
       "        <span class=\"bp\">self</span><span class=\"o\">.</span><span class=\"n\">metric</span> <span class=\"o\">=</span> <span class=\"n\">metric</span>\n",
       "        <span class=\"bp\">self</span><span class=\"o\">.</span><span class=\"n\">validator</span> <span class=\"o\">=</span> <span class=\"n\">validator</span> <span class=\"k\">if</span> <span class=\"n\">validator</span> <span class=\"k\">else</span> <span class=\"n\">BaseValidator</span><span class=\"p\">(</span><span class=\"bp\">self</span><span class=\"o\">.</span><span class=\"n\">metric</span><span class=\"p\">,</span> <span class=\"n\">is_train</span><span class=\"o\">=</span><span class=\"kc\">True</span><span class=\"p\">,</span> <span class=\"n\">device</span><span class=\"o\">=</span><span class=\"bp\">self</span><span class=\"o\">.</span><span class=\"n\">device</span><span class=\"p\">)</span>\n",
       "        <span class=\"bp\">self</span><span class=\"o\">.</span><span class=\"n\">metric</span> <span class=\"o\">=</span> <span class=\"bp\">self</span><span class=\"o\">.</span><span class=\"n\">validator</span><span class=\"o\">.</span><span class=\"n\">metric</span>\n",
       "\n",
       "        <span class=\"c1\"># The function to unpack the batch into images and targets (based on the __getitem___ of your dataset)</span>\n",
       "        <span class=\"c1\"># 設定打開 batch 為 images 和 targets 的函式</span>\n",
       "        <span class=\"k\">if</span> <span class=\"n\">unpack_item</span> <span class=\"o\">==</span> <span class=\"s2\">&quot;pytorch&quot;</span><span class=\"p\">:</span>\n",
       "            <span class=\"bp\">self</span><span class=\"o\">.</span><span class=\"n\">unpack_item</span> <span class=\"o\">=</span> <span class=\"k\">lambda</span> <span class=\"n\">batch</span><span class=\"p\">:</span> <span class=\"p\">(</span><span class=\"n\">batch</span><span class=\"p\">[</span><span class=\"mi\">0</span><span class=\"p\">]</span><span class=\"o\">.</span><span class=\"n\">to</span><span class=\"p\">(</span><span class=\"bp\">self</span><span class=\"o\">.</span><span class=\"n\">device</span><span class=\"p\">),</span> <span class=\"n\">batch</span><span class=\"p\">[</span><span class=\"mi\">1</span><span class=\"p\">]</span><span class=\"o\">.</span><span class=\"n\">to</span><span class=\"p\">(</span><span class=\"bp\">self</span><span class=\"o\">.</span><span class=\"n\">device</span><span class=\"p\">))</span>\n",
       "        <span class=\"k\">elif</span> <span class=\"n\">unpack_item</span> <span class=\"o\">==</span> <span class=\"s2\">&quot;monai&quot;</span><span class=\"p\">:</span>\n",
       "            <span class=\"bp\">self</span><span class=\"o\">.</span><span class=\"n\">unpack_item</span> <span class=\"o\">=</span> <span class=\"k\">lambda</span> <span class=\"n\">batch</span><span class=\"p\">:</span> <span class=\"p\">(</span><span class=\"n\">batch</span><span class=\"p\">[</span><span class=\"s2\">&quot;image&quot;</span><span class=\"p\">]</span><span class=\"o\">.</span><span class=\"n\">to</span><span class=\"p\">(</span><span class=\"bp\">self</span><span class=\"o\">.</span><span class=\"n\">device</span><span class=\"p\">),</span> <span class=\"n\">batch</span><span class=\"p\">[</span><span class=\"s2\">&quot;label&quot;</span><span class=\"p\">]</span><span class=\"o\">.</span><span class=\"n\">to</span><span class=\"p\">(</span><span class=\"bp\">self</span><span class=\"o\">.</span><span class=\"n\">device</span><span class=\"p\">))</span>\n",
       "        <span class=\"k\">else</span><span class=\"p\">:</span>\n",
       "            <span class=\"bp\">self</span><span class=\"o\">.</span><span class=\"n\">unpack_item</span> <span class=\"o\">=</span> <span class=\"n\">unpack_item</span>\n",
       "\n",
       "        <span class=\"c1\"># developer mode</span>\n",
       "        <span class=\"c1\"># 開發模式</span>\n",
       "        <span class=\"k\">if</span> <span class=\"n\">dev</span><span class=\"p\">:</span>\n",
       "            <span class=\"bp\">self</span><span class=\"o\">.</span><span class=\"n\">max_iter</span> <span class=\"o\">=</span> <span class=\"mi\">10</span>\n",
       "            <span class=\"bp\">self</span><span class=\"o\">.</span><span class=\"n\">eval_step</span> <span class=\"o\">=</span> <span class=\"mi\">3</span>\n",
       "            <span class=\"bp\">self</span><span class=\"o\">.</span><span class=\"n\">checkpoint_dir</span> <span class=\"o\">=</span> <span class=\"s2\">&quot;./debug/&quot;</span>\n",
       "            <span class=\"n\">warnings</span><span class=\"o\">.</span><span class=\"n\">warn</span><span class=\"p\">(</span>\n",
       "                <span class=\"s2\">&quot;Trainer will be executed under developer mode. &quot;</span>\n",
       "                <span class=\"sa\">f</span><span class=\"s2\">&quot;max_iter = </span><span class=\"si\">{</span><span class=\"bp\">self</span><span class=\"o\">.</span><span class=\"n\">max_iter</span><span class=\"si\">}</span><span class=\"s2\">, &quot;</span>\n",
       "                <span class=\"sa\">f</span><span class=\"s2\">&quot;eval_step = </span><span class=\"si\">{</span><span class=\"bp\">self</span><span class=\"o\">.</span><span class=\"n\">eval_step</span><span class=\"si\">}</span><span class=\"s2\">, &quot;</span>\n",
       "                <span class=\"sa\">f</span><span class=\"s2\">&quot;checkpoint_dir = </span><span class=\"si\">{</span><span class=\"bp\">self</span><span class=\"o\">.</span><span class=\"n\">checkpoint_dir</span><span class=\"si\">}</span><span class=\"s2\"> &quot;</span><span class=\"p\">,</span>\n",
       "                <span class=\"ne\">UserWarning</span><span class=\"p\">,</span>\n",
       "            <span class=\"p\">)</span>\n",
       "\n",
       "\n",
       "\n",
       "    <span class=\"k\">def</span> <span class=\"nf\">train</span><span class=\"p\">(</span>\n",
       "        <span class=\"bp\">self</span><span class=\"p\">,</span>\n",
       "        <span class=\"n\">module</span><span class=\"p\">:</span> <span class=\"n\">nn</span><span class=\"o\">.</span><span class=\"n\">Module</span><span class=\"p\">,</span>\n",
       "        <span class=\"n\">updater</span><span class=\"p\">:</span> <span class=\"n\">BaseUpdater</span><span class=\"p\">,</span>\n",
       "        <span class=\"o\">*</span><span class=\"p\">,</span>\n",
       "        <span class=\"n\">train_dataloader</span><span class=\"p\">:</span> <span class=\"n\">DataLoader</span> <span class=\"o\">|</span> <span class=\"kc\">None</span> <span class=\"o\">=</span> <span class=\"kc\">None</span><span class=\"p\">,</span>\n",
       "        <span class=\"n\">val_dataloader</span><span class=\"p\">:</span> <span class=\"n\">DataLoader</span> <span class=\"o\">|</span> <span class=\"kc\">None</span> <span class=\"o\">=</span> <span class=\"kc\">None</span><span class=\"p\">,</span>\n",
       "    <span class=\"p\">):</span>\n",
       "        <span class=\"bp\">self</span><span class=\"o\">.</span><span class=\"n\">show_training_info</span><span class=\"p\">(</span><span class=\"n\">module</span><span class=\"p\">,</span> <span class=\"n\">train_dataloader</span><span class=\"o\">=</span><span class=\"n\">train_dataloader</span><span class=\"p\">,</span> <span class=\"n\">val_dataloader</span><span class=\"o\">=</span><span class=\"n\">val_dataloader</span><span class=\"p\">)</span>\n",
       "\n",
       "        <span class=\"c1\"># Initalize progress bar and logger</span>\n",
       "        <span class=\"c1\"># 初始化進度條和紀錄器</span>\n",
       "        <span class=\"n\">train_pbar</span> <span class=\"o\">=</span> <span class=\"n\">tqdm</span><span class=\"p\">(</span><span class=\"nb\">range</span><span class=\"p\">(</span><span class=\"bp\">self</span><span class=\"o\">.</span><span class=\"n\">max_iter</span><span class=\"p\">),</span> <span class=\"n\">dynamic_ncols</span><span class=\"o\">=</span><span class=\"kc\">True</span><span class=\"p\">)</span>\n",
       "        <span class=\"n\">logger</span> <span class=\"o\">=</span> <span class=\"n\">TrainLogger</span><span class=\"p\">(</span><span class=\"bp\">self</span><span class=\"o\">.</span><span class=\"n\">checkpoint_dir</span><span class=\"p\">)</span>\n",
       "\n",
       "        <span class=\"c1\"># Initial stage. Note: updater(module) checks the module and returns a partial func of updating parameters.</span>\n",
       "        <span class=\"c1\"># 初始化訓練狀態和更新函式</span>\n",
       "        <span class=\"n\">module</span><span class=\"o\">.</span><span class=\"n\">to</span><span class=\"p\">(</span><span class=\"bp\">self</span><span class=\"o\">.</span><span class=\"n\">device</span><span class=\"p\">)</span>\n",
       "        <span class=\"n\">best_metric</span> <span class=\"o\">=</span> <span class=\"mi\">0</span>\n",
       "        <span class=\"n\">module_update</span> <span class=\"o\">=</span> <span class=\"n\">updater</span><span class=\"p\">(</span><span class=\"n\">module</span><span class=\"p\">)</span>\n",
       "\n",
       "        <span class=\"k\">for</span> <span class=\"n\">step</span> <span class=\"ow\">in</span> <span class=\"n\">train_pbar</span><span class=\"p\">:</span>\n",
       "            <span class=\"n\">module</span><span class=\"o\">.</span><span class=\"n\">train</span><span class=\"p\">()</span>\n",
       "\n",
       "            <span class=\"c1\"># Backpropagation</span>\n",
       "            <span class=\"c1\"># 反向傳播</span>\n",
       "            <span class=\"n\">batch</span> <span class=\"o\">=</span> <span class=\"nb\">next</span><span class=\"p\">(</span><span class=\"nb\">iter</span><span class=\"p\">(</span><span class=\"n\">train_dataloader</span><span class=\"p\">))</span>\n",
       "            <span class=\"n\">images</span><span class=\"p\">,</span> <span class=\"n\">targets</span> <span class=\"o\">=</span> <span class=\"bp\">self</span><span class=\"o\">.</span><span class=\"n\">unpack_item</span><span class=\"p\">(</span><span class=\"n\">batch</span><span class=\"p\">)</span>\n",
       "            <span class=\"n\">loss</span> <span class=\"o\">=</span> <span class=\"n\">module_update</span><span class=\"p\">(</span><span class=\"n\">images</span><span class=\"p\">,</span> <span class=\"n\">targets</span><span class=\"p\">)</span>\n",
       "\n",
       "            <span class=\"c1\"># Update progress bar and summary writer</span>\n",
       "            <span class=\"c1\"># 紀錄目前訓練狀態</span>\n",
       "            <span class=\"n\">info</span> <span class=\"o\">=</span> <span class=\"p\">{</span><span class=\"s2\">&quot;step&quot;</span><span class=\"p\">:</span> <span class=\"n\">step</span> <span class=\"o\">+</span> <span class=\"mi\">1</span><span class=\"p\">,</span> <span class=\"s2\">&quot;max_iter&quot;</span><span class=\"p\">:</span> <span class=\"bp\">self</span><span class=\"o\">.</span><span class=\"n\">max_iter</span><span class=\"p\">,</span> <span class=\"s2\">&quot;loss&quot;</span><span class=\"p\">:</span> <span class=\"n\">loss</span><span class=\"p\">}</span>\n",
       "            <span class=\"n\">train_pbar</span><span class=\"o\">.</span><span class=\"n\">set_description</span><span class=\"p\">(</span><span class=\"bp\">self</span><span class=\"o\">.</span><span class=\"n\">pbar_description</span><span class=\"o\">.</span><span class=\"n\">format</span><span class=\"p\">(</span><span class=\"o\">**</span><span class=\"n\">info</span><span class=\"p\">))</span>\n",
       "            <span class=\"n\">logger</span><span class=\"o\">.</span><span class=\"n\">log_train</span><span class=\"p\">(</span><span class=\"n\">module</span><span class=\"o\">.</span><span class=\"n\">criterion</span><span class=\"p\">,</span> <span class=\"n\">loss</span><span class=\"p\">,</span> <span class=\"n\">step</span><span class=\"p\">)</span>\n",
       "\n",
       "            <span class=\"c1\"># Validation</span>\n",
       "            <span class=\"c1\"># 驗證目前的網路訓練</span>\n",
       "            <span class=\"k\">if</span> <span class=\"n\">val_dataloader</span> <span class=\"ow\">and</span> <span class=\"p\">((</span><span class=\"n\">step</span> <span class=\"o\">+</span> <span class=\"mi\">1</span><span class=\"p\">)</span> <span class=\"o\">%</span> <span class=\"bp\">self</span><span class=\"o\">.</span><span class=\"n\">eval_step</span> <span class=\"o\">==</span> <span class=\"mi\">0</span><span class=\"p\">)</span> <span class=\"ow\">or</span> <span class=\"p\">(</span><span class=\"n\">step</span> <span class=\"o\">==</span> <span class=\"bp\">self</span><span class=\"o\">.</span><span class=\"n\">max_iter</span> <span class=\"o\">-</span> <span class=\"mi\">1</span><span class=\"p\">):</span>\n",
       "                <span class=\"n\">val_metrics</span> <span class=\"o\">=</span> <span class=\"bp\">self</span><span class=\"o\">.</span><span class=\"n\">validator</span><span class=\"p\">(</span><span class=\"n\">module</span><span class=\"p\">,</span> <span class=\"n\">val_dataloader</span><span class=\"p\">,</span> <span class=\"n\">global_step</span><span class=\"o\">=</span><span class=\"n\">step</span><span class=\"p\">)</span>\n",
       "                <span class=\"n\">logger</span><span class=\"o\">.</span><span class=\"n\">log_val</span><span class=\"p\">(</span><span class=\"bp\">self</span><span class=\"o\">.</span><span class=\"n\">metric</span><span class=\"p\">,</span> <span class=\"n\">suffix</span><span class=\"o\">=</span><span class=\"p\">[</span><span class=\"s2\">&quot;Average&quot;</span><span class=\"p\">],</span> <span class=\"n\">value</span><span class=\"o\">=</span><span class=\"p\">(</span><span class=\"n\">val_metrics</span><span class=\"p\">,),</span> <span class=\"n\">step</span><span class=\"o\">=</span><span class=\"n\">step</span><span class=\"p\">)</span>\n",
       "\n",
       "                <span class=\"c1\"># Select validation metric</span>\n",
       "                <span class=\"c1\"># 指定驗證分數</span>\n",
       "                <span class=\"k\">if</span> <span class=\"n\">val_metrics</span> <span class=\"ow\">is</span> <span class=\"ow\">not</span> <span class=\"n\">np</span><span class=\"o\">.</span><span class=\"n\">nan</span><span class=\"p\">:</span>\n",
       "                    <span class=\"n\">val_metric</span> <span class=\"o\">=</span> <span class=\"n\">val_metrics</span>\n",
       "\n",
       "                <span class=\"c1\"># Update best metric</span>\n",
       "                <span class=\"c1\"># 更新驗證分數</span>\n",
       "                <span class=\"k\">if</span> <span class=\"n\">val_metric</span> <span class=\"o\">&gt;</span> <span class=\"n\">best_metric</span><span class=\"p\">:</span>\n",
       "                    <span class=\"n\">module</span><span class=\"o\">.</span><span class=\"n\">save</span><span class=\"p\">(</span><span class=\"bp\">self</span><span class=\"o\">.</span><span class=\"n\">checkpoint_dir</span><span class=\"p\">)</span>\n",
       "                    <span class=\"n\">logger</span><span class=\"o\">.</span><span class=\"n\">success</span><span class=\"p\">(</span><span class=\"sa\">f</span><span class=\"s2\">&quot;Model saved! Validation: (New) </span><span class=\"si\">{</span><span class=\"n\">val_metric</span><span class=\"si\">:</span><span class=\"s2\">2.5f</span><span class=\"si\">}</span><span class=\"s2\"> &gt; (Old) </span><span class=\"si\">{</span><span class=\"n\">best_metric</span><span class=\"si\">:</span><span class=\"s2\">2.5f</span><span class=\"si\">}</span><span class=\"s2\">&quot;</span><span class=\"p\">)</span>\n",
       "                    <span class=\"n\">best_metric</span> <span class=\"o\">=</span> <span class=\"n\">val_metric</span>\n",
       "                <span class=\"k\">else</span><span class=\"p\">:</span>\n",
       "                    <span class=\"n\">logger</span><span class=\"o\">.</span><span class=\"n\">info</span><span class=\"p\">(</span><span class=\"sa\">f</span><span class=\"s2\">&quot;No improvement. Validation: (New) </span><span class=\"si\">{</span><span class=\"n\">val_metric</span><span class=\"si\">:</span><span class=\"s2\">2.5f</span><span class=\"si\">}</span><span class=\"s2\"> &lt;= (Old) </span><span class=\"si\">{</span><span class=\"n\">best_metric</span><span class=\"si\">:</span><span class=\"s2\">2.5f</span><span class=\"si\">}</span><span class=\"s2\">&quot;</span><span class=\"p\">)</span>\n",
       "</pre></div>\n"
      ],
      "text/plain": [
       "<IPython.core.display.HTML object>"
      ]
     },
     "metadata": {},
     "output_type": "display_data"
    }
   ],
   "source": [
    "# Import BaseTrainer\n",
    "\n",
    "import sys\n",
    "from pathlib import Path\n",
    "sys.path.append(str(Path.cwd().parent))\n",
    "\n",
    "from modules.base.trainer import BaseTrainer\n",
    "from print_source import print_source\n",
    "\n",
    "print_source(BaseTrainer, omit=[\"show_training_info\", \"get_alias\"])"
   ]
  },
  {
   "cell_type": "markdown",
   "metadata": {},
   "source": [
    "### ChatGPT 和我的說明\n",
    "\n",
    "這裡我們介紹了`BaseTrainer`類別的主要結構（為簡潔起見，省略了一些輔助方法如`show_training_info()`）。\n",
    "\n",
    "在`__init__()`方法中，我們設置了幾個關鍵的訓練參數，例如`max_iter`（最大訓練迭代次數）和`checkpoint_dir`（保存訓練檢查點的目錄）。\n",
    "\n",
    "#### 主要組件：\n",
    "1. **Metric 和 Validator:**\n",
    "   * `metric`參數設計為一個簡便的語法糖，方便通過`validator(metric)`來創建驗證器。這樣可以更簡單地指定評估指標。\n",
    "   * 如果提供了`metric`，系統會自動創建一個`validator`實例（如果`validator`沒有被傳入）。\n",
    "   * 如果同時提供了`metric`和`validator`，那麼`validator`將優先執行，而`metric`則會成為`validator`配置的一部分。\n",
    "\n",
    "2. **解包項目（`unpack_item`）:**\n",
    "   `unpack_item`參數提供了解析資料集批次中圖片和標籤的方法。預設情況下，支持兩種常見格式：\n",
    "   - **Pytorch:** 適用於一般的PyTorch資料集，其中項目通常是圖片和標籤的元組。\n",
    "   - **Monai:** 適用於醫學影像資料集，其中項目可能是帶有`image`和`label`鍵的字典。\n",
    "   \n",
    "   如果你的資料集不符合這些模式，你可以提供自定義的`unpack_item`函數，以匹配你的資料結構。\n",
    "\n",
    "#### `train()` 中的訓練過程：\n",
    "在`train()`方法中，核心的訓練循環被管理。一般的工作流程遵循這樣的模式：**更新（反向傳播）-> 記錄 -> 驗證**，重複進行直到達到指定的迭代次數（`max_iter`）。\n",
    "\n",
    "- **更新（反向傳播）:** 在這個步驟中，模型的參數根據訓練資料進行更新。\n",
    "  - 更新由`module_update`函數處理，該函數是從提供的`updater`產生的。我們首先透過 `module_update = updater(module)` 在`updater`中記錄`module`，得到接受 image 和 label 的 `module_update` 在過程中用來計算梯度、更新參數。\n",
    "  - `batch = next(iter(train_dataloader))` 在以step為單位的情況下是一個取巧的做法，每一步都重新生成 dataloader 的迭代器。這依賴於訓練的 dataloader 打開 `shuffle=True` 這個選項。如果 `shuffle=False` 那麼每次重新生成後，讀取一次的樣本都是第一個樣本，就沒有辦法完成訓練。\n",
    "\n",
    "- **記錄:** 每次更新後，會記錄當前的訓練狀態（如損失值），這有助於監控訓練進度。\n",
    "\n",
    "- **驗證:** 定期或在訓練結束時，會使用驗證資料集（如果提供了）評估模型的性能。根據驗證指標，表現最佳的模型會被保存，這確保你保留了對未知資料泛化能力最強的模型。\n",
    "\n",
    "這種結構確保了訓練模型的過程清晰且模塊化，允許在資料處理和訓練循環管理方面具有靈活性。"
   ]
  },
  {
   "cell_type": "markdown",
   "metadata": {},
   "source": [
    "## Example\n",
    "\n",
    "這邊我們示範怎麼透過繼承 BaseTrainer 的方式完成一個自己的 CustomTrainer。\n",
    "\n",
    "我們想做這三件事：\n",
    "1. 用 loss 取代 accuracy 當作驗證的 metric\n",
    "2. 用 epoch 取代 step 當作訓練次數的單位\n",
    "3. 不要紀錄訓練的 loss，也不要顯示一開始的訓練資訊\n",
    "\n",
    "對應的註解用 `# >>` 表示。"
   ]
  },
  {
   "cell_type": "code",
   "execution_count": 3,
   "metadata": {},
   "outputs": [],
   "source": [
    "from __future__ import annotations\n",
    "\n",
    "from torch import nn\n",
    "from torch.utils.data import DataLoader\n",
    "\n",
    "import warnings\n",
    "import sys\n",
    "from pathlib import Path\n",
    "sys.path.append(str(Path.cwd().parent))\n",
    "\n",
    "from tqdm.auto import tqdm\n",
    "import numpy as np\n",
    "\n",
    "from modules.base.trainer import BaseTrainer, TrainLogger\n",
    "from modules.base.updater import BaseUpdater\n",
    "from modules.base.validator import BaseValidator\n",
    "\n",
    "class CustomTrainer(BaseTrainer):\n",
    "    def __init__(\n",
    "        self,\n",
    "        max_epoch: int = 5,\n",
    "        eval_epoch: int = 1,\n",
    "        criterion = None,\n",
    "        checkpoint_dir: str = \"./checkpoints/\",\n",
    "    ):\n",
    "        validator = BaseValidator(criterion, output_infer=False)    # >> 1. loss\n",
    "        super().__init__(1, 1, None, validator, checkpoint_dir, \"cuda\", \"pytorch\", False)\n",
    "        \n",
    "        self.max_epoch = max_epoch # >> 2. epoch\n",
    "        self.eval_epoch = eval_epoch # >> 2. epoch\n",
    "        self.pbar_description = \"Training (Epochs = {epoch}) (loss={loss:2.5f})\" # >> 1. loss\n",
    "\n",
    "\n",
    "    def train(\n",
    "        self,\n",
    "        module: nn.Module,\n",
    "        updater: BaseUpdater,\n",
    "        *,\n",
    "        train_dataloader: DataLoader | None = None,\n",
    "        val_dataloader: DataLoader | None = None,\n",
    "    ):\n",
    "        # >> 3. 不顯示訓練資訊\n",
    "\n",
    "        # 初始化進度條和紀錄器\n",
    "        train_pbar = tqdm(range(self.max_epoch), dynamic_ncols=True) # >> 2. epoch\n",
    "        logger = TrainLogger(self.checkpoint_dir)\n",
    "\n",
    "        # 初始化訓練狀態和更新函式\n",
    "        module.to(self.device)\n",
    "        best_metric = np.inf    # 1. loss\n",
    "        module_update = updater(module)\n",
    "\n",
    "        for epoch in train_pbar:    # >> 2. epoch\n",
    "            for batch in train_dataloader:  # >> 2. epoch\n",
    "                module.train()\n",
    "\n",
    "                # 反向傳播\n",
    "                batch = next(iter(train_dataloader))\n",
    "                images, targets = self.unpack_item(batch)\n",
    "                loss = module_update(images, targets)\n",
    "\n",
    "                # 紀錄目前訓練狀態\n",
    "                info = {\"epoch\": epoch, \"loss\": loss}\n",
    "                train_pbar.set_description(self.pbar_description.format(**info))\n",
    "                # >> 3. 不紀錄訓練 loss\n",
    "\n",
    "            # 驗證目前的網路訓練\n",
    "            if val_dataloader and ((epoch + 1) % self.eval_epoch == 0) or (epoch == self.max_epoch - 1): # >> 2. epoch\n",
    "                val_metrics = self.validator(module, val_dataloader, global_step=None)\n",
    "\n",
    "                # 指定驗證分數\n",
    "                if val_metrics is not np.nan:\n",
    "                    val_metric = val_metrics\n",
    "\n",
    "                # 更新驗證分數\n",
    "                if val_metric < best_metric:    # >> 1. loss (記錄 loss 小的)\n",
    "                    module.save(self.checkpoint_dir)\n",
    "                    logger.success(f\"Model saved! Validation: (New) {val_metric:2.5f} < (Old) {best_metric:2.5f}\") # >> 1. loss 調整顯示資訊\n",
    "                    best_metric = val_metric\n",
    "                else:\n",
    "                    logger.info(f\"No improvement. Validation: (New) {val_metric:2.5f} >= (Old) {best_metric:2.5f}\") # >> 1. loss 調整顯示資訊"
   ]
  },
  {
   "cell_type": "markdown",
   "metadata": {},
   "source": [
    "### ChatGPT 的說明\n",
    "\n",
    "**修改說明：**\n",
    "\n",
    "1. **基於 Loss 的訓練和驗證：**\n",
    "   - 新的類別`CustomTrainer`現在專注於最小化損失（loss），而不是最大化驗證指標。\n",
    "   - 驗證器（validator）使用`criterion`進行初始化，並設置`output_infer=False`，表示驗證將基於損失進行，所以在`validator`的模型輸出是透過`forward`得到。\n",
    "   - `best_metric`現在初始化為`np.inf`（因為我們要最小化損失），保存最佳模型的條件是當前的驗證損失是否低於記錄的最佳損失（`val_metric < best_metric`）。\n",
    "\n",
    "2. **基於 Epoch 的訓練：**\n",
    "   - 訓練迴圈已修改為基於 epoch（`max_epoch` 和 `eval_epoch`）而不是迭代次數。`max_epoch`參數定義了總共的 epoch 數，而`eval_epoch`決定驗證的頻率。\n",
    "   - 進度追蹤也調整為顯示 epoch 而非步驟，進度條`train_pbar`現在基於`self.max_epoch`進行迴圈，而不是`self.max_iter`。\n",
    "   - 進度條的描述已更新為顯示當前的 epoch 和損失值。\n",
    "\n",
    "3. **簡化的紀錄：**\n",
    "   - `train()`方法中省略了調用基類的`show_training_info()`，這意味著訓練的細節不會在開始時顯示。\n",
    "   - 在訓練過程中，損失值會被追蹤並顯示在進度條上，但不會被記錄（移除了`logger.log_train()`）。同樣，訓練損失的記錄也被省略。\n",
    "\n",
    "這些修改反映了從基於步驟的訓練轉向基於 epoch 的訓練，重點是最小化損失，並簡化了日誌記錄和輸出處理。"
   ]
  },
  {
   "cell_type": "markdown",
   "metadata": {},
   "source": [
    "簡潔起見，我們把資料集和網路結構分別放在 `mnist_dataloaders.py` 和 `lenet.py` 裡面。"
   ]
  },
  {
   "cell_type": "code",
   "execution_count": 4,
   "metadata": {},
   "outputs": [
    {
     "name": "stdout",
     "output_type": "stream",
     "text": [
      "Train:\n"
     ]
    },
    {
     "data": {
      "application/vnd.jupyter.widget-view+json": {
       "model_id": "46967abacede41bd8231765c8c09a1d8",
       "version_major": 2,
       "version_minor": 0
      },
      "text/plain": [
       "  0%|          | 0/5 [00:00<?, ?it/s]"
      ]
     },
     "metadata": {},
     "output_type": "display_data"
    },
    {
     "data": {
      "application/vnd.jupyter.widget-view+json": {
       "model_id": "c4fd04012aa3486d95007d1e949e2f0a",
       "version_major": 2,
       "version_minor": 0
      },
      "text/plain": [
       "  0%|          | 0/47 [00:00<?, ?it/s]"
      ]
     },
     "metadata": {},
     "output_type": "display_data"
    },
    {
     "name": "stdout",
     "output_type": "stream",
     "text": [
      "\u001b[32m2024-08-19 11:24:58.115\u001b[0m | \u001b[32m\u001b[1mSUCCESS \u001b[0m | \u001b[36mmodules.base.trainer\u001b[0m:\u001b[36msuccess\u001b[0m:\u001b[36m71\u001b[0m - \u001b[32m\u001b[1mModel saved! Validation: (New) 0.67288 < (Old) inf\u001b[0m\n"
     ]
    },
    {
     "data": {
      "application/vnd.jupyter.widget-view+json": {
       "model_id": "feeb9db60cae4e4996a834a38ffb1a05",
       "version_major": 2,
       "version_minor": 0
      },
      "text/plain": [
       "  0%|          | 0/47 [00:00<?, ?it/s]"
      ]
     },
     "metadata": {},
     "output_type": "display_data"
    },
    {
     "name": "stdout",
     "output_type": "stream",
     "text": [
      "\u001b[32m2024-08-19 11:25:12.378\u001b[0m | \u001b[32m\u001b[1mSUCCESS \u001b[0m | \u001b[36mmodules.base.trainer\u001b[0m:\u001b[36msuccess\u001b[0m:\u001b[36m71\u001b[0m - \u001b[32m\u001b[1mModel saved! Validation: (New) 0.32811 < (Old) 0.67288\u001b[0m\n"
     ]
    },
    {
     "data": {
      "application/vnd.jupyter.widget-view+json": {
       "model_id": "372d5618549044ac9b9daa145b7d58b3",
       "version_major": 2,
       "version_minor": 0
      },
      "text/plain": [
       "  0%|          | 0/47 [00:00<?, ?it/s]"
      ]
     },
     "metadata": {},
     "output_type": "display_data"
    },
    {
     "name": "stdout",
     "output_type": "stream",
     "text": [
      "\u001b[32m2024-08-19 11:25:26.448\u001b[0m | \u001b[32m\u001b[1mSUCCESS \u001b[0m | \u001b[36mmodules.base.trainer\u001b[0m:\u001b[36msuccess\u001b[0m:\u001b[36m71\u001b[0m - \u001b[32m\u001b[1mModel saved! Validation: (New) 0.22623 < (Old) 0.32811\u001b[0m\n"
     ]
    },
    {
     "data": {
      "application/vnd.jupyter.widget-view+json": {
       "model_id": "9e595e9f2c79450cab3209bbe66710f0",
       "version_major": 2,
       "version_minor": 0
      },
      "text/plain": [
       "  0%|          | 0/47 [00:00<?, ?it/s]"
      ]
     },
     "metadata": {},
     "output_type": "display_data"
    },
    {
     "name": "stdout",
     "output_type": "stream",
     "text": [
      "\u001b[32m2024-08-19 11:25:40.238\u001b[0m | \u001b[32m\u001b[1mSUCCESS \u001b[0m | \u001b[36mmodules.base.trainer\u001b[0m:\u001b[36msuccess\u001b[0m:\u001b[36m71\u001b[0m - \u001b[32m\u001b[1mModel saved! Validation: (New) 0.17654 < (Old) 0.22623\u001b[0m\n"
     ]
    },
    {
     "data": {
      "application/vnd.jupyter.widget-view+json": {
       "model_id": "28c5ad108c8447c6a6ae44ee77103bd8",
       "version_major": 2,
       "version_minor": 0
      },
      "text/plain": [
       "  0%|          | 0/47 [00:00<?, ?it/s]"
      ]
     },
     "metadata": {},
     "output_type": "display_data"
    },
    {
     "name": "stdout",
     "output_type": "stream",
     "text": [
      "\u001b[32m2024-08-19 11:25:54.297\u001b[0m | \u001b[32m\u001b[1mSUCCESS \u001b[0m | \u001b[36mmodules.base.trainer\u001b[0m:\u001b[36msuccess\u001b[0m:\u001b[36m71\u001b[0m - \u001b[32m\u001b[1mModel saved! Validation: (New) 0.14888 < (Old) 0.17654\u001b[0m\n",
      "\n",
      " Test:\n"
     ]
    },
    {
     "data": {
      "application/vnd.jupyter.widget-view+json": {
       "model_id": "5d652ac14ba24436949fcf509f84e83e",
       "version_major": 2,
       "version_minor": 0
      },
      "text/plain": [
       "  0%|          | 0/79 [00:00<?, ?it/s]"
      ]
     },
     "metadata": {},
     "output_type": "display_data"
    },
    {
     "data": {
      "text/plain": [
       "0.9584651898734177"
      ]
     },
     "execution_count": 4,
     "metadata": {},
     "output_type": "execute_result"
    }
   ],
   "source": [
    "from torch import nn\n",
    "from mnist_dataloaders import train_dataloader, val_dataloader, test_dataloader\n",
    "from lenet import LeNet5,  batch_acc\n",
    "\n",
    "validator = BaseValidator(metric=batch_acc)\n",
    "updater = BaseUpdater()\n",
    "trainer = CustomTrainer(max_epoch=5, eval_epoch=1, criterion=nn.CrossEntropyLoss())\n",
    "\n",
    "# train\n",
    "print(\"Train:\")\n",
    "lenet = LeNet5().cuda()\n",
    "trainer.train(module=lenet, updater=updater, train_dataloader=train_dataloader, val_dataloader=val_dataloader)\n",
    "\n",
    "# test\n",
    "print(\"\\n Test:\")\n",
    "lenet.load(\"./checkpoints\")\n",
    "validator.validation(module=lenet, dataloader=test_dataloader)"
   ]
  },
  {
   "cell_type": "code",
   "execution_count": null,
   "metadata": {},
   "outputs": [],
   "source": []
  }
 ],
 "metadata": {
  "kernelspec": {
   "display_name": "env-py39",
   "language": "python",
   "name": "python3"
  },
  "language_info": {
   "codemirror_mode": {
    "name": "ipython",
    "version": 3
   },
   "file_extension": ".py",
   "mimetype": "text/x-python",
   "name": "python",
   "nbconvert_exporter": "python",
   "pygments_lexer": "ipython3",
   "version": "3.9.19"
  }
 },
 "nbformat": 4,
 "nbformat_minor": 2
}
