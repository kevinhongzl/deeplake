{
 "cells": [
  {
   "cell_type": "code",
   "execution_count": 1,
   "id": "e1b05740-4b76-43fc-ba9b-5cb4f3e3545e",
   "metadata": {},
   "outputs": [
    {
     "name": "stdout",
     "output_type": "stream",
     "text": [
      "C:\\Users\\User\\Desktop\\Kevin\\Partial-DANN\n"
     ]
    }
   ],
   "source": [
    "# cwd = Partial-DANN/\n",
    "import os\n",
    "os.chdir(\"..\")\n",
    "print(os.getcwd())\n",
    "from main import *"
   ]
  },
  {
   "cell_type": "code",
   "execution_count": 2,
   "id": "40c00363-ee1a-41db-959c-9955ad47c163",
   "metadata": {},
   "outputs": [],
   "source": [
    "config = configparser.ConfigParser()\n",
    "config.read(\"./config.ini\")\n",
    "\n",
    "# Data\n",
    "root = config[\"path\"][\"root\"]\n",
    "output = config[\"path\"][\"output\"]\n",
    "debug = config[\"path\"][\"debug\"]\n",
    "dataset = datasets[\"simple_amos\"]\n",
    "modality = \"ct+mr:balance\"\n",
    "masked = True\n",
    "train_data = \"split\"\n",
    "mode = \"train\"\n",
    "\n",
    "# Module\n",
    "module_name = \"co_training\"\n",
    "pretrained = None\n",
    "batch_size = 1\n",
    "loss = \"dice2\"\n",
    "lr = 1\n",
    "optim = \"Adam\"\n",
    "max_iter = 10000\n",
    "eval_step = 100\n",
    "\n",
    "# Efficiency\n",
    "deterministic = False\n",
    "dev = False\n",
    "cache_rate = 0.1\n",
    "num_workers = 2"
   ]
  },
  {
   "cell_type": "code",
   "execution_count": 3,
   "id": "6523be00-49d3-4830-90a2-2a9cb1de7cfb",
   "metadata": {},
   "outputs": [
    {
     "name": "stdout",
     "output_type": "stream",
     "text": [
      "root dir: C:/Users/User/Desktop/TSM_Project/data/amos22\n",
      "checkpoint dir: ./checkpoints\n",
      "\n",
      "dataset info:\n"
     ]
    },
    {
     "data": {
      "text/plain": [
       "{'name': 'SIMPLE_AMOS',\n",
       " 'class': medaset.amos.SimpleAMOSDataset,\n",
       " 'train_transforms': <monai.transforms.compose.Compose at 0x2107509ce80>,\n",
       " 'val_transforms': <monai.transforms.compose.Compose at 0x210750f2910>,\n",
       " 'num_classes': 9,\n",
       " 'fg': {'ct': [1, 3, 5, 7], 'mr': [2, 4, 6, 8]},\n",
       " 'bg': {'ct': {2: 0, 4: 0, 6: 0, 8: 0}, 'mr': {1: 0, 3: 0, 5: 0, 7: 0}}}"
      ]
     },
     "metadata": {},
     "output_type": "display_data"
    }
   ],
   "source": [
    "print(\"root dir:\", root)\n",
    "print(\"checkpoint dir:\", output)\n",
    "print(\"\\ndataset info:\")\n",
    "display(dataset)"
   ]
  },
  {
   "cell_type": "code",
   "execution_count": null,
   "id": "62576e45-e805-4eb2-ba68-2c2b27c4466d",
   "metadata": {},
   "outputs": [
    {
     "name": "stdout",
     "output_type": "stream",
     "text": [
      "** Dataset = SIMPLE_AMOS\n",
      "** Modality = ct+mr:balance\n",
      "** Training set = split\n",
      "** Annotation masked = True\n",
      "** Foreground =\n",
      "  - ct: [1, 3, 5, 7] \n",
      "  - mr: [2, 4, 6, 8]\n"
     ]
    },
    {
     "name": "stderr",
     "output_type": "stream",
     "text": [
      "Loading dataset: 100%|██████████████████████████████████████████████████████| 20/20 [00:00<00:00, 20058.84it/s]\n",
      "Loading dataset: 100%|█████████████████████████████████████████████████████████████████| 20/20 [00:00<?, ?it/s]\n",
      "Loading dataset: 100%|█████████████████████████████████████████████████████████████████| 10/10 [00:00<?, ?it/s]\n",
      "Loading dataset: 100%|███████████████████████████████████████████████████████████████████| 4/4 [00:00<?, ?it/s]\n",
      "Loading dataset: 100%|███████████████████████████████████████████████████████████████████| 4/4 [00:00<?, ?it/s]\n",
      "Loading dataset: 100%|███████████████████████████████████████████████████████████████████| 2/2 [00:00<?, ?it/s]"
     ]
    },
    {
     "name": "stdout",
     "output_type": "stream",
     "text": [
      "BasicUNet features: (32, 32, 64, 128, 256, 32).\n"
     ]
    },
    {
     "name": "stderr",
     "output_type": "stream",
     "text": [
      "\n"
     ]
    },
    {
     "name": "stdout",
     "output_type": "stream",
     "text": [
      "BasicUNet features: (32, 32, 64, 128, 256, 32).\n",
      "BasicUNet features: (32, 32, 64, 128, 256, 32).\n",
      "BasicUNet features: (32, 32, 64, 128, 256, 32).\n",
      "** Mode = train\n",
      "Pretrained module 0 is successfully loaded.\n",
      "Pretrained module 1 is successfully loaded.\n",
      "--------\n",
      "Device: cuda\n",
      "# of Training Samples: {'ct': 180, 'mr': 180}\n",
      "# of Validation Samples: {'ct': 20, 'mr': 20}\n",
      "Max iteration: 10000 steps (validates per 100 steps)\n",
      "Checkpoint directory: checkpoints\\20231028-231553\n",
      "Evaluation metric: DiceMetric\n",
      "Module Net-1: BasicUNet\n",
      "       Net-2: BasicUNet\n",
      "Optimizer: SGD (lr = 1)\n",
      "Loss function: FocalLoss, DiceLoss, SoftLoss\n",
      "--------\n"
     ]
    },
    {
     "data": {
      "application/vnd.jupyter.widget-view+json": {
       "model_id": "ebc4f7ff56d442d88c3f07c726a17939",
       "version_major": 2,
       "version_minor": 0
      },
      "text/plain": [
       "Counting pixels of each organ ...:   0%|          | 0/240 [00:00<?, ?it/s]"
      ]
     },
     "metadata": {},
     "output_type": "display_data"
    },
    {
     "data": {
      "application/vnd.jupyter.widget-view+json": {
       "model_id": "3afa76a3171c4a51b073ad21a9396901",
       "version_major": 2,
       "version_minor": 0
      },
      "text/plain": [
       "  0%|                                                                                | 0/10000 [00:00<?, ?it/s…"
      ]
     },
     "metadata": {},
     "output_type": "display_data"
    },
    {
     "data": {
      "application/vnd.jupyter.widget-view+json": {
       "model_id": "4706b8c035a44a578d3ace86d2804164",
       "version_major": 2,
       "version_minor": 0
      },
      "text/plain": [
       "  0%|                                                                                   | 0/40 [00:00<?, ?it/s…"
      ]
     },
     "metadata": {},
     "output_type": "display_data"
    },
    {
     "name": "stdout",
     "output_type": "stream",
     "text": [
      "Model saved! Validation: (New) 0.2444285 > (Old) 0.0000000\n"
     ]
    }
   ],
   "source": [
    "## Whether train without randomness\n",
    "if deterministic:\n",
    "    set_determinism(seed=0)\n",
    "    print(\"** Deterministic = True\")\n",
    "\n",
    "## Dataloaders\n",
    "train_dataset, val_dataset, test_dataset = get_datasets(\n",
    "    dataset=dataset,\n",
    "    modality=modality,\n",
    "    train_data=train_data,\n",
    "    masked=masked,\n",
    "    return_modality_dataset=modules[module_name][\"return_modality_dataset\"],\n",
    "    root_dir=root,\n",
    "    cache_rate=cache_rate,\n",
    "    num_workers=num_workers,\n",
    "    dev=dev,\n",
    ")\n",
    "train_dataloader, val_dataloader, test_dataloader = modules[module_name][\"initializer\"].init_dataloaders(\n",
    "    train_dataset, val_dataset, test_dataset, batch_size, dev\n",
    ")\n",
    "\n",
    "## Initialize module\n",
    "module = modules[module_name][\"initializer\"].init_module(\n",
    "    loss, optim, lr, dataset, modality, masked, device,\n",
    "    alpha=0.999,\n",
    "    lambda_focal=1.0,\n",
    "    lambda_dice=0.1,\n",
    "    lambda_soft=0.1,\n",
    ")\n",
    "if pretrained:\n",
    "    print(\"** Pretrained checkpoint =\", pretrained)\n",
    "    module.load(pretrained)\n",
    "module.to(device)\n",
    "\n",
    "## Train or test\n",
    "# ** note: temp checkpoints are saved in the \"debug\" directory\n",
    "#          to separate the result of experiments and temporary\n",
    "#          checkpoints generated in developer mode.\n",
    "checkpoint_dir = output if not dev else debug\n",
    "# create subfolder based on time\n",
    "checkpoint_dir = Path(checkpoint_dir) / datetime.now().strftime(\"%Y%m%d-%H%M%S\")\n",
    "trainer = modules[module_name][\"initializer\"].init_trainer(\n",
    "    num_classes=dataset[\"num_classes\"],\n",
    "    max_iter=max_iter,\n",
    "    eval_step=eval_step,\n",
    "    checkpoint_dir=checkpoint_dir,\n",
    "    device=device,\n",
    "    pretrained_dir=\"./checkpoints/pretrained\"\n",
    ")\n",
    "\n",
    "\n",
    "print(\"** Mode =\", mode)\n",
    "if mode == \"train\":        \n",
    "    # Save command-line arguments\n",
    "    Path(trainer.checkpoint_dir).mkdir(parents=True, exist_ok=True,)\n",
    "    # Comment the code below since there is no args\n",
    "    # with open(Path(trainer.checkpoint_dir) / \"json\", \"w\") as f:\n",
    "    #     json.dump(vars(args), f, indent=4)\n",
    "    trainer.train(module, train_dataloader, val_dataloader, load_pretrained=[0, 1])\n",
    "if mode == \"test\" or test_dataloader:\n",
    "    test_metric = trainer.validation(module, test_dataloader, label=\"all\")\n",
    "    print(\"** Test (Final):\", test_metric)\n",
    "else:\n",
    "    raise ValueError(\"Got an invalid input of option --mode.\")"
   ]
  },
  {
   "cell_type": "code",
   "execution_count": null,
   "id": "9681008f-8600-4aa0-89e9-6678a8a1f04b",
   "metadata": {},
   "outputs": [],
   "source": []
  }
 ],
 "metadata": {
  "kernelspec": {
   "display_name": "Python 3 (ipykernel)",
   "language": "python",
   "name": "python3"
  },
  "language_info": {
   "codemirror_mode": {
    "name": "ipython",
    "version": 3
   },
   "file_extension": ".py",
   "mimetype": "text/x-python",
   "name": "python",
   "nbconvert_exporter": "python",
   "pygments_lexer": "ipython3",
   "version": "3.8.17"
  },
  "widgets": {
   "application/vnd.jupyter.widget-state+json": {
    "state": {
     "1f79d4243e334e6f887648bb03f3ba2a": {
      "model_module": "@jupyter-widgets/base",
      "model_module_version": "2.0.0",
      "model_name": "LayoutModel",
      "state": {}
     },
     "2ac7b9f4ffee4bb9948cdcdd07e25a71": {
      "model_module": "@jupyter-widgets/controls",
      "model_module_version": "2.0.0",
      "model_name": "HTMLStyleModel",
      "state": {
       "description_width": "",
       "font_size": null,
       "text_color": null
      }
     },
     "2df0ef8096ef47488a939ec86a7bbac6": {
      "model_module": "@jupyter-widgets/controls",
      "model_module_version": "2.0.0",
      "model_name": "ProgressStyleModel",
      "state": {
       "description_width": ""
      }
     },
     "2fca8f8749df491a8904d367a4c5ee81": {
      "model_module": "@jupyter-widgets/base",
      "model_module_version": "2.0.0",
      "model_name": "LayoutModel",
      "state": {}
     },
     "3099a7df49d64048b5dffcf0936cf708": {
      "model_module": "@jupyter-widgets/controls",
      "model_module_version": "2.0.0",
      "model_name": "HTMLStyleModel",
      "state": {
       "description_width": "",
       "font_size": null,
       "text_color": null
      }
     },
     "3afa76a3171c4a51b073ad21a9396901": {
      "model_module": "@jupyter-widgets/controls",
      "model_module_version": "2.0.0",
      "model_name": "HBoxModel",
      "state": {
       "children": [
        "IPY_MODEL_ccac2b17b9934d4a835236fca8b2eaf0",
        "IPY_MODEL_7c25559c19d44d748234cde3320046d3",
        "IPY_MODEL_8dcc48c14a6640cb90fee4b1677ae9b6"
       ],
       "layout": "IPY_MODEL_9c4119932d8e4aad85f71198f4ddc823"
      }
     },
     "42208a0b2bff4cc38e7ea28960b85a76": {
      "model_module": "@jupyter-widgets/base",
      "model_module_version": "2.0.0",
      "model_name": "LayoutModel",
      "state": {}
     },
     "4706b8c035a44a578d3ace86d2804164": {
      "model_module": "@jupyter-widgets/controls",
      "model_module_version": "2.0.0",
      "model_name": "HBoxModel",
      "state": {
       "children": [
        "IPY_MODEL_d7307e2fa19c438ba931ccfd1b5ea8be",
        "IPY_MODEL_4fd066bb25334f89bdbe2bc580eddff6",
        "IPY_MODEL_4f027834f6704994b1e796b998da64f2"
       ],
       "layout": "IPY_MODEL_fb3ae01c4d3744b39d0e30794d92af84"
      }
     },
     "4da97c1693e9459ea4a2438b35d85cc0": {
      "model_module": "@jupyter-widgets/base",
      "model_module_version": "2.0.0",
      "model_name": "LayoutModel",
      "state": {
       "flex": "2"
      }
     },
     "4f027834f6704994b1e796b998da64f2": {
      "model_module": "@jupyter-widgets/controls",
      "model_module_version": "2.0.0",
      "model_name": "HTMLModel",
      "state": {
       "layout": "IPY_MODEL_1f79d4243e334e6f887648bb03f3ba2a",
       "style": "IPY_MODEL_6af2d4e6e28a4e12b4151f09bc0963af",
       "value": " 40/40 [02:36&lt;00:00,  1.93s/it]"
      }
     },
     "4fd066bb25334f89bdbe2bc580eddff6": {
      "model_module": "@jupyter-widgets/controls",
      "model_module_version": "2.0.0",
      "model_name": "FloatProgressModel",
      "state": {
       "bar_style": "success",
       "layout": "IPY_MODEL_4da97c1693e9459ea4a2438b35d85cc0",
       "max": 40,
       "style": "IPY_MODEL_6787b4f764e741029aed5fd99b380af4",
       "value": 40
      }
     },
     "55b4db309a044b9bba08bc2f311cfa38": {
      "model_module": "@jupyter-widgets/base",
      "model_module_version": "2.0.0",
      "model_name": "LayoutModel",
      "state": {
       "flex": "2"
      }
     },
     "5b9528078cfe4ab0b034d896a7639aaa": {
      "model_module": "@jupyter-widgets/base",
      "model_module_version": "2.0.0",
      "model_name": "LayoutModel",
      "state": {}
     },
     "6787b4f764e741029aed5fd99b380af4": {
      "model_module": "@jupyter-widgets/controls",
      "model_module_version": "2.0.0",
      "model_name": "ProgressStyleModel",
      "state": {
       "description_width": ""
      }
     },
     "6af2d4e6e28a4e12b4151f09bc0963af": {
      "model_module": "@jupyter-widgets/controls",
      "model_module_version": "2.0.0",
      "model_name": "HTMLStyleModel",
      "state": {
       "description_width": "",
       "font_size": null,
       "text_color": null
      }
     },
     "6ecd4fd928c541f99c3b175412043ef5": {
      "model_module": "@jupyter-widgets/controls",
      "model_module_version": "2.0.0",
      "model_name": "HTMLStyleModel",
      "state": {
       "description_width": "",
       "font_size": null,
       "text_color": null
      }
     },
     "6f1c95394e85423ea96356a3a2f373e5": {
      "model_module": "@jupyter-widgets/base",
      "model_module_version": "2.0.0",
      "model_name": "LayoutModel",
      "state": {}
     },
     "7c25559c19d44d748234cde3320046d3": {
      "model_module": "@jupyter-widgets/controls",
      "model_module_version": "2.0.0",
      "model_name": "FloatProgressModel",
      "state": {
       "layout": "IPY_MODEL_55b4db309a044b9bba08bc2f311cfa38",
       "max": 10000,
       "style": "IPY_MODEL_2df0ef8096ef47488a939ec86a7bbac6",
       "value": 103
      }
     },
     "8dcc48c14a6640cb90fee4b1677ae9b6": {
      "model_module": "@jupyter-widgets/controls",
      "model_module_version": "2.0.0",
      "model_name": "HTMLModel",
      "state": {
       "layout": "IPY_MODEL_6f1c95394e85423ea96356a3a2f373e5",
       "style": "IPY_MODEL_ae9ba14f04b84ca7a6a196b7c61848eb",
       "value": " 103/10000 [13:54&lt;62:18:24, 22.66s/it]"
      }
     },
     "9c4119932d8e4aad85f71198f4ddc823": {
      "model_module": "@jupyter-widgets/base",
      "model_module_version": "2.0.0",
      "model_name": "LayoutModel",
      "state": {
       "display": "inline-flex",
       "flex_flow": "row wrap",
       "width": "100%"
      }
     },
     "aad27a11fb3441c2ba1211a53a0250e6": {
      "model_module": "@jupyter-widgets/controls",
      "model_module_version": "2.0.0",
      "model_name": "ProgressStyleModel",
      "state": {
       "description_width": ""
      }
     },
     "ae021a2453d344e29a48ce0508fca44f": {
      "model_module": "@jupyter-widgets/controls",
      "model_module_version": "2.0.0",
      "model_name": "HTMLModel",
      "state": {
       "layout": "IPY_MODEL_fc460c9f1aff46f2b3de598fb8d6f16e",
       "style": "IPY_MODEL_2ac7b9f4ffee4bb9948cdcdd07e25a71",
       "value": "Counting pixels of each organ ...: 100%"
      }
     },
     "ae9ba14f04b84ca7a6a196b7c61848eb": {
      "model_module": "@jupyter-widgets/controls",
      "model_module_version": "2.0.0",
      "model_name": "HTMLStyleModel",
      "state": {
       "description_width": "",
       "font_size": null,
       "text_color": null
      }
     },
     "b9fab948be9f4489a3aad76e363ecdbc": {
      "model_module": "@jupyter-widgets/controls",
      "model_module_version": "2.0.0",
      "model_name": "HTMLModel",
      "state": {
       "layout": "IPY_MODEL_fde7aedf0dce4d11af75a4378ddfc23b",
       "style": "IPY_MODEL_3099a7df49d64048b5dffcf0936cf708",
       "value": " 240/240 [04:01&lt;00:00,  1.22it/s]"
      }
     },
     "ccac2b17b9934d4a835236fca8b2eaf0": {
      "model_module": "@jupyter-widgets/controls",
      "model_module_version": "2.0.0",
      "model_name": "HTMLModel",
      "state": {
       "layout": "IPY_MODEL_5b9528078cfe4ab0b034d896a7639aaa",
       "style": "IPY_MODEL_fdac72c197594827aa74d76ca522a1f6",
       "value": "Training (103 / 10000 Steps) (focal=2.4536e-03, dice=1.8048e+00, soft=5.1604e+00, total=2.0923e-01):   1%"
      }
     },
     "d309fc08e25840ab91349701d825a25b": {
      "model_module": "@jupyter-widgets/controls",
      "model_module_version": "2.0.0",
      "model_name": "FloatProgressModel",
      "state": {
       "bar_style": "success",
       "layout": "IPY_MODEL_2fca8f8749df491a8904d367a4c5ee81",
       "max": 240,
       "style": "IPY_MODEL_aad27a11fb3441c2ba1211a53a0250e6",
       "value": 240
      }
     },
     "d7307e2fa19c438ba931ccfd1b5ea8be": {
      "model_module": "@jupyter-widgets/controls",
      "model_module_version": "2.0.0",
      "model_name": "HTMLModel",
      "state": {
       "layout": "IPY_MODEL_f4c2effc72ce4ac79d6a7967bf1621ca",
       "style": "IPY_MODEL_6ecd4fd928c541f99c3b175412043ef5",
       "value": "Validate (99 Steps) (DiceMetric=0.31527): 100%"
      }
     },
     "ebc4f7ff56d442d88c3f07c726a17939": {
      "model_module": "@jupyter-widgets/controls",
      "model_module_version": "2.0.0",
      "model_name": "HBoxModel",
      "state": {
       "children": [
        "IPY_MODEL_ae021a2453d344e29a48ce0508fca44f",
        "IPY_MODEL_d309fc08e25840ab91349701d825a25b",
        "IPY_MODEL_b9fab948be9f4489a3aad76e363ecdbc"
       ],
       "layout": "IPY_MODEL_42208a0b2bff4cc38e7ea28960b85a76"
      }
     },
     "f4c2effc72ce4ac79d6a7967bf1621ca": {
      "model_module": "@jupyter-widgets/base",
      "model_module_version": "2.0.0",
      "model_name": "LayoutModel",
      "state": {}
     },
     "fb3ae01c4d3744b39d0e30794d92af84": {
      "model_module": "@jupyter-widgets/base",
      "model_module_version": "2.0.0",
      "model_name": "LayoutModel",
      "state": {
       "display": "inline-flex",
       "flex_flow": "row wrap",
       "width": "100%"
      }
     },
     "fc460c9f1aff46f2b3de598fb8d6f16e": {
      "model_module": "@jupyter-widgets/base",
      "model_module_version": "2.0.0",
      "model_name": "LayoutModel",
      "state": {}
     },
     "fdac72c197594827aa74d76ca522a1f6": {
      "model_module": "@jupyter-widgets/controls",
      "model_module_version": "2.0.0",
      "model_name": "HTMLStyleModel",
      "state": {
       "description_width": "",
       "font_size": null,
       "text_color": null
      }
     },
     "fde7aedf0dce4d11af75a4378ddfc23b": {
      "model_module": "@jupyter-widgets/base",
      "model_module_version": "2.0.0",
      "model_name": "LayoutModel",
      "state": {}
     }
    },
    "version_major": 2,
    "version_minor": 0
   }
  }
 },
 "nbformat": 4,
 "nbformat_minor": 5
}
