{
 "cells": [
  {
   "cell_type": "code",
   "execution_count": 1,
   "id": "e1b05740-4b76-43fc-ba9b-5cb4f3e3545e",
   "metadata": {},
   "outputs": [
    {
     "name": "stdout",
     "output_type": "stream",
     "text": [
      "C:\\Users\\User\\Desktop\\Kevin\\Partial-DANN\n"
     ]
    }
   ],
   "source": [
    "# cwd = Partial-DANN/\n",
    "import os\n",
    "os.chdir(\"..\")\n",
    "print(os.getcwd())\n",
    "from main import *"
   ]
  },
  {
   "cell_type": "code",
   "execution_count": 2,
   "id": "40c00363-ee1a-41db-959c-9955ad47c163",
   "metadata": {},
   "outputs": [],
   "source": [
    "config = configparser.ConfigParser()\n",
    "config.read(\"./config.ini\")\n",
    "\n",
    "# Data\n",
    "root = config[\"path\"][\"root\"]\n",
    "output = config[\"path\"][\"output\"]\n",
    "debug = config[\"path\"][\"debug\"]\n",
    "dataset = datasets[\"simple_amos\"]\n",
    "modality = \"ct+mr:balance\"\n",
    "masked = True\n",
    "train_data = \"split\"\n",
    "mode = \"train\"\n",
    "\n",
    "# Module\n",
    "module_name = \"co_training\"\n",
    "pretrained = None\n",
    "batch_size = 1\n",
    "loss = \"dice2\"\n",
    "lr = 1\n",
    "optim = \"Adam\"\n",
    "max_iter = 10000\n",
    "eval_step = 100\n",
    "\n",
    "# Efficiency\n",
    "deterministic = False\n",
    "dev = False\n",
    "cache_rate = 0.1\n",
    "num_workers = 2"
   ]
  },
  {
   "cell_type": "code",
   "execution_count": 3,
   "id": "6523be00-49d3-4830-90a2-2a9cb1de7cfb",
   "metadata": {},
   "outputs": [
    {
     "name": "stdout",
     "output_type": "stream",
     "text": [
      "root dir: C:/Users/User/Desktop/TSM_Project/data/amos22\n",
      "checkpoint dir: ./checkpoints\n",
      "\n",
      "dataset info:\n"
     ]
    },
    {
     "data": {
      "text/plain": [
       "{'name': 'SIMPLE_AMOS',\n",
       " 'class': medaset.amos.SimpleAMOSDataset,\n",
       " 'train_transforms': <monai.transforms.compose.Compose at 0x2107509ce80>,\n",
       " 'val_transforms': <monai.transforms.compose.Compose at 0x210750f2910>,\n",
       " 'num_classes': 9,\n",
       " 'fg': {'ct': [1, 3, 5, 7], 'mr': [2, 4, 6, 8]},\n",
       " 'bg': {'ct': {2: 0, 4: 0, 6: 0, 8: 0}, 'mr': {1: 0, 3: 0, 5: 0, 7: 0}}}"
      ]
     },
     "metadata": {},
     "output_type": "display_data"
    }
   ],
   "source": [
    "print(\"root dir:\", root)\n",
    "print(\"checkpoint dir:\", output)\n",
    "print(\"\\ndataset info:\")\n",
    "display(dataset)"
   ]
  },
  {
   "cell_type": "code",
   "execution_count": null,
   "id": "62576e45-e805-4eb2-ba68-2c2b27c4466d",
   "metadata": {},
   "outputs": [
    {
     "name": "stdout",
     "output_type": "stream",
     "text": [
      "** Dataset = SIMPLE_AMOS\n",
      "** Modality = ct+mr:balance\n",
      "** Training set = split\n",
      "** Annotation masked = True\n",
      "** Foreground =\n",
      "  - ct: [1, 3, 5, 7] \n",
      "  - mr: [2, 4, 6, 8]\n"
     ]
    },
    {
     "name": "stderr",
     "output_type": "stream",
     "text": [
      "Loading dataset: 100%|██████████████████████████████████████████████████████| 20/20 [00:00<00:00, 20058.84it/s]\n",
      "Loading dataset: 100%|█████████████████████████████████████████████████████████████████| 20/20 [00:00<?, ?it/s]\n",
      "Loading dataset: 100%|█████████████████████████████████████████████████████████████████| 10/10 [00:00<?, ?it/s]\n",
      "Loading dataset: 100%|███████████████████████████████████████████████████████████████████| 4/4 [00:00<?, ?it/s]\n",
      "Loading dataset: 100%|███████████████████████████████████████████████████████████████████| 4/4 [00:00<?, ?it/s]\n",
      "Loading dataset: 100%|███████████████████████████████████████████████████████████████████| 2/2 [00:00<?, ?it/s]"
     ]
    },
    {
     "name": "stdout",
     "output_type": "stream",
     "text": [
      "BasicUNet features: (32, 32, 64, 128, 256, 32).\n"
     ]
    },
    {
     "name": "stderr",
     "output_type": "stream",
     "text": [
      "\n"
     ]
    },
    {
     "name": "stdout",
     "output_type": "stream",
     "text": [
      "BasicUNet features: (32, 32, 64, 128, 256, 32).\n",
      "BasicUNet features: (32, 32, 64, 128, 256, 32).\n",
      "BasicUNet features: (32, 32, 64, 128, 256, 32).\n",
      "** Mode = train\n",
      "Pretrained module 0 is successfully loaded.\n",
      "Pretrained module 1 is successfully loaded.\n",
      "--------\n",
      "Device: cuda\n",
      "# of Training Samples: {'ct': 180, 'mr': 180}\n",
      "# of Validation Samples: {'ct': 20, 'mr': 20}\n",
      "Max iteration: 10000 steps (validates per 100 steps)\n",
      "Checkpoint directory: checkpoints\\20231028-231553\n",
      "Evaluation metric: DiceMetric\n",
      "Module Net-1: BasicUNet\n",
      "       Net-2: BasicUNet\n",
      "Optimizer: SGD (lr = 1)\n",
      "Loss function: FocalLoss, DiceLoss, SoftLoss\n",
      "--------\n"
     ]
    },
    {
     "data": {
      "application/vnd.jupyter.widget-view+json": {
       "model_id": "ebc4f7ff56d442d88c3f07c726a17939",
       "version_major": 2,
       "version_minor": 0
      },
      "text/plain": [
       "Counting pixels of each organ ...:   0%|          | 0/240 [00:00<?, ?it/s]"
      ]
     },
     "metadata": {},
     "output_type": "display_data"
    },
    {
     "data": {
      "application/vnd.jupyter.widget-view+json": {
       "model_id": "3afa76a3171c4a51b073ad21a9396901",
       "version_major": 2,
       "version_minor": 0
      },
      "text/plain": [
       "  0%|                                                                                | 0/10000 [00:00<?, ?it/s…"
      ]
     },
     "metadata": {},
     "output_type": "display_data"
    },
    {
     "data": {
      "application/vnd.jupyter.widget-view+json": {
       "model_id": "4706b8c035a44a578d3ace86d2804164",
       "version_major": 2,
       "version_minor": 0
      },
      "text/plain": [
       "  0%|                                                                                   | 0/40 [00:00<?, ?it/s…"
      ]
     },
     "metadata": {},
     "output_type": "display_data"
    },
    {
     "name": "stdout",
     "output_type": "stream",
     "text": [
      "Model saved! Validation: (New) 0.2444285 > (Old) 0.0000000\n"
     ]
    },
    {
     "data": {
      "application/vnd.jupyter.widget-view+json": {
       "model_id": "8271bc8b920a431b99b435f02d25d40e",
       "version_major": 2,
       "version_minor": 0
      },
      "text/plain": [
       "  0%|                                                                                   | 0/40 [00:00<?, ?it/s…"
      ]
     },
     "metadata": {},
     "output_type": "display_data"
    },
    {
     "name": "stdout",
     "output_type": "stream",
     "text": [
      "No improvement. Validation: (New) 0.2392776 <= (Old) 0.2444285\n"
     ]
    },
    {
     "data": {
      "application/vnd.jupyter.widget-view+json": {
       "model_id": "643fd843a3564d7b8c66b280a943f188",
       "version_major": 2,
       "version_minor": 0
      },
      "text/plain": [
       "  0%|                                                                                   | 0/40 [00:00<?, ?it/s…"
      ]
     },
     "metadata": {},
     "output_type": "display_data"
    },
    {
     "name": "stdout",
     "output_type": "stream",
     "text": [
      "No improvement. Validation: (New) 0.2368338 <= (Old) 0.2444285\n"
     ]
    },
    {
     "data": {
      "application/vnd.jupyter.widget-view+json": {
       "model_id": "69acd8e298294a69a266cd2e1860e02b",
       "version_major": 2,
       "version_minor": 0
      },
      "text/plain": [
       "  0%|                                                                                   | 0/40 [00:00<?, ?it/s…"
      ]
     },
     "metadata": {},
     "output_type": "display_data"
    },
    {
     "name": "stdout",
     "output_type": "stream",
     "text": [
      "No improvement. Validation: (New) 0.2274403 <= (Old) 0.2444285\n"
     ]
    },
    {
     "data": {
      "application/vnd.jupyter.widget-view+json": {
       "model_id": "3ce27175768b4cfd9ba0b59e21757621",
       "version_major": 2,
       "version_minor": 0
      },
      "text/plain": [
       "  0%|                                                                                   | 0/40 [00:00<?, ?it/s…"
      ]
     },
     "metadata": {},
     "output_type": "display_data"
    },
    {
     "name": "stdout",
     "output_type": "stream",
     "text": [
      "No improvement. Validation: (New) 0.2320344 <= (Old) 0.2444285\n"
     ]
    },
    {
     "data": {
      "application/vnd.jupyter.widget-view+json": {
       "model_id": "c2b8d9c403fb4b379b7c8a77513cd8ec",
       "version_major": 2,
       "version_minor": 0
      },
      "text/plain": [
       "  0%|                                                                                   | 0/40 [00:00<?, ?it/s…"
      ]
     },
     "metadata": {},
     "output_type": "display_data"
    },
    {
     "name": "stdout",
     "output_type": "stream",
     "text": [
      "No improvement. Validation: (New) 0.2273138 <= (Old) 0.2444285\n"
     ]
    },
    {
     "data": {
      "application/vnd.jupyter.widget-view+json": {
       "model_id": "ba38f1fa344a426e953785a2688cda81",
       "version_major": 2,
       "version_minor": 0
      },
      "text/plain": [
       "  0%|                                                                                   | 0/40 [00:00<?, ?it/s…"
      ]
     },
     "metadata": {},
     "output_type": "display_data"
    },
    {
     "name": "stdout",
     "output_type": "stream",
     "text": [
      "No improvement. Validation: (New) 0.2235853 <= (Old) 0.2444285\n"
     ]
    },
    {
     "data": {
      "application/vnd.jupyter.widget-view+json": {
       "model_id": "a5d3c5c53e834aefb68581562d4bbbe9",
       "version_major": 2,
       "version_minor": 0
      },
      "text/plain": [
       "  0%|                                                                                   | 0/40 [00:00<?, ?it/s…"
      ]
     },
     "metadata": {},
     "output_type": "display_data"
    },
    {
     "name": "stdout",
     "output_type": "stream",
     "text": [
      "No improvement. Validation: (New) 0.2246044 <= (Old) 0.2444285\n"
     ]
    },
    {
     "data": {
      "application/vnd.jupyter.widget-view+json": {
       "model_id": "8eeee628fa074a87ba9a7d155c6ff682",
       "version_major": 2,
       "version_minor": 0
      },
      "text/plain": [
       "  0%|                                                                                   | 0/40 [00:00<?, ?it/s…"
      ]
     },
     "metadata": {},
     "output_type": "display_data"
    },
    {
     "name": "stdout",
     "output_type": "stream",
     "text": [
      "No improvement. Validation: (New) 0.2241038 <= (Old) 0.2444285\n"
     ]
    },
    {
     "data": {
      "application/vnd.jupyter.widget-view+json": {
       "model_id": "a4c5b395394449e48abedf1c539eaea6",
       "version_major": 2,
       "version_minor": 0
      },
      "text/plain": [
       "  0%|                                                                                   | 0/40 [00:00<?, ?it/s…"
      ]
     },
     "metadata": {},
     "output_type": "display_data"
    },
    {
     "name": "stdout",
     "output_type": "stream",
     "text": [
      "No improvement. Validation: (New) 0.2269616 <= (Old) 0.2444285\n"
     ]
    },
    {
     "data": {
      "application/vnd.jupyter.widget-view+json": {
       "model_id": "dc4e6569153d4112a62ea10fad44d1e5",
       "version_major": 2,
       "version_minor": 0
      },
      "text/plain": [
       "  0%|                                                                                   | 0/40 [00:00<?, ?it/s…"
      ]
     },
     "metadata": {},
     "output_type": "display_data"
    },
    {
     "name": "stdout",
     "output_type": "stream",
     "text": [
      "No improvement. Validation: (New) 0.2271909 <= (Old) 0.2444285\n"
     ]
    },
    {
     "data": {
      "application/vnd.jupyter.widget-view+json": {
       "model_id": "d8d0e5afffe54acabe8d8170b1cdd270",
       "version_major": 2,
       "version_minor": 0
      },
      "text/plain": [
       "  0%|                                                                                   | 0/40 [00:00<?, ?it/s…"
      ]
     },
     "metadata": {},
     "output_type": "display_data"
    },
    {
     "name": "stdout",
     "output_type": "stream",
     "text": [
      "No improvement. Validation: (New) 0.2258307 <= (Old) 0.2444285\n"
     ]
    },
    {
     "data": {
      "application/vnd.jupyter.widget-view+json": {
       "model_id": "feb2611cdd204fb29883382c26768318",
       "version_major": 2,
       "version_minor": 0
      },
      "text/plain": [
       "  0%|                                                                                   | 0/40 [00:00<?, ?it/s…"
      ]
     },
     "metadata": {},
     "output_type": "display_data"
    },
    {
     "name": "stdout",
     "output_type": "stream",
     "text": [
      "No improvement. Validation: (New) 0.2283050 <= (Old) 0.2444285\n"
     ]
    },
    {
     "data": {
      "application/vnd.jupyter.widget-view+json": {
       "model_id": "dd2106d1cdef42979c27166762601fe9",
       "version_major": 2,
       "version_minor": 0
      },
      "text/plain": [
       "  0%|                                                                                   | 0/40 [00:00<?, ?it/s…"
      ]
     },
     "metadata": {},
     "output_type": "display_data"
    },
    {
     "name": "stdout",
     "output_type": "stream",
     "text": [
      "No improvement. Validation: (New) 0.2248686 <= (Old) 0.2444285\n"
     ]
    },
    {
     "data": {
      "application/vnd.jupyter.widget-view+json": {
       "model_id": "f812fc579203478594ea53eeb04e14b0",
       "version_major": 2,
       "version_minor": 0
      },
      "text/plain": [
       "  0%|                                                                                   | 0/40 [00:00<?, ?it/s…"
      ]
     },
     "metadata": {},
     "output_type": "display_data"
    },
    {
     "name": "stdout",
     "output_type": "stream",
     "text": [
      "No improvement. Validation: (New) 0.2284971 <= (Old) 0.2444285\n"
     ]
    },
    {
     "data": {
      "application/vnd.jupyter.widget-view+json": {
       "model_id": "6f9a8b84461342579f70c2583e1f7390",
       "version_major": 2,
       "version_minor": 0
      },
      "text/plain": [
       "  0%|                                                                                   | 0/40 [00:00<?, ?it/s…"
      ]
     },
     "metadata": {},
     "output_type": "display_data"
    },
    {
     "name": "stdout",
     "output_type": "stream",
     "text": [
      "No improvement. Validation: (New) 0.2278186 <= (Old) 0.2444285\n"
     ]
    },
    {
     "data": {
      "application/vnd.jupyter.widget-view+json": {
       "model_id": "af2d629e21a1480bab2a5e3cbb733468",
       "version_major": 2,
       "version_minor": 0
      },
      "text/plain": [
       "  0%|                                                                                   | 0/40 [00:00<?, ?it/s…"
      ]
     },
     "metadata": {},
     "output_type": "display_data"
    },
    {
     "name": "stdout",
     "output_type": "stream",
     "text": [
      "No improvement. Validation: (New) 0.2251994 <= (Old) 0.2444285\n"
     ]
    },
    {
     "data": {
      "application/vnd.jupyter.widget-view+json": {
       "model_id": "701445ad7a8d42eeae6a028cd5ce751b",
       "version_major": 2,
       "version_minor": 0
      },
      "text/plain": [
       "  0%|                                                                                   | 0/40 [00:00<?, ?it/s…"
      ]
     },
     "metadata": {},
     "output_type": "display_data"
    },
    {
     "name": "stdout",
     "output_type": "stream",
     "text": [
      "No improvement. Validation: (New) 0.2234144 <= (Old) 0.2444285\n"
     ]
    },
    {
     "data": {
      "application/vnd.jupyter.widget-view+json": {
       "model_id": "ba9e9dfcff294931bb0655d2111bfff8",
       "version_major": 2,
       "version_minor": 0
      },
      "text/plain": [
       "  0%|                                                                                   | 0/40 [00:00<?, ?it/s…"
      ]
     },
     "metadata": {},
     "output_type": "display_data"
    },
    {
     "name": "stdout",
     "output_type": "stream",
     "text": [
      "No improvement. Validation: (New) 0.2267656 <= (Old) 0.2444285\n"
     ]
    },
    {
     "data": {
      "application/vnd.jupyter.widget-view+json": {
       "model_id": "2eeb1aabffa74d70be883df64761926c",
       "version_major": 2,
       "version_minor": 0
      },
      "text/plain": [
       "  0%|                                                                                   | 0/40 [00:00<?, ?it/s…"
      ]
     },
     "metadata": {},
     "output_type": "display_data"
    },
    {
     "name": "stdout",
     "output_type": "stream",
     "text": [
      "No improvement. Validation: (New) 0.2303187 <= (Old) 0.2444285\n"
     ]
    },
    {
     "data": {
      "application/vnd.jupyter.widget-view+json": {
       "model_id": "07b911df3bd7412cbfd2eb252bfecc1d",
       "version_major": 2,
       "version_minor": 0
      },
      "text/plain": [
       "  0%|                                                                                   | 0/40 [00:00<?, ?it/s…"
      ]
     },
     "metadata": {},
     "output_type": "display_data"
    },
    {
     "name": "stdout",
     "output_type": "stream",
     "text": [
      "No improvement. Validation: (New) 0.2221859 <= (Old) 0.2444285\n"
     ]
    },
    {
     "data": {
      "application/vnd.jupyter.widget-view+json": {
       "model_id": "7ca3ec8fe29049ebb6d39f516bbffaed",
       "version_major": 2,
       "version_minor": 0
      },
      "text/plain": [
       "  0%|                                                                                   | 0/40 [00:00<?, ?it/s…"
      ]
     },
     "metadata": {},
     "output_type": "display_data"
    },
    {
     "name": "stdout",
     "output_type": "stream",
     "text": [
      "No improvement. Validation: (New) 0.2223822 <= (Old) 0.2444285\n"
     ]
    },
    {
     "data": {
      "application/vnd.jupyter.widget-view+json": {
       "model_id": "167774f725814abf9027cbec45a4a1b9",
       "version_major": 2,
       "version_minor": 0
      },
      "text/plain": [
       "  0%|                                                                                   | 0/40 [00:00<?, ?it/s…"
      ]
     },
     "metadata": {},
     "output_type": "display_data"
    },
    {
     "name": "stdout",
     "output_type": "stream",
     "text": [
      "No improvement. Validation: (New) 0.2239249 <= (Old) 0.2444285\n"
     ]
    },
    {
     "data": {
      "application/vnd.jupyter.widget-view+json": {
       "model_id": "159ffb407b044e81819bfec37b8c9b65",
       "version_major": 2,
       "version_minor": 0
      },
      "text/plain": [
       "  0%|                                                                                   | 0/40 [00:00<?, ?it/s…"
      ]
     },
     "metadata": {},
     "output_type": "display_data"
    },
    {
     "name": "stdout",
     "output_type": "stream",
     "text": [
      "No improvement. Validation: (New) 0.2251363 <= (Old) 0.2444285\n"
     ]
    },
    {
     "data": {
      "application/vnd.jupyter.widget-view+json": {
       "model_id": "d52b430d7de3496880d7f399b492c3ee",
       "version_major": 2,
       "version_minor": 0
      },
      "text/plain": [
       "  0%|                                                                                   | 0/40 [00:00<?, ?it/s…"
      ]
     },
     "metadata": {},
     "output_type": "display_data"
    },
    {
     "name": "stdout",
     "output_type": "stream",
     "text": [
      "No improvement. Validation: (New) 0.2218159 <= (Old) 0.2444285\n"
     ]
    },
    {
     "data": {
      "application/vnd.jupyter.widget-view+json": {
       "model_id": "19d5d87786f34babbbaf020b3ab1a231",
       "version_major": 2,
       "version_minor": 0
      },
      "text/plain": [
       "  0%|                                                                                   | 0/40 [00:00<?, ?it/s…"
      ]
     },
     "metadata": {},
     "output_type": "display_data"
    },
    {
     "name": "stdout",
     "output_type": "stream",
     "text": [
      "No improvement. Validation: (New) 0.2198747 <= (Old) 0.2444285\n"
     ]
    }
   ],
   "source": [
    "## Whether train without randomness\n",
    "if deterministic:\n",
    "    set_determinism(seed=0)\n",
    "    print(\"** Deterministic = True\")\n",
    "\n",
    "## Dataloaders\n",
    "train_dataset, val_dataset, test_dataset = get_datasets(\n",
    "    dataset=dataset,\n",
    "    modality=modality,\n",
    "    train_data=train_data,\n",
    "    masked=masked,\n",
    "    return_modality_dataset=modules[module_name][\"return_modality_dataset\"],\n",
    "    root_dir=root,\n",
    "    cache_rate=cache_rate,\n",
    "    num_workers=num_workers,\n",
    "    dev=dev,\n",
    ")\n",
    "train_dataloader, val_dataloader, test_dataloader = modules[module_name][\"initializer\"].init_dataloaders(\n",
    "    train_dataset, val_dataset, test_dataset, batch_size, dev\n",
    ")\n",
    "\n",
    "## Initialize module\n",
    "module = modules[module_name][\"initializer\"].init_module(\n",
    "    loss, optim, lr, dataset, modality, masked, device,\n",
    "    alpha=0.999,\n",
    "    lambda_focal=1.0,\n",
    "    lambda_dice=0.1,\n",
    "    lambda_soft=0.1,\n",
    ")\n",
    "if pretrained:\n",
    "    print(\"** Pretrained checkpoint =\", pretrained)\n",
    "    module.load(pretrained)\n",
    "module.to(device)\n",
    "\n",
    "## Train or test\n",
    "# ** note: temp checkpoints are saved in the \"debug\" directory\n",
    "#          to separate the result of experiments and temporary\n",
    "#          checkpoints generated in developer mode.\n",
    "checkpoint_dir = output if not dev else debug\n",
    "# create subfolder based on time\n",
    "checkpoint_dir = Path(checkpoint_dir) / datetime.now().strftime(\"%Y%m%d-%H%M%S\")\n",
    "trainer = modules[module_name][\"initializer\"].init_trainer(\n",
    "    num_classes=dataset[\"num_classes\"],\n",
    "    max_iter=max_iter,\n",
    "    eval_step=eval_step,\n",
    "    checkpoint_dir=checkpoint_dir,\n",
    "    device=device,\n",
    "    pretrained_dir=\"./checkpoints/pretrained\"\n",
    ")\n",
    "\n",
    "\n",
    "print(\"** Mode =\", mode)\n",
    "if mode == \"train\":        \n",
    "    # Save command-line arguments\n",
    "    Path(trainer.checkpoint_dir).mkdir(parents=True, exist_ok=True,)\n",
    "    # Comment the code below since there is no args\n",
    "    # with open(Path(trainer.checkpoint_dir) / \"json\", \"w\") as f:\n",
    "    #     json.dump(vars(args), f, indent=4)\n",
    "    trainer.train(module, train_dataloader, val_dataloader, load_pretrained=[0, 1])\n",
    "if mode == \"test\" or test_dataloader:\n",
    "    test_metric = trainer.validation(module, test_dataloader, label=\"all\")\n",
    "    print(\"** Test (Final):\", test_metric)\n",
    "else:\n",
    "    raise ValueError(\"Got an invalid input of option --mode.\")"
   ]
  },
  {
   "cell_type": "code",
   "execution_count": null,
   "id": "9681008f-8600-4aa0-89e9-6678a8a1f04b",
   "metadata": {},
   "outputs": [],
   "source": []
  }
 ],
 "metadata": {
  "kernelspec": {
   "display_name": "Python 3 (ipykernel)",
   "language": "python",
   "name": "python3"
  },
  "language_info": {
   "codemirror_mode": {
    "name": "ipython",
    "version": 3
   },
   "file_extension": ".py",
   "mimetype": "text/x-python",
   "name": "python",
   "nbconvert_exporter": "python",
   "pygments_lexer": "ipython3",
   "version": "3.8.17"
  },
  "widgets": {
   "application/vnd.jupyter.widget-state+json": {
    "state": {
     "006342e10a52445b948eb74a61b1a97e": {
      "model_module": "@jupyter-widgets/controls",
      "model_module_version": "2.0.0",
      "model_name": "HTMLStyleModel",
      "state": {
       "description_width": "",
       "font_size": null,
       "text_color": null
      }
     },
     "0094525d1d114b62b006c94ac74acbb5": {
      "model_module": "@jupyter-widgets/controls",
      "model_module_version": "2.0.0",
      "model_name": "FloatProgressModel",
      "state": {
       "bar_style": "success",
       "layout": "IPY_MODEL_7649d0611d4d4442987cd3774d79570b",
       "max": 40,
       "style": "IPY_MODEL_33ede2c765ca46c08ba609b4a3d58b11",
       "value": 40
      }
     },
     "010b4bb752b4485fa33f6c2ccd6e6942": {
      "model_module": "@jupyter-widgets/controls",
      "model_module_version": "2.0.0",
      "model_name": "ProgressStyleModel",
      "state": {
       "description_width": ""
      }
     },
     "0168911bb2c843829398a9790662b36a": {
      "model_module": "@jupyter-widgets/base",
      "model_module_version": "2.0.0",
      "model_name": "LayoutModel",
      "state": {}
     },
     "01a5fdf9570348ff9cf5637dbe66cbc6": {
      "model_module": "@jupyter-widgets/base",
      "model_module_version": "2.0.0",
      "model_name": "LayoutModel",
      "state": {
       "flex": "2"
      }
     },
     "026962d7d3d941949e9ab08749f276ee": {
      "model_module": "@jupyter-widgets/controls",
      "model_module_version": "2.0.0",
      "model_name": "HTMLModel",
      "state": {
       "layout": "IPY_MODEL_5dd50bbcd37f4f45973c480a3eff0e24",
       "style": "IPY_MODEL_7a36af71d5fa41b89161a67d44675fea",
       "value": "Validate (2599 Steps) (DiceMetric=0.25837): 100%"
      }
     },
     "02a54f24ed43400981084831362be623": {
      "model_module": "@jupyter-widgets/base",
      "model_module_version": "2.0.0",
      "model_name": "LayoutModel",
      "state": {}
     },
     "03060ae1c64643efa1647005767026e1": {
      "model_module": "@jupyter-widgets/controls",
      "model_module_version": "2.0.0",
      "model_name": "FloatProgressModel",
      "state": {
       "bar_style": "success",
       "layout": "IPY_MODEL_ed277bb4a1e24570acd22891bf287bd7",
       "max": 40,
       "style": "IPY_MODEL_b8bd62374e614141893f994f0b6ef138",
       "value": 40
      }
     },
     "03f54a2a15df46f3bb38610569997c32": {
      "model_module": "@jupyter-widgets/base",
      "model_module_version": "2.0.0",
      "model_name": "LayoutModel",
      "state": {}
     },
     "0417f9f83ab34cfa81d42630cd087658": {
      "model_module": "@jupyter-widgets/controls",
      "model_module_version": "2.0.0",
      "model_name": "HTMLModel",
      "state": {
       "layout": "IPY_MODEL_db742ec58a654b6db2aa10f67ad96f66",
       "style": "IPY_MODEL_585e81a68db54b49b6aafff07969416f",
       "value": "Validate (1299 Steps) (DiceMetric=0.27962): 100%"
      }
     },
     "047302d2097b407f82f644880b63cbab": {
      "model_module": "@jupyter-widgets/base",
      "model_module_version": "2.0.0",
      "model_name": "LayoutModel",
      "state": {}
     },
     "073f20f533504766b9eb4c955db90609": {
      "model_module": "@jupyter-widgets/controls",
      "model_module_version": "2.0.0",
      "model_name": "ProgressStyleModel",
      "state": {
       "description_width": ""
      }
     },
     "07b911df3bd7412cbfd2eb252bfecc1d": {
      "model_module": "@jupyter-widgets/controls",
      "model_module_version": "2.0.0",
      "model_name": "HBoxModel",
      "state": {
       "children": [
        "IPY_MODEL_5136093a6d4840efac619f52d03f03f9",
        "IPY_MODEL_df7e11d06a714285b0dada7b884982ae",
        "IPY_MODEL_9c22ca29120a44b29a33aaa97c003ccb"
       ],
       "layout": "IPY_MODEL_182c7f0fdb8a400a90fde8d0a3bb1841"
      }
     },
     "0be9cd7be1a2450289f6f14ab8c57b06": {
      "model_module": "@jupyter-widgets/controls",
      "model_module_version": "2.0.0",
      "model_name": "HTMLModel",
      "state": {
       "layout": "IPY_MODEL_f97d057326a640a186c13364733d210a",
       "style": "IPY_MODEL_b0a5d779c31343e199096cf43fad3d06",
       "value": "Validate (199 Steps) (DiceMetric=0.30072): 100%"
      }
     },
     "0c174eb0162940d5ad24ec9a11b0efc3": {
      "model_module": "@jupyter-widgets/controls",
      "model_module_version": "2.0.0",
      "model_name": "ProgressStyleModel",
      "state": {
       "description_width": ""
      }
     },
     "0c6b7df0f3ec4fee8a58923bfbe84fce": {
      "model_module": "@jupyter-widgets/base",
      "model_module_version": "2.0.0",
      "model_name": "LayoutModel",
      "state": {
       "flex": "2"
      }
     },
     "0c7548d0993e48ec902babad43d12847": {
      "model_module": "@jupyter-widgets/base",
      "model_module_version": "2.0.0",
      "model_name": "LayoutModel",
      "state": {}
     },
     "0c8038dcd4fb4a219fac0dcd4bd6b0b7": {
      "model_module": "@jupyter-widgets/controls",
      "model_module_version": "2.0.0",
      "model_name": "HTMLStyleModel",
      "state": {
       "description_width": "",
       "font_size": null,
       "text_color": null
      }
     },
     "0ce2989b6e184b20a4d0b39cc6f56f47": {
      "model_module": "@jupyter-widgets/base",
      "model_module_version": "2.0.0",
      "model_name": "LayoutModel",
      "state": {
       "flex": "2"
      }
     },
     "10f8703bff304833a3721726d59263e5": {
      "model_module": "@jupyter-widgets/controls",
      "model_module_version": "2.0.0",
      "model_name": "FloatProgressModel",
      "state": {
       "bar_style": "success",
       "layout": "IPY_MODEL_01a5fdf9570348ff9cf5637dbe66cbc6",
       "max": 40,
       "style": "IPY_MODEL_24396d5e8f364e28b93c8693c9a3e027",
       "value": 40
      }
     },
     "11226b0d7e9e4f1581eb0310e78afaad": {
      "model_module": "@jupyter-widgets/base",
      "model_module_version": "2.0.0",
      "model_name": "LayoutModel",
      "state": {}
     },
     "12a8d07b7994489db958aaa7fd3322fa": {
      "model_module": "@jupyter-widgets/controls",
      "model_module_version": "2.0.0",
      "model_name": "HTMLModel",
      "state": {
       "layout": "IPY_MODEL_bd1c073f99954cc6baec62d3736ffe11",
       "style": "IPY_MODEL_9c4936a2d1e1439296d9e6660d9bd371",
       "value": "Validate (2299 Steps) (DiceMetric=0.26544): 100%"
      }
     },
     "12b65bbf65fa41f69b650ec790b04cd7": {
      "model_module": "@jupyter-widgets/controls",
      "model_module_version": "2.0.0",
      "model_name": "HTMLModel",
      "state": {
       "layout": "IPY_MODEL_f674f15bdef948e5aa0795e86cd57d69",
       "style": "IPY_MODEL_47a1bcf0bf164073a997110b3066b8cc",
       "value": " 40/40 [02:35&lt;00:00,  1.94s/it]"
      }
     },
     "131690b5e06243b0bca4215945ebb33d": {
      "model_module": "@jupyter-widgets/controls",
      "model_module_version": "2.0.0",
      "model_name": "HTMLStyleModel",
      "state": {
       "description_width": "",
       "font_size": null,
       "text_color": null
      }
     },
     "1436b126d2344c528c675277b88fb1d0": {
      "model_module": "@jupyter-widgets/controls",
      "model_module_version": "2.0.0",
      "model_name": "HTMLStyleModel",
      "state": {
       "description_width": "",
       "font_size": null,
       "text_color": null
      }
     },
     "1437633f02f74543ada788d6dd16f2a3": {
      "model_module": "@jupyter-widgets/base",
      "model_module_version": "2.0.0",
      "model_name": "LayoutModel",
      "state": {
       "display": "inline-flex",
       "flex_flow": "row wrap",
       "width": "100%"
      }
     },
     "1463813674a24d29b20579abf17e11c2": {
      "model_module": "@jupyter-widgets/base",
      "model_module_version": "2.0.0",
      "model_name": "LayoutModel",
      "state": {}
     },
     "159ffb407b044e81819bfec37b8c9b65": {
      "model_module": "@jupyter-widgets/controls",
      "model_module_version": "2.0.0",
      "model_name": "HBoxModel",
      "state": {
       "children": [
        "IPY_MODEL_a19a8bdd85a74d198c76e644fa212e44",
        "IPY_MODEL_10f8703bff304833a3721726d59263e5",
        "IPY_MODEL_8365f826cdc7436e8663bdfbc5516cc1"
       ],
       "layout": "IPY_MODEL_aa43ac867dd040799e348f10af9ad818"
      }
     },
     "167774f725814abf9027cbec45a4a1b9": {
      "model_module": "@jupyter-widgets/controls",
      "model_module_version": "2.0.0",
      "model_name": "HBoxModel",
      "state": {
       "children": [
        "IPY_MODEL_12a8d07b7994489db958aaa7fd3322fa",
        "IPY_MODEL_bb9d5ed7b4794b9197661db5696b4dd7",
        "IPY_MODEL_12b65bbf65fa41f69b650ec790b04cd7"
       ],
       "layout": "IPY_MODEL_3c3f107c867d41189fb1d06e4a2ed1f2"
      }
     },
     "178ad5d43cc54dc2843dedd1c7a8c938": {
      "model_module": "@jupyter-widgets/base",
      "model_module_version": "2.0.0",
      "model_name": "LayoutModel",
      "state": {
       "display": "inline-flex",
       "flex_flow": "row wrap",
       "width": "100%"
      }
     },
     "182c7f0fdb8a400a90fde8d0a3bb1841": {
      "model_module": "@jupyter-widgets/base",
      "model_module_version": "2.0.0",
      "model_name": "LayoutModel",
      "state": {
       "display": "inline-flex",
       "flex_flow": "row wrap",
       "width": "100%"
      }
     },
     "19d5d87786f34babbbaf020b3ab1a231": {
      "model_module": "@jupyter-widgets/controls",
      "model_module_version": "2.0.0",
      "model_name": "HBoxModel",
      "state": {
       "children": [
        "IPY_MODEL_026962d7d3d941949e9ab08749f276ee",
        "IPY_MODEL_d1c38e17166a4f4a8d03969e7fdb678b",
        "IPY_MODEL_affd2fc50bce4331a413e1e83a18a14a"
       ],
       "layout": "IPY_MODEL_c04380e414e24491a8bdfb4e56476cee"
      }
     },
     "1be0638fe7104ea68bc13828c5fd8f9f": {
      "model_module": "@jupyter-widgets/base",
      "model_module_version": "2.0.0",
      "model_name": "LayoutModel",
      "state": {}
     },
     "1e68c4f3993d44cbb2f0148508f54af8": {
      "model_module": "@jupyter-widgets/controls",
      "model_module_version": "2.0.0",
      "model_name": "FloatProgressModel",
      "state": {
       "bar_style": "success",
       "layout": "IPY_MODEL_2fe44a6ca8e04f819e051f942a749a3e",
       "max": 40,
       "style": "IPY_MODEL_cee25d9f17434ec4be288bf2d669d5b6",
       "value": 40
      }
     },
     "1f79d4243e334e6f887648bb03f3ba2a": {
      "model_module": "@jupyter-widgets/base",
      "model_module_version": "2.0.0",
      "model_name": "LayoutModel",
      "state": {}
     },
     "1ff3ca6a0f7743c78ca05f456fff97e9": {
      "model_module": "@jupyter-widgets/controls",
      "model_module_version": "2.0.0",
      "model_name": "HTMLModel",
      "state": {
       "layout": "IPY_MODEL_bbea4c80c9ac454f92e8b34a18512445",
       "style": "IPY_MODEL_30d79951d5564910a8d7cf606ee411e3",
       "value": "Validate (2499 Steps) (DiceMetric=0.26506): 100%"
      }
     },
     "20353b7b5d624d44be3a93e66cfda55e": {
      "model_module": "@jupyter-widgets/controls",
      "model_module_version": "2.0.0",
      "model_name": "HTMLModel",
      "state": {
       "layout": "IPY_MODEL_d03803507a174666b82fcbbdd3521942",
       "style": "IPY_MODEL_528a448eeb2b4dde909d170b86f70299",
       "value": "Validate (1799 Steps) (DiceMetric=0.26996): 100%"
      }
     },
     "20a366714d6b4f3ca6483fee58a2dff0": {
      "model_module": "@jupyter-widgets/controls",
      "model_module_version": "2.0.0",
      "model_name": "HTMLModel",
      "state": {
       "layout": "IPY_MODEL_8818f86015e1479a8cd21bbcfe462ffd",
       "style": "IPY_MODEL_27b2d962dec94cc699c91437c5369cbc",
       "value": " 40/40 [02:35&lt;00:00,  1.95s/it]"
      }
     },
     "232d926c6bb54a849414e7df6487b501": {
      "model_module": "@jupyter-widgets/controls",
      "model_module_version": "2.0.0",
      "model_name": "FloatProgressModel",
      "state": {
       "bar_style": "success",
       "layout": "IPY_MODEL_a92b13f8c9d24d43b1a8cd564fc945df",
       "max": 40,
       "style": "IPY_MODEL_3336bd6ceda9412fa966beb17005c138",
       "value": 40
      }
     },
     "2396384167fe49de8b2c77c20cce6db6": {
      "model_module": "@jupyter-widgets/controls",
      "model_module_version": "2.0.0",
      "model_name": "ProgressStyleModel",
      "state": {
       "description_width": ""
      }
     },
     "24396d5e8f364e28b93c8693c9a3e027": {
      "model_module": "@jupyter-widgets/controls",
      "model_module_version": "2.0.0",
      "model_name": "ProgressStyleModel",
      "state": {
       "description_width": ""
      }
     },
     "24877108babf4ec9b9f809cf0fd5f14d": {
      "model_module": "@jupyter-widgets/controls",
      "model_module_version": "2.0.0",
      "model_name": "HTMLStyleModel",
      "state": {
       "description_width": "",
       "font_size": null,
       "text_color": null
      }
     },
     "263c4cb5e45645edb0232540547cc271": {
      "model_module": "@jupyter-widgets/controls",
      "model_module_version": "2.0.0",
      "model_name": "ProgressStyleModel",
      "state": {
       "description_width": ""
      }
     },
     "2751f0d554694c64a4a6fc2a859f3132": {
      "model_module": "@jupyter-widgets/controls",
      "model_module_version": "2.0.0",
      "model_name": "HTMLModel",
      "state": {
       "layout": "IPY_MODEL_956828b83716436a851e3ab0870dc8a6",
       "style": "IPY_MODEL_86b0064da13c46a2a12be68a0e6ac4b0",
       "value": " 40/40 [02:34&lt;00:00,  1.95s/it]"
      }
     },
     "27a22fdd081c4e5aa76a13bd093aec9a": {
      "model_module": "@jupyter-widgets/controls",
      "model_module_version": "2.0.0",
      "model_name": "HTMLStyleModel",
      "state": {
       "description_width": "",
       "font_size": null,
       "text_color": null
      }
     },
     "27b2d962dec94cc699c91437c5369cbc": {
      "model_module": "@jupyter-widgets/controls",
      "model_module_version": "2.0.0",
      "model_name": "HTMLStyleModel",
      "state": {
       "description_width": "",
       "font_size": null,
       "text_color": null
      }
     },
     "282dda89d732468bbe542afe1f1b6d28": {
      "model_module": "@jupyter-widgets/controls",
      "model_module_version": "2.0.0",
      "model_name": "ProgressStyleModel",
      "state": {
       "description_width": ""
      }
     },
     "2a9079c5e7344f48a8b6443a34040278": {
      "model_module": "@jupyter-widgets/base",
      "model_module_version": "2.0.0",
      "model_name": "LayoutModel",
      "state": {
       "flex": "2"
      }
     },
     "2a94e50064aa431698f330ae38870198": {
      "model_module": "@jupyter-widgets/base",
      "model_module_version": "2.0.0",
      "model_name": "LayoutModel",
      "state": {}
     },
     "2ac0cc2732924216bc8194bd101c8f44": {
      "model_module": "@jupyter-widgets/controls",
      "model_module_version": "2.0.0",
      "model_name": "HTMLStyleModel",
      "state": {
       "description_width": "",
       "font_size": null,
       "text_color": null
      }
     },
     "2ac7b9f4ffee4bb9948cdcdd07e25a71": {
      "model_module": "@jupyter-widgets/controls",
      "model_module_version": "2.0.0",
      "model_name": "HTMLStyleModel",
      "state": {
       "description_width": "",
       "font_size": null,
       "text_color": null
      }
     },
     "2b4612504ed046019a489ccbbdf421c4": {
      "model_module": "@jupyter-widgets/controls",
      "model_module_version": "2.0.0",
      "model_name": "HTMLModel",
      "state": {
       "layout": "IPY_MODEL_80394521dd4a40169349d97b44439089",
       "style": "IPY_MODEL_545ddeb4381c48aea2a794644e41b1e0",
       "value": " 40/40 [02:35&lt;00:00,  1.95s/it]"
      }
     },
     "2bb341378f534120935556fabe8a42ad": {
      "model_module": "@jupyter-widgets/base",
      "model_module_version": "2.0.0",
      "model_name": "LayoutModel",
      "state": {}
     },
     "2bcddd85295042cdaf30e37e7fbdebfa": {
      "model_module": "@jupyter-widgets/controls",
      "model_module_version": "2.0.0",
      "model_name": "HTMLStyleModel",
      "state": {
       "description_width": "",
       "font_size": null,
       "text_color": null
      }
     },
     "2c83380edfe74c2793c4b70cb9f7a0b2": {
      "model_module": "@jupyter-widgets/controls",
      "model_module_version": "2.0.0",
      "model_name": "FloatProgressModel",
      "state": {
       "bar_style": "success",
       "layout": "IPY_MODEL_a391dd6dcfe0464e9531e8eb63fb3ae8",
       "max": 40,
       "style": "IPY_MODEL_073f20f533504766b9eb4c955db90609",
       "value": 40
      }
     },
     "2cf919c07219400c8b2252a4f6155706": {
      "model_module": "@jupyter-widgets/controls",
      "model_module_version": "2.0.0",
      "model_name": "HTMLModel",
      "state": {
       "layout": "IPY_MODEL_88a5f638536d4a0d99ae41275bf84cd1",
       "style": "IPY_MODEL_b50af1c5c9114b51ad74619a8bf1ad90",
       "value": "Validate (1899 Steps) (DiceMetric=0.27345): 100%"
      }
     },
     "2d6808a0ebb643408cdf75fe69ef3320": {
      "model_module": "@jupyter-widgets/base",
      "model_module_version": "2.0.0",
      "model_name": "LayoutModel",
      "state": {}
     },
     "2df0ef8096ef47488a939ec86a7bbac6": {
      "model_module": "@jupyter-widgets/controls",
      "model_module_version": "2.0.0",
      "model_name": "ProgressStyleModel",
      "state": {
       "description_width": ""
      }
     },
     "2eb08e85416a43f896444ac36fd78a14": {
      "model_module": "@jupyter-widgets/controls",
      "model_module_version": "2.0.0",
      "model_name": "HTMLModel",
      "state": {
       "layout": "IPY_MODEL_6f2dd81f53a34102af52070022d617e3",
       "style": "IPY_MODEL_84d72d798f0f41658963ba91d175fc0c",
       "value": "Validate (599 Steps) (DiceMetric=0.27433): 100%"
      }
     },
     "2eeb1aabffa74d70be883df64761926c": {
      "model_module": "@jupyter-widgets/controls",
      "model_module_version": "2.0.0",
      "model_name": "HBoxModel",
      "state": {
       "children": [
        "IPY_MODEL_d08ce7b913f34347af227247f526a91b",
        "IPY_MODEL_03060ae1c64643efa1647005767026e1",
        "IPY_MODEL_fe5fb73a472940a19bfb71b3c935ea6b"
       ],
       "layout": "IPY_MODEL_c959250132754b44b2fc1359e5cd1dd7"
      }
     },
     "2fca8f8749df491a8904d367a4c5ee81": {
      "model_module": "@jupyter-widgets/base",
      "model_module_version": "2.0.0",
      "model_name": "LayoutModel",
      "state": {}
     },
     "2fe44a6ca8e04f819e051f942a749a3e": {
      "model_module": "@jupyter-widgets/base",
      "model_module_version": "2.0.0",
      "model_name": "LayoutModel",
      "state": {
       "flex": "2"
      }
     },
     "3099a7df49d64048b5dffcf0936cf708": {
      "model_module": "@jupyter-widgets/controls",
      "model_module_version": "2.0.0",
      "model_name": "HTMLStyleModel",
      "state": {
       "description_width": "",
       "font_size": null,
       "text_color": null
      }
     },
     "30d79951d5564910a8d7cf606ee411e3": {
      "model_module": "@jupyter-widgets/controls",
      "model_module_version": "2.0.0",
      "model_name": "HTMLStyleModel",
      "state": {
       "description_width": "",
       "font_size": null,
       "text_color": null
      }
     },
     "32c5d1bb6b104c98a3fd6259c234d1c9": {
      "model_module": "@jupyter-widgets/controls",
      "model_module_version": "2.0.0",
      "model_name": "ProgressStyleModel",
      "state": {
       "description_width": ""
      }
     },
     "3336bd6ceda9412fa966beb17005c138": {
      "model_module": "@jupyter-widgets/controls",
      "model_module_version": "2.0.0",
      "model_name": "ProgressStyleModel",
      "state": {
       "description_width": ""
      }
     },
     "337705fccb824263b202ca8fbf068e79": {
      "model_module": "@jupyter-widgets/base",
      "model_module_version": "2.0.0",
      "model_name": "LayoutModel",
      "state": {
       "flex": "2"
      }
     },
     "33ede2c765ca46c08ba609b4a3d58b11": {
      "model_module": "@jupyter-widgets/controls",
      "model_module_version": "2.0.0",
      "model_name": "ProgressStyleModel",
      "state": {
       "description_width": ""
      }
     },
     "3450463bc2494b7c9df4c52747b49822": {
      "model_module": "@jupyter-widgets/base",
      "model_module_version": "2.0.0",
      "model_name": "LayoutModel",
      "state": {
       "flex": "2"
      }
     },
     "3557f481a7c440f8a92861b8d2deb7d2": {
      "model_module": "@jupyter-widgets/controls",
      "model_module_version": "2.0.0",
      "model_name": "HTMLStyleModel",
      "state": {
       "description_width": "",
       "font_size": null,
       "text_color": null
      }
     },
     "3afa76a3171c4a51b073ad21a9396901": {
      "model_module": "@jupyter-widgets/controls",
      "model_module_version": "2.0.0",
      "model_name": "HBoxModel",
      "state": {
       "children": [
        "IPY_MODEL_ccac2b17b9934d4a835236fca8b2eaf0",
        "IPY_MODEL_7c25559c19d44d748234cde3320046d3",
        "IPY_MODEL_8dcc48c14a6640cb90fee4b1677ae9b6"
       ],
       "layout": "IPY_MODEL_9c4119932d8e4aad85f71198f4ddc823"
      }
     },
     "3c3f107c867d41189fb1d06e4a2ed1f2": {
      "model_module": "@jupyter-widgets/base",
      "model_module_version": "2.0.0",
      "model_name": "LayoutModel",
      "state": {
       "display": "inline-flex",
       "flex_flow": "row wrap",
       "width": "100%"
      }
     },
     "3ce27175768b4cfd9ba0b59e21757621": {
      "model_module": "@jupyter-widgets/controls",
      "model_module_version": "2.0.0",
      "model_name": "HBoxModel",
      "state": {
       "children": [
        "IPY_MODEL_5891b28aafc045d8b0c8ecf0e3f1df95",
        "IPY_MODEL_507412bdf7ce402aa9f9821327a2ee97",
        "IPY_MODEL_f90544ea206542b8a6f5c974ddc951f3"
       ],
       "layout": "IPY_MODEL_97209e8a5fac4b1f9c6309396e19871c"
      }
     },
     "3e5c2649026042c3a76e9b9ce9d5d9b7": {
      "model_module": "@jupyter-widgets/base",
      "model_module_version": "2.0.0",
      "model_name": "LayoutModel",
      "state": {}
     },
     "3ea27767c1484072a746d31bebff422c": {
      "model_module": "@jupyter-widgets/controls",
      "model_module_version": "2.0.0",
      "model_name": "HTMLStyleModel",
      "state": {
       "description_width": "",
       "font_size": null,
       "text_color": null
      }
     },
     "3f7be9712be24212900eb456c00e53d4": {
      "model_module": "@jupyter-widgets/base",
      "model_module_version": "2.0.0",
      "model_name": "LayoutModel",
      "state": {
       "display": "inline-flex",
       "flex_flow": "row wrap",
       "width": "100%"
      }
     },
     "4033d9f022e94f959632985b9c22e10e": {
      "model_module": "@jupyter-widgets/controls",
      "model_module_version": "2.0.0",
      "model_name": "HTMLModel",
      "state": {
       "layout": "IPY_MODEL_2a94e50064aa431698f330ae38870198",
       "style": "IPY_MODEL_a543ecc894164eef98c824a56205b97c",
       "value": " 40/40 [02:37&lt;00:00,  1.97s/it]"
      }
     },
     "4202132741a649ff8d1060e610d0a7e8": {
      "model_module": "@jupyter-widgets/controls",
      "model_module_version": "2.0.0",
      "model_name": "HTMLStyleModel",
      "state": {
       "description_width": "",
       "font_size": null,
       "text_color": null
      }
     },
     "42208a0b2bff4cc38e7ea28960b85a76": {
      "model_module": "@jupyter-widgets/base",
      "model_module_version": "2.0.0",
      "model_name": "LayoutModel",
      "state": {}
     },
     "46017b5cb4084b52882eb26f6cb06c85": {
      "model_module": "@jupyter-widgets/controls",
      "model_module_version": "2.0.0",
      "model_name": "HTMLStyleModel",
      "state": {
       "description_width": "",
       "font_size": null,
       "text_color": null
      }
     },
     "46a7497abaac437685941fafb9976d2c": {
      "model_module": "@jupyter-widgets/base",
      "model_module_version": "2.0.0",
      "model_name": "LayoutModel",
      "state": {
       "display": "inline-flex",
       "flex_flow": "row wrap",
       "width": "100%"
      }
     },
     "4706b8c035a44a578d3ace86d2804164": {
      "model_module": "@jupyter-widgets/controls",
      "model_module_version": "2.0.0",
      "model_name": "HBoxModel",
      "state": {
       "children": [
        "IPY_MODEL_d7307e2fa19c438ba931ccfd1b5ea8be",
        "IPY_MODEL_4fd066bb25334f89bdbe2bc580eddff6",
        "IPY_MODEL_4f027834f6704994b1e796b998da64f2"
       ],
       "layout": "IPY_MODEL_fb3ae01c4d3744b39d0e30794d92af84"
      }
     },
     "47a1bcf0bf164073a997110b3066b8cc": {
      "model_module": "@jupyter-widgets/controls",
      "model_module_version": "2.0.0",
      "model_name": "HTMLStyleModel",
      "state": {
       "description_width": "",
       "font_size": null,
       "text_color": null
      }
     },
     "49a95dc8180645de9601c4e009bf725e": {
      "model_module": "@jupyter-widgets/controls",
      "model_module_version": "2.0.0",
      "model_name": "HTMLModel",
      "state": {
       "layout": "IPY_MODEL_63eea5f7b45745f7a7584bff1cf1ad1a",
       "style": "IPY_MODEL_6d0949297dde4fa3a7409d6b2e854b17",
       "value": "Validate (1199 Steps) (DiceMetric=0.27997): 100%"
      }
     },
     "4ac5aeee8b4a4cc5928090497fd81ee4": {
      "model_module": "@jupyter-widgets/controls",
      "model_module_version": "2.0.0",
      "model_name": "HTMLModel",
      "state": {
       "layout": "IPY_MODEL_4cabc95cc07240b1b94646cb6c5b68c2",
       "style": "IPY_MODEL_1436b126d2344c528c675277b88fb1d0",
       "value": " 40/40 [02:35&lt;00:00,  1.93s/it]"
      }
     },
     "4b38a23411004adab791893fa22814ad": {
      "model_module": "@jupyter-widgets/controls",
      "model_module_version": "2.0.0",
      "model_name": "ProgressStyleModel",
      "state": {
       "description_width": ""
      }
     },
     "4cabc95cc07240b1b94646cb6c5b68c2": {
      "model_module": "@jupyter-widgets/base",
      "model_module_version": "2.0.0",
      "model_name": "LayoutModel",
      "state": {}
     },
     "4d208ad564434e7b9c6d678ea43330f0": {
      "model_module": "@jupyter-widgets/controls",
      "model_module_version": "2.0.0",
      "model_name": "HTMLStyleModel",
      "state": {
       "description_width": "",
       "font_size": null,
       "text_color": null
      }
     },
     "4da97c1693e9459ea4a2438b35d85cc0": {
      "model_module": "@jupyter-widgets/base",
      "model_module_version": "2.0.0",
      "model_name": "LayoutModel",
      "state": {
       "flex": "2"
      }
     },
     "4e1b17ffaa3f43ee80decbaf2394f895": {
      "model_module": "@jupyter-widgets/base",
      "model_module_version": "2.0.0",
      "model_name": "LayoutModel",
      "state": {
       "display": "inline-flex",
       "flex_flow": "row wrap",
       "width": "100%"
      }
     },
     "4e3850fde722482687a45658eb93f0ea": {
      "model_module": "@jupyter-widgets/controls",
      "model_module_version": "2.0.0",
      "model_name": "HTMLModel",
      "state": {
       "layout": "IPY_MODEL_a9528f50a3044a729b251aa1c302b186",
       "style": "IPY_MODEL_131690b5e06243b0bca4215945ebb33d",
       "value": "Validate (699 Steps) (DiceMetric=0.26856): 100%"
      }
     },
     "4efb539ec58745ab9180c3995118a20a": {
      "model_module": "@jupyter-widgets/base",
      "model_module_version": "2.0.0",
      "model_name": "LayoutModel",
      "state": {
       "display": "inline-flex",
       "flex_flow": "row wrap",
       "width": "100%"
      }
     },
     "4f027834f6704994b1e796b998da64f2": {
      "model_module": "@jupyter-widgets/controls",
      "model_module_version": "2.0.0",
      "model_name": "HTMLModel",
      "state": {
       "layout": "IPY_MODEL_1f79d4243e334e6f887648bb03f3ba2a",
       "style": "IPY_MODEL_6af2d4e6e28a4e12b4151f09bc0963af",
       "value": " 40/40 [02:36&lt;00:00,  1.93s/it]"
      }
     },
     "4f7ebd14b9714b7e8e6f172cf56c6230": {
      "model_module": "@jupyter-widgets/controls",
      "model_module_version": "2.0.0",
      "model_name": "HTMLModel",
      "state": {
       "layout": "IPY_MODEL_a7f4c0eb880e4a49b34cbc14b35abc0d",
       "style": "IPY_MODEL_d34bc4b8a5954140bd887558de8d31a1",
       "value": "Validate (1399 Steps) (DiceMetric=0.27220): 100%"
      }
     },
     "4fd066bb25334f89bdbe2bc580eddff6": {
      "model_module": "@jupyter-widgets/controls",
      "model_module_version": "2.0.0",
      "model_name": "FloatProgressModel",
      "state": {
       "bar_style": "success",
       "layout": "IPY_MODEL_4da97c1693e9459ea4a2438b35d85cc0",
       "max": 40,
       "style": "IPY_MODEL_6787b4f764e741029aed5fd99b380af4",
       "value": 40
      }
     },
     "507412bdf7ce402aa9f9821327a2ee97": {
      "model_module": "@jupyter-widgets/controls",
      "model_module_version": "2.0.0",
      "model_name": "FloatProgressModel",
      "state": {
       "bar_style": "success",
       "layout": "IPY_MODEL_d4539ce17a354262968a07c309de7165",
       "max": 40,
       "style": "IPY_MODEL_dd451923f2cc4ac2a64d65984be34f7f",
       "value": 40
      }
     },
     "5136093a6d4840efac619f52d03f03f9": {
      "model_module": "@jupyter-widgets/controls",
      "model_module_version": "2.0.0",
      "model_name": "HTMLModel",
      "state": {
       "layout": "IPY_MODEL_11226b0d7e9e4f1581eb0310e78afaad",
       "style": "IPY_MODEL_27a22fdd081c4e5aa76a13bd093aec9a",
       "value": "Validate (2099 Steps) (DiceMetric=0.26087): 100%"
      }
     },
     "528a448eeb2b4dde909d170b86f70299": {
      "model_module": "@jupyter-widgets/controls",
      "model_module_version": "2.0.0",
      "model_name": "HTMLStyleModel",
      "state": {
       "description_width": "",
       "font_size": null,
       "text_color": null
      }
     },
     "53b84ab7352740eaa3329a126ee4a9cf": {
      "model_module": "@jupyter-widgets/base",
      "model_module_version": "2.0.0",
      "model_name": "LayoutModel",
      "state": {
       "display": "inline-flex",
       "flex_flow": "row wrap",
       "width": "100%"
      }
     },
     "545ddeb4381c48aea2a794644e41b1e0": {
      "model_module": "@jupyter-widgets/controls",
      "model_module_version": "2.0.0",
      "model_name": "HTMLStyleModel",
      "state": {
       "description_width": "",
       "font_size": null,
       "text_color": null
      }
     },
     "55b4db309a044b9bba08bc2f311cfa38": {
      "model_module": "@jupyter-widgets/base",
      "model_module_version": "2.0.0",
      "model_name": "LayoutModel",
      "state": {
       "flex": "2"
      }
     },
     "585e81a68db54b49b6aafff07969416f": {
      "model_module": "@jupyter-widgets/controls",
      "model_module_version": "2.0.0",
      "model_name": "HTMLStyleModel",
      "state": {
       "description_width": "",
       "font_size": null,
       "text_color": null
      }
     },
     "5891b28aafc045d8b0c8ecf0e3f1df95": {
      "model_module": "@jupyter-widgets/controls",
      "model_module_version": "2.0.0",
      "model_name": "HTMLModel",
      "state": {
       "layout": "IPY_MODEL_02a54f24ed43400981084831362be623",
       "style": "IPY_MODEL_baa09d9dec704f29b374f4a85e884b96",
       "value": "Validate (499 Steps) (DiceMetric=0.28405): 100%"
      }
     },
     "59c537e35ec245609cf7a0d584fb5f12": {
      "model_module": "@jupyter-widgets/controls",
      "model_module_version": "2.0.0",
      "model_name": "ProgressStyleModel",
      "state": {
       "description_width": ""
      }
     },
     "5b80a49324e747d7a5206d97cb99185c": {
      "model_module": "@jupyter-widgets/controls",
      "model_module_version": "2.0.0",
      "model_name": "HTMLModel",
      "state": {
       "layout": "IPY_MODEL_d5ecc28d41d84deab6fdfb0d4f61ad98",
       "style": "IPY_MODEL_d911f2e3b42f4864b63ddfa0a745ac50",
       "value": " 40/40 [02:34&lt;00:00,  1.93s/it]"
      }
     },
     "5b9528078cfe4ab0b034d896a7639aaa": {
      "model_module": "@jupyter-widgets/base",
      "model_module_version": "2.0.0",
      "model_name": "LayoutModel",
      "state": {}
     },
     "5c389bfcf3e94159bbd405ae6e5ca2cc": {
      "model_module": "@jupyter-widgets/base",
      "model_module_version": "2.0.0",
      "model_name": "LayoutModel",
      "state": {
       "flex": "2"
      }
     },
     "5dd50bbcd37f4f45973c480a3eff0e24": {
      "model_module": "@jupyter-widgets/base",
      "model_module_version": "2.0.0",
      "model_name": "LayoutModel",
      "state": {}
     },
     "5e928cd99a6c460fa4e6a7fef5616858": {
      "model_module": "@jupyter-widgets/controls",
      "model_module_version": "2.0.0",
      "model_name": "HTMLStyleModel",
      "state": {
       "description_width": "",
       "font_size": null,
       "text_color": null
      }
     },
     "5eea91d6cb3842f78bebe1d84fa91da8": {
      "model_module": "@jupyter-widgets/base",
      "model_module_version": "2.0.0",
      "model_name": "LayoutModel",
      "state": {}
     },
     "5f8af5b71c664fbf87e10f0abe05238b": {
      "model_module": "@jupyter-widgets/base",
      "model_module_version": "2.0.0",
      "model_name": "LayoutModel",
      "state": {}
     },
     "606b991ff9bb4faa969bfd4749be067d": {
      "model_module": "@jupyter-widgets/controls",
      "model_module_version": "2.0.0",
      "model_name": "FloatProgressModel",
      "state": {
       "bar_style": "success",
       "layout": "IPY_MODEL_337705fccb824263b202ca8fbf068e79",
       "max": 40,
       "style": "IPY_MODEL_282dda89d732468bbe542afe1f1b6d28",
       "value": 40
      }
     },
     "634890d113454ea1abd6679a8e6f276c": {
      "model_module": "@jupyter-widgets/base",
      "model_module_version": "2.0.0",
      "model_name": "LayoutModel",
      "state": {
       "flex": "2"
      }
     },
     "63cfe5deff414532834b1a3c9348c098": {
      "model_module": "@jupyter-widgets/controls",
      "model_module_version": "2.0.0",
      "model_name": "HTMLModel",
      "state": {
       "layout": "IPY_MODEL_2d6808a0ebb643408cdf75fe69ef3320",
       "style": "IPY_MODEL_fcc1761b69aa431897829dafd6fc9fad",
       "value": "Validate (399 Steps) (DiceMetric=0.27282): 100%"
      }
     },
     "63eea5f7b45745f7a7584bff1cf1ad1a": {
      "model_module": "@jupyter-widgets/base",
      "model_module_version": "2.0.0",
      "model_name": "LayoutModel",
      "state": {}
     },
     "641f33cdf2304657902aec623590c168": {
      "model_module": "@jupyter-widgets/base",
      "model_module_version": "2.0.0",
      "model_name": "LayoutModel",
      "state": {}
     },
     "643fd843a3564d7b8c66b280a943f188": {
      "model_module": "@jupyter-widgets/controls",
      "model_module_version": "2.0.0",
      "model_name": "HBoxModel",
      "state": {
       "children": [
        "IPY_MODEL_c767def4869543c68d4475e26511e611",
        "IPY_MODEL_d4a80a3a99ce4d87ac9cc875839ed93d",
        "IPY_MODEL_c9b2448eccec47aba3733ae966b2a439"
       ],
       "layout": "IPY_MODEL_4efb539ec58745ab9180c3995118a20a"
      }
     },
     "657e84fd14b34c2d82d8bc05b3b157f4": {
      "model_module": "@jupyter-widgets/base",
      "model_module_version": "2.0.0",
      "model_name": "LayoutModel",
      "state": {
       "display": "inline-flex",
       "flex_flow": "row wrap",
       "width": "100%"
      }
     },
     "66703356849b4eefbbf823ddbc458a50": {
      "model_module": "@jupyter-widgets/controls",
      "model_module_version": "2.0.0",
      "model_name": "HTMLModel",
      "state": {
       "layout": "IPY_MODEL_5f8af5b71c664fbf87e10f0abe05238b",
       "style": "IPY_MODEL_da1c7912f8db45d8ba0f6ec5569d549e",
       "value": " 40/40 [02:34&lt;00:00,  1.95s/it]"
      }
     },
     "6787b4f764e741029aed5fd99b380af4": {
      "model_module": "@jupyter-widgets/controls",
      "model_module_version": "2.0.0",
      "model_name": "ProgressStyleModel",
      "state": {
       "description_width": ""
      }
     },
     "69acd8e298294a69a266cd2e1860e02b": {
      "model_module": "@jupyter-widgets/controls",
      "model_module_version": "2.0.0",
      "model_name": "HBoxModel",
      "state": {
       "children": [
        "IPY_MODEL_63cfe5deff414532834b1a3c9348c098",
        "IPY_MODEL_e30ecae3fdc04a56adc40b6384156459",
        "IPY_MODEL_8942642983764f1f9efc9a515b2dce52"
       ],
       "layout": "IPY_MODEL_4e1b17ffaa3f43ee80decbaf2394f895"
      }
     },
     "69be0aa993cc459490e84509f3043660": {
      "model_module": "@jupyter-widgets/controls",
      "model_module_version": "2.0.0",
      "model_name": "HTMLStyleModel",
      "state": {
       "description_width": "",
       "font_size": null,
       "text_color": null
      }
     },
     "6af2d4e6e28a4e12b4151f09bc0963af": {
      "model_module": "@jupyter-widgets/controls",
      "model_module_version": "2.0.0",
      "model_name": "HTMLStyleModel",
      "state": {
       "description_width": "",
       "font_size": null,
       "text_color": null
      }
     },
     "6d0949297dde4fa3a7409d6b2e854b17": {
      "model_module": "@jupyter-widgets/controls",
      "model_module_version": "2.0.0",
      "model_name": "HTMLStyleModel",
      "state": {
       "description_width": "",
       "font_size": null,
       "text_color": null
      }
     },
     "6df35d8265164043a983dd6af45be126": {
      "model_module": "@jupyter-widgets/controls",
      "model_module_version": "2.0.0",
      "model_name": "HTMLModel",
      "state": {
       "layout": "IPY_MODEL_e617f861e4844134b711957f0b55fe32",
       "style": "IPY_MODEL_74ac19bc00a94e039a8c544f87b12d08",
       "value": "Validate (2199 Steps) (DiceMetric=0.26904): 100%"
      }
     },
     "6e54bdc94c5e4473a0a57e6ce91e7abb": {
      "model_module": "@jupyter-widgets/base",
      "model_module_version": "2.0.0",
      "model_name": "LayoutModel",
      "state": {
       "display": "inline-flex",
       "flex_flow": "row wrap",
       "width": "100%"
      }
     },
     "6ecd4fd928c541f99c3b175412043ef5": {
      "model_module": "@jupyter-widgets/controls",
      "model_module_version": "2.0.0",
      "model_name": "HTMLStyleModel",
      "state": {
       "description_width": "",
       "font_size": null,
       "text_color": null
      }
     },
     "6f1c95394e85423ea96356a3a2f373e5": {
      "model_module": "@jupyter-widgets/base",
      "model_module_version": "2.0.0",
      "model_name": "LayoutModel",
      "state": {}
     },
     "6f2dd81f53a34102af52070022d617e3": {
      "model_module": "@jupyter-widgets/base",
      "model_module_version": "2.0.0",
      "model_name": "LayoutModel",
      "state": {}
     },
     "6f545cc5a469409bb116f3647bd599d9": {
      "model_module": "@jupyter-widgets/controls",
      "model_module_version": "2.0.0",
      "model_name": "HTMLStyleModel",
      "state": {
       "description_width": "",
       "font_size": null,
       "text_color": null
      }
     },
     "6f9a8b84461342579f70c2583e1f7390": {
      "model_module": "@jupyter-widgets/controls",
      "model_module_version": "2.0.0",
      "model_name": "HBoxModel",
      "state": {
       "children": [
        "IPY_MODEL_92b5b245af0c4151ac394f7040216660",
        "IPY_MODEL_960a9b0717a64a3db8f2a9d5ff9072af",
        "IPY_MODEL_4ac5aeee8b4a4cc5928090497fd81ee4"
       ],
       "layout": "IPY_MODEL_53b84ab7352740eaa3329a126ee4a9cf"
      }
     },
     "701445ad7a8d42eeae6a028cd5ce751b": {
      "model_module": "@jupyter-widgets/controls",
      "model_module_version": "2.0.0",
      "model_name": "HBoxModel",
      "state": {
       "children": [
        "IPY_MODEL_20353b7b5d624d44be3a93e66cfda55e",
        "IPY_MODEL_86a0f573fe744ee789be733d693ac3ea",
        "IPY_MODEL_66703356849b4eefbbf823ddbc458a50"
       ],
       "layout": "IPY_MODEL_9caa7fc8f13a4c32a813bf2324b3b59a"
      }
     },
     "719858050f1449769d8131f0431f93b8": {
      "model_module": "@jupyter-widgets/base",
      "model_module_version": "2.0.0",
      "model_name": "LayoutModel",
      "state": {}
     },
     "720495e6bb7047b0970688da1de754e9": {
      "model_module": "@jupyter-widgets/controls",
      "model_module_version": "2.0.0",
      "model_name": "FloatProgressModel",
      "state": {
       "bar_style": "success",
       "layout": "IPY_MODEL_0c6b7df0f3ec4fee8a58923bfbe84fce",
       "max": 40,
       "style": "IPY_MODEL_2396384167fe49de8b2c77c20cce6db6",
       "value": 40
      }
     },
     "73db939d85a943b6b2f1d4124c60bf25": {
      "model_module": "@jupyter-widgets/base",
      "model_module_version": "2.0.0",
      "model_name": "LayoutModel",
      "state": {}
     },
     "74ac19bc00a94e039a8c544f87b12d08": {
      "model_module": "@jupyter-widgets/controls",
      "model_module_version": "2.0.0",
      "model_name": "HTMLStyleModel",
      "state": {
       "description_width": "",
       "font_size": null,
       "text_color": null
      }
     },
     "753a765dd37c44478720d0672309e649": {
      "model_module": "@jupyter-widgets/controls",
      "model_module_version": "2.0.0",
      "model_name": "HTMLStyleModel",
      "state": {
       "description_width": "",
       "font_size": null,
       "text_color": null
      }
     },
     "7649d0611d4d4442987cd3774d79570b": {
      "model_module": "@jupyter-widgets/base",
      "model_module_version": "2.0.0",
      "model_name": "LayoutModel",
      "state": {
       "flex": "2"
      }
     },
     "76eae4c859c84a89a35b6e84c958943f": {
      "model_module": "@jupyter-widgets/base",
      "model_module_version": "2.0.0",
      "model_name": "LayoutModel",
      "state": {}
     },
     "7840a1e00a0e4c969c92591b0d8b4bac": {
      "model_module": "@jupyter-widgets/base",
      "model_module_version": "2.0.0",
      "model_name": "LayoutModel",
      "state": {
       "display": "inline-flex",
       "flex_flow": "row wrap",
       "width": "100%"
      }
     },
     "7a0329b521944713b8e2672154fe6063": {
      "model_module": "@jupyter-widgets/controls",
      "model_module_version": "2.0.0",
      "model_name": "HTMLStyleModel",
      "state": {
       "description_width": "",
       "font_size": null,
       "text_color": null
      }
     },
     "7a36af71d5fa41b89161a67d44675fea": {
      "model_module": "@jupyter-widgets/controls",
      "model_module_version": "2.0.0",
      "model_name": "HTMLStyleModel",
      "state": {
       "description_width": "",
       "font_size": null,
       "text_color": null
      }
     },
     "7bd45c493bd14c06b423abb2a591f193": {
      "model_module": "@jupyter-widgets/base",
      "model_module_version": "2.0.0",
      "model_name": "LayoutModel",
      "state": {
       "flex": "2"
      }
     },
     "7c25559c19d44d748234cde3320046d3": {
      "model_module": "@jupyter-widgets/controls",
      "model_module_version": "2.0.0",
      "model_name": "FloatProgressModel",
      "state": {
       "layout": "IPY_MODEL_55b4db309a044b9bba08bc2f311cfa38",
       "max": 10000,
       "style": "IPY_MODEL_2df0ef8096ef47488a939ec86a7bbac6",
       "value": 2613
      }
     },
     "7ca3ec8fe29049ebb6d39f516bbffaed": {
      "model_module": "@jupyter-widgets/controls",
      "model_module_version": "2.0.0",
      "model_name": "HBoxModel",
      "state": {
       "children": [
        "IPY_MODEL_6df35d8265164043a983dd6af45be126",
        "IPY_MODEL_232d926c6bb54a849414e7df6487b501",
        "IPY_MODEL_c9d1e215269349468e6acaa81c53736a"
       ],
       "layout": "IPY_MODEL_178ad5d43cc54dc2843dedd1c7a8c938"
      }
     },
     "7cb304ae00c14246a1b71bbce51772f6": {
      "model_module": "@jupyter-widgets/controls",
      "model_module_version": "2.0.0",
      "model_name": "ProgressStyleModel",
      "state": {
       "description_width": ""
      }
     },
     "7e1431fb7d514ccf83f8d702c672cdda": {
      "model_module": "@jupyter-widgets/base",
      "model_module_version": "2.0.0",
      "model_name": "LayoutModel",
      "state": {
       "display": "inline-flex",
       "flex_flow": "row wrap",
       "width": "100%"
      }
     },
     "7effa6ae592247febbe2e36f5e4bcb48": {
      "model_module": "@jupyter-widgets/controls",
      "model_module_version": "2.0.0",
      "model_name": "HTMLModel",
      "state": {
       "layout": "IPY_MODEL_047302d2097b407f82f644880b63cbab",
       "style": "IPY_MODEL_da92dc6850ab40be9b27b33a7ecb28c3",
       "value": " 40/40 [02:37&lt;00:00,  1.97s/it]"
      }
     },
     "7f9866ed100c4d2d88e0576cad3db6ad": {
      "model_module": "@jupyter-widgets/base",
      "model_module_version": "2.0.0",
      "model_name": "LayoutModel",
      "state": {}
     },
     "80394521dd4a40169349d97b44439089": {
      "model_module": "@jupyter-widgets/base",
      "model_module_version": "2.0.0",
      "model_name": "LayoutModel",
      "state": {}
     },
     "803eb9d57d424449885e041ec9e18afc": {
      "model_module": "@jupyter-widgets/base",
      "model_module_version": "2.0.0",
      "model_name": "LayoutModel",
      "state": {
       "flex": "2"
      }
     },
     "8109233b10434ee098e564e98c3d08b4": {
      "model_module": "@jupyter-widgets/controls",
      "model_module_version": "2.0.0",
      "model_name": "HTMLStyleModel",
      "state": {
       "description_width": "",
       "font_size": null,
       "text_color": null
      }
     },
     "8271bc8b920a431b99b435f02d25d40e": {
      "model_module": "@jupyter-widgets/controls",
      "model_module_version": "2.0.0",
      "model_name": "HBoxModel",
      "state": {
       "children": [
        "IPY_MODEL_0be9cd7be1a2450289f6f14ab8c57b06",
        "IPY_MODEL_961b2a29031c42239f13d38984bd9e9b",
        "IPY_MODEL_20a366714d6b4f3ca6483fee58a2dff0"
       ],
       "layout": "IPY_MODEL_6e54bdc94c5e4473a0a57e6ce91e7abb"
      }
     },
     "8365f826cdc7436e8663bdfbc5516cc1": {
      "model_module": "@jupyter-widgets/controls",
      "model_module_version": "2.0.0",
      "model_name": "HTMLModel",
      "state": {
       "layout": "IPY_MODEL_d67e04b082f041cea33b0ee208dc25b7",
       "style": "IPY_MODEL_d09c43b0622342ebb4929949d38a017f",
       "value": " 40/40 [02:34&lt;00:00,  1.93s/it]"
      }
     },
     "838637122538421e89da4cdbcceafab1": {
      "model_module": "@jupyter-widgets/base",
      "model_module_version": "2.0.0",
      "model_name": "LayoutModel",
      "state": {}
     },
     "845fd92ff566483fbdb37b86081348f2": {
      "model_module": "@jupyter-widgets/base",
      "model_module_version": "2.0.0",
      "model_name": "LayoutModel",
      "state": {}
     },
     "84d72d798f0f41658963ba91d175fc0c": {
      "model_module": "@jupyter-widgets/controls",
      "model_module_version": "2.0.0",
      "model_name": "HTMLStyleModel",
      "state": {
       "description_width": "",
       "font_size": null,
       "text_color": null
      }
     },
     "853afb8b20b9449ebfc49046a79058dd": {
      "model_module": "@jupyter-widgets/controls",
      "model_module_version": "2.0.0",
      "model_name": "HTMLModel",
      "state": {
       "layout": "IPY_MODEL_8b6d8261856045a1afbb561a727638de",
       "style": "IPY_MODEL_7a0329b521944713b8e2672154fe6063",
       "value": "Validate (899 Steps) (DiceMetric=0.27030): 100%"
      }
     },
     "865bbfa2f9e14a15a2149fb4bc692a9b": {
      "model_module": "@jupyter-widgets/base",
      "model_module_version": "2.0.0",
      "model_name": "LayoutModel",
      "state": {
       "flex": "2"
      }
     },
     "86a0f573fe744ee789be733d693ac3ea": {
      "model_module": "@jupyter-widgets/controls",
      "model_module_version": "2.0.0",
      "model_name": "FloatProgressModel",
      "state": {
       "bar_style": "success",
       "layout": "IPY_MODEL_0ce2989b6e184b20a4d0b39cc6f56f47",
       "max": 40,
       "style": "IPY_MODEL_4b38a23411004adab791893fa22814ad",
       "value": 40
      }
     },
     "86b0064da13c46a2a12be68a0e6ac4b0": {
      "model_module": "@jupyter-widgets/controls",
      "model_module_version": "2.0.0",
      "model_name": "HTMLStyleModel",
      "state": {
       "description_width": "",
       "font_size": null,
       "text_color": null
      }
     },
     "87d2016ce8764c0daff7e2fe03675819": {
      "model_module": "@jupyter-widgets/base",
      "model_module_version": "2.0.0",
      "model_name": "LayoutModel",
      "state": {}
     },
     "8818f86015e1479a8cd21bbcfe462ffd": {
      "model_module": "@jupyter-widgets/base",
      "model_module_version": "2.0.0",
      "model_name": "LayoutModel",
      "state": {}
     },
     "8845ee1d83254770b35d4f03660c944a": {
      "model_module": "@jupyter-widgets/base",
      "model_module_version": "2.0.0",
      "model_name": "LayoutModel",
      "state": {
       "display": "inline-flex",
       "flex_flow": "row wrap",
       "width": "100%"
      }
     },
     "88a5f638536d4a0d99ae41275bf84cd1": {
      "model_module": "@jupyter-widgets/base",
      "model_module_version": "2.0.0",
      "model_name": "LayoutModel",
      "state": {}
     },
     "8942642983764f1f9efc9a515b2dce52": {
      "model_module": "@jupyter-widgets/controls",
      "model_module_version": "2.0.0",
      "model_name": "HTMLModel",
      "state": {
       "layout": "IPY_MODEL_1463813674a24d29b20579abf17e11c2",
       "style": "IPY_MODEL_6f545cc5a469409bb116f3647bd599d9",
       "value": " 40/40 [02:35&lt;00:00,  1.93s/it]"
      }
     },
     "8adcdb1d99da42c08edb04d4058f789a": {
      "model_module": "@jupyter-widgets/base",
      "model_module_version": "2.0.0",
      "model_name": "LayoutModel",
      "state": {
       "flex": "2"
      }
     },
     "8b6d8261856045a1afbb561a727638de": {
      "model_module": "@jupyter-widgets/base",
      "model_module_version": "2.0.0",
      "model_name": "LayoutModel",
      "state": {}
     },
     "8bb836be8c9c487189ea405e05c6ccbc": {
      "model_module": "@jupyter-widgets/base",
      "model_module_version": "2.0.0",
      "model_name": "LayoutModel",
      "state": {
       "display": "inline-flex",
       "flex_flow": "row wrap",
       "width": "100%"
      }
     },
     "8c4cd45b1abd42d998f735d87d6143b4": {
      "model_module": "@jupyter-widgets/base",
      "model_module_version": "2.0.0",
      "model_name": "LayoutModel",
      "state": {}
     },
     "8dbbb95714a54db7ac8981f8b1dd620f": {
      "model_module": "@jupyter-widgets/base",
      "model_module_version": "2.0.0",
      "model_name": "LayoutModel",
      "state": {}
     },
     "8dcc48c14a6640cb90fee4b1677ae9b6": {
      "model_module": "@jupyter-widgets/controls",
      "model_module_version": "2.0.0",
      "model_name": "HTMLModel",
      "state": {
       "layout": "IPY_MODEL_6f1c95394e85423ea96356a3a2f373e5",
       "style": "IPY_MODEL_ae9ba14f04b84ca7a6a196b7c61848eb",
       "value": " 2613/10000 [4:57:33&lt;13:48:36,  6.73s/it]"
      }
     },
     "8e007ed684864249ba4ce716cf6dfa14": {
      "model_module": "@jupyter-widgets/controls",
      "model_module_version": "2.0.0",
      "model_name": "FloatProgressModel",
      "state": {
       "bar_style": "success",
       "layout": "IPY_MODEL_7bd45c493bd14c06b423abb2a591f193",
       "max": 40,
       "style": "IPY_MODEL_7cb304ae00c14246a1b71bbce51772f6",
       "value": 40
      }
     },
     "8eeee628fa074a87ba9a7d155c6ff682": {
      "model_module": "@jupyter-widgets/controls",
      "model_module_version": "2.0.0",
      "model_name": "HBoxModel",
      "state": {
       "children": [
        "IPY_MODEL_853afb8b20b9449ebfc49046a79058dd",
        "IPY_MODEL_0094525d1d114b62b006c94ac74acbb5",
        "IPY_MODEL_a55809ea88a349c49931b623be02e219"
       ],
       "layout": "IPY_MODEL_46a7497abaac437685941fafb9976d2c"
      }
     },
     "92b5b245af0c4151ac394f7040216660": {
      "model_module": "@jupyter-widgets/controls",
      "model_module_version": "2.0.0",
      "model_name": "HTMLModel",
      "state": {
       "layout": "IPY_MODEL_838637122538421e89da4cdbcceafab1",
       "style": "IPY_MODEL_5e928cd99a6c460fa4e6a7fef5616858",
       "value": "Validate (1599 Steps) (DiceMetric=0.27841): 100%"
      }
     },
     "956828b83716436a851e3ab0870dc8a6": {
      "model_module": "@jupyter-widgets/base",
      "model_module_version": "2.0.0",
      "model_name": "LayoutModel",
      "state": {}
     },
     "960a9b0717a64a3db8f2a9d5ff9072af": {
      "model_module": "@jupyter-widgets/controls",
      "model_module_version": "2.0.0",
      "model_name": "FloatProgressModel",
      "state": {
       "bar_style": "success",
       "layout": "IPY_MODEL_a9cbf11b238749f9a023c95e573f2aa9",
       "max": 40,
       "style": "IPY_MODEL_9caf03a9f005403a9ccf108af563e5d7",
       "value": 40
      }
     },
     "961b2a29031c42239f13d38984bd9e9b": {
      "model_module": "@jupyter-widgets/controls",
      "model_module_version": "2.0.0",
      "model_name": "FloatProgressModel",
      "state": {
       "bar_style": "success",
       "layout": "IPY_MODEL_e77f86e6cb3e40db875cc6ede76b5363",
       "max": 40,
       "style": "IPY_MODEL_be93f192b4b1470f8430a62fc4f42c3b",
       "value": 40
      }
     },
     "96f060d5f0ff4727a711cc8405807ebb": {
      "model_module": "@jupyter-widgets/controls",
      "model_module_version": "2.0.0",
      "model_name": "HTMLStyleModel",
      "state": {
       "description_width": "",
       "font_size": null,
       "text_color": null
      }
     },
     "97209e8a5fac4b1f9c6309396e19871c": {
      "model_module": "@jupyter-widgets/base",
      "model_module_version": "2.0.0",
      "model_name": "LayoutModel",
      "state": {
       "display": "inline-flex",
       "flex_flow": "row wrap",
       "width": "100%"
      }
     },
     "999cb86c600744a1999f61c4b257a08e": {
      "model_module": "@jupyter-widgets/controls",
      "model_module_version": "2.0.0",
      "model_name": "ProgressStyleModel",
      "state": {
       "description_width": ""
      }
     },
     "9c22ca29120a44b29a33aaa97c003ccb": {
      "model_module": "@jupyter-widgets/controls",
      "model_module_version": "2.0.0",
      "model_name": "HTMLModel",
      "state": {
       "layout": "IPY_MODEL_e4bdc95758974d82854da365973e1479",
       "style": "IPY_MODEL_24877108babf4ec9b9f809cf0fd5f14d",
       "value": " 40/40 [02:35&lt;00:00,  1.93s/it]"
      }
     },
     "9c4119932d8e4aad85f71198f4ddc823": {
      "model_module": "@jupyter-widgets/base",
      "model_module_version": "2.0.0",
      "model_name": "LayoutModel",
      "state": {
       "display": "inline-flex",
       "flex_flow": "row wrap",
       "width": "100%"
      }
     },
     "9c4936a2d1e1439296d9e6660d9bd371": {
      "model_module": "@jupyter-widgets/controls",
      "model_module_version": "2.0.0",
      "model_name": "HTMLStyleModel",
      "state": {
       "description_width": "",
       "font_size": null,
       "text_color": null
      }
     },
     "9caa7fc8f13a4c32a813bf2324b3b59a": {
      "model_module": "@jupyter-widgets/base",
      "model_module_version": "2.0.0",
      "model_name": "LayoutModel",
      "state": {
       "display": "inline-flex",
       "flex_flow": "row wrap",
       "width": "100%"
      }
     },
     "9caf03a9f005403a9ccf108af563e5d7": {
      "model_module": "@jupyter-widgets/controls",
      "model_module_version": "2.0.0",
      "model_name": "ProgressStyleModel",
      "state": {
       "description_width": ""
      }
     },
     "9f15d3e8aff44e01b51740aa697a2081": {
      "model_module": "@jupyter-widgets/controls",
      "model_module_version": "2.0.0",
      "model_name": "HTMLModel",
      "state": {
       "layout": "IPY_MODEL_845fd92ff566483fbdb37b86081348f2",
       "style": "IPY_MODEL_4d208ad564434e7b9c6d678ea43330f0",
       "value": "Validate (1099 Steps) (DiceMetric=0.27704): 100%"
      }
     },
     "9f5f6837ab6f44419dc4f2cfe716b031": {
      "model_module": "@jupyter-widgets/base",
      "model_module_version": "2.0.0",
      "model_name": "LayoutModel",
      "state": {}
     },
     "a19a8bdd85a74d198c76e644fa212e44": {
      "model_module": "@jupyter-widgets/controls",
      "model_module_version": "2.0.0",
      "model_name": "HTMLModel",
      "state": {
       "layout": "IPY_MODEL_719858050f1449769d8131f0431f93b8",
       "style": "IPY_MODEL_0c8038dcd4fb4a219fac0dcd4bd6b0b7",
       "value": "Validate (2399 Steps) (DiceMetric=0.27375): 100%"
      }
     },
     "a259218df69142dc8ec05eb465eee36d": {
      "model_module": "@jupyter-widgets/base",
      "model_module_version": "2.0.0",
      "model_name": "LayoutModel",
      "state": {
       "display": "inline-flex",
       "flex_flow": "row wrap",
       "width": "100%"
      }
     },
     "a3407816e5754b959a685d15e49b2743": {
      "model_module": "@jupyter-widgets/controls",
      "model_module_version": "2.0.0",
      "model_name": "HTMLStyleModel",
      "state": {
       "description_width": "",
       "font_size": null,
       "text_color": null
      }
     },
     "a391dd6dcfe0464e9531e8eb63fb3ae8": {
      "model_module": "@jupyter-widgets/base",
      "model_module_version": "2.0.0",
      "model_name": "LayoutModel",
      "state": {
       "flex": "2"
      }
     },
     "a4c5b395394449e48abedf1c539eaea6": {
      "model_module": "@jupyter-widgets/controls",
      "model_module_version": "2.0.0",
      "model_name": "HBoxModel",
      "state": {
       "children": [
        "IPY_MODEL_f0511df1b94640989f4f6ae0a849f8f7",
        "IPY_MODEL_e24e05c367b94d828728cea302cfad1c",
        "IPY_MODEL_b603014eb9384d25aea202c9b789204c"
       ],
       "layout": "IPY_MODEL_a58c7e7688974aadb9a928c1fb8d9013"
      }
     },
     "a4f4c9a5f42e4e1b82a9b2ee2834d28f": {
      "model_module": "@jupyter-widgets/controls",
      "model_module_version": "2.0.0",
      "model_name": "FloatProgressModel",
      "state": {
       "bar_style": "success",
       "layout": "IPY_MODEL_634890d113454ea1abd6679a8e6f276c",
       "max": 40,
       "style": "IPY_MODEL_f2ff2d810cbe4166a4eb8c548746a4d1",
       "value": 40
      }
     },
     "a543ecc894164eef98c824a56205b97c": {
      "model_module": "@jupyter-widgets/controls",
      "model_module_version": "2.0.0",
      "model_name": "HTMLStyleModel",
      "state": {
       "description_width": "",
       "font_size": null,
       "text_color": null
      }
     },
     "a55809ea88a349c49931b623be02e219": {
      "model_module": "@jupyter-widgets/controls",
      "model_module_version": "2.0.0",
      "model_name": "HTMLModel",
      "state": {
       "layout": "IPY_MODEL_fccf943001ed4e85bc6adaa5f1d6b38f",
       "style": "IPY_MODEL_006342e10a52445b948eb74a61b1a97e",
       "value": " 40/40 [02:34&lt;00:00,  1.94s/it]"
      }
     },
     "a58c7e7688974aadb9a928c1fb8d9013": {
      "model_module": "@jupyter-widgets/base",
      "model_module_version": "2.0.0",
      "model_name": "LayoutModel",
      "state": {
       "display": "inline-flex",
       "flex_flow": "row wrap",
       "width": "100%"
      }
     },
     "a5d3c5c53e834aefb68581562d4bbbe9": {
      "model_module": "@jupyter-widgets/controls",
      "model_module_version": "2.0.0",
      "model_name": "HBoxModel",
      "state": {
       "children": [
        "IPY_MODEL_eb3a415b0b0f429eb9da85fe683412ee",
        "IPY_MODEL_fbead2a6967b4377ab1244dca35c7c80",
        "IPY_MODEL_cebb5d26237540048f8f1aaff4091f9d"
       ],
       "layout": "IPY_MODEL_657e84fd14b34c2d82d8bc05b3b157f4"
      }
     },
     "a7f4c0eb880e4a49b34cbc14b35abc0d": {
      "model_module": "@jupyter-widgets/base",
      "model_module_version": "2.0.0",
      "model_name": "LayoutModel",
      "state": {}
     },
     "a92b13f8c9d24d43b1a8cd564fc945df": {
      "model_module": "@jupyter-widgets/base",
      "model_module_version": "2.0.0",
      "model_name": "LayoutModel",
      "state": {
       "flex": "2"
      }
     },
     "a9528f50a3044a729b251aa1c302b186": {
      "model_module": "@jupyter-widgets/base",
      "model_module_version": "2.0.0",
      "model_name": "LayoutModel",
      "state": {}
     },
     "a9cbf11b238749f9a023c95e573f2aa9": {
      "model_module": "@jupyter-widgets/base",
      "model_module_version": "2.0.0",
      "model_name": "LayoutModel",
      "state": {
       "flex": "2"
      }
     },
     "aa43ac867dd040799e348f10af9ad818": {
      "model_module": "@jupyter-widgets/base",
      "model_module_version": "2.0.0",
      "model_name": "LayoutModel",
      "state": {
       "display": "inline-flex",
       "flex_flow": "row wrap",
       "width": "100%"
      }
     },
     "aad27a11fb3441c2ba1211a53a0250e6": {
      "model_module": "@jupyter-widgets/controls",
      "model_module_version": "2.0.0",
      "model_name": "ProgressStyleModel",
      "state": {
       "description_width": ""
      }
     },
     "ae021a2453d344e29a48ce0508fca44f": {
      "model_module": "@jupyter-widgets/controls",
      "model_module_version": "2.0.0",
      "model_name": "HTMLModel",
      "state": {
       "layout": "IPY_MODEL_fc460c9f1aff46f2b3de598fb8d6f16e",
       "style": "IPY_MODEL_2ac7b9f4ffee4bb9948cdcdd07e25a71",
       "value": "Counting pixels of each organ ...: 100%"
      }
     },
     "ae59140b89dc449488451a94c3a0c799": {
      "model_module": "@jupyter-widgets/controls",
      "model_module_version": "2.0.0",
      "model_name": "HTMLStyleModel",
      "state": {
       "description_width": "",
       "font_size": null,
       "text_color": null
      }
     },
     "ae9ba14f04b84ca7a6a196b7c61848eb": {
      "model_module": "@jupyter-widgets/controls",
      "model_module_version": "2.0.0",
      "model_name": "HTMLStyleModel",
      "state": {
       "description_width": "",
       "font_size": null,
       "text_color": null
      }
     },
     "af2d629e21a1480bab2a5e3cbb733468": {
      "model_module": "@jupyter-widgets/controls",
      "model_module_version": "2.0.0",
      "model_name": "HBoxModel",
      "state": {
       "children": [
        "IPY_MODEL_b5d3273c79ab43bda89342e56acbad3e",
        "IPY_MODEL_2c83380edfe74c2793c4b70cb9f7a0b2",
        "IPY_MODEL_e7e762c124954b3799b4bc7be0ab18ba"
       ],
       "layout": "IPY_MODEL_ff6983adb21c45caafc55cd7b3e6ee56"
      }
     },
     "affd2fc50bce4331a413e1e83a18a14a": {
      "model_module": "@jupyter-widgets/controls",
      "model_module_version": "2.0.0",
      "model_name": "HTMLModel",
      "state": {
       "layout": "IPY_MODEL_8c4cd45b1abd42d998f735d87d6143b4",
       "style": "IPY_MODEL_8109233b10434ee098e564e98c3d08b4",
       "value": " 40/40 [02:34&lt;00:00,  1.93s/it]"
      }
     },
     "b0a5d779c31343e199096cf43fad3d06": {
      "model_module": "@jupyter-widgets/controls",
      "model_module_version": "2.0.0",
      "model_name": "HTMLStyleModel",
      "state": {
       "description_width": "",
       "font_size": null,
       "text_color": null
      }
     },
     "b385faf07db24e5d8da8df035714d7b1": {
      "model_module": "@jupyter-widgets/controls",
      "model_module_version": "2.0.0",
      "model_name": "HTMLStyleModel",
      "state": {
       "description_width": "",
       "font_size": null,
       "text_color": null
      }
     },
     "b3d3cfd2bc4e4061b5594e5f1a2150a0": {
      "model_module": "@jupyter-widgets/controls",
      "model_module_version": "2.0.0",
      "model_name": "HTMLStyleModel",
      "state": {
       "description_width": "",
       "font_size": null,
       "text_color": null
      }
     },
     "b47e46bba54c41079af9cb0cef785029": {
      "model_module": "@jupyter-widgets/controls",
      "model_module_version": "2.0.0",
      "model_name": "FloatProgressModel",
      "state": {
       "bar_style": "success",
       "layout": "IPY_MODEL_865bbfa2f9e14a15a2149fb4bc692a9b",
       "max": 40,
       "style": "IPY_MODEL_c29295571d2f49949943a4cfb24d411b",
       "value": 40
      }
     },
     "b48f0f60bf0e47cda0b042b8a1ab9c03": {
      "model_module": "@jupyter-widgets/controls",
      "model_module_version": "2.0.0",
      "model_name": "HTMLStyleModel",
      "state": {
       "description_width": "",
       "font_size": null,
       "text_color": null
      }
     },
     "b50af1c5c9114b51ad74619a8bf1ad90": {
      "model_module": "@jupyter-widgets/controls",
      "model_module_version": "2.0.0",
      "model_name": "HTMLStyleModel",
      "state": {
       "description_width": "",
       "font_size": null,
       "text_color": null
      }
     },
     "b5d3273c79ab43bda89342e56acbad3e": {
      "model_module": "@jupyter-widgets/controls",
      "model_module_version": "2.0.0",
      "model_name": "HTMLModel",
      "state": {
       "layout": "IPY_MODEL_5eea91d6cb3842f78bebe1d84fa91da8",
       "style": "IPY_MODEL_3ea27767c1484072a746d31bebff422c",
       "value": "Validate (1699 Steps) (DiceMetric=0.27483): 100%"
      }
     },
     "b603014eb9384d25aea202c9b789204c": {
      "model_module": "@jupyter-widgets/controls",
      "model_module_version": "2.0.0",
      "model_name": "HTMLModel",
      "state": {
       "layout": "IPY_MODEL_73db939d85a943b6b2f1d4124c60bf25",
       "style": "IPY_MODEL_4202132741a649ff8d1060e610d0a7e8",
       "value": " 40/40 [02:34&lt;00:00,  1.94s/it]"
      }
     },
     "b7df3898f1c54830b826668072547f80": {
      "model_module": "@jupyter-widgets/controls",
      "model_module_version": "2.0.0",
      "model_name": "FloatProgressModel",
      "state": {
       "bar_style": "success",
       "layout": "IPY_MODEL_2a9079c5e7344f48a8b6443a34040278",
       "max": 40,
       "style": "IPY_MODEL_010b4bb752b4485fa33f6c2ccd6e6942",
       "value": 40
      }
     },
     "b8bd62374e614141893f994f0b6ef138": {
      "model_module": "@jupyter-widgets/controls",
      "model_module_version": "2.0.0",
      "model_name": "ProgressStyleModel",
      "state": {
       "description_width": ""
      }
     },
     "b90a52baa7394e3a8beeb5c1fdb61cd0": {
      "model_module": "@jupyter-widgets/controls",
      "model_module_version": "2.0.0",
      "model_name": "ProgressStyleModel",
      "state": {
       "description_width": ""
      }
     },
     "b9fab948be9f4489a3aad76e363ecdbc": {
      "model_module": "@jupyter-widgets/controls",
      "model_module_version": "2.0.0",
      "model_name": "HTMLModel",
      "state": {
       "layout": "IPY_MODEL_fde7aedf0dce4d11af75a4378ddfc23b",
       "style": "IPY_MODEL_3099a7df49d64048b5dffcf0936cf708",
       "value": " 240/240 [04:01&lt;00:00,  1.22it/s]"
      }
     },
     "ba38f1fa344a426e953785a2688cda81": {
      "model_module": "@jupyter-widgets/controls",
      "model_module_version": "2.0.0",
      "model_name": "HBoxModel",
      "state": {
       "children": [
        "IPY_MODEL_4e3850fde722482687a45658eb93f0ea",
        "IPY_MODEL_a4f4c9a5f42e4e1b82a9b2ee2834d28f",
        "IPY_MODEL_5b80a49324e747d7a5206d97cb99185c"
       ],
       "layout": "IPY_MODEL_1437633f02f74543ada788d6dd16f2a3"
      }
     },
     "ba9e9dfcff294931bb0655d2111bfff8": {
      "model_module": "@jupyter-widgets/controls",
      "model_module_version": "2.0.0",
      "model_name": "HBoxModel",
      "state": {
       "children": [
        "IPY_MODEL_2cf919c07219400c8b2252a4f6155706",
        "IPY_MODEL_f3df31af608e46f5a1fbe4b55a034b4f",
        "IPY_MODEL_ce2769347e0c4d1b976223d610a59e09"
       ],
       "layout": "IPY_MODEL_8bb836be8c9c487189ea405e05c6ccbc"
      }
     },
     "baa09d9dec704f29b374f4a85e884b96": {
      "model_module": "@jupyter-widgets/controls",
      "model_module_version": "2.0.0",
      "model_name": "HTMLStyleModel",
      "state": {
       "description_width": "",
       "font_size": null,
       "text_color": null
      }
     },
     "bb9d5ed7b4794b9197661db5696b4dd7": {
      "model_module": "@jupyter-widgets/controls",
      "model_module_version": "2.0.0",
      "model_name": "FloatProgressModel",
      "state": {
       "bar_style": "success",
       "layout": "IPY_MODEL_ddb3e935ec7a479b9689ab36319b83fb",
       "max": 40,
       "style": "IPY_MODEL_32c5d1bb6b104c98a3fd6259c234d1c9",
       "value": 40
      }
     },
     "bbea4c80c9ac454f92e8b34a18512445": {
      "model_module": "@jupyter-widgets/base",
      "model_module_version": "2.0.0",
      "model_name": "LayoutModel",
      "state": {}
     },
     "bd1c073f99954cc6baec62d3736ffe11": {
      "model_module": "@jupyter-widgets/base",
      "model_module_version": "2.0.0",
      "model_name": "LayoutModel",
      "state": {}
     },
     "be6868a701784ab192be000eb835d7e4": {
      "model_module": "@jupyter-widgets/controls",
      "model_module_version": "2.0.0",
      "model_name": "HTMLStyleModel",
      "state": {
       "description_width": "",
       "font_size": null,
       "text_color": null
      }
     },
     "be87655441d64365a65802d0897a8991": {
      "model_module": "@jupyter-widgets/base",
      "model_module_version": "2.0.0",
      "model_name": "LayoutModel",
      "state": {}
     },
     "be93f192b4b1470f8430a62fc4f42c3b": {
      "model_module": "@jupyter-widgets/controls",
      "model_module_version": "2.0.0",
      "model_name": "ProgressStyleModel",
      "state": {
       "description_width": ""
      }
     },
     "bfb756521a914732b703cf5bddc6ecbe": {
      "model_module": "@jupyter-widgets/base",
      "model_module_version": "2.0.0",
      "model_name": "LayoutModel",
      "state": {
       "flex": "2"
      }
     },
     "bfc1746e702947d0b9e5b5c2d60eea00": {
      "model_module": "@jupyter-widgets/controls",
      "model_module_version": "2.0.0",
      "model_name": "FloatProgressModel",
      "state": {
       "bar_style": "success",
       "layout": "IPY_MODEL_3450463bc2494b7c9df4c52747b49822",
       "max": 40,
       "style": "IPY_MODEL_cf32f696c9ce4199b31a543d6dd0e1bf",
       "value": 40
      }
     },
     "c04380e414e24491a8bdfb4e56476cee": {
      "model_module": "@jupyter-widgets/base",
      "model_module_version": "2.0.0",
      "model_name": "LayoutModel",
      "state": {
       "display": "inline-flex",
       "flex_flow": "row wrap",
       "width": "100%"
      }
     },
     "c29295571d2f49949943a4cfb24d411b": {
      "model_module": "@jupyter-widgets/controls",
      "model_module_version": "2.0.0",
      "model_name": "ProgressStyleModel",
      "state": {
       "description_width": ""
      }
     },
     "c2b8d9c403fb4b379b7c8a77513cd8ec": {
      "model_module": "@jupyter-widgets/controls",
      "model_module_version": "2.0.0",
      "model_name": "HBoxModel",
      "state": {
       "children": [
        "IPY_MODEL_2eb08e85416a43f896444ac36fd78a14",
        "IPY_MODEL_b7df3898f1c54830b826668072547f80",
        "IPY_MODEL_2b4612504ed046019a489ccbbdf421c4"
       ],
       "layout": "IPY_MODEL_a259218df69142dc8ec05eb465eee36d"
      }
     },
     "c767def4869543c68d4475e26511e611": {
      "model_module": "@jupyter-widgets/controls",
      "model_module_version": "2.0.0",
      "model_name": "HTMLModel",
      "state": {
       "layout": "IPY_MODEL_76eae4c859c84a89a35b6e84c958943f",
       "style": "IPY_MODEL_a3407816e5754b959a685d15e49b2743",
       "value": "Validate (299 Steps) (DiceMetric=0.29736): 100%"
      }
     },
     "c959250132754b44b2fc1359e5cd1dd7": {
      "model_module": "@jupyter-widgets/base",
      "model_module_version": "2.0.0",
      "model_name": "LayoutModel",
      "state": {
       "display": "inline-flex",
       "flex_flow": "row wrap",
       "width": "100%"
      }
     },
     "c9b2448eccec47aba3733ae966b2a439": {
      "model_module": "@jupyter-widgets/controls",
      "model_module_version": "2.0.0",
      "model_name": "HTMLModel",
      "state": {
       "layout": "IPY_MODEL_3e5c2649026042c3a76e9b9ce9d5d9b7",
       "style": "IPY_MODEL_b3d3cfd2bc4e4061b5594e5f1a2150a0",
       "value": " 40/40 [02:37&lt;00:00,  1.98s/it]"
      }
     },
     "c9d1e215269349468e6acaa81c53736a": {
      "model_module": "@jupyter-widgets/controls",
      "model_module_version": "2.0.0",
      "model_name": "HTMLModel",
      "state": {
       "layout": "IPY_MODEL_2bb341378f534120935556fabe8a42ad",
       "style": "IPY_MODEL_b385faf07db24e5d8da8df035714d7b1",
       "value": " 40/40 [02:34&lt;00:00,  1.94s/it]"
      }
     },
     "c9fde496a9d149d0881e14052b69dfdf": {
      "model_module": "@jupyter-widgets/base",
      "model_module_version": "2.0.0",
      "model_name": "LayoutModel",
      "state": {
       "display": "inline-flex",
       "flex_flow": "row wrap",
       "width": "100%"
      }
     },
     "ccac2b17b9934d4a835236fca8b2eaf0": {
      "model_module": "@jupyter-widgets/controls",
      "model_module_version": "2.0.0",
      "model_name": "HTMLModel",
      "state": {
       "layout": "IPY_MODEL_5b9528078cfe4ab0b034d896a7639aaa",
       "style": "IPY_MODEL_fdac72c197594827aa74d76ca522a1f6",
       "value": "Training (2613 / 10000 Steps) (focal=1.8492e-03, dice=1.8869e+00, soft=3.5459e+00, total=4.9664e-01):  26%"
      }
     },
     "ce2769347e0c4d1b976223d610a59e09": {
      "model_module": "@jupyter-widgets/controls",
      "model_module_version": "2.0.0",
      "model_name": "HTMLModel",
      "state": {
       "layout": "IPY_MODEL_0168911bb2c843829398a9790662b36a",
       "style": "IPY_MODEL_be6868a701784ab192be000eb835d7e4",
       "value": " 40/40 [02:35&lt;00:00,  1.94s/it]"
      }
     },
     "ce2c5de645f345f49d7572edee5ab8ff": {
      "model_module": "@jupyter-widgets/base",
      "model_module_version": "2.0.0",
      "model_name": "LayoutModel",
      "state": {}
     },
     "cebb5d26237540048f8f1aaff4091f9d": {
      "model_module": "@jupyter-widgets/controls",
      "model_module_version": "2.0.0",
      "model_name": "HTMLModel",
      "state": {
       "layout": "IPY_MODEL_87d2016ce8764c0daff7e2fe03675819",
       "style": "IPY_MODEL_69be0aa993cc459490e84509f3043660",
       "value": " 40/40 [02:36&lt;00:00,  2.03s/it]"
      }
     },
     "cee25d9f17434ec4be288bf2d669d5b6": {
      "model_module": "@jupyter-widgets/controls",
      "model_module_version": "2.0.0",
      "model_name": "ProgressStyleModel",
      "state": {
       "description_width": ""
      }
     },
     "cf32f696c9ce4199b31a543d6dd0e1bf": {
      "model_module": "@jupyter-widgets/controls",
      "model_module_version": "2.0.0",
      "model_name": "ProgressStyleModel",
      "state": {
       "description_width": ""
      }
     },
     "d03803507a174666b82fcbbdd3521942": {
      "model_module": "@jupyter-widgets/base",
      "model_module_version": "2.0.0",
      "model_name": "LayoutModel",
      "state": {}
     },
     "d04367591f9b4fea9ccd8d7aa7de97cb": {
      "model_module": "@jupyter-widgets/controls",
      "model_module_version": "2.0.0",
      "model_name": "HTMLStyleModel",
      "state": {
       "description_width": "",
       "font_size": null,
       "text_color": null
      }
     },
     "d08ce7b913f34347af227247f526a91b": {
      "model_module": "@jupyter-widgets/controls",
      "model_module_version": "2.0.0",
      "model_name": "HTMLModel",
      "state": {
       "layout": "IPY_MODEL_0c7548d0993e48ec902babad43d12847",
       "style": "IPY_MODEL_753a765dd37c44478720d0672309e649",
       "value": "Validate (1999 Steps) (DiceMetric=0.28400): 100%"
      }
     },
     "d09c43b0622342ebb4929949d38a017f": {
      "model_module": "@jupyter-widgets/controls",
      "model_module_version": "2.0.0",
      "model_name": "HTMLStyleModel",
      "state": {
       "description_width": "",
       "font_size": null,
       "text_color": null
      }
     },
     "d1c38e17166a4f4a8d03969e7fdb678b": {
      "model_module": "@jupyter-widgets/controls",
      "model_module_version": "2.0.0",
      "model_name": "FloatProgressModel",
      "state": {
       "bar_style": "success",
       "layout": "IPY_MODEL_d41193047c924e56ab2c667975039305",
       "max": 40,
       "style": "IPY_MODEL_f978650193ba4e79a64b3e9ddd48ae40",
       "value": 40
      }
     },
     "d309fc08e25840ab91349701d825a25b": {
      "model_module": "@jupyter-widgets/controls",
      "model_module_version": "2.0.0",
      "model_name": "FloatProgressModel",
      "state": {
       "bar_style": "success",
       "layout": "IPY_MODEL_2fca8f8749df491a8904d367a4c5ee81",
       "max": 240,
       "style": "IPY_MODEL_aad27a11fb3441c2ba1211a53a0250e6",
       "value": 240
      }
     },
     "d34bc4b8a5954140bd887558de8d31a1": {
      "model_module": "@jupyter-widgets/controls",
      "model_module_version": "2.0.0",
      "model_name": "HTMLStyleModel",
      "state": {
       "description_width": "",
       "font_size": null,
       "text_color": null
      }
     },
     "d41193047c924e56ab2c667975039305": {
      "model_module": "@jupyter-widgets/base",
      "model_module_version": "2.0.0",
      "model_name": "LayoutModel",
      "state": {
       "flex": "2"
      }
     },
     "d4539ce17a354262968a07c309de7165": {
      "model_module": "@jupyter-widgets/base",
      "model_module_version": "2.0.0",
      "model_name": "LayoutModel",
      "state": {
       "flex": "2"
      }
     },
     "d4a80a3a99ce4d87ac9cc875839ed93d": {
      "model_module": "@jupyter-widgets/controls",
      "model_module_version": "2.0.0",
      "model_name": "FloatProgressModel",
      "state": {
       "bar_style": "success",
       "layout": "IPY_MODEL_5c389bfcf3e94159bbd405ae6e5ca2cc",
       "max": 40,
       "style": "IPY_MODEL_b90a52baa7394e3a8beeb5c1fdb61cd0",
       "value": 40
      }
     },
     "d52b430d7de3496880d7f399b492c3ee": {
      "model_module": "@jupyter-widgets/controls",
      "model_module_version": "2.0.0",
      "model_name": "HBoxModel",
      "state": {
       "children": [
        "IPY_MODEL_1ff3ca6a0f7743c78ca05f456fff97e9",
        "IPY_MODEL_b47e46bba54c41079af9cb0cef785029",
        "IPY_MODEL_ed99aa6cea9a4606afc5b3a7fbae480d"
       ],
       "layout": "IPY_MODEL_3f7be9712be24212900eb456c00e53d4"
      }
     },
     "d5ecc28d41d84deab6fdfb0d4f61ad98": {
      "model_module": "@jupyter-widgets/base",
      "model_module_version": "2.0.0",
      "model_name": "LayoutModel",
      "state": {}
     },
     "d67e04b082f041cea33b0ee208dc25b7": {
      "model_module": "@jupyter-widgets/base",
      "model_module_version": "2.0.0",
      "model_name": "LayoutModel",
      "state": {}
     },
     "d7307e2fa19c438ba931ccfd1b5ea8be": {
      "model_module": "@jupyter-widgets/controls",
      "model_module_version": "2.0.0",
      "model_name": "HTMLModel",
      "state": {
       "layout": "IPY_MODEL_f4c2effc72ce4ac79d6a7967bf1621ca",
       "style": "IPY_MODEL_6ecd4fd928c541f99c3b175412043ef5",
       "value": "Validate (99 Steps) (DiceMetric=0.31527): 100%"
      }
     },
     "d8d0e5afffe54acabe8d8170b1cdd270": {
      "model_module": "@jupyter-widgets/controls",
      "model_module_version": "2.0.0",
      "model_name": "HBoxModel",
      "state": {
       "children": [
        "IPY_MODEL_49a95dc8180645de9601c4e009bf725e",
        "IPY_MODEL_8e007ed684864249ba4ce716cf6dfa14",
        "IPY_MODEL_2751f0d554694c64a4a6fc2a859f3132"
       ],
       "layout": "IPY_MODEL_c9fde496a9d149d0881e14052b69dfdf"
      }
     },
     "d911f2e3b42f4864b63ddfa0a745ac50": {
      "model_module": "@jupyter-widgets/controls",
      "model_module_version": "2.0.0",
      "model_name": "HTMLStyleModel",
      "state": {
       "description_width": "",
       "font_size": null,
       "text_color": null
      }
     },
     "da1c7912f8db45d8ba0f6ec5569d549e": {
      "model_module": "@jupyter-widgets/controls",
      "model_module_version": "2.0.0",
      "model_name": "HTMLStyleModel",
      "state": {
       "description_width": "",
       "font_size": null,
       "text_color": null
      }
     },
     "da92dc6850ab40be9b27b33a7ecb28c3": {
      "model_module": "@jupyter-widgets/controls",
      "model_module_version": "2.0.0",
      "model_name": "HTMLStyleModel",
      "state": {
       "description_width": "",
       "font_size": null,
       "text_color": null
      }
     },
     "db742ec58a654b6db2aa10f67ad96f66": {
      "model_module": "@jupyter-widgets/base",
      "model_module_version": "2.0.0",
      "model_name": "LayoutModel",
      "state": {}
     },
     "dc4e6569153d4112a62ea10fad44d1e5": {
      "model_module": "@jupyter-widgets/controls",
      "model_module_version": "2.0.0",
      "model_name": "HBoxModel",
      "state": {
       "children": [
        "IPY_MODEL_9f15d3e8aff44e01b51740aa697a2081",
        "IPY_MODEL_606b991ff9bb4faa969bfd4749be067d",
        "IPY_MODEL_fa3730260bbb476093339c9411844c44"
       ],
       "layout": "IPY_MODEL_fcbde72a94644dfb8e73e32c24bf8a63"
      }
     },
     "dd2106d1cdef42979c27166762601fe9": {
      "model_module": "@jupyter-widgets/controls",
      "model_module_version": "2.0.0",
      "model_name": "HBoxModel",
      "state": {
       "children": [
        "IPY_MODEL_4f7ebd14b9714b7e8e6f172cf56c6230",
        "IPY_MODEL_1e68c4f3993d44cbb2f0148508f54af8",
        "IPY_MODEL_4033d9f022e94f959632985b9c22e10e"
       ],
       "layout": "IPY_MODEL_8845ee1d83254770b35d4f03660c944a"
      }
     },
     "dd451923f2cc4ac2a64d65984be34f7f": {
      "model_module": "@jupyter-widgets/controls",
      "model_module_version": "2.0.0",
      "model_name": "ProgressStyleModel",
      "state": {
       "description_width": ""
      }
     },
     "ddb3e935ec7a479b9689ab36319b83fb": {
      "model_module": "@jupyter-widgets/base",
      "model_module_version": "2.0.0",
      "model_name": "LayoutModel",
      "state": {
       "flex": "2"
      }
     },
     "deedfbd6dfb8495195a5344ba9bdc2d0": {
      "model_module": "@jupyter-widgets/controls",
      "model_module_version": "2.0.0",
      "model_name": "HTMLModel",
      "state": {
       "layout": "IPY_MODEL_1be0638fe7104ea68bc13828c5fd8f9f",
       "style": "IPY_MODEL_ae59140b89dc449488451a94c3a0c799",
       "value": "Validate (1499 Steps) (DiceMetric=0.28141): 100%"
      }
     },
     "df7e11d06a714285b0dada7b884982ae": {
      "model_module": "@jupyter-widgets/controls",
      "model_module_version": "2.0.0",
      "model_name": "FloatProgressModel",
      "state": {
       "bar_style": "success",
       "layout": "IPY_MODEL_e69c999277de46258f52c85dfaa942b0",
       "max": 40,
       "style": "IPY_MODEL_59c537e35ec245609cf7a0d584fb5f12",
       "value": 40
      }
     },
     "e24e05c367b94d828728cea302cfad1c": {
      "model_module": "@jupyter-widgets/controls",
      "model_module_version": "2.0.0",
      "model_name": "FloatProgressModel",
      "state": {
       "bar_style": "success",
       "layout": "IPY_MODEL_f2770775965646ea9f701ab457369fdc",
       "max": 40,
       "style": "IPY_MODEL_999cb86c600744a1999f61c4b257a08e",
       "value": 40
      }
     },
     "e30ecae3fdc04a56adc40b6384156459": {
      "model_module": "@jupyter-widgets/controls",
      "model_module_version": "2.0.0",
      "model_name": "FloatProgressModel",
      "state": {
       "bar_style": "success",
       "layout": "IPY_MODEL_803eb9d57d424449885e041ec9e18afc",
       "max": 40,
       "style": "IPY_MODEL_263c4cb5e45645edb0232540547cc271",
       "value": 40
      }
     },
     "e4bdc95758974d82854da365973e1479": {
      "model_module": "@jupyter-widgets/base",
      "model_module_version": "2.0.0",
      "model_name": "LayoutModel",
      "state": {}
     },
     "e617f861e4844134b711957f0b55fe32": {
      "model_module": "@jupyter-widgets/base",
      "model_module_version": "2.0.0",
      "model_name": "LayoutModel",
      "state": {}
     },
     "e69c999277de46258f52c85dfaa942b0": {
      "model_module": "@jupyter-widgets/base",
      "model_module_version": "2.0.0",
      "model_name": "LayoutModel",
      "state": {
       "flex": "2"
      }
     },
     "e77f86e6cb3e40db875cc6ede76b5363": {
      "model_module": "@jupyter-widgets/base",
      "model_module_version": "2.0.0",
      "model_name": "LayoutModel",
      "state": {
       "flex": "2"
      }
     },
     "e7e762c124954b3799b4bc7be0ab18ba": {
      "model_module": "@jupyter-widgets/controls",
      "model_module_version": "2.0.0",
      "model_name": "HTMLModel",
      "state": {
       "layout": "IPY_MODEL_7f9866ed100c4d2d88e0576cad3db6ad",
       "style": "IPY_MODEL_46017b5cb4084b52882eb26f6cb06c85",
       "value": " 40/40 [02:34&lt;00:00,  1.94s/it]"
      }
     },
     "eb3a415b0b0f429eb9da85fe683412ee": {
      "model_module": "@jupyter-widgets/controls",
      "model_module_version": "2.0.0",
      "model_name": "HTMLModel",
      "state": {
       "layout": "IPY_MODEL_03f54a2a15df46f3bb38610569997c32",
       "style": "IPY_MODEL_2bcddd85295042cdaf30e37e7fbdebfa",
       "value": "Validate (799 Steps) (DiceMetric=0.26949): 100%"
      }
     },
     "ebc4f7ff56d442d88c3f07c726a17939": {
      "model_module": "@jupyter-widgets/controls",
      "model_module_version": "2.0.0",
      "model_name": "HBoxModel",
      "state": {
       "children": [
        "IPY_MODEL_ae021a2453d344e29a48ce0508fca44f",
        "IPY_MODEL_d309fc08e25840ab91349701d825a25b",
        "IPY_MODEL_b9fab948be9f4489a3aad76e363ecdbc"
       ],
       "layout": "IPY_MODEL_42208a0b2bff4cc38e7ea28960b85a76"
      }
     },
     "ed277bb4a1e24570acd22891bf287bd7": {
      "model_module": "@jupyter-widgets/base",
      "model_module_version": "2.0.0",
      "model_name": "LayoutModel",
      "state": {
       "flex": "2"
      }
     },
     "ed99aa6cea9a4606afc5b3a7fbae480d": {
      "model_module": "@jupyter-widgets/controls",
      "model_module_version": "2.0.0",
      "model_name": "HTMLModel",
      "state": {
       "layout": "IPY_MODEL_641f33cdf2304657902aec623590c168",
       "style": "IPY_MODEL_96f060d5f0ff4727a711cc8405807ebb",
       "value": " 40/40 [02:33&lt;00:00,  1.91s/it]"
      }
     },
     "f0511df1b94640989f4f6ae0a849f8f7": {
      "model_module": "@jupyter-widgets/controls",
      "model_module_version": "2.0.0",
      "model_name": "HTMLModel",
      "state": {
       "layout": "IPY_MODEL_be87655441d64365a65802d0897a8991",
       "style": "IPY_MODEL_2ac0cc2732924216bc8194bd101c8f44",
       "value": "Validate (999 Steps) (DiceMetric=0.27818): 100%"
      }
     },
     "f1089912464744d985b6a31553663140": {
      "model_module": "@jupyter-widgets/controls",
      "model_module_version": "2.0.0",
      "model_name": "HTMLModel",
      "state": {
       "layout": "IPY_MODEL_f4d2e0305d314d1a802cf90482b05fd0",
       "style": "IPY_MODEL_fa3b2be0be6b466f93c3e79721c9827c",
       "value": " 40/40 [02:38&lt;00:00,  1.94s/it]"
      }
     },
     "f2770775965646ea9f701ab457369fdc": {
      "model_module": "@jupyter-widgets/base",
      "model_module_version": "2.0.0",
      "model_name": "LayoutModel",
      "state": {
       "flex": "2"
      }
     },
     "f2d91ea8fb8945108e3f0f4357c20703": {
      "model_module": "@jupyter-widgets/controls",
      "model_module_version": "2.0.0",
      "model_name": "ProgressStyleModel",
      "state": {
       "description_width": ""
      }
     },
     "f2ff2d810cbe4166a4eb8c548746a4d1": {
      "model_module": "@jupyter-widgets/controls",
      "model_module_version": "2.0.0",
      "model_name": "ProgressStyleModel",
      "state": {
       "description_width": ""
      }
     },
     "f3df31af608e46f5a1fbe4b55a034b4f": {
      "model_module": "@jupyter-widgets/controls",
      "model_module_version": "2.0.0",
      "model_name": "FloatProgressModel",
      "state": {
       "bar_style": "success",
       "layout": "IPY_MODEL_bfb756521a914732b703cf5bddc6ecbe",
       "max": 40,
       "style": "IPY_MODEL_0c174eb0162940d5ad24ec9a11b0efc3",
       "value": 40
      }
     },
     "f4c2effc72ce4ac79d6a7967bf1621ca": {
      "model_module": "@jupyter-widgets/base",
      "model_module_version": "2.0.0",
      "model_name": "LayoutModel",
      "state": {}
     },
     "f4d2e0305d314d1a802cf90482b05fd0": {
      "model_module": "@jupyter-widgets/base",
      "model_module_version": "2.0.0",
      "model_name": "LayoutModel",
      "state": {}
     },
     "f674f15bdef948e5aa0795e86cd57d69": {
      "model_module": "@jupyter-widgets/base",
      "model_module_version": "2.0.0",
      "model_name": "LayoutModel",
      "state": {}
     },
     "f812fc579203478594ea53eeb04e14b0": {
      "model_module": "@jupyter-widgets/controls",
      "model_module_version": "2.0.0",
      "model_name": "HBoxModel",
      "state": {
       "children": [
        "IPY_MODEL_deedfbd6dfb8495195a5344ba9bdc2d0",
        "IPY_MODEL_bfc1746e702947d0b9e5b5c2d60eea00",
        "IPY_MODEL_f1089912464744d985b6a31553663140"
       ],
       "layout": "IPY_MODEL_7840a1e00a0e4c969c92591b0d8b4bac"
      }
     },
     "f90544ea206542b8a6f5c974ddc951f3": {
      "model_module": "@jupyter-widgets/controls",
      "model_module_version": "2.0.0",
      "model_name": "HTMLModel",
      "state": {
       "layout": "IPY_MODEL_9f5f6837ab6f44419dc4f2cfe716b031",
       "style": "IPY_MODEL_3557f481a7c440f8a92861b8d2deb7d2",
       "value": " 40/40 [02:37&lt;00:00,  1.93s/it]"
      }
     },
     "f978650193ba4e79a64b3e9ddd48ae40": {
      "model_module": "@jupyter-widgets/controls",
      "model_module_version": "2.0.0",
      "model_name": "ProgressStyleModel",
      "state": {
       "description_width": ""
      }
     },
     "f97d057326a640a186c13364733d210a": {
      "model_module": "@jupyter-widgets/base",
      "model_module_version": "2.0.0",
      "model_name": "LayoutModel",
      "state": {}
     },
     "fa3730260bbb476093339c9411844c44": {
      "model_module": "@jupyter-widgets/controls",
      "model_module_version": "2.0.0",
      "model_name": "HTMLModel",
      "state": {
       "layout": "IPY_MODEL_ce2c5de645f345f49d7572edee5ab8ff",
       "style": "IPY_MODEL_d04367591f9b4fea9ccd8d7aa7de97cb",
       "value": " 40/40 [02:34&lt;00:00,  1.93s/it]"
      }
     },
     "fa3b2be0be6b466f93c3e79721c9827c": {
      "model_module": "@jupyter-widgets/controls",
      "model_module_version": "2.0.0",
      "model_name": "HTMLStyleModel",
      "state": {
       "description_width": "",
       "font_size": null,
       "text_color": null
      }
     },
     "fb3ae01c4d3744b39d0e30794d92af84": {
      "model_module": "@jupyter-widgets/base",
      "model_module_version": "2.0.0",
      "model_name": "LayoutModel",
      "state": {
       "display": "inline-flex",
       "flex_flow": "row wrap",
       "width": "100%"
      }
     },
     "fbead2a6967b4377ab1244dca35c7c80": {
      "model_module": "@jupyter-widgets/controls",
      "model_module_version": "2.0.0",
      "model_name": "FloatProgressModel",
      "state": {
       "bar_style": "success",
       "layout": "IPY_MODEL_8adcdb1d99da42c08edb04d4058f789a",
       "max": 40,
       "style": "IPY_MODEL_f2d91ea8fb8945108e3f0f4357c20703",
       "value": 40
      }
     },
     "fc460c9f1aff46f2b3de598fb8d6f16e": {
      "model_module": "@jupyter-widgets/base",
      "model_module_version": "2.0.0",
      "model_name": "LayoutModel",
      "state": {}
     },
     "fcbde72a94644dfb8e73e32c24bf8a63": {
      "model_module": "@jupyter-widgets/base",
      "model_module_version": "2.0.0",
      "model_name": "LayoutModel",
      "state": {
       "display": "inline-flex",
       "flex_flow": "row wrap",
       "width": "100%"
      }
     },
     "fcc1761b69aa431897829dafd6fc9fad": {
      "model_module": "@jupyter-widgets/controls",
      "model_module_version": "2.0.0",
      "model_name": "HTMLStyleModel",
      "state": {
       "description_width": "",
       "font_size": null,
       "text_color": null
      }
     },
     "fccf943001ed4e85bc6adaa5f1d6b38f": {
      "model_module": "@jupyter-widgets/base",
      "model_module_version": "2.0.0",
      "model_name": "LayoutModel",
      "state": {}
     },
     "fdac72c197594827aa74d76ca522a1f6": {
      "model_module": "@jupyter-widgets/controls",
      "model_module_version": "2.0.0",
      "model_name": "HTMLStyleModel",
      "state": {
       "description_width": "",
       "font_size": null,
       "text_color": null
      }
     },
     "fde7aedf0dce4d11af75a4378ddfc23b": {
      "model_module": "@jupyter-widgets/base",
      "model_module_version": "2.0.0",
      "model_name": "LayoutModel",
      "state": {}
     },
     "fe5fb73a472940a19bfb71b3c935ea6b": {
      "model_module": "@jupyter-widgets/controls",
      "model_module_version": "2.0.0",
      "model_name": "HTMLModel",
      "state": {
       "layout": "IPY_MODEL_8dbbb95714a54db7ac8981f8b1dd620f",
       "style": "IPY_MODEL_b48f0f60bf0e47cda0b042b8a1ab9c03",
       "value": " 40/40 [02:35&lt;00:00,  1.95s/it]"
      }
     },
     "feb2611cdd204fb29883382c26768318": {
      "model_module": "@jupyter-widgets/controls",
      "model_module_version": "2.0.0",
      "model_name": "HBoxModel",
      "state": {
       "children": [
        "IPY_MODEL_0417f9f83ab34cfa81d42630cd087658",
        "IPY_MODEL_720495e6bb7047b0970688da1de754e9",
        "IPY_MODEL_7effa6ae592247febbe2e36f5e4bcb48"
       ],
       "layout": "IPY_MODEL_7e1431fb7d514ccf83f8d702c672cdda"
      }
     },
     "ff6983adb21c45caafc55cd7b3e6ee56": {
      "model_module": "@jupyter-widgets/base",
      "model_module_version": "2.0.0",
      "model_name": "LayoutModel",
      "state": {
       "display": "inline-flex",
       "flex_flow": "row wrap",
       "width": "100%"
      }
     }
    },
    "version_major": 2,
    "version_minor": 0
   }
  }
 },
 "nbformat": 4,
 "nbformat_minor": 5
}
