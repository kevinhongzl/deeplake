{
 "cells": [
  {
   "cell_type": "markdown",
   "metadata": {},
   "source": [
    "# [lenet03] BaseUpdater As an Updater Template\n",
    "\n",
    "在這個教學裡面，會告訴你怎麼透過模板，調整訓練中的反向傳播與網路更新的流程。"
   ]
  },
  {
   "cell_type": "code",
   "execution_count": 1,
   "metadata": {},
   "outputs": [
    {
     "data": {
      "text/html": [
       "<style>\n",
       ".cell-output-ipywidget-background {\n",
       "    background-color: transparent !important;\n",
       "}\n",
       ":root {\n",
       "    --jp-widgets-color: var(--vscode-editor-foreground);\n",
       "    --jp-widgets-font-size: var(--vscode-editor-font-size);\n",
       "}  \n",
       "</style>\n"
      ],
      "text/plain": [
       "<IPython.core.display.HTML object>"
      ]
     },
     "metadata": {},
     "output_type": "display_data"
    }
   ],
   "source": [
    "%%html\n",
    "<style>\n",
    ".cell-output-ipywidget-background {\n",
    "    background-color: transparent !important;\n",
    "}\n",
    ":root {\n",
    "    --jp-widgets-color: var(--vscode-editor-foreground);\n",
    "    --jp-widgets-font-size: var(--vscode-editor-font-size);\n",
    "}  \n",
    "</style>"
   ]
  },
  {
   "cell_type": "markdown",
   "metadata": {},
   "source": [
    "## Introduction"
   ]
  },
  {
   "cell_type": "code",
   "execution_count": 4,
   "metadata": {},
   "outputs": [
    {
     "data": {
      "text/html": [
       "<style>pre { line-height: 125%; }\n",
       "td.linenos .normal { color: #3c4354; background-color: transparent; padding-left: 5px; padding-right: 5px; }\n",
       "span.linenos { color: #3c4354; background-color: transparent; padding-left: 5px; padding-right: 5px; }\n",
       "td.linenos .special { color: #3c4354; background-color: #ffffc0; padding-left: 5px; padding-right: 5px; }\n",
       "span.linenos.special { color: #3c4354; background-color: #ffffc0; padding-left: 5px; padding-right: 5px; }\n",
       ".highlight .hll { background-color: #6e7681 }\n",
       ".highlight { background: #1d2331; color: #d4d2c8 }\n",
       ".highlight .c { color: #7e8aa1 } /* Comment */\n",
       ".highlight .err { color: #f88f7f } /* Error */\n",
       ".highlight .esc { color: #d4d2c8 } /* Escape */\n",
       ".highlight .g { color: #d4d2c8 } /* Generic */\n",
       ".highlight .k { color: #FFAD66 } /* Keyword */\n",
       ".highlight .l { color: #D5FF80 } /* Literal */\n",
       ".highlight .n { color: #d4d2c8 } /* Name */\n",
       ".highlight .o { color: #FFAD66 } /* Operator */\n",
       ".highlight .x { color: #d4d2c8 } /* Other */\n",
       ".highlight .p { color: #d4d2c8 } /* Punctuation */\n",
       ".highlight .ch { color: #f88f7f; font-style: italic } /* Comment.Hashbang */\n",
       ".highlight .cm { color: #7e8aa1 } /* Comment.Multiline */\n",
       ".highlight .cp { color: #FFAD66; font-weight: bold } /* Comment.Preproc */\n",
       ".highlight .cpf { color: #7e8aa1 } /* Comment.PreprocFile */\n",
       ".highlight .c1 { color: #7e8aa1 } /* Comment.Single */\n",
       ".highlight .cs { color: #7e8aa1; font-style: italic } /* Comment.Special */\n",
       ".highlight .gd { color: #f88f7f; background-color: #3d1e20 } /* Generic.Deleted */\n",
       ".highlight .ge { color: #d4d2c8; font-style: italic } /* Generic.Emph */\n",
       ".highlight .ges { color: #d4d2c8 } /* Generic.EmphStrong */\n",
       ".highlight .gr { color: #f88f7f } /* Generic.Error */\n",
       ".highlight .gh { color: #d4d2c8 } /* Generic.Heading */\n",
       ".highlight .gi { color: #6ad4af; background-color: #19362c } /* Generic.Inserted */\n",
       ".highlight .go { color: #7e8aa1 } /* Generic.Output */\n",
       ".highlight .gp { color: #d4d2c8 } /* Generic.Prompt */\n",
       ".highlight .gs { color: #d4d2c8; font-weight: bold } /* Generic.Strong */\n",
       ".highlight .gu { color: #d4d2c8 } /* Generic.Subheading */\n",
       ".highlight .gt { color: #f88f7f } /* Generic.Traceback */\n",
       ".highlight .kc { color: #FFAD66 } /* Keyword.Constant */\n",
       ".highlight .kd { color: #FFAD66 } /* Keyword.Declaration */\n",
       ".highlight .kn { color: #FFAD66 } /* Keyword.Namespace */\n",
       ".highlight .kp { color: #FFAD66 } /* Keyword.Pseudo */\n",
       ".highlight .kr { color: #FFAD66 } /* Keyword.Reserved */\n",
       ".highlight .kt { color: #73D0FF } /* Keyword.Type */\n",
       ".highlight .ld { color: #D5FF80 } /* Literal.Date */\n",
       ".highlight .m { color: #DFBFFF } /* Literal.Number */\n",
       ".highlight .s { color: #D5FF80 } /* Literal.String */\n",
       ".highlight .na { color: #FFD173 } /* Name.Attribute */\n",
       ".highlight .nb { color: #FFD173 } /* Name.Builtin */\n",
       ".highlight .nc { color: #73D0FF } /* Name.Class */\n",
       ".highlight .no { color: #FFD173 } /* Name.Constant */\n",
       ".highlight .nd { color: #7e8aa1; font-weight: bold; font-style: italic } /* Name.Decorator */\n",
       ".highlight .ni { color: #95E6CB } /* Name.Entity */\n",
       ".highlight .ne { color: #73D0FF } /* Name.Exception */\n",
       ".highlight .nf { color: #FFD173 } /* Name.Function */\n",
       ".highlight .nl { color: #d4d2c8 } /* Name.Label */\n",
       ".highlight .nn { color: #d4d2c8 } /* Name.Namespace */\n",
       ".highlight .nx { color: #d4d2c8 } /* Name.Other */\n",
       ".highlight .py { color: #FFD173 } /* Name.Property */\n",
       ".highlight .nt { color: #5CCFE6 } /* Name.Tag */\n",
       ".highlight .nv { color: #d4d2c8 } /* Name.Variable */\n",
       ".highlight .ow { color: #FFAD66 } /* Operator.Word */\n",
       ".highlight .pm { color: #d4d2c8 } /* Punctuation.Marker */\n",
       ".highlight .w { color: #d4d2c8 } /* Text.Whitespace */\n",
       ".highlight .mb { color: #DFBFFF } /* Literal.Number.Bin */\n",
       ".highlight .mf { color: #DFBFFF } /* Literal.Number.Float */\n",
       ".highlight .mh { color: #DFBFFF } /* Literal.Number.Hex */\n",
       ".highlight .mi { color: #DFBFFF } /* Literal.Number.Integer */\n",
       ".highlight .mo { color: #DFBFFF } /* Literal.Number.Oct */\n",
       ".highlight .sa { color: #F29E74 } /* Literal.String.Affix */\n",
       ".highlight .sb { color: #D5FF80 } /* Literal.String.Backtick */\n",
       ".highlight .sc { color: #D5FF80 } /* Literal.String.Char */\n",
       ".highlight .dl { color: #D5FF80 } /* Literal.String.Delimiter */\n",
       ".highlight .sd { color: #7e8aa1 } /* Literal.String.Doc */\n",
       ".highlight .s2 { color: #D5FF80 } /* Literal.String.Double */\n",
       ".highlight .se { color: #95E6CB } /* Literal.String.Escape */\n",
       ".highlight .sh { color: #D5FF80 } /* Literal.String.Heredoc */\n",
       ".highlight .si { color: #95E6CB } /* Literal.String.Interpol */\n",
       ".highlight .sx { color: #95E6CB } /* Literal.String.Other */\n",
       ".highlight .sr { color: #95E6CB } /* Literal.String.Regex */\n",
       ".highlight .s1 { color: #D5FF80 } /* Literal.String.Single */\n",
       ".highlight .ss { color: #DFBFFF } /* Literal.String.Symbol */\n",
       ".highlight .bp { color: #5CCFE6 } /* Name.Builtin.Pseudo */\n",
       ".highlight .fm { color: #FFD173 } /* Name.Function.Magic */\n",
       ".highlight .vc { color: #d4d2c8 } /* Name.Variable.Class */\n",
       ".highlight .vg { color: #d4d2c8 } /* Name.Variable.Global */\n",
       ".highlight .vi { color: #d4d2c8 } /* Name.Variable.Instance */\n",
       ".highlight .vm { color: #d4d2c8 } /* Name.Variable.Magic */\n",
       ".highlight .il { color: #DFBFFF } /* Literal.Number.Integer.Long */</style>"
      ],
      "text/plain": [
       "<IPython.core.display.HTML object>"
      ]
     },
     "metadata": {},
     "output_type": "display_data"
    },
    {
     "data": {
      "text/html": [
       "<div class=\"highlight\"><pre><span></span><span class=\"k\">class</span> <span class=\"nc\">BaseUpdater</span><span class=\"p\">:</span>\n",
       "<span class=\"w\">    </span><span class=\"sd\">&quot;&quot;&quot;Base class of updaters.&quot;&quot;&quot;</span>\n",
       "\n",
       "    <span class=\"k\">def</span> <span class=\"fm\">__init__</span><span class=\"p\">(</span><span class=\"bp\">self</span><span class=\"p\">):</span>\n",
       "        <span class=\"k\">pass</span>\n",
       "\n",
       "    <span class=\"k\">def</span> <span class=\"fm\">__call__</span><span class=\"p\">(</span><span class=\"bp\">self</span><span class=\"p\">,</span> <span class=\"n\">module</span><span class=\"p\">):</span>\n",
       "        <span class=\"k\">return</span> <span class=\"bp\">self</span><span class=\"o\">.</span><span class=\"n\">register_module</span><span class=\"p\">(</span><span class=\"n\">module</span><span class=\"p\">)</span>\n",
       "\n",
       "    <span class=\"k\">def</span> <span class=\"nf\">register_module</span><span class=\"p\">(</span><span class=\"bp\">self</span><span class=\"p\">,</span> <span class=\"n\">module</span><span class=\"p\">):</span>\n",
       "        <span class=\"bp\">self</span><span class=\"o\">.</span><span class=\"n\">check_module</span><span class=\"p\">(</span><span class=\"n\">module</span><span class=\"p\">)</span>\n",
       "        <span class=\"k\">return</span> <span class=\"n\">partial</span><span class=\"p\">(</span><span class=\"bp\">self</span><span class=\"o\">.</span><span class=\"n\">update</span><span class=\"p\">,</span> <span class=\"n\">module</span><span class=\"p\">)</span>\n",
       "\n",
       "    <span class=\"k\">def</span> <span class=\"nf\">check_module</span><span class=\"p\">(</span><span class=\"bp\">self</span><span class=\"p\">,</span> <span class=\"n\">module</span><span class=\"p\">:</span> <span class=\"n\">nn</span><span class=\"o\">.</span><span class=\"n\">Module</span><span class=\"p\">)</span> <span class=\"o\">-&gt;</span> <span class=\"kc\">None</span><span class=\"p\">:</span>\n",
       "        <span class=\"c1\"># if not getattr(module, &quot;criterion&quot;, False):</span>\n",
       "        <span class=\"c1\">#     warnings.warn(&quot;There is no `criterion` in module.&quot;, UserWarning)</span>\n",
       "        <span class=\"c1\"># if not getattr(module, &quot;optimizer&quot;, False):</span>\n",
       "        <span class=\"c1\">#     warnings.warn(&quot;There is no `optimizer` in module.&quot;, UserWarning)</span>\n",
       "        <span class=\"k\">pass</span>\n",
       "\n",
       "    <span class=\"k\">def</span> <span class=\"nf\">get_alias</span><span class=\"p\">(</span><span class=\"bp\">self</span><span class=\"p\">):</span>\n",
       "        <span class=\"k\">return</span> <span class=\"nb\">getattr</span><span class=\"p\">(</span><span class=\"bp\">self</span><span class=\"p\">,</span> <span class=\"s2\">&quot;alias&quot;</span><span class=\"p\">,</span> <span class=\"bp\">self</span><span class=\"o\">.</span><span class=\"vm\">__class__</span><span class=\"o\">.</span><span class=\"vm\">__name__</span><span class=\"p\">)</span>\n",
       "\n",
       "    <span class=\"k\">def</span> <span class=\"nf\">update</span><span class=\"p\">(</span><span class=\"bp\">self</span><span class=\"p\">,</span> <span class=\"n\">module</span><span class=\"p\">:</span> <span class=\"n\">nn</span><span class=\"o\">.</span><span class=\"n\">Module</span><span class=\"p\">,</span> <span class=\"n\">images</span><span class=\"p\">:</span> <span class=\"n\">TensorType</span><span class=\"p\">,</span> <span class=\"n\">targets</span><span class=\"p\">:</span> <span class=\"n\">TensorType</span><span class=\"p\">,</span> <span class=\"o\">**</span><span class=\"n\">kwargs</span><span class=\"p\">)</span> <span class=\"o\">-&gt;</span> <span class=\"nb\">float</span><span class=\"p\">:</span>\n",
       "        <span class=\"n\">module</span><span class=\"o\">.</span><span class=\"n\">optimizer</span><span class=\"o\">.</span><span class=\"n\">zero_grad</span><span class=\"p\">()</span>\n",
       "        <span class=\"n\">preds</span> <span class=\"o\">=</span> <span class=\"n\">module</span><span class=\"p\">(</span><span class=\"n\">images</span><span class=\"p\">)</span>\n",
       "        <span class=\"n\">loss</span> <span class=\"o\">=</span> <span class=\"n\">module</span><span class=\"o\">.</span><span class=\"n\">criterion</span><span class=\"p\">(</span><span class=\"n\">preds</span><span class=\"p\">,</span> <span class=\"n\">targets</span><span class=\"p\">)</span>\n",
       "        <span class=\"n\">loss</span><span class=\"o\">.</span><span class=\"n\">backward</span><span class=\"p\">()</span>\n",
       "        <span class=\"n\">module</span><span class=\"o\">.</span><span class=\"n\">optimizer</span><span class=\"o\">.</span><span class=\"n\">step</span><span class=\"p\">()</span>\n",
       "        <span class=\"k\">return</span> <span class=\"n\">loss</span><span class=\"o\">.</span><span class=\"n\">item</span><span class=\"p\">()</span>\n",
       "</pre></div>\n"
      ],
      "text/plain": [
       "<IPython.core.display.HTML object>"
      ]
     },
     "metadata": {},
     "output_type": "display_data"
    }
   ],
   "source": [
    "import sys\n",
    "from pathlib import Path\n",
    "sys.path.append(str(Path.cwd().parent))\n",
    "\n",
    "from modules.base.updater import BaseUpdater\n",
    "from print_source import print_source\n",
    "\n",
    "print_source(BaseUpdater)"
   ]
  },
  {
   "cell_type": "markdown",
   "metadata": {},
   "source": [
    "Updater (更新器) 的用法很簡單：\n",
    "1. 登記 `module` 得到 module updater function: `module_update = updater(module)`，這個用法的實現可以參考類別方法 `register_module` (`__call__`是語法糖設計)。\n",
    "2. 更新網路權重使用 `module_update`: 在 trainer 裡面透過 `loss = module_update(image, target)` 更新網路權重並回傳 loss\n",
    "\n",
    "如果需要改寫的話，只需要重新實現 `update` 這個方法就可以了，切記參數中要包含 `module` 用來登記在。\n",
    "\n",
    "P.S: 做的嚴謹一點，也可以順便實現 `check_module` 這個方法，確保 `update` 中所使用的元件都有在 `module` 裡面，例如在原先的實現中我們需要optimizer和critterion。<br>\n",
    "&emsp;&thinsp;&thinsp;&thinsp;&thinsp;這樣做的好處是，一旦你魔改了原有的 `module` 但仍想沿用原先的 `updater`，會提醒你哪些元件需要被實現。\n"
   ]
  },
  {
   "cell_type": "markdown",
   "metadata": {},
   "source": [
    "## Example\n",
    "\n",
    "SGD 和 Cosine Scheduler 是一個很常見的組合。<br>\n",
    "這邊我們示範怎麼透過繼承 BaseUpdater 的方式，實現一個 CustomUpdater 來強迫模型使用 Cosine Scheduler 和 SGD 更新梯度。\n",
    "\n",
    "原則上**不**鼓勵這樣設計，因為把神經網路的元件寫在更新器裡面不太直覺、也因此不容易被找到。<br>\n",
    "但這邊僅僅作為釋例提供一種可能的做法。"
   ]
  },
  {
   "cell_type": "code",
   "execution_count": 3,
   "metadata": {},
   "outputs": [],
   "source": [
    "import sys\n",
    "from pathlib import Path\n",
    "sys.path.append(str(Path.cwd().parent))\n",
    "\n",
    "import torch\n",
    "from functools import partial\n",
    "from modules.base.updater import BaseUpdater\n",
    "\n",
    "class CustomUpdater(BaseUpdater):\n",
    "    \"\"\"Base class of updaters.\"\"\"\n",
    "\n",
    "    def __init__(self, criterion=None):\n",
    "        self.criterion = criterion\n",
    "\n",
    "    def register_module(self, module):\n",
    "        self.check_module(module)\n",
    "        # --- Modified \n",
    "        optimizer = torch.optim.SGD(module.net.parameters(), lr=1)\n",
    "        scheduler = torch.optim.lr_scheduler.CosineAnnealingWarmRestarts(optimizer, T_0=10, T_mult=1, eta_min=0, last_epoch=-1)\n",
    "        module.optimizer = optimizer\n",
    "        module.scheduler = scheduler\n",
    "        # --- Modified\n",
    "        return partial(self.update, module)\n",
    "\n",
    "    def update(self, module, images, targets, **kwargs) -> float:\n",
    "        module.optimizer.zero_grad()\n",
    "        preds = module(images)\n",
    "        loss = module.criterion(preds, targets)\n",
    "        loss.backward()\n",
    "        module.optimizer.step()\n",
    "        module.scheduler.step() # >> Modified\n",
    "        return loss.item()"
   ]
  },
  {
   "cell_type": "markdown",
   "metadata": {},
   "source": [
    "我們在 `register_module` 中把 `module` 改成 SGD 並且加入 scheduler。<br>\n",
    "在 `update` 中配合著修改更新梯度的流程。"
   ]
  },
  {
   "cell_type": "code",
   "execution_count": 5,
   "metadata": {},
   "outputs": [
    {
     "name": "stdout",
     "output_type": "stream",
     "text": [
      "Train:\n",
      "--------\n",
      "Device: cuda\n",
      "# of Training Samples: 211\n",
      "# of Validation Samples: 47\n",
      "Max iteration: 4000 steps (validates per 4000 steps)\n",
      "Checkpoint directory: ./checkpoints/\n",
      "Evaluation metric: function\n",
      "--------\n"
     ]
    },
    {
     "data": {
      "application/vnd.jupyter.widget-view+json": {
       "model_id": "99d2545a5bc5494681c81a78095a0f69",
       "version_major": 2,
       "version_minor": 0
      },
      "text/plain": [
       "  0%|          | 0/4000 [00:00<?, ?it/s]"
      ]
     },
     "metadata": {},
     "output_type": "display_data"
    },
    {
     "data": {
      "application/vnd.jupyter.widget-view+json": {
       "model_id": "abad268fd1c545f38594b128481b2c52",
       "version_major": 2,
       "version_minor": 0
      },
      "text/plain": [
       "  0%|          | 0/47 [00:00<?, ?it/s]"
      ]
     },
     "metadata": {},
     "output_type": "display_data"
    },
    {
     "name": "stdout",
     "output_type": "stream",
     "text": [
      "\u001b[32m2024-08-19 15:18:46.251\u001b[0m | \u001b[32m\u001b[1mSUCCESS \u001b[0m | \u001b[36mmodules.base.trainer\u001b[0m:\u001b[36msuccess\u001b[0m:\u001b[36m71\u001b[0m - \u001b[32m\u001b[1mModel saved! Validation: (New) 0.11113 > (Old) 0.00000\u001b[0m\n",
      "\n",
      " Test:\n"
     ]
    },
    {
     "data": {
      "application/vnd.jupyter.widget-view+json": {
       "model_id": "57091e4d26c743a29246e2181f2ed4d2",
       "version_major": 2,
       "version_minor": 0
      },
      "text/plain": [
       "  0%|          | 0/79 [00:00<?, ?it/s]"
      ]
     },
     "metadata": {},
     "output_type": "display_data"
    },
    {
     "data": {
      "text/plain": [
       "0.11224287974683544"
      ]
     },
     "execution_count": 5,
     "metadata": {},
     "output_type": "execute_result"
    }
   ],
   "source": [
    "import sys\n",
    "from pathlib import Path\n",
    "sys.path.append(str(Path.cwd().parent))\n",
    "\n",
    "from modules.base.trainer import BaseTrainer, TrainLogger\n",
    "from modules.base.updater import BaseUpdater\n",
    "from modules.base.validator import BaseValidator\n",
    "\n",
    "from torch import nn\n",
    "from mnist_dataloaders import train_dataloader, val_dataloader, test_dataloader\n",
    "from lenet import LeNet5,  batch_acc\n",
    "\n",
    "validator = BaseValidator(metric=batch_acc)\n",
    "updater = CustomUpdater()\n",
    "trainer = BaseTrainer(max_iter=4000, eval_step=4000, metric=batch_acc)\n",
    "\n",
    "# train\n",
    "print(\"Train:\")\n",
    "lenet = LeNet5().cuda()\n",
    "trainer.train(module=lenet, updater=updater, train_dataloader=train_dataloader, val_dataloader=val_dataloader)\n",
    "\n",
    "# test\n",
    "print(\"\\n Test:\")\n",
    "lenet.load(\"./checkpoints\")\n",
    "validator.validation(module=lenet, dataloader=test_dataloader)"
   ]
  },
  {
   "cell_type": "markdown",
   "metadata": {},
   "source": [
    "你會發現沒有辦法訓練好了！ <br>\n",
    "\n",
    "嗯...事實上這邊完整復刻了 LeCun(1998) 的網路架構 (沒偷用 Max Pooling 和 ReLU)，想用 SGD 訓練好還是有點不容易的。<br>\n",
    "原因出在適合 Sigmoid activation 的權重初始化方法是 Xavier initialization，<br>\n",
    "而 PyTorch 預設的權重初始化是針對 ReLU 的 He Initialzation。 <br>\n",
    "可以參考：[Deep Learning Wizard - Weight Initializations & Activation Functions](https://www.deeplearningwizard.com/deep_learning/boosting_models_pytorch/weight_initialization_activation_functions/)\n",
    "\n",
    "讓我們將網路權重透過 Xavier 初始化後再做一遍。"
   ]
  },
  {
   "cell_type": "code",
   "execution_count": 6,
   "metadata": {},
   "outputs": [
    {
     "name": "stdout",
     "output_type": "stream",
     "text": [
      "Train:\n",
      "--------\n",
      "Device: cuda\n",
      "# of Training Samples: 211\n",
      "# of Validation Samples: 47\n",
      "Max iteration: 4000 steps (validates per 4000 steps)\n",
      "Checkpoint directory: ./checkpoints/\n",
      "Evaluation metric: function\n",
      "--------\n"
     ]
    },
    {
     "data": {
      "application/vnd.jupyter.widget-view+json": {
       "model_id": "ca577cde9b444ed1801a20c0fdf36b25",
       "version_major": 2,
       "version_minor": 0
      },
      "text/plain": [
       "  0%|          | 0/4000 [00:00<?, ?it/s]"
      ]
     },
     "metadata": {},
     "output_type": "display_data"
    },
    {
     "data": {
      "application/vnd.jupyter.widget-view+json": {
       "model_id": "85612c952f234bc4a5eb8168f2d57439",
       "version_major": 2,
       "version_minor": 0
      },
      "text/plain": [
       "  0%|          | 0/47 [00:00<?, ?it/s]"
      ]
     },
     "metadata": {},
     "output_type": "display_data"
    },
    {
     "name": "stdout",
     "output_type": "stream",
     "text": [
      "\u001b[32m2024-08-19 15:22:47.741\u001b[0m | \u001b[32m\u001b[1mSUCCESS \u001b[0m | \u001b[36mmodules.base.trainer\u001b[0m:\u001b[36msuccess\u001b[0m:\u001b[36m71\u001b[0m - \u001b[32m\u001b[1mModel saved! Validation: (New) 0.96182 > (Old) 0.00000\u001b[0m\n",
      "\n",
      " Test:\n"
     ]
    },
    {
     "data": {
      "application/vnd.jupyter.widget-view+json": {
       "model_id": "c5e2cc8ce3c0456d97015994a3cd0a9c",
       "version_major": 2,
       "version_minor": 0
      },
      "text/plain": [
       "  0%|          | 0/79 [00:00<?, ?it/s]"
      ]
     },
     "metadata": {},
     "output_type": "display_data"
    },
    {
     "data": {
      "text/plain": [
       "0.9678599683544303"
      ]
     },
     "execution_count": 6,
     "metadata": {},
     "output_type": "execute_result"
    }
   ],
   "source": [
    "print(\"Train:\")\n",
    "lenet = LeNet5().cuda()\n",
    "# torch.nn.init.xavier_uniform_(lenet.net.weight)\n",
    "for layer in lenet.net.modules():\n",
    "    if isinstance(layer, (nn.Conv2d, nn.Linear)):\n",
    "        nn.init.xavier_uniform_(layer.weight)\n",
    "\n",
    "trainer.train(module=lenet, updater=updater, train_dataloader=train_dataloader, val_dataloader=val_dataloader)\n",
    "\n",
    "# test\n",
    "print(\"\\n Test:\")\n",
    "lenet.load(\"./checkpoints\")\n",
    "validator.validation(module=lenet, dataloader=test_dataloader)"
   ]
  },
  {
   "cell_type": "code",
   "execution_count": null,
   "metadata": {},
   "outputs": [],
   "source": []
  }
 ],
 "metadata": {
  "kernelspec": {
   "display_name": "env-py39",
   "language": "python",
   "name": "python3"
  },
  "language_info": {
   "codemirror_mode": {
    "name": "ipython",
    "version": 3
   },
   "file_extension": ".py",
   "mimetype": "text/x-python",
   "name": "python",
   "nbconvert_exporter": "python",
   "pygments_lexer": "ipython3",
   "version": "3.9.19"
  }
 },
 "nbformat": 4,
 "nbformat_minor": 2
}
