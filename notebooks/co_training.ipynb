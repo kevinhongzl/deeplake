{
 "cells": [
  {
   "cell_type": "code",
   "execution_count": 1,
   "id": "e1b05740-4b76-43fc-ba9b-5cb4f3e3545e",
   "metadata": {},
   "outputs": [
    {
     "name": "stdout",
     "output_type": "stream",
     "text": [
      "C:\\Users\\User\\Desktop\\Kevin\\Partial-DANN\n"
     ]
    }
   ],
   "source": [
    "# cwd = Partial-DANN/\n",
    "import os\n",
    "os.chdir(\"..\")\n",
    "print(os.getcwd())\n",
    "from main import *"
   ]
  },
  {
   "cell_type": "code",
   "execution_count": 2,
   "id": "40c00363-ee1a-41db-959c-9955ad47c163",
   "metadata": {},
   "outputs": [],
   "source": [
    "config = configparser.ConfigParser()\n",
    "config.read(\"./config.ini\")\n",
    "\n",
    "# Data\n",
    "root = config[\"path\"][\"root\"]\n",
    "output = config[\"path\"][\"output\"]\n",
    "debug = config[\"path\"][\"debug\"]\n",
    "dataset = datasets[\"simple_amos\"]\n",
    "modality = \"ct+mr:balance\"\n",
    "masked = True\n",
    "train_data = \"split\"\n",
    "mode = \"train\"\n",
    "\n",
    "# Module\n",
    "module_name = \"co_training\"\n",
    "pretrained = None\n",
    "batch_size = 1\n",
    "loss = \"dice2\"\n",
    "lr = 0.01\n",
    "optim = \"Adam\"\n",
    "max_iter = 10000\n",
    "eval_step = 100\n",
    "\n",
    "# Efficiency\n",
    "deterministic = False\n",
    "dev = False\n",
    "cache_rate = 0.1\n",
    "num_workers = 2"
   ]
  },
  {
   "cell_type": "code",
   "execution_count": 3,
   "id": "6523be00-49d3-4830-90a2-2a9cb1de7cfb",
   "metadata": {},
   "outputs": [
    {
     "name": "stdout",
     "output_type": "stream",
     "text": [
      "root dir: C:/Users/User/Desktop/TSM_Project/data/amos22\n",
      "checkpoint dir: ./checkpoints\n",
      "\n",
      "dataset info:\n"
     ]
    },
    {
     "data": {
      "text/plain": [
       "{'name': 'SIMPLE_AMOS',\n",
       " 'class': medaset.amos.SimpleAMOSDataset,\n",
       " 'train_transforms': <monai.transforms.compose.Compose at 0x26c6524b670>,\n",
       " 'val_transforms': <monai.transforms.compose.Compose at 0x26c65255100>,\n",
       " 'num_classes': 9,\n",
       " 'fg': {'ct': [1, 3, 5, 7], 'mr': [2, 4, 6, 8]},\n",
       " 'bg': {'ct': {2: 0, 4: 0, 6: 0, 8: 0}, 'mr': {1: 0, 3: 0, 5: 0, 7: 0}}}"
      ]
     },
     "metadata": {},
     "output_type": "display_data"
    }
   ],
   "source": [
    "print(\"root dir:\", root)\n",
    "print(\"checkpoint dir:\", output)\n",
    "print(\"\\ndataset info:\")\n",
    "display(dataset)"
   ]
  },
  {
   "cell_type": "code",
   "execution_count": 4,
   "id": "62576e45-e805-4eb2-ba68-2c2b27c4466d",
   "metadata": {},
   "outputs": [
    {
     "name": "stdout",
     "output_type": "stream",
     "text": [
      "** Dataset = SIMPLE_AMOS\n",
      "** Modality = ct+mr:balance\n",
      "** Training set = split\n",
      "** Annotation masked = True\n",
      "** Foreground =\n",
      "  - ct: [1, 3, 5, 7] \n",
      "  - mr: [2, 4, 6, 8]\n"
     ]
    },
    {
     "name": "stderr",
     "output_type": "stream",
     "text": [
      "Loading dataset: 100%|█████████████████████████████████████████████████████████████████████████| 20/20 [00:00<?, ?it/s]\n",
      "Loading dataset: 100%|█████████████████████████████████████████████████████████████████████████| 20/20 [00:00<?, ?it/s]\n",
      "Loading dataset: 100%|██████████████████████████████████████████████████████████████| 10/10 [00:00<00:00, 10031.82it/s]\n",
      "Loading dataset: 100%|███████████████████████████████████████████████████████████████████████████| 4/4 [00:00<?, ?it/s]\n",
      "Loading dataset: 100%|███████████████████████████████████████████████████████████████████████████| 4/4 [00:00<?, ?it/s]\n",
      "Loading dataset: 100%|███████████████████████████████████████████████████████████████████████████| 2/2 [00:00<?, ?it/s]"
     ]
    },
    {
     "name": "stdout",
     "output_type": "stream",
     "text": [
      "BasicUNet features: (32, 32, 64, 128, 256, 32).\n"
     ]
    },
    {
     "name": "stderr",
     "output_type": "stream",
     "text": [
      "\n"
     ]
    },
    {
     "name": "stdout",
     "output_type": "stream",
     "text": [
      "BasicUNet features: (32, 32, 64, 128, 256, 32).\n",
      "BasicUNet features: (32, 32, 64, 128, 256, 32).\n",
      "BasicUNet features: (32, 32, 64, 128, 256, 32).\n",
      "** Mode = train\n",
      "Pretrained module 0 is successfully loaded.\n",
      "Pretrained module 1 is successfully loaded.\n",
      "--------\n",
      "Device: cuda\n",
      "# of Training Samples: {'ct': 180, 'mr': 180}\n",
      "# of Validation Samples: {'ct': 20, 'mr': 20}\n",
      "Max iteration: 10000 steps (validates per 100 steps)\n",
      "Checkpoint directory: checkpoints\\20231027-225418\n",
      "Evaluation metric: DiceMetric\n",
      "Module Net-1: BasicUNet\n",
      "       Net-2: BasicUNet\n",
      "Optimizer: SGD (lr = 0.01)\n",
      "Loss function: FocalLoss, DiceLoss, SoftLoss\n",
      "--------\n"
     ]
    },
    {
     "data": {
      "application/vnd.jupyter.widget-view+json": {
       "model_id": "66ea4d439dfa4c7db1a9d93c3973e1d9",
       "version_major": 2,
       "version_minor": 0
      },
      "text/plain": [
       "Counting pixels of each organ ...:   0%|          | 0/240 [00:00<?, ?it/s]"
      ]
     },
     "metadata": {},
     "output_type": "display_data"
    },
    {
     "data": {
      "application/vnd.jupyter.widget-view+json": {
       "model_id": "833a0352c75341b5b0ed1b92ead58a95",
       "version_major": 2,
       "version_minor": 0
      },
      "text/plain": [
       "  0%|                                                                                        | 0/10000 [00:00<…"
      ]
     },
     "metadata": {},
     "output_type": "display_data"
    },
    {
     "data": {
      "application/vnd.jupyter.widget-view+json": {
       "model_id": "6a234727331543abb6a1f074c5cea792",
       "version_major": 2,
       "version_minor": 0
      },
      "text/plain": [
       "  0%|                                                                                           | 0/40 [00:00<…"
      ]
     },
     "metadata": {},
     "output_type": "display_data"
    },
    {
     "name": "stdout",
     "output_type": "stream",
     "text": [
      "Model saved! Validation: (New) 0.0220219 > (Old) 0.0000000\n"
     ]
    },
    {
     "data": {
      "application/vnd.jupyter.widget-view+json": {
       "model_id": "63d18ed1b22a40ee971e1d71aceea11f",
       "version_major": 2,
       "version_minor": 0
      },
      "text/plain": [
       "  0%|                                                                                           | 0/40 [00:00<…"
      ]
     },
     "metadata": {},
     "output_type": "display_data"
    },
    {
     "name": "stdout",
     "output_type": "stream",
     "text": [
      "Model saved! Validation: (New) 0.0333341 > (Old) 0.0220219\n"
     ]
    },
    {
     "data": {
      "application/vnd.jupyter.widget-view+json": {
       "model_id": "8abbae0890cc4359bb2eab9390045961",
       "version_major": 2,
       "version_minor": 0
      },
      "text/plain": [
       "  0%|                                                                                           | 0/40 [00:00<…"
      ]
     },
     "metadata": {},
     "output_type": "display_data"
    },
    {
     "name": "stdout",
     "output_type": "stream",
     "text": [
      "Model saved! Validation: (New) 0.1167758 > (Old) 0.0333341\n"
     ]
    },
    {
     "data": {
      "application/vnd.jupyter.widget-view+json": {
       "model_id": "6d90c0b0f15643a8ae70f0157afce94d",
       "version_major": 2,
       "version_minor": 0
      },
      "text/plain": [
       "  0%|                                                                                           | 0/40 [00:00<…"
      ]
     },
     "metadata": {},
     "output_type": "display_data"
    },
    {
     "name": "stdout",
     "output_type": "stream",
     "text": [
      "Model saved! Validation: (New) 0.1762174 > (Old) 0.1167758\n"
     ]
    },
    {
     "data": {
      "application/vnd.jupyter.widget-view+json": {
       "model_id": "7b5e7048fd454220b094e819b9c167ab",
       "version_major": 2,
       "version_minor": 0
      },
      "text/plain": [
       "  0%|                                                                                           | 0/40 [00:00<…"
      ]
     },
     "metadata": {},
     "output_type": "display_data"
    },
    {
     "name": "stdout",
     "output_type": "stream",
     "text": [
      "Model saved! Validation: (New) 0.1979537 > (Old) 0.1762174\n"
     ]
    },
    {
     "data": {
      "application/vnd.jupyter.widget-view+json": {
       "model_id": "3633171cf2ed494c8602b4f2abc1caff",
       "version_major": 2,
       "version_minor": 0
      },
      "text/plain": [
       "  0%|                                                                                           | 0/40 [00:00<…"
      ]
     },
     "metadata": {},
     "output_type": "display_data"
    },
    {
     "name": "stdout",
     "output_type": "stream",
     "text": [
      "Model saved! Validation: (New) 0.2077851 > (Old) 0.1979537\n"
     ]
    },
    {
     "data": {
      "application/vnd.jupyter.widget-view+json": {
       "model_id": "919bc8801f954d709f34a79619266581",
       "version_major": 2,
       "version_minor": 0
      },
      "text/plain": [
       "  0%|                                                                                           | 0/40 [00:00<…"
      ]
     },
     "metadata": {},
     "output_type": "display_data"
    },
    {
     "name": "stdout",
     "output_type": "stream",
     "text": [
      "Model saved! Validation: (New) 0.2114751 > (Old) 0.2077851\n"
     ]
    },
    {
     "data": {
      "application/vnd.jupyter.widget-view+json": {
       "model_id": "224d8265c083450387f0a24f6dbd7ae7",
       "version_major": 2,
       "version_minor": 0
      },
      "text/plain": [
       "  0%|                                                                                           | 0/40 [00:00<…"
      ]
     },
     "metadata": {},
     "output_type": "display_data"
    },
    {
     "name": "stdout",
     "output_type": "stream",
     "text": [
      "Model saved! Validation: (New) 0.2146749 > (Old) 0.2114751\n"
     ]
    },
    {
     "data": {
      "application/vnd.jupyter.widget-view+json": {
       "model_id": "6ef445f1a0594047955ad6fe06e55769",
       "version_major": 2,
       "version_minor": 0
      },
      "text/plain": [
       "  0%|                                                                                           | 0/40 [00:00<…"
      ]
     },
     "metadata": {},
     "output_type": "display_data"
    },
    {
     "name": "stdout",
     "output_type": "stream",
     "text": [
      "Model saved! Validation: (New) 0.2164945 > (Old) 0.2146749\n"
     ]
    },
    {
     "data": {
      "application/vnd.jupyter.widget-view+json": {
       "model_id": "ce75561f95b34e2d932d0c7a7b59881a",
       "version_major": 2,
       "version_minor": 0
      },
      "text/plain": [
       "  0%|                                                                                           | 0/40 [00:00<…"
      ]
     },
     "metadata": {},
     "output_type": "display_data"
    },
    {
     "name": "stdout",
     "output_type": "stream",
     "text": [
      "Model saved! Validation: (New) 0.2187913 > (Old) 0.2164945\n"
     ]
    },
    {
     "data": {
      "application/vnd.jupyter.widget-view+json": {
       "model_id": "b0adff4078c142fab213cb93d612a142",
       "version_major": 2,
       "version_minor": 0
      },
      "text/plain": [
       "  0%|                                                                                           | 0/40 [00:00<…"
      ]
     },
     "metadata": {},
     "output_type": "display_data"
    },
    {
     "name": "stdout",
     "output_type": "stream",
     "text": [
      "No improvement. Validation: (New) 0.2182483 <= (Old) 0.2187913\n"
     ]
    },
    {
     "data": {
      "application/vnd.jupyter.widget-view+json": {
       "model_id": "fdf3d4e3c212427ca74b1df7b305d1be",
       "version_major": 2,
       "version_minor": 0
      },
      "text/plain": [
       "  0%|                                                                                           | 0/40 [00:00<…"
      ]
     },
     "metadata": {},
     "output_type": "display_data"
    },
    {
     "name": "stdout",
     "output_type": "stream",
     "text": [
      "No improvement. Validation: (New) 0.2186404 <= (Old) 0.2187913\n"
     ]
    },
    {
     "data": {
      "application/vnd.jupyter.widget-view+json": {
       "model_id": "4b1a6580b8f74839a62f51477b2aed18",
       "version_major": 2,
       "version_minor": 0
      },
      "text/plain": [
       "  0%|                                                                                           | 0/40 [00:00<…"
      ]
     },
     "metadata": {},
     "output_type": "display_data"
    },
    {
     "name": "stdout",
     "output_type": "stream",
     "text": [
      "Model saved! Validation: (New) 0.2195942 > (Old) 0.2187913\n"
     ]
    },
    {
     "data": {
      "application/vnd.jupyter.widget-view+json": {
       "model_id": "eaad0e71e7f442788b228f595ce699e2",
       "version_major": 2,
       "version_minor": 0
      },
      "text/plain": [
       "  0%|                                                                                           | 0/40 [00:00<…"
      ]
     },
     "metadata": {},
     "output_type": "display_data"
    },
    {
     "name": "stdout",
     "output_type": "stream",
     "text": [
      "No improvement. Validation: (New) 0.2192241 <= (Old) 0.2195942\n"
     ]
    },
    {
     "data": {
      "application/vnd.jupyter.widget-view+json": {
       "model_id": "602612365a454bbebecb6f961b596f94",
       "version_major": 2,
       "version_minor": 0
      },
      "text/plain": [
       "  0%|                                                                                           | 0/40 [00:00<…"
      ]
     },
     "metadata": {},
     "output_type": "display_data"
    },
    {
     "name": "stdout",
     "output_type": "stream",
     "text": [
      "No improvement. Validation: (New) 0.2182121 <= (Old) 0.2195942\n"
     ]
    },
    {
     "data": {
      "application/vnd.jupyter.widget-view+json": {
       "model_id": "9ca1d0eecd2b4b52ac792e255aa94cde",
       "version_major": 2,
       "version_minor": 0
      },
      "text/plain": [
       "  0%|                                                                                           | 0/40 [00:00<…"
      ]
     },
     "metadata": {},
     "output_type": "display_data"
    },
    {
     "name": "stdout",
     "output_type": "stream",
     "text": [
      "No improvement. Validation: (New) 0.2187521 <= (Old) 0.2195942\n"
     ]
    },
    {
     "data": {
      "application/vnd.jupyter.widget-view+json": {
       "model_id": "e02d99be91414a20866579b7ddae7372",
       "version_major": 2,
       "version_minor": 0
      },
      "text/plain": [
       "  0%|                                                                                           | 0/40 [00:00<…"
      ]
     },
     "metadata": {},
     "output_type": "display_data"
    },
    {
     "name": "stdout",
     "output_type": "stream",
     "text": [
      "No improvement. Validation: (New) 0.2183209 <= (Old) 0.2195942\n"
     ]
    },
    {
     "data": {
      "application/vnd.jupyter.widget-view+json": {
       "model_id": "1b33c1fd870c4caf90d6cb1d4af22910",
       "version_major": 2,
       "version_minor": 0
      },
      "text/plain": [
       "  0%|                                                                                           | 0/40 [00:00<…"
      ]
     },
     "metadata": {},
     "output_type": "display_data"
    },
    {
     "name": "stdout",
     "output_type": "stream",
     "text": [
      "No improvement. Validation: (New) 0.2195137 <= (Old) 0.2195942\n"
     ]
    },
    {
     "data": {
      "application/vnd.jupyter.widget-view+json": {
       "model_id": "d1f8f8da03f147ce9bc3efc9cdc57ee8",
       "version_major": 2,
       "version_minor": 0
      },
      "text/plain": [
       "  0%|                                                                                           | 0/40 [00:00<…"
      ]
     },
     "metadata": {},
     "output_type": "display_data"
    },
    {
     "name": "stdout",
     "output_type": "stream",
     "text": [
      "No improvement. Validation: (New) 0.2189059 <= (Old) 0.2195942\n"
     ]
    },
    {
     "data": {
      "application/vnd.jupyter.widget-view+json": {
       "model_id": "ec5321faeecf49c3b4afd1f166826ebe",
       "version_major": 2,
       "version_minor": 0
      },
      "text/plain": [
       "  0%|                                                                                           | 0/40 [00:00<…"
      ]
     },
     "metadata": {},
     "output_type": "display_data"
    },
    {
     "name": "stdout",
     "output_type": "stream",
     "text": [
      "No improvement. Validation: (New) 0.2191129 <= (Old) 0.2195942\n"
     ]
    },
    {
     "data": {
      "application/vnd.jupyter.widget-view+json": {
       "model_id": "44d365a4ae7a47a9befbf84caf2dd167",
       "version_major": 2,
       "version_minor": 0
      },
      "text/plain": [
       "  0%|                                                                                           | 0/40 [00:00<…"
      ]
     },
     "metadata": {},
     "output_type": "display_data"
    },
    {
     "name": "stdout",
     "output_type": "stream",
     "text": [
      "No improvement. Validation: (New) 0.2187788 <= (Old) 0.2195942\n"
     ]
    },
    {
     "data": {
      "application/vnd.jupyter.widget-view+json": {
       "model_id": "f62c4f8f3cd848d0bceb339aa56fcc01",
       "version_major": 2,
       "version_minor": 0
      },
      "text/plain": [
       "  0%|                                                                                           | 0/40 [00:00<…"
      ]
     },
     "metadata": {},
     "output_type": "display_data"
    },
    {
     "name": "stdout",
     "output_type": "stream",
     "text": [
      "No improvement. Validation: (New) 0.2183964 <= (Old) 0.2195942\n"
     ]
    },
    {
     "data": {
      "application/vnd.jupyter.widget-view+json": {
       "model_id": "b3a204c516ac4ffbb9f208d37ec723fb",
       "version_major": 2,
       "version_minor": 0
      },
      "text/plain": [
       "  0%|                                                                                           | 0/40 [00:00<…"
      ]
     },
     "metadata": {},
     "output_type": "display_data"
    },
    {
     "name": "stdout",
     "output_type": "stream",
     "text": [
      "No improvement. Validation: (New) 0.2186498 <= (Old) 0.2195942\n"
     ]
    },
    {
     "data": {
      "application/vnd.jupyter.widget-view+json": {
       "model_id": "f8585bc5b37543e59fcd2e9e9701a776",
       "version_major": 2,
       "version_minor": 0
      },
      "text/plain": [
       "  0%|                                                                                           | 0/40 [00:00<…"
      ]
     },
     "metadata": {},
     "output_type": "display_data"
    },
    {
     "name": "stdout",
     "output_type": "stream",
     "text": [
      "No improvement. Validation: (New) 0.2193418 <= (Old) 0.2195942\n"
     ]
    },
    {
     "data": {
      "application/vnd.jupyter.widget-view+json": {
       "model_id": "eb5ac3d5c6cd4a6484163537ed03c325",
       "version_major": 2,
       "version_minor": 0
      },
      "text/plain": [
       "  0%|                                                                                           | 0/40 [00:00<…"
      ]
     },
     "metadata": {},
     "output_type": "display_data"
    },
    {
     "name": "stdout",
     "output_type": "stream",
     "text": [
      "No improvement. Validation: (New) 0.2190877 <= (Old) 0.2195942\n"
     ]
    },
    {
     "data": {
      "application/vnd.jupyter.widget-view+json": {
       "model_id": "659b7d33c428484aa88cf693ea4c108c",
       "version_major": 2,
       "version_minor": 0
      },
      "text/plain": [
       "  0%|                                                                                           | 0/40 [00:00<…"
      ]
     },
     "metadata": {},
     "output_type": "display_data"
    },
    {
     "name": "stdout",
     "output_type": "stream",
     "text": [
      "No improvement. Validation: (New) 0.2194731 <= (Old) 0.2195942\n"
     ]
    },
    {
     "data": {
      "application/vnd.jupyter.widget-view+json": {
       "model_id": "51c6bb03b02a4e8993bd6afd292319fb",
       "version_major": 2,
       "version_minor": 0
      },
      "text/plain": [
       "  0%|                                                                                           | 0/40 [00:00<…"
      ]
     },
     "metadata": {},
     "output_type": "display_data"
    },
    {
     "name": "stdout",
     "output_type": "stream",
     "text": [
      "No improvement. Validation: (New) 0.2190748 <= (Old) 0.2195942\n"
     ]
    },
    {
     "data": {
      "application/vnd.jupyter.widget-view+json": {
       "model_id": "4dccee6d3c91464d9dba7518018a17d8",
       "version_major": 2,
       "version_minor": 0
      },
      "text/plain": [
       "  0%|                                                                                           | 0/40 [00:00<…"
      ]
     },
     "metadata": {},
     "output_type": "display_data"
    },
    {
     "name": "stdout",
     "output_type": "stream",
     "text": [
      "No improvement. Validation: (New) 0.2189751 <= (Old) 0.2195942\n"
     ]
    },
    {
     "data": {
      "application/vnd.jupyter.widget-view+json": {
       "model_id": "0fbe0e282fad49548b0187be94378d6e",
       "version_major": 2,
       "version_minor": 0
      },
      "text/plain": [
       "  0%|                                                                                           | 0/40 [00:00<…"
      ]
     },
     "metadata": {},
     "output_type": "display_data"
    },
    {
     "name": "stdout",
     "output_type": "stream",
     "text": [
      "Model saved! Validation: (New) 0.2196396 > (Old) 0.2195942\n"
     ]
    },
    {
     "data": {
      "application/vnd.jupyter.widget-view+json": {
       "model_id": "161f70603f294dd7a73ad24cb095067f",
       "version_major": 2,
       "version_minor": 0
      },
      "text/plain": [
       "  0%|                                                                                           | 0/40 [00:00<…"
      ]
     },
     "metadata": {},
     "output_type": "display_data"
    },
    {
     "name": "stdout",
     "output_type": "stream",
     "text": [
      "Model saved! Validation: (New) 0.2201957 > (Old) 0.2196396\n"
     ]
    },
    {
     "data": {
      "application/vnd.jupyter.widget-view+json": {
       "model_id": "b842141215ea4d55935b71f99bd6e5d8",
       "version_major": 2,
       "version_minor": 0
      },
      "text/plain": [
       "  0%|                                                                                           | 0/40 [00:00<…"
      ]
     },
     "metadata": {},
     "output_type": "display_data"
    },
    {
     "name": "stdout",
     "output_type": "stream",
     "text": [
      "Model saved! Validation: (New) 0.2211474 > (Old) 0.2201957\n"
     ]
    },
    {
     "data": {
      "application/vnd.jupyter.widget-view+json": {
       "model_id": "88f340751be346d0a2e5df8c32e2b308",
       "version_major": 2,
       "version_minor": 0
      },
      "text/plain": [
       "  0%|                                                                                           | 0/40 [00:00<…"
      ]
     },
     "metadata": {},
     "output_type": "display_data"
    },
    {
     "name": "stdout",
     "output_type": "stream",
     "text": [
      "No improvement. Validation: (New) 0.2202830 <= (Old) 0.2211474\n"
     ]
    },
    {
     "data": {
      "application/vnd.jupyter.widget-view+json": {
       "model_id": "bc1288a0e1204bd6b5bb4c50b82efa07",
       "version_major": 2,
       "version_minor": 0
      },
      "text/plain": [
       "  0%|                                                                                           | 0/40 [00:00<…"
      ]
     },
     "metadata": {},
     "output_type": "display_data"
    },
    {
     "name": "stdout",
     "output_type": "stream",
     "text": [
      "No improvement. Validation: (New) 0.2210475 <= (Old) 0.2211474\n"
     ]
    },
    {
     "data": {
      "application/vnd.jupyter.widget-view+json": {
       "model_id": "ccbc6816157a4c4187428381aade4d20",
       "version_major": 2,
       "version_minor": 0
      },
      "text/plain": [
       "  0%|                                                                                           | 0/40 [00:00<…"
      ]
     },
     "metadata": {},
     "output_type": "display_data"
    },
    {
     "name": "stdout",
     "output_type": "stream",
     "text": [
      "Model saved! Validation: (New) 0.2214876 > (Old) 0.2211474\n"
     ]
    },
    {
     "data": {
      "application/vnd.jupyter.widget-view+json": {
       "model_id": "20128e3f48d941a4b49b0091180e7f20",
       "version_major": 2,
       "version_minor": 0
      },
      "text/plain": [
       "  0%|                                                                                           | 0/40 [00:00<…"
      ]
     },
     "metadata": {},
     "output_type": "display_data"
    },
    {
     "name": "stdout",
     "output_type": "stream",
     "text": [
      "No improvement. Validation: (New) 0.2207831 <= (Old) 0.2214876\n"
     ]
    },
    {
     "data": {
      "application/vnd.jupyter.widget-view+json": {
       "model_id": "75b32e6abcd44fff974edab9027e09ea",
       "version_major": 2,
       "version_minor": 0
      },
      "text/plain": [
       "  0%|                                                                                           | 0/40 [00:00<…"
      ]
     },
     "metadata": {},
     "output_type": "display_data"
    },
    {
     "name": "stdout",
     "output_type": "stream",
     "text": [
      "No improvement. Validation: (New) 0.2210470 <= (Old) 0.2214876\n"
     ]
    },
    {
     "data": {
      "application/vnd.jupyter.widget-view+json": {
       "model_id": "aa8cf6e5d1a74c6680136eb5521a4815",
       "version_major": 2,
       "version_minor": 0
      },
      "text/plain": [
       "  0%|                                                                                           | 0/40 [00:00<…"
      ]
     },
     "metadata": {},
     "output_type": "display_data"
    },
    {
     "name": "stdout",
     "output_type": "stream",
     "text": [
      "No improvement. Validation: (New) 0.2211739 <= (Old) 0.2214876\n"
     ]
    },
    {
     "data": {
      "application/vnd.jupyter.widget-view+json": {
       "model_id": "541643f6d64d4f32b302332ef5a6f13a",
       "version_major": 2,
       "version_minor": 0
      },
      "text/plain": [
       "  0%|                                                                                           | 0/40 [00:00<…"
      ]
     },
     "metadata": {},
     "output_type": "display_data"
    },
    {
     "name": "stdout",
     "output_type": "stream",
     "text": [
      "Model saved! Validation: (New) 0.2223793 > (Old) 0.2214876\n"
     ]
    },
    {
     "data": {
      "application/vnd.jupyter.widget-view+json": {
       "model_id": "177b48e4b6a94ec383b4a5cdd1b4cb10",
       "version_major": 2,
       "version_minor": 0
      },
      "text/plain": [
       "  0%|                                                                                           | 0/40 [00:00<…"
      ]
     },
     "metadata": {},
     "output_type": "display_data"
    },
    {
     "name": "stdout",
     "output_type": "stream",
     "text": [
      "No improvement. Validation: (New) 0.2221797 <= (Old) 0.2223793\n"
     ]
    },
    {
     "data": {
      "application/vnd.jupyter.widget-view+json": {
       "model_id": "fa574500cbd147bead514ba9b7277fc2",
       "version_major": 2,
       "version_minor": 0
      },
      "text/plain": [
       "  0%|                                                                                           | 0/40 [00:00<…"
      ]
     },
     "metadata": {},
     "output_type": "display_data"
    },
    {
     "name": "stdout",
     "output_type": "stream",
     "text": [
      "Model saved! Validation: (New) 0.2225736 > (Old) 0.2223793\n"
     ]
    },
    {
     "data": {
      "application/vnd.jupyter.widget-view+json": {
       "model_id": "ff5b9fc8d19a470cb4296bf5dc475088",
       "version_major": 2,
       "version_minor": 0
      },
      "text/plain": [
       "  0%|                                                                                           | 0/40 [00:00<…"
      ]
     },
     "metadata": {},
     "output_type": "display_data"
    },
    {
     "name": "stdout",
     "output_type": "stream",
     "text": [
      "Model saved! Validation: (New) 0.2232326 > (Old) 0.2225736\n"
     ]
    },
    {
     "data": {
      "application/vnd.jupyter.widget-view+json": {
       "model_id": "3e761f89ceb044afaef31f506a5d9d5d",
       "version_major": 2,
       "version_minor": 0
      },
      "text/plain": [
       "  0%|                                                                                           | 0/40 [00:00<…"
      ]
     },
     "metadata": {},
     "output_type": "display_data"
    },
    {
     "name": "stdout",
     "output_type": "stream",
     "text": [
      "No improvement. Validation: (New) 0.2225995 <= (Old) 0.2232326\n"
     ]
    },
    {
     "data": {
      "application/vnd.jupyter.widget-view+json": {
       "model_id": "83133e774ce241e39aadb43217a4876a",
       "version_major": 2,
       "version_minor": 0
      },
      "text/plain": [
       "  0%|                                                                                           | 0/40 [00:00<…"
      ]
     },
     "metadata": {},
     "output_type": "display_data"
    },
    {
     "name": "stdout",
     "output_type": "stream",
     "text": [
      "No improvement. Validation: (New) 0.2226752 <= (Old) 0.2232326\n"
     ]
    },
    {
     "data": {
      "application/vnd.jupyter.widget-view+json": {
       "model_id": "011a0fbd0c0b488789cf72caa5c28a97",
       "version_major": 2,
       "version_minor": 0
      },
      "text/plain": [
       "  0%|                                                                                           | 0/40 [00:00<…"
      ]
     },
     "metadata": {},
     "output_type": "display_data"
    },
    {
     "name": "stdout",
     "output_type": "stream",
     "text": [
      "Model saved! Validation: (New) 0.2233923 > (Old) 0.2232326\n"
     ]
    },
    {
     "data": {
      "application/vnd.jupyter.widget-view+json": {
       "model_id": "3f2549369fb447ef81fa3e8d9bcff803",
       "version_major": 2,
       "version_minor": 0
      },
      "text/plain": [
       "  0%|                                                                                           | 0/40 [00:00<…"
      ]
     },
     "metadata": {},
     "output_type": "display_data"
    },
    {
     "name": "stdout",
     "output_type": "stream",
     "text": [
      "Model saved! Validation: (New) 0.2236935 > (Old) 0.2233923\n"
     ]
    },
    {
     "data": {
      "application/vnd.jupyter.widget-view+json": {
       "model_id": "b83239bb588244798941a12b11f47dd2",
       "version_major": 2,
       "version_minor": 0
      },
      "text/plain": [
       "  0%|                                                                                           | 0/40 [00:00<…"
      ]
     },
     "metadata": {},
     "output_type": "display_data"
    },
    {
     "name": "stdout",
     "output_type": "stream",
     "text": [
      "Model saved! Validation: (New) 0.2242851 > (Old) 0.2236935\n"
     ]
    },
    {
     "data": {
      "application/vnd.jupyter.widget-view+json": {
       "model_id": "69b278661b0a4d8889f025400693356c",
       "version_major": 2,
       "version_minor": 0
      },
      "text/plain": [
       "  0%|                                                                                           | 0/40 [00:00<…"
      ]
     },
     "metadata": {},
     "output_type": "display_data"
    },
    {
     "name": "stdout",
     "output_type": "stream",
     "text": [
      "No improvement. Validation: (New) 0.2240616 <= (Old) 0.2242851\n"
     ]
    },
    {
     "data": {
      "application/vnd.jupyter.widget-view+json": {
       "model_id": "d683a8a4461345fbb0b7d74f8f9d2896",
       "version_major": 2,
       "version_minor": 0
      },
      "text/plain": [
       "  0%|                                                                                           | 0/40 [00:00<…"
      ]
     },
     "metadata": {},
     "output_type": "display_data"
    },
    {
     "name": "stdout",
     "output_type": "stream",
     "text": [
      "Model saved! Validation: (New) 0.2244307 > (Old) 0.2242851\n"
     ]
    },
    {
     "data": {
      "application/vnd.jupyter.widget-view+json": {
       "model_id": "e0d511dd553f422eb6bccceb37405b2d",
       "version_major": 2,
       "version_minor": 0
      },
      "text/plain": [
       "  0%|                                                                                           | 0/40 [00:00<…"
      ]
     },
     "metadata": {},
     "output_type": "display_data"
    },
    {
     "name": "stdout",
     "output_type": "stream",
     "text": [
      "Model saved! Validation: (New) 0.2245680 > (Old) 0.2244307\n"
     ]
    },
    {
     "data": {
      "application/vnd.jupyter.widget-view+json": {
       "model_id": "95d6d9338aa640649f573526ed7ebba1",
       "version_major": 2,
       "version_minor": 0
      },
      "text/plain": [
       "  0%|                                                                                           | 0/40 [00:00<…"
      ]
     },
     "metadata": {},
     "output_type": "display_data"
    },
    {
     "name": "stdout",
     "output_type": "stream",
     "text": [
      "No improvement. Validation: (New) 0.2245447 <= (Old) 0.2245680\n"
     ]
    },
    {
     "data": {
      "application/vnd.jupyter.widget-view+json": {
       "model_id": "4c1d3a2724ad4b328209f4d0806dba75",
       "version_major": 2,
       "version_minor": 0
      },
      "text/plain": [
       "  0%|                                                                                           | 0/40 [00:00<…"
      ]
     },
     "metadata": {},
     "output_type": "display_data"
    },
    {
     "name": "stdout",
     "output_type": "stream",
     "text": [
      "Model saved! Validation: (New) 0.2247587 > (Old) 0.2245680\n"
     ]
    },
    {
     "data": {
      "application/vnd.jupyter.widget-view+json": {
       "model_id": "e2592677d8714236b38f1cafcd715d62",
       "version_major": 2,
       "version_minor": 0
      },
      "text/plain": [
       "  0%|                                                                                           | 0/40 [00:00<…"
      ]
     },
     "metadata": {},
     "output_type": "display_data"
    },
    {
     "name": "stdout",
     "output_type": "stream",
     "text": [
      "Model saved! Validation: (New) 0.2253268 > (Old) 0.2247587\n"
     ]
    },
    {
     "data": {
      "application/vnd.jupyter.widget-view+json": {
       "model_id": "0ee0da89c6264d879dcfd544344acc4d",
       "version_major": 2,
       "version_minor": 0
      },
      "text/plain": [
       "  0%|                                                                                           | 0/40 [00:00<…"
      ]
     },
     "metadata": {},
     "output_type": "display_data"
    },
    {
     "name": "stdout",
     "output_type": "stream",
     "text": [
      "No improvement. Validation: (New) 0.2250802 <= (Old) 0.2253268\n"
     ]
    },
    {
     "data": {
      "application/vnd.jupyter.widget-view+json": {
       "model_id": "b945fb1ea4eb4e7e9a97ccba7f198baa",
       "version_major": 2,
       "version_minor": 0
      },
      "text/plain": [
       "  0%|                                                                                           | 0/40 [00:00<…"
      ]
     },
     "metadata": {},
     "output_type": "display_data"
    },
    {
     "name": "stdout",
     "output_type": "stream",
     "text": [
      "Model saved! Validation: (New) 0.2262503 > (Old) 0.2253268\n"
     ]
    },
    {
     "data": {
      "application/vnd.jupyter.widget-view+json": {
       "model_id": "b00c8b72723d469d81a27b8dc14b7fe8",
       "version_major": 2,
       "version_minor": 0
      },
      "text/plain": [
       "  0%|                                                                                           | 0/40 [00:00<…"
      ]
     },
     "metadata": {},
     "output_type": "display_data"
    },
    {
     "name": "stdout",
     "output_type": "stream",
     "text": [
      "No improvement. Validation: (New) 0.2261123 <= (Old) 0.2262503\n"
     ]
    },
    {
     "data": {
      "application/vnd.jupyter.widget-view+json": {
       "model_id": "cce4918d2d664aecaf483b20fe4dbb01",
       "version_major": 2,
       "version_minor": 0
      },
      "text/plain": [
       "  0%|                                                                                           | 0/40 [00:00<…"
      ]
     },
     "metadata": {},
     "output_type": "display_data"
    },
    {
     "name": "stdout",
     "output_type": "stream",
     "text": [
      "Model saved! Validation: (New) 0.2267167 > (Old) 0.2262503\n"
     ]
    },
    {
     "data": {
      "application/vnd.jupyter.widget-view+json": {
       "model_id": "900745d298594cafbe704d398975f8fe",
       "version_major": 2,
       "version_minor": 0
      },
      "text/plain": [
       "  0%|                                                                                           | 0/40 [00:00<…"
      ]
     },
     "metadata": {},
     "output_type": "display_data"
    },
    {
     "name": "stdout",
     "output_type": "stream",
     "text": [
      "No improvement. Validation: (New) 0.2261723 <= (Old) 0.2267167\n"
     ]
    },
    {
     "data": {
      "application/vnd.jupyter.widget-view+json": {
       "model_id": "559252f34bd5412b8b1e8b8e7209f456",
       "version_major": 2,
       "version_minor": 0
      },
      "text/plain": [
       "  0%|                                                                                           | 0/40 [00:00<…"
      ]
     },
     "metadata": {},
     "output_type": "display_data"
    },
    {
     "name": "stdout",
     "output_type": "stream",
     "text": [
      "No improvement. Validation: (New) 0.2266659 <= (Old) 0.2267167\n"
     ]
    },
    {
     "data": {
      "application/vnd.jupyter.widget-view+json": {
       "model_id": "5d0abd968df04d5c947d073135542090",
       "version_major": 2,
       "version_minor": 0
      },
      "text/plain": [
       "  0%|                                                                                           | 0/40 [00:00<…"
      ]
     },
     "metadata": {},
     "output_type": "display_data"
    },
    {
     "name": "stdout",
     "output_type": "stream",
     "text": [
      "Model saved! Validation: (New) 0.2269878 > (Old) 0.2267167\n"
     ]
    },
    {
     "data": {
      "application/vnd.jupyter.widget-view+json": {
       "model_id": "435eb4ce6914450f8232234e18dd4ad8",
       "version_major": 2,
       "version_minor": 0
      },
      "text/plain": [
       "  0%|                                                                                           | 0/40 [00:00<…"
      ]
     },
     "metadata": {},
     "output_type": "display_data"
    },
    {
     "name": "stdout",
     "output_type": "stream",
     "text": [
      "Model saved! Validation: (New) 0.2271449 > (Old) 0.2269878\n"
     ]
    },
    {
     "data": {
      "application/vnd.jupyter.widget-view+json": {
       "model_id": "704f8519d3e84116840d8eb056680c04",
       "version_major": 2,
       "version_minor": 0
      },
      "text/plain": [
       "  0%|                                                                                           | 0/40 [00:00<…"
      ]
     },
     "metadata": {},
     "output_type": "display_data"
    },
    {
     "name": "stdout",
     "output_type": "stream",
     "text": [
      "Model saved! Validation: (New) 0.2274020 > (Old) 0.2271449\n"
     ]
    },
    {
     "data": {
      "application/vnd.jupyter.widget-view+json": {
       "model_id": "51f47603ecc949d590aeb35cca0b46e6",
       "version_major": 2,
       "version_minor": 0
      },
      "text/plain": [
       "  0%|                                                                                           | 0/40 [00:00<…"
      ]
     },
     "metadata": {},
     "output_type": "display_data"
    },
    {
     "name": "stdout",
     "output_type": "stream",
     "text": [
      "Model saved! Validation: (New) 0.2281437 > (Old) 0.2274020\n"
     ]
    },
    {
     "data": {
      "application/vnd.jupyter.widget-view+json": {
       "model_id": "dfb5a9ce6d5347cab6ea53f51cd66567",
       "version_major": 2,
       "version_minor": 0
      },
      "text/plain": [
       "  0%|                                                                                           | 0/40 [00:00<…"
      ]
     },
     "metadata": {},
     "output_type": "display_data"
    },
    {
     "name": "stdout",
     "output_type": "stream",
     "text": [
      "No improvement. Validation: (New) 0.2277437 <= (Old) 0.2281437\n"
     ]
    },
    {
     "data": {
      "application/vnd.jupyter.widget-view+json": {
       "model_id": "887d98ffe12e48c19f03454a196a4cf8",
       "version_major": 2,
       "version_minor": 0
      },
      "text/plain": [
       "  0%|                                                                                           | 0/40 [00:00<…"
      ]
     },
     "metadata": {},
     "output_type": "display_data"
    },
    {
     "name": "stdout",
     "output_type": "stream",
     "text": [
      "Model saved! Validation: (New) 0.2281896 > (Old) 0.2281437\n"
     ]
    },
    {
     "data": {
      "application/vnd.jupyter.widget-view+json": {
       "model_id": "703fa6da60ff45cfa32c84b51aa67564",
       "version_major": 2,
       "version_minor": 0
      },
      "text/plain": [
       "  0%|                                                                                           | 0/40 [00:00<…"
      ]
     },
     "metadata": {},
     "output_type": "display_data"
    },
    {
     "name": "stdout",
     "output_type": "stream",
     "text": [
      "No improvement. Validation: (New) 0.2276671 <= (Old) 0.2281896\n"
     ]
    },
    {
     "data": {
      "application/vnd.jupyter.widget-view+json": {
       "model_id": "fe88ddda3e734ec2ac885ba194bc957c",
       "version_major": 2,
       "version_minor": 0
      },
      "text/plain": [
       "  0%|                                                                                           | 0/40 [00:00<…"
      ]
     },
     "metadata": {},
     "output_type": "display_data"
    },
    {
     "name": "stdout",
     "output_type": "stream",
     "text": [
      "Model saved! Validation: (New) 0.2284413 > (Old) 0.2281896\n"
     ]
    },
    {
     "data": {
      "application/vnd.jupyter.widget-view+json": {
       "model_id": "fe34968127054cf29b848d3d7c93258f",
       "version_major": 2,
       "version_minor": 0
      },
      "text/plain": [
       "  0%|                                                                                           | 0/40 [00:00<…"
      ]
     },
     "metadata": {},
     "output_type": "display_data"
    },
    {
     "name": "stdout",
     "output_type": "stream",
     "text": [
      "Model saved! Validation: (New) 0.2286594 > (Old) 0.2284413\n"
     ]
    },
    {
     "data": {
      "application/vnd.jupyter.widget-view+json": {
       "model_id": "cbf7a01238794477a7f56607ca3119c4",
       "version_major": 2,
       "version_minor": 0
      },
      "text/plain": [
       "  0%|                                                                                           | 0/40 [00:00<…"
      ]
     },
     "metadata": {},
     "output_type": "display_data"
    },
    {
     "name": "stdout",
     "output_type": "stream",
     "text": [
      "No improvement. Validation: (New) 0.2284085 <= (Old) 0.2286594\n"
     ]
    },
    {
     "data": {
      "application/vnd.jupyter.widget-view+json": {
       "model_id": "e622cbf84c9648ca9dbcbb68c82ec05a",
       "version_major": 2,
       "version_minor": 0
      },
      "text/plain": [
       "  0%|                                                                                           | 0/40 [00:00<…"
      ]
     },
     "metadata": {},
     "output_type": "display_data"
    },
    {
     "name": "stdout",
     "output_type": "stream",
     "text": [
      "Model saved! Validation: (New) 0.2288311 > (Old) 0.2286594\n"
     ]
    },
    {
     "data": {
      "application/vnd.jupyter.widget-view+json": {
       "model_id": "55416df1ab664639996c356d24ad9266",
       "version_major": 2,
       "version_minor": 0
      },
      "text/plain": [
       "  0%|                                                                                           | 0/40 [00:00<…"
      ]
     },
     "metadata": {},
     "output_type": "display_data"
    },
    {
     "name": "stdout",
     "output_type": "stream",
     "text": [
      "Model saved! Validation: (New) 0.2290575 > (Old) 0.2288311\n"
     ]
    },
    {
     "data": {
      "application/vnd.jupyter.widget-view+json": {
       "model_id": "33db76ff9c7145319dfa7df54e04d37d",
       "version_major": 2,
       "version_minor": 0
      },
      "text/plain": [
       "  0%|                                                                                           | 0/40 [00:00<…"
      ]
     },
     "metadata": {},
     "output_type": "display_data"
    },
    {
     "name": "stdout",
     "output_type": "stream",
     "text": [
      "Model saved! Validation: (New) 0.2306884 > (Old) 0.2290575\n"
     ]
    },
    {
     "data": {
      "application/vnd.jupyter.widget-view+json": {
       "model_id": "aa0e5483138345ca8161732adc82ba6f",
       "version_major": 2,
       "version_minor": 0
      },
      "text/plain": [
       "  0%|                                                                                           | 0/40 [00:00<…"
      ]
     },
     "metadata": {},
     "output_type": "display_data"
    },
    {
     "name": "stdout",
     "output_type": "stream",
     "text": [
      "No improvement. Validation: (New) 0.2285592 <= (Old) 0.2306884\n"
     ]
    },
    {
     "data": {
      "application/vnd.jupyter.widget-view+json": {
       "model_id": "27e22b9e13b34e1582b01c7540dc2d07",
       "version_major": 2,
       "version_minor": 0
      },
      "text/plain": [
       "  0%|                                                                                           | 0/40 [00:00<…"
      ]
     },
     "metadata": {},
     "output_type": "display_data"
    },
    {
     "name": "stdout",
     "output_type": "stream",
     "text": [
      "No improvement. Validation: (New) 0.2303848 <= (Old) 0.2306884\n"
     ]
    },
    {
     "data": {
      "application/vnd.jupyter.widget-view+json": {
       "model_id": "2b0f3140b3904418a57169ca0ff49c62",
       "version_major": 2,
       "version_minor": 0
      },
      "text/plain": [
       "  0%|                                                                                           | 0/40 [00:00<…"
      ]
     },
     "metadata": {},
     "output_type": "display_data"
    },
    {
     "name": "stdout",
     "output_type": "stream",
     "text": [
      "Model saved! Validation: (New) 0.2309689 > (Old) 0.2306884\n"
     ]
    },
    {
     "data": {
      "application/vnd.jupyter.widget-view+json": {
       "model_id": "952bebbb85d04383b7961ad75c3c6bcf",
       "version_major": 2,
       "version_minor": 0
      },
      "text/plain": [
       "  0%|                                                                                           | 0/40 [00:00<…"
      ]
     },
     "metadata": {},
     "output_type": "display_data"
    },
    {
     "name": "stdout",
     "output_type": "stream",
     "text": [
      "No improvement. Validation: (New) 0.2306644 <= (Old) 0.2309689\n"
     ]
    },
    {
     "data": {
      "application/vnd.jupyter.widget-view+json": {
       "model_id": "4b5b4e909aab4faa8001893f5a6f72a6",
       "version_major": 2,
       "version_minor": 0
      },
      "text/plain": [
       "  0%|                                                                                           | 0/40 [00:00<…"
      ]
     },
     "metadata": {},
     "output_type": "display_data"
    },
    {
     "name": "stdout",
     "output_type": "stream",
     "text": [
      "No improvement. Validation: (New) 0.2304004 <= (Old) 0.2309689\n"
     ]
    },
    {
     "data": {
      "application/vnd.jupyter.widget-view+json": {
       "model_id": "99d5bf9c9d564e3e8fd3ca5247974eef",
       "version_major": 2,
       "version_minor": 0
      },
      "text/plain": [
       "  0%|                                                                                           | 0/40 [00:00<…"
      ]
     },
     "metadata": {},
     "output_type": "display_data"
    },
    {
     "name": "stdout",
     "output_type": "stream",
     "text": [
      "Model saved! Validation: (New) 0.2309812 > (Old) 0.2309689\n"
     ]
    },
    {
     "data": {
      "application/vnd.jupyter.widget-view+json": {
       "model_id": "109ef21b3cef471da3afe4a8a4b560a8",
       "version_major": 2,
       "version_minor": 0
      },
      "text/plain": [
       "  0%|                                                                                           | 0/40 [00:00<…"
      ]
     },
     "metadata": {},
     "output_type": "display_data"
    },
    {
     "name": "stdout",
     "output_type": "stream",
     "text": [
      "No improvement. Validation: (New) 0.2307467 <= (Old) 0.2309812\n"
     ]
    },
    {
     "data": {
      "application/vnd.jupyter.widget-view+json": {
       "model_id": "3a5cf53f895e449781b1fb1eb7c1b8ae",
       "version_major": 2,
       "version_minor": 0
      },
      "text/plain": [
       "  0%|                                                                                           | 0/40 [00:00<…"
      ]
     },
     "metadata": {},
     "output_type": "display_data"
    },
    {
     "name": "stdout",
     "output_type": "stream",
     "text": [
      "Model saved! Validation: (New) 0.2309964 > (Old) 0.2309812\n"
     ]
    },
    {
     "data": {
      "application/vnd.jupyter.widget-view+json": {
       "model_id": "5b8dd969f76542c19ea7c4717db34b5b",
       "version_major": 2,
       "version_minor": 0
      },
      "text/plain": [
       "  0%|                                                                                           | 0/40 [00:00<…"
      ]
     },
     "metadata": {},
     "output_type": "display_data"
    },
    {
     "name": "stdout",
     "output_type": "stream",
     "text": [
      "Model saved! Validation: (New) 0.2317463 > (Old) 0.2309964\n"
     ]
    },
    {
     "data": {
      "application/vnd.jupyter.widget-view+json": {
       "model_id": "3db3b3a7ce1c4d0a8a0f7e8567969079",
       "version_major": 2,
       "version_minor": 0
      },
      "text/plain": [
       "  0%|                                                                                           | 0/40 [00:00<…"
      ]
     },
     "metadata": {},
     "output_type": "display_data"
    },
    {
     "name": "stdout",
     "output_type": "stream",
     "text": [
      "No improvement. Validation: (New) 0.2315537 <= (Old) 0.2317463\n"
     ]
    },
    {
     "data": {
      "application/vnd.jupyter.widget-view+json": {
       "model_id": "48586590927b431d8cf3703c77878b6a",
       "version_major": 2,
       "version_minor": 0
      },
      "text/plain": [
       "  0%|                                                                                           | 0/40 [00:00<…"
      ]
     },
     "metadata": {},
     "output_type": "display_data"
    },
    {
     "name": "stdout",
     "output_type": "stream",
     "text": [
      "Model saved! Validation: (New) 0.2322647 > (Old) 0.2317463\n"
     ]
    },
    {
     "data": {
      "application/vnd.jupyter.widget-view+json": {
       "model_id": "8af7ca54537047b7b53a25cb4fa6a163",
       "version_major": 2,
       "version_minor": 0
      },
      "text/plain": [
       "  0%|                                                                                           | 0/40 [00:00<…"
      ]
     },
     "metadata": {},
     "output_type": "display_data"
    },
    {
     "name": "stdout",
     "output_type": "stream",
     "text": [
      "No improvement. Validation: (New) 0.2322414 <= (Old) 0.2322647\n"
     ]
    },
    {
     "data": {
      "application/vnd.jupyter.widget-view+json": {
       "model_id": "dceed160d7cf4b5cbf60f2e2c596f426",
       "version_major": 2,
       "version_minor": 0
      },
      "text/plain": [
       "  0%|                                                                                           | 0/40 [00:00<…"
      ]
     },
     "metadata": {},
     "output_type": "display_data"
    },
    {
     "name": "stdout",
     "output_type": "stream",
     "text": [
      "Model saved! Validation: (New) 0.2327023 > (Old) 0.2322647\n"
     ]
    },
    {
     "data": {
      "application/vnd.jupyter.widget-view+json": {
       "model_id": "c5c3152b0bd5419f8d825651829a4e64",
       "version_major": 2,
       "version_minor": 0
      },
      "text/plain": [
       "  0%|                                                                                           | 0/40 [00:00<…"
      ]
     },
     "metadata": {},
     "output_type": "display_data"
    },
    {
     "name": "stdout",
     "output_type": "stream",
     "text": [
      "No improvement. Validation: (New) 0.2323211 <= (Old) 0.2327023\n"
     ]
    },
    {
     "data": {
      "application/vnd.jupyter.widget-view+json": {
       "model_id": "4231310ef0f045c0803881831eb99b78",
       "version_major": 2,
       "version_minor": 0
      },
      "text/plain": [
       "  0%|                                                                                           | 0/40 [00:00<…"
      ]
     },
     "metadata": {},
     "output_type": "display_data"
    },
    {
     "name": "stdout",
     "output_type": "stream",
     "text": [
      "No improvement. Validation: (New) 0.2314042 <= (Old) 0.2327023\n"
     ]
    },
    {
     "data": {
      "application/vnd.jupyter.widget-view+json": {
       "model_id": "468a1a8b219e4034b297a29a4cfbc47c",
       "version_major": 2,
       "version_minor": 0
      },
      "text/plain": [
       "  0%|                                                                                           | 0/40 [00:00<…"
      ]
     },
     "metadata": {},
     "output_type": "display_data"
    },
    {
     "name": "stdout",
     "output_type": "stream",
     "text": [
      "No improvement. Validation: (New) 0.2322934 <= (Old) 0.2327023\n"
     ]
    },
    {
     "data": {
      "application/vnd.jupyter.widget-view+json": {
       "model_id": "76893f08fc504f11b6ed903bf84e89bf",
       "version_major": 2,
       "version_minor": 0
      },
      "text/plain": [
       "  0%|                                                                                           | 0/40 [00:00<…"
      ]
     },
     "metadata": {},
     "output_type": "display_data"
    },
    {
     "name": "stdout",
     "output_type": "stream",
     "text": [
      "Model saved! Validation: (New) 0.2336165 > (Old) 0.2327023\n"
     ]
    },
    {
     "data": {
      "application/vnd.jupyter.widget-view+json": {
       "model_id": "c1b836f20bd84f14ac5f1da67d4b58f6",
       "version_major": 2,
       "version_minor": 0
      },
      "text/plain": [
       "  0%|                                                                                           | 0/40 [00:00<…"
      ]
     },
     "metadata": {},
     "output_type": "display_data"
    },
    {
     "name": "stdout",
     "output_type": "stream",
     "text": [
      "No improvement. Validation: (New) 0.2331974 <= (Old) 0.2336165\n"
     ]
    },
    {
     "data": {
      "application/vnd.jupyter.widget-view+json": {
       "model_id": "2f2657d7832647c4a3e1b1278d26c13f",
       "version_major": 2,
       "version_minor": 0
      },
      "text/plain": [
       "  0%|                                                                                           | 0/40 [00:00<…"
      ]
     },
     "metadata": {},
     "output_type": "display_data"
    },
    {
     "name": "stdout",
     "output_type": "stream",
     "text": [
      "Model saved! Validation: (New) 0.2336214 > (Old) 0.2336165\n"
     ]
    },
    {
     "data": {
      "application/vnd.jupyter.widget-view+json": {
       "model_id": "a6a77f5a65664fcd8226e0db592c9ee2",
       "version_major": 2,
       "version_minor": 0
      },
      "text/plain": [
       "  0%|                                                                                           | 0/40 [00:00<…"
      ]
     },
     "metadata": {},
     "output_type": "display_data"
    },
    {
     "name": "stdout",
     "output_type": "stream",
     "text": [
      "Model saved! Validation: (New) 0.2339613 > (Old) 0.2336214\n"
     ]
    },
    {
     "data": {
      "application/vnd.jupyter.widget-view+json": {
       "model_id": "e2552fbab8e445edbe6426fc37ebb895",
       "version_major": 2,
       "version_minor": 0
      },
      "text/plain": [
       "  0%|                                                                                           | 0/40 [00:00<…"
      ]
     },
     "metadata": {},
     "output_type": "display_data"
    },
    {
     "name": "stdout",
     "output_type": "stream",
     "text": [
      "No improvement. Validation: (New) 0.2334531 <= (Old) 0.2339613\n"
     ]
    },
    {
     "data": {
      "application/vnd.jupyter.widget-view+json": {
       "model_id": "4f36408713f84e8eae7ca34354b578c4",
       "version_major": 2,
       "version_minor": 0
      },
      "text/plain": [
       "  0%|                                                                                           | 0/40 [00:00<…"
      ]
     },
     "metadata": {},
     "output_type": "display_data"
    },
    {
     "name": "stdout",
     "output_type": "stream",
     "text": [
      "No improvement. Validation: (New) 0.2336868 <= (Old) 0.2339613\n"
     ]
    },
    {
     "data": {
      "application/vnd.jupyter.widget-view+json": {
       "model_id": "6ca1fc2b443b485cadffcb788634d76c",
       "version_major": 2,
       "version_minor": 0
      },
      "text/plain": [
       "  0%|                                                                                           | 0/40 [00:00<…"
      ]
     },
     "metadata": {},
     "output_type": "display_data"
    },
    {
     "name": "stdout",
     "output_type": "stream",
     "text": [
      "No improvement. Validation: (New) 0.2339375 <= (Old) 0.2339613\n"
     ]
    },
    {
     "data": {
      "application/vnd.jupyter.widget-view+json": {
       "model_id": "9385db9a3959471c8328776ed4c03813",
       "version_major": 2,
       "version_minor": 0
      },
      "text/plain": [
       "  0%|                                                                                           | 0/40 [00:00<…"
      ]
     },
     "metadata": {},
     "output_type": "display_data"
    },
    {
     "name": "stdout",
     "output_type": "stream",
     "text": [
      "Model saved! Validation: (New) 0.2348981 > (Old) 0.2339613\n"
     ]
    },
    {
     "data": {
      "application/vnd.jupyter.widget-view+json": {
       "model_id": "d159a094cbd149a9905e04ae7f0bbd73",
       "version_major": 2,
       "version_minor": 0
      },
      "text/plain": [
       "  0%|                                                                                           | 0/40 [00:00<…"
      ]
     },
     "metadata": {},
     "output_type": "display_data"
    },
    {
     "name": "stdout",
     "output_type": "stream",
     "text": [
      "No improvement. Validation: (New) 0.2347355 <= (Old) 0.2348981\n"
     ]
    },
    {
     "data": {
      "application/vnd.jupyter.widget-view+json": {
       "model_id": "f0028970cfcd4568930b6d3bbf279e37",
       "version_major": 2,
       "version_minor": 0
      },
      "text/plain": [
       "  0%|                                                                                           | 0/40 [00:00<…"
      ]
     },
     "metadata": {},
     "output_type": "display_data"
    },
    {
     "name": "stdout",
     "output_type": "stream",
     "text": [
      "Model saved! Validation: (New) 0.2354045 > (Old) 0.2348981\n"
     ]
    },
    {
     "data": {
      "application/vnd.jupyter.widget-view+json": {
       "model_id": "5153b1516caf45a7910f6ea056ca36cc",
       "version_major": 2,
       "version_minor": 0
      },
      "text/plain": [
       "  0%|                                                                                           | 0/40 [00:00<…"
      ]
     },
     "metadata": {},
     "output_type": "display_data"
    },
    {
     "name": "stdout",
     "output_type": "stream",
     "text": [
      "Model saved! Validation: (New) 0.2354585 > (Old) 0.2354045\n"
     ]
    },
    {
     "data": {
      "application/vnd.jupyter.widget-view+json": {
       "model_id": "d63cd33ef4014f369d7ce286cbb7ec99",
       "version_major": 2,
       "version_minor": 0
      },
      "text/plain": [
       "  0%|                                                                                           | 0/40 [00:00<…"
      ]
     },
     "metadata": {},
     "output_type": "display_data"
    },
    {
     "name": "stdout",
     "output_type": "stream",
     "text": [
      "Model saved! Validation: (New) 0.2356747 > (Old) 0.2354585\n"
     ]
    },
    {
     "data": {
      "application/vnd.jupyter.widget-view+json": {
       "model_id": "8d965df77ecc41cf967442a629ac1740",
       "version_major": 2,
       "version_minor": 0
      },
      "text/plain": [
       "  0%|                                                                                           | 0/40 [00:00<…"
      ]
     },
     "metadata": {},
     "output_type": "display_data"
    },
    {
     "name": "stdout",
     "output_type": "stream",
     "text": [
      "Model saved! Validation: (New) 0.2357692 > (Old) 0.2356747\n"
     ]
    },
    {
     "data": {
      "application/vnd.jupyter.widget-view+json": {
       "model_id": "c2fc0f56e90d4cb0acb19b4079c2838a",
       "version_major": 2,
       "version_minor": 0
      },
      "text/plain": [
       "  0%|                                                                                          | 0/120 [00:00<…"
      ]
     },
     "metadata": {},
     "output_type": "display_data"
    },
    {
     "name": "stdout",
     "output_type": "stream",
     "text": [
      "** Test (Final): 0.14064750044296184\n"
     ]
    }
   ],
   "source": [
    "## Whether train without randomness\n",
    "if deterministic:\n",
    "    set_determinism(seed=0)\n",
    "    print(\"** Deterministic = True\")\n",
    "\n",
    "## Dataloaders\n",
    "train_dataset, val_dataset, test_dataset = get_datasets(\n",
    "    dataset=dataset,\n",
    "    modality=modality,\n",
    "    train_data=train_data,\n",
    "    masked=masked,\n",
    "    return_modality_dataset=modules[module_name][\"return_modality_dataset\"],\n",
    "    root_dir=root,\n",
    "    cache_rate=cache_rate,\n",
    "    num_workers=num_workers,\n",
    "    dev=dev,\n",
    ")\n",
    "train_dataloader, val_dataloader, test_dataloader = modules[module_name][\"initializer\"].init_dataloaders(\n",
    "    train_dataset, val_dataset, test_dataset, batch_size, dev\n",
    ")\n",
    "\n",
    "## Initialize module\n",
    "module = modules[module_name][\"initializer\"].init_module(\n",
    "    loss, optim, lr, dataset, modality, masked, device,\n",
    "    alpha=0.999,\n",
    "    lambda_focal=1.0,\n",
    "    lambda_dice=0.1,\n",
    "    lambda_soft=0.1,\n",
    ")\n",
    "if pretrained:\n",
    "    print(\"** Pretrained checkpoint =\", pretrained)\n",
    "    module.load(pretrained)\n",
    "module.to(device)\n",
    "\n",
    "## Train or test\n",
    "# ** note: temp checkpoints are saved in the \"debug\" directory\n",
    "#          to separate the result of experiments and temporary\n",
    "#          checkpoints generated in developer mode.\n",
    "checkpoint_dir = output if not dev else debug\n",
    "# create subfolder based on time\n",
    "checkpoint_dir = Path(checkpoint_dir) / datetime.now().strftime(\"%Y%m%d-%H%M%S\")\n",
    "trainer = modules[module_name][\"initializer\"].init_trainer(\n",
    "    num_classes=dataset[\"num_classes\"],\n",
    "    max_iter=max_iter,\n",
    "    eval_step=eval_step,\n",
    "    checkpoint_dir=checkpoint_dir,\n",
    "    device=device,\n",
    "    pretrained_dir=\"./checkpoints/pretrained\"\n",
    ")\n",
    "\n",
    "\n",
    "print(\"** Mode =\", mode)\n",
    "if mode == \"train\":        \n",
    "    # Save command-line arguments\n",
    "    Path(trainer.checkpoint_dir).mkdir(parents=True, exist_ok=True,)\n",
    "    # Comment the code below since there is no args\n",
    "    # with open(Path(trainer.checkpoint_dir) / \"json\", \"w\") as f:\n",
    "    #     json.dump(vars(args), f, indent=4)\n",
    "    trainer.train(module, train_dataloader, val_dataloader, load_pretrained=[0, 1])\n",
    "if mode == \"test\" or test_dataloader:\n",
    "    test_metric = trainer.validation(module, test_dataloader, label=\"all\")\n",
    "    print(\"** Test (Final):\", test_metric)\n",
    "else:\n",
    "    raise ValueError(\"Got an invalid input of option --mode.\")"
   ]
  },
  {
   "cell_type": "code",
   "execution_count": null,
   "id": "9681008f-8600-4aa0-89e9-6678a8a1f04b",
   "metadata": {},
   "outputs": [],
   "source": []
  }
 ],
 "metadata": {
  "kernelspec": {
   "display_name": "Python 3 (ipykernel)",
   "language": "python",
   "name": "python3"
  },
  "language_info": {
   "codemirror_mode": {
    "name": "ipython",
    "version": 3
   },
   "file_extension": ".py",
   "mimetype": "text/x-python",
   "name": "python",
   "nbconvert_exporter": "python",
   "pygments_lexer": "ipython3",
   "version": "3.8.17"
  },
  "widgets": {
   "application/vnd.jupyter.widget-state+json": {
    "state": {
     "00966c4e682147399320e73e6b25bf81": {
      "model_module": "@jupyter-widgets/base",
      "model_module_version": "2.0.0",
      "model_name": "LayoutModel",
      "state": {
       "display": "inline-flex",
       "flex_flow": "row wrap",
       "width": "100%"
      }
     },
     "00cb8739ff304fb8bc6778b9c4c1c1d8": {
      "model_module": "@jupyter-widgets/controls",
      "model_module_version": "2.0.0",
      "model_name": "HTMLModel",
      "state": {
       "layout": "IPY_MODEL_c89fd31cc8754b9cbb6b4f2cd83b2084",
       "style": "IPY_MODEL_ebe370ad85814bbf8f806c836d447cc4",
       "value": " 40/40 [02:33&lt;00:00,  1.94s/it]"
      }
     },
     "011a0fbd0c0b488789cf72caa5c28a97": {
      "model_module": "@jupyter-widgets/controls",
      "model_module_version": "2.0.0",
      "model_name": "HBoxModel",
      "state": {
       "children": [
        "IPY_MODEL_e23c5b6b03c84cd59d763f7fcac6cea8",
        "IPY_MODEL_98e97cd88f56472292659f04e1d3ba70",
        "IPY_MODEL_427775f6c7a84e4696fa48ce1b5596f7"
       ],
       "layout": "IPY_MODEL_b0f25b22a42b46f695f6edb8f1c390b7"
      }
     },
     "015f8e107f7446d594e014f958528394": {
      "model_module": "@jupyter-widgets/base",
      "model_module_version": "2.0.0",
      "model_name": "LayoutModel",
      "state": {}
     },
     "0166bba8949843088f4db591e6307903": {
      "model_module": "@jupyter-widgets/base",
      "model_module_version": "2.0.0",
      "model_name": "LayoutModel",
      "state": {
       "flex": "2"
      }
     },
     "0213d9995e7e4760a91525e75adaf506": {
      "model_module": "@jupyter-widgets/controls",
      "model_module_version": "2.0.0",
      "model_name": "FloatProgressModel",
      "state": {
       "bar_style": "success",
       "layout": "IPY_MODEL_aafd7937d2f54ff090c36275ab66174a",
       "max": 40,
       "style": "IPY_MODEL_c3048f5ff4314075a38f5086345ad8b7",
       "value": 40
      }
     },
     "026b1316a25040148963ee7234dcf8d6": {
      "model_module": "@jupyter-widgets/controls",
      "model_module_version": "2.0.0",
      "model_name": "HTMLModel",
      "state": {
       "layout": "IPY_MODEL_3d48bd0de5524e288ea40c58dd902c27",
       "style": "IPY_MODEL_f689094c0e06418fa9a0b4b89ef44b55",
       "value": "Validate (2099 Steps) (DiceMetric=0.26338): 100%"
      }
     },
     "032310d1a4b742e180833478d397e80e": {
      "model_module": "@jupyter-widgets/base",
      "model_module_version": "2.0.0",
      "model_name": "LayoutModel",
      "state": {}
     },
     "03819e3c678d4e7da7c7bd7027bb94cb": {
      "model_module": "@jupyter-widgets/controls",
      "model_module_version": "2.0.0",
      "model_name": "HTMLStyleModel",
      "state": {
       "description_width": "",
       "font_size": null,
       "text_color": null
      }
     },
     "03c2f10e36164addb507b5cb55d9b63e": {
      "model_module": "@jupyter-widgets/controls",
      "model_module_version": "2.0.0",
      "model_name": "ProgressStyleModel",
      "state": {
       "description_width": ""
      }
     },
     "03e5d07cd67940d48dd299a5bf915d73": {
      "model_module": "@jupyter-widgets/controls",
      "model_module_version": "2.0.0",
      "model_name": "HTMLStyleModel",
      "state": {
       "description_width": "",
       "font_size": null,
       "text_color": null
      }
     },
     "03fa45e5d9b642a0a81a591f454ee249": {
      "model_module": "@jupyter-widgets/controls",
      "model_module_version": "2.0.0",
      "model_name": "HTMLModel",
      "state": {
       "layout": "IPY_MODEL_2296b81cc55949a3b0c4c91e475fb3e4",
       "style": "IPY_MODEL_c6b20a060a744a2dbcffd01bb8bc2dab",
       "value": "Validate (7299 Steps) (DiceMetric=0.27958): 100%"
      }
     },
     "04312686d83d42e98c138238abc8f735": {
      "model_module": "@jupyter-widgets/controls",
      "model_module_version": "2.0.0",
      "model_name": "HTMLModel",
      "state": {
       "layout": "IPY_MODEL_d2da510a39aa48929839ee603f210556",
       "style": "IPY_MODEL_11790e14ffc144b9ab1711bd17825bef",
       "value": "Validate (8799 Steps) (DiceMetric=0.28471): 100%"
      }
     },
     "0537029e2e87422daebc2e53166c755d": {
      "model_module": "@jupyter-widgets/base",
      "model_module_version": "2.0.0",
      "model_name": "LayoutModel",
      "state": {
       "display": "inline-flex",
       "flex_flow": "row wrap",
       "width": "100%"
      }
     },
     "05471d86cb3d4c028bc808c5af656148": {
      "model_module": "@jupyter-widgets/controls",
      "model_module_version": "2.0.0",
      "model_name": "FloatProgressModel",
      "state": {
       "bar_style": "success",
       "layout": "IPY_MODEL_99130af99c9848808f92444bad32510c",
       "max": 40,
       "style": "IPY_MODEL_705498f56f6e425d9a19a2a015536bbb",
       "value": 40
      }
     },
     "0586ab33fd844b2fafed04ca03c64200": {
      "model_module": "@jupyter-widgets/controls",
      "model_module_version": "2.0.0",
      "model_name": "FloatProgressModel",
      "state": {
       "bar_style": "success",
       "layout": "IPY_MODEL_d01553232eef4850876d703dd942a5da",
       "max": 40,
       "style": "IPY_MODEL_08026988a897406896e58c188da1c28b",
       "value": 40
      }
     },
     "0593584d4a544dc4aa057c6dcbdd06c3": {
      "model_module": "@jupyter-widgets/controls",
      "model_module_version": "2.0.0",
      "model_name": "HTMLModel",
      "state": {
       "layout": "IPY_MODEL_a81933bfe47a41419c3c2a73cc3853bf",
       "style": "IPY_MODEL_31ab94b4ec044655b36b6bd3b410c3a4",
       "value": " 40/40 [02:36&lt;00:00,  1.96s/it]"
      }
     },
     "066c48af69f44937a7efdef17359f008": {
      "model_module": "@jupyter-widgets/controls",
      "model_module_version": "2.0.0",
      "model_name": "HTMLStyleModel",
      "state": {
       "description_width": "",
       "font_size": null,
       "text_color": null
      }
     },
     "069004f59a3f41908ea39383ecd4b259": {
      "model_module": "@jupyter-widgets/controls",
      "model_module_version": "2.0.0",
      "model_name": "HTMLStyleModel",
      "state": {
       "description_width": "",
       "font_size": null,
       "text_color": null
      }
     },
     "07893b3b58ea4b32b31bf73bf067c174": {
      "model_module": "@jupyter-widgets/base",
      "model_module_version": "2.0.0",
      "model_name": "LayoutModel",
      "state": {}
     },
     "07f26ff034424226b013defeded6a508": {
      "model_module": "@jupyter-widgets/controls",
      "model_module_version": "2.0.0",
      "model_name": "HTMLStyleModel",
      "state": {
       "description_width": "",
       "font_size": null,
       "text_color": null
      }
     },
     "08026988a897406896e58c188da1c28b": {
      "model_module": "@jupyter-widgets/controls",
      "model_module_version": "2.0.0",
      "model_name": "ProgressStyleModel",
      "state": {
       "description_width": ""
      }
     },
     "0814d32437b74684a408a1aa5f641e64": {
      "model_module": "@jupyter-widgets/controls",
      "model_module_version": "2.0.0",
      "model_name": "ProgressStyleModel",
      "state": {
       "description_width": ""
      }
     },
     "084a04f064f94d3db5b08bc144ee5072": {
      "model_module": "@jupyter-widgets/controls",
      "model_module_version": "2.0.0",
      "model_name": "HTMLStyleModel",
      "state": {
       "description_width": "",
       "font_size": null,
       "text_color": null
      }
     },
     "0899ab0ddc5c4757814a3e5e22d5184e": {
      "model_module": "@jupyter-widgets/base",
      "model_module_version": "2.0.0",
      "model_name": "LayoutModel",
      "state": {}
     },
     "092c7f6310af43f691b872a00f203f3f": {
      "model_module": "@jupyter-widgets/controls",
      "model_module_version": "2.0.0",
      "model_name": "HTMLModel",
      "state": {
       "layout": "IPY_MODEL_c6486e7f5337478384776e4cc616926c",
       "style": "IPY_MODEL_dadf712051144504b043725d7e854e23",
       "value": "Validate (3899 Steps) (DiceMetric=0.26707): 100%"
      }
     },
     "0958b748598f4daebf1b93efe2b93dc3": {
      "model_module": "@jupyter-widgets/base",
      "model_module_version": "2.0.0",
      "model_name": "LayoutModel",
      "state": {}
     },
     "097e0609f2ae4ba5a3a7eecf5c1c971f": {
      "model_module": "@jupyter-widgets/base",
      "model_module_version": "2.0.0",
      "model_name": "LayoutModel",
      "state": {
       "display": "inline-flex",
       "flex_flow": "row wrap",
       "width": "100%"
      }
     },
     "0a0f0d71d98644578ef820e75615729c": {
      "model_module": "@jupyter-widgets/controls",
      "model_module_version": "2.0.0",
      "model_name": "HTMLModel",
      "state": {
       "layout": "IPY_MODEL_2c06a5dff4674be48f3be6e8a1938e0c",
       "style": "IPY_MODEL_084a04f064f94d3db5b08bc144ee5072",
       "value": "Validate (3099 Steps) (DiceMetric=0.26609): 100%"
      }
     },
     "0a15fca56ac04379af1a5b5ab5d3ceed": {
      "model_module": "@jupyter-widgets/base",
      "model_module_version": "2.0.0",
      "model_name": "LayoutModel",
      "state": {}
     },
     "0a94446b50d94ce28dad3cf9a87cfad1": {
      "model_module": "@jupyter-widgets/base",
      "model_module_version": "2.0.0",
      "model_name": "LayoutModel",
      "state": {
       "display": "inline-flex",
       "flex_flow": "row wrap",
       "width": "100%"
      }
     },
     "0aaf19a2bd7c40079b8e5e1ef2318752": {
      "model_module": "@jupyter-widgets/base",
      "model_module_version": "2.0.0",
      "model_name": "LayoutModel",
      "state": {}
     },
     "0ad6089b93794827aa3a38afcbb95eb3": {
      "model_module": "@jupyter-widgets/base",
      "model_module_version": "2.0.0",
      "model_name": "LayoutModel",
      "state": {
       "flex": "2"
      }
     },
     "0aeb88b623d34c63bcbfa05caa991bb1": {
      "model_module": "@jupyter-widgets/controls",
      "model_module_version": "2.0.0",
      "model_name": "HTMLStyleModel",
      "state": {
       "description_width": "",
       "font_size": null,
       "text_color": null
      }
     },
     "0af40de11785483a9cad3991d979a618": {
      "model_module": "@jupyter-widgets/controls",
      "model_module_version": "2.0.0",
      "model_name": "FloatProgressModel",
      "state": {
       "bar_style": "success",
       "layout": "IPY_MODEL_ef2ffe6ac41f4c399d40497139e10682",
       "max": 40,
       "style": "IPY_MODEL_8ecc3666a473453794b7f4296a803249",
       "value": 40
      }
     },
     "0b2a52aa85a74ac1a3bdb048abda0de1": {
      "model_module": "@jupyter-widgets/controls",
      "model_module_version": "2.0.0",
      "model_name": "FloatProgressModel",
      "state": {
       "bar_style": "success",
       "layout": "IPY_MODEL_dc019a5d11d3401aa8f57f0a2e6ae5b6",
       "max": 40,
       "style": "IPY_MODEL_49e0399d065a4ea784dbedc404004d13",
       "value": 40
      }
     },
     "0b4df74efb87474ab8993684accaa009": {
      "model_module": "@jupyter-widgets/base",
      "model_module_version": "2.0.0",
      "model_name": "LayoutModel",
      "state": {}
     },
     "0ba1f73b5a70465196d8922483d7b442": {
      "model_module": "@jupyter-widgets/base",
      "model_module_version": "2.0.0",
      "model_name": "LayoutModel",
      "state": {}
     },
     "0c0410a03ffd4f299ab751c57bcf1624": {
      "model_module": "@jupyter-widgets/controls",
      "model_module_version": "2.0.0",
      "model_name": "HTMLStyleModel",
      "state": {
       "description_width": "",
       "font_size": null,
       "text_color": null
      }
     },
     "0c9cd968cfce4737a1ddb8318bf9e282": {
      "model_module": "@jupyter-widgets/base",
      "model_module_version": "2.0.0",
      "model_name": "LayoutModel",
      "state": {
       "display": "inline-flex",
       "flex_flow": "row wrap",
       "width": "100%"
      }
     },
     "0cbdebfa20684197a1e4599d06455486": {
      "model_module": "@jupyter-widgets/controls",
      "model_module_version": "2.0.0",
      "model_name": "ProgressStyleModel",
      "state": {
       "description_width": ""
      }
     },
     "0ccf465c8b9847ba9e987cda52366443": {
      "model_module": "@jupyter-widgets/controls",
      "model_module_version": "2.0.0",
      "model_name": "HTMLModel",
      "state": {
       "layout": "IPY_MODEL_5e099735140d412eafae1f6f6079b269",
       "style": "IPY_MODEL_d89a4b28a44c40a1b7b7495e63c3f38a",
       "value": "Validate (899 Steps) (DiceMetric=0.26017): 100%"
      }
     },
     "0d48a7ee449b4f40ab27796e63039ec1": {
      "model_module": "@jupyter-widgets/base",
      "model_module_version": "2.0.0",
      "model_name": "LayoutModel",
      "state": {}
     },
     "0dbad78e10a04464960d4f3270554013": {
      "model_module": "@jupyter-widgets/base",
      "model_module_version": "2.0.0",
      "model_name": "LayoutModel",
      "state": {}
     },
     "0dfffdfba11b4f2eab6d73d5ebf57dc8": {
      "model_module": "@jupyter-widgets/controls",
      "model_module_version": "2.0.0",
      "model_name": "HTMLModel",
      "state": {
       "layout": "IPY_MODEL_d80834c21fee4064a212a64ddb0e63bf",
       "style": "IPY_MODEL_39076a54281c4fd6a8e4e4bcf93e7229",
       "value": " 40/40 [02:35&lt;00:00,  1.93s/it]"
      }
     },
     "0e1d989200d14b93be56719c7f069617": {
      "model_module": "@jupyter-widgets/base",
      "model_module_version": "2.0.0",
      "model_name": "LayoutModel",
      "state": {
       "flex": "2"
      }
     },
     "0e6628778c814810ab59a44df652867b": {
      "model_module": "@jupyter-widgets/controls",
      "model_module_version": "2.0.0",
      "model_name": "ProgressStyleModel",
      "state": {
       "description_width": ""
      }
     },
     "0e6ddb129b904f2ab20b34468474a511": {
      "model_module": "@jupyter-widgets/base",
      "model_module_version": "2.0.0",
      "model_name": "LayoutModel",
      "state": {
       "display": "inline-flex",
       "flex_flow": "row wrap",
       "width": "100%"
      }
     },
     "0e7b9eb29fcb492e9bd1d80985c238bb": {
      "model_module": "@jupyter-widgets/controls",
      "model_module_version": "2.0.0",
      "model_name": "ProgressStyleModel",
      "state": {
       "description_width": ""
      }
     },
     "0eb4da415e2f4dd187f646581fa52549": {
      "model_module": "@jupyter-widgets/controls",
      "model_module_version": "2.0.0",
      "model_name": "FloatProgressModel",
      "state": {
       "bar_style": "success",
       "layout": "IPY_MODEL_c8e54b9d3d5b4418b6b660bda49f9066",
       "max": 40,
       "style": "IPY_MODEL_1f33d58a965642bd8701bfe60e14cddd",
       "value": 40
      }
     },
     "0ee0da89c6264d879dcfd544344acc4d": {
      "model_module": "@jupyter-widgets/controls",
      "model_module_version": "2.0.0",
      "model_name": "HBoxModel",
      "state": {
       "children": [
        "IPY_MODEL_b97da411b8e94473ba271f8d4986edd0",
        "IPY_MODEL_0eb4da415e2f4dd187f646581fa52549",
        "IPY_MODEL_aebcee576e8740c68b42806ee1182480"
       ],
       "layout": "IPY_MODEL_00966c4e682147399320e73e6b25bf81"
      }
     },
     "0ee3210af83144189ca42027edea1f44": {
      "model_module": "@jupyter-widgets/base",
      "model_module_version": "2.0.0",
      "model_name": "LayoutModel",
      "state": {}
     },
     "0f54f454fb404f8394ea0e46580f2887": {
      "model_module": "@jupyter-widgets/controls",
      "model_module_version": "2.0.0",
      "model_name": "FloatProgressModel",
      "state": {
       "bar_style": "success",
       "layout": "IPY_MODEL_d8955e1c967b42d39e1309a0cea22674",
       "max": 10000,
       "style": "IPY_MODEL_a772acb8bc7e4645817e191dd1d80132",
       "value": 10000
      }
     },
     "0f924442cf164c768a2d97c87f6592a0": {
      "model_module": "@jupyter-widgets/controls",
      "model_module_version": "2.0.0",
      "model_name": "HTMLModel",
      "state": {
       "layout": "IPY_MODEL_c3cf0b8ba0df404096f3a76e5e48fe81",
       "style": "IPY_MODEL_14ae62fcc7eb49fcad45c36b3a6e9082",
       "value": "Validate (8999 Steps) (DiceMetric=0.28415): 100%"
      }
     },
     "0fb282af156642d490b996af97337211": {
      "model_module": "@jupyter-widgets/controls",
      "model_module_version": "2.0.0",
      "model_name": "ProgressStyleModel",
      "state": {
       "description_width": ""
      }
     },
     "0fbe0e282fad49548b0187be94378d6e": {
      "model_module": "@jupyter-widgets/controls",
      "model_module_version": "2.0.0",
      "model_name": "HBoxModel",
      "state": {
       "children": [
        "IPY_MODEL_4cb7386b89fb47c69f407f754e355a1c",
        "IPY_MODEL_a2901cc5665946e69e6f9297791e44fb",
        "IPY_MODEL_bca357e6849a4446a99018fae13c7273"
       ],
       "layout": "IPY_MODEL_de6a461fada545e19c1d732a24c1dcce"
      }
     },
     "0fdb53e1525247f094f5fc9c9c5b1417": {
      "model_module": "@jupyter-widgets/base",
      "model_module_version": "2.0.0",
      "model_name": "LayoutModel",
      "state": {
       "display": "inline-flex",
       "flex_flow": "row wrap",
       "width": "100%"
      }
     },
     "1008422a62db4db68680f510b4bccfba": {
      "model_module": "@jupyter-widgets/controls",
      "model_module_version": "2.0.0",
      "model_name": "HTMLStyleModel",
      "state": {
       "description_width": "",
       "font_size": null,
       "text_color": null
      }
     },
     "104967cbd7f1480296a3c6d90f5dd62a": {
      "model_module": "@jupyter-widgets/controls",
      "model_module_version": "2.0.0",
      "model_name": "HTMLModel",
      "state": {
       "layout": "IPY_MODEL_edbeea3e23894406a55f6965c68881e3",
       "style": "IPY_MODEL_3587105f134b4afc8c7aed3484a2bf9d",
       "value": " 40/40 [02:34&lt;00:00,  1.92s/it]"
      }
     },
     "106f0bcab8a54122b8f9cbf549e1c7ca": {
      "model_module": "@jupyter-widgets/controls",
      "model_module_version": "2.0.0",
      "model_name": "HTMLModel",
      "state": {
       "layout": "IPY_MODEL_4e151c6f6553467ca028470eb9fe91a5",
       "style": "IPY_MODEL_978a62eb07624feda3648d38d4f158a6",
       "value": " 40/40 [02:33&lt;00:00,  1.93s/it]"
      }
     },
     "1071743d1cde447d8bca125360ce04af": {
      "model_module": "@jupyter-widgets/controls",
      "model_module_version": "2.0.0",
      "model_name": "FloatProgressModel",
      "state": {
       "bar_style": "success",
       "layout": "IPY_MODEL_bf65744715684a878e90adf09a3ba80d",
       "max": 40,
       "style": "IPY_MODEL_6c3cfbf5d3f64742b19c045f4266aaf0",
       "value": 40
      }
     },
     "108e3790191640efb7f241fb5db0a86d": {
      "model_module": "@jupyter-widgets/controls",
      "model_module_version": "2.0.0",
      "model_name": "HTMLModel",
      "state": {
       "layout": "IPY_MODEL_bbef160d2d0c4345a574ad8e9883edc5",
       "style": "IPY_MODEL_c7c0c59404184b2bba0d11edc52684ab",
       "value": " 40/40 [02:33&lt;00:00,  1.93s/it]"
      }
     },
     "109ef21b3cef471da3afe4a8a4b560a8": {
      "model_module": "@jupyter-widgets/controls",
      "model_module_version": "2.0.0",
      "model_name": "HBoxModel",
      "state": {
       "children": [
        "IPY_MODEL_4bbc738ea66e4934b288adaa3022f02e",
        "IPY_MODEL_ed044f21202945869e92618e643360e2",
        "IPY_MODEL_223cd76e62174f1d84d6ea604184f955"
       ],
       "layout": "IPY_MODEL_9728c5b8e858487886dc3b71e319b91d"
      }
     },
     "10c612bfc6e04d9290cb3da9582c9946": {
      "model_module": "@jupyter-widgets/controls",
      "model_module_version": "2.0.0",
      "model_name": "HTMLStyleModel",
      "state": {
       "description_width": "",
       "font_size": null,
       "text_color": null
      }
     },
     "10c91af57e704a79a79a09f8f7241a84": {
      "model_module": "@jupyter-widgets/base",
      "model_module_version": "2.0.0",
      "model_name": "LayoutModel",
      "state": {}
     },
     "11790e14ffc144b9ab1711bd17825bef": {
      "model_module": "@jupyter-widgets/controls",
      "model_module_version": "2.0.0",
      "model_name": "HTMLStyleModel",
      "state": {
       "description_width": "",
       "font_size": null,
       "text_color": null
      }
     },
     "1182ce7467164994bab23711a52268c2": {
      "model_module": "@jupyter-widgets/controls",
      "model_module_version": "2.0.0",
      "model_name": "HTMLModel",
      "state": {
       "layout": "IPY_MODEL_1d7b38f46b1c40a398baf8fe1f5dc4b9",
       "style": "IPY_MODEL_332ed314d4ae448fbd0c2972822bb097",
       "value": "Validate (5699 Steps) (DiceMetric=0.27285): 100%"
      }
     },
     "11e3ac4e144644198b14014dc499a8d6": {
      "model_module": "@jupyter-widgets/base",
      "model_module_version": "2.0.0",
      "model_name": "LayoutModel",
      "state": {
       "display": "inline-flex",
       "flex_flow": "row wrap",
       "width": "100%"
      }
     },
     "1270fe6ef84f4e089d71631800836e2e": {
      "model_module": "@jupyter-widgets/controls",
      "model_module_version": "2.0.0",
      "model_name": "ProgressStyleModel",
      "state": {
       "description_width": ""
      }
     },
     "13139222b2774083abd2870f91a367ef": {
      "model_module": "@jupyter-widgets/base",
      "model_module_version": "2.0.0",
      "model_name": "LayoutModel",
      "state": {
       "flex": "2"
      }
     },
     "136083f009934751ab76c69c3873a168": {
      "model_module": "@jupyter-widgets/controls",
      "model_module_version": "2.0.0",
      "model_name": "ProgressStyleModel",
      "state": {
       "description_width": ""
      }
     },
     "139adad6ac664a5a94ddf5f3b1dfa317": {
      "model_module": "@jupyter-widgets/controls",
      "model_module_version": "2.0.0",
      "model_name": "HTMLModel",
      "state": {
       "layout": "IPY_MODEL_3ddaff3b81c94926824753b6fb51fda0",
       "style": "IPY_MODEL_d88740163109405b834d2ddb13ef9f9e",
       "value": " 40/40 [02:34&lt;00:00,  1.93s/it]"
      }
     },
     "14222326db06406288e31660e1d66655": {
      "model_module": "@jupyter-widgets/controls",
      "model_module_version": "2.0.0",
      "model_name": "ProgressStyleModel",
      "state": {
       "description_width": ""
      }
     },
     "1437d3bf5b4d43d2910200a0283d7c67": {
      "model_module": "@jupyter-widgets/controls",
      "model_module_version": "2.0.0",
      "model_name": "HTMLModel",
      "state": {
       "layout": "IPY_MODEL_b6b12a84db884e368895d2f1a89f8dbf",
       "style": "IPY_MODEL_d78597fb85ce4f858f6ece71d12cddca",
       "value": " 40/40 [02:36&lt;00:00,  1.94s/it]"
      }
     },
     "147e1a735ea1414db01e216d95a32d02": {
      "model_module": "@jupyter-widgets/base",
      "model_module_version": "2.0.0",
      "model_name": "LayoutModel",
      "state": {
       "flex": "2"
      }
     },
     "14a6c22257cc4887a0f3bfbf1f8e978f": {
      "model_module": "@jupyter-widgets/controls",
      "model_module_version": "2.0.0",
      "model_name": "HTMLStyleModel",
      "state": {
       "description_width": "",
       "font_size": null,
       "text_color": null
      }
     },
     "14ae62fcc7eb49fcad45c36b3a6e9082": {
      "model_module": "@jupyter-widgets/controls",
      "model_module_version": "2.0.0",
      "model_name": "HTMLStyleModel",
      "state": {
       "description_width": "",
       "font_size": null,
       "text_color": null
      }
     },
     "15093d20316341ef82db57110d7a6716": {
      "model_module": "@jupyter-widgets/controls",
      "model_module_version": "2.0.0",
      "model_name": "HTMLStyleModel",
      "state": {
       "description_width": "",
       "font_size": null,
       "text_color": null
      }
     },
     "150ad850cc744c7594f4a4f1ec05740d": {
      "model_module": "@jupyter-widgets/controls",
      "model_module_version": "2.0.0",
      "model_name": "HTMLStyleModel",
      "state": {
       "description_width": "",
       "font_size": null,
       "text_color": null
      }
     },
     "151a49666ef84c3689536cdca5705411": {
      "model_module": "@jupyter-widgets/base",
      "model_module_version": "2.0.0",
      "model_name": "LayoutModel",
      "state": {}
     },
     "152fafc771934fc5805c6be1fe54e486": {
      "model_module": "@jupyter-widgets/base",
      "model_module_version": "2.0.0",
      "model_name": "LayoutModel",
      "state": {
       "display": "inline-flex",
       "flex_flow": "row wrap",
       "width": "100%"
      }
     },
     "159e5eec504646ef8bda2790a5938e71": {
      "model_module": "@jupyter-widgets/controls",
      "model_module_version": "2.0.0",
      "model_name": "HTMLStyleModel",
      "state": {
       "description_width": "",
       "font_size": null,
       "text_color": null
      }
     },
     "161f70603f294dd7a73ad24cb095067f": {
      "model_module": "@jupyter-widgets/controls",
      "model_module_version": "2.0.0",
      "model_name": "HBoxModel",
      "state": {
       "children": [
        "IPY_MODEL_60b73b86e95f4fc0bee1be42d0cc0daa",
        "IPY_MODEL_42fabdeded9d4e54ad46a054062de097",
        "IPY_MODEL_7b6871741f124196906ab402d3268b6e"
       ],
       "layout": "IPY_MODEL_bb8c60da8c444107a343ff181e5c85bf"
      }
     },
     "166ae4f1d83a494dbc99df86f077a575": {
      "model_module": "@jupyter-widgets/base",
      "model_module_version": "2.0.0",
      "model_name": "LayoutModel",
      "state": {}
     },
     "168f6c7c270c47e88b1936b2b092f408": {
      "model_module": "@jupyter-widgets/base",
      "model_module_version": "2.0.0",
      "model_name": "LayoutModel",
      "state": {
       "flex": "2"
      }
     },
     "16ba62a66ddc4d0b9ee67a98cf70e3e0": {
      "model_module": "@jupyter-widgets/controls",
      "model_module_version": "2.0.0",
      "model_name": "HTMLStyleModel",
      "state": {
       "description_width": "",
       "font_size": null,
       "text_color": null
      }
     },
     "170438b307aa4c1c81a57cad3c29d9f9": {
      "model_module": "@jupyter-widgets/controls",
      "model_module_version": "2.0.0",
      "model_name": "HTMLStyleModel",
      "state": {
       "description_width": "",
       "font_size": null,
       "text_color": null
      }
     },
     "1709bef8a51f42ac832fc61ce1406e7b": {
      "model_module": "@jupyter-widgets/base",
      "model_module_version": "2.0.0",
      "model_name": "LayoutModel",
      "state": {
       "display": "inline-flex",
       "flex_flow": "row wrap",
       "width": "100%"
      }
     },
     "171071ff37dc451f98ac53c8c4ee8f69": {
      "model_module": "@jupyter-widgets/controls",
      "model_module_version": "2.0.0",
      "model_name": "HTMLModel",
      "state": {
       "layout": "IPY_MODEL_0958b748598f4daebf1b93efe2b93dc3",
       "style": "IPY_MODEL_8e640f67dc384d449a5c678bc15de9f1",
       "value": "Validate (4199 Steps) (DiceMetric=0.26774): 100%"
      }
     },
     "17237a39529243e896e75edf0925bcbf": {
      "model_module": "@jupyter-widgets/base",
      "model_module_version": "2.0.0",
      "model_name": "LayoutModel",
      "state": {
       "display": "inline-flex",
       "flex_flow": "row wrap",
       "width": "100%"
      }
     },
     "173cf4a9126c41d2a8e58559286ee9c2": {
      "model_module": "@jupyter-widgets/controls",
      "model_module_version": "2.0.0",
      "model_name": "FloatProgressModel",
      "state": {
       "bar_style": "success",
       "layout": "IPY_MODEL_d8d1a72b716043169be48042d0037e3b",
       "max": 40,
       "style": "IPY_MODEL_4f9b33419aeb49b0938240e69d98ec41",
       "value": 40
      }
     },
     "17689df0a473453ba637112ff2e94cce": {
      "model_module": "@jupyter-widgets/controls",
      "model_module_version": "2.0.0",
      "model_name": "FloatProgressModel",
      "state": {
       "bar_style": "success",
       "layout": "IPY_MODEL_305fde451b204ff09fb3fd91f22a4073",
       "max": 40,
       "style": "IPY_MODEL_51bb684864034645a259d847f82e6edf",
       "value": 40
      }
     },
     "177b48e4b6a94ec383b4a5cdd1b4cb10": {
      "model_module": "@jupyter-widgets/controls",
      "model_module_version": "2.0.0",
      "model_name": "HBoxModel",
      "state": {
       "children": [
        "IPY_MODEL_092c7f6310af43f691b872a00f203f3f",
        "IPY_MODEL_afafc8e6239c435bb53027101a68138e",
        "IPY_MODEL_aa13f3189d7e40d993a82cce547ad7dd"
       ],
       "layout": "IPY_MODEL_50428843f637406b8613fb8a2647df52"
      }
     },
     "179b9bb792a648de839a16bb85065df5": {
      "model_module": "@jupyter-widgets/base",
      "model_module_version": "2.0.0",
      "model_name": "LayoutModel",
      "state": {}
     },
     "179ff1b001ea4adba1491a33afc9bed6": {
      "model_module": "@jupyter-widgets/base",
      "model_module_version": "2.0.0",
      "model_name": "LayoutModel",
      "state": {
       "flex": "2"
      }
     },
     "17f228f7d66d460ab4218e5b2dd54e11": {
      "model_module": "@jupyter-widgets/controls",
      "model_module_version": "2.0.0",
      "model_name": "HTMLModel",
      "state": {
       "layout": "IPY_MODEL_471d50c94a244b409eed529dd0a7398a",
       "style": "IPY_MODEL_6f454f6a7139471fabd67d4f2884333c",
       "value": "Validate (9899 Steps) (DiceMetric=0.28765): 100%"
      }
     },
     "18e4bf55bbab453d8194457b92d178e9": {
      "model_module": "@jupyter-widgets/controls",
      "model_module_version": "2.0.0",
      "model_name": "FloatProgressModel",
      "state": {
       "bar_style": "success",
       "layout": "IPY_MODEL_e6ca1885109143d3b1026b5f56882e04",
       "max": 40,
       "style": "IPY_MODEL_1270fe6ef84f4e089d71631800836e2e",
       "value": 40
      }
     },
     "18ee5935bb184f8b86bcbb9b099657c4": {
      "model_module": "@jupyter-widgets/base",
      "model_module_version": "2.0.0",
      "model_name": "LayoutModel",
      "state": {}
     },
     "1934396c748d4964a61052e5abdb869b": {
      "model_module": "@jupyter-widgets/base",
      "model_module_version": "2.0.0",
      "model_name": "LayoutModel",
      "state": {}
     },
     "195b24fd9e83460b99944334c6a0b046": {
      "model_module": "@jupyter-widgets/base",
      "model_module_version": "2.0.0",
      "model_name": "LayoutModel",
      "state": {
       "display": "inline-flex",
       "flex_flow": "row wrap",
       "width": "100%"
      }
     },
     "19833c3bcd2c4ceab90578f7c2145dd0": {
      "model_module": "@jupyter-widgets/controls",
      "model_module_version": "2.0.0",
      "model_name": "ProgressStyleModel",
      "state": {
       "description_width": ""
      }
     },
     "198ce19f916e40209a4c1da8cbd5ab58": {
      "model_module": "@jupyter-widgets/controls",
      "model_module_version": "2.0.0",
      "model_name": "HTMLStyleModel",
      "state": {
       "description_width": "",
       "font_size": null,
       "text_color": null
      }
     },
     "1a6c85312fcf421c9a1efc84e0e9ee14": {
      "model_module": "@jupyter-widgets/base",
      "model_module_version": "2.0.0",
      "model_name": "LayoutModel",
      "state": {
       "display": "inline-flex",
       "flex_flow": "row wrap",
       "width": "100%"
      }
     },
     "1abd89b615b14ea6a2097e107fc4fee0": {
      "model_module": "@jupyter-widgets/controls",
      "model_module_version": "2.0.0",
      "model_name": "ProgressStyleModel",
      "state": {
       "description_width": ""
      }
     },
     "1ad3776d8d5e4917b1ffed041bb8b5e3": {
      "model_module": "@jupyter-widgets/controls",
      "model_module_version": "2.0.0",
      "model_name": "FloatProgressModel",
      "state": {
       "bar_style": "success",
       "layout": "IPY_MODEL_9482fd18ee064008b79ff3c5b9b3d17b",
       "max": 40,
       "style": "IPY_MODEL_d61c5641dcc649c19428c87dfb97b5ec",
       "value": 40
      }
     },
     "1b33c1fd870c4caf90d6cb1d4af22910": {
      "model_module": "@jupyter-widgets/controls",
      "model_module_version": "2.0.0",
      "model_name": "HBoxModel",
      "state": {
       "children": [
        "IPY_MODEL_e609ce542c564331b10356e724530614",
        "IPY_MODEL_0213d9995e7e4760a91525e75adaf506",
        "IPY_MODEL_62f8035357fd4b00b8944d05c1d7f2f5"
       ],
       "layout": "IPY_MODEL_2ee3ab6b6f4148d9866df63821ae5fa0"
      }
     },
     "1be06073bf4e4b7cbc3ef9f289451119": {
      "model_module": "@jupyter-widgets/controls",
      "model_module_version": "2.0.0",
      "model_name": "FloatProgressModel",
      "state": {
       "bar_style": "success",
       "layout": "IPY_MODEL_168f6c7c270c47e88b1936b2b092f408",
       "max": 40,
       "style": "IPY_MODEL_3737c85876584e508cb41f2bac75c887",
       "value": 40
      }
     },
     "1be957437d7244de9052a11f785c218a": {
      "model_module": "@jupyter-widgets/base",
      "model_module_version": "2.0.0",
      "model_name": "LayoutModel",
      "state": {}
     },
     "1bfb7ad51ddd4a7c8b054f477dc04154": {
      "model_module": "@jupyter-widgets/controls",
      "model_module_version": "2.0.0",
      "model_name": "HTMLModel",
      "state": {
       "layout": "IPY_MODEL_d268738ac9284527b12f8a1109ac0aa0",
       "style": "IPY_MODEL_8970fc5ea010427ca9e2d288e7175bb7",
       "value": " 40/40 [02:34&lt;00:00,  1.92s/it]"
      }
     },
     "1d7b38f46b1c40a398baf8fe1f5dc4b9": {
      "model_module": "@jupyter-widgets/base",
      "model_module_version": "2.0.0",
      "model_name": "LayoutModel",
      "state": {}
     },
     "1dedebfcf24a4a57a38e5e4a45816e11": {
      "model_module": "@jupyter-widgets/controls",
      "model_module_version": "2.0.0",
      "model_name": "ProgressStyleModel",
      "state": {
       "description_width": ""
      }
     },
     "1e487c67e0b14066aeb37bb88a3313e7": {
      "model_module": "@jupyter-widgets/controls",
      "model_module_version": "2.0.0",
      "model_name": "HTMLModel",
      "state": {
       "layout": "IPY_MODEL_e69ce2b9c76d49daa5594777c5ccf9bc",
       "style": "IPY_MODEL_58645dd4c50c42a382eef3d6d21e34a8",
       "value": " 40/40 [02:33&lt;00:00,  1.93s/it]"
      }
     },
     "1e563b6742ef4b1e837f561ac18ee327": {
      "model_module": "@jupyter-widgets/base",
      "model_module_version": "2.0.0",
      "model_name": "LayoutModel",
      "state": {
       "flex": "2"
      }
     },
     "1e9940c3742f4355838f3030aa3a9fb8": {
      "model_module": "@jupyter-widgets/base",
      "model_module_version": "2.0.0",
      "model_name": "LayoutModel",
      "state": {
       "flex": "2"
      }
     },
     "1e9f5b9004384b0ba464e45cfd7ec245": {
      "model_module": "@jupyter-widgets/controls",
      "model_module_version": "2.0.0",
      "model_name": "FloatProgressModel",
      "state": {
       "bar_style": "success",
       "layout": "IPY_MODEL_5ec8fca651a7459f9f16d59b622b960f",
       "max": 40,
       "style": "IPY_MODEL_be19770fe30346e0997052f7258a71c0",
       "value": 40
      }
     },
     "1ea8e4f62e3943cd907550e5305798e6": {
      "model_module": "@jupyter-widgets/controls",
      "model_module_version": "2.0.0",
      "model_name": "FloatProgressModel",
      "state": {
       "bar_style": "success",
       "layout": "IPY_MODEL_a7639887df514834b7024472ee138b7e",
       "max": 40,
       "style": "IPY_MODEL_694f838413674ebb9b684ee6797c5517",
       "value": 40
      }
     },
     "1f2194bb62c5424eae0ea41c549b2f8a": {
      "model_module": "@jupyter-widgets/controls",
      "model_module_version": "2.0.0",
      "model_name": "HTMLModel",
      "state": {
       "layout": "IPY_MODEL_e77c055c0a8a4ca8a2991d3d881d6a7d",
       "style": "IPY_MODEL_066c48af69f44937a7efdef17359f008",
       "value": "Validate (7899 Steps) (DiceMetric=0.27998): 100%"
      }
     },
     "1f33d58a965642bd8701bfe60e14cddd": {
      "model_module": "@jupyter-widgets/controls",
      "model_module_version": "2.0.0",
      "model_name": "ProgressStyleModel",
      "state": {
       "description_width": ""
      }
     },
     "1f76e62c4e2140fc9760631282bdad73": {
      "model_module": "@jupyter-widgets/controls",
      "model_module_version": "2.0.0",
      "model_name": "HTMLStyleModel",
      "state": {
       "description_width": "",
       "font_size": null,
       "text_color": null
      }
     },
     "1f7dc36ae62d4406a75b39f2d3e04743": {
      "model_module": "@jupyter-widgets/controls",
      "model_module_version": "2.0.0",
      "model_name": "HTMLModel",
      "state": {
       "layout": "IPY_MODEL_eacebcc5ca2f42b8a08db9d08bd43a2e",
       "style": "IPY_MODEL_bf3369eabc4d41a2bddee29696581984",
       "value": "Validate (5199 Steps) (DiceMetric=0.27178): 100%"
      }
     },
     "1f969138f0424be784cb450112fa56e9": {
      "model_module": "@jupyter-widgets/base",
      "model_module_version": "2.0.0",
      "model_name": "LayoutModel",
      "state": {}
     },
     "1f9c9804403443519b9736eb09bbb3be": {
      "model_module": "@jupyter-widgets/base",
      "model_module_version": "2.0.0",
      "model_name": "LayoutModel",
      "state": {
       "display": "inline-flex",
       "flex_flow": "row wrap",
       "width": "100%"
      }
     },
     "1fadef362bd246c6be5afd5876b56f5c": {
      "model_module": "@jupyter-widgets/controls",
      "model_module_version": "2.0.0",
      "model_name": "HTMLStyleModel",
      "state": {
       "description_width": "",
       "font_size": null,
       "text_color": null
      }
     },
     "20128e3f48d941a4b49b0091180e7f20": {
      "model_module": "@jupyter-widgets/controls",
      "model_module_version": "2.0.0",
      "model_name": "HBoxModel",
      "state": {
       "children": [
        "IPY_MODEL_90b08304a8f04c0da0dc05b1513098c5",
        "IPY_MODEL_7b028cdf3d154d47b89c1b2e375bcbdc",
        "IPY_MODEL_d79a52cea5654d58a4a2f062cf53cc6a"
       ],
       "layout": "IPY_MODEL_82d2ff362a41429c963f82349db44fca"
      }
     },
     "2040039064cd433d9b2b7ece9b5c4603": {
      "model_module": "@jupyter-widgets/controls",
      "model_module_version": "2.0.0",
      "model_name": "FloatProgressModel",
      "state": {
       "bar_style": "success",
       "layout": "IPY_MODEL_66c178bd5a7e4f5aa94f8a5b72121fc5",
       "max": 40,
       "style": "IPY_MODEL_883ed9a691bb49f98a14d28fe908de04",
       "value": 40
      }
     },
     "2115c5f293054795bc541b29e7cd94fe": {
      "model_module": "@jupyter-widgets/controls",
      "model_module_version": "2.0.0",
      "model_name": "HTMLStyleModel",
      "state": {
       "description_width": "",
       "font_size": null,
       "text_color": null
      }
     },
     "223cd76e62174f1d84d6ea604184f955": {
      "model_module": "@jupyter-widgets/controls",
      "model_module_version": "2.0.0",
      "model_name": "HTMLModel",
      "state": {
       "layout": "IPY_MODEL_e6cb3bdc024e4d5a904370fa7f8b2b32",
       "style": "IPY_MODEL_be244cd789f14544b9eb2809807ca98d",
       "value": " 40/40 [02:34&lt;00:00,  1.94s/it]"
      }
     },
     "224d8265c083450387f0a24f6dbd7ae7": {
      "model_module": "@jupyter-widgets/controls",
      "model_module_version": "2.0.0",
      "model_name": "HBoxModel",
      "state": {
       "children": [
        "IPY_MODEL_2be3855cf941426d903bf51095fc66c4",
        "IPY_MODEL_a3d396d7599c412aa82b67317a19c850",
        "IPY_MODEL_63d7953f560d4b73bec6ce842f7ae98c"
       ],
       "layout": "IPY_MODEL_9405ca86467648be96a9b650df4889d5"
      }
     },
     "228a5f49f65e42bb902188c8563a723b": {
      "model_module": "@jupyter-widgets/controls",
      "model_module_version": "2.0.0",
      "model_name": "HTMLStyleModel",
      "state": {
       "description_width": "",
       "font_size": null,
       "text_color": null
      }
     },
     "2296b81cc55949a3b0c4c91e475fb3e4": {
      "model_module": "@jupyter-widgets/base",
      "model_module_version": "2.0.0",
      "model_name": "LayoutModel",
      "state": {}
     },
     "23888ae3cbc6415db8fbd8ea4f704cef": {
      "model_module": "@jupyter-widgets/controls",
      "model_module_version": "2.0.0",
      "model_name": "HTMLModel",
      "state": {
       "layout": "IPY_MODEL_cb0344525973476d8ce006d92d5cae64",
       "style": "IPY_MODEL_d2a6384ac6be406082bef506b665556a",
       "value": " 40/40 [02:35&lt;00:00,  1.93s/it]"
      }
     },
     "24013ba178d145bb9425fa25bd00f0ae": {
      "model_module": "@jupyter-widgets/controls",
      "model_module_version": "2.0.0",
      "model_name": "ProgressStyleModel",
      "state": {
       "description_width": ""
      }
     },
     "247afb2b4e494e3b978bc6d5948f496b": {
      "model_module": "@jupyter-widgets/base",
      "model_module_version": "2.0.0",
      "model_name": "LayoutModel",
      "state": {
       "flex": "2"
      }
     },
     "247ecff2c89948f28fd4ac6464ed6c2d": {
      "model_module": "@jupyter-widgets/controls",
      "model_module_version": "2.0.0",
      "model_name": "HTMLStyleModel",
      "state": {
       "description_width": "",
       "font_size": null,
       "text_color": null
      }
     },
     "24cbb7a21c164d9a8316a0b3b39fb658": {
      "model_module": "@jupyter-widgets/controls",
      "model_module_version": "2.0.0",
      "model_name": "ProgressStyleModel",
      "state": {
       "description_width": ""
      }
     },
     "24ecb775e3b042a9b0cced12f3967cd9": {
      "model_module": "@jupyter-widgets/controls",
      "model_module_version": "2.0.0",
      "model_name": "HTMLModel",
      "state": {
       "layout": "IPY_MODEL_a63d175df5304c4fa190cf778c21bf64",
       "style": "IPY_MODEL_e700833d12624031b3943d86dc4e771f",
       "value": " 40/40 [02:34&lt;00:00,  1.92s/it]"
      }
     },
     "2529fa9da0ec4deca2be55e75c44ae71": {
      "model_module": "@jupyter-widgets/controls",
      "model_module_version": "2.0.0",
      "model_name": "HTMLStyleModel",
      "state": {
       "description_width": "",
       "font_size": null,
       "text_color": null
      }
     },
     "259a42cc630343e0a7d8b1cb86a43a40": {
      "model_module": "@jupyter-widgets/base",
      "model_module_version": "2.0.0",
      "model_name": "LayoutModel",
      "state": {}
     },
     "259ecbc5046f4619b23e2c8965ee7b2a": {
      "model_module": "@jupyter-widgets/controls",
      "model_module_version": "2.0.0",
      "model_name": "ProgressStyleModel",
      "state": {
       "description_width": ""
      }
     },
     "25bb36a47d9b46c58ef615a2f3e3b51e": {
      "model_module": "@jupyter-widgets/controls",
      "model_module_version": "2.0.0",
      "model_name": "HTMLStyleModel",
      "state": {
       "description_width": "",
       "font_size": null,
       "text_color": null
      }
     },
     "25c7d0aaabe0445cb1e484351d600a6a": {
      "model_module": "@jupyter-widgets/base",
      "model_module_version": "2.0.0",
      "model_name": "LayoutModel",
      "state": {}
     },
     "25db0059f1e94eb88c8ea186c4eb9f30": {
      "model_module": "@jupyter-widgets/base",
      "model_module_version": "2.0.0",
      "model_name": "LayoutModel",
      "state": {
       "display": "inline-flex",
       "flex_flow": "row wrap",
       "width": "100%"
      }
     },
     "2699259bd2734d98a0fada59804acc61": {
      "model_module": "@jupyter-widgets/controls",
      "model_module_version": "2.0.0",
      "model_name": "HTMLModel",
      "state": {
       "layout": "IPY_MODEL_0ee3210af83144189ca42027edea1f44",
       "style": "IPY_MODEL_6bae5d5e20784096aa5e708559a20c6d",
       "value": " 40/40 [02:34&lt;00:00,  1.93s/it]"
      }
     },
     "26a55586b0cd4415bc33c75b856f1d3d": {
      "model_module": "@jupyter-widgets/controls",
      "model_module_version": "2.0.0",
      "model_name": "FloatProgressModel",
      "state": {
       "bar_style": "success",
       "layout": "IPY_MODEL_785d0f23f46e47fca1b5319c5512b238",
       "max": 40,
       "style": "IPY_MODEL_d950ad8ea7be4ba0bf6129e9209e2c4b",
       "value": 40
      }
     },
     "26ecce8bc5c14247a342ec236ad7d13a": {
      "model_module": "@jupyter-widgets/base",
      "model_module_version": "2.0.0",
      "model_name": "LayoutModel",
      "state": {
       "flex": "2"
      }
     },
     "270d3ca715854889916c47c31dbe668a": {
      "model_module": "@jupyter-widgets/base",
      "model_module_version": "2.0.0",
      "model_name": "LayoutModel",
      "state": {
       "display": "inline-flex",
       "flex_flow": "row wrap",
       "width": "100%"
      }
     },
     "272bc979107f4bddb187e6c3fb14978e": {
      "model_module": "@jupyter-widgets/controls",
      "model_module_version": "2.0.0",
      "model_name": "HTMLStyleModel",
      "state": {
       "description_width": "",
       "font_size": null,
       "text_color": null
      }
     },
     "27549caeed4b4314948e2aa7608f1eb0": {
      "model_module": "@jupyter-widgets/base",
      "model_module_version": "2.0.0",
      "model_name": "LayoutModel",
      "state": {}
     },
     "27e22b9e13b34e1582b01c7540dc2d07": {
      "model_module": "@jupyter-widgets/controls",
      "model_module_version": "2.0.0",
      "model_name": "HBoxModel",
      "state": {
       "children": [
        "IPY_MODEL_03fa45e5d9b642a0a81a591f454ee249",
        "IPY_MODEL_b0c91e782fcc4f36ab322abc655a3702",
        "IPY_MODEL_7c79e58d21494e4395c131f3488ac33b"
       ],
       "layout": "IPY_MODEL_9b595c42577746e0aacbaae435d75f93"
      }
     },
     "27ec2045016441af9c7f62d7dbc94f21": {
      "model_module": "@jupyter-widgets/base",
      "model_module_version": "2.0.0",
      "model_name": "LayoutModel",
      "state": {
       "display": "inline-flex",
       "flex_flow": "row wrap",
       "width": "100%"
      }
     },
     "2865547d78d04f04a66b36f1d8009ef1": {
      "model_module": "@jupyter-widgets/controls",
      "model_module_version": "2.0.0",
      "model_name": "ProgressStyleModel",
      "state": {
       "description_width": ""
      }
     },
     "291ef766291b450ea006849f58606235": {
      "model_module": "@jupyter-widgets/controls",
      "model_module_version": "2.0.0",
      "model_name": "ProgressStyleModel",
      "state": {
       "description_width": ""
      }
     },
     "29c45f11715e45adab7c35446e7364cd": {
      "model_module": "@jupyter-widgets/controls",
      "model_module_version": "2.0.0",
      "model_name": "HTMLStyleModel",
      "state": {
       "description_width": "",
       "font_size": null,
       "text_color": null
      }
     },
     "29e93effe54d43e2964cc88cceedf23b": {
      "model_module": "@jupyter-widgets/controls",
      "model_module_version": "2.0.0",
      "model_name": "HTMLStyleModel",
      "state": {
       "description_width": "",
       "font_size": null,
       "text_color": null
      }
     },
     "2a3b7071a8484d1994fae1d57f432869": {
      "model_module": "@jupyter-widgets/controls",
      "model_module_version": "2.0.0",
      "model_name": "HTMLStyleModel",
      "state": {
       "description_width": "",
       "font_size": null,
       "text_color": null
      }
     },
     "2a4d6aa78a2e4d078fdbe3cc50fca3b3": {
      "model_module": "@jupyter-widgets/controls",
      "model_module_version": "2.0.0",
      "model_name": "HTMLStyleModel",
      "state": {
       "description_width": "",
       "font_size": null,
       "text_color": null
      }
     },
     "2a79c1cfe6c2425387e45617831c2c16": {
      "model_module": "@jupyter-widgets/controls",
      "model_module_version": "2.0.0",
      "model_name": "HTMLStyleModel",
      "state": {
       "description_width": "",
       "font_size": null,
       "text_color": null
      }
     },
     "2aa7b36f76f94cbf8edacc65a4bb5b56": {
      "model_module": "@jupyter-widgets/controls",
      "model_module_version": "2.0.0",
      "model_name": "HTMLModel",
      "state": {
       "layout": "IPY_MODEL_59e9692845fe45dfbf1ef0cb4bfb457d",
       "style": "IPY_MODEL_14a6c22257cc4887a0f3bfbf1f8e978f",
       "value": " 40/40 [02:34&lt;00:00,  1.94s/it]"
      }
     },
     "2ad459e0abeb4882a054d726e92907a0": {
      "model_module": "@jupyter-widgets/base",
      "model_module_version": "2.0.0",
      "model_name": "LayoutModel",
      "state": {}
     },
     "2b0f3140b3904418a57169ca0ff49c62": {
      "model_module": "@jupyter-widgets/controls",
      "model_module_version": "2.0.0",
      "model_name": "HBoxModel",
      "state": {
       "children": [
        "IPY_MODEL_a5fae4b319f54e41b738152dbc2ba179",
        "IPY_MODEL_718229f3dfa34be2af277acbb7d693aa",
        "IPY_MODEL_2aa7b36f76f94cbf8edacc65a4bb5b56"
       ],
       "layout": "IPY_MODEL_d0522f9c67334db4a7787a70bf63a6e7"
      }
     },
     "2b61b721ca334b0aa711c3cf94940ac2": {
      "model_module": "@jupyter-widgets/controls",
      "model_module_version": "2.0.0",
      "model_name": "HTMLModel",
      "state": {
       "layout": "IPY_MODEL_8866166a337446f993c53a6051ee4f20",
       "style": "IPY_MODEL_29c45f11715e45adab7c35446e7364cd",
       "value": "Training (10000 / 10000 Steps) (focal=2.3462e-03, dice=1.7457e+00, soft=3.5819e+00, total=5.3507e-01): 100%"
      }
     },
     "2be3855cf941426d903bf51095fc66c4": {
      "model_module": "@jupyter-widgets/controls",
      "model_module_version": "2.0.0",
      "model_name": "HTMLModel",
      "state": {
       "layout": "IPY_MODEL_b2f8148d3aff4fe3a9e043fc36db0c0a",
       "style": "IPY_MODEL_e9e071339bff4082abd2d3097e4b2a09",
       "value": "Validate (799 Steps) (DiceMetric=0.25708): 100%"
      }
     },
     "2c06a5dff4674be48f3be6e8a1938e0c": {
      "model_module": "@jupyter-widgets/base",
      "model_module_version": "2.0.0",
      "model_name": "LayoutModel",
      "state": {}
     },
     "2c5360c407b5480b8de833d141126998": {
      "model_module": "@jupyter-widgets/base",
      "model_module_version": "2.0.0",
      "model_name": "LayoutModel",
      "state": {}
     },
     "2d8dd80073ae4912b8bef876bc93f0f5": {
      "model_module": "@jupyter-widgets/controls",
      "model_module_version": "2.0.0",
      "model_name": "HTMLModel",
      "state": {
       "layout": "IPY_MODEL_c15cb0c4d2974e06b04aa76592fcea34",
       "style": "IPY_MODEL_72c74c460a5d41f59f786879dd0b6bed",
       "value": "Validate (1099 Steps) (DiceMetric=0.26337): 100%"
      }
     },
     "2d974848477d47ffb9ba1924e8412639": {
      "model_module": "@jupyter-widgets/controls",
      "model_module_version": "2.0.0",
      "model_name": "HTMLStyleModel",
      "state": {
       "description_width": "",
       "font_size": null,
       "text_color": null
      }
     },
     "2da5417696bb4324a48add21f70962b0": {
      "model_module": "@jupyter-widgets/controls",
      "model_module_version": "2.0.0",
      "model_name": "ProgressStyleModel",
      "state": {
       "description_width": ""
      }
     },
     "2e2fb12a74824675b740ed8729f9df01": {
      "model_module": "@jupyter-widgets/base",
      "model_module_version": "2.0.0",
      "model_name": "LayoutModel",
      "state": {}
     },
     "2e3b4849ea824ab79fa8fdfc2356733e": {
      "model_module": "@jupyter-widgets/controls",
      "model_module_version": "2.0.0",
      "model_name": "HTMLStyleModel",
      "state": {
       "description_width": "",
       "font_size": null,
       "text_color": null
      }
     },
     "2e67c64ae6794a21844bad2e9a9d1a3a": {
      "model_module": "@jupyter-widgets/base",
      "model_module_version": "2.0.0",
      "model_name": "LayoutModel",
      "state": {
       "flex": "2"
      }
     },
     "2e838714440949268285f07fc9266945": {
      "model_module": "@jupyter-widgets/base",
      "model_module_version": "2.0.0",
      "model_name": "LayoutModel",
      "state": {}
     },
     "2eb0331b83af4b0a9deaf1fd3de402db": {
      "model_module": "@jupyter-widgets/base",
      "model_module_version": "2.0.0",
      "model_name": "LayoutModel",
      "state": {}
     },
     "2edf5d8893cf4978836eed0b19d901ba": {
      "model_module": "@jupyter-widgets/controls",
      "model_module_version": "2.0.0",
      "model_name": "HTMLStyleModel",
      "state": {
       "description_width": "",
       "font_size": null,
       "text_color": null
      }
     },
     "2ee3ab6b6f4148d9866df63821ae5fa0": {
      "model_module": "@jupyter-widgets/base",
      "model_module_version": "2.0.0",
      "model_name": "LayoutModel",
      "state": {
       "display": "inline-flex",
       "flex_flow": "row wrap",
       "width": "100%"
      }
     },
     "2f01511e3135498381ff1f719a2c65fa": {
      "model_module": "@jupyter-widgets/base",
      "model_module_version": "2.0.0",
      "model_name": "LayoutModel",
      "state": {}
     },
     "2f07e944bc344aab9a49d1ada957dc48": {
      "model_module": "@jupyter-widgets/controls",
      "model_module_version": "2.0.0",
      "model_name": "HTMLModel",
      "state": {
       "layout": "IPY_MODEL_bd454e046e9f4454b046c143e21d9cdc",
       "style": "IPY_MODEL_15093d20316341ef82db57110d7a6716",
       "value": "Validate (2799 Steps) (DiceMetric=0.26284): 100%"
      }
     },
     "2f2657d7832647c4a3e1b1278d26c13f": {
      "model_module": "@jupyter-widgets/controls",
      "model_module_version": "2.0.0",
      "model_name": "HBoxModel",
      "state": {
       "children": [
        "IPY_MODEL_0f924442cf164c768a2d97c87f6592a0",
        "IPY_MODEL_e81a37a1a56b49f0b695b48b401c09eb",
        "IPY_MODEL_bba560b81f994ad5a94794d1ca0ac61b"
       ],
       "layout": "IPY_MODEL_518eb806b0064facb849e51453ee4da1"
      }
     },
     "2f5d87b1a94b47e88fe06ac03ea9827d": {
      "model_module": "@jupyter-widgets/controls",
      "model_module_version": "2.0.0",
      "model_name": "HTMLStyleModel",
      "state": {
       "description_width": "",
       "font_size": null,
       "text_color": null
      }
     },
     "2f9c3bf09c954e4087c5bc34285f07d6": {
      "model_module": "@jupyter-widgets/controls",
      "model_module_version": "2.0.0",
      "model_name": "HTMLModel",
      "state": {
       "layout": "IPY_MODEL_7d9d0ba8314d4703af7444ee576cd75e",
       "style": "IPY_MODEL_976cc99785264f60b0debfd74a23c845",
       "value": "Validate (6099 Steps) (DiceMetric=0.27447): 100%"
      }
     },
     "2fefe1976de7465b9550f63ea2655711": {
      "model_module": "@jupyter-widgets/controls",
      "model_module_version": "2.0.0",
      "model_name": "HTMLModel",
      "state": {
       "layout": "IPY_MODEL_18ee5935bb184f8b86bcbb9b099657c4",
       "style": "IPY_MODEL_fe12d8a7d72e4858a8504e7cc35c6682",
       "value": " 40/40 [02:35&lt;00:00,  1.94s/it]"
      }
     },
     "300e07de54b9463db837b8d0d28755c0": {
      "model_module": "@jupyter-widgets/controls",
      "model_module_version": "2.0.0",
      "model_name": "HTMLStyleModel",
      "state": {
       "description_width": "",
       "font_size": null,
       "text_color": null
      }
     },
     "302f03b219db4fda9fb2d751e742d297": {
      "model_module": "@jupyter-widgets/controls",
      "model_module_version": "2.0.0",
      "model_name": "HTMLModel",
      "state": {
       "layout": "IPY_MODEL_460f767611ff41f38c7c739262e1a184",
       "style": "IPY_MODEL_313e8025272d4488bec4e9dfa24eaad6",
       "value": " 40/40 [02:34&lt;00:00,  1.93s/it]"
      }
     },
     "305fde451b204ff09fb3fd91f22a4073": {
      "model_module": "@jupyter-widgets/base",
      "model_module_version": "2.0.0",
      "model_name": "LayoutModel",
      "state": {
       "flex": "2"
      }
     },
     "3075dc4f95a3414d9dc0409102b0d384": {
      "model_module": "@jupyter-widgets/controls",
      "model_module_version": "2.0.0",
      "model_name": "HTMLModel",
      "state": {
       "layout": "IPY_MODEL_83811799f92a4df5934c9c9bf2f25557",
       "style": "IPY_MODEL_dcf0cbac97a84bb98f8431f9a0535c14",
       "value": " 40/40 [02:33&lt;00:00,  1.91s/it]"
      }
     },
     "30898ca3fca846309120952344951c45": {
      "model_module": "@jupyter-widgets/controls",
      "model_module_version": "2.0.0",
      "model_name": "ProgressStyleModel",
      "state": {
       "description_width": ""
      }
     },
     "30b46dbd2bbd4a5eb070a52c98d290f6": {
      "model_module": "@jupyter-widgets/base",
      "model_module_version": "2.0.0",
      "model_name": "LayoutModel",
      "state": {
       "flex": "2"
      }
     },
     "310c0a1e8dcb49389c3418c8f0b1f73b": {
      "model_module": "@jupyter-widgets/controls",
      "model_module_version": "2.0.0",
      "model_name": "HTMLModel",
      "state": {
       "layout": "IPY_MODEL_99560396cb90401888acf51e9f9ee607",
       "style": "IPY_MODEL_7f1465211ab34437ad67b3ab28b0fe40",
       "value": "Validate (2699 Steps) (DiceMetric=0.26339): 100%"
      }
     },
     "312aff3f822240599c91ae91d3ae06f9": {
      "model_module": "@jupyter-widgets/controls",
      "model_module_version": "2.0.0",
      "model_name": "HTMLStyleModel",
      "state": {
       "description_width": "",
       "font_size": null,
       "text_color": null
      }
     },
     "313e8025272d4488bec4e9dfa24eaad6": {
      "model_module": "@jupyter-widgets/controls",
      "model_module_version": "2.0.0",
      "model_name": "HTMLStyleModel",
      "state": {
       "description_width": "",
       "font_size": null,
       "text_color": null
      }
     },
     "315c22afe69d464889dca45a2e605e80": {
      "model_module": "@jupyter-widgets/base",
      "model_module_version": "2.0.0",
      "model_name": "LayoutModel",
      "state": {
       "display": "inline-flex",
       "flex_flow": "row wrap",
       "width": "100%"
      }
     },
     "318992d0fd0648e995d717d3dc3b1828": {
      "model_module": "@jupyter-widgets/controls",
      "model_module_version": "2.0.0",
      "model_name": "HTMLModel",
      "state": {
       "layout": "IPY_MODEL_0dbad78e10a04464960d4f3270554013",
       "style": "IPY_MODEL_a9d43495b5404affa300a3a7a5bde1b6",
       "value": " 40/40 [02:34&lt;00:00,  1.92s/it]"
      }
     },
     "31ab94b4ec044655b36b6bd3b410c3a4": {
      "model_module": "@jupyter-widgets/controls",
      "model_module_version": "2.0.0",
      "model_name": "HTMLStyleModel",
      "state": {
       "description_width": "",
       "font_size": null,
       "text_color": null
      }
     },
     "31e151b8007e4dbc8b2e373e782db6bf": {
      "model_module": "@jupyter-widgets/controls",
      "model_module_version": "2.0.0",
      "model_name": "FloatProgressModel",
      "state": {
       "bar_style": "success",
       "layout": "IPY_MODEL_afcd0eb9395e401d805bc34e8089fc96",
       "max": 40,
       "style": "IPY_MODEL_aaaf5e59bb4146b8af325500e70251f3",
       "value": 40
      }
     },
     "31f331cc00f545e086ccb25acdb4325e": {
      "model_module": "@jupyter-widgets/controls",
      "model_module_version": "2.0.0",
      "model_name": "FloatProgressModel",
      "state": {
       "bar_style": "success",
       "layout": "IPY_MODEL_d201b49d89014758844a81f2ea33c66b",
       "max": 40,
       "style": "IPY_MODEL_545a14f0e17c4a668b52f11e95b30905",
       "value": 40
      }
     },
     "31f50c10e39946acbc14b4d7d3e6b1c7": {
      "model_module": "@jupyter-widgets/base",
      "model_module_version": "2.0.0",
      "model_name": "LayoutModel",
      "state": {
       "display": "inline-flex",
       "flex_flow": "row wrap",
       "width": "100%"
      }
     },
     "323fdb241f0f48d184bcba3b74c3b21b": {
      "model_module": "@jupyter-widgets/controls",
      "model_module_version": "2.0.0",
      "model_name": "HTMLStyleModel",
      "state": {
       "description_width": "",
       "font_size": null,
       "text_color": null
      }
     },
     "331e8397e1224a5caae5633b50331243": {
      "model_module": "@jupyter-widgets/controls",
      "model_module_version": "2.0.0",
      "model_name": "ProgressStyleModel",
      "state": {
       "description_width": ""
      }
     },
     "332ed314d4ae448fbd0c2972822bb097": {
      "model_module": "@jupyter-widgets/controls",
      "model_module_version": "2.0.0",
      "model_name": "HTMLStyleModel",
      "state": {
       "description_width": "",
       "font_size": null,
       "text_color": null
      }
     },
     "33db76ff9c7145319dfa7df54e04d37d": {
      "model_module": "@jupyter-widgets/controls",
      "model_module_version": "2.0.0",
      "model_name": "HBoxModel",
      "state": {
       "children": [
        "IPY_MODEL_44d51000cc2449c4a4544f64a50ced08",
        "IPY_MODEL_1ad3776d8d5e4917b1ffed041bb8b5e3",
        "IPY_MODEL_56dcc4a9fa1048eca7e4fdd93d7d2f6f"
       ],
       "layout": "IPY_MODEL_faaa558e660f474eab614e80d1c61f01"
      }
     },
     "3421322f73394de9b8b75cb52c8f1512": {
      "model_module": "@jupyter-widgets/controls",
      "model_module_version": "2.0.0",
      "model_name": "FloatProgressModel",
      "state": {
       "bar_style": "success",
       "layout": "IPY_MODEL_9e9ed9df74f94d159e1d70a7294d513b",
       "max": 40,
       "style": "IPY_MODEL_fe79eeed95ae4af2a97ea52739db5b7c",
       "value": 40
      }
     },
     "3470ecc6e9d94c1baa523e0cb160137d": {
      "model_module": "@jupyter-widgets/controls",
      "model_module_version": "2.0.0",
      "model_name": "HTMLModel",
      "state": {
       "layout": "IPY_MODEL_e593073bc0374122a14dbe376b821180",
       "style": "IPY_MODEL_f7c397083e8242a88bd7ff06d03c5458",
       "value": " 40/40 [02:34&lt;00:00,  1.92s/it]"
      }
     },
     "34af63b44d534943b2abba61bb30e8ac": {
      "model_module": "@jupyter-widgets/controls",
      "model_module_version": "2.0.0",
      "model_name": "HTMLStyleModel",
      "state": {
       "description_width": "",
       "font_size": null,
       "text_color": null
      }
     },
     "34c570a427334352856ece07e11b3daa": {
      "model_module": "@jupyter-widgets/base",
      "model_module_version": "2.0.0",
      "model_name": "LayoutModel",
      "state": {
       "display": "inline-flex",
       "flex_flow": "row wrap",
       "width": "100%"
      }
     },
     "34cf1d1f833343a6a4438ce4b4b11e66": {
      "model_module": "@jupyter-widgets/controls",
      "model_module_version": "2.0.0",
      "model_name": "HTMLStyleModel",
      "state": {
       "description_width": "",
       "font_size": null,
       "text_color": null
      }
     },
     "34d8121bc03c4b59b90407292284c96f": {
      "model_module": "@jupyter-widgets/controls",
      "model_module_version": "2.0.0",
      "model_name": "HTMLModel",
      "state": {
       "layout": "IPY_MODEL_0d48a7ee449b4f40ab27796e63039ec1",
       "style": "IPY_MODEL_2a79c1cfe6c2425387e45617831c2c16",
       "value": " 40/40 [02:36&lt;00:00,  1.91s/it]"
      }
     },
     "350892a2b3224c898c93642aad2c450d": {
      "model_module": "@jupyter-widgets/controls",
      "model_module_version": "2.0.0",
      "model_name": "HTMLStyleModel",
      "state": {
       "description_width": "",
       "font_size": null,
       "text_color": null
      }
     },
     "353b67d9e9ae4111a8631f3badfc223e": {
      "model_module": "@jupyter-widgets/base",
      "model_module_version": "2.0.0",
      "model_name": "LayoutModel",
      "state": {
       "flex": "2"
      }
     },
     "354d98fa84de458f9c0bb721f96e8cc6": {
      "model_module": "@jupyter-widgets/controls",
      "model_module_version": "2.0.0",
      "model_name": "HTMLModel",
      "state": {
       "layout": "IPY_MODEL_780ad5eab79e4ddab9d7e3dbc2866fc7",
       "style": "IPY_MODEL_ede2b5cb581142b68f983a44e43bdfec",
       "value": " 40/40 [02:37&lt;00:00,  1.93s/it]"
      }
     },
     "355f3fc7d8b7471f80b760a65dc37140": {
      "model_module": "@jupyter-widgets/base",
      "model_module_version": "2.0.0",
      "model_name": "LayoutModel",
      "state": {}
     },
     "3587105f134b4afc8c7aed3484a2bf9d": {
      "model_module": "@jupyter-widgets/controls",
      "model_module_version": "2.0.0",
      "model_name": "HTMLStyleModel",
      "state": {
       "description_width": "",
       "font_size": null,
       "text_color": null
      }
     },
     "35ebce34e45448e29a9302d61609657a": {
      "model_module": "@jupyter-widgets/controls",
      "model_module_version": "2.0.0",
      "model_name": "HTMLStyleModel",
      "state": {
       "description_width": "",
       "font_size": null,
       "text_color": null
      }
     },
     "3606d46a08fa42d4be07695b2c9149e7": {
      "model_module": "@jupyter-widgets/controls",
      "model_module_version": "2.0.0",
      "model_name": "HTMLStyleModel",
      "state": {
       "description_width": "",
       "font_size": null,
       "text_color": null
      }
     },
     "360fbfd5a40b4a15b1ed7bff2459dcd4": {
      "model_module": "@jupyter-widgets/controls",
      "model_module_version": "2.0.0",
      "model_name": "HTMLStyleModel",
      "state": {
       "description_width": "",
       "font_size": null,
       "text_color": null
      }
     },
     "3633171cf2ed494c8602b4f2abc1caff": {
      "model_module": "@jupyter-widgets/controls",
      "model_module_version": "2.0.0",
      "model_name": "HBoxModel",
      "state": {
       "children": [
        "IPY_MODEL_88049114137f4b128188a7e04894349f",
        "IPY_MODEL_0586ab33fd844b2fafed04ca03c64200",
        "IPY_MODEL_9c67ba25851f47e88ececa20da17dedb"
       ],
       "layout": "IPY_MODEL_0e6ddb129b904f2ab20b34468474a511"
      }
     },
     "3737c85876584e508cb41f2bac75c887": {
      "model_module": "@jupyter-widgets/controls",
      "model_module_version": "2.0.0",
      "model_name": "ProgressStyleModel",
      "state": {
       "description_width": ""
      }
     },
     "3749a8a4f81b45b59490abce03e99941": {
      "model_module": "@jupyter-widgets/base",
      "model_module_version": "2.0.0",
      "model_name": "LayoutModel",
      "state": {}
     },
     "3752973d3233406593232de8eb52c085": {
      "model_module": "@jupyter-widgets/base",
      "model_module_version": "2.0.0",
      "model_name": "LayoutModel",
      "state": {}
     },
     "37532710d5ec4d6680d8d661afe21005": {
      "model_module": "@jupyter-widgets/base",
      "model_module_version": "2.0.0",
      "model_name": "LayoutModel",
      "state": {
       "flex": "2"
      }
     },
     "375a34ca752a40eda6f8d0d27cec91d2": {
      "model_module": "@jupyter-widgets/base",
      "model_module_version": "2.0.0",
      "model_name": "LayoutModel",
      "state": {}
     },
     "37b47346c60d45ec871b8ebb43e14efc": {
      "model_module": "@jupyter-widgets/controls",
      "model_module_version": "2.0.0",
      "model_name": "FloatProgressModel",
      "state": {
       "bar_style": "success",
       "layout": "IPY_MODEL_3fe90de34e5749a1b06c1b7a2cf85d7c",
       "max": 40,
       "style": "IPY_MODEL_1dedebfcf24a4a57a38e5e4a45816e11",
       "value": 40
      }
     },
     "38f694f287ec4d079cbf9efaf5187a34": {
      "model_module": "@jupyter-widgets/controls",
      "model_module_version": "2.0.0",
      "model_name": "ProgressStyleModel",
      "state": {
       "description_width": ""
      }
     },
     "39076a54281c4fd6a8e4e4bcf93e7229": {
      "model_module": "@jupyter-widgets/controls",
      "model_module_version": "2.0.0",
      "model_name": "HTMLStyleModel",
      "state": {
       "description_width": "",
       "font_size": null,
       "text_color": null
      }
     },
     "396383193eb44ceb908e192c2d8b6e56": {
      "model_module": "@jupyter-widgets/controls",
      "model_module_version": "2.0.0",
      "model_name": "HTMLModel",
      "state": {
       "layout": "IPY_MODEL_151a49666ef84c3689536cdca5705411",
       "style": "IPY_MODEL_5fca8891660e4fdd94f69b3d28d7b96f",
       "value": " 40/40 [02:35&lt;00:00,  1.92s/it]"
      }
     },
     "3975797c435348fa8152ef5d8f1d3a1d": {
      "model_module": "@jupyter-widgets/controls",
      "model_module_version": "2.0.0",
      "model_name": "HTMLModel",
      "state": {
       "layout": "IPY_MODEL_704a6a1b74f04b35859b4f9f15d431dc",
       "style": "IPY_MODEL_2f5d87b1a94b47e88fe06ac03ea9827d",
       "value": " 40/40 [02:34&lt;00:00,  1.92s/it]"
      }
     },
     "3a5cf53f895e449781b1fb1eb7c1b8ae": {
      "model_module": "@jupyter-widgets/controls",
      "model_module_version": "2.0.0",
      "model_name": "HBoxModel",
      "state": {
       "children": [
        "IPY_MODEL_1f2194bb62c5424eae0ea41c549b2f8a",
        "IPY_MODEL_c6cd2250ccb64e579fe99b20012e9f46",
        "IPY_MODEL_5320e295090f46dba2e800dc578f3ad5"
       ],
       "layout": "IPY_MODEL_89359e65f6de4afd9dd6425f45871f01"
      }
     },
     "3a85b2abf91d4217873019ae90167d5a": {
      "model_module": "@jupyter-widgets/base",
      "model_module_version": "2.0.0",
      "model_name": "LayoutModel",
      "state": {
       "flex": "2"
      }
     },
     "3bb45a8e09dd4dcfab837abe8f9d4ad4": {
      "model_module": "@jupyter-widgets/controls",
      "model_module_version": "2.0.0",
      "model_name": "ProgressStyleModel",
      "state": {
       "description_width": ""
      }
     },
     "3bd4b54fdc4b4f80a081b85cf79b6bfc": {
      "model_module": "@jupyter-widgets/base",
      "model_module_version": "2.0.0",
      "model_name": "LayoutModel",
      "state": {}
     },
     "3bf77fa4016e4593804ed57c458d1cdb": {
      "model_module": "@jupyter-widgets/controls",
      "model_module_version": "2.0.0",
      "model_name": "HTMLStyleModel",
      "state": {
       "description_width": "",
       "font_size": null,
       "text_color": null
      }
     },
     "3c389ff2d03c417da84c2d19babf2f6d": {
      "model_module": "@jupyter-widgets/controls",
      "model_module_version": "2.0.0",
      "model_name": "HTMLModel",
      "state": {
       "layout": "IPY_MODEL_91708543a32d407d87b6b5cc1fca31d0",
       "style": "IPY_MODEL_cc19e448103a4e1c9507ee0bd9d7cfdf",
       "value": "Validate (9799 Steps) (DiceMetric=0.28811): 100%"
      }
     },
     "3c38f7fd506c4d4f8ff66c1c790d8b01": {
      "model_module": "@jupyter-widgets/controls",
      "model_module_version": "2.0.0",
      "model_name": "FloatProgressModel",
      "state": {
       "bar_style": "success",
       "layout": "IPY_MODEL_688263e790014cceaec7524159afc53e",
       "max": 40,
       "style": "IPY_MODEL_c13339f81fbb48d09bce0bce243d2e0d",
       "value": 40
      }
     },
     "3c70033d247542339c8974321899cd83": {
      "model_module": "@jupyter-widgets/controls",
      "model_module_version": "2.0.0",
      "model_name": "HTMLModel",
      "state": {
       "layout": "IPY_MODEL_c46a5e02f7774f028563c177e7318f53",
       "style": "IPY_MODEL_4187508974554e98a30bc4c7ea84dd58",
       "value": " 240/240 [03:50&lt;00:00,  1.08it/s]"
      }
     },
     "3c9f21ec70494ce7a80f079361f9c94e": {
      "model_module": "@jupyter-widgets/base",
      "model_module_version": "2.0.0",
      "model_name": "LayoutModel",
      "state": {
       "display": "inline-flex",
       "flex_flow": "row wrap",
       "width": "100%"
      }
     },
     "3d48bd0de5524e288ea40c58dd902c27": {
      "model_module": "@jupyter-widgets/base",
      "model_module_version": "2.0.0",
      "model_name": "LayoutModel",
      "state": {}
     },
     "3db3b3a7ce1c4d0a8a0f7e8567969079": {
      "model_module": "@jupyter-widgets/controls",
      "model_module_version": "2.0.0",
      "model_name": "HBoxModel",
      "state": {
       "children": [
        "IPY_MODEL_ea0154496abb44ff8b0440b0c07f550e",
        "IPY_MODEL_5b4a13ca6a35485ba03c5907a4f29b5b",
        "IPY_MODEL_897d814e1c7b42df93444100667b994e"
       ],
       "layout": "IPY_MODEL_68df6b77b10d4637b47cfd4d432c0c4b"
      }
     },
     "3ddaff3b81c94926824753b6fb51fda0": {
      "model_module": "@jupyter-widgets/base",
      "model_module_version": "2.0.0",
      "model_name": "LayoutModel",
      "state": {}
     },
     "3e761f89ceb044afaef31f506a5d9d5d": {
      "model_module": "@jupyter-widgets/controls",
      "model_module_version": "2.0.0",
      "model_name": "HBoxModel",
      "state": {
       "children": [
        "IPY_MODEL_171071ff37dc451f98ac53c8c4ee8f69",
        "IPY_MODEL_173cf4a9126c41d2a8e58559286ee9c2",
        "IPY_MODEL_5a88396d56224b30b420dee9f7a72c90"
       ],
       "layout": "IPY_MODEL_f0a6ff6dd4234e08929fc4699d650c16"
      }
     },
     "3e9d0e6be71b4205a8ba792e1e82646f": {
      "model_module": "@jupyter-widgets/base",
      "model_module_version": "2.0.0",
      "model_name": "LayoutModel",
      "state": {
       "flex": "2"
      }
     },
     "3e9e90e95e1d4d67955ae069b6cdecef": {
      "model_module": "@jupyter-widgets/base",
      "model_module_version": "2.0.0",
      "model_name": "LayoutModel",
      "state": {}
     },
     "3f12105f490240a389ad560da526643a": {
      "model_module": "@jupyter-widgets/base",
      "model_module_version": "2.0.0",
      "model_name": "LayoutModel",
      "state": {
       "flex": "2"
      }
     },
     "3f2549369fb447ef81fa3e8d9bcff803": {
      "model_module": "@jupyter-widgets/controls",
      "model_module_version": "2.0.0",
      "model_name": "HBoxModel",
      "state": {
       "children": [
        "IPY_MODEL_62f8af0df48c4a3e893018f825bbe779",
        "IPY_MODEL_522ca4c2ac5742e6a6941e38719f7c15",
        "IPY_MODEL_106f0bcab8a54122b8f9cbf549e1c7ca"
       ],
       "layout": "IPY_MODEL_b6837d950c2a4b9092df25c2c4ffd5fe"
      }
     },
     "3f932d6f977c48c9aa9ea5ee8bb4c9c3": {
      "model_module": "@jupyter-widgets/base",
      "model_module_version": "2.0.0",
      "model_name": "LayoutModel",
      "state": {
       "flex": "2"
      }
     },
     "3fe90de34e5749a1b06c1b7a2cf85d7c": {
      "model_module": "@jupyter-widgets/base",
      "model_module_version": "2.0.0",
      "model_name": "LayoutModel",
      "state": {
       "flex": "2"
      }
     },
     "400559ca7d7c4f07ac91f22017a5edcf": {
      "model_module": "@jupyter-widgets/base",
      "model_module_version": "2.0.0",
      "model_name": "LayoutModel",
      "state": {}
     },
     "4098da7f235943d0bb9324cfb8bf800c": {
      "model_module": "@jupyter-widgets/controls",
      "model_module_version": "2.0.0",
      "model_name": "HTMLModel",
      "state": {
       "layout": "IPY_MODEL_5c51107b5f1647b7918c79e9088ab9b6",
       "style": "IPY_MODEL_e0ea2f91b42b485cb0c70ce955c5f6a7",
       "value": "Validate (9599 Steps) (DiceMetric=0.28594): 100%"
      }
     },
     "40b27004068540b3a56f6eb27d916f12": {
      "model_module": "@jupyter-widgets/controls",
      "model_module_version": "2.0.0",
      "model_name": "ProgressStyleModel",
      "state": {
       "description_width": ""
      }
     },
     "4120ae8c018144c9bc106bcd3c975d9f": {
      "model_module": "@jupyter-widgets/base",
      "model_module_version": "2.0.0",
      "model_name": "LayoutModel",
      "state": {}
     },
     "4141128b07604329a236a8a5ff3a81e2": {
      "model_module": "@jupyter-widgets/base",
      "model_module_version": "2.0.0",
      "model_name": "LayoutModel",
      "state": {}
     },
     "4187508974554e98a30bc4c7ea84dd58": {
      "model_module": "@jupyter-widgets/controls",
      "model_module_version": "2.0.0",
      "model_name": "HTMLStyleModel",
      "state": {
       "description_width": "",
       "font_size": null,
       "text_color": null
      }
     },
     "419f18f38a3b449d9ea30d4dbd15c626": {
      "model_module": "@jupyter-widgets/controls",
      "model_module_version": "2.0.0",
      "model_name": "HTMLStyleModel",
      "state": {
       "description_width": "",
       "font_size": null,
       "text_color": null
      }
     },
     "4207acb9c0124954893c4568bcf3fd6b": {
      "model_module": "@jupyter-widgets/controls",
      "model_module_version": "2.0.0",
      "model_name": "HTMLModel",
      "state": {
       "layout": "IPY_MODEL_aca47128789f412ea1e2438d005b7252",
       "style": "IPY_MODEL_350892a2b3224c898c93642aad2c450d",
       "value": " 40/40 [02:34&lt;00:00,  1.94s/it]"
      }
     },
     "4226ece261364f858e0283069bdb290e": {
      "model_module": "@jupyter-widgets/controls",
      "model_module_version": "2.0.0",
      "model_name": "HTMLModel",
      "state": {
       "layout": "IPY_MODEL_90d98ec650384083ae79ea40b5bb11ba",
       "style": "IPY_MODEL_e7f338fd20014ab8be7779d19a0245b0",
       "value": "Counting pixels of each organ ...: 100%"
      }
     },
     "4231310ef0f045c0803881831eb99b78": {
      "model_module": "@jupyter-widgets/controls",
      "model_module_version": "2.0.0",
      "model_name": "HBoxModel",
      "state": {
       "children": [
        "IPY_MODEL_bbf12da24430415697c0820b0750978f",
        "IPY_MODEL_cafc64d24ba946e181e4564645ea00d6",
        "IPY_MODEL_2fefe1976de7465b9550f63ea2655711"
       ],
       "layout": "IPY_MODEL_b38e1e6c642b4ea285dff7afea8d7016"
      }
     },
     "425393b381c341cf8fe455b9d392669f": {
      "model_module": "@jupyter-widgets/base",
      "model_module_version": "2.0.0",
      "model_name": "LayoutModel",
      "state": {}
     },
     "427775f6c7a84e4696fa48ce1b5596f7": {
      "model_module": "@jupyter-widgets/controls",
      "model_module_version": "2.0.0",
      "model_name": "HTMLModel",
      "state": {
       "layout": "IPY_MODEL_b8614e75d9094de5b7a3e7349506f0dc",
       "style": "IPY_MODEL_419f18f38a3b449d9ea30d4dbd15c626",
       "value": " 40/40 [02:34&lt;00:00,  1.94s/it]"
      }
     },
     "428256e849cc4e1d83d61c31d3e9a9aa": {
      "model_module": "@jupyter-widgets/controls",
      "model_module_version": "2.0.0",
      "model_name": "HTMLModel",
      "state": {
       "layout": "IPY_MODEL_4141128b07604329a236a8a5ff3a81e2",
       "style": "IPY_MODEL_f17a1b67f31b4faba7337ef0b7feb527",
       "value": " 120/120 [09:08&lt;00:00,  1.99s/it]"
      }
     },
     "42fabdeded9d4e54ad46a054062de097": {
      "model_module": "@jupyter-widgets/controls",
      "model_module_version": "2.0.0",
      "model_name": "FloatProgressModel",
      "state": {
       "bar_style": "success",
       "layout": "IPY_MODEL_c50f867866c64f2c9c139f78502ff8a4",
       "max": 40,
       "style": "IPY_MODEL_0814d32437b74684a408a1aa5f641e64",
       "value": 40
      }
     },
     "43030942fe424c8398bcaa0b00eb280b": {
      "model_module": "@jupyter-widgets/base",
      "model_module_version": "2.0.0",
      "model_name": "LayoutModel",
      "state": {}
     },
     "431475de318044cd94e0215e017f90a6": {
      "model_module": "@jupyter-widgets/base",
      "model_module_version": "2.0.0",
      "model_name": "LayoutModel",
      "state": {
       "display": "inline-flex",
       "flex_flow": "row wrap",
       "width": "100%"
      }
     },
     "432baab8670c464dba634bd6ded2ee19": {
      "model_module": "@jupyter-widgets/controls",
      "model_module_version": "2.0.0",
      "model_name": "HTMLModel",
      "state": {
       "layout": "IPY_MODEL_3e9e90e95e1d4d67955ae069b6cdecef",
       "style": "IPY_MODEL_6edeb7472c8444d0969fd4d4c72e6458",
       "value": " 40/40 [02:34&lt;00:00,  1.93s/it]"
      }
     },
     "435eb4ce6914450f8232234e18dd4ad8": {
      "model_module": "@jupyter-widgets/controls",
      "model_module_version": "2.0.0",
      "model_name": "HBoxModel",
      "state": {
       "children": [
        "IPY_MODEL_8c586b53a9c24c4fb2b7736efa3e9ab8",
        "IPY_MODEL_31e151b8007e4dbc8b2e373e782db6bf",
        "IPY_MODEL_2699259bd2734d98a0fada59804acc61"
       ],
       "layout": "IPY_MODEL_8d16132d4b714fada1d86738ebc0b9f1"
      }
     },
     "436f9f00ef4e4cd38d779dbb0774f90b": {
      "model_module": "@jupyter-widgets/controls",
      "model_module_version": "2.0.0",
      "model_name": "HTMLModel",
      "state": {
       "layout": "IPY_MODEL_a1a6d18db66c4fdca014833da28fc171",
       "style": "IPY_MODEL_f040194c5b3045d0b0255b12b99af88c",
       "value": " 40/40 [02:36&lt;00:00,  1.94s/it]"
      }
     },
     "4480121a4b95406f85382ded4eae0b40": {
      "model_module": "@jupyter-widgets/base",
      "model_module_version": "2.0.0",
      "model_name": "LayoutModel",
      "state": {
       "display": "inline-flex",
       "flex_flow": "row wrap",
       "width": "100%"
      }
     },
     "44b3a55dfcd84ff195a5a786e29522be": {
      "model_module": "@jupyter-widgets/controls",
      "model_module_version": "2.0.0",
      "model_name": "HTMLModel",
      "state": {
       "layout": "IPY_MODEL_2ad459e0abeb4882a054d726e92907a0",
       "style": "IPY_MODEL_7c5e47ba09004a38b48fad168e0ce4c6",
       "value": " 40/40 [02:37&lt;00:00,  1.98s/it]"
      }
     },
     "44d365a4ae7a47a9befbf84caf2dd167": {
      "model_module": "@jupyter-widgets/controls",
      "model_module_version": "2.0.0",
      "model_name": "HBoxModel",
      "state": {
       "children": [
        "IPY_MODEL_026b1316a25040148963ee7234dcf8d6",
        "IPY_MODEL_37b47346c60d45ec871b8ebb43e14efc",
        "IPY_MODEL_811e2ee2691745888bb4d1c9e745d182"
       ],
       "layout": "IPY_MODEL_56e17e273ece4a68bb8278860281d5a4"
      }
     },
     "44d51000cc2449c4a4544f64a50ced08": {
      "model_module": "@jupyter-widgets/controls",
      "model_module_version": "2.0.0",
      "model_name": "HTMLModel",
      "state": {
       "layout": "IPY_MODEL_c7f5b06313134c2984fa9511b601eae7",
       "style": "IPY_MODEL_03e5d07cd67940d48dd299a5bf915d73",
       "value": "Validate (7099 Steps) (DiceMetric=0.27964): 100%"
      }
     },
     "4517211627fb46ce8e8e521ae78495ec": {
      "model_module": "@jupyter-widgets/controls",
      "model_module_version": "2.0.0",
      "model_name": "HTMLModel",
      "state": {
       "layout": "IPY_MODEL_b3e8e284fe1b4b978aaed2de7199a5ee",
       "style": "IPY_MODEL_c5d6c2d85da4428b94b5521fa87dced6",
       "value": " 40/40 [02:37&lt;00:00,  1.97s/it]"
      }
     },
     "4543e4c68a544a2c9cacf58d4440f72b": {
      "model_module": "@jupyter-widgets/base",
      "model_module_version": "2.0.0",
      "model_name": "LayoutModel",
      "state": {
       "display": "inline-flex",
       "flex_flow": "row wrap",
       "width": "100%"
      }
     },
     "45d5ec9f4ac24d00935e228665f638e6": {
      "model_module": "@jupyter-widgets/controls",
      "model_module_version": "2.0.0",
      "model_name": "HTMLStyleModel",
      "state": {
       "description_width": "",
       "font_size": null,
       "text_color": null
      }
     },
     "460f767611ff41f38c7c739262e1a184": {
      "model_module": "@jupyter-widgets/base",
      "model_module_version": "2.0.0",
      "model_name": "LayoutModel",
      "state": {}
     },
     "460f820efa9f434a97c3fea1be0e9bf7": {
      "model_module": "@jupyter-widgets/controls",
      "model_module_version": "2.0.0",
      "model_name": "HTMLStyleModel",
      "state": {
       "description_width": "",
       "font_size": null,
       "text_color": null
      }
     },
     "464237c3b35d4cc39cce64d45a9775a4": {
      "model_module": "@jupyter-widgets/controls",
      "model_module_version": "2.0.0",
      "model_name": "HTMLStyleModel",
      "state": {
       "description_width": "",
       "font_size": null,
       "text_color": null
      }
     },
     "468a1a8b219e4034b297a29a4cfbc47c": {
      "model_module": "@jupyter-widgets/controls",
      "model_module_version": "2.0.0",
      "model_name": "HBoxModel",
      "state": {
       "children": [
        "IPY_MODEL_94ebe9097dcc4771be5fb091a5fccda5",
        "IPY_MODEL_17689df0a473453ba637112ff2e94cce",
        "IPY_MODEL_d70a1c73907a4ef793727ef01bc788b4"
       ],
       "layout": "IPY_MODEL_6196bac565dd48178b510584b12a444d"
      }
     },
     "4705d25d3c2c4c5990eb53bd725f05ad": {
      "model_module": "@jupyter-widgets/base",
      "model_module_version": "2.0.0",
      "model_name": "LayoutModel",
      "state": {
       "flex": "2"
      }
     },
     "470a491ef547450bbf1bc4f8a0c6ec0c": {
      "model_module": "@jupyter-widgets/base",
      "model_module_version": "2.0.0",
      "model_name": "LayoutModel",
      "state": {}
     },
     "471d50c94a244b409eed529dd0a7398a": {
      "model_module": "@jupyter-widgets/base",
      "model_module_version": "2.0.0",
      "model_name": "LayoutModel",
      "state": {}
     },
     "474b156a4c2b490fb1d8cebd877f89f0": {
      "model_module": "@jupyter-widgets/controls",
      "model_module_version": "2.0.0",
      "model_name": "HTMLStyleModel",
      "state": {
       "description_width": "",
       "font_size": null,
       "text_color": null
      }
     },
     "47c4af86fe714660b3929a9040f3d8a5": {
      "model_module": "@jupyter-widgets/controls",
      "model_module_version": "2.0.0",
      "model_name": "HTMLStyleModel",
      "state": {
       "description_width": "",
       "font_size": null,
       "text_color": null
      }
     },
     "47d1456c5b7c4db3866b05f23eabece6": {
      "model_module": "@jupyter-widgets/controls",
      "model_module_version": "2.0.0",
      "model_name": "ProgressStyleModel",
      "state": {
       "description_width": ""
      }
     },
     "47d17b45f1bd4bb3a58be66069142274": {
      "model_module": "@jupyter-widgets/controls",
      "model_module_version": "2.0.0",
      "model_name": "HTMLStyleModel",
      "state": {
       "description_width": "",
       "font_size": null,
       "text_color": null
      }
     },
     "48295cf7d6684756990988e64099316a": {
      "model_module": "@jupyter-widgets/base",
      "model_module_version": "2.0.0",
      "model_name": "LayoutModel",
      "state": {}
     },
     "48586590927b431d8cf3703c77878b6a": {
      "model_module": "@jupyter-widgets/controls",
      "model_module_version": "2.0.0",
      "model_name": "HBoxModel",
      "state": {
       "children": [
        "IPY_MODEL_69f6e88712684136a59620beb017cb09",
        "IPY_MODEL_d41b7353c5c34a3593870eaa95404794",
        "IPY_MODEL_ae77e8ec1d9e4fc5a40ea58ba0e9aa9b"
       ],
       "layout": "IPY_MODEL_7c09261f083b499b803739918fa6c047"
      }
     },
     "486158eed58d46a2bf8482cb762daf4f": {
      "model_module": "@jupyter-widgets/controls",
      "model_module_version": "2.0.0",
      "model_name": "HTMLModel",
      "state": {
       "layout": "IPY_MODEL_c939821d4af64cc7a73083ed029553c6",
       "style": "IPY_MODEL_464237c3b35d4cc39cce64d45a9775a4",
       "value": " 40/40 [02:33&lt;00:00,  1.91s/it]"
      }
     },
     "48c30d1dca9347bdb2082246ba4dcb30": {
      "model_module": "@jupyter-widgets/controls",
      "model_module_version": "2.0.0",
      "model_name": "HTMLStyleModel",
      "state": {
       "description_width": "",
       "font_size": null,
       "text_color": null
      }
     },
     "48f3fd6a5e20452e8e2c03c5801417e6": {
      "model_module": "@jupyter-widgets/base",
      "model_module_version": "2.0.0",
      "model_name": "LayoutModel",
      "state": {}
     },
     "49e0399d065a4ea784dbedc404004d13": {
      "model_module": "@jupyter-widgets/controls",
      "model_module_version": "2.0.0",
      "model_name": "ProgressStyleModel",
      "state": {
       "description_width": ""
      }
     },
     "4a1f09d1e76a48ec9d9644aa43548f92": {
      "model_module": "@jupyter-widgets/base",
      "model_module_version": "2.0.0",
      "model_name": "LayoutModel",
      "state": {
       "flex": "2"
      }
     },
     "4a579239e24b4692b1cb11a88f510d53": {
      "model_module": "@jupyter-widgets/base",
      "model_module_version": "2.0.0",
      "model_name": "LayoutModel",
      "state": {}
     },
     "4ae4bb3bcfd84c31878542ebe42ead53": {
      "model_module": "@jupyter-widgets/base",
      "model_module_version": "2.0.0",
      "model_name": "LayoutModel",
      "state": {
       "flex": "2"
      }
     },
     "4b028ad8c04046efb6b522910dbfad3f": {
      "model_module": "@jupyter-widgets/controls",
      "model_module_version": "2.0.0",
      "model_name": "HTMLModel",
      "state": {
       "layout": "IPY_MODEL_90b4161a64b845e2b6be24c105b949c9",
       "style": "IPY_MODEL_aca39e7f4eb34df7b7b05b9fdd7604b4",
       "value": "Validate (4899 Steps) (DiceMetric=0.27056): 100%"
      }
     },
     "4b10ba268f07476e9ca3d33f8506813a": {
      "model_module": "@jupyter-widgets/controls",
      "model_module_version": "2.0.0",
      "model_name": "HTMLStyleModel",
      "state": {
       "description_width": "",
       "font_size": null,
       "text_color": null
      }
     },
     "4b1a6580b8f74839a62f51477b2aed18": {
      "model_module": "@jupyter-widgets/controls",
      "model_module_version": "2.0.0",
      "model_name": "HBoxModel",
      "state": {
       "children": [
        "IPY_MODEL_da792641ccc4403084ce3a9cd679a092",
        "IPY_MODEL_bb3daf9011544042a74154a988cd1db2",
        "IPY_MODEL_0dfffdfba11b4f2eab6d73d5ebf57dc8"
       ],
       "layout": "IPY_MODEL_e0eec2c1a819438388e98b75309ef61e"
      }
     },
     "4b5b4e909aab4faa8001893f5a6f72a6": {
      "model_module": "@jupyter-widgets/controls",
      "model_module_version": "2.0.0",
      "model_name": "HBoxModel",
      "state": {
       "children": [
        "IPY_MODEL_7d869991de9d41259c1bd56a0edb152a",
        "IPY_MODEL_cee04f16b2394338b36f657207105498",
        "IPY_MODEL_94b7e5a4adfe4fd29e918184ac0fa824"
       ],
       "layout": "IPY_MODEL_195b24fd9e83460b99944334c6a0b046"
      }
     },
     "4bbc738ea66e4934b288adaa3022f02e": {
      "model_module": "@jupyter-widgets/controls",
      "model_module_version": "2.0.0",
      "model_name": "HTMLModel",
      "state": {
       "layout": "IPY_MODEL_fd0878694f9e4be8ad4fac4f59c5accf",
       "style": "IPY_MODEL_ce0526e12f274fe9a15d071bd4025e54",
       "value": "Validate (7799 Steps) (DiceMetric=0.28003): 100%"
      }
     },
     "4bbeee1e06b34239aa8dc3ccfd86e4c9": {
      "model_module": "@jupyter-widgets/base",
      "model_module_version": "2.0.0",
      "model_name": "LayoutModel",
      "state": {
       "flex": "2"
      }
     },
     "4bf4018484f1475d9239f251d807ff7c": {
      "model_module": "@jupyter-widgets/controls",
      "model_module_version": "2.0.0",
      "model_name": "HTMLModel",
      "state": {
       "layout": "IPY_MODEL_a0e2752b4e194f0490132fce921e251a",
       "style": "IPY_MODEL_dfce9006d5f141fa83b20cef24ac6f67",
       "value": "Validate (8899 Steps) (DiceMetric=0.28367): 100%"
      }
     },
     "4c1d3a2724ad4b328209f4d0806dba75": {
      "model_module": "@jupyter-widgets/controls",
      "model_module_version": "2.0.0",
      "model_name": "HBoxModel",
      "state": {
       "children": [
        "IPY_MODEL_9f8387403a6941cca48fd7cd66b75bc6",
        "IPY_MODEL_a78a0764263c4f75bae46513150026e0",
        "IPY_MODEL_71432f05f8eb498ba8b3d450b8aa78fe"
       ],
       "layout": "IPY_MODEL_d61dafa8e5fd424fb65e8886dfb6d537"
      }
     },
     "4c90746a1f774d16bbdeb4393624739c": {
      "model_module": "@jupyter-widgets/controls",
      "model_module_version": "2.0.0",
      "model_name": "HTMLModel",
      "state": {
       "layout": "IPY_MODEL_95714a3d163540f3a2491cbfeafd5ff1",
       "style": "IPY_MODEL_6af72b75885c4d5188ef549efab22dbb",
       "value": "Validate (3299 Steps) (DiceMetric=0.26598): 100%"
      }
     },
     "4cb7386b89fb47c69f407f754e355a1c": {
      "model_module": "@jupyter-widgets/controls",
      "model_module_version": "2.0.0",
      "model_name": "HTMLModel",
      "state": {
       "layout": "IPY_MODEL_425393b381c341cf8fe455b9d392669f",
       "style": "IPY_MODEL_ef401b39c3804126a3868e5ced0e681b",
       "value": "Validate (2899 Steps) (DiceMetric=0.26395): 100%"
      }
     },
     "4cdb9011aaac4ccd90607f9b0e4418c3": {
      "model_module": "@jupyter-widgets/base",
      "model_module_version": "2.0.0",
      "model_name": "LayoutModel",
      "state": {}
     },
     "4d69d5d008ae4dd2a62ca16ced6fc754": {
      "model_module": "@jupyter-widgets/base",
      "model_module_version": "2.0.0",
      "model_name": "LayoutModel",
      "state": {}
     },
     "4dccee6d3c91464d9dba7518018a17d8": {
      "model_module": "@jupyter-widgets/controls",
      "model_module_version": "2.0.0",
      "model_name": "HBoxModel",
      "state": {
       "children": [
        "IPY_MODEL_2f07e944bc344aab9a49d1ada957dc48",
        "IPY_MODEL_9a4697df5385496babacddc3393e1665",
        "IPY_MODEL_d830ddcee53d42c786a23302350a926e"
       ],
       "layout": "IPY_MODEL_9f3e76760add4d61986e529ee6e51217"
      }
     },
     "4dd8cd29afe6422d9550479ec446485b": {
      "model_module": "@jupyter-widgets/controls",
      "model_module_version": "2.0.0",
      "model_name": "HTMLModel",
      "state": {
       "layout": "IPY_MODEL_4cdb9011aaac4ccd90607f9b0e4418c3",
       "style": "IPY_MODEL_47d17b45f1bd4bb3a58be66069142274",
       "value": " 40/40 [02:34&lt;00:00,  1.91s/it]"
      }
     },
     "4decaa1e9ccb4c0aac745f678052a80c": {
      "model_module": "@jupyter-widgets/controls",
      "model_module_version": "2.0.0",
      "model_name": "HTMLModel",
      "state": {
       "layout": "IPY_MODEL_2f01511e3135498381ff1f719a2c65fa",
       "style": "IPY_MODEL_460f820efa9f434a97c3fea1be0e9bf7",
       "value": " 40/40 [02:36&lt;00:00,  1.98s/it]"
      }
     },
     "4e151c6f6553467ca028470eb9fe91a5": {
      "model_module": "@jupyter-widgets/base",
      "model_module_version": "2.0.0",
      "model_name": "LayoutModel",
      "state": {}
     },
     "4e3ca8e3ad904809b380e2a5edb85393": {
      "model_module": "@jupyter-widgets/base",
      "model_module_version": "2.0.0",
      "model_name": "LayoutModel",
      "state": {
       "display": "inline-flex",
       "flex_flow": "row wrap",
       "width": "100%"
      }
     },
     "4e9a8ba398694d27ba46181235a84538": {
      "model_module": "@jupyter-widgets/base",
      "model_module_version": "2.0.0",
      "model_name": "LayoutModel",
      "state": {
       "flex": "2"
      }
     },
     "4eda31e5f9e64a0a80850a3421eb14e3": {
      "model_module": "@jupyter-widgets/controls",
      "model_module_version": "2.0.0",
      "model_name": "FloatProgressModel",
      "state": {
       "bar_style": "success",
       "layout": "IPY_MODEL_d086523f06dc4fa8a123b6ffd9a876c2",
       "max": 40,
       "style": "IPY_MODEL_599e76989fe340f4be8aa6a3f0e19a83",
       "value": 40
      }
     },
     "4edee852900e47ee9bfa4501981ce13f": {
      "model_module": "@jupyter-widgets/controls",
      "model_module_version": "2.0.0",
      "model_name": "ProgressStyleModel",
      "state": {
       "description_width": ""
      }
     },
     "4f352068b860436c845eac3d4e40ce62": {
      "model_module": "@jupyter-widgets/controls",
      "model_module_version": "2.0.0",
      "model_name": "FloatProgressModel",
      "state": {
       "bar_style": "success",
       "layout": "IPY_MODEL_3f932d6f977c48c9aa9ea5ee8bb4c9c3",
       "max": 40,
       "style": "IPY_MODEL_0fb282af156642d490b996af97337211",
       "value": 40
      }
     },
     "4f36408713f84e8eae7ca34354b578c4": {
      "model_module": "@jupyter-widgets/controls",
      "model_module_version": "2.0.0",
      "model_name": "HBoxModel",
      "state": {
       "children": [
        "IPY_MODEL_f730d982d37946b790e8a34a4a041d1c",
        "IPY_MODEL_1be06073bf4e4b7cbc3ef9f289451119",
        "IPY_MODEL_f21c2d2d5f764969b07766902bece6b7"
       ],
       "layout": "IPY_MODEL_9f1470a0108d48918482a2222110dcb0"
      }
     },
     "4f3f3e660a334bb08d45bc494549466f": {
      "model_module": "@jupyter-widgets/base",
      "model_module_version": "2.0.0",
      "model_name": "LayoutModel",
      "state": {
       "flex": "2"
      }
     },
     "4f49357054894570bde6a6c0d5890865": {
      "model_module": "@jupyter-widgets/base",
      "model_module_version": "2.0.0",
      "model_name": "LayoutModel",
      "state": {
       "flex": "2"
      }
     },
     "4f63d458ed5641bc81bdb81447f18942": {
      "model_module": "@jupyter-widgets/controls",
      "model_module_version": "2.0.0",
      "model_name": "FloatProgressModel",
      "state": {
       "bar_style": "success",
       "layout": "IPY_MODEL_7670cda153a1446ea6efbae0af8e872a",
       "max": 40,
       "style": "IPY_MODEL_ff63f7136be447cba2b428cc8a9fa92d",
       "value": 40
      }
     },
     "4f644c075b0348ecb7b7b8782ce8f401": {
      "model_module": "@jupyter-widgets/controls",
      "model_module_version": "2.0.0",
      "model_name": "FloatProgressModel",
      "state": {
       "bar_style": "success",
       "layout": "IPY_MODEL_cdec2391c612475fabe537631a3d772a",
       "max": 40,
       "style": "IPY_MODEL_cd1c363945ae4f0ebdcf5d44c4cc17fc",
       "value": 40
      }
     },
     "4f9b33419aeb49b0938240e69d98ec41": {
      "model_module": "@jupyter-widgets/controls",
      "model_module_version": "2.0.0",
      "model_name": "ProgressStyleModel",
      "state": {
       "description_width": ""
      }
     },
     "4fa88c1351b2495bb13bac183b84e185": {
      "model_module": "@jupyter-widgets/base",
      "model_module_version": "2.0.0",
      "model_name": "LayoutModel",
      "state": {}
     },
     "5010317a71864f8eae0f71aa3e92c773": {
      "model_module": "@jupyter-widgets/controls",
      "model_module_version": "2.0.0",
      "model_name": "HTMLModel",
      "state": {
       "layout": "IPY_MODEL_ff826c4725954ac78be74d015273d601",
       "style": "IPY_MODEL_9071d628fde84a5ba581017f49d59003",
       "value": "Validate (1499 Steps) (DiceMetric=0.26331): 100%"
      }
     },
     "501dac8ae3534e359c2c90ffa0138d6b": {
      "model_module": "@jupyter-widgets/base",
      "model_module_version": "2.0.0",
      "model_name": "LayoutModel",
      "state": {}
     },
     "50428843f637406b8613fb8a2647df52": {
      "model_module": "@jupyter-widgets/base",
      "model_module_version": "2.0.0",
      "model_name": "LayoutModel",
      "state": {
       "display": "inline-flex",
       "flex_flow": "row wrap",
       "width": "100%"
      }
     },
     "506cd4cdb4a148a6a105ece6f5e087f6": {
      "model_module": "@jupyter-widgets/controls",
      "model_module_version": "2.0.0",
      "model_name": "HTMLStyleModel",
      "state": {
       "description_width": "",
       "font_size": null,
       "text_color": null
      }
     },
     "51081173e5f543f0bb65ddc8625c827b": {
      "model_module": "@jupyter-widgets/base",
      "model_module_version": "2.0.0",
      "model_name": "LayoutModel",
      "state": {}
     },
     "5134fa0ca97a473f8b79ae6b9231226c": {
      "model_module": "@jupyter-widgets/base",
      "model_module_version": "2.0.0",
      "model_name": "LayoutModel",
      "state": {}
     },
     "5148a704d3e5443f86677d13db7b895d": {
      "model_module": "@jupyter-widgets/controls",
      "model_module_version": "2.0.0",
      "model_name": "FloatProgressModel",
      "state": {
       "bar_style": "success",
       "layout": "IPY_MODEL_5134fa0ca97a473f8b79ae6b9231226c",
       "max": 240,
       "style": "IPY_MODEL_55d7bf04f24c4153a0ed749e32796a5b",
       "value": 240
      }
     },
     "5153b1516caf45a7910f6ea056ca36cc": {
      "model_module": "@jupyter-widgets/controls",
      "model_module_version": "2.0.0",
      "model_name": "HBoxModel",
      "state": {
       "children": [
        "IPY_MODEL_3c389ff2d03c417da84c2d19babf2f6d",
        "IPY_MODEL_ac365f8ab84e426091176f8c67ba626e",
        "IPY_MODEL_c6aee9e9b5234f4596eb6095287e6f7a"
       ],
       "layout": "IPY_MODEL_71c530a15a144e64a34a1e15848f73a8"
      }
     },
     "518eb806b0064facb849e51453ee4da1": {
      "model_module": "@jupyter-widgets/base",
      "model_module_version": "2.0.0",
      "model_name": "LayoutModel",
      "state": {
       "display": "inline-flex",
       "flex_flow": "row wrap",
       "width": "100%"
      }
     },
     "51bb684864034645a259d847f82e6edf": {
      "model_module": "@jupyter-widgets/controls",
      "model_module_version": "2.0.0",
      "model_name": "ProgressStyleModel",
      "state": {
       "description_width": ""
      }
     },
     "51c6bb03b02a4e8993bd6afd292319fb": {
      "model_module": "@jupyter-widgets/controls",
      "model_module_version": "2.0.0",
      "model_name": "HBoxModel",
      "state": {
       "children": [
        "IPY_MODEL_310c0a1e8dcb49389c3418c8f0b1f73b",
        "IPY_MODEL_4f352068b860436c845eac3d4e40ce62",
        "IPY_MODEL_436f9f00ef4e4cd38d779dbb0774f90b"
       ],
       "layout": "IPY_MODEL_1709bef8a51f42ac832fc61ce1406e7b"
      }
     },
     "51ed4173488d482887659d291dfb48c4": {
      "model_module": "@jupyter-widgets/controls",
      "model_module_version": "2.0.0",
      "model_name": "HTMLModel",
      "state": {
       "layout": "IPY_MODEL_73818c2f61844aecb0b55f50b67f2c2c",
       "style": "IPY_MODEL_eff96158bbfc4c8cba6f6d363bf2af78",
       "value": "Validate (4099 Steps) (DiceMetric=0.26892): 100%"
      }
     },
     "51f47603ecc949d590aeb35cca0b46e6": {
      "model_module": "@jupyter-widgets/controls",
      "model_module_version": "2.0.0",
      "model_name": "HBoxModel",
      "state": {
       "children": [
        "IPY_MODEL_6eb5ffb1b77745bebb6e98c120107d0d",
        "IPY_MODEL_1ea8e4f62e3943cd907550e5305798e6",
        "IPY_MODEL_3075dc4f95a3414d9dc0409102b0d384"
       ],
       "layout": "IPY_MODEL_27ec2045016441af9c7f62d7dbc94f21"
      }
     },
     "520df289715a458494539c5c5029755a": {
      "model_module": "@jupyter-widgets/base",
      "model_module_version": "2.0.0",
      "model_name": "LayoutModel",
      "state": {}
     },
     "522ca4c2ac5742e6a6941e38719f7c15": {
      "model_module": "@jupyter-widgets/controls",
      "model_module_version": "2.0.0",
      "model_name": "FloatProgressModel",
      "state": {
       "bar_style": "success",
       "layout": "IPY_MODEL_4f49357054894570bde6a6c0d5890865",
       "max": 40,
       "style": "IPY_MODEL_7989759d4a75453b8bfafb59bdebf13a",
       "value": 40
      }
     },
     "5258cb47e7ea4d5495fe62fffb94946f": {
      "model_module": "@jupyter-widgets/controls",
      "model_module_version": "2.0.0",
      "model_name": "ProgressStyleModel",
      "state": {
       "description_width": ""
      }
     },
     "52a9b94760114434871019d57e0b428a": {
      "model_module": "@jupyter-widgets/controls",
      "model_module_version": "2.0.0",
      "model_name": "HTMLStyleModel",
      "state": {
       "description_width": "",
       "font_size": null,
       "text_color": null
      }
     },
     "52d1f7cefdc340739c8b0c76be3f2f55": {
      "model_module": "@jupyter-widgets/controls",
      "model_module_version": "2.0.0",
      "model_name": "HTMLModel",
      "state": {
       "layout": "IPY_MODEL_b499119d40e74ceab45889acf111d490",
       "style": "IPY_MODEL_25bb36a47d9b46c58ef615a2f3e3b51e",
       "value": " 40/40 [02:33&lt;00:00,  1.93s/it]"
      }
     },
     "52eac6051af7408faa9defb15ecb2210": {
      "model_module": "@jupyter-widgets/controls",
      "model_module_version": "2.0.0",
      "model_name": "FloatProgressModel",
      "state": {
       "bar_style": "success",
       "layout": "IPY_MODEL_3a85b2abf91d4217873019ae90167d5a",
       "max": 40,
       "style": "IPY_MODEL_badcbe2d341e425d944d2b573bb2018e",
       "value": 40
      }
     },
     "5320e295090f46dba2e800dc578f3ad5": {
      "model_module": "@jupyter-widgets/controls",
      "model_module_version": "2.0.0",
      "model_name": "HTMLModel",
      "state": {
       "layout": "IPY_MODEL_fec95f1f0f4a4bc4bc97b21055f6c368",
       "style": "IPY_MODEL_228a5f49f65e42bb902188c8563a723b",
       "value": " 40/40 [02:34&lt;00:00,  1.92s/it]"
      }
     },
     "53bb8f4ad6fb45e8ae80159843fbd56e": {
      "model_module": "@jupyter-widgets/controls",
      "model_module_version": "2.0.0",
      "model_name": "FloatProgressModel",
      "state": {
       "bar_style": "success",
       "layout": "IPY_MODEL_ddd076b6c0bb44efb2edd92a7d108818",
       "max": 40,
       "style": "IPY_MODEL_5e9b437bf88c4a328cf2649733fca42f",
       "value": 40
      }
     },
     "541643f6d64d4f32b302332ef5a6f13a": {
      "model_module": "@jupyter-widgets/controls",
      "model_module_version": "2.0.0",
      "model_name": "HBoxModel",
      "state": {
       "children": [
        "IPY_MODEL_b5da8b6c79164984ba57836ad01d06ba",
        "IPY_MODEL_99771c4e62dc44ba8b51103f32212c4a",
        "IPY_MODEL_a0e045a34e424621b0169dc8da7c713a"
       ],
       "layout": "IPY_MODEL_5d74665c0af546f68a9736fabe525cec"
      }
     },
     "542505cc6c2944c09b2d98e2a7c242ac": {
      "model_module": "@jupyter-widgets/controls",
      "model_module_version": "2.0.0",
      "model_name": "HTMLStyleModel",
      "state": {
       "description_width": "",
       "font_size": null,
       "text_color": null
      }
     },
     "545a14f0e17c4a668b52f11e95b30905": {
      "model_module": "@jupyter-widgets/controls",
      "model_module_version": "2.0.0",
      "model_name": "ProgressStyleModel",
      "state": {
       "description_width": ""
      }
     },
     "548a61606f7a4a9191a9ec051d41ebac": {
      "model_module": "@jupyter-widgets/controls",
      "model_module_version": "2.0.0",
      "model_name": "HTMLStyleModel",
      "state": {
       "description_width": "",
       "font_size": null,
       "text_color": null
      }
     },
     "54a6d429fe5c4cada4378248a0536540": {
      "model_module": "@jupyter-widgets/controls",
      "model_module_version": "2.0.0",
      "model_name": "HTMLStyleModel",
      "state": {
       "description_width": "",
       "font_size": null,
       "text_color": null
      }
     },
     "54da324a38f84044a82055a765885b14": {
      "model_module": "@jupyter-widgets/controls",
      "model_module_version": "2.0.0",
      "model_name": "HTMLStyleModel",
      "state": {
       "description_width": "",
       "font_size": null,
       "text_color": null
      }
     },
     "54fd690eea4b4727ad104dd722cc35ff": {
      "model_module": "@jupyter-widgets/base",
      "model_module_version": "2.0.0",
      "model_name": "LayoutModel",
      "state": {}
     },
     "55416df1ab664639996c356d24ad9266": {
      "model_module": "@jupyter-widgets/controls",
      "model_module_version": "2.0.0",
      "model_name": "HBoxModel",
      "state": {
       "children": [
        "IPY_MODEL_6289adc843424fc4bb4831158e1baf29",
        "IPY_MODEL_9f8c2e4a30294d1aa14c9f5e805eb1a6",
        "IPY_MODEL_139adad6ac664a5a94ddf5f3b1dfa317"
       ],
       "layout": "IPY_MODEL_a8e516f849564a7891dda48aa3716882"
      }
     },
     "555f13fe82ba4c728cff14dfd28ee5df": {
      "model_module": "@jupyter-widgets/base",
      "model_module_version": "2.0.0",
      "model_name": "LayoutModel",
      "state": {}
     },
     "559252f34bd5412b8b1e8b8e7209f456": {
      "model_module": "@jupyter-widgets/controls",
      "model_module_version": "2.0.0",
      "model_name": "HBoxModel",
      "state": {
       "children": [
        "IPY_MODEL_6d62eea0f0494512a8005670a03f980f",
        "IPY_MODEL_59f1c25b760f4c919085afe6bb65a1ff",
        "IPY_MODEL_1bfb7ad51ddd4a7c8b054f477dc04154"
       ],
       "layout": "IPY_MODEL_31f50c10e39946acbc14b4d7d3e6b1c7"
      }
     },
     "55d0d8dabc664695bab45046c8fa3667": {
      "model_module": "@jupyter-widgets/controls",
      "model_module_version": "2.0.0",
      "model_name": "HTMLStyleModel",
      "state": {
       "description_width": "",
       "font_size": null,
       "text_color": null
      }
     },
     "55d7bf04f24c4153a0ed749e32796a5b": {
      "model_module": "@jupyter-widgets/controls",
      "model_module_version": "2.0.0",
      "model_name": "ProgressStyleModel",
      "state": {
       "description_width": ""
      }
     },
     "55dc5bbbbf0b41fca654306b79cfb1e2": {
      "model_module": "@jupyter-widgets/controls",
      "model_module_version": "2.0.0",
      "model_name": "HTMLModel",
      "state": {
       "layout": "IPY_MODEL_deb4589ccba944c7a61c954d8a959184",
       "style": "IPY_MODEL_0c0410a03ffd4f299ab751c57bcf1624",
       "value": "Validate (3699 Steps) (DiceMetric=0.26614): 100%"
      }
     },
     "56542cb4484c4fe296acc11ebfd7d6f6": {
      "model_module": "@jupyter-widgets/controls",
      "model_module_version": "2.0.0",
      "model_name": "HTMLModel",
      "state": {
       "layout": "IPY_MODEL_4d69d5d008ae4dd2a62ca16ced6fc754",
       "style": "IPY_MODEL_300e07de54b9463db837b8d0d28755c0",
       "value": "Validate (7999 Steps) (DiceMetric=0.28141): 100%"
      }
     },
     "56dcc4a9fa1048eca7e4fdd93d7d2f6f": {
      "model_module": "@jupyter-widgets/controls",
      "model_module_version": "2.0.0",
      "model_name": "HTMLModel",
      "state": {
       "layout": "IPY_MODEL_d5faa1a1a97f42699db39b236029d178",
       "style": "IPY_MODEL_34af63b44d534943b2abba61bb30e8ac",
       "value": " 40/40 [02:34&lt;00:00,  1.94s/it]"
      }
     },
     "56e17e273ece4a68bb8278860281d5a4": {
      "model_module": "@jupyter-widgets/base",
      "model_module_version": "2.0.0",
      "model_name": "LayoutModel",
      "state": {
       "display": "inline-flex",
       "flex_flow": "row wrap",
       "width": "100%"
      }
     },
     "57a4328e77234af8be63d954fb3b8065": {
      "model_module": "@jupyter-widgets/base",
      "model_module_version": "2.0.0",
      "model_name": "LayoutModel",
      "state": {
       "flex": "2"
      }
     },
     "58069db60cf24ae6a14469383d2bd6b2": {
      "model_module": "@jupyter-widgets/controls",
      "model_module_version": "2.0.0",
      "model_name": "HTMLStyleModel",
      "state": {
       "description_width": "",
       "font_size": null,
       "text_color": null
      }
     },
     "58645dd4c50c42a382eef3d6d21e34a8": {
      "model_module": "@jupyter-widgets/controls",
      "model_module_version": "2.0.0",
      "model_name": "HTMLStyleModel",
      "state": {
       "description_width": "",
       "font_size": null,
       "text_color": null
      }
     },
     "58850280e8154f8cbcb12e00b050b275": {
      "model_module": "@jupyter-widgets/controls",
      "model_module_version": "2.0.0",
      "model_name": "FloatProgressModel",
      "state": {
       "bar_style": "success",
       "layout": "IPY_MODEL_0ad6089b93794827aa3a38afcbb95eb3",
       "max": 40,
       "style": "IPY_MODEL_932d5320740e4fe5b947170a26334403",
       "value": 40
      }
     },
     "591e81ca800545e9b20920e6fa2abdcf": {
      "model_module": "@jupyter-widgets/controls",
      "model_module_version": "2.0.0",
      "model_name": "ProgressStyleModel",
      "state": {
       "description_width": ""
      }
     },
     "599e76989fe340f4be8aa6a3f0e19a83": {
      "model_module": "@jupyter-widgets/controls",
      "model_module_version": "2.0.0",
      "model_name": "ProgressStyleModel",
      "state": {
       "description_width": ""
      }
     },
     "59e9692845fe45dfbf1ef0cb4bfb457d": {
      "model_module": "@jupyter-widgets/base",
      "model_module_version": "2.0.0",
      "model_name": "LayoutModel",
      "state": {}
     },
     "59f1c25b760f4c919085afe6bb65a1ff": {
      "model_module": "@jupyter-widgets/controls",
      "model_module_version": "2.0.0",
      "model_name": "FloatProgressModel",
      "state": {
       "bar_style": "success",
       "layout": "IPY_MODEL_fa767137f53b40f5bc7dbc6a26929c15",
       "max": 40,
       "style": "IPY_MODEL_7dc1ed556a654369a9ea87df492ff29b",
       "value": 40
      }
     },
     "5a846d774b9c4ebf974a8cce6500baa1": {
      "model_module": "@jupyter-widgets/controls",
      "model_module_version": "2.0.0",
      "model_name": "FloatProgressModel",
      "state": {
       "bar_style": "success",
       "layout": "IPY_MODEL_99e0c67e6883412e98ae99f8d5b19865",
       "max": 40,
       "style": "IPY_MODEL_81d0fa403f9d47589a7030c22b4b9108",
       "value": 40
      }
     },
     "5a88396d56224b30b420dee9f7a72c90": {
      "model_module": "@jupyter-widgets/controls",
      "model_module_version": "2.0.0",
      "model_name": "HTMLModel",
      "state": {
       "layout": "IPY_MODEL_ddb1b28efd074a7c8baa59b4f49c29d9",
       "style": "IPY_MODEL_81853c02fe324e43bff54f74a97f38ec",
       "value": " 40/40 [02:33&lt;00:00,  1.91s/it]"
      }
     },
     "5a9f0a2daf7743559bef180869c7a1da": {
      "model_module": "@jupyter-widgets/controls",
      "model_module_version": "2.0.0",
      "model_name": "HTMLStyleModel",
      "state": {
       "description_width": "",
       "font_size": null,
       "text_color": null
      }
     },
     "5afc628c78db4bb98fa6e82c17e48af7": {
      "model_module": "@jupyter-widgets/controls",
      "model_module_version": "2.0.0",
      "model_name": "HTMLStyleModel",
      "state": {
       "description_width": "",
       "font_size": null,
       "text_color": null
      }
     },
     "5b35699c1d204fdc9c445bda7732be90": {
      "model_module": "@jupyter-widgets/controls",
      "model_module_version": "2.0.0",
      "model_name": "FloatProgressModel",
      "state": {
       "bar_style": "success",
       "layout": "IPY_MODEL_147e1a735ea1414db01e216d95a32d02",
       "max": 40,
       "style": "IPY_MODEL_f0a099cdf6934c7d884f9d157d4186ca",
       "value": 40
      }
     },
     "5b4a13ca6a35485ba03c5907a4f29b5b": {
      "model_module": "@jupyter-widgets/controls",
      "model_module_version": "2.0.0",
      "model_name": "FloatProgressModel",
      "state": {
       "bar_style": "success",
       "layout": "IPY_MODEL_13139222b2774083abd2870f91a367ef",
       "max": 40,
       "style": "IPY_MODEL_695364e2480c49f48ebe0ebc94528e75",
       "value": 40
      }
     },
     "5b5c25348af84f78a3d61276857bbb11": {
      "model_module": "@jupyter-widgets/controls",
      "model_module_version": "2.0.0",
      "model_name": "HTMLModel",
      "state": {
       "layout": "IPY_MODEL_0aaf19a2bd7c40079b8e5e1ef2318752",
       "style": "IPY_MODEL_6029e34b18ee4138bf2388bac059a79d",
       "value": "Validate (9199 Steps) (DiceMetric=0.28386): 100%"
      }
     },
     "5b8dd969f76542c19ea7c4717db34b5b": {
      "model_module": "@jupyter-widgets/controls",
      "model_module_version": "2.0.0",
      "model_name": "HBoxModel",
      "state": {
       "children": [
        "IPY_MODEL_56542cb4484c4fe296acc11ebfd7d6f6",
        "IPY_MODEL_3c38f7fd506c4d4f8ff66c1c790d8b01",
        "IPY_MODEL_108e3790191640efb7f241fb5db0a86d"
       ],
       "layout": "IPY_MODEL_c9223a4e57794967bf3dbea2eaf6a822"
      }
     },
     "5ba88e9762654079b23416083c05706d": {
      "model_module": "@jupyter-widgets/base",
      "model_module_version": "2.0.0",
      "model_name": "LayoutModel",
      "state": {}
     },
     "5bcb0b9ca01043a2b1d4b33e74d9b440": {
      "model_module": "@jupyter-widgets/controls",
      "model_module_version": "2.0.0",
      "model_name": "HTMLModel",
      "state": {
       "layout": "IPY_MODEL_5ba88e9762654079b23416083c05706d",
       "style": "IPY_MODEL_03819e3c678d4e7da7c7bd7027bb94cb",
       "value": "Validate (699 Steps) (DiceMetric=0.25189): 100%"
      }
     },
     "5c11824b7b934899a83d410e2669e792": {
      "model_module": "@jupyter-widgets/controls",
      "model_module_version": "2.0.0",
      "model_name": "HTMLStyleModel",
      "state": {
       "description_width": "",
       "font_size": null,
       "text_color": null
      }
     },
     "5c2a4a528d9741ce81218bb3b947862b": {
      "model_module": "@jupyter-widgets/controls",
      "model_module_version": "2.0.0",
      "model_name": "HTMLStyleModel",
      "state": {
       "description_width": "",
       "font_size": null,
       "text_color": null
      }
     },
     "5c51107b5f1647b7918c79e9088ab9b6": {
      "model_module": "@jupyter-widgets/base",
      "model_module_version": "2.0.0",
      "model_name": "LayoutModel",
      "state": {}
     },
     "5d0abd968df04d5c947d073135542090": {
      "model_module": "@jupyter-widgets/controls",
      "model_module_version": "2.0.0",
      "model_name": "HBoxModel",
      "state": {
       "children": [
        "IPY_MODEL_8f4098a21eb7442ea324d8cb71ba5c5f",
        "IPY_MODEL_9b8ae3881fb449649d92ffdcc1180962",
        "IPY_MODEL_ef2e24bf9361476397161e0a3f5c22c6"
       ],
       "layout": "IPY_MODEL_f14956d4a93242a8aa5b81f3ae065e25"
      }
     },
     "5d2d6ceda5ea410ea721c75d464d2d7b": {
      "model_module": "@jupyter-widgets/base",
      "model_module_version": "2.0.0",
      "model_name": "LayoutModel",
      "state": {
       "flex": "2"
      }
     },
     "5d30ccec8f1e4a60b9284ea2be6273b2": {
      "model_module": "@jupyter-widgets/controls",
      "model_module_version": "2.0.0",
      "model_name": "HTMLModel",
      "state": {
       "layout": "IPY_MODEL_9f9354cac083406dabcd4fd4a35d4bed",
       "style": "IPY_MODEL_88757d91788f417cb865b5828ac25709",
       "value": " 40/40 [02:34&lt;00:00,  1.92s/it]"
      }
     },
     "5d4bc8eb90d847139a2de841a7954211": {
      "model_module": "@jupyter-widgets/controls",
      "model_module_version": "2.0.0",
      "model_name": "ProgressStyleModel",
      "state": {
       "description_width": ""
      }
     },
     "5d74665c0af546f68a9736fabe525cec": {
      "model_module": "@jupyter-widgets/base",
      "model_module_version": "2.0.0",
      "model_name": "LayoutModel",
      "state": {
       "display": "inline-flex",
       "flex_flow": "row wrap",
       "width": "100%"
      }
     },
     "5d931b960bc24bdeac1c2dc86a04a7ea": {
      "model_module": "@jupyter-widgets/controls",
      "model_module_version": "2.0.0",
      "model_name": "HTMLModel",
      "state": {
       "layout": "IPY_MODEL_adc92ec396474c49ae54c834dfd37f92",
       "style": "IPY_MODEL_87045d6fabc548d6a5be5721efd546ec",
       "value": " 40/40 [02:34&lt;00:00,  1.91s/it]"
      }
     },
     "5db0d60223ee4d0e8ee71e53f8c17672": {
      "model_module": "@jupyter-widgets/base",
      "model_module_version": "2.0.0",
      "model_name": "LayoutModel",
      "state": {
       "display": "inline-flex",
       "flex_flow": "row wrap",
       "width": "100%"
      }
     },
     "5dbf2bbd32ad44bebf81982a55cfcbcf": {
      "model_module": "@jupyter-widgets/base",
      "model_module_version": "2.0.0",
      "model_name": "LayoutModel",
      "state": {}
     },
     "5e099735140d412eafae1f6f6079b269": {
      "model_module": "@jupyter-widgets/base",
      "model_module_version": "2.0.0",
      "model_name": "LayoutModel",
      "state": {}
     },
     "5e174660d93e409c9880846333690ed2": {
      "model_module": "@jupyter-widgets/controls",
      "model_module_version": "2.0.0",
      "model_name": "HTMLStyleModel",
      "state": {
       "description_width": "",
       "font_size": null,
       "text_color": null
      }
     },
     "5e19e2b36c6a45c585339a2358f15c7c": {
      "model_module": "@jupyter-widgets/base",
      "model_module_version": "2.0.0",
      "model_name": "LayoutModel",
      "state": {}
     },
     "5e9b437bf88c4a328cf2649733fca42f": {
      "model_module": "@jupyter-widgets/controls",
      "model_module_version": "2.0.0",
      "model_name": "ProgressStyleModel",
      "state": {
       "description_width": ""
      }
     },
     "5ec8fca651a7459f9f16d59b622b960f": {
      "model_module": "@jupyter-widgets/base",
      "model_module_version": "2.0.0",
      "model_name": "LayoutModel",
      "state": {
       "flex": "2"
      }
     },
     "5eedad1bd9c34f4887a208e020198f23": {
      "model_module": "@jupyter-widgets/controls",
      "model_module_version": "2.0.0",
      "model_name": "FloatProgressModel",
      "state": {
       "bar_style": "success",
       "layout": "IPY_MODEL_1e563b6742ef4b1e837f561ac18ee327",
       "max": 40,
       "style": "IPY_MODEL_91887a00be4d442a95806c00cb848009",
       "value": 40
      }
     },
     "5f65a18abc274c4185d73b3668e57247": {
      "model_module": "@jupyter-widgets/base",
      "model_module_version": "2.0.0",
      "model_name": "LayoutModel",
      "state": {
       "display": "inline-flex",
       "flex_flow": "row wrap",
       "width": "100%"
      }
     },
     "5fca8891660e4fdd94f69b3d28d7b96f": {
      "model_module": "@jupyter-widgets/controls",
      "model_module_version": "2.0.0",
      "model_name": "HTMLStyleModel",
      "state": {
       "description_width": "",
       "font_size": null,
       "text_color": null
      }
     },
     "5fedae390ce8448fb52fd22a23620166": {
      "model_module": "@jupyter-widgets/controls",
      "model_module_version": "2.0.0",
      "model_name": "ProgressStyleModel",
      "state": {
       "description_width": ""
      }
     },
     "602612365a454bbebecb6f961b596f94": {
      "model_module": "@jupyter-widgets/controls",
      "model_module_version": "2.0.0",
      "model_name": "HBoxModel",
      "state": {
       "children": [
        "IPY_MODEL_5010317a71864f8eae0f71aa3e92c773",
        "IPY_MODEL_bc4b0210373a4ff4afe8d6fb9c0d5023",
        "IPY_MODEL_be54157fb5c54318bfd6b68e7108c7a4"
       ],
       "layout": "IPY_MODEL_34c570a427334352856ece07e11b3daa"
      }
     },
     "6029e34b18ee4138bf2388bac059a79d": {
      "model_module": "@jupyter-widgets/controls",
      "model_module_version": "2.0.0",
      "model_name": "HTMLStyleModel",
      "state": {
       "description_width": "",
       "font_size": null,
       "text_color": null
      }
     },
     "6057c58e3c974ef2816ae4dc014ec534": {
      "model_module": "@jupyter-widgets/base",
      "model_module_version": "2.0.0",
      "model_name": "LayoutModel",
      "state": {
       "display": "inline-flex",
       "flex_flow": "row wrap",
       "width": "100%"
      }
     },
     "60b73b86e95f4fc0bee1be42d0cc0daa": {
      "model_module": "@jupyter-widgets/controls",
      "model_module_version": "2.0.0",
      "model_name": "HTMLModel",
      "state": {
       "layout": "IPY_MODEL_cf6e40ecb24c4a26ac53be07e480a526",
       "style": "IPY_MODEL_159e5eec504646ef8bda2790a5938e71",
       "value": "Validate (2999 Steps) (DiceMetric=0.26488): 100%"
      }
     },
     "60eea0d0955549d8a97a13abc3ae10ae": {
      "model_module": "@jupyter-widgets/controls",
      "model_module_version": "2.0.0",
      "model_name": "FloatProgressModel",
      "state": {
       "bar_style": "success",
       "layout": "IPY_MODEL_84a5cb240f0e4408befe4e9b445ce91f",
       "max": 40,
       "style": "IPY_MODEL_d35b7af0c32d49f0ae4506a708dc9abd",
       "value": 40
      }
     },
     "614a12e56f634383baf2ee4179be8870": {
      "model_module": "@jupyter-widgets/controls",
      "model_module_version": "2.0.0",
      "model_name": "HTMLStyleModel",
      "state": {
       "description_width": "",
       "font_size": null,
       "text_color": null
      }
     },
     "61791aebd68d4b4cbb227390c9c2f038": {
      "model_module": "@jupyter-widgets/controls",
      "model_module_version": "2.0.0",
      "model_name": "HTMLStyleModel",
      "state": {
       "description_width": "",
       "font_size": null,
       "text_color": null
      }
     },
     "6196bac565dd48178b510584b12a444d": {
      "model_module": "@jupyter-widgets/base",
      "model_module_version": "2.0.0",
      "model_name": "LayoutModel",
      "state": {
       "display": "inline-flex",
       "flex_flow": "row wrap",
       "width": "100%"
      }
     },
     "61c05bbfa5374e81943f502840919f7d": {
      "model_module": "@jupyter-widgets/controls",
      "model_module_version": "2.0.0",
      "model_name": "HTMLModel",
      "state": {
       "layout": "IPY_MODEL_a091ea344d8e4cdda4200c2cb99d56ed",
       "style": "IPY_MODEL_e242f0e38900473288451d6f6ae2afb7",
       "value": "Validate (5499 Steps) (DiceMetric=0.27274): 100%"
      }
     },
     "6289adc843424fc4bb4831158e1baf29": {
      "model_module": "@jupyter-widgets/controls",
      "model_module_version": "2.0.0",
      "model_name": "HTMLModel",
      "state": {
       "layout": "IPY_MODEL_fe050bac2f7d45659727ea781b18e7f4",
       "style": "IPY_MODEL_807cb3564ea8461ba9a5721f2bfaf56d",
       "value": "Validate (6999 Steps) (DiceMetric=0.27728): 100%"
      }
     },
     "628a24c1c7324892aa82ef4f6fb55703": {
      "model_module": "@jupyter-widgets/controls",
      "model_module_version": "2.0.0",
      "model_name": "HTMLStyleModel",
      "state": {
       "description_width": "",
       "font_size": null,
       "text_color": null
      }
     },
     "62de5ff0ba644461adbaeb703e7cd687": {
      "model_module": "@jupyter-widgets/base",
      "model_module_version": "2.0.0",
      "model_name": "LayoutModel",
      "state": {}
     },
     "62f8035357fd4b00b8944d05c1d7f2f5": {
      "model_module": "@jupyter-widgets/controls",
      "model_module_version": "2.0.0",
      "model_name": "HTMLModel",
      "state": {
       "layout": "IPY_MODEL_0b4df74efb87474ab8993684accaa009",
       "style": "IPY_MODEL_52a9b94760114434871019d57e0b428a",
       "value": " 40/40 [02:36&lt;00:00,  1.96s/it]"
      }
     },
     "62f8af0df48c4a3e893018f825bbe779": {
      "model_module": "@jupyter-widgets/controls",
      "model_module_version": "2.0.0",
      "model_name": "HTMLModel",
      "state": {
       "layout": "IPY_MODEL_7a03fdf15c3f43d091c6f666bb66807b",
       "style": "IPY_MODEL_170438b307aa4c1c81a57cad3c29d9f9",
       "value": "Validate (4499 Steps) (DiceMetric=0.26954): 100%"
      }
     },
     "63d18ed1b22a40ee971e1d71aceea11f": {
      "model_module": "@jupyter-widgets/controls",
      "model_module_version": "2.0.0",
      "model_name": "HBoxModel",
      "state": {
       "children": [
        "IPY_MODEL_f4081461131a4d5281f940ae169a5ba8",
        "IPY_MODEL_8b0b112ae4e743aea6d4dc94bf0051ff",
        "IPY_MODEL_ee4c7ce7b16449729d016ad10ed9dec2"
       ],
       "layout": "IPY_MODEL_f4c8e2285ddb485c95af5a6b88405e2e"
      }
     },
     "63d7953f560d4b73bec6ce842f7ae98c": {
      "model_module": "@jupyter-widgets/controls",
      "model_module_version": "2.0.0",
      "model_name": "HTMLModel",
      "state": {
       "layout": "IPY_MODEL_c9f7d0f160e34b66874b318c9b87fb60",
       "style": "IPY_MODEL_58069db60cf24ae6a14469383d2bd6b2",
       "value": " 40/40 [02:38&lt;00:00,  1.96s/it]"
      }
     },
     "648eaf854ed44bf381f767f40fc8f3db": {
      "model_module": "@jupyter-widgets/controls",
      "model_module_version": "2.0.0",
      "model_name": "FloatProgressModel",
      "state": {
       "bar_style": "success",
       "layout": "IPY_MODEL_5d2d6ceda5ea410ea721c75d464d2d7b",
       "max": 40,
       "style": "IPY_MODEL_6ae6b91aa53f4aaeb1dcc2620d6864f5",
       "value": 40
      }
     },
     "64a228b7fe964d819e49ac75ad2c4ae8": {
      "model_module": "@jupyter-widgets/base",
      "model_module_version": "2.0.0",
      "model_name": "LayoutModel",
      "state": {
       "display": "inline-flex",
       "flex_flow": "row wrap",
       "width": "100%"
      }
     },
     "64c0568d91a24746bca4ede8453a5498": {
      "model_module": "@jupyter-widgets/controls",
      "model_module_version": "2.0.0",
      "model_name": "FloatProgressModel",
      "state": {
       "bar_style": "success",
       "layout": "IPY_MODEL_d8f5c0d90d29448ea1b7fe8c09b72f72",
       "max": 40,
       "style": "IPY_MODEL_38f694f287ec4d079cbf9efaf5187a34",
       "value": 40
      }
     },
     "64c57ed35691405bbb339631bbd63689": {
      "model_module": "@jupyter-widgets/base",
      "model_module_version": "2.0.0",
      "model_name": "LayoutModel",
      "state": {}
     },
     "659b7d33c428484aa88cf693ea4c108c": {
      "model_module": "@jupyter-widgets/controls",
      "model_module_version": "2.0.0",
      "model_name": "HBoxModel",
      "state": {
       "children": [
        "IPY_MODEL_c6c92c37ef16496abd1adc70b3a1f71c",
        "IPY_MODEL_ef481a7956a6469f96844ac698aadd3c",
        "IPY_MODEL_44b3a55dfcd84ff195a5a786e29522be"
       ],
       "layout": "IPY_MODEL_84200fccca0046d59e580085d1177f1f"
      }
     },
     "65a75e748e8c4353a09f082a77bafdd0": {
      "model_module": "@jupyter-widgets/base",
      "model_module_version": "2.0.0",
      "model_name": "LayoutModel",
      "state": {}
     },
     "65e887a8776144fa823b609f05751a5d": {
      "model_module": "@jupyter-widgets/controls",
      "model_module_version": "2.0.0",
      "model_name": "FloatProgressModel",
      "state": {
       "bar_style": "success",
       "layout": "IPY_MODEL_6c65b09d23db446fb267281173554e7b",
       "max": 40,
       "style": "IPY_MODEL_5d4bc8eb90d847139a2de841a7954211",
       "value": 40
      }
     },
     "65f38ffaeed04e6e8884c08cf6ee2343": {
      "model_module": "@jupyter-widgets/base",
      "model_module_version": "2.0.0",
      "model_name": "LayoutModel",
      "state": {}
     },
     "66c178bd5a7e4f5aa94f8a5b72121fc5": {
      "model_module": "@jupyter-widgets/base",
      "model_module_version": "2.0.0",
      "model_name": "LayoutModel",
      "state": {
       "flex": "2"
      }
     },
     "66ea4d439dfa4c7db1a9d93c3973e1d9": {
      "model_module": "@jupyter-widgets/controls",
      "model_module_version": "2.0.0",
      "model_name": "HBoxModel",
      "state": {
       "children": [
        "IPY_MODEL_4226ece261364f858e0283069bdb290e",
        "IPY_MODEL_5148a704d3e5443f86677d13db7b895d",
        "IPY_MODEL_3c70033d247542339c8974321899cd83"
       ],
       "layout": "IPY_MODEL_8cadd25f7369439bb35aa4364579543a"
      }
     },
     "66f163437fb74a5396d8bd8843351532": {
      "model_module": "@jupyter-widgets/base",
      "model_module_version": "2.0.0",
      "model_name": "LayoutModel",
      "state": {}
     },
     "670364247c5d47db882fee7e71a36b32": {
      "model_module": "@jupyter-widgets/base",
      "model_module_version": "2.0.0",
      "model_name": "LayoutModel",
      "state": {
       "flex": "2"
      }
     },
     "670aa20bd9f34b6e944e4571d0ad99bd": {
      "model_module": "@jupyter-widgets/base",
      "model_module_version": "2.0.0",
      "model_name": "LayoutModel",
      "state": {
       "display": "inline-flex",
       "flex_flow": "row wrap",
       "width": "100%"
      }
     },
     "67d92d8c477748ecb692da67cdf92dd9": {
      "model_module": "@jupyter-widgets/controls",
      "model_module_version": "2.0.0",
      "model_name": "ProgressStyleModel",
      "state": {
       "description_width": ""
      }
     },
     "683a974625374a238083d7553f40f6fa": {
      "model_module": "@jupyter-widgets/controls",
      "model_module_version": "2.0.0",
      "model_name": "HTMLModel",
      "state": {
       "layout": "IPY_MODEL_43030942fe424c8398bcaa0b00eb280b",
       "style": "IPY_MODEL_a0acdccb05a4468dad8c117e15534ce7",
       "value": "Validate (8499 Steps) (DiceMetric=0.28228): 100%"
      }
     },
     "688263e790014cceaec7524159afc53e": {
      "model_module": "@jupyter-widgets/base",
      "model_module_version": "2.0.0",
      "model_name": "LayoutModel",
      "state": {
       "flex": "2"
      }
     },
     "68df6b77b10d4637b47cfd4d432c0c4b": {
      "model_module": "@jupyter-widgets/base",
      "model_module_version": "2.0.0",
      "model_name": "LayoutModel",
      "state": {
       "display": "inline-flex",
       "flex_flow": "row wrap",
       "width": "100%"
      }
     },
     "68f66369e419427e87d8cb3739929b51": {
      "model_module": "@jupyter-widgets/controls",
      "model_module_version": "2.0.0",
      "model_name": "HTMLStyleModel",
      "state": {
       "description_width": "",
       "font_size": null,
       "text_color": null
      }
     },
     "694f838413674ebb9b684ee6797c5517": {
      "model_module": "@jupyter-widgets/controls",
      "model_module_version": "2.0.0",
      "model_name": "ProgressStyleModel",
      "state": {
       "description_width": ""
      }
     },
     "695364e2480c49f48ebe0ebc94528e75": {
      "model_module": "@jupyter-widgets/controls",
      "model_module_version": "2.0.0",
      "model_name": "ProgressStyleModel",
      "state": {
       "description_width": ""
      }
     },
     "699d200110e64d408bbc59ae8264cba1": {
      "model_module": "@jupyter-widgets/base",
      "model_module_version": "2.0.0",
      "model_name": "LayoutModel",
      "state": {
       "display": "inline-flex",
       "flex_flow": "row wrap",
       "width": "100%"
      }
     },
     "69b278661b0a4d8889f025400693356c": {
      "model_module": "@jupyter-widgets/controls",
      "model_module_version": "2.0.0",
      "model_name": "HBoxModel",
      "state": {
       "children": [
        "IPY_MODEL_9dd5d19ad91f428c933f1540f56f1cbd",
        "IPY_MODEL_2040039064cd433d9b2b7ece9b5c4603",
        "IPY_MODEL_90f30c46120b4f74a3d0b3dc705760a1"
       ],
       "layout": "IPY_MODEL_0537029e2e87422daebc2e53166c755d"
      }
     },
     "69f6e88712684136a59620beb017cb09": {
      "model_module": "@jupyter-widgets/controls",
      "model_module_version": "2.0.0",
      "model_name": "HTMLModel",
      "state": {
       "layout": "IPY_MODEL_c118556e89e9413993a7ff8658da4e50",
       "style": "IPY_MODEL_4b10ba268f07476e9ca3d33f8506813a",
       "value": "Validate (8199 Steps) (DiceMetric=0.28198): 100%"
      }
     },
     "6a1d3f15c8304a35858294ead18f762d": {
      "model_module": "@jupyter-widgets/base",
      "model_module_version": "2.0.0",
      "model_name": "LayoutModel",
      "state": {
       "display": "inline-flex",
       "flex_flow": "row wrap",
       "width": "100%"
      }
     },
     "6a234727331543abb6a1f074c5cea792": {
      "model_module": "@jupyter-widgets/controls",
      "model_module_version": "2.0.0",
      "model_name": "HBoxModel",
      "state": {
       "children": [
        "IPY_MODEL_b8f5aae682574cfbb5dcc8d43c198f2d",
        "IPY_MODEL_1e9f5b9004384b0ba464e45cfd7ec245",
        "IPY_MODEL_00cb8739ff304fb8bc6778b9c4c1c1d8"
       ],
       "layout": "IPY_MODEL_deafed821a7a4c84aa2880c8a1dffe54"
      }
     },
     "6ae6b91aa53f4aaeb1dcc2620d6864f5": {
      "model_module": "@jupyter-widgets/controls",
      "model_module_version": "2.0.0",
      "model_name": "ProgressStyleModel",
      "state": {
       "description_width": ""
      }
     },
     "6af72b75885c4d5188ef549efab22dbb": {
      "model_module": "@jupyter-widgets/controls",
      "model_module_version": "2.0.0",
      "model_name": "HTMLStyleModel",
      "state": {
       "description_width": "",
       "font_size": null,
       "text_color": null
      }
     },
     "6b5a468f30ae42e8b6adae8c3a7cdec5": {
      "model_module": "@jupyter-widgets/base",
      "model_module_version": "2.0.0",
      "model_name": "LayoutModel",
      "state": {}
     },
     "6bae5d5e20784096aa5e708559a20c6d": {
      "model_module": "@jupyter-widgets/controls",
      "model_module_version": "2.0.0",
      "model_name": "HTMLStyleModel",
      "state": {
       "description_width": "",
       "font_size": null,
       "text_color": null
      }
     },
     "6bb5659200264cfa9dd1123d11d3434b": {
      "model_module": "@jupyter-widgets/controls",
      "model_module_version": "2.0.0",
      "model_name": "HTMLModel",
      "state": {
       "layout": "IPY_MODEL_da43b072c0fc4f0197eff9d4d8ae51b8",
       "style": "IPY_MODEL_ba29103738db430b827911038e14b7e7",
       "value": " 40/40 [02:35&lt;00:00,  1.95s/it]"
      }
     },
     "6c194135c20a45f595219bd506b95140": {
      "model_module": "@jupyter-widgets/base",
      "model_module_version": "2.0.0",
      "model_name": "LayoutModel",
      "state": {}
     },
     "6c3cfbf5d3f64742b19c045f4266aaf0": {
      "model_module": "@jupyter-widgets/controls",
      "model_module_version": "2.0.0",
      "model_name": "ProgressStyleModel",
      "state": {
       "description_width": ""
      }
     },
     "6c41dba328b44f548c28283bf9521e05": {
      "model_module": "@jupyter-widgets/base",
      "model_module_version": "2.0.0",
      "model_name": "LayoutModel",
      "state": {}
     },
     "6c65b09d23db446fb267281173554e7b": {
      "model_module": "@jupyter-widgets/base",
      "model_module_version": "2.0.0",
      "model_name": "LayoutModel",
      "state": {
       "flex": "2"
      }
     },
     "6ca071595d3f49269a0524fd81a11988": {
      "model_module": "@jupyter-widgets/base",
      "model_module_version": "2.0.0",
      "model_name": "LayoutModel",
      "state": {}
     },
     "6ca1fc2b443b485cadffcb788634d76c": {
      "model_module": "@jupyter-widgets/controls",
      "model_module_version": "2.0.0",
      "model_name": "HBoxModel",
      "state": {
       "children": [
        "IPY_MODEL_e9fd8be2d55e4db0ae47f9ff8b489924",
        "IPY_MODEL_ac98c7c6dbe9412fa3d02c54b3e9544c",
        "IPY_MODEL_4dd8cd29afe6422d9550479ec446485b"
       ],
       "layout": "IPY_MODEL_9b6b78becfc94e1eaa2b97b3bd4ee851"
      }
     },
     "6d13c8273d884deeac8adffab3aa9e23": {
      "model_module": "@jupyter-widgets/controls",
      "model_module_version": "2.0.0",
      "model_name": "HTMLStyleModel",
      "state": {
       "description_width": "",
       "font_size": null,
       "text_color": null
      }
     },
     "6d62eea0f0494512a8005670a03f980f": {
      "model_module": "@jupyter-widgets/controls",
      "model_module_version": "2.0.0",
      "model_name": "HTMLModel",
      "state": {
       "layout": "IPY_MODEL_a669baf74e77480ab9fc5905ca1c57f3",
       "style": "IPY_MODEL_1fadef362bd246c6be5afd5876b56f5c",
       "value": "Validate (5799 Steps) (DiceMetric=0.27385): 100%"
      }
     },
     "6d90c0b0f15643a8ae70f0157afce94d": {
      "model_module": "@jupyter-widgets/controls",
      "model_module_version": "2.0.0",
      "model_name": "HBoxModel",
      "state": {
       "children": [
        "IPY_MODEL_7218ec17b69d4ac2bd236be2e83c6e5e",
        "IPY_MODEL_af58b73d8e1f40aba8ddd37625e18d44",
        "IPY_MODEL_f67fe80b6f9d42718b183c4bf5d7dbbe"
       ],
       "layout": "IPY_MODEL_315c22afe69d464889dca45a2e605e80"
      }
     },
     "6dbc9371a9724c59ad1f05e53400cbbf": {
      "model_module": "@jupyter-widgets/base",
      "model_module_version": "2.0.0",
      "model_name": "LayoutModel",
      "state": {
       "flex": "2"
      }
     },
     "6df1a6b968ba422d9d3c07ae1a55f252": {
      "model_module": "@jupyter-widgets/base",
      "model_module_version": "2.0.0",
      "model_name": "LayoutModel",
      "state": {
       "display": "inline-flex",
       "flex_flow": "row wrap",
       "width": "100%"
      }
     },
     "6e430734de774ca4b991a9fb41c50265": {
      "model_module": "@jupyter-widgets/controls",
      "model_module_version": "2.0.0",
      "model_name": "ProgressStyleModel",
      "state": {
       "description_width": ""
      }
     },
     "6e50754405d0489e8c353680fa4696c6": {
      "model_module": "@jupyter-widgets/controls",
      "model_module_version": "2.0.0",
      "model_name": "FloatProgressModel",
      "state": {
       "bar_style": "success",
       "layout": "IPY_MODEL_bc1912fde43940459a53d3aab52dfed5",
       "max": 40,
       "style": "IPY_MODEL_47d1456c5b7c4db3866b05f23eabece6",
       "value": 40
      }
     },
     "6e552d74d7c740279c6d409c99e59969": {
      "model_module": "@jupyter-widgets/base",
      "model_module_version": "2.0.0",
      "model_name": "LayoutModel",
      "state": {
       "flex": "2"
      }
     },
     "6e78019094444b1faeb8fb48b3ac8662": {
      "model_module": "@jupyter-widgets/controls",
      "model_module_version": "2.0.0",
      "model_name": "HTMLStyleModel",
      "state": {
       "description_width": "",
       "font_size": null,
       "text_color": null
      }
     },
     "6ea8836f96904177a323ca099c248c9a": {
      "model_module": "@jupyter-widgets/base",
      "model_module_version": "2.0.0",
      "model_name": "LayoutModel",
      "state": {}
     },
     "6eb5ffb1b77745bebb6e98c120107d0d": {
      "model_module": "@jupyter-widgets/controls",
      "model_module_version": "2.0.0",
      "model_name": "HTMLModel",
      "state": {
       "layout": "IPY_MODEL_b2554c11791548cc84f2287fc6e55271",
       "style": "IPY_MODEL_34cf1d1f833343a6a4438ce4b4b11e66",
       "value": "Validate (6199 Steps) (DiceMetric=0.27581): 100%"
      }
     },
     "6ed6c49f2ae04148a26c4f9052a05d20": {
      "model_module": "@jupyter-widgets/controls",
      "model_module_version": "2.0.0",
      "model_name": "HTMLStyleModel",
      "state": {
       "description_width": "",
       "font_size": null,
       "text_color": null
      }
     },
     "6edeb7472c8444d0969fd4d4c72e6458": {
      "model_module": "@jupyter-widgets/controls",
      "model_module_version": "2.0.0",
      "model_name": "HTMLStyleModel",
      "state": {
       "description_width": "",
       "font_size": null,
       "text_color": null
      }
     },
     "6ef445f1a0594047955ad6fe06e55769": {
      "model_module": "@jupyter-widgets/controls",
      "model_module_version": "2.0.0",
      "model_name": "HBoxModel",
      "state": {
       "children": [
        "IPY_MODEL_0ccf465c8b9847ba9e987cda52366443",
        "IPY_MODEL_ef30ddbdcf844a3fb35953d68b1723cf",
        "IPY_MODEL_c3e8ffe1d4c74e3f973b5dceb5b5f8b0"
       ],
       "layout": "IPY_MODEL_7d01d4c588a64f91b6fc947ea769d573"
      }
     },
     "6f44d4de50334a82a82f0f570a2037b7": {
      "model_module": "@jupyter-widgets/controls",
      "model_module_version": "2.0.0",
      "model_name": "FloatProgressModel",
      "state": {
       "bar_style": "success",
       "layout": "IPY_MODEL_da5b07a55b5b46cbbddd0a965627f0b6",
       "max": 40,
       "style": "IPY_MODEL_9d36938b304c43749794a6a8d17da7ac",
       "value": 40
      }
     },
     "6f454f6a7139471fabd67d4f2884333c": {
      "model_module": "@jupyter-widgets/controls",
      "model_module_version": "2.0.0",
      "model_name": "HTMLStyleModel",
      "state": {
       "description_width": "",
       "font_size": null,
       "text_color": null
      }
     },
     "6fa36ba36b374537839df498dc3c0c2c": {
      "model_module": "@jupyter-widgets/controls",
      "model_module_version": "2.0.0",
      "model_name": "FloatProgressModel",
      "state": {
       "bar_style": "success",
       "layout": "IPY_MODEL_670364247c5d47db882fee7e71a36b32",
       "max": 40,
       "style": "IPY_MODEL_cd43d242daed4a259180550fbfa8d9f9",
       "value": 40
      }
     },
     "6fbd498fc4e14403a3ec62b13760a37e": {
      "model_module": "@jupyter-widgets/base",
      "model_module_version": "2.0.0",
      "model_name": "LayoutModel",
      "state": {
       "flex": "2"
      }
     },
     "7014b659fe454ee6ae198497a11b8aaa": {
      "model_module": "@jupyter-widgets/controls",
      "model_module_version": "2.0.0",
      "model_name": "HTMLStyleModel",
      "state": {
       "description_width": "",
       "font_size": null,
       "text_color": null
      }
     },
     "703fa6da60ff45cfa32c84b51aa67564": {
      "model_module": "@jupyter-widgets/controls",
      "model_module_version": "2.0.0",
      "model_name": "HBoxModel",
      "state": {
       "children": [
        "IPY_MODEL_7b9683ab6d8d4b96ac0c67dcd2548734",
        "IPY_MODEL_d4f56743e2eb4a38989a11978bb4778f",
        "IPY_MODEL_3975797c435348fa8152ef5d8f1d3a1d"
       ],
       "layout": "IPY_MODEL_e44899ba4cc941c3bb492e7dbcb2f100"
      }
     },
     "704a6a1b74f04b35859b4f9f15d431dc": {
      "model_module": "@jupyter-widgets/base",
      "model_module_version": "2.0.0",
      "model_name": "LayoutModel",
      "state": {}
     },
     "704f077614ed4c40b37b9c33bfec029b": {
      "model_module": "@jupyter-widgets/controls",
      "model_module_version": "2.0.0",
      "model_name": "HTMLModel",
      "state": {
       "layout": "IPY_MODEL_5dbf2bbd32ad44bebf81982a55cfcbcf",
       "style": "IPY_MODEL_869b42b56f9a4056be189121f22a675d",
       "value": "Validate (3599 Steps) (DiceMetric=0.26542): 100%"
      }
     },
     "704f8519d3e84116840d8eb056680c04": {
      "model_module": "@jupyter-widgets/controls",
      "model_module_version": "2.0.0",
      "model_name": "HBoxModel",
      "state": {
       "children": [
        "IPY_MODEL_2f9c3bf09c954e4087c5bc34285f07d6",
        "IPY_MODEL_0af40de11785483a9cad3991d979a618",
        "IPY_MODEL_e0d24494a9c54236ba1295d4423421fd"
       ],
       "layout": "IPY_MODEL_11e3ac4e144644198b14014dc499a8d6"
      }
     },
     "705498f56f6e425d9a19a2a015536bbb": {
      "model_module": "@jupyter-widgets/controls",
      "model_module_version": "2.0.0",
      "model_name": "ProgressStyleModel",
      "state": {
       "description_width": ""
      }
     },
     "705b5b6521da418dbdc594bf3349b6f0": {
      "model_module": "@jupyter-widgets/controls",
      "model_module_version": "2.0.0",
      "model_name": "HTMLStyleModel",
      "state": {
       "description_width": "",
       "font_size": null,
       "text_color": null
      }
     },
     "70af40ff3a9d4a7cb96ae89ca666d3eb": {
      "model_module": "@jupyter-widgets/base",
      "model_module_version": "2.0.0",
      "model_name": "LayoutModel",
      "state": {
       "flex": "2"
      }
     },
     "71432f05f8eb498ba8b3d450b8aa78fe": {
      "model_module": "@jupyter-widgets/controls",
      "model_module_version": "2.0.0",
      "model_name": "HTMLModel",
      "state": {
       "layout": "IPY_MODEL_f2a755a91d9249049fdadc6dc32cec3d",
       "style": "IPY_MODEL_506cd4cdb4a148a6a105ece6f5e087f6",
       "value": " 40/40 [02:34&lt;00:00,  1.92s/it]"
      }
     },
     "718229f3dfa34be2af277acbb7d693aa": {
      "model_module": "@jupyter-widgets/controls",
      "model_module_version": "2.0.0",
      "model_name": "FloatProgressModel",
      "state": {
       "bar_style": "success",
       "layout": "IPY_MODEL_4705d25d3c2c4c5990eb53bd725f05ad",
       "max": 40,
       "style": "IPY_MODEL_7c79a3344af44f21a053a79506abe6bb",
       "value": 40
      }
     },
     "71c530a15a144e64a34a1e15848f73a8": {
      "model_module": "@jupyter-widgets/base",
      "model_module_version": "2.0.0",
      "model_name": "LayoutModel",
      "state": {
       "display": "inline-flex",
       "flex_flow": "row wrap",
       "width": "100%"
      }
     },
     "71c65fb9ac1a4c1c9507e8425efec0fa": {
      "model_module": "@jupyter-widgets/controls",
      "model_module_version": "2.0.0",
      "model_name": "HTMLStyleModel",
      "state": {
       "description_width": "",
       "font_size": null,
       "text_color": null
      }
     },
     "71e253a9dc5041b4af867b78efccf328": {
      "model_module": "@jupyter-widgets/base",
      "model_module_version": "2.0.0",
      "model_name": "LayoutModel",
      "state": {}
     },
     "7218ec17b69d4ac2bd236be2e83c6e5e": {
      "model_module": "@jupyter-widgets/controls",
      "model_module_version": "2.0.0",
      "model_name": "HTMLModel",
      "state": {
       "layout": "IPY_MODEL_f842b645412d4842a63b5601342c8c74",
       "style": "IPY_MODEL_7014b659fe454ee6ae198497a11b8aaa",
       "value": "Validate (399 Steps) (DiceMetric=0.20563): 100%"
      }
     },
     "72c74c460a5d41f59f786879dd0b6bed": {
      "model_module": "@jupyter-widgets/controls",
      "model_module_version": "2.0.0",
      "model_name": "HTMLStyleModel",
      "state": {
       "description_width": "",
       "font_size": null,
       "text_color": null
      }
     },
     "73818c2f61844aecb0b55f50b67f2c2c": {
      "model_module": "@jupyter-widgets/base",
      "model_module_version": "2.0.0",
      "model_name": "LayoutModel",
      "state": {}
     },
     "739d886f7bd241a79a33cb5ff69b7e63": {
      "model_module": "@jupyter-widgets/controls",
      "model_module_version": "2.0.0",
      "model_name": "FloatProgressModel",
      "state": {
       "bar_style": "success",
       "layout": "IPY_MODEL_e4a4b335aeba4a1fbdea23a55acff1d9",
       "max": 40,
       "style": "IPY_MODEL_bdfd498bd39c4b8ba30161e255b75e24",
       "value": 40
      }
     },
     "73a5067fb2f54b9eac5e3c226102b5fb": {
      "model_module": "@jupyter-widgets/controls",
      "model_module_version": "2.0.0",
      "model_name": "ProgressStyleModel",
      "state": {
       "description_width": ""
      }
     },
     "73b29b13395f4479bbdf3591a8520685": {
      "model_module": "@jupyter-widgets/base",
      "model_module_version": "2.0.0",
      "model_name": "LayoutModel",
      "state": {}
     },
     "741ac252bbd44fb5bafc60531ae3bc8c": {
      "model_module": "@jupyter-widgets/controls",
      "model_module_version": "2.0.0",
      "model_name": "HTMLModel",
      "state": {
       "layout": "IPY_MODEL_fdefd74c44eb4413979527e1bf9a37fd",
       "style": "IPY_MODEL_ec789d2acaa544bb9787e0a34c4dab7a",
       "value": " 40/40 [02:33&lt;00:00,  1.93s/it]"
      }
     },
     "745da3ea09ea4f76a63ace7cbef7073b": {
      "model_module": "@jupyter-widgets/base",
      "model_module_version": "2.0.0",
      "model_name": "LayoutModel",
      "state": {
       "flex": "2"
      }
     },
     "74fb7dbbf6324740848276952a9e5181": {
      "model_module": "@jupyter-widgets/controls",
      "model_module_version": "2.0.0",
      "model_name": "ProgressStyleModel",
      "state": {
       "description_width": ""
      }
     },
     "7546bc3f43e443bea774b65429ac2f93": {
      "model_module": "@jupyter-widgets/controls",
      "model_module_version": "2.0.0",
      "model_name": "HTMLStyleModel",
      "state": {
       "description_width": "",
       "font_size": null,
       "text_color": null
      }
     },
     "7558b24db9b84a129d9f4a0d07c819c3": {
      "model_module": "@jupyter-widgets/base",
      "model_module_version": "2.0.0",
      "model_name": "LayoutModel",
      "state": {
       "flex": "2"
      }
     },
     "75b32e6abcd44fff974edab9027e09ea": {
      "model_module": "@jupyter-widgets/controls",
      "model_module_version": "2.0.0",
      "model_name": "HBoxModel",
      "state": {
       "children": [
        "IPY_MODEL_704f077614ed4c40b37b9c33bfec029b",
        "IPY_MODEL_6e50754405d0489e8c353680fa4696c6",
        "IPY_MODEL_fc91217145b94a0584c399924b182444"
       ],
       "layout": "IPY_MODEL_8dddb244c84042fb887c10ea88a23825"
      }
     },
     "75ef668a71e74fc38ed43637ea056be3": {
      "model_module": "@jupyter-widgets/controls",
      "model_module_version": "2.0.0",
      "model_name": "HTMLModel",
      "state": {
       "layout": "IPY_MODEL_8dac2320d99e426e853977c4d546f090",
       "style": "IPY_MODEL_872a73da2d6547aca98ccf69dc0709e6",
       "value": " 40/40 [02:34&lt;00:00,  1.93s/it]"
      }
     },
     "765b8331e65842eeb9ab9c8ab92bcae7": {
      "model_module": "@jupyter-widgets/base",
      "model_module_version": "2.0.0",
      "model_name": "LayoutModel",
      "state": {}
     },
     "7670cda153a1446ea6efbae0af8e872a": {
      "model_module": "@jupyter-widgets/base",
      "model_module_version": "2.0.0",
      "model_name": "LayoutModel",
      "state": {
       "flex": "2"
      }
     },
     "76893f08fc504f11b6ed903bf84e89bf": {
      "model_module": "@jupyter-widgets/controls",
      "model_module_version": "2.0.0",
      "model_name": "HBoxModel",
      "state": {
       "children": [
        "IPY_MODEL_04312686d83d42e98c138238abc8f735",
        "IPY_MODEL_86f684bc2536403dbf1e4e388a24205c",
        "IPY_MODEL_7cab96e481154406983581b696524371"
       ],
       "layout": "IPY_MODEL_4480121a4b95406f85382ded4eae0b40"
      }
     },
     "773c69af9c244afeaacdf9eb8803b79f": {
      "model_module": "@jupyter-widgets/base",
      "model_module_version": "2.0.0",
      "model_name": "LayoutModel",
      "state": {
       "display": "inline-flex",
       "flex_flow": "row wrap",
       "width": "100%"
      }
     },
     "77ae9ac7d56344e8b378927a690c06a4": {
      "model_module": "@jupyter-widgets/base",
      "model_module_version": "2.0.0",
      "model_name": "LayoutModel",
      "state": {}
     },
     "780ad5eab79e4ddab9d7e3dbc2866fc7": {
      "model_module": "@jupyter-widgets/base",
      "model_module_version": "2.0.0",
      "model_name": "LayoutModel",
      "state": {}
     },
     "785d0f23f46e47fca1b5319c5512b238": {
      "model_module": "@jupyter-widgets/base",
      "model_module_version": "2.0.0",
      "model_name": "LayoutModel",
      "state": {
       "flex": "2"
      }
     },
     "78973a7ae7a641e3afac3aa773a968e1": {
      "model_module": "@jupyter-widgets/base",
      "model_module_version": "2.0.0",
      "model_name": "LayoutModel",
      "state": {}
     },
     "78c3ddea38e1404595ca740b191fb6db": {
      "model_module": "@jupyter-widgets/base",
      "model_module_version": "2.0.0",
      "model_name": "LayoutModel",
      "state": {
       "flex": "2"
      }
     },
     "7963be0c70824d6c983dc6d134f0d382": {
      "model_module": "@jupyter-widgets/controls",
      "model_module_version": "2.0.0",
      "model_name": "HTMLModel",
      "state": {
       "layout": "IPY_MODEL_3752973d3233406593232de8eb52c085",
       "style": "IPY_MODEL_5afc628c78db4bb98fa6e82c17e48af7",
       "value": " 40/40 [02:35&lt;00:00,  1.91s/it]"
      }
     },
     "7989759d4a75453b8bfafb59bdebf13a": {
      "model_module": "@jupyter-widgets/controls",
      "model_module_version": "2.0.0",
      "model_name": "ProgressStyleModel",
      "state": {
       "description_width": ""
      }
     },
     "79fabae279e34d969bc727d1568e3d0b": {
      "model_module": "@jupyter-widgets/base",
      "model_module_version": "2.0.0",
      "model_name": "LayoutModel",
      "state": {}
     },
     "7a03fdf15c3f43d091c6f666bb66807b": {
      "model_module": "@jupyter-widgets/base",
      "model_module_version": "2.0.0",
      "model_name": "LayoutModel",
      "state": {}
     },
     "7a18ae979f044708b05f7fac4893daba": {
      "model_module": "@jupyter-widgets/controls",
      "model_module_version": "2.0.0",
      "model_name": "FloatProgressModel",
      "state": {
       "bar_style": "success",
       "layout": "IPY_MODEL_e329dd61076547d4867c2a94cf41ec9a",
       "max": 40,
       "style": "IPY_MODEL_b9f1963b66bd45389d993507e29540d3",
       "value": 40
      }
     },
     "7a347fa2e96b4136a4c7f5a224be265a": {
      "model_module": "@jupyter-widgets/base",
      "model_module_version": "2.0.0",
      "model_name": "LayoutModel",
      "state": {}
     },
     "7b028cdf3d154d47b89c1b2e375bcbdc": {
      "model_module": "@jupyter-widgets/controls",
      "model_module_version": "2.0.0",
      "model_name": "FloatProgressModel",
      "state": {
       "bar_style": "success",
       "layout": "IPY_MODEL_ec7be40b32d84a55a60b443d17e4cb47",
       "max": 40,
       "style": "IPY_MODEL_c9a58cbb565b425f871151c9f1e7f5ad",
       "value": 40
      }
     },
     "7b5e7048fd454220b094e819b9c167ab": {
      "model_module": "@jupyter-widgets/controls",
      "model_module_version": "2.0.0",
      "model_name": "HBoxModel",
      "state": {
       "children": [
        "IPY_MODEL_cab38ae7fdce47a1baf5c6564a7b4eda",
        "IPY_MODEL_e292621b455745c3ba7f409c70662220",
        "IPY_MODEL_a778e06666cb46119982a1d80b6a023f"
       ],
       "layout": "IPY_MODEL_a5f400adbd4e44f5b8ac0a305874bdaf"
      }
     },
     "7b6871741f124196906ab402d3268b6e": {
      "model_module": "@jupyter-widgets/controls",
      "model_module_version": "2.0.0",
      "model_name": "HTMLModel",
      "state": {
       "layout": "IPY_MODEL_375a34ca752a40eda6f8d0d27cec91d2",
       "style": "IPY_MODEL_8b6b5dda3b1b4a45a991fa691eeb1f81",
       "value": " 40/40 [02:33&lt;00:00,  1.93s/it]"
      }
     },
     "7b9683ab6d8d4b96ac0c67dcd2548734": {
      "model_module": "@jupyter-widgets/controls",
      "model_module_version": "2.0.0",
      "model_name": "HTMLModel",
      "state": {
       "layout": "IPY_MODEL_da91254649804d95a7432fb5a8d0ff4e",
       "style": "IPY_MODEL_ecb62b67220243039c880cc6823cbdc8",
       "value": "Validate (6499 Steps) (DiceMetric=0.27508): 100%"
      }
     },
     "7c09261f083b499b803739918fa6c047": {
      "model_module": "@jupyter-widgets/base",
      "model_module_version": "2.0.0",
      "model_name": "LayoutModel",
      "state": {
       "display": "inline-flex",
       "flex_flow": "row wrap",
       "width": "100%"
      }
     },
     "7c5e47ba09004a38b48fad168e0ce4c6": {
      "model_module": "@jupyter-widgets/controls",
      "model_module_version": "2.0.0",
      "model_name": "HTMLStyleModel",
      "state": {
       "description_width": "",
       "font_size": null,
       "text_color": null
      }
     },
     "7c6e2147b69c4a03b289ed425d4d4004": {
      "model_module": "@jupyter-widgets/controls",
      "model_module_version": "2.0.0",
      "model_name": "HTMLStyleModel",
      "state": {
       "description_width": "",
       "font_size": null,
       "text_color": null
      }
     },
     "7c79a3344af44f21a053a79506abe6bb": {
      "model_module": "@jupyter-widgets/controls",
      "model_module_version": "2.0.0",
      "model_name": "ProgressStyleModel",
      "state": {
       "description_width": ""
      }
     },
     "7c79e58d21494e4395c131f3488ac33b": {
      "model_module": "@jupyter-widgets/controls",
      "model_module_version": "2.0.0",
      "model_name": "HTMLModel",
      "state": {
       "layout": "IPY_MODEL_501dac8ae3534e359c2c90ffa0138d6b",
       "style": "IPY_MODEL_474b156a4c2b490fb1d8cebd877f89f0",
       "value": " 40/40 [02:34&lt;00:00,  1.94s/it]"
      }
     },
     "7c878f745c54441dafa1c4c543c61138": {
      "model_module": "@jupyter-widgets/controls",
      "model_module_version": "2.0.0",
      "model_name": "HTMLModel",
      "state": {
       "layout": "IPY_MODEL_9f69b72b203d48a2b5a459822276b295",
       "style": "IPY_MODEL_9b8c2e7eb49a4e8aa42525cd11eeaf57",
       "value": " 40/40 [02:34&lt;00:00,  1.95s/it]"
      }
     },
     "7c982a8257114f4db4dd47866dd92794": {
      "model_module": "@jupyter-widgets/controls",
      "model_module_version": "2.0.0",
      "model_name": "HTMLStyleModel",
      "state": {
       "description_width": "",
       "font_size": null,
       "text_color": null
      }
     },
     "7cab96e481154406983581b696524371": {
      "model_module": "@jupyter-widgets/controls",
      "model_module_version": "2.0.0",
      "model_name": "HTMLModel",
      "state": {
       "layout": "IPY_MODEL_fd4b0e1ab8264d0dbbb3dc5cec94acb1",
       "style": "IPY_MODEL_5a9f0a2daf7743559bef180869c7a1da",
       "value": " 40/40 [02:34&lt;00:00,  1.94s/it]"
      }
     },
     "7d01d4c588a64f91b6fc947ea769d573": {
      "model_module": "@jupyter-widgets/base",
      "model_module_version": "2.0.0",
      "model_name": "LayoutModel",
      "state": {
       "display": "inline-flex",
       "flex_flow": "row wrap",
       "width": "100%"
      }
     },
     "7d2ffcd451e0495684f0fed913a0675c": {
      "model_module": "@jupyter-widgets/base",
      "model_module_version": "2.0.0",
      "model_name": "LayoutModel",
      "state": {}
     },
     "7d869991de9d41259c1bd56a0edb152a": {
      "model_module": "@jupyter-widgets/controls",
      "model_module_version": "2.0.0",
      "model_name": "HTMLModel",
      "state": {
       "layout": "IPY_MODEL_6c41dba328b44f548c28283bf9521e05",
       "style": "IPY_MODEL_07f26ff034424226b013defeded6a508",
       "value": "Validate (7599 Steps) (DiceMetric=0.27923): 100%"
      }
     },
     "7d9d0ba8314d4703af7444ee576cd75e": {
      "model_module": "@jupyter-widgets/base",
      "model_module_version": "2.0.0",
      "model_name": "LayoutModel",
      "state": {}
     },
     "7d9e55b0bff94acc89d5c42fd52d85c4": {
      "model_module": "@jupyter-widgets/base",
      "model_module_version": "2.0.0",
      "model_name": "LayoutModel",
      "state": {
       "flex": "2"
      }
     },
     "7da8aa489dcc445fb414bd9573e7e7d5": {
      "model_module": "@jupyter-widgets/controls",
      "model_module_version": "2.0.0",
      "model_name": "HTMLStyleModel",
      "state": {
       "description_width": "",
       "font_size": null,
       "text_color": null
      }
     },
     "7dc1ed556a654369a9ea87df492ff29b": {
      "model_module": "@jupyter-widgets/controls",
      "model_module_version": "2.0.0",
      "model_name": "ProgressStyleModel",
      "state": {
       "description_width": ""
      }
     },
     "7df76dbf115742668ad783d929b6122e": {
      "model_module": "@jupyter-widgets/controls",
      "model_module_version": "2.0.0",
      "model_name": "HTMLModel",
      "state": {
       "layout": "IPY_MODEL_1934396c748d4964a61052e5abdb869b",
       "style": "IPY_MODEL_2e3b4849ea824ab79fa8fdfc2356733e",
       "value": "Validate (1599 Steps) (DiceMetric=0.26401): 100%"
      }
     },
     "7e3f1f1d89d8493ba3ffacc2c7a61856": {
      "model_module": "@jupyter-widgets/controls",
      "model_module_version": "2.0.0",
      "model_name": "HTMLModel",
      "state": {
       "layout": "IPY_MODEL_b6daa2244fca406bb85d5007d0139b89",
       "style": "IPY_MODEL_a58514e354af4d45ad9bba9a8c304214",
       "value": "Validate (6699 Steps) (DiceMetric=0.27658): 100%"
      }
     },
     "7e9d9cb44b4043f28e68918ff9aa8c7e": {
      "model_module": "@jupyter-widgets/controls",
      "model_module_version": "2.0.0",
      "model_name": "FloatProgressModel",
      "state": {
       "bar_style": "success",
       "layout": "IPY_MODEL_4e9a8ba398694d27ba46181235a84538",
       "max": 40,
       "style": "IPY_MODEL_2865547d78d04f04a66b36f1d8009ef1",
       "value": 40
      }
     },
     "7ebe06816a554745a9a465a5a0ceb998": {
      "model_module": "@jupyter-widgets/base",
      "model_module_version": "2.0.0",
      "model_name": "LayoutModel",
      "state": {
       "flex": "2"
      }
     },
     "7ef6f7a9cb4d4ad5bdd5a1626343f2a9": {
      "model_module": "@jupyter-widgets/controls",
      "model_module_version": "2.0.0",
      "model_name": "HTMLModel",
      "state": {
       "layout": "IPY_MODEL_2c5360c407b5480b8de833d141126998",
       "style": "IPY_MODEL_ef2e5adbf3a5475e9a1eda8bd7d9770b",
       "value": " 40/40 [02:34&lt;00:00,  1.93s/it]"
      }
     },
     "7f1465211ab34437ad67b3ab28b0fe40": {
      "model_module": "@jupyter-widgets/controls",
      "model_module_version": "2.0.0",
      "model_name": "HTMLStyleModel",
      "state": {
       "description_width": "",
       "font_size": null,
       "text_color": null
      }
     },
     "7fcdf0929987420a9c422b15ab0a420e": {
      "model_module": "@jupyter-widgets/controls",
      "model_module_version": "2.0.0",
      "model_name": "FloatProgressModel",
      "state": {
       "bar_style": "success",
       "layout": "IPY_MODEL_dcd1dda7a0ea41ae93332137031b3eea",
       "max": 40,
       "style": "IPY_MODEL_91ec10aa7a6449da9e0b841d239e7b4a",
       "value": 40
      }
     },
     "7fe3ac6d378746dda434eed4ef53880c": {
      "model_module": "@jupyter-widgets/controls",
      "model_module_version": "2.0.0",
      "model_name": "HTMLStyleModel",
      "state": {
       "description_width": "",
       "font_size": null,
       "text_color": null
      }
     },
     "7ff113f976904e86aaeb850ec5b6859a": {
      "model_module": "@jupyter-widgets/base",
      "model_module_version": "2.0.0",
      "model_name": "LayoutModel",
      "state": {}
     },
     "8047bb12e1034e98887c39fe3215b241": {
      "model_module": "@jupyter-widgets/base",
      "model_module_version": "2.0.0",
      "model_name": "LayoutModel",
      "state": {
       "flex": "2"
      }
     },
     "805ac70e6d864b408d09497e546046c9": {
      "model_module": "@jupyter-widgets/base",
      "model_module_version": "2.0.0",
      "model_name": "LayoutModel",
      "state": {
       "flex": "2"
      }
     },
     "805de0c367a24fcfbc3e3c389212163e": {
      "model_module": "@jupyter-widgets/controls",
      "model_module_version": "2.0.0",
      "model_name": "HTMLStyleModel",
      "state": {
       "description_width": "",
       "font_size": null,
       "text_color": null
      }
     },
     "806525ce57fc445482454ba66d8af5b5": {
      "model_module": "@jupyter-widgets/base",
      "model_module_version": "2.0.0",
      "model_name": "LayoutModel",
      "state": {}
     },
     "8078a95d77c949d78da84606eacf2acd": {
      "model_module": "@jupyter-widgets/base",
      "model_module_version": "2.0.0",
      "model_name": "LayoutModel",
      "state": {}
     },
     "807cb3564ea8461ba9a5721f2bfaf56d": {
      "model_module": "@jupyter-widgets/controls",
      "model_module_version": "2.0.0",
      "model_name": "HTMLStyleModel",
      "state": {
       "description_width": "",
       "font_size": null,
       "text_color": null
      }
     },
     "811e2ee2691745888bb4d1c9e745d182": {
      "model_module": "@jupyter-widgets/controls",
      "model_module_version": "2.0.0",
      "model_name": "HTMLModel",
      "state": {
       "layout": "IPY_MODEL_0ba1f73b5a70465196d8922483d7b442",
       "style": "IPY_MODEL_1f76e62c4e2140fc9760631282bdad73",
       "value": " 40/40 [02:36&lt;00:00,  1.94s/it]"
      }
     },
     "81853c02fe324e43bff54f74a97f38ec": {
      "model_module": "@jupyter-widgets/controls",
      "model_module_version": "2.0.0",
      "model_name": "HTMLStyleModel",
      "state": {
       "description_width": "",
       "font_size": null,
       "text_color": null
      }
     },
     "8185a5ac80e54dbbbc582e6d445a3ae8": {
      "model_module": "@jupyter-widgets/controls",
      "model_module_version": "2.0.0",
      "model_name": "HTMLModel",
      "state": {
       "layout": "IPY_MODEL_8078a95d77c949d78da84606eacf2acd",
       "style": "IPY_MODEL_ba3cd56375244572b23bbde358354ab2",
       "value": " 40/40 [02:33&lt;00:00,  1.93s/it]"
      }
     },
     "81d0fa403f9d47589a7030c22b4b9108": {
      "model_module": "@jupyter-widgets/controls",
      "model_module_version": "2.0.0",
      "model_name": "ProgressStyleModel",
      "state": {
       "description_width": ""
      }
     },
     "8203e01cf3c7495183bf9f3442eb7c11": {
      "model_module": "@jupyter-widgets/controls",
      "model_module_version": "2.0.0",
      "model_name": "HTMLModel",
      "state": {
       "layout": "IPY_MODEL_1be957437d7244de9052a11f785c218a",
       "style": "IPY_MODEL_48c30d1dca9347bdb2082246ba4dcb30",
       "value": "Validate (6599 Steps) (DiceMetric=0.27630): 100%"
      }
     },
     "823b10bc9bca47aaa352844f8b6e47bd": {
      "model_module": "@jupyter-widgets/controls",
      "model_module_version": "2.0.0",
      "model_name": "ProgressStyleModel",
      "state": {
       "description_width": ""
      }
     },
     "82952bd574f6449f9848ed75efe9b9e2": {
      "model_module": "@jupyter-widgets/controls",
      "model_module_version": "2.0.0",
      "model_name": "HTMLModel",
      "state": {
       "layout": "IPY_MODEL_8649f1c357cd4d5b995afd9cd8bf6cd5",
       "style": "IPY_MODEL_952c6af4290b4e959cee9705b16497b8",
       "value": " 10000/10000 [18:53:12&lt;00:00, 50.25s/it]"
      }
     },
     "82d2ff362a41429c963f82349db44fca": {
      "model_module": "@jupyter-widgets/base",
      "model_module_version": "2.0.0",
      "model_name": "LayoutModel",
      "state": {
       "display": "inline-flex",
       "flex_flow": "row wrap",
       "width": "100%"
      }
     },
     "83133e774ce241e39aadb43217a4876a": {
      "model_module": "@jupyter-widgets/controls",
      "model_module_version": "2.0.0",
      "model_name": "HBoxModel",
      "state": {
       "children": [
        "IPY_MODEL_fc582809ad8f453495f2b411dc6080ea",
        "IPY_MODEL_babfd5e999df411da41f303fc3852df2",
        "IPY_MODEL_5d30ccec8f1e4a60b9284ea2be6273b2"
       ],
       "layout": "IPY_MODEL_d5a9a2ce11dd46dcaa2392b0136006e5"
      }
     },
     "833a0352c75341b5b0ed1b92ead58a95": {
      "model_module": "@jupyter-widgets/controls",
      "model_module_version": "2.0.0",
      "model_name": "HBoxModel",
      "state": {
       "children": [
        "IPY_MODEL_2b61b721ca334b0aa711c3cf94940ac2",
        "IPY_MODEL_0f54f454fb404f8394ea0e46580f2887",
        "IPY_MODEL_82952bd574f6449f9848ed75efe9b9e2"
       ],
       "layout": "IPY_MODEL_e68c78ec0f5845c1b2c9f67bcb74b2f6"
      }
     },
     "83525fdda3c34194b90e49b0590a93db": {
      "model_module": "@jupyter-widgets/controls",
      "model_module_version": "2.0.0",
      "model_name": "HTMLStyleModel",
      "state": {
       "description_width": "",
       "font_size": null,
       "text_color": null
      }
     },
     "83811799f92a4df5934c9c9bf2f25557": {
      "model_module": "@jupyter-widgets/base",
      "model_module_version": "2.0.0",
      "model_name": "LayoutModel",
      "state": {}
     },
     "83c7786994cb4bf3a9440361a480a41d": {
      "model_module": "@jupyter-widgets/base",
      "model_module_version": "2.0.0",
      "model_name": "LayoutModel",
      "state": {}
     },
     "83d676d322504d30b32264d178070dae": {
      "model_module": "@jupyter-widgets/base",
      "model_module_version": "2.0.0",
      "model_name": "LayoutModel",
      "state": {}
     },
     "84200fccca0046d59e580085d1177f1f": {
      "model_module": "@jupyter-widgets/base",
      "model_module_version": "2.0.0",
      "model_name": "LayoutModel",
      "state": {
       "display": "inline-flex",
       "flex_flow": "row wrap",
       "width": "100%"
      }
     },
     "8425a0988fda420f940d666584e02fb2": {
      "model_module": "@jupyter-widgets/base",
      "model_module_version": "2.0.0",
      "model_name": "LayoutModel",
      "state": {}
     },
     "8427f83d29ef4e0da24f5b4c6bd0d67e": {
      "model_module": "@jupyter-widgets/controls",
      "model_module_version": "2.0.0",
      "model_name": "HTMLStyleModel",
      "state": {
       "description_width": "",
       "font_size": null,
       "text_color": null
      }
     },
     "84a5cb240f0e4408befe4e9b445ce91f": {
      "model_module": "@jupyter-widgets/base",
      "model_module_version": "2.0.0",
      "model_name": "LayoutModel",
      "state": {
       "flex": "2"
      }
     },
     "84fe316d1b994b79a42da54507702521": {
      "model_module": "@jupyter-widgets/controls",
      "model_module_version": "2.0.0",
      "model_name": "FloatProgressModel",
      "state": {
       "bar_style": "success",
       "layout": "IPY_MODEL_8047bb12e1034e98887c39fe3215b241",
       "max": 40,
       "style": "IPY_MODEL_e45c3aa046ce445180c2daa5a7bfbcf2",
       "value": 40
      }
     },
     "8526454108ed4acfb710e80bf275debb": {
      "model_module": "@jupyter-widgets/controls",
      "model_module_version": "2.0.0",
      "model_name": "HTMLStyleModel",
      "state": {
       "description_width": "",
       "font_size": null,
       "text_color": null
      }
     },
     "8649f1c357cd4d5b995afd9cd8bf6cd5": {
      "model_module": "@jupyter-widgets/base",
      "model_module_version": "2.0.0",
      "model_name": "LayoutModel",
      "state": {}
     },
     "869b42b56f9a4056be189121f22a675d": {
      "model_module": "@jupyter-widgets/controls",
      "model_module_version": "2.0.0",
      "model_name": "HTMLStyleModel",
      "state": {
       "description_width": "",
       "font_size": null,
       "text_color": null
      }
     },
     "86f684bc2536403dbf1e4e388a24205c": {
      "model_module": "@jupyter-widgets/controls",
      "model_module_version": "2.0.0",
      "model_name": "FloatProgressModel",
      "state": {
       "bar_style": "success",
       "layout": "IPY_MODEL_57a4328e77234af8be63d954fb3b8065",
       "max": 40,
       "style": "IPY_MODEL_b430dde3e7b3491480fb27ad4b80770a",
       "value": 40
      }
     },
     "87045d6fabc548d6a5be5721efd546ec": {
      "model_module": "@jupyter-widgets/controls",
      "model_module_version": "2.0.0",
      "model_name": "HTMLStyleModel",
      "state": {
       "description_width": "",
       "font_size": null,
       "text_color": null
      }
     },
     "872a73da2d6547aca98ccf69dc0709e6": {
      "model_module": "@jupyter-widgets/controls",
      "model_module_version": "2.0.0",
      "model_name": "HTMLStyleModel",
      "state": {
       "description_width": "",
       "font_size": null,
       "text_color": null
      }
     },
     "877bc3e4ff024bd0b20e9e579354bcfa": {
      "model_module": "@jupyter-widgets/base",
      "model_module_version": "2.0.0",
      "model_name": "LayoutModel",
      "state": {
       "flex": "2"
      }
     },
     "88049114137f4b128188a7e04894349f": {
      "model_module": "@jupyter-widgets/controls",
      "model_module_version": "2.0.0",
      "model_name": "HTMLModel",
      "state": {
       "layout": "IPY_MODEL_bdaf022fe49b4732b60e8b050c3d9018",
       "style": "IPY_MODEL_7546bc3f43e443bea774b65429ac2f93",
       "value": "Validate (599 Steps) (DiceMetric=0.24660): 100%"
      }
     },
     "883ed9a691bb49f98a14d28fe908de04": {
      "model_module": "@jupyter-widgets/controls",
      "model_module_version": "2.0.0",
      "model_name": "ProgressStyleModel",
      "state": {
       "description_width": ""
      }
     },
     "8851227e6b894de69056bb0ad9209762": {
      "model_module": "@jupyter-widgets/controls",
      "model_module_version": "2.0.0",
      "model_name": "HTMLStyleModel",
      "state": {
       "description_width": "",
       "font_size": null,
       "text_color": null
      }
     },
     "8866166a337446f993c53a6051ee4f20": {
      "model_module": "@jupyter-widgets/base",
      "model_module_version": "2.0.0",
      "model_name": "LayoutModel",
      "state": {}
     },
     "88757d91788f417cb865b5828ac25709": {
      "model_module": "@jupyter-widgets/controls",
      "model_module_version": "2.0.0",
      "model_name": "HTMLStyleModel",
      "state": {
       "description_width": "",
       "font_size": null,
       "text_color": null
      }
     },
     "887c26be8fea4701b0380622a699ca9d": {
      "model_module": "@jupyter-widgets/controls",
      "model_module_version": "2.0.0",
      "model_name": "HTMLStyleModel",
      "state": {
       "description_width": "",
       "font_size": null,
       "text_color": null
      }
     },
     "887d98ffe12e48c19f03454a196a4cf8": {
      "model_module": "@jupyter-widgets/controls",
      "model_module_version": "2.0.0",
      "model_name": "HBoxModel",
      "state": {
       "children": [
        "IPY_MODEL_a99a0b91c83b42b8b3cbbc36c59c1b3d",
        "IPY_MODEL_64c0568d91a24746bca4ede8453a5498",
        "IPY_MODEL_741ac252bbd44fb5bafc60531ae3bc8c"
       ],
       "layout": "IPY_MODEL_b13e03dfc57b4765b83066a80645252b"
      }
     },
     "88f340751be346d0a2e5df8c32e2b308": {
      "model_module": "@jupyter-widgets/controls",
      "model_module_version": "2.0.0",
      "model_name": "HBoxModel",
      "state": {
       "children": [
        "IPY_MODEL_ed9ef0d813854ec3927658ab3a17eb3c",
        "IPY_MODEL_4f644c075b0348ecb7b7b8782ce8f401",
        "IPY_MODEL_c8192e98c9a54a608788de37dd667754"
       ],
       "layout": "IPY_MODEL_6df1a6b968ba422d9d3c07ae1a55f252"
      }
     },
     "88fd2b22638749c396d801ab2a38b840": {
      "model_module": "@jupyter-widgets/controls",
      "model_module_version": "2.0.0",
      "model_name": "FloatProgressModel",
      "state": {
       "bar_style": "success",
       "layout": "IPY_MODEL_30b46dbd2bbd4a5eb070a52c98d290f6",
       "max": 40,
       "style": "IPY_MODEL_f124dc2245fe4fbb841a18a51ad400cb",
       "value": 40
      }
     },
     "89359e65f6de4afd9dd6425f45871f01": {
      "model_module": "@jupyter-widgets/base",
      "model_module_version": "2.0.0",
      "model_name": "LayoutModel",
      "state": {
       "display": "inline-flex",
       "flex_flow": "row wrap",
       "width": "100%"
      }
     },
     "8970fc5ea010427ca9e2d288e7175bb7": {
      "model_module": "@jupyter-widgets/controls",
      "model_module_version": "2.0.0",
      "model_name": "HTMLStyleModel",
      "state": {
       "description_width": "",
       "font_size": null,
       "text_color": null
      }
     },
     "897d814e1c7b42df93444100667b994e": {
      "model_module": "@jupyter-widgets/controls",
      "model_module_version": "2.0.0",
      "model_name": "HTMLModel",
      "state": {
       "layout": "IPY_MODEL_7ff113f976904e86aaeb850ec5b6859a",
       "style": "IPY_MODEL_8851227e6b894de69056bb0ad9209762",
       "value": " 40/40 [02:35&lt;00:00,  1.92s/it]"
      }
     },
     "8a1c5b4ccccd4d93b66858dfb5a38f8d": {
      "model_module": "@jupyter-widgets/base",
      "model_module_version": "2.0.0",
      "model_name": "LayoutModel",
      "state": {
       "display": "inline-flex",
       "flex_flow": "row wrap",
       "width": "100%"
      }
     },
     "8abbae0890cc4359bb2eab9390045961": {
      "model_module": "@jupyter-widgets/controls",
      "model_module_version": "2.0.0",
      "model_name": "HBoxModel",
      "state": {
       "children": [
        "IPY_MODEL_caa92039292143b2a9638b5a988b5952",
        "IPY_MODEL_e9d3d1b45288450db4d8663bf9720aaa",
        "IPY_MODEL_4517211627fb46ce8e8e521ae78495ec"
       ],
       "layout": "IPY_MODEL_431475de318044cd94e0215e017f90a6"
      }
     },
     "8acb4831f096442aa3e27a8ab67b5711": {
      "model_module": "@jupyter-widgets/controls",
      "model_module_version": "2.0.0",
      "model_name": "HTMLModel",
      "state": {
       "layout": "IPY_MODEL_5e19e2b36c6a45c585339a2358f15c7c",
       "style": "IPY_MODEL_614a12e56f634383baf2ee4179be8870",
       "value": "Validate (4999 Steps) (DiceMetric=0.27047): 100%"
      }
     },
     "8ae64ac644184536a8b3c7c5a8f97c75": {
      "model_module": "@jupyter-widgets/controls",
      "model_module_version": "2.0.0",
      "model_name": "HTMLStyleModel",
      "state": {
       "description_width": "",
       "font_size": null,
       "text_color": null
      }
     },
     "8af7ca54537047b7b53a25cb4fa6a163": {
      "model_module": "@jupyter-widgets/controls",
      "model_module_version": "2.0.0",
      "model_name": "HBoxModel",
      "state": {
       "children": [
        "IPY_MODEL_9fbc6ecffb4349d784c1ecdcc48eba7c",
        "IPY_MODEL_d8af2f36bcb142e1be9e485a60e37359",
        "IPY_MODEL_fc1062f167404a8697aedd447f8b35ed"
       ],
       "layout": "IPY_MODEL_64a228b7fe964d819e49ac75ad2c4ae8"
      }
     },
     "8b0aa416b38c48a0b5d6ee71a53a7f24": {
      "model_module": "@jupyter-widgets/controls",
      "model_module_version": "2.0.0",
      "model_name": "ProgressStyleModel",
      "state": {
       "description_width": ""
      }
     },
     "8b0b112ae4e743aea6d4dc94bf0051ff": {
      "model_module": "@jupyter-widgets/controls",
      "model_module_version": "2.0.0",
      "model_name": "FloatProgressModel",
      "state": {
       "bar_style": "success",
       "layout": "IPY_MODEL_78c3ddea38e1404595ca740b191fb6db",
       "max": 40,
       "style": "IPY_MODEL_823b10bc9bca47aaa352844f8b6e47bd",
       "value": 40
      }
     },
     "8b35b58d69594c928062a7cd10dc8ae8": {
      "model_module": "@jupyter-widgets/controls",
      "model_module_version": "2.0.0",
      "model_name": "HTMLStyleModel",
      "state": {
       "description_width": "",
       "font_size": null,
       "text_color": null
      }
     },
     "8b6b5dda3b1b4a45a991fa691eeb1f81": {
      "model_module": "@jupyter-widgets/controls",
      "model_module_version": "2.0.0",
      "model_name": "HTMLStyleModel",
      "state": {
       "description_width": "",
       "font_size": null,
       "text_color": null
      }
     },
     "8c0433afaa1c4ff688c711dac97b3953": {
      "model_module": "@jupyter-widgets/controls",
      "model_module_version": "2.0.0",
      "model_name": "HTMLModel",
      "state": {
       "layout": "IPY_MODEL_cd99765f51c54768bfa04fc08d118ccc",
       "style": "IPY_MODEL_90ef295abe9949e5975ad41e13e61060",
       "value": " 40/40 [02:37&lt;00:00,  1.96s/it]"
      }
     },
     "8c1c59ffc01442ffa258db8090e3a000": {
      "model_module": "@jupyter-widgets/base",
      "model_module_version": "2.0.0",
      "model_name": "LayoutModel",
      "state": {}
     },
     "8c586b53a9c24c4fb2b7736efa3e9ab8": {
      "model_module": "@jupyter-widgets/controls",
      "model_module_version": "2.0.0",
      "model_name": "HTMLModel",
      "state": {
       "layout": "IPY_MODEL_c02a6fd9b1a3401e8bf1be088ef23b6c",
       "style": "IPY_MODEL_2d974848477d47ffb9ba1924e8412639",
       "value": "Validate (5999 Steps) (DiceMetric=0.27386): 100%"
      }
     },
     "8cadd25f7369439bb35aa4364579543a": {
      "model_module": "@jupyter-widgets/base",
      "model_module_version": "2.0.0",
      "model_name": "LayoutModel",
      "state": {}
     },
     "8d16132d4b714fada1d86738ebc0b9f1": {
      "model_module": "@jupyter-widgets/base",
      "model_module_version": "2.0.0",
      "model_name": "LayoutModel",
      "state": {
       "display": "inline-flex",
       "flex_flow": "row wrap",
       "width": "100%"
      }
     },
     "8d965df77ecc41cf967442a629ac1740": {
      "model_module": "@jupyter-widgets/controls",
      "model_module_version": "2.0.0",
      "model_name": "HBoxModel",
      "state": {
       "children": [
        "IPY_MODEL_c3f3809f55a7430981f1dff2ad2deaa3",
        "IPY_MODEL_936c7d493be84b59aeaea50dacfcf23a",
        "IPY_MODEL_4207acb9c0124954893c4568bcf3fd6b"
       ],
       "layout": "IPY_MODEL_097e0609f2ae4ba5a3a7eecf5c1c971f"
      }
     },
     "8dac2320d99e426e853977c4d546f090": {
      "model_module": "@jupyter-widgets/base",
      "model_module_version": "2.0.0",
      "model_name": "LayoutModel",
      "state": {}
     },
     "8dddb244c84042fb887c10ea88a23825": {
      "model_module": "@jupyter-widgets/base",
      "model_module_version": "2.0.0",
      "model_name": "LayoutModel",
      "state": {
       "display": "inline-flex",
       "flex_flow": "row wrap",
       "width": "100%"
      }
     },
     "8e04e10b0486455db214558c76474891": {
      "model_module": "@jupyter-widgets/controls",
      "model_module_version": "2.0.0",
      "model_name": "HTMLStyleModel",
      "state": {
       "description_width": "",
       "font_size": null,
       "text_color": null
      }
     },
     "8e640f67dc384d449a5c678bc15de9f1": {
      "model_module": "@jupyter-widgets/controls",
      "model_module_version": "2.0.0",
      "model_name": "HTMLStyleModel",
      "state": {
       "description_width": "",
       "font_size": null,
       "text_color": null
      }
     },
     "8eaa1b99759b4b44b646bbe2b160cedb": {
      "model_module": "@jupyter-widgets/controls",
      "model_module_version": "2.0.0",
      "model_name": "HTMLStyleModel",
      "state": {
       "description_width": "",
       "font_size": null,
       "text_color": null
      }
     },
     "8ecc3666a473453794b7f4296a803249": {
      "model_module": "@jupyter-widgets/controls",
      "model_module_version": "2.0.0",
      "model_name": "ProgressStyleModel",
      "state": {
       "description_width": ""
      }
     },
     "8ee5163db1f642238344b0d1ac7fdfd9": {
      "model_module": "@jupyter-widgets/base",
      "model_module_version": "2.0.0",
      "model_name": "LayoutModel",
      "state": {
       "flex": "2"
      }
     },
     "8f4098a21eb7442ea324d8cb71ba5c5f": {
      "model_module": "@jupyter-widgets/controls",
      "model_module_version": "2.0.0",
      "model_name": "HTMLModel",
      "state": {
       "layout": "IPY_MODEL_8c1c59ffc01442ffa258db8090e3a000",
       "style": "IPY_MODEL_2edf5d8893cf4978836eed0b19d901ba",
       "value": "Validate (5899 Steps) (DiceMetric=0.27409): 100%"
      }
     },
     "8f6e6b45f0d8491dbbc039e717757fc2": {
      "model_module": "@jupyter-widgets/controls",
      "model_module_version": "2.0.0",
      "model_name": "ProgressStyleModel",
      "state": {
       "description_width": ""
      }
     },
     "8faf909b995d443a980e94b8f98432a3": {
      "model_module": "@jupyter-widgets/base",
      "model_module_version": "2.0.0",
      "model_name": "LayoutModel",
      "state": {
       "display": "inline-flex",
       "flex_flow": "row wrap",
       "width": "100%"
      }
     },
     "8fc4942ebc4f4e249607771cef048c7c": {
      "model_module": "@jupyter-widgets/base",
      "model_module_version": "2.0.0",
      "model_name": "LayoutModel",
      "state": {
       "flex": "2"
      }
     },
     "900745d298594cafbe704d398975f8fe": {
      "model_module": "@jupyter-widgets/controls",
      "model_module_version": "2.0.0",
      "model_name": "HBoxModel",
      "state": {
       "children": [
        "IPY_MODEL_1182ce7467164994bab23711a52268c2",
        "IPY_MODEL_18e4bf55bbab453d8194457b92d178e9",
        "IPY_MODEL_c590feb2f0cb403ba22450d644ffc4ce"
       ],
       "layout": "IPY_MODEL_25db0059f1e94eb88c8ea186c4eb9f30"
      }
     },
     "9015a4fffb1540c881913b93f8288fd1": {
      "model_module": "@jupyter-widgets/base",
      "model_module_version": "2.0.0",
      "model_name": "LayoutModel",
      "state": {}
     },
     "905023887a3a4a1eb6b8e603bd717d72": {
      "model_module": "@jupyter-widgets/controls",
      "model_module_version": "2.0.0",
      "model_name": "FloatProgressModel",
      "state": {
       "bar_style": "success",
       "layout": "IPY_MODEL_877bc3e4ff024bd0b20e9e579354bcfa",
       "max": 40,
       "style": "IPY_MODEL_24013ba178d145bb9425fa25bd00f0ae",
       "value": 40
      }
     },
     "9071d628fde84a5ba581017f49d59003": {
      "model_module": "@jupyter-widgets/controls",
      "model_module_version": "2.0.0",
      "model_name": "HTMLStyleModel",
      "state": {
       "description_width": "",
       "font_size": null,
       "text_color": null
      }
     },
     "90b08304a8f04c0da0dc05b1513098c5": {
      "model_module": "@jupyter-widgets/controls",
      "model_module_version": "2.0.0",
      "model_name": "HTMLModel",
      "state": {
       "layout": "IPY_MODEL_48f3fd6a5e20452e8e2c03c5801417e6",
       "style": "IPY_MODEL_c569595ef4904ffba0c5cb909214d6e9",
       "value": "Validate (3499 Steps) (DiceMetric=0.26513): 100%"
      }
     },
     "90b4161a64b845e2b6be24c105b949c9": {
      "model_module": "@jupyter-widgets/base",
      "model_module_version": "2.0.0",
      "model_name": "LayoutModel",
      "state": {}
     },
     "90d98ec650384083ae79ea40b5bb11ba": {
      "model_module": "@jupyter-widgets/base",
      "model_module_version": "2.0.0",
      "model_name": "LayoutModel",
      "state": {}
     },
     "90ef295abe9949e5975ad41e13e61060": {
      "model_module": "@jupyter-widgets/controls",
      "model_module_version": "2.0.0",
      "model_name": "HTMLStyleModel",
      "state": {
       "description_width": "",
       "font_size": null,
       "text_color": null
      }
     },
     "90f30c46120b4f74a3d0b3dc705760a1": {
      "model_module": "@jupyter-widgets/controls",
      "model_module_version": "2.0.0",
      "model_name": "HTMLModel",
      "state": {
       "layout": "IPY_MODEL_df98d2887c3442dca115bfdc7ce6282c",
       "style": "IPY_MODEL_caab5e3fce1a40dfa50f18175cb8e270",
       "value": " 40/40 [02:34&lt;00:00,  1.94s/it]"
      }
     },
     "91708543a32d407d87b6b5cc1fca31d0": {
      "model_module": "@jupyter-widgets/base",
      "model_module_version": "2.0.0",
      "model_name": "LayoutModel",
      "state": {}
     },
     "91887a00be4d442a95806c00cb848009": {
      "model_module": "@jupyter-widgets/controls",
      "model_module_version": "2.0.0",
      "model_name": "ProgressStyleModel",
      "state": {
       "description_width": ""
      }
     },
     "919bc8801f954d709f34a79619266581": {
      "model_module": "@jupyter-widgets/controls",
      "model_module_version": "2.0.0",
      "model_name": "HBoxModel",
      "state": {
       "children": [
        "IPY_MODEL_5bcb0b9ca01043a2b1d4b33e74d9b440",
        "IPY_MODEL_648eaf854ed44bf381f767f40fc8f3db",
        "IPY_MODEL_75ef668a71e74fc38ed43637ea056be3"
       ],
       "layout": "IPY_MODEL_670aa20bd9f34b6e944e4571d0ad99bd"
      }
     },
     "91db256ee7a44873913550da9affc57b": {
      "model_module": "@jupyter-widgets/controls",
      "model_module_version": "2.0.0",
      "model_name": "HTMLModel",
      "state": {
       "layout": "IPY_MODEL_f0bc8ad5f11f47efad377538315ddf9d",
       "style": "IPY_MODEL_16ba62a66ddc4d0b9ee67a98cf70e3e0",
       "value": " 40/40 [02:34&lt;00:00,  1.92s/it]"
      }
     },
     "91df170b68e74bc4b30aea98fb73677a": {
      "model_module": "@jupyter-widgets/controls",
      "model_module_version": "2.0.0",
      "model_name": "HTMLStyleModel",
      "state": {
       "description_width": "",
       "font_size": null,
       "text_color": null
      }
     },
     "91ec10aa7a6449da9e0b841d239e7b4a": {
      "model_module": "@jupyter-widgets/controls",
      "model_module_version": "2.0.0",
      "model_name": "ProgressStyleModel",
      "state": {
       "description_width": ""
      }
     },
     "9208c985a3c2414490f879a6fc0b0662": {
      "model_module": "@jupyter-widgets/base",
      "model_module_version": "2.0.0",
      "model_name": "LayoutModel",
      "state": {}
     },
     "932d5320740e4fe5b947170a26334403": {
      "model_module": "@jupyter-widgets/controls",
      "model_module_version": "2.0.0",
      "model_name": "ProgressStyleModel",
      "state": {
       "description_width": ""
      }
     },
     "936c7d493be84b59aeaea50dacfcf23a": {
      "model_module": "@jupyter-widgets/controls",
      "model_module_version": "2.0.0",
      "model_name": "FloatProgressModel",
      "state": {
       "bar_style": "success",
       "layout": "IPY_MODEL_4ae4bb3bcfd84c31878542ebe42ead53",
       "max": 40,
       "style": "IPY_MODEL_94a5b4e8131244e6a49715ed18f726fe",
       "value": 40
      }
     },
     "9385db9a3959471c8328776ed4c03813": {
      "model_module": "@jupyter-widgets/controls",
      "model_module_version": "2.0.0",
      "model_name": "HBoxModel",
      "state": {
       "children": [
        "IPY_MODEL_e187fd1156f24b85838f0e6c35a00442",
        "IPY_MODEL_9d969c154c8045c7a14e9924afe35126",
        "IPY_MODEL_396383193eb44ceb908e192c2d8b6e56"
       ],
       "layout": "IPY_MODEL_aae3f3a9271f4f93a34b2b0c7b31ff0f"
      }
     },
     "9405ca86467648be96a9b650df4889d5": {
      "model_module": "@jupyter-widgets/base",
      "model_module_version": "2.0.0",
      "model_name": "LayoutModel",
      "state": {
       "display": "inline-flex",
       "flex_flow": "row wrap",
       "width": "100%"
      }
     },
     "9409e93f1a3f4d4fb0e934d59cc3736a": {
      "model_module": "@jupyter-widgets/controls",
      "model_module_version": "2.0.0",
      "model_name": "HTMLModel",
      "state": {
       "layout": "IPY_MODEL_dd0c17846921499ebf07b1468de51dc0",
       "style": "IPY_MODEL_35ebce34e45448e29a9302d61609657a",
       "value": " 40/40 [02:34&lt;00:00,  1.93s/it]"
      }
     },
     "942fd2de4ac44c6aa1ab544519ed1ab9": {
      "model_module": "@jupyter-widgets/base",
      "model_module_version": "2.0.0",
      "model_name": "LayoutModel",
      "state": {}
     },
     "94678edc0ca247a28a8b53ad41c182f4": {
      "model_module": "@jupyter-widgets/controls",
      "model_module_version": "2.0.0",
      "model_name": "FloatProgressModel",
      "state": {
       "bar_style": "success",
       "layout": "IPY_MODEL_26ecce8bc5c14247a342ec236ad7d13a",
       "max": 40,
       "style": "IPY_MODEL_3bb45a8e09dd4dcfab837abe8f9d4ad4",
       "value": 40
      }
     },
     "9482fd18ee064008b79ff3c5b9b3d17b": {
      "model_module": "@jupyter-widgets/base",
      "model_module_version": "2.0.0",
      "model_name": "LayoutModel",
      "state": {
       "flex": "2"
      }
     },
     "94994f0df06b498dbd0f1f7dbb2d025f": {
      "model_module": "@jupyter-widgets/controls",
      "model_module_version": "2.0.0",
      "model_name": "ProgressStyleModel",
      "state": {
       "description_width": ""
      }
     },
     "94a5b4e8131244e6a49715ed18f726fe": {
      "model_module": "@jupyter-widgets/controls",
      "model_module_version": "2.0.0",
      "model_name": "ProgressStyleModel",
      "state": {
       "description_width": ""
      }
     },
     "94b7e5a4adfe4fd29e918184ac0fa824": {
      "model_module": "@jupyter-widgets/controls",
      "model_module_version": "2.0.0",
      "model_name": "HTMLModel",
      "state": {
       "layout": "IPY_MODEL_994a9dc96b3940b1aace03ca82fe54d1",
       "style": "IPY_MODEL_ebc30672817345bf8836e5c1f4352ecc",
       "value": " 40/40 [02:33&lt;00:00,  1.92s/it]"
      }
     },
     "94ebe9097dcc4771be5fb091a5fccda5": {
      "model_module": "@jupyter-widgets/controls",
      "model_module_version": "2.0.0",
      "model_name": "HTMLModel",
      "state": {
       "layout": "IPY_MODEL_e8283a24aa9e4e409849a881fc115276",
       "style": "IPY_MODEL_8eaa1b99759b4b44b646bbe2b160cedb",
       "value": "Validate (8699 Steps) (DiceMetric=0.28295): 100%"
      }
     },
     "952bebbb85d04383b7961ad75c3c6bcf": {
      "model_module": "@jupyter-widgets/controls",
      "model_module_version": "2.0.0",
      "model_name": "HBoxModel",
      "state": {
       "children": [
        "IPY_MODEL_a0258d8611784454a0f0911dfec2e4ae",
        "IPY_MODEL_7a18ae979f044708b05f7fac4893daba",
        "IPY_MODEL_5d931b960bc24bdeac1c2dc86a04a7ea"
       ],
       "layout": "IPY_MODEL_0c9cd968cfce4737a1ddb8318bf9e282"
      }
     },
     "952c6af4290b4e959cee9705b16497b8": {
      "model_module": "@jupyter-widgets/controls",
      "model_module_version": "2.0.0",
      "model_name": "HTMLStyleModel",
      "state": {
       "description_width": "",
       "font_size": null,
       "text_color": null
      }
     },
     "95714a3d163540f3a2491cbfeafd5ff1": {
      "model_module": "@jupyter-widgets/base",
      "model_module_version": "2.0.0",
      "model_name": "LayoutModel",
      "state": {}
     },
     "95d6d9338aa640649f573526ed7ebba1": {
      "model_module": "@jupyter-widgets/controls",
      "model_module_version": "2.0.0",
      "model_name": "HBoxModel",
      "state": {
       "children": [
        "IPY_MODEL_8acb4831f096442aa3e27a8ab67b5711",
        "IPY_MODEL_c8325fa9551f4eaba6407238e6f44349",
        "IPY_MODEL_8185a5ac80e54dbbbc582e6d445a3ae8"
       ],
       "layout": "IPY_MODEL_5db0d60223ee4d0e8ee71e53f8c17672"
      }
     },
     "95d8523ff2f147fba05077711a93e287": {
      "model_module": "@jupyter-widgets/base",
      "model_module_version": "2.0.0",
      "model_name": "LayoutModel",
      "state": {
       "display": "inline-flex",
       "flex_flow": "row wrap",
       "width": "100%"
      }
     },
     "963b942b602f41fa9fe7dfb750bbef99": {
      "model_module": "@jupyter-widgets/base",
      "model_module_version": "2.0.0",
      "model_name": "LayoutModel",
      "state": {}
     },
     "9669cc1d4b3146e2a27965d6e4399b60": {
      "model_module": "@jupyter-widgets/base",
      "model_module_version": "2.0.0",
      "model_name": "LayoutModel",
      "state": {}
     },
     "96d65fafc8114b1a8a929a7f0eda14d6": {
      "model_module": "@jupyter-widgets/controls",
      "model_module_version": "2.0.0",
      "model_name": "HTMLModel",
      "state": {
       "layout": "IPY_MODEL_65a75e748e8c4353a09f082a77bafdd0",
       "style": "IPY_MODEL_ff050f2a58534f01884d817190b71e53",
       "value": "Validate (3999 Steps) (DiceMetric=0.26792): 100%"
      }
     },
     "9728c5b8e858487886dc3b71e319b91d": {
      "model_module": "@jupyter-widgets/base",
      "model_module_version": "2.0.0",
      "model_name": "LayoutModel",
      "state": {
       "display": "inline-flex",
       "flex_flow": "row wrap",
       "width": "100%"
      }
     },
     "976cc99785264f60b0debfd74a23c845": {
      "model_module": "@jupyter-widgets/controls",
      "model_module_version": "2.0.0",
      "model_name": "HTMLStyleModel",
      "state": {
       "description_width": "",
       "font_size": null,
       "text_color": null
      }
     },
     "97751ca798d34b2099017067642c3ab2": {
      "model_module": "@jupyter-widgets/base",
      "model_module_version": "2.0.0",
      "model_name": "LayoutModel",
      "state": {}
     },
     "978a62eb07624feda3648d38d4f158a6": {
      "model_module": "@jupyter-widgets/controls",
      "model_module_version": "2.0.0",
      "model_name": "HTMLStyleModel",
      "state": {
       "description_width": "",
       "font_size": null,
       "text_color": null
      }
     },
     "97a66d6889cd419cb6b4d13c493c703a": {
      "model_module": "@jupyter-widgets/base",
      "model_module_version": "2.0.0",
      "model_name": "LayoutModel",
      "state": {}
     },
     "97ab3991f4fb4761a4ad576289806f9c": {
      "model_module": "@jupyter-widgets/controls",
      "model_module_version": "2.0.0",
      "model_name": "HTMLStyleModel",
      "state": {
       "description_width": "",
       "font_size": null,
       "text_color": null
      }
     },
     "98676804708640e88a7f20eade764c57": {
      "model_module": "@jupyter-widgets/controls",
      "model_module_version": "2.0.0",
      "model_name": "ProgressStyleModel",
      "state": {
       "description_width": ""
      }
     },
     "98e97cd88f56472292659f04e1d3ba70": {
      "model_module": "@jupyter-widgets/controls",
      "model_module_version": "2.0.0",
      "model_name": "FloatProgressModel",
      "state": {
       "bar_style": "success",
       "layout": "IPY_MODEL_fce35a897c194bbc8379ba6f71f63dc4",
       "max": 40,
       "style": "IPY_MODEL_b9d44316199c451d9b6d2e18d27f836a",
       "value": 40
      }
     },
     "9902a358b76e4de39fa6e68a85b88bd0": {
      "model_module": "@jupyter-widgets/controls",
      "model_module_version": "2.0.0",
      "model_name": "FloatProgressModel",
      "state": {
       "bar_style": "success",
       "layout": "IPY_MODEL_b54818a6865643038102dcf53ea46729",
       "max": 40,
       "style": "IPY_MODEL_74fb7dbbf6324740848276952a9e5181",
       "value": 40
      }
     },
     "99130af99c9848808f92444bad32510c": {
      "model_module": "@jupyter-widgets/base",
      "model_module_version": "2.0.0",
      "model_name": "LayoutModel",
      "state": {
       "flex": "2"
      }
     },
     "99300ec00c694ee0b445131884e64a8f": {
      "model_module": "@jupyter-widgets/base",
      "model_module_version": "2.0.0",
      "model_name": "LayoutModel",
      "state": {
       "flex": "2"
      }
     },
     "994a9dc96b3940b1aace03ca82fe54d1": {
      "model_module": "@jupyter-widgets/base",
      "model_module_version": "2.0.0",
      "model_name": "LayoutModel",
      "state": {}
     },
     "99560396cb90401888acf51e9f9ee607": {
      "model_module": "@jupyter-widgets/base",
      "model_module_version": "2.0.0",
      "model_name": "LayoutModel",
      "state": {}
     },
     "99771c4e62dc44ba8b51103f32212c4a": {
      "model_module": "@jupyter-widgets/controls",
      "model_module_version": "2.0.0",
      "model_name": "FloatProgressModel",
      "state": {
       "bar_style": "success",
       "layout": "IPY_MODEL_bf322ba7458846ac8a7c8993376bba2c",
       "max": 40,
       "style": "IPY_MODEL_331e8397e1224a5caae5633b50331243",
       "value": 40
      }
     },
     "99b1fc599d6b4261bdf0f653026f8478": {
      "model_module": "@jupyter-widgets/base",
      "model_module_version": "2.0.0",
      "model_name": "LayoutModel",
      "state": {
       "flex": "2"
      }
     },
     "99d5bf9c9d564e3e8fd3ca5247974eef": {
      "model_module": "@jupyter-widgets/controls",
      "model_module_version": "2.0.0",
      "model_name": "HBoxModel",
      "state": {
       "children": [
        "IPY_MODEL_9f7b371d447e41c885733347ce977ade",
        "IPY_MODEL_a595e6d7ee134e4ab90bd533661b7812",
        "IPY_MODEL_7ef6f7a9cb4d4ad5bdd5a1626343f2a9"
       ],
       "layout": "IPY_MODEL_cf5c958b285b40e0bfb742da669260ab"
      }
     },
     "99e0c67e6883412e98ae99f8d5b19865": {
      "model_module": "@jupyter-widgets/base",
      "model_module_version": "2.0.0",
      "model_name": "LayoutModel",
      "state": {
       "flex": "2"
      }
     },
     "9a4697df5385496babacddc3393e1665": {
      "model_module": "@jupyter-widgets/controls",
      "model_module_version": "2.0.0",
      "model_name": "FloatProgressModel",
      "state": {
       "bar_style": "success",
       "layout": "IPY_MODEL_b076cd06ccd047e3a87ef3e92e28a06e",
       "max": 40,
       "style": "IPY_MODEL_0cbdebfa20684197a1e4599d06455486",
       "value": 40
      }
     },
     "9a66372487d743a6a70dbc74cb1e2a01": {
      "model_module": "@jupyter-widgets/base",
      "model_module_version": "2.0.0",
      "model_name": "LayoutModel",
      "state": {}
     },
     "9b595c42577746e0aacbaae435d75f93": {
      "model_module": "@jupyter-widgets/base",
      "model_module_version": "2.0.0",
      "model_name": "LayoutModel",
      "state": {
       "display": "inline-flex",
       "flex_flow": "row wrap",
       "width": "100%"
      }
     },
     "9b61171dd28041e39d3e79b938c474ee": {
      "model_module": "@jupyter-widgets/controls",
      "model_module_version": "2.0.0",
      "model_name": "HTMLStyleModel",
      "state": {
       "description_width": "",
       "font_size": null,
       "text_color": null
      }
     },
     "9b640f885f044cb9ba7a4c353fa59f55": {
      "model_module": "@jupyter-widgets/controls",
      "model_module_version": "2.0.0",
      "model_name": "ProgressStyleModel",
      "state": {
       "description_width": ""
      }
     },
     "9b6b78becfc94e1eaa2b97b3bd4ee851": {
      "model_module": "@jupyter-widgets/base",
      "model_module_version": "2.0.0",
      "model_name": "LayoutModel",
      "state": {
       "display": "inline-flex",
       "flex_flow": "row wrap",
       "width": "100%"
      }
     },
     "9b8ae3881fb449649d92ffdcc1180962": {
      "model_module": "@jupyter-widgets/controls",
      "model_module_version": "2.0.0",
      "model_name": "FloatProgressModel",
      "state": {
       "bar_style": "success",
       "layout": "IPY_MODEL_4f3f3e660a334bb08d45bc494549466f",
       "max": 40,
       "style": "IPY_MODEL_c0e244741c614c0cb4aa2fdc186fe7c1",
       "value": 40
      }
     },
     "9b8c2e7eb49a4e8aa42525cd11eeaf57": {
      "model_module": "@jupyter-widgets/controls",
      "model_module_version": "2.0.0",
      "model_name": "HTMLStyleModel",
      "state": {
       "description_width": "",
       "font_size": null,
       "text_color": null
      }
     },
     "9c5029fc8d6e4a7e9d8f4829ee13718c": {
      "model_module": "@jupyter-widgets/controls",
      "model_module_version": "2.0.0",
      "model_name": "HTMLModel",
      "state": {
       "layout": "IPY_MODEL_51081173e5f543f0bb65ddc8625c827b",
       "style": "IPY_MODEL_9b61171dd28041e39d3e79b938c474ee",
       "value": " 40/40 [02:36&lt;00:00,  1.96s/it]"
      }
     },
     "9c67ba25851f47e88ececa20da17dedb": {
      "model_module": "@jupyter-widgets/controls",
      "model_module_version": "2.0.0",
      "model_name": "HTMLModel",
      "state": {
       "layout": "IPY_MODEL_7a347fa2e96b4136a4c7f5a224be265a",
       "style": "IPY_MODEL_f55ecddedc43499096d833e049c2e5ab",
       "value": " 40/40 [02:34&lt;00:00,  1.92s/it]"
      }
     },
     "9c87adb5e5cc423ba31d1fc0f95e6742": {
      "model_module": "@jupyter-widgets/controls",
      "model_module_version": "2.0.0",
      "model_name": "FloatProgressModel",
      "state": {
       "bar_style": "success",
       "layout": "IPY_MODEL_7d9e55b0bff94acc89d5c42fd52d85c4",
       "max": 40,
       "style": "IPY_MODEL_30898ca3fca846309120952344951c45",
       "value": 40
      }
     },
     "9c93bc3bb4d14ea8aa49b8ffd911252f": {
      "model_module": "@jupyter-widgets/base",
      "model_module_version": "2.0.0",
      "model_name": "LayoutModel",
      "state": {}
     },
     "9ca1d0eecd2b4b52ac792e255aa94cde": {
      "model_module": "@jupyter-widgets/controls",
      "model_module_version": "2.0.0",
      "model_name": "HBoxModel",
      "state": {
       "children": [
        "IPY_MODEL_7df76dbf115742668ad783d929b6122e",
        "IPY_MODEL_5b35699c1d204fdc9c445bda7732be90",
        "IPY_MODEL_d9a6bc9213494007a1a41bbcd09ebcb8"
       ],
       "layout": "IPY_MODEL_f7d8dda5edf34cc3bca3a104b4c7f475"
      }
     },
     "9ca1ef57edfb40fb84168d3eebaae15c": {
      "model_module": "@jupyter-widgets/controls",
      "model_module_version": "2.0.0",
      "model_name": "HTMLModel",
      "state": {
       "layout": "IPY_MODEL_b3b06db1ddb04b2a8ee36bfdd34d9606",
       "style": "IPY_MODEL_54a6d429fe5c4cada4378248a0536540",
       "value": "Validate (5399 Steps) (DiceMetric=0.27301): 100%"
      }
     },
     "9d36938b304c43749794a6a8d17da7ac": {
      "model_module": "@jupyter-widgets/controls",
      "model_module_version": "2.0.0",
      "model_name": "ProgressStyleModel",
      "state": {
       "description_width": ""
      }
     },
     "9d969c154c8045c7a14e9924afe35126": {
      "model_module": "@jupyter-widgets/controls",
      "model_module_version": "2.0.0",
      "model_name": "FloatProgressModel",
      "state": {
       "bar_style": "success",
       "layout": "IPY_MODEL_db6f28a5bf39419b9d9e74e03f5afccc",
       "max": 40,
       "style": "IPY_MODEL_67d92d8c477748ecb692da67cdf92dd9",
       "value": 40
      }
     },
     "9dd5d19ad91f428c933f1540f56f1cbd": {
      "model_module": "@jupyter-widgets/controls",
      "model_module_version": "2.0.0",
      "model_name": "HTMLModel",
      "state": {
       "layout": "IPY_MODEL_0899ab0ddc5c4757814a3e5e22d5184e",
       "style": "IPY_MODEL_2a4d6aa78a2e4d078fdbe3cc50fca3b3",
       "value": "Validate (4699 Steps) (DiceMetric=0.26968): 100%"
      }
     },
     "9e9ed9df74f94d159e1d70a7294d513b": {
      "model_module": "@jupyter-widgets/base",
      "model_module_version": "2.0.0",
      "model_name": "LayoutModel",
      "state": {
       "flex": "2"
      }
     },
     "9f01f5e9f4ed4069ade9f43deaf155e3": {
      "model_module": "@jupyter-widgets/controls",
      "model_module_version": "2.0.0",
      "model_name": "HTMLModel",
      "state": {
       "layout": "IPY_MODEL_ffe08d1196f24beb801244a14f863b56",
       "style": "IPY_MODEL_fdf69fcfb4034d2db67c83a88aa0ca81",
       "value": " 40/40 [02:34&lt;00:00,  1.93s/it]"
      }
     },
     "9f1470a0108d48918482a2222110dcb0": {
      "model_module": "@jupyter-widgets/base",
      "model_module_version": "2.0.0",
      "model_name": "LayoutModel",
      "state": {
       "display": "inline-flex",
       "flex_flow": "row wrap",
       "width": "100%"
      }
     },
     "9f3e76760add4d61986e529ee6e51217": {
      "model_module": "@jupyter-widgets/base",
      "model_module_version": "2.0.0",
      "model_name": "LayoutModel",
      "state": {
       "display": "inline-flex",
       "flex_flow": "row wrap",
       "width": "100%"
      }
     },
     "9f4d7824a7274adfb3f337dc829807b2": {
      "model_module": "@jupyter-widgets/controls",
      "model_module_version": "2.0.0",
      "model_name": "HTMLModel",
      "state": {
       "layout": "IPY_MODEL_9208c985a3c2414490f879a6fc0b0662",
       "style": "IPY_MODEL_2529fa9da0ec4deca2be55e75c44ae71",
       "value": " 40/40 [02:35&lt;00:00,  1.93s/it]"
      }
     },
     "9f69b72b203d48a2b5a459822276b295": {
      "model_module": "@jupyter-widgets/base",
      "model_module_version": "2.0.0",
      "model_name": "LayoutModel",
      "state": {}
     },
     "9f7b371d447e41c885733347ce977ade": {
      "model_module": "@jupyter-widgets/controls",
      "model_module_version": "2.0.0",
      "model_name": "HTMLModel",
      "state": {
       "layout": "IPY_MODEL_71e253a9dc5041b4af867b78efccf328",
       "style": "IPY_MODEL_3606d46a08fa42d4be07695b2c9149e7",
       "value": "Validate (7699 Steps) (DiceMetric=0.28033): 100%"
      }
     },
     "9f8387403a6941cca48fd7cd66b75bc6": {
      "model_module": "@jupyter-widgets/controls",
      "model_module_version": "2.0.0",
      "model_name": "HTMLModel",
      "state": {
       "layout": "IPY_MODEL_a0eeb47fbcc84c9589c7003dab949ba2",
       "style": "IPY_MODEL_887c26be8fea4701b0380622a699ca9d",
       "value": "Validate (5099 Steps) (DiceMetric=0.27078): 100%"
      }
     },
     "9f8c2e4a30294d1aa14c9f5e805eb1a6": {
      "model_module": "@jupyter-widgets/controls",
      "model_module_version": "2.0.0",
      "model_name": "FloatProgressModel",
      "state": {
       "bar_style": "success",
       "layout": "IPY_MODEL_3e9d0e6be71b4205a8ba792e1e82646f",
       "max": 40,
       "style": "IPY_MODEL_c8fee9d5d1bd4305a27137fba0f93a23",
       "value": 40
      }
     },
     "9f9354cac083406dabcd4fd4a35d4bed": {
      "model_module": "@jupyter-widgets/base",
      "model_module_version": "2.0.0",
      "model_name": "LayoutModel",
      "state": {}
     },
     "9fbc6ecffb4349d784c1ecdcc48eba7c": {
      "model_module": "@jupyter-widgets/controls",
      "model_module_version": "2.0.0",
      "model_name": "HTMLModel",
      "state": {
       "layout": "IPY_MODEL_62de5ff0ba644461adbaeb703e7cd687",
       "style": "IPY_MODEL_2115c5f293054795bc541b29e7cd94fe",
       "value": "Validate (8299 Steps) (DiceMetric=0.28229): 100%"
      }
     },
     "a0258d8611784454a0f0911dfec2e4ae": {
      "model_module": "@jupyter-widgets/controls",
      "model_module_version": "2.0.0",
      "model_name": "HTMLModel",
      "state": {
       "layout": "IPY_MODEL_9c93bc3bb4d14ea8aa49b8ffd911252f",
       "style": "IPY_MODEL_e79bdee0b1b1462fb3d48c48d6c2f1b7",
       "value": "Validate (7499 Steps) (DiceMetric=0.27971): 100%"
      }
     },
     "a091ea344d8e4cdda4200c2cb99d56ed": {
      "model_module": "@jupyter-widgets/base",
      "model_module_version": "2.0.0",
      "model_name": "LayoutModel",
      "state": {}
     },
     "a0acdccb05a4468dad8c117e15534ce7": {
      "model_module": "@jupyter-widgets/controls",
      "model_module_version": "2.0.0",
      "model_name": "HTMLStyleModel",
      "state": {
       "description_width": "",
       "font_size": null,
       "text_color": null
      }
     },
     "a0e045a34e424621b0169dc8da7c713a": {
      "model_module": "@jupyter-widgets/controls",
      "model_module_version": "2.0.0",
      "model_name": "HTMLModel",
      "state": {
       "layout": "IPY_MODEL_032310d1a4b742e180833478d397e80e",
       "style": "IPY_MODEL_5e174660d93e409c9880846333690ed2",
       "value": " 40/40 [02:34&lt;00:00,  1.91s/it]"
      }
     },
     "a0e2752b4e194f0490132fce921e251a": {
      "model_module": "@jupyter-widgets/base",
      "model_module_version": "2.0.0",
      "model_name": "LayoutModel",
      "state": {}
     },
     "a0eeb47fbcc84c9589c7003dab949ba2": {
      "model_module": "@jupyter-widgets/base",
      "model_module_version": "2.0.0",
      "model_name": "LayoutModel",
      "state": {}
     },
     "a1a6d18db66c4fdca014833da28fc171": {
      "model_module": "@jupyter-widgets/base",
      "model_module_version": "2.0.0",
      "model_name": "LayoutModel",
      "state": {}
     },
     "a20a0a7f03c04eab8cbf17605ae45375": {
      "model_module": "@jupyter-widgets/base",
      "model_module_version": "2.0.0",
      "model_name": "LayoutModel",
      "state": {
       "display": "inline-flex",
       "flex_flow": "row wrap",
       "width": "100%"
      }
     },
     "a2218cabbe2041f7ad2c7a6a71aaf9e8": {
      "model_module": "@jupyter-widgets/controls",
      "model_module_version": "2.0.0",
      "model_name": "HTMLModel",
      "state": {
       "layout": "IPY_MODEL_9a66372487d743a6a70dbc74cb1e2a01",
       "style": "IPY_MODEL_fcc252f8b64644c0b4429641a21ece4e",
       "value": "Validate (6799 Steps) (DiceMetric=0.27593): 100%"
      }
     },
     "a2901cc5665946e69e6f9297791e44fb": {
      "model_module": "@jupyter-widgets/controls",
      "model_module_version": "2.0.0",
      "model_name": "FloatProgressModel",
      "state": {
       "bar_style": "success",
       "layout": "IPY_MODEL_b1d097f7593b481ba2ed7691fa2b9d6b",
       "max": 40,
       "style": "IPY_MODEL_6e430734de774ca4b991a9fb41c50265",
       "value": 40
      }
     },
     "a3659c4eebcc4b3e85345f65737da551": {
      "model_module": "@jupyter-widgets/controls",
      "model_module_version": "2.0.0",
      "model_name": "FloatProgressModel",
      "state": {
       "bar_style": "success",
       "layout": "IPY_MODEL_f56a8fc4f999462e96535b94da8d701d",
       "max": 40,
       "style": "IPY_MODEL_4edee852900e47ee9bfa4501981ce13f",
       "value": 40
      }
     },
     "a3d396d7599c412aa82b67317a19c850": {
      "model_module": "@jupyter-widgets/controls",
      "model_module_version": "2.0.0",
      "model_name": "FloatProgressModel",
      "state": {
       "bar_style": "success",
       "layout": "IPY_MODEL_1e9940c3742f4355838f3030aa3a9fb8",
       "max": 40,
       "style": "IPY_MODEL_24cbb7a21c164d9a8316a0b3b39fb658",
       "value": 40
      }
     },
     "a3f87fd5b8b64c4cb06295d83b4453e2": {
      "model_module": "@jupyter-widgets/base",
      "model_module_version": "2.0.0",
      "model_name": "LayoutModel",
      "state": {
       "display": "inline-flex",
       "flex_flow": "row wrap",
       "width": "100%"
      }
     },
     "a58514e354af4d45ad9bba9a8c304214": {
      "model_module": "@jupyter-widgets/controls",
      "model_module_version": "2.0.0",
      "model_name": "HTMLStyleModel",
      "state": {
       "description_width": "",
       "font_size": null,
       "text_color": null
      }
     },
     "a595e6d7ee134e4ab90bd533661b7812": {
      "model_module": "@jupyter-widgets/controls",
      "model_module_version": "2.0.0",
      "model_name": "FloatProgressModel",
      "state": {
       "bar_style": "success",
       "layout": "IPY_MODEL_a7a0a56f63a94afe9f23f1fd256f342d",
       "max": 40,
       "style": "IPY_MODEL_291ef766291b450ea006849f58606235",
       "value": 40
      }
     },
     "a5f400adbd4e44f5b8ac0a305874bdaf": {
      "model_module": "@jupyter-widgets/base",
      "model_module_version": "2.0.0",
      "model_name": "LayoutModel",
      "state": {
       "display": "inline-flex",
       "flex_flow": "row wrap",
       "width": "100%"
      }
     },
     "a5fae4b319f54e41b738152dbc2ba179": {
      "model_module": "@jupyter-widgets/controls",
      "model_module_version": "2.0.0",
      "model_name": "HTMLModel",
      "state": {
       "layout": "IPY_MODEL_355f3fc7d8b7471f80b760a65dc37140",
       "style": "IPY_MODEL_aa53da93aa24468f8a778cbf9a40f632",
       "value": "Validate (7399 Steps) (DiceMetric=0.27992): 100%"
      }
     },
     "a607efe3139d4aba838cbb551314a3d7": {
      "model_module": "@jupyter-widgets/controls",
      "model_module_version": "2.0.0",
      "model_name": "FloatProgressModel",
      "state": {
       "bar_style": "success",
       "layout": "IPY_MODEL_37532710d5ec4d6680d8d661afe21005",
       "max": 40,
       "style": "IPY_MODEL_591e81ca800545e9b20920e6fa2abdcf",
       "value": 40
      }
     },
     "a63d175df5304c4fa190cf778c21bf64": {
      "model_module": "@jupyter-widgets/base",
      "model_module_version": "2.0.0",
      "model_name": "LayoutModel",
      "state": {}
     },
     "a669baf74e77480ab9fc5905ca1c57f3": {
      "model_module": "@jupyter-widgets/base",
      "model_module_version": "2.0.0",
      "model_name": "LayoutModel",
      "state": {}
     },
     "a67f726516ae4ebbb895d8fc05ff8062": {
      "model_module": "@jupyter-widgets/controls",
      "model_module_version": "2.0.0",
      "model_name": "ProgressStyleModel",
      "state": {
       "description_width": ""
      }
     },
     "a6a77f5a65664fcd8226e0db592c9ee2": {
      "model_module": "@jupyter-widgets/controls",
      "model_module_version": "2.0.0",
      "model_name": "HBoxModel",
      "state": {
       "children": [
        "IPY_MODEL_da9c21df1d404d2dabbb8f9d5f8df99d",
        "IPY_MODEL_0b2a52aa85a74ac1a3bdb048abda0de1",
        "IPY_MODEL_91db256ee7a44873913550da9affc57b"
       ],
       "layout": "IPY_MODEL_95d8523ff2f147fba05077711a93e287"
      }
     },
     "a70ccea3244e41aeb7b92210f5d59cd6": {
      "model_module": "@jupyter-widgets/controls",
      "model_module_version": "2.0.0",
      "model_name": "HTMLModel",
      "state": {
       "layout": "IPY_MODEL_77ae9ac7d56344e8b378927a690c06a4",
       "style": "IPY_MODEL_360fbfd5a40b4a15b1ed7bff2459dcd4",
       "value": "Validate (2399 Steps) (DiceMetric=0.26400): 100%"
      }
     },
     "a7639887df514834b7024472ee138b7e": {
      "model_module": "@jupyter-widgets/base",
      "model_module_version": "2.0.0",
      "model_name": "LayoutModel",
      "state": {
       "flex": "2"
      }
     },
     "a772acb8bc7e4645817e191dd1d80132": {
      "model_module": "@jupyter-widgets/controls",
      "model_module_version": "2.0.0",
      "model_name": "ProgressStyleModel",
      "state": {
       "description_width": ""
      }
     },
     "a778e06666cb46119982a1d80b6a023f": {
      "model_module": "@jupyter-widgets/controls",
      "model_module_version": "2.0.0",
      "model_name": "HTMLModel",
      "state": {
       "layout": "IPY_MODEL_9015a4fffb1540c881913b93f8288fd1",
       "style": "IPY_MODEL_afb654665a1843759f85c912e1f9d4b0",
       "value": " 40/40 [02:35&lt;00:00,  2.00s/it]"
      }
     },
     "a789969c8b1646a892374f2bdf26bb28": {
      "model_module": "@jupyter-widgets/controls",
      "model_module_version": "2.0.0",
      "model_name": "HTMLModel",
      "state": {
       "layout": "IPY_MODEL_c7715e2f8599491bb4a4653817c12ae7",
       "style": "IPY_MODEL_b1c1349161db4865845657fe672fb99f",
       "value": " 40/40 [02:36&lt;00:00,  2.00s/it]"
      }
     },
     "a78a0764263c4f75bae46513150026e0": {
      "model_module": "@jupyter-widgets/controls",
      "model_module_version": "2.0.0",
      "model_name": "FloatProgressModel",
      "state": {
       "bar_style": "success",
       "layout": "IPY_MODEL_805ac70e6d864b408d09497e546046c9",
       "max": 40,
       "style": "IPY_MODEL_bd662344644a4a37bb76cc2b75c1b61f",
       "value": 40
      }
     },
     "a7a0a56f63a94afe9f23f1fd256f342d": {
      "model_module": "@jupyter-widgets/base",
      "model_module_version": "2.0.0",
      "model_name": "LayoutModel",
      "state": {
       "flex": "2"
      }
     },
     "a7d9aecb36044f3595a91120e77becf6": {
      "model_module": "@jupyter-widgets/base",
      "model_module_version": "2.0.0",
      "model_name": "LayoutModel",
      "state": {
       "flex": "2"
      }
     },
     "a800f0b35db44bb1a2b24f443c540b98": {
      "model_module": "@jupyter-widgets/controls",
      "model_module_version": "2.0.0",
      "model_name": "HTMLStyleModel",
      "state": {
       "description_width": "",
       "font_size": null,
       "text_color": null
      }
     },
     "a81933bfe47a41419c3c2a73cc3853bf": {
      "model_module": "@jupyter-widgets/base",
      "model_module_version": "2.0.0",
      "model_name": "LayoutModel",
      "state": {}
     },
     "a8511d8e7b844e7eb24df55bd4d7c27e": {
      "model_module": "@jupyter-widgets/controls",
      "model_module_version": "2.0.0",
      "model_name": "HTMLStyleModel",
      "state": {
       "description_width": "",
       "font_size": null,
       "text_color": null
      }
     },
     "a87e58fa9b884a56aae62b69d5e2ec53": {
      "model_module": "@jupyter-widgets/base",
      "model_module_version": "2.0.0",
      "model_name": "LayoutModel",
      "state": {
       "display": "inline-flex",
       "flex_flow": "row wrap",
       "width": "100%"
      }
     },
     "a8aaccf7f34e42a787f89dc35a07aaae": {
      "model_module": "@jupyter-widgets/controls",
      "model_module_version": "2.0.0",
      "model_name": "FloatProgressModel",
      "state": {
       "bar_style": "success",
       "layout": "IPY_MODEL_6e552d74d7c740279c6d409c99e59969",
       "max": 40,
       "style": "IPY_MODEL_ace6e4f261bc457b8bf8eacd51eb2fd5",
       "value": 40
      }
     },
     "a8e516f849564a7891dda48aa3716882": {
      "model_module": "@jupyter-widgets/base",
      "model_module_version": "2.0.0",
      "model_name": "LayoutModel",
      "state": {
       "display": "inline-flex",
       "flex_flow": "row wrap",
       "width": "100%"
      }
     },
     "a92ab8708081491f9fdca1086da1f47c": {
      "model_module": "@jupyter-widgets/base",
      "model_module_version": "2.0.0",
      "model_name": "LayoutModel",
      "state": {}
     },
     "a9792968613d49fab226313325290a8b": {
      "model_module": "@jupyter-widgets/controls",
      "model_module_version": "2.0.0",
      "model_name": "ProgressStyleModel",
      "state": {
       "description_width": ""
      }
     },
     "a99a0b91c83b42b8b3cbbc36c59c1b3d": {
      "model_module": "@jupyter-widgets/controls",
      "model_module_version": "2.0.0",
      "model_name": "HTMLModel",
      "state": {
       "layout": "IPY_MODEL_963b942b602f41fa9fe7dfb750bbef99",
       "style": "IPY_MODEL_7fe3ac6d378746dda434eed4ef53880c",
       "value": "Validate (6399 Steps) (DiceMetric=0.27563): 100%"
      }
     },
     "a99a9fc331d749d5bbf639a13ec84464": {
      "model_module": "@jupyter-widgets/controls",
      "model_module_version": "2.0.0",
      "model_name": "HTMLModel",
      "state": {
       "layout": "IPY_MODEL_015f8e107f7446d594e014f958528394",
       "style": "IPY_MODEL_2a3b7071a8484d1994fae1d57f432869",
       "value": "Validate (1399 Steps) (DiceMetric=0.26467): 100%"
      }
     },
     "a9d43495b5404affa300a3a7a5bde1b6": {
      "model_module": "@jupyter-widgets/controls",
      "model_module_version": "2.0.0",
      "model_name": "HTMLStyleModel",
      "state": {
       "description_width": "",
       "font_size": null,
       "text_color": null
      }
     },
     "a9da5d6f7b524acfa0057297476a1e9a": {
      "model_module": "@jupyter-widgets/controls",
      "model_module_version": "2.0.0",
      "model_name": "HTMLStyleModel",
      "state": {
       "description_width": "",
       "font_size": null,
       "text_color": null
      }
     },
     "aa0e5483138345ca8161732adc82ba6f": {
      "model_module": "@jupyter-widgets/controls",
      "model_module_version": "2.0.0",
      "model_name": "HBoxModel",
      "state": {
       "children": [
        "IPY_MODEL_b56c4101404a4339ac851a02c29344bd",
        "IPY_MODEL_94678edc0ca247a28a8b53ad41c182f4",
        "IPY_MODEL_302f03b219db4fda9fb2d751e742d297"
       ],
       "layout": "IPY_MODEL_bfbd78a736cd4df89002e7440fc44348"
      }
     },
     "aa13f3189d7e40d993a82cce547ad7dd": {
      "model_module": "@jupyter-widgets/controls",
      "model_module_version": "2.0.0",
      "model_name": "HTMLModel",
      "state": {
       "layout": "IPY_MODEL_73b29b13395f4479bbdf3591a8520685",
       "style": "IPY_MODEL_cf96d340256b4793b756e1703bf59928",
       "value": " 40/40 [02:34&lt;00:00,  1.95s/it]"
      }
     },
     "aa2d5bb2bb9248109d219c5d32175827": {
      "model_module": "@jupyter-widgets/controls",
      "model_module_version": "2.0.0",
      "model_name": "HTMLModel",
      "state": {
       "layout": "IPY_MODEL_f825aeae743947b1b3e2c3be34c0de3d",
       "style": "IPY_MODEL_ee23155cef8c45bc9eb950f663a3faca",
       "value": "Validate (4799 Steps) (DiceMetric=0.27047): 100%"
      }
     },
     "aa53da93aa24468f8a778cbf9a40f632": {
      "model_module": "@jupyter-widgets/controls",
      "model_module_version": "2.0.0",
      "model_name": "HTMLStyleModel",
      "state": {
       "description_width": "",
       "font_size": null,
       "text_color": null
      }
     },
     "aa69d9c7ab0f489798b1561a2e78838f": {
      "model_module": "@jupyter-widgets/controls",
      "model_module_version": "2.0.0",
      "model_name": "HTMLModel",
      "state": {
       "layout": "IPY_MODEL_d6fcb736f97a4de29337891b10bbd129",
       "style": "IPY_MODEL_eb905550b2e84536aa6cc6cf6769479f",
       "value": " 40/40 [02:34&lt;00:00,  1.94s/it]"
      }
     },
     "aa6f1f41fa7849928f19516f103230fa": {
      "model_module": "@jupyter-widgets/controls",
      "model_module_version": "2.0.0",
      "model_name": "HTMLModel",
      "state": {
       "layout": "IPY_MODEL_555f13fe82ba4c728cff14dfd28ee5df",
       "style": "IPY_MODEL_83525fdda3c34194b90e49b0590a93db",
       "value": " 40/40 [02:34&lt;00:00,  1.92s/it]"
      }
     },
     "aa8cf6e5d1a74c6680136eb5521a4815": {
      "model_module": "@jupyter-widgets/controls",
      "model_module_version": "2.0.0",
      "model_name": "HBoxModel",
      "state": {
       "children": [
        "IPY_MODEL_55dc5bbbbf0b41fca654306b79cfb1e2",
        "IPY_MODEL_4f63d458ed5641bc81bdb81447f18942",
        "IPY_MODEL_bf4fb286a03246ed86915871a6ecdabd"
       ],
       "layout": "IPY_MODEL_ec4d1cee863d45949fecc319158a3213"
      }
     },
     "aaaf5e59bb4146b8af325500e70251f3": {
      "model_module": "@jupyter-widgets/controls",
      "model_module_version": "2.0.0",
      "model_name": "ProgressStyleModel",
      "state": {
       "description_width": ""
      }
     },
     "aabc16c61b584fb3856c6eefc6b0e609": {
      "model_module": "@jupyter-widgets/base",
      "model_module_version": "2.0.0",
      "model_name": "LayoutModel",
      "state": {
       "display": "inline-flex",
       "flex_flow": "row wrap",
       "width": "100%"
      }
     },
     "aae3f3a9271f4f93a34b2b0c7b31ff0f": {
      "model_module": "@jupyter-widgets/base",
      "model_module_version": "2.0.0",
      "model_name": "LayoutModel",
      "state": {
       "display": "inline-flex",
       "flex_flow": "row wrap",
       "width": "100%"
      }
     },
     "aafd7937d2f54ff090c36275ab66174a": {
      "model_module": "@jupyter-widgets/base",
      "model_module_version": "2.0.0",
      "model_name": "LayoutModel",
      "state": {
       "flex": "2"
      }
     },
     "ab454b117d754f949dc133e02b2ff791": {
      "model_module": "@jupyter-widgets/base",
      "model_module_version": "2.0.0",
      "model_name": "LayoutModel",
      "state": {}
     },
     "abc987bc3b7f42448602dfc77f7e4181": {
      "model_module": "@jupyter-widgets/controls",
      "model_module_version": "2.0.0",
      "model_name": "HTMLStyleModel",
      "state": {
       "description_width": "",
       "font_size": null,
       "text_color": null
      }
     },
     "ac2e169dc17747ddab4d43f0516343d7": {
      "model_module": "@jupyter-widgets/base",
      "model_module_version": "2.0.0",
      "model_name": "LayoutModel",
      "state": {}
     },
     "ac365f8ab84e426091176f8c67ba626e": {
      "model_module": "@jupyter-widgets/controls",
      "model_module_version": "2.0.0",
      "model_name": "FloatProgressModel",
      "state": {
       "bar_style": "success",
       "layout": "IPY_MODEL_e9e275f138104e308b620b75ba01431d",
       "max": 40,
       "style": "IPY_MODEL_03c2f10e36164addb507b5cb55d9b63e",
       "value": 40
      }
     },
     "ac98c7c6dbe9412fa3d02c54b3e9544c": {
      "model_module": "@jupyter-widgets/controls",
      "model_module_version": "2.0.0",
      "model_name": "FloatProgressModel",
      "state": {
       "bar_style": "success",
       "layout": "IPY_MODEL_c1f93ea721394d779ab277b8957b23c1",
       "max": 40,
       "style": "IPY_MODEL_14222326db06406288e31660e1d66655",
       "value": 40
      }
     },
     "aca39e7f4eb34df7b7b05b9fdd7604b4": {
      "model_module": "@jupyter-widgets/controls",
      "model_module_version": "2.0.0",
      "model_name": "HTMLStyleModel",
      "state": {
       "description_width": "",
       "font_size": null,
       "text_color": null
      }
     },
     "aca47128789f412ea1e2438d005b7252": {
      "model_module": "@jupyter-widgets/base",
      "model_module_version": "2.0.0",
      "model_name": "LayoutModel",
      "state": {}
     },
     "ace6e4f261bc457b8bf8eacd51eb2fd5": {
      "model_module": "@jupyter-widgets/controls",
      "model_module_version": "2.0.0",
      "model_name": "ProgressStyleModel",
      "state": {
       "description_width": ""
      }
     },
     "ad25107fbefa4901bd83fc72f110f0e8": {
      "model_module": "@jupyter-widgets/base",
      "model_module_version": "2.0.0",
      "model_name": "LayoutModel",
      "state": {
       "flex": "2"
      }
     },
     "ad438d30f98c4c5b8c26e51ef9edc3a4": {
      "model_module": "@jupyter-widgets/controls",
      "model_module_version": "2.0.0",
      "model_name": "HTMLModel",
      "state": {
       "layout": "IPY_MODEL_2e838714440949268285f07fc9266945",
       "style": "IPY_MODEL_45d5ec9f4ac24d00935e228665f638e6",
       "value": "Validate (6299 Steps) (DiceMetric=0.27549): 100%"
      }
     },
     "ad920fb8b1604a9e8128d7059055c3de": {
      "model_module": "@jupyter-widgets/base",
      "model_module_version": "2.0.0",
      "model_name": "LayoutModel",
      "state": {}
     },
     "adaded992ccb42e69895bb0b33328b7f": {
      "model_module": "@jupyter-widgets/controls",
      "model_module_version": "2.0.0",
      "model_name": "ProgressStyleModel",
      "state": {
       "description_width": ""
      }
     },
     "adc92ec396474c49ae54c834dfd37f92": {
      "model_module": "@jupyter-widgets/base",
      "model_module_version": "2.0.0",
      "model_name": "LayoutModel",
      "state": {}
     },
     "ae4f26be13d8466d8615bdf19540325c": {
      "model_module": "@jupyter-widgets/controls",
      "model_module_version": "2.0.0",
      "model_name": "ProgressStyleModel",
      "state": {
       "description_width": ""
      }
     },
     "ae6e60b6a81c4836b00915895ec947c0": {
      "model_module": "@jupyter-widgets/controls",
      "model_module_version": "2.0.0",
      "model_name": "HTMLStyleModel",
      "state": {
       "description_width": "",
       "font_size": null,
       "text_color": null
      }
     },
     "ae728d2d25814724ba0950e710789844": {
      "model_module": "@jupyter-widgets/base",
      "model_module_version": "2.0.0",
      "model_name": "LayoutModel",
      "state": {
       "display": "inline-flex",
       "flex_flow": "row wrap",
       "width": "100%"
      }
     },
     "ae77e8ec1d9e4fc5a40ea58ba0e9aa9b": {
      "model_module": "@jupyter-widgets/controls",
      "model_module_version": "2.0.0",
      "model_name": "HTMLModel",
      "state": {
       "layout": "IPY_MODEL_83d676d322504d30b32264d178070dae",
       "style": "IPY_MODEL_8ae64ac644184536a8b3c7c5a8f97c75",
       "value": " 40/40 [02:34&lt;00:00,  1.93s/it]"
      }
     },
     "aebcee576e8740c68b42806ee1182480": {
      "model_module": "@jupyter-widgets/controls",
      "model_module_version": "2.0.0",
      "model_name": "HTMLModel",
      "state": {
       "layout": "IPY_MODEL_520df289715a458494539c5c5029755a",
       "style": "IPY_MODEL_10c612bfc6e04d9290cb3da9582c9946",
       "value": " 40/40 [02:34&lt;00:00,  1.95s/it]"
      }
     },
     "aec07fdb55044283b404714fc000a749": {
      "model_module": "@jupyter-widgets/base",
      "model_module_version": "2.0.0",
      "model_name": "LayoutModel",
      "state": {
       "display": "inline-flex",
       "flex_flow": "row wrap",
       "width": "100%"
      }
     },
     "af19db7fd179426aae24770d8c7dab01": {
      "model_module": "@jupyter-widgets/controls",
      "model_module_version": "2.0.0",
      "model_name": "FloatProgressModel",
      "state": {
       "bar_style": "success",
       "layout": "IPY_MODEL_6fbd498fc4e14403a3ec62b13760a37e",
       "max": 40,
       "style": "IPY_MODEL_a9792968613d49fab226313325290a8b",
       "value": 40
      }
     },
     "af3dd2549a73408fb2889f3107dadcfa": {
      "model_module": "@jupyter-widgets/controls",
      "model_module_version": "2.0.0",
      "model_name": "HTMLModel",
      "state": {
       "layout": "IPY_MODEL_6ea8836f96904177a323ca099c248c9a",
       "style": "IPY_MODEL_be35b773d0af4d159fafba65ed0fb983",
       "value": "Validate (1999 Steps) (DiceMetric=0.26405): 100%"
      }
     },
     "af58b73d8e1f40aba8ddd37625e18d44": {
      "model_module": "@jupyter-widgets/controls",
      "model_module_version": "2.0.0",
      "model_name": "FloatProgressModel",
      "state": {
       "bar_style": "success",
       "layout": "IPY_MODEL_cfc502b9aee64d19af83325710ad4707",
       "max": 40,
       "style": "IPY_MODEL_b3375d3677e34485920ac4ce39a01026",
       "value": 40
      }
     },
     "af5dc68b64934fd2a2c66c2196a4fff8": {
      "model_module": "@jupyter-widgets/controls",
      "model_module_version": "2.0.0",
      "model_name": "FloatProgressModel",
      "state": {
       "bar_style": "success",
       "layout": "IPY_MODEL_6dbc9371a9724c59ad1f05e53400cbbf",
       "max": 40,
       "style": "IPY_MODEL_73a5067fb2f54b9eac5e3c226102b5fb",
       "value": 40
      }
     },
     "afafc8e6239c435bb53027101a68138e": {
      "model_module": "@jupyter-widgets/controls",
      "model_module_version": "2.0.0",
      "model_name": "FloatProgressModel",
      "state": {
       "bar_style": "success",
       "layout": "IPY_MODEL_a7d9aecb36044f3595a91120e77becf6",
       "max": 40,
       "style": "IPY_MODEL_98676804708640e88a7f20eade764c57",
       "value": 40
      }
     },
     "afb654665a1843759f85c912e1f9d4b0": {
      "model_module": "@jupyter-widgets/controls",
      "model_module_version": "2.0.0",
      "model_name": "HTMLStyleModel",
      "state": {
       "description_width": "",
       "font_size": null,
       "text_color": null
      }
     },
     "afcd0eb9395e401d805bc34e8089fc96": {
      "model_module": "@jupyter-widgets/base",
      "model_module_version": "2.0.0",
      "model_name": "LayoutModel",
      "state": {
       "flex": "2"
      }
     },
     "b00c8b72723d469d81a27b8dc14b7fe8": {
      "model_module": "@jupyter-widgets/controls",
      "model_module_version": "2.0.0",
      "model_name": "HBoxModel",
      "state": {
       "children": [
        "IPY_MODEL_61c05bbfa5374e81943f502840919f7d",
        "IPY_MODEL_65e887a8776144fa823b609f05751a5d",
        "IPY_MODEL_318992d0fd0648e995d717d3dc3b1828"
       ],
       "layout": "IPY_MODEL_4543e4c68a544a2c9cacf58d4440f72b"
      }
     },
     "b0268f79902e4ce18ef8947968fe2e14": {
      "model_module": "@jupyter-widgets/base",
      "model_module_version": "2.0.0",
      "model_name": "LayoutModel",
      "state": {}
     },
     "b04f673e9d9d4ce6b94ced8a614931f7": {
      "model_module": "@jupyter-widgets/base",
      "model_module_version": "2.0.0",
      "model_name": "LayoutModel",
      "state": {}
     },
     "b076cd06ccd047e3a87ef3e92e28a06e": {
      "model_module": "@jupyter-widgets/base",
      "model_module_version": "2.0.0",
      "model_name": "LayoutModel",
      "state": {
       "flex": "2"
      }
     },
     "b0adff4078c142fab213cb93d612a142": {
      "model_module": "@jupyter-widgets/controls",
      "model_module_version": "2.0.0",
      "model_name": "HBoxModel",
      "state": {
       "children": [
        "IPY_MODEL_2d8dd80073ae4912b8bef876bc93f0f5",
        "IPY_MODEL_31f331cc00f545e086ccb25acdb4325e",
        "IPY_MODEL_23888ae3cbc6415db8fbd8ea4f704cef"
       ],
       "layout": "IPY_MODEL_699d200110e64d408bbc59ae8264cba1"
      }
     },
     "b0bab522538c40ec97b752e164d41778": {
      "model_module": "@jupyter-widgets/controls",
      "model_module_version": "2.0.0",
      "model_name": "HTMLModel",
      "state": {
       "layout": "IPY_MODEL_65f38ffaeed04e6e8884c08cf6ee2343",
       "style": "IPY_MODEL_55d0d8dabc664695bab45046c8fa3667",
       "value": "Validate (2499 Steps) (DiceMetric=0.26347): 100%"
      }
     },
     "b0c91e782fcc4f36ab322abc655a3702": {
      "model_module": "@jupyter-widgets/controls",
      "model_module_version": "2.0.0",
      "model_name": "FloatProgressModel",
      "state": {
       "bar_style": "success",
       "layout": "IPY_MODEL_7ebe06816a554745a9a465a5a0ceb998",
       "max": 40,
       "style": "IPY_MODEL_ee4d5b857d7943fdb85b33a33e4ca009",
       "value": 40
      }
     },
     "b0f25b22a42b46f695f6edb8f1c390b7": {
      "model_module": "@jupyter-widgets/base",
      "model_module_version": "2.0.0",
      "model_name": "LayoutModel",
      "state": {
       "display": "inline-flex",
       "flex_flow": "row wrap",
       "width": "100%"
      }
     },
     "b13e03dfc57b4765b83066a80645252b": {
      "model_module": "@jupyter-widgets/base",
      "model_module_version": "2.0.0",
      "model_name": "LayoutModel",
      "state": {
       "display": "inline-flex",
       "flex_flow": "row wrap",
       "width": "100%"
      }
     },
     "b1c1349161db4865845657fe672fb99f": {
      "model_module": "@jupyter-widgets/controls",
      "model_module_version": "2.0.0",
      "model_name": "HTMLStyleModel",
      "state": {
       "description_width": "",
       "font_size": null,
       "text_color": null
      }
     },
     "b1d097f7593b481ba2ed7691fa2b9d6b": {
      "model_module": "@jupyter-widgets/base",
      "model_module_version": "2.0.0",
      "model_name": "LayoutModel",
      "state": {
       "flex": "2"
      }
     },
     "b209a2ce445d46dcb337125062973c89": {
      "model_module": "@jupyter-widgets/base",
      "model_module_version": "2.0.0",
      "model_name": "LayoutModel",
      "state": {
       "flex": "2"
      }
     },
     "b240a463ea0e4033ad0241117309723a": {
      "model_module": "@jupyter-widgets/controls",
      "model_module_version": "2.0.0",
      "model_name": "HTMLModel",
      "state": {
       "layout": "IPY_MODEL_1f969138f0424be784cb450112fa56e9",
       "style": "IPY_MODEL_8427f83d29ef4e0da24f5b4c6bd0d67e",
       "value": "Validate (9699 Steps) (DiceMetric=0.28699): 100%"
      }
     },
     "b2554c11791548cc84f2287fc6e55271": {
      "model_module": "@jupyter-widgets/base",
      "model_module_version": "2.0.0",
      "model_name": "LayoutModel",
      "state": {}
     },
     "b2a31212306940b9a1cac9b65883dab1": {
      "model_module": "@jupyter-widgets/base",
      "model_module_version": "2.0.0",
      "model_name": "LayoutModel",
      "state": {}
     },
     "b2aa99d1861b4baa86cea5c9d8b3d4a7": {
      "model_module": "@jupyter-widgets/controls",
      "model_module_version": "2.0.0",
      "model_name": "HTMLStyleModel",
      "state": {
       "description_width": "",
       "font_size": null,
       "text_color": null
      }
     },
     "b2f8148d3aff4fe3a9e043fc36db0c0a": {
      "model_module": "@jupyter-widgets/base",
      "model_module_version": "2.0.0",
      "model_name": "LayoutModel",
      "state": {}
     },
     "b3375d3677e34485920ac4ce39a01026": {
      "model_module": "@jupyter-widgets/controls",
      "model_module_version": "2.0.0",
      "model_name": "ProgressStyleModel",
      "state": {
       "description_width": ""
      }
     },
     "b38e1e6c642b4ea285dff7afea8d7016": {
      "model_module": "@jupyter-widgets/base",
      "model_module_version": "2.0.0",
      "model_name": "LayoutModel",
      "state": {
       "display": "inline-flex",
       "flex_flow": "row wrap",
       "width": "100%"
      }
     },
     "b3a204c516ac4ffbb9f208d37ec723fb": {
      "model_module": "@jupyter-widgets/controls",
      "model_module_version": "2.0.0",
      "model_name": "HBoxModel",
      "state": {
       "children": [
        "IPY_MODEL_b9d7abd1c01d487b88768be933209146",
        "IPY_MODEL_debdd6be0ea44270984332f89549bb74",
        "IPY_MODEL_6bb5659200264cfa9dd1123d11d3434b"
       ],
       "layout": "IPY_MODEL_f895de18fb4b4ed7bf5e9ae8399733cb"
      }
     },
     "b3b06db1ddb04b2a8ee36bfdd34d9606": {
      "model_module": "@jupyter-widgets/base",
      "model_module_version": "2.0.0",
      "model_name": "LayoutModel",
      "state": {}
     },
     "b3e8e284fe1b4b978aaed2de7199a5ee": {
      "model_module": "@jupyter-widgets/base",
      "model_module_version": "2.0.0",
      "model_name": "LayoutModel",
      "state": {}
     },
     "b3fecee0fec84f6a9aced80a7733bb3f": {
      "model_module": "@jupyter-widgets/controls",
      "model_module_version": "2.0.0",
      "model_name": "ProgressStyleModel",
      "state": {
       "description_width": ""
      }
     },
     "b430dde3e7b3491480fb27ad4b80770a": {
      "model_module": "@jupyter-widgets/controls",
      "model_module_version": "2.0.0",
      "model_name": "ProgressStyleModel",
      "state": {
       "description_width": ""
      }
     },
     "b4766ce0f8104ea0bf4c133ba606e160": {
      "model_module": "@jupyter-widgets/base",
      "model_module_version": "2.0.0",
      "model_name": "LayoutModel",
      "state": {
       "display": "inline-flex",
       "flex_flow": "row wrap",
       "width": "100%"
      }
     },
     "b499119d40e74ceab45889acf111d490": {
      "model_module": "@jupyter-widgets/base",
      "model_module_version": "2.0.0",
      "model_name": "LayoutModel",
      "state": {}
     },
     "b54818a6865643038102dcf53ea46729": {
      "model_module": "@jupyter-widgets/base",
      "model_module_version": "2.0.0",
      "model_name": "LayoutModel",
      "state": {
       "flex": "2"
      }
     },
     "b56c4101404a4339ac851a02c29344bd": {
      "model_module": "@jupyter-widgets/controls",
      "model_module_version": "2.0.0",
      "model_name": "HTMLModel",
      "state": {
       "layout": "IPY_MODEL_64c57ed35691405bbb339631bbd63689",
       "style": "IPY_MODEL_47c4af86fe714660b3929a9040f3d8a5",
       "value": "Validate (7199 Steps) (DiceMetric=0.27612): 100%"
      }
     },
     "b575ccd1302140938bd335ea59fba2a1": {
      "model_module": "@jupyter-widgets/controls",
      "model_module_version": "2.0.0",
      "model_name": "HTMLModel",
      "state": {
       "layout": "IPY_MODEL_4a579239e24b4692b1cb11a88f510d53",
       "style": "IPY_MODEL_ae6e60b6a81c4836b00915895ec947c0",
       "value": " 40/40 [02:34&lt;00:00,  1.92s/it]"
      }
     },
     "b5ccfdcb344248d5b5327c4d3e7ba152": {
      "model_module": "@jupyter-widgets/base",
      "model_module_version": "2.0.0",
      "model_name": "LayoutModel",
      "state": {}
     },
     "b5da8b6c79164984ba57836ad01d06ba": {
      "model_module": "@jupyter-widgets/controls",
      "model_module_version": "2.0.0",
      "model_name": "HTMLModel",
      "state": {
       "layout": "IPY_MODEL_6c194135c20a45f595219bd506b95140",
       "style": "IPY_MODEL_a800f0b35db44bb1a2b24f443c540b98",
       "value": "Validate (3799 Steps) (DiceMetric=0.26787): 100%"
      }
     },
     "b5e730c484c841689b2e324ed273b4e5": {
      "model_module": "@jupyter-widgets/controls",
      "model_module_version": "2.0.0",
      "model_name": "HTMLStyleModel",
      "state": {
       "description_width": "",
       "font_size": null,
       "text_color": null
      }
     },
     "b6837d950c2a4b9092df25c2c4ffd5fe": {
      "model_module": "@jupyter-widgets/base",
      "model_module_version": "2.0.0",
      "model_name": "LayoutModel",
      "state": {
       "display": "inline-flex",
       "flex_flow": "row wrap",
       "width": "100%"
      }
     },
     "b6b12a84db884e368895d2f1a89f8dbf": {
      "model_module": "@jupyter-widgets/base",
      "model_module_version": "2.0.0",
      "model_name": "LayoutModel",
      "state": {}
     },
     "b6daa2244fca406bb85d5007d0139b89": {
      "model_module": "@jupyter-widgets/base",
      "model_module_version": "2.0.0",
      "model_name": "LayoutModel",
      "state": {}
     },
     "b75149f0b0784a47a58580b692426207": {
      "model_module": "@jupyter-widgets/controls",
      "model_module_version": "2.0.0",
      "model_name": "FloatProgressModel",
      "state": {
       "bar_style": "success",
       "layout": "IPY_MODEL_ffbddd9b44f84d4187a12b00fdb53963",
       "max": 120,
       "style": "IPY_MODEL_5fedae390ce8448fb52fd22a23620166",
       "value": 120
      }
     },
     "b7af1283b1b14dedb09819d29e49418d": {
      "model_module": "@jupyter-widgets/controls",
      "model_module_version": "2.0.0",
      "model_name": "HTMLModel",
      "state": {
       "layout": "IPY_MODEL_8425a0988fda420f940d666584e02fb2",
       "style": "IPY_MODEL_069004f59a3f41908ea39383ecd4b259",
       "value": "Validate (999 Steps) (DiceMetric=0.26376): 100%"
      }
     },
     "b83239bb588244798941a12b11f47dd2": {
      "model_module": "@jupyter-widgets/controls",
      "model_module_version": "2.0.0",
      "model_name": "HBoxModel",
      "state": {
       "children": [
        "IPY_MODEL_e1781b38c4fd4963bbf040116fa49ec8",
        "IPY_MODEL_3421322f73394de9b8b75cb52c8f1512",
        "IPY_MODEL_e83cc5b78c6e4749a9cc1924c0496360"
       ],
       "layout": "IPY_MODEL_17237a39529243e896e75edf0925bcbf"
      }
     },
     "b842141215ea4d55935b71f99bd6e5d8": {
      "model_module": "@jupyter-widgets/controls",
      "model_module_version": "2.0.0",
      "model_name": "HBoxModel",
      "state": {
       "children": [
        "IPY_MODEL_0a0f0d71d98644578ef820e75615729c",
        "IPY_MODEL_bb3354644e794a44b99bc164499f7aed",
        "IPY_MODEL_34d8121bc03c4b59b90407292284c96f"
       ],
       "layout": "IPY_MODEL_152fafc771934fc5805c6be1fe54e486"
      }
     },
     "b8614e75d9094de5b7a3e7349506f0dc": {
      "model_module": "@jupyter-widgets/base",
      "model_module_version": "2.0.0",
      "model_name": "LayoutModel",
      "state": {}
     },
     "b8f5aae682574cfbb5dcc8d43c198f2d": {
      "model_module": "@jupyter-widgets/controls",
      "model_module_version": "2.0.0",
      "model_name": "HTMLModel",
      "state": {
       "layout": "IPY_MODEL_f1bbcead9d534760aaad98d4e783a6ec",
       "style": "IPY_MODEL_ef7a047e113240b2a8aea38cd76bf3fd",
       "value": "Validate (99 Steps) (DiceMetric=0.04021): 100%"
      }
     },
     "b945fb1ea4eb4e7e9a97ccba7f198baa": {
      "model_module": "@jupyter-widgets/controls",
      "model_module_version": "2.0.0",
      "model_name": "HBoxModel",
      "state": {
       "children": [
        "IPY_MODEL_9ca1ef57edfb40fb84168d3eebaae15c",
        "IPY_MODEL_7e9d9cb44b4043f28e68918ff9aa8c7e",
        "IPY_MODEL_104967cbd7f1480296a3c6d90f5dd62a"
       ],
       "layout": "IPY_MODEL_0a94446b50d94ce28dad3cf9a87cfad1"
      }
     },
     "b97da411b8e94473ba271f8d4986edd0": {
      "model_module": "@jupyter-widgets/controls",
      "model_module_version": "2.0.0",
      "model_name": "HTMLModel",
      "state": {
       "layout": "IPY_MODEL_bb5e42a780504cc690abf82b008d48ec",
       "style": "IPY_MODEL_e253fe5587e24bfaa96d8d7ff45c60e6",
       "value": "Validate (5299 Steps) (DiceMetric=0.27106): 100%"
      }
     },
     "b9d44316199c451d9b6d2e18d27f836a": {
      "model_module": "@jupyter-widgets/controls",
      "model_module_version": "2.0.0",
      "model_name": "ProgressStyleModel",
      "state": {
       "description_width": ""
      }
     },
     "b9d7abd1c01d487b88768be933209146": {
      "model_module": "@jupyter-widgets/controls",
      "model_module_version": "2.0.0",
      "model_name": "HTMLModel",
      "state": {
       "layout": "IPY_MODEL_6b5a468f30ae42e8b6adae8c3a7cdec5",
       "style": "IPY_MODEL_7da8aa489dcc445fb414bd9573e7e7d5",
       "value": "Validate (2299 Steps) (DiceMetric=0.26320): 100%"
      }
     },
     "b9f1963b66bd45389d993507e29540d3": {
      "model_module": "@jupyter-widgets/controls",
      "model_module_version": "2.0.0",
      "model_name": "ProgressStyleModel",
      "state": {
       "description_width": ""
      }
     },
     "ba29103738db430b827911038e14b7e7": {
      "model_module": "@jupyter-widgets/controls",
      "model_module_version": "2.0.0",
      "model_name": "HTMLStyleModel",
      "state": {
       "description_width": "",
       "font_size": null,
       "text_color": null
      }
     },
     "ba3cd56375244572b23bbde358354ab2": {
      "model_module": "@jupyter-widgets/controls",
      "model_module_version": "2.0.0",
      "model_name": "HTMLStyleModel",
      "state": {
       "description_width": "",
       "font_size": null,
       "text_color": null
      }
     },
     "bab3152c75514abcae4156bb6777f67c": {
      "model_module": "@jupyter-widgets/controls",
      "model_module_version": "2.0.0",
      "model_name": "HTMLStyleModel",
      "state": {
       "description_width": "",
       "font_size": null,
       "text_color": null
      }
     },
     "babfd5e999df411da41f303fc3852df2": {
      "model_module": "@jupyter-widgets/controls",
      "model_module_version": "2.0.0",
      "model_name": "FloatProgressModel",
      "state": {
       "bar_style": "success",
       "layout": "IPY_MODEL_0166bba8949843088f4db591e6307903",
       "max": 40,
       "style": "IPY_MODEL_c9b2f68682ee44daa3d2bc9f39db13d4",
       "value": 40
      }
     },
     "badcbe2d341e425d944d2b573bb2018e": {
      "model_module": "@jupyter-widgets/controls",
      "model_module_version": "2.0.0",
      "model_name": "ProgressStyleModel",
      "state": {
       "description_width": ""
      }
     },
     "bb3354644e794a44b99bc164499f7aed": {
      "model_module": "@jupyter-widgets/controls",
      "model_module_version": "2.0.0",
      "model_name": "FloatProgressModel",
      "state": {
       "bar_style": "success",
       "layout": "IPY_MODEL_ad25107fbefa4901bd83fc72f110f0e8",
       "max": 40,
       "style": "IPY_MODEL_40b27004068540b3a56f6eb27d916f12",
       "value": 40
      }
     },
     "bb3daf9011544042a74154a988cd1db2": {
      "model_module": "@jupyter-widgets/controls",
      "model_module_version": "2.0.0",
      "model_name": "FloatProgressModel",
      "state": {
       "bar_style": "success",
       "layout": "IPY_MODEL_2e67c64ae6794a21844bad2e9a9d1a3a",
       "max": 40,
       "style": "IPY_MODEL_136083f009934751ab76c69c3873a168",
       "value": 40
      }
     },
     "bb5e42a780504cc690abf82b008d48ec": {
      "model_module": "@jupyter-widgets/base",
      "model_module_version": "2.0.0",
      "model_name": "LayoutModel",
      "state": {}
     },
     "bb75ae2e7f284460b11c0604b8d0c9ac": {
      "model_module": "@jupyter-widgets/controls",
      "model_module_version": "2.0.0",
      "model_name": "HTMLModel",
      "state": {
       "layout": "IPY_MODEL_470a491ef547450bbf1bc4f8a0c6ec0c",
       "style": "IPY_MODEL_b2aa99d1861b4baa86cea5c9d8b3d4a7",
       "value": "Validate (2199 Steps) (DiceMetric=0.26275): 100%"
      }
     },
     "bb8c60da8c444107a343ff181e5c85bf": {
      "model_module": "@jupyter-widgets/base",
      "model_module_version": "2.0.0",
      "model_name": "LayoutModel",
      "state": {
       "display": "inline-flex",
       "flex_flow": "row wrap",
       "width": "100%"
      }
     },
     "bba560b81f994ad5a94794d1ca0ac61b": {
      "model_module": "@jupyter-widgets/controls",
      "model_module_version": "2.0.0",
      "model_name": "HTMLModel",
      "state": {
       "layout": "IPY_MODEL_ac2e169dc17747ddab4d43f0516343d7",
       "style": "IPY_MODEL_ff46434340e6412f89466942749655c5",
       "value": " 40/40 [02:35&lt;00:00,  1.91s/it]"
      }
     },
     "bbba7dc50ecf4c3f9fcfbcedddc9aa7e": {
      "model_module": "@jupyter-widgets/controls",
      "model_module_version": "2.0.0",
      "model_name": "ProgressStyleModel",
      "state": {
       "description_width": ""
      }
     },
     "bbddacc4b4ee47309e5a6d2c7fdad08a": {
      "model_module": "@jupyter-widgets/controls",
      "model_module_version": "2.0.0",
      "model_name": "HTMLStyleModel",
      "state": {
       "description_width": "",
       "font_size": null,
       "text_color": null
      }
     },
     "bbef160d2d0c4345a574ad8e9883edc5": {
      "model_module": "@jupyter-widgets/base",
      "model_module_version": "2.0.0",
      "model_name": "LayoutModel",
      "state": {}
     },
     "bbf12da24430415697c0820b0750978f": {
      "model_module": "@jupyter-widgets/controls",
      "model_module_version": "2.0.0",
      "model_name": "HTMLModel",
      "state": {
       "layout": "IPY_MODEL_4120ae8c018144c9bc106bcd3c975d9f",
       "style": "IPY_MODEL_bab3152c75514abcae4156bb6777f67c",
       "value": "Validate (8599 Steps) (DiceMetric=0.28148): 100%"
      }
     },
     "bc1288a0e1204bd6b5bb4c50b82efa07": {
      "model_module": "@jupyter-widgets/controls",
      "model_module_version": "2.0.0",
      "model_name": "HBoxModel",
      "state": {
       "children": [
        "IPY_MODEL_4c90746a1f774d16bbdeb4393624739c",
        "IPY_MODEL_9c87adb5e5cc423ba31d1fc0f95e6742",
        "IPY_MODEL_432baab8670c464dba634bd6ded2ee19"
       ],
       "layout": "IPY_MODEL_bc3966f12d4345c8a49dc80b2f541ec9"
      }
     },
     "bc1912fde43940459a53d3aab52dfed5": {
      "model_module": "@jupyter-widgets/base",
      "model_module_version": "2.0.0",
      "model_name": "LayoutModel",
      "state": {
       "flex": "2"
      }
     },
     "bc3966f12d4345c8a49dc80b2f541ec9": {
      "model_module": "@jupyter-widgets/base",
      "model_module_version": "2.0.0",
      "model_name": "LayoutModel",
      "state": {
       "display": "inline-flex",
       "flex_flow": "row wrap",
       "width": "100%"
      }
     },
     "bc4b0210373a4ff4afe8d6fb9c0d5023": {
      "model_module": "@jupyter-widgets/controls",
      "model_module_version": "2.0.0",
      "model_name": "FloatProgressModel",
      "state": {
       "bar_style": "success",
       "layout": "IPY_MODEL_70af40ff3a9d4a7cb96ae89ca666d3eb",
       "max": 40,
       "style": "IPY_MODEL_94994f0df06b498dbd0f1f7dbb2d025f",
       "value": 40
      }
     },
     "bca357e6849a4446a99018fae13c7273": {
      "model_module": "@jupyter-widgets/controls",
      "model_module_version": "2.0.0",
      "model_name": "HTMLModel",
      "state": {
       "layout": "IPY_MODEL_179b9bb792a648de839a16bb85065df5",
       "style": "IPY_MODEL_0aeb88b623d34c63bcbfa05caa991bb1",
       "value": " 40/40 [02:34&lt;00:00,  1.92s/it]"
      }
     },
     "bd454e046e9f4454b046c143e21d9cdc": {
      "model_module": "@jupyter-widgets/base",
      "model_module_version": "2.0.0",
      "model_name": "LayoutModel",
      "state": {}
     },
     "bd662344644a4a37bb76cc2b75c1b61f": {
      "model_module": "@jupyter-widgets/controls",
      "model_module_version": "2.0.0",
      "model_name": "ProgressStyleModel",
      "state": {
       "description_width": ""
      }
     },
     "bd9b67ed26574fdc9a6795350b6d5b2f": {
      "model_module": "@jupyter-widgets/base",
      "model_module_version": "2.0.0",
      "model_name": "LayoutModel",
      "state": {
       "display": "inline-flex",
       "flex_flow": "row wrap",
       "width": "100%"
      }
     },
     "bdad7ec386964ecb9313e85dc8f9680b": {
      "model_module": "@jupyter-widgets/controls",
      "model_module_version": "2.0.0",
      "model_name": "HTMLModel",
      "state": {
       "layout": "IPY_MODEL_0a15fca56ac04379af1a5b5ab5d3ceed",
       "style": "IPY_MODEL_29e93effe54d43e2964cc88cceedf23b",
       "value": " 40/40 [02:34&lt;00:00,  1.93s/it]"
      }
     },
     "bdaf022fe49b4732b60e8b050c3d9018": {
      "model_module": "@jupyter-widgets/base",
      "model_module_version": "2.0.0",
      "model_name": "LayoutModel",
      "state": {}
     },
     "bdfd498bd39c4b8ba30161e255b75e24": {
      "model_module": "@jupyter-widgets/controls",
      "model_module_version": "2.0.0",
      "model_name": "ProgressStyleModel",
      "state": {
       "description_width": ""
      }
     },
     "be19770fe30346e0997052f7258a71c0": {
      "model_module": "@jupyter-widgets/controls",
      "model_module_version": "2.0.0",
      "model_name": "ProgressStyleModel",
      "state": {
       "description_width": ""
      }
     },
     "be244cd789f14544b9eb2809807ca98d": {
      "model_module": "@jupyter-widgets/controls",
      "model_module_version": "2.0.0",
      "model_name": "HTMLStyleModel",
      "state": {
       "description_width": "",
       "font_size": null,
       "text_color": null
      }
     },
     "be35b773d0af4d159fafba65ed0fb983": {
      "model_module": "@jupyter-widgets/controls",
      "model_module_version": "2.0.0",
      "model_name": "HTMLStyleModel",
      "state": {
       "description_width": "",
       "font_size": null,
       "text_color": null
      }
     },
     "be4f68e69efb4b6e8077842a3368d3bd": {
      "model_module": "@jupyter-widgets/base",
      "model_module_version": "2.0.0",
      "model_name": "LayoutModel",
      "state": {}
     },
     "be54157fb5c54318bfd6b68e7108c7a4": {
      "model_module": "@jupyter-widgets/controls",
      "model_module_version": "2.0.0",
      "model_name": "HTMLModel",
      "state": {
       "layout": "IPY_MODEL_ab454b117d754f949dc133e02b2ff791",
       "style": "IPY_MODEL_fe39fe8add90435d9fa8d3f6b66a7b3c",
       "value": " 40/40 [02:36&lt;00:00,  1.94s/it]"
      }
     },
     "be683f128f4342459e1c525ddaa9129f": {
      "model_module": "@jupyter-widgets/controls",
      "model_module_version": "2.0.0",
      "model_name": "HTMLModel",
      "state": {
       "layout": "IPY_MODEL_166ae4f1d83a494dbc99df86f077a575",
       "style": "IPY_MODEL_6ed6c49f2ae04148a26c4f9052a05d20",
       "value": " 40/40 [02:33&lt;00:00,  1.91s/it]"
      }
     },
     "bf322ba7458846ac8a7c8993376bba2c": {
      "model_module": "@jupyter-widgets/base",
      "model_module_version": "2.0.0",
      "model_name": "LayoutModel",
      "state": {
       "flex": "2"
      }
     },
     "bf3369eabc4d41a2bddee29696581984": {
      "model_module": "@jupyter-widgets/controls",
      "model_module_version": "2.0.0",
      "model_name": "HTMLStyleModel",
      "state": {
       "description_width": "",
       "font_size": null,
       "text_color": null
      }
     },
     "bf4fb286a03246ed86915871a6ecdabd": {
      "model_module": "@jupyter-widgets/controls",
      "model_module_version": "2.0.0",
      "model_name": "HTMLModel",
      "state": {
       "layout": "IPY_MODEL_25c7d0aaabe0445cb1e484351d600a6a",
       "style": "IPY_MODEL_cf686a2d80f74625843c8ca55802a272",
       "value": " 40/40 [02:33&lt;00:00,  1.92s/it]"
      }
     },
     "bf65744715684a878e90adf09a3ba80d": {
      "model_module": "@jupyter-widgets/base",
      "model_module_version": "2.0.0",
      "model_name": "LayoutModel",
      "state": {
       "flex": "2"
      }
     },
     "bfbd78a736cd4df89002e7440fc44348": {
      "model_module": "@jupyter-widgets/base",
      "model_module_version": "2.0.0",
      "model_name": "LayoutModel",
      "state": {
       "display": "inline-flex",
       "flex_flow": "row wrap",
       "width": "100%"
      }
     },
     "c02a6fd9b1a3401e8bf1be088ef23b6c": {
      "model_module": "@jupyter-widgets/base",
      "model_module_version": "2.0.0",
      "model_name": "LayoutModel",
      "state": {}
     },
     "c06eec07a7ce4e8aaea9e9f9263ae9f8": {
      "model_module": "@jupyter-widgets/base",
      "model_module_version": "2.0.0",
      "model_name": "LayoutModel",
      "state": {}
     },
     "c0e244741c614c0cb4aa2fdc186fe7c1": {
      "model_module": "@jupyter-widgets/controls",
      "model_module_version": "2.0.0",
      "model_name": "ProgressStyleModel",
      "state": {
       "description_width": ""
      }
     },
     "c118556e89e9413993a7ff8658da4e50": {
      "model_module": "@jupyter-widgets/base",
      "model_module_version": "2.0.0",
      "model_name": "LayoutModel",
      "state": {}
     },
     "c13339f81fbb48d09bce0bce243d2e0d": {
      "model_module": "@jupyter-widgets/controls",
      "model_module_version": "2.0.0",
      "model_name": "ProgressStyleModel",
      "state": {
       "description_width": ""
      }
     },
     "c15cb0c4d2974e06b04aa76592fcea34": {
      "model_module": "@jupyter-widgets/base",
      "model_module_version": "2.0.0",
      "model_name": "LayoutModel",
      "state": {}
     },
     "c1b836f20bd84f14ac5f1da67d4b58f6": {
      "model_module": "@jupyter-widgets/controls",
      "model_module_version": "2.0.0",
      "model_name": "HBoxModel",
      "state": {
       "children": [
        "IPY_MODEL_4bf4018484f1475d9239f251d807ff7c",
        "IPY_MODEL_db6aa74fdffc4deba303ab982f650997",
        "IPY_MODEL_52d1f7cefdc340739c8b0c76be3f2f55"
       ],
       "layout": "IPY_MODEL_4e3ca8e3ad904809b380e2a5edb85393"
      }
     },
     "c1f93ea721394d779ab277b8957b23c1": {
      "model_module": "@jupyter-widgets/base",
      "model_module_version": "2.0.0",
      "model_name": "LayoutModel",
      "state": {
       "flex": "2"
      }
     },
     "c259a7cab32f47bbb38056362867f9ed": {
      "model_module": "@jupyter-widgets/controls",
      "model_module_version": "2.0.0",
      "model_name": "ProgressStyleModel",
      "state": {
       "description_width": ""
      }
     },
     "c2fc0f56e90d4cb0acb19b4079c2838a": {
      "model_module": "@jupyter-widgets/controls",
      "model_module_version": "2.0.0",
      "model_name": "HBoxModel",
      "state": {
       "children": [
        "IPY_MODEL_c76c50f4b7244d49bf85fe67424c8fa3",
        "IPY_MODEL_b75149f0b0784a47a58580b692426207",
        "IPY_MODEL_428256e849cc4e1d83d61c31d3e9a9aa"
       ],
       "layout": "IPY_MODEL_8faf909b995d443a980e94b8f98432a3"
      }
     },
     "c3048f5ff4314075a38f5086345ad8b7": {
      "model_module": "@jupyter-widgets/controls",
      "model_module_version": "2.0.0",
      "model_name": "ProgressStyleModel",
      "state": {
       "description_width": ""
      }
     },
     "c35c16f105d34d35b411b695c7fedc76": {
      "model_module": "@jupyter-widgets/base",
      "model_module_version": "2.0.0",
      "model_name": "LayoutModel",
      "state": {
       "display": "inline-flex",
       "flex_flow": "row wrap",
       "width": "100%"
      }
     },
     "c3cf0b8ba0df404096f3a76e5e48fe81": {
      "model_module": "@jupyter-widgets/base",
      "model_module_version": "2.0.0",
      "model_name": "LayoutModel",
      "state": {}
     },
     "c3e8ffe1d4c74e3f973b5dceb5b5f8b0": {
      "model_module": "@jupyter-widgets/controls",
      "model_module_version": "2.0.0",
      "model_name": "HTMLModel",
      "state": {
       "layout": "IPY_MODEL_3bd4b54fdc4b4f80a081b85cf79b6bfc",
       "style": "IPY_MODEL_d93995a8311f470e91772098a28ee1b2",
       "value": " 40/40 [02:34&lt;00:00,  1.96s/it]"
      }
     },
     "c3f3809f55a7430981f1dff2ad2deaa3": {
      "model_module": "@jupyter-widgets/controls",
      "model_module_version": "2.0.0",
      "model_name": "HTMLModel",
      "state": {
       "layout": "IPY_MODEL_9669cc1d4b3146e2a27965d6e4399b60",
       "style": "IPY_MODEL_247ecff2c89948f28fd4ac6464ed6c2d",
       "value": "Validate (9999 Steps) (DiceMetric=0.28821): 100%"
      }
     },
     "c46a5e02f7774f028563c177e7318f53": {
      "model_module": "@jupyter-widgets/base",
      "model_module_version": "2.0.0",
      "model_name": "LayoutModel",
      "state": {}
     },
     "c4dcd7b0ecb74cb0a0424e3a85f34c42": {
      "model_module": "@jupyter-widgets/base",
      "model_module_version": "2.0.0",
      "model_name": "LayoutModel",
      "state": {}
     },
     "c50f867866c64f2c9c139f78502ff8a4": {
      "model_module": "@jupyter-widgets/base",
      "model_module_version": "2.0.0",
      "model_name": "LayoutModel",
      "state": {
       "flex": "2"
      }
     },
     "c562f6f611ea49ffb2a77009bd313da5": {
      "model_module": "@jupyter-widgets/controls",
      "model_module_version": "2.0.0",
      "model_name": "FloatProgressModel",
      "state": {
       "bar_style": "success",
       "layout": "IPY_MODEL_f13ef490ca86478e8e9e5a7b70422aaa",
       "max": 40,
       "style": "IPY_MODEL_2da5417696bb4324a48add21f70962b0",
       "value": 40
      }
     },
     "c569595ef4904ffba0c5cb909214d6e9": {
      "model_module": "@jupyter-widgets/controls",
      "model_module_version": "2.0.0",
      "model_name": "HTMLStyleModel",
      "state": {
       "description_width": "",
       "font_size": null,
       "text_color": null
      }
     },
     "c590feb2f0cb403ba22450d644ffc4ce": {
      "model_module": "@jupyter-widgets/controls",
      "model_module_version": "2.0.0",
      "model_name": "HTMLModel",
      "state": {
       "layout": "IPY_MODEL_c8a57ed8cf3644d3b205daec929175e9",
       "style": "IPY_MODEL_91df170b68e74bc4b30aea98fb73677a",
       "value": " 40/40 [02:34&lt;00:00,  1.96s/it]"
      }
     },
     "c5c3152b0bd5419f8d825651829a4e64": {
      "model_module": "@jupyter-widgets/controls",
      "model_module_version": "2.0.0",
      "model_name": "HBoxModel",
      "state": {
       "children": [
        "IPY_MODEL_683a974625374a238083d7553f40f6fa",
        "IPY_MODEL_1071743d1cde447d8bca125360ce04af",
        "IPY_MODEL_9f4d7824a7274adfb3f337dc829807b2"
       ],
       "layout": "IPY_MODEL_8a1c5b4ccccd4d93b66858dfb5a38f8d"
      }
     },
     "c5d6c2d85da4428b94b5521fa87dced6": {
      "model_module": "@jupyter-widgets/controls",
      "model_module_version": "2.0.0",
      "model_name": "HTMLStyleModel",
      "state": {
       "description_width": "",
       "font_size": null,
       "text_color": null
      }
     },
     "c6486e7f5337478384776e4cc616926c": {
      "model_module": "@jupyter-widgets/base",
      "model_module_version": "2.0.0",
      "model_name": "LayoutModel",
      "state": {}
     },
     "c69a2e9a688c4b4186e8f0d3bfbe6f6e": {
      "model_module": "@jupyter-widgets/controls",
      "model_module_version": "2.0.0",
      "model_name": "HTMLStyleModel",
      "state": {
       "description_width": "",
       "font_size": null,
       "text_color": null
      }
     },
     "c6aee9e9b5234f4596eb6095287e6f7a": {
      "model_module": "@jupyter-widgets/controls",
      "model_module_version": "2.0.0",
      "model_name": "HTMLModel",
      "state": {
       "layout": "IPY_MODEL_942fd2de4ac44c6aa1ab544519ed1ab9",
       "style": "IPY_MODEL_b5e730c484c841689b2e324ed273b4e5",
       "value": " 40/40 [02:34&lt;00:00,  1.92s/it]"
      }
     },
     "c6b20a060a744a2dbcffd01bb8bc2dab": {
      "model_module": "@jupyter-widgets/controls",
      "model_module_version": "2.0.0",
      "model_name": "HTMLStyleModel",
      "state": {
       "description_width": "",
       "font_size": null,
       "text_color": null
      }
     },
     "c6c92c37ef16496abd1adc70b3a1f71c": {
      "model_module": "@jupyter-widgets/controls",
      "model_module_version": "2.0.0",
      "model_name": "HTMLModel",
      "state": {
       "layout": "IPY_MODEL_400559ca7d7c4f07ac91f22017a5edcf",
       "style": "IPY_MODEL_a8511d8e7b844e7eb24df55bd4d7c27e",
       "value": "Validate (2599 Steps) (DiceMetric=0.26402): 100%"
      }
     },
     "c6cd2250ccb64e579fe99b20012e9f46": {
      "model_module": "@jupyter-widgets/controls",
      "model_module_version": "2.0.0",
      "model_name": "FloatProgressModel",
      "state": {
       "bar_style": "success",
       "layout": "IPY_MODEL_99b1fc599d6b4261bdf0f653026f8478",
       "max": 40,
       "style": "IPY_MODEL_9b640f885f044cb9ba7a4c353fa59f55",
       "value": 40
      }
     },
     "c76c50f4b7244d49bf85fe67424c8fa3": {
      "model_module": "@jupyter-widgets/controls",
      "model_module_version": "2.0.0",
      "model_name": "HTMLModel",
      "state": {
       "layout": "IPY_MODEL_a92ab8708081491f9fdca1086da1f47c",
       "style": "IPY_MODEL_6d13c8273d884deeac8adffab3aa9e23",
       "value": "Validate (DiceMetric=0.14208): 100%"
      }
     },
     "c7715e2f8599491bb4a4653817c12ae7": {
      "model_module": "@jupyter-widgets/base",
      "model_module_version": "2.0.0",
      "model_name": "LayoutModel",
      "state": {}
     },
     "c7c0c59404184b2bba0d11edc52684ab": {
      "model_module": "@jupyter-widgets/controls",
      "model_module_version": "2.0.0",
      "model_name": "HTMLStyleModel",
      "state": {
       "description_width": "",
       "font_size": null,
       "text_color": null
      }
     },
     "c7f5b06313134c2984fa9511b601eae7": {
      "model_module": "@jupyter-widgets/base",
      "model_module_version": "2.0.0",
      "model_name": "LayoutModel",
      "state": {}
     },
     "c8192e98c9a54a608788de37dd667754": {
      "model_module": "@jupyter-widgets/controls",
      "model_module_version": "2.0.0",
      "model_name": "HTMLModel",
      "state": {
       "layout": "IPY_MODEL_2eb0331b83af4b0a9deaf1fd3de402db",
       "style": "IPY_MODEL_d902b75766c24efc9f0f53b5d60ea5cd",
       "value": " 40/40 [02:33&lt;00:00,  1.92s/it]"
      }
     },
     "c8325fa9551f4eaba6407238e6f44349": {
      "model_module": "@jupyter-widgets/controls",
      "model_module_version": "2.0.0",
      "model_name": "FloatProgressModel",
      "state": {
       "bar_style": "success",
       "layout": "IPY_MODEL_e6b40104cad54543a8f900b258fbf36c",
       "max": 40,
       "style": "IPY_MODEL_5258cb47e7ea4d5495fe62fffb94946f",
       "value": 40
      }
     },
     "c84ddaa929b84cea9607ce5a337bdd09": {
      "model_module": "@jupyter-widgets/controls",
      "model_module_version": "2.0.0",
      "model_name": "HTMLModel",
      "state": {
       "layout": "IPY_MODEL_83c7786994cb4bf3a9440361a480a41d",
       "style": "IPY_MODEL_312aff3f822240599c91ae91d3ae06f9",
       "value": " 40/40 [02:35&lt;00:00,  1.93s/it]"
      }
     },
     "c89fd31cc8754b9cbb6b4f2cd83b2084": {
      "model_module": "@jupyter-widgets/base",
      "model_module_version": "2.0.0",
      "model_name": "LayoutModel",
      "state": {}
     },
     "c8a57ed8cf3644d3b205daec929175e9": {
      "model_module": "@jupyter-widgets/base",
      "model_module_version": "2.0.0",
      "model_name": "LayoutModel",
      "state": {}
     },
     "c8e54b9d3d5b4418b6b660bda49f9066": {
      "model_module": "@jupyter-widgets/base",
      "model_module_version": "2.0.0",
      "model_name": "LayoutModel",
      "state": {
       "flex": "2"
      }
     },
     "c8fee9d5d1bd4305a27137fba0f93a23": {
      "model_module": "@jupyter-widgets/controls",
      "model_module_version": "2.0.0",
      "model_name": "ProgressStyleModel",
      "state": {
       "description_width": ""
      }
     },
     "c9223a4e57794967bf3dbea2eaf6a822": {
      "model_module": "@jupyter-widgets/base",
      "model_module_version": "2.0.0",
      "model_name": "LayoutModel",
      "state": {
       "display": "inline-flex",
       "flex_flow": "row wrap",
       "width": "100%"
      }
     },
     "c939821d4af64cc7a73083ed029553c6": {
      "model_module": "@jupyter-widgets/base",
      "model_module_version": "2.0.0",
      "model_name": "LayoutModel",
      "state": {}
     },
     "c9a58cbb565b425f871151c9f1e7f5ad": {
      "model_module": "@jupyter-widgets/controls",
      "model_module_version": "2.0.0",
      "model_name": "ProgressStyleModel",
      "state": {
       "description_width": ""
      }
     },
     "c9b2f68682ee44daa3d2bc9f39db13d4": {
      "model_module": "@jupyter-widgets/controls",
      "model_module_version": "2.0.0",
      "model_name": "ProgressStyleModel",
      "state": {
       "description_width": ""
      }
     },
     "c9c742f17dc2455290383770335a7668": {
      "model_module": "@jupyter-widgets/controls",
      "model_module_version": "2.0.0",
      "model_name": "FloatProgressModel",
      "state": {
       "bar_style": "success",
       "layout": "IPY_MODEL_8fc4942ebc4f4e249607771cef048c7c",
       "max": 40,
       "style": "IPY_MODEL_259ecbc5046f4619b23e2c8965ee7b2a",
       "value": 40
      }
     },
     "c9f7d0f160e34b66874b318c9b87fb60": {
      "model_module": "@jupyter-widgets/base",
      "model_module_version": "2.0.0",
      "model_name": "LayoutModel",
      "state": {}
     },
     "caa92039292143b2a9638b5a988b5952": {
      "model_module": "@jupyter-widgets/controls",
      "model_module_version": "2.0.0",
      "model_name": "HTMLModel",
      "state": {
       "layout": "IPY_MODEL_c4dcd7b0ecb74cb0a0424e3a85f34c42",
       "style": "IPY_MODEL_323fdb241f0f48d184bcba3b74c3b21b",
       "value": "Validate (299 Steps) (DiceMetric=0.11536): 100%"
      }
     },
     "caab5e3fce1a40dfa50f18175cb8e270": {
      "model_module": "@jupyter-widgets/controls",
      "model_module_version": "2.0.0",
      "model_name": "HTMLStyleModel",
      "state": {
       "description_width": "",
       "font_size": null,
       "text_color": null
      }
     },
     "cab38ae7fdce47a1baf5c6564a7b4eda": {
      "model_module": "@jupyter-widgets/controls",
      "model_module_version": "2.0.0",
      "model_name": "HTMLModel",
      "state": {
       "layout": "IPY_MODEL_54fd690eea4b4727ad104dd722cc35ff",
       "style": "IPY_MODEL_705b5b6521da418dbdc594bf3349b6f0",
       "value": "Validate (499 Steps) (DiceMetric=0.23188): 100%"
      }
     },
     "cafc64d24ba946e181e4564645ea00d6": {
      "model_module": "@jupyter-widgets/controls",
      "model_module_version": "2.0.0",
      "model_name": "FloatProgressModel",
      "state": {
       "bar_style": "success",
       "layout": "IPY_MODEL_7558b24db9b84a129d9f4a0d07c819c3",
       "max": 40,
       "style": "IPY_MODEL_1abd89b615b14ea6a2097e107fc4fee0",
       "value": 40
      }
     },
     "cb0344525973476d8ce006d92d5cae64": {
      "model_module": "@jupyter-widgets/base",
      "model_module_version": "2.0.0",
      "model_name": "LayoutModel",
      "state": {}
     },
     "cb354351c73c47458225e6dd0db541e5": {
      "model_module": "@jupyter-widgets/controls",
      "model_module_version": "2.0.0",
      "model_name": "HTMLModel",
      "state": {
       "layout": "IPY_MODEL_48295cf7d6684756990988e64099316a",
       "style": "IPY_MODEL_5c2a4a528d9741ce81218bb3b947862b",
       "value": " 40/40 [02:34&lt;00:00,  1.92s/it]"
      }
     },
     "cb796cabaaaa415a977f4defb706ce78": {
      "model_module": "@jupyter-widgets/controls",
      "model_module_version": "2.0.0",
      "model_name": "HTMLModel",
      "state": {
       "layout": "IPY_MODEL_d643346da0e8460d878554fec2cc8781",
       "style": "IPY_MODEL_7c982a8257114f4db4dd47866dd92794",
       "value": "Validate (8399 Steps) (DiceMetric=0.28278): 100%"
      }
     },
     "cb87cf873d064cda96e2b546666bb3b1": {
      "model_module": "@jupyter-widgets/controls",
      "model_module_version": "2.0.0",
      "model_name": "ProgressStyleModel",
      "state": {
       "description_width": ""
      }
     },
     "cbf7a01238794477a7f56607ca3119c4": {
      "model_module": "@jupyter-widgets/controls",
      "model_module_version": "2.0.0",
      "model_name": "HBoxModel",
      "state": {
       "children": [
        "IPY_MODEL_a2218cabbe2041f7ad2c7a6a71aaf9e8",
        "IPY_MODEL_05471d86cb3d4c028bc808c5af656148",
        "IPY_MODEL_cb354351c73c47458225e6dd0db541e5"
       ],
       "layout": "IPY_MODEL_a87e58fa9b884a56aae62b69d5e2ec53"
      }
     },
     "cc19e448103a4e1c9507ee0bd9d7cfdf": {
      "model_module": "@jupyter-widgets/controls",
      "model_module_version": "2.0.0",
      "model_name": "HTMLStyleModel",
      "state": {
       "description_width": "",
       "font_size": null,
       "text_color": null
      }
     },
     "ccbc6816157a4c4187428381aade4d20": {
      "model_module": "@jupyter-widgets/controls",
      "model_module_version": "2.0.0",
      "model_name": "HBoxModel",
      "state": {
       "children": [
        "IPY_MODEL_f7714930fc554c0ba1b0f9b8f2e0b8a4",
        "IPY_MODEL_9902a358b76e4de39fa6e68a85b88bd0",
        "IPY_MODEL_aa69d9c7ab0f489798b1561a2e78838f"
       ],
       "layout": "IPY_MODEL_1f9c9804403443519b9736eb09bbb3be"
      }
     },
     "cce4918d2d664aecaf483b20fe4dbb01": {
      "model_module": "@jupyter-widgets/controls",
      "model_module_version": "2.0.0",
      "model_name": "HBoxModel",
      "state": {
       "children": [
        "IPY_MODEL_f3002cb30c7d41128032cb0394f54972",
        "IPY_MODEL_db92ffb08b7b4cac8d7bd9913ac26907",
        "IPY_MODEL_bdad7ec386964ecb9313e85dc8f9680b"
       ],
       "layout": "IPY_MODEL_a3f87fd5b8b64c4cb06295d83b4453e2"
      }
     },
     "cd1c363945ae4f0ebdcf5d44c4cc17fc": {
      "model_module": "@jupyter-widgets/controls",
      "model_module_version": "2.0.0",
      "model_name": "ProgressStyleModel",
      "state": {
       "description_width": ""
      }
     },
     "cd43d242daed4a259180550fbfa8d9f9": {
      "model_module": "@jupyter-widgets/controls",
      "model_module_version": "2.0.0",
      "model_name": "ProgressStyleModel",
      "state": {
       "description_width": ""
      }
     },
     "cd99765f51c54768bfa04fc08d118ccc": {
      "model_module": "@jupyter-widgets/base",
      "model_module_version": "2.0.0",
      "model_name": "LayoutModel",
      "state": {}
     },
     "cdec2391c612475fabe537631a3d772a": {
      "model_module": "@jupyter-widgets/base",
      "model_module_version": "2.0.0",
      "model_name": "LayoutModel",
      "state": {
       "flex": "2"
      }
     },
     "ce0526e12f274fe9a15d071bd4025e54": {
      "model_module": "@jupyter-widgets/controls",
      "model_module_version": "2.0.0",
      "model_name": "HTMLStyleModel",
      "state": {
       "description_width": "",
       "font_size": null,
       "text_color": null
      }
     },
     "ce345d3a5a5040e290a800860efeb534": {
      "model_module": "@jupyter-widgets/base",
      "model_module_version": "2.0.0",
      "model_name": "LayoutModel",
      "state": {}
     },
     "ce75561f95b34e2d932d0c7a7b59881a": {
      "model_module": "@jupyter-widgets/controls",
      "model_module_version": "2.0.0",
      "model_name": "HBoxModel",
      "state": {
       "children": [
        "IPY_MODEL_b7af1283b1b14dedb09819d29e49418d",
        "IPY_MODEL_5a846d774b9c4ebf974a8cce6500baa1",
        "IPY_MODEL_0593584d4a544dc4aa057c6dcbdd06c3"
       ],
       "layout": "IPY_MODEL_a20a0a7f03c04eab8cbf17605ae45375"
      }
     },
     "ce883b947d0f4d3fa59eec060e3cfd04": {
      "model_module": "@jupyter-widgets/controls",
      "model_module_version": "2.0.0",
      "model_name": "HTMLStyleModel",
      "state": {
       "description_width": "",
       "font_size": null,
       "text_color": null
      }
     },
     "cee04f16b2394338b36f657207105498": {
      "model_module": "@jupyter-widgets/controls",
      "model_module_version": "2.0.0",
      "model_name": "FloatProgressModel",
      "state": {
       "bar_style": "success",
       "layout": "IPY_MODEL_745da3ea09ea4f76a63ace7cbef7073b",
       "max": 40,
       "style": "IPY_MODEL_bbba7dc50ecf4c3f9fcfbcedddc9aa7e",
       "value": 40
      }
     },
     "cf5c958b285b40e0bfb742da669260ab": {
      "model_module": "@jupyter-widgets/base",
      "model_module_version": "2.0.0",
      "model_name": "LayoutModel",
      "state": {
       "display": "inline-flex",
       "flex_flow": "row wrap",
       "width": "100%"
      }
     },
     "cf686a2d80f74625843c8ca55802a272": {
      "model_module": "@jupyter-widgets/controls",
      "model_module_version": "2.0.0",
      "model_name": "HTMLStyleModel",
      "state": {
       "description_width": "",
       "font_size": null,
       "text_color": null
      }
     },
     "cf6e40ecb24c4a26ac53be07e480a526": {
      "model_module": "@jupyter-widgets/base",
      "model_module_version": "2.0.0",
      "model_name": "LayoutModel",
      "state": {}
     },
     "cf96d340256b4793b756e1703bf59928": {
      "model_module": "@jupyter-widgets/controls",
      "model_module_version": "2.0.0",
      "model_name": "HTMLStyleModel",
      "state": {
       "description_width": "",
       "font_size": null,
       "text_color": null
      }
     },
     "cfc502b9aee64d19af83325710ad4707": {
      "model_module": "@jupyter-widgets/base",
      "model_module_version": "2.0.0",
      "model_name": "LayoutModel",
      "state": {
       "flex": "2"
      }
     },
     "d01553232eef4850876d703dd942a5da": {
      "model_module": "@jupyter-widgets/base",
      "model_module_version": "2.0.0",
      "model_name": "LayoutModel",
      "state": {
       "flex": "2"
      }
     },
     "d0289987fe774e91bae6112a82de06b5": {
      "model_module": "@jupyter-widgets/controls",
      "model_module_version": "2.0.0",
      "model_name": "HTMLModel",
      "state": {
       "layout": "IPY_MODEL_66f163437fb74a5396d8bd8843351532",
       "style": "IPY_MODEL_97ab3991f4fb4761a4ad576289806f9c",
       "value": " 40/40 [02:38&lt;00:00,  1.99s/it]"
      }
     },
     "d0522f9c67334db4a7787a70bf63a6e7": {
      "model_module": "@jupyter-widgets/base",
      "model_module_version": "2.0.0",
      "model_name": "LayoutModel",
      "state": {
       "display": "inline-flex",
       "flex_flow": "row wrap",
       "width": "100%"
      }
     },
     "d05aa332b3824f47a12c488f69edf206": {
      "model_module": "@jupyter-widgets/base",
      "model_module_version": "2.0.0",
      "model_name": "LayoutModel",
      "state": {}
     },
     "d086523f06dc4fa8a123b6ffd9a876c2": {
      "model_module": "@jupyter-widgets/base",
      "model_module_version": "2.0.0",
      "model_name": "LayoutModel",
      "state": {
       "flex": "2"
      }
     },
     "d0a74c4aa8404c48a563c9cb68c92ed2": {
      "model_module": "@jupyter-widgets/base",
      "model_module_version": "2.0.0",
      "model_name": "LayoutModel",
      "state": {
       "flex": "2"
      }
     },
     "d0c340bb437849378d9f4bd1a554840e": {
      "model_module": "@jupyter-widgets/base",
      "model_module_version": "2.0.0",
      "model_name": "LayoutModel",
      "state": {}
     },
     "d1078e2ecd284978a41e097d52cc921e": {
      "model_module": "@jupyter-widgets/controls",
      "model_module_version": "2.0.0",
      "model_name": "HTMLStyleModel",
      "state": {
       "description_width": "",
       "font_size": null,
       "text_color": null
      }
     },
     "d159a094cbd149a9905e04ae7f0bbd73": {
      "model_module": "@jupyter-widgets/controls",
      "model_module_version": "2.0.0",
      "model_name": "HBoxModel",
      "state": {
       "children": [
        "IPY_MODEL_4098da7f235943d0bb9324cfb8bf800c",
        "IPY_MODEL_6f44d4de50334a82a82f0f570a2037b7",
        "IPY_MODEL_9f01f5e9f4ed4069ade9f43deaf155e3"
       ],
       "layout": "IPY_MODEL_5f65a18abc274c4185d73b3668e57247"
      }
     },
     "d1f8f8da03f147ce9bc3efc9cdc57ee8": {
      "model_module": "@jupyter-widgets/controls",
      "model_module_version": "2.0.0",
      "model_name": "HBoxModel",
      "state": {
       "children": [
        "IPY_MODEL_d29a495736f74c6aab5a2ac8b5dcf12d",
        "IPY_MODEL_60eea0d0955549d8a97a13abc3ae10ae",
        "IPY_MODEL_d0289987fe774e91bae6112a82de06b5"
       ],
       "layout": "IPY_MODEL_bd9b67ed26574fdc9a6795350b6d5b2f"
      }
     },
     "d201b49d89014758844a81f2ea33c66b": {
      "model_module": "@jupyter-widgets/base",
      "model_module_version": "2.0.0",
      "model_name": "LayoutModel",
      "state": {
       "flex": "2"
      }
     },
     "d268738ac9284527b12f8a1109ac0aa0": {
      "model_module": "@jupyter-widgets/base",
      "model_module_version": "2.0.0",
      "model_name": "LayoutModel",
      "state": {}
     },
     "d29a495736f74c6aab5a2ac8b5dcf12d": {
      "model_module": "@jupyter-widgets/controls",
      "model_module_version": "2.0.0",
      "model_name": "HTMLModel",
      "state": {
       "layout": "IPY_MODEL_ce345d3a5a5040e290a800860efeb534",
       "style": "IPY_MODEL_d45d406714c74100a7b13b3bcda4b19e",
       "value": "Validate (1899 Steps) (DiceMetric=0.26391): 100%"
      }
     },
     "d2a6384ac6be406082bef506b665556a": {
      "model_module": "@jupyter-widgets/controls",
      "model_module_version": "2.0.0",
      "model_name": "HTMLStyleModel",
      "state": {
       "description_width": "",
       "font_size": null,
       "text_color": null
      }
     },
     "d2ae3788b6a049c69cb9b9d1f051ab44": {
      "model_module": "@jupyter-widgets/controls",
      "model_module_version": "2.0.0",
      "model_name": "ProgressStyleModel",
      "state": {
       "description_width": ""
      }
     },
     "d2da510a39aa48929839ee603f210556": {
      "model_module": "@jupyter-widgets/base",
      "model_module_version": "2.0.0",
      "model_name": "LayoutModel",
      "state": {}
     },
     "d310613f0d0a436e8ef655c6f2e37ed8": {
      "model_module": "@jupyter-widgets/base",
      "model_module_version": "2.0.0",
      "model_name": "LayoutModel",
      "state": {}
     },
     "d35b7af0c32d49f0ae4506a708dc9abd": {
      "model_module": "@jupyter-widgets/controls",
      "model_module_version": "2.0.0",
      "model_name": "ProgressStyleModel",
      "state": {
       "description_width": ""
      }
     },
     "d41b7353c5c34a3593870eaa95404794": {
      "model_module": "@jupyter-widgets/controls",
      "model_module_version": "2.0.0",
      "model_name": "FloatProgressModel",
      "state": {
       "bar_style": "success",
       "layout": "IPY_MODEL_4bbeee1e06b34239aa8dc3ccfd86e4c9",
       "max": 40,
       "style": "IPY_MODEL_0e7b9eb29fcb492e9bd1d80985c238bb",
       "value": 40
      }
     },
     "d421e91cfe01435d91c70d1d714ffa73": {
      "model_module": "@jupyter-widgets/base",
      "model_module_version": "2.0.0",
      "model_name": "LayoutModel",
      "state": {}
     },
     "d45d406714c74100a7b13b3bcda4b19e": {
      "model_module": "@jupyter-widgets/controls",
      "model_module_version": "2.0.0",
      "model_name": "HTMLStyleModel",
      "state": {
       "description_width": "",
       "font_size": null,
       "text_color": null
      }
     },
     "d4e51a8597f04ec09197695c21041978": {
      "model_module": "@jupyter-widgets/base",
      "model_module_version": "2.0.0",
      "model_name": "LayoutModel",
      "state": {}
     },
     "d4f56743e2eb4a38989a11978bb4778f": {
      "model_module": "@jupyter-widgets/controls",
      "model_module_version": "2.0.0",
      "model_name": "FloatProgressModel",
      "state": {
       "bar_style": "success",
       "layout": "IPY_MODEL_ead0b070b2da40318de9f38d4a472550",
       "max": 40,
       "style": "IPY_MODEL_19833c3bcd2c4ceab90578f7c2145dd0",
       "value": 40
      }
     },
     "d59c408abc484a69a4cd842bcd339af4": {
      "model_module": "@jupyter-widgets/base",
      "model_module_version": "2.0.0",
      "model_name": "LayoutModel",
      "state": {
       "display": "inline-flex",
       "flex_flow": "row wrap",
       "width": "100%"
      }
     },
     "d5a9a2ce11dd46dcaa2392b0136006e5": {
      "model_module": "@jupyter-widgets/base",
      "model_module_version": "2.0.0",
      "model_name": "LayoutModel",
      "state": {
       "display": "inline-flex",
       "flex_flow": "row wrap",
       "width": "100%"
      }
     },
     "d5f74e407ebc463d9bd0ad892d93014d": {
      "model_module": "@jupyter-widgets/base",
      "model_module_version": "2.0.0",
      "model_name": "LayoutModel",
      "state": {}
     },
     "d5faa1a1a97f42699db39b236029d178": {
      "model_module": "@jupyter-widgets/base",
      "model_module_version": "2.0.0",
      "model_name": "LayoutModel",
      "state": {}
     },
     "d61c5641dcc649c19428c87dfb97b5ec": {
      "model_module": "@jupyter-widgets/controls",
      "model_module_version": "2.0.0",
      "model_name": "ProgressStyleModel",
      "state": {
       "description_width": ""
      }
     },
     "d61dafa8e5fd424fb65e8886dfb6d537": {
      "model_module": "@jupyter-widgets/base",
      "model_module_version": "2.0.0",
      "model_name": "LayoutModel",
      "state": {
       "display": "inline-flex",
       "flex_flow": "row wrap",
       "width": "100%"
      }
     },
     "d63cd33ef4014f369d7ce286cbb7ec99": {
      "model_module": "@jupyter-widgets/controls",
      "model_module_version": "2.0.0",
      "model_name": "HBoxModel",
      "state": {
       "children": [
        "IPY_MODEL_17f228f7d66d460ab4218e5b2dd54e11",
        "IPY_MODEL_7fcdf0929987420a9c422b15ab0a420e",
        "IPY_MODEL_c84ddaa929b84cea9607ce5a337bdd09"
       ],
       "layout": "IPY_MODEL_f73413f4427147af9f48d22812fd59ac"
      }
     },
     "d643346da0e8460d878554fec2cc8781": {
      "model_module": "@jupyter-widgets/base",
      "model_module_version": "2.0.0",
      "model_name": "LayoutModel",
      "state": {}
     },
     "d683a8a4461345fbb0b7d74f8f9d2896": {
      "model_module": "@jupyter-widgets/controls",
      "model_module_version": "2.0.0",
      "model_name": "HBoxModel",
      "state": {
       "children": [
        "IPY_MODEL_aa2d5bb2bb9248109d219c5d32175827",
        "IPY_MODEL_58850280e8154f8cbcb12e00b050b275",
        "IPY_MODEL_aa6f1f41fa7849928f19516f103230fa"
       ],
       "layout": "IPY_MODEL_fdb7e131315743169d676125d4cf2a27"
      }
     },
     "d6fcb736f97a4de29337891b10bbd129": {
      "model_module": "@jupyter-widgets/base",
      "model_module_version": "2.0.0",
      "model_name": "LayoutModel",
      "state": {}
     },
     "d70a1c73907a4ef793727ef01bc788b4": {
      "model_module": "@jupyter-widgets/controls",
      "model_module_version": "2.0.0",
      "model_name": "HTMLModel",
      "state": {
       "layout": "IPY_MODEL_259a42cc630343e0a7d8b1cb86a43a40",
       "style": "IPY_MODEL_548a61606f7a4a9191a9ec051d41ebac",
       "value": " 40/40 [02:33&lt;00:00,  1.92s/it]"
      }
     },
     "d72aa9de7eb34e9d9e4a3c406c4e8320": {
      "model_module": "@jupyter-widgets/base",
      "model_module_version": "2.0.0",
      "model_name": "LayoutModel",
      "state": {
       "display": "inline-flex",
       "flex_flow": "row wrap",
       "width": "100%"
      }
     },
     "d75c8c68b76a429982bbf8c4a9c75895": {
      "model_module": "@jupyter-widgets/controls",
      "model_module_version": "2.0.0",
      "model_name": "ProgressStyleModel",
      "state": {
       "description_width": ""
      }
     },
     "d78597fb85ce4f858f6ece71d12cddca": {
      "model_module": "@jupyter-widgets/controls",
      "model_module_version": "2.0.0",
      "model_name": "HTMLStyleModel",
      "state": {
       "description_width": "",
       "font_size": null,
       "text_color": null
      }
     },
     "d79a52cea5654d58a4a2f062cf53cc6a": {
      "model_module": "@jupyter-widgets/controls",
      "model_module_version": "2.0.0",
      "model_name": "HTMLModel",
      "state": {
       "layout": "IPY_MODEL_d421e91cfe01435d91c70d1d714ffa73",
       "style": "IPY_MODEL_d94372fccca6435494249942cf16aaa9",
       "value": " 40/40 [02:34&lt;00:00,  1.92s/it]"
      }
     },
     "d7c2f06cf58e4880ba7d72dee45b8f49": {
      "model_module": "@jupyter-widgets/controls",
      "model_module_version": "2.0.0",
      "model_name": "HTMLModel",
      "state": {
       "layout": "IPY_MODEL_d0c340bb437849378d9f4bd1a554840e",
       "style": "IPY_MODEL_5c11824b7b934899a83d410e2669e792",
       "value": " 40/40 [02:38&lt;00:00,  2.02s/it]"
      }
     },
     "d80834c21fee4064a212a64ddb0e63bf": {
      "model_module": "@jupyter-widgets/base",
      "model_module_version": "2.0.0",
      "model_name": "LayoutModel",
      "state": {}
     },
     "d830ddcee53d42c786a23302350a926e": {
      "model_module": "@jupyter-widgets/controls",
      "model_module_version": "2.0.0",
      "model_name": "HTMLModel",
      "state": {
       "layout": "IPY_MODEL_d310613f0d0a436e8ef655c6f2e37ed8",
       "style": "IPY_MODEL_da92615a5ea54fb4b7d884bb18300ceb",
       "value": " 40/40 [02:34&lt;00:00,  1.91s/it]"
      }
     },
     "d8664416e7f1429bb96edad2272c8ba8": {
      "model_module": "@jupyter-widgets/controls",
      "model_module_version": "2.0.0",
      "model_name": "HTMLStyleModel",
      "state": {
       "description_width": "",
       "font_size": null,
       "text_color": null
      }
     },
     "d86fdc0743e64238b762bbf32625e465": {
      "model_module": "@jupyter-widgets/base",
      "model_module_version": "2.0.0",
      "model_name": "LayoutModel",
      "state": {}
     },
     "d88740163109405b834d2ddb13ef9f9e": {
      "model_module": "@jupyter-widgets/controls",
      "model_module_version": "2.0.0",
      "model_name": "HTMLStyleModel",
      "state": {
       "description_width": "",
       "font_size": null,
       "text_color": null
      }
     },
     "d8955e1c967b42d39e1309a0cea22674": {
      "model_module": "@jupyter-widgets/base",
      "model_module_version": "2.0.0",
      "model_name": "LayoutModel",
      "state": {
       "flex": "2"
      }
     },
     "d89a4b28a44c40a1b7b7495e63c3f38a": {
      "model_module": "@jupyter-widgets/controls",
      "model_module_version": "2.0.0",
      "model_name": "HTMLStyleModel",
      "state": {
       "description_width": "",
       "font_size": null,
       "text_color": null
      }
     },
     "d8af2f36bcb142e1be9e485a60e37359": {
      "model_module": "@jupyter-widgets/controls",
      "model_module_version": "2.0.0",
      "model_name": "FloatProgressModel",
      "state": {
       "bar_style": "success",
       "layout": "IPY_MODEL_0e1d989200d14b93be56719c7f069617",
       "max": 40,
       "style": "IPY_MODEL_8b0aa416b38c48a0b5d6ee71a53a7f24",
       "value": 40
      }
     },
     "d8d1a72b716043169be48042d0037e3b": {
      "model_module": "@jupyter-widgets/base",
      "model_module_version": "2.0.0",
      "model_name": "LayoutModel",
      "state": {
       "flex": "2"
      }
     },
     "d8f5c0d90d29448ea1b7fe8c09b72f72": {
      "model_module": "@jupyter-widgets/base",
      "model_module_version": "2.0.0",
      "model_name": "LayoutModel",
      "state": {
       "flex": "2"
      }
     },
     "d902b75766c24efc9f0f53b5d60ea5cd": {
      "model_module": "@jupyter-widgets/controls",
      "model_module_version": "2.0.0",
      "model_name": "HTMLStyleModel",
      "state": {
       "description_width": "",
       "font_size": null,
       "text_color": null
      }
     },
     "d93995a8311f470e91772098a28ee1b2": {
      "model_module": "@jupyter-widgets/controls",
      "model_module_version": "2.0.0",
      "model_name": "HTMLStyleModel",
      "state": {
       "description_width": "",
       "font_size": null,
       "text_color": null
      }
     },
     "d94372fccca6435494249942cf16aaa9": {
      "model_module": "@jupyter-widgets/controls",
      "model_module_version": "2.0.0",
      "model_name": "HTMLStyleModel",
      "state": {
       "description_width": "",
       "font_size": null,
       "text_color": null
      }
     },
     "d950ad8ea7be4ba0bf6129e9209e2c4b": {
      "model_module": "@jupyter-widgets/controls",
      "model_module_version": "2.0.0",
      "model_name": "ProgressStyleModel",
      "state": {
       "description_width": ""
      }
     },
     "d9660ed0e2f04a78b8234fbcdabb8c9c": {
      "model_module": "@jupyter-widgets/controls",
      "model_module_version": "2.0.0",
      "model_name": "HTMLModel",
      "state": {
       "layout": "IPY_MODEL_ad920fb8b1604a9e8128d7059055c3de",
       "style": "IPY_MODEL_6e78019094444b1faeb8fb48b3ac8662",
       "value": "Validate (6899 Steps) (DiceMetric=0.27688): 100%"
      }
     },
     "d9a6bc9213494007a1a41bbcd09ebcb8": {
      "model_module": "@jupyter-widgets/controls",
      "model_module_version": "2.0.0",
      "model_name": "HTMLModel",
      "state": {
       "layout": "IPY_MODEL_765b8331e65842eeb9ab9c8ab92bcae7",
       "style": "IPY_MODEL_805de0c367a24fcfbc3e3c389212163e",
       "value": " 40/40 [02:36&lt;00:00,  1.97s/it]"
      }
     },
     "da43b072c0fc4f0197eff9d4d8ae51b8": {
      "model_module": "@jupyter-widgets/base",
      "model_module_version": "2.0.0",
      "model_name": "LayoutModel",
      "state": {}
     },
     "da5b07a55b5b46cbbddd0a965627f0b6": {
      "model_module": "@jupyter-widgets/base",
      "model_module_version": "2.0.0",
      "model_name": "LayoutModel",
      "state": {
       "flex": "2"
      }
     },
     "da792641ccc4403084ce3a9cd679a092": {
      "model_module": "@jupyter-widgets/controls",
      "model_module_version": "2.0.0",
      "model_name": "HTMLModel",
      "state": {
       "layout": "IPY_MODEL_c06eec07a7ce4e8aaea9e9f9263ae9f8",
       "style": "IPY_MODEL_fd1bcea4ff994a9598cbdb9a3bec8aa9",
       "value": "Validate (1299 Steps) (DiceMetric=0.26565): 100%"
      }
     },
     "da91254649804d95a7432fb5a8d0ff4e": {
      "model_module": "@jupyter-widgets/base",
      "model_module_version": "2.0.0",
      "model_name": "LayoutModel",
      "state": {}
     },
     "da92615a5ea54fb4b7d884bb18300ceb": {
      "model_module": "@jupyter-widgets/controls",
      "model_module_version": "2.0.0",
      "model_name": "HTMLStyleModel",
      "state": {
       "description_width": "",
       "font_size": null,
       "text_color": null
      }
     },
     "da9c21df1d404d2dabbb8f9d5f8df99d": {
      "model_module": "@jupyter-widgets/controls",
      "model_module_version": "2.0.0",
      "model_name": "HTMLModel",
      "state": {
       "layout": "IPY_MODEL_b2a31212306940b9a1cac9b65883dab1",
       "style": "IPY_MODEL_ce883b947d0f4d3fa59eec060e3cfd04",
       "value": "Validate (9099 Steps) (DiceMetric=0.28441): 100%"
      }
     },
     "dadf712051144504b043725d7e854e23": {
      "model_module": "@jupyter-widgets/controls",
      "model_module_version": "2.0.0",
      "model_name": "HTMLStyleModel",
      "state": {
       "description_width": "",
       "font_size": null,
       "text_color": null
      }
     },
     "db6aa74fdffc4deba303ab982f650997": {
      "model_module": "@jupyter-widgets/controls",
      "model_module_version": "2.0.0",
      "model_name": "FloatProgressModel",
      "state": {
       "bar_style": "success",
       "layout": "IPY_MODEL_4a1f09d1e76a48ec9d9644aa43548f92",
       "max": 40,
       "style": "IPY_MODEL_d2ae3788b6a049c69cb9b9d1f051ab44",
       "value": 40
      }
     },
     "db6f28a5bf39419b9d9e74e03f5afccc": {
      "model_module": "@jupyter-widgets/base",
      "model_module_version": "2.0.0",
      "model_name": "LayoutModel",
      "state": {
       "flex": "2"
      }
     },
     "db92ffb08b7b4cac8d7bd9913ac26907": {
      "model_module": "@jupyter-widgets/controls",
      "model_module_version": "2.0.0",
      "model_name": "FloatProgressModel",
      "state": {
       "bar_style": "success",
       "layout": "IPY_MODEL_8ee5163db1f642238344b0d1ac7fdfd9",
       "max": 40,
       "style": "IPY_MODEL_d75c8c68b76a429982bbf8c4a9c75895",
       "value": 40
      }
     },
     "dc019a5d11d3401aa8f57f0a2e6ae5b6": {
      "model_module": "@jupyter-widgets/base",
      "model_module_version": "2.0.0",
      "model_name": "LayoutModel",
      "state": {
       "flex": "2"
      }
     },
     "dcd1dda7a0ea41ae93332137031b3eea": {
      "model_module": "@jupyter-widgets/base",
      "model_module_version": "2.0.0",
      "model_name": "LayoutModel",
      "state": {
       "flex": "2"
      }
     },
     "dceed160d7cf4b5cbf60f2e2c596f426": {
      "model_module": "@jupyter-widgets/controls",
      "model_module_version": "2.0.0",
      "model_name": "HBoxModel",
      "state": {
       "children": [
        "IPY_MODEL_cb796cabaaaa415a977f4defb706ce78",
        "IPY_MODEL_6fa36ba36b374537839df498dc3c0c2c",
        "IPY_MODEL_fc58df83595f4e48b6e3ec61edd28a2d"
       ],
       "layout": "IPY_MODEL_f2da4679eac74e4a852a90ddf6d97078"
      }
     },
     "dcf0a94c69c04cc89dbc93964b637342": {
      "model_module": "@jupyter-widgets/base",
      "model_module_version": "2.0.0",
      "model_name": "LayoutModel",
      "state": {
       "flex": "2"
      }
     },
     "dcf0cbac97a84bb98f8431f9a0535c14": {
      "model_module": "@jupyter-widgets/controls",
      "model_module_version": "2.0.0",
      "model_name": "HTMLStyleModel",
      "state": {
       "description_width": "",
       "font_size": null,
       "text_color": null
      }
     },
     "dd0c17846921499ebf07b1468de51dc0": {
      "model_module": "@jupyter-widgets/base",
      "model_module_version": "2.0.0",
      "model_name": "LayoutModel",
      "state": {}
     },
     "ddb1b28efd074a7c8baa59b4f49c29d9": {
      "model_module": "@jupyter-widgets/base",
      "model_module_version": "2.0.0",
      "model_name": "LayoutModel",
      "state": {}
     },
     "ddd076b6c0bb44efb2edd92a7d108818": {
      "model_module": "@jupyter-widgets/base",
      "model_module_version": "2.0.0",
      "model_name": "LayoutModel",
      "state": {
       "flex": "2"
      }
     },
     "ddd30d6dbce04a3c8162bfc53efc72c7": {
      "model_module": "@jupyter-widgets/base",
      "model_module_version": "2.0.0",
      "model_name": "LayoutModel",
      "state": {
       "display": "inline-flex",
       "flex_flow": "row wrap",
       "width": "100%"
      }
     },
     "de6a461fada545e19c1d732a24c1dcce": {
      "model_module": "@jupyter-widgets/base",
      "model_module_version": "2.0.0",
      "model_name": "LayoutModel",
      "state": {
       "display": "inline-flex",
       "flex_flow": "row wrap",
       "width": "100%"
      }
     },
     "deafed821a7a4c84aa2880c8a1dffe54": {
      "model_module": "@jupyter-widgets/base",
      "model_module_version": "2.0.0",
      "model_name": "LayoutModel",
      "state": {
       "display": "inline-flex",
       "flex_flow": "row wrap",
       "width": "100%"
      }
     },
     "deb4589ccba944c7a61c954d8a959184": {
      "model_module": "@jupyter-widgets/base",
      "model_module_version": "2.0.0",
      "model_name": "LayoutModel",
      "state": {}
     },
     "debdd6be0ea44270984332f89549bb74": {
      "model_module": "@jupyter-widgets/controls",
      "model_module_version": "2.0.0",
      "model_name": "FloatProgressModel",
      "state": {
       "bar_style": "success",
       "layout": "IPY_MODEL_dcf0a94c69c04cc89dbc93964b637342",
       "max": 40,
       "style": "IPY_MODEL_a67f726516ae4ebbb895d8fc05ff8062",
       "value": 40
      }
     },
     "df98d2887c3442dca115bfdc7ce6282c": {
      "model_module": "@jupyter-widgets/base",
      "model_module_version": "2.0.0",
      "model_name": "LayoutModel",
      "state": {}
     },
     "dfb5a9ce6d5347cab6ea53f51cd66567": {
      "model_module": "@jupyter-widgets/controls",
      "model_module_version": "2.0.0",
      "model_name": "HBoxModel",
      "state": {
       "children": [
        "IPY_MODEL_ad438d30f98c4c5b8c26e51ef9edc3a4",
        "IPY_MODEL_a607efe3139d4aba838cbb551314a3d7",
        "IPY_MODEL_7963be0c70824d6c983dc6d134f0d382"
       ],
       "layout": "IPY_MODEL_773c69af9c244afeaacdf9eb8803b79f"
      }
     },
     "dfce9006d5f141fa83b20cef24ac6f67": {
      "model_module": "@jupyter-widgets/controls",
      "model_module_version": "2.0.0",
      "model_name": "HTMLStyleModel",
      "state": {
       "description_width": "",
       "font_size": null,
       "text_color": null
      }
     },
     "e02d99be91414a20866579b7ddae7372": {
      "model_module": "@jupyter-widgets/controls",
      "model_module_version": "2.0.0",
      "model_name": "HBoxModel",
      "state": {
       "children": [
        "IPY_MODEL_f355ff9a03ee49bea18593abd73e812d",
        "IPY_MODEL_a8aaccf7f34e42a787f89dc35a07aaae",
        "IPY_MODEL_a789969c8b1646a892374f2bdf26bb28"
       ],
       "layout": "IPY_MODEL_ddd30d6dbce04a3c8162bfc53efc72c7"
      }
     },
     "e0d24494a9c54236ba1295d4423421fd": {
      "model_module": "@jupyter-widgets/controls",
      "model_module_version": "2.0.0",
      "model_name": "HTMLModel",
      "state": {
       "layout": "IPY_MODEL_7d2ffcd451e0495684f0fed913a0675c",
       "style": "IPY_MODEL_fdb10fb76c55431caf13a6b315e506af",
       "value": " 40/40 [02:35&lt;00:00,  1.93s/it]"
      }
     },
     "e0d511dd553f422eb6bccceb37405b2d": {
      "model_module": "@jupyter-widgets/controls",
      "model_module_version": "2.0.0",
      "model_name": "HBoxModel",
      "state": {
       "children": [
        "IPY_MODEL_4b028ad8c04046efb6b522910dbfad3f",
        "IPY_MODEL_88fd2b22638749c396d801ab2a38b840",
        "IPY_MODEL_24ecb775e3b042a9b0cced12f3967cd9"
       ],
       "layout": "IPY_MODEL_aec07fdb55044283b404714fc000a749"
      }
     },
     "e0ea2f91b42b485cb0c70ce955c5f6a7": {
      "model_module": "@jupyter-widgets/controls",
      "model_module_version": "2.0.0",
      "model_name": "HTMLStyleModel",
      "state": {
       "description_width": "",
       "font_size": null,
       "text_color": null
      }
     },
     "e0eec2c1a819438388e98b75309ef61e": {
      "model_module": "@jupyter-widgets/base",
      "model_module_version": "2.0.0",
      "model_name": "LayoutModel",
      "state": {
       "display": "inline-flex",
       "flex_flow": "row wrap",
       "width": "100%"
      }
     },
     "e107868ed2ad4f759eb112b66d4d385b": {
      "model_module": "@jupyter-widgets/base",
      "model_module_version": "2.0.0",
      "model_name": "LayoutModel",
      "state": {}
     },
     "e15483c0d47f44c3b1c79861367ec277": {
      "model_module": "@jupyter-widgets/base",
      "model_module_version": "2.0.0",
      "model_name": "LayoutModel",
      "state": {}
     },
     "e1781b38c4fd4963bbf040116fa49ec8": {
      "model_module": "@jupyter-widgets/controls",
      "model_module_version": "2.0.0",
      "model_name": "HTMLModel",
      "state": {
       "layout": "IPY_MODEL_3749a8a4f81b45b59490abce03e99941",
       "style": "IPY_MODEL_d1078e2ecd284978a41e097d52cc921e",
       "value": "Validate (4599 Steps) (DiceMetric=0.27003): 100%"
      }
     },
     "e187fd1156f24b85838f0e6c35a00442": {
      "model_module": "@jupyter-widgets/controls",
      "model_module_version": "2.0.0",
      "model_name": "HTMLModel",
      "state": {
       "layout": "IPY_MODEL_e107868ed2ad4f759eb112b66d4d385b",
       "style": "IPY_MODEL_bbddacc4b4ee47309e5a6d2c7fdad08a",
       "value": "Validate (9499 Steps) (DiceMetric=0.28643): 100%"
      }
     },
     "e23c5b6b03c84cd59d763f7fcac6cea8": {
      "model_module": "@jupyter-widgets/controls",
      "model_module_version": "2.0.0",
      "model_name": "HTMLModel",
      "state": {
       "layout": "IPY_MODEL_b5ccfdcb344248d5b5327c4d3e7ba152",
       "style": "IPY_MODEL_8e04e10b0486455db214558c76474891",
       "value": "Validate (4399 Steps) (DiceMetric=0.26915): 100%"
      }
     },
     "e242f0e38900473288451d6f6ae2afb7": {
      "model_module": "@jupyter-widgets/controls",
      "model_module_version": "2.0.0",
      "model_name": "HTMLStyleModel",
      "state": {
       "description_width": "",
       "font_size": null,
       "text_color": null
      }
     },
     "e253fe5587e24bfaa96d8d7ff45c60e6": {
      "model_module": "@jupyter-widgets/controls",
      "model_module_version": "2.0.0",
      "model_name": "HTMLStyleModel",
      "state": {
       "description_width": "",
       "font_size": null,
       "text_color": null
      }
     },
     "e2552fbab8e445edbe6426fc37ebb895": {
      "model_module": "@jupyter-widgets/controls",
      "model_module_version": "2.0.0",
      "model_name": "HBoxModel",
      "state": {
       "children": [
        "IPY_MODEL_5b5c25348af84f78a3d61276857bbb11",
        "IPY_MODEL_a3659c4eebcc4b3e85345f65737da551",
        "IPY_MODEL_9409e93f1a3f4d4fb0e934d59cc3736a"
       ],
       "layout": "IPY_MODEL_6a1d3f15c8304a35858294ead18f762d"
      }
     },
     "e2592677d8714236b38f1cafcd715d62": {
      "model_module": "@jupyter-widgets/controls",
      "model_module_version": "2.0.0",
      "model_name": "HBoxModel",
      "state": {
       "children": [
        "IPY_MODEL_1f7dc36ae62d4406a75b39f2d3e04743",
        "IPY_MODEL_905023887a3a4a1eb6b8e603bd717d72",
        "IPY_MODEL_be683f128f4342459e1c525ddaa9129f"
       ],
       "layout": "IPY_MODEL_b4766ce0f8104ea0bf4c133ba606e160"
      }
     },
     "e292621b455745c3ba7f409c70662220": {
      "model_module": "@jupyter-widgets/controls",
      "model_module_version": "2.0.0",
      "model_name": "FloatProgressModel",
      "state": {
       "bar_style": "success",
       "layout": "IPY_MODEL_3f12105f490240a389ad560da526643a",
       "max": 40,
       "style": "IPY_MODEL_8f6e6b45f0d8491dbbc039e717757fc2",
       "value": 40
      }
     },
     "e329dd61076547d4867c2a94cf41ec9a": {
      "model_module": "@jupyter-widgets/base",
      "model_module_version": "2.0.0",
      "model_name": "LayoutModel",
      "state": {
       "flex": "2"
      }
     },
     "e44899ba4cc941c3bb492e7dbcb2f100": {
      "model_module": "@jupyter-widgets/base",
      "model_module_version": "2.0.0",
      "model_name": "LayoutModel",
      "state": {
       "display": "inline-flex",
       "flex_flow": "row wrap",
       "width": "100%"
      }
     },
     "e45c3aa046ce445180c2daa5a7bfbcf2": {
      "model_module": "@jupyter-widgets/controls",
      "model_module_version": "2.0.0",
      "model_name": "ProgressStyleModel",
      "state": {
       "description_width": ""
      }
     },
     "e4a4b335aeba4a1fbdea23a55acff1d9": {
      "model_module": "@jupyter-widgets/base",
      "model_module_version": "2.0.0",
      "model_name": "LayoutModel",
      "state": {
       "flex": "2"
      }
     },
     "e593073bc0374122a14dbe376b821180": {
      "model_module": "@jupyter-widgets/base",
      "model_module_version": "2.0.0",
      "model_name": "LayoutModel",
      "state": {}
     },
     "e609ce542c564331b10356e724530614": {
      "model_module": "@jupyter-widgets/controls",
      "model_module_version": "2.0.0",
      "model_name": "HTMLModel",
      "state": {
       "layout": "IPY_MODEL_d05aa332b3824f47a12c488f69edf206",
       "style": "IPY_MODEL_fb438e608ed6467bb3463de4c8745ea5",
       "value": "Validate (1799 Steps) (DiceMetric=0.26469): 100%"
      }
     },
     "e622cbf84c9648ca9dbcbb68c82ec05a": {
      "model_module": "@jupyter-widgets/controls",
      "model_module_version": "2.0.0",
      "model_name": "HBoxModel",
      "state": {
       "children": [
        "IPY_MODEL_d9660ed0e2f04a78b8234fbcdabb8c9c",
        "IPY_MODEL_af5dc68b64934fd2a2c66c2196a4fff8",
        "IPY_MODEL_486158eed58d46a2bf8482cb762daf4f"
       ],
       "layout": "IPY_MODEL_d72aa9de7eb34e9d9e4a3c406c4e8320"
      }
     },
     "e68c78ec0f5845c1b2c9f67bcb74b2f6": {
      "model_module": "@jupyter-widgets/base",
      "model_module_version": "2.0.0",
      "model_name": "LayoutModel",
      "state": {
       "display": "inline-flex",
       "flex_flow": "row wrap",
       "width": "100%"
      }
     },
     "e69ce2b9c76d49daa5594777c5ccf9bc": {
      "model_module": "@jupyter-widgets/base",
      "model_module_version": "2.0.0",
      "model_name": "LayoutModel",
      "state": {}
     },
     "e6b40104cad54543a8f900b258fbf36c": {
      "model_module": "@jupyter-widgets/base",
      "model_module_version": "2.0.0",
      "model_name": "LayoutModel",
      "state": {
       "flex": "2"
      }
     },
     "e6ca1885109143d3b1026b5f56882e04": {
      "model_module": "@jupyter-widgets/base",
      "model_module_version": "2.0.0",
      "model_name": "LayoutModel",
      "state": {
       "flex": "2"
      }
     },
     "e6cb3bdc024e4d5a904370fa7f8b2b32": {
      "model_module": "@jupyter-widgets/base",
      "model_module_version": "2.0.0",
      "model_name": "LayoutModel",
      "state": {}
     },
     "e700833d12624031b3943d86dc4e771f": {
      "model_module": "@jupyter-widgets/controls",
      "model_module_version": "2.0.0",
      "model_name": "HTMLStyleModel",
      "state": {
       "description_width": "",
       "font_size": null,
       "text_color": null
      }
     },
     "e77c055c0a8a4ca8a2991d3d881d6a7d": {
      "model_module": "@jupyter-widgets/base",
      "model_module_version": "2.0.0",
      "model_name": "LayoutModel",
      "state": {}
     },
     "e79bdee0b1b1462fb3d48c48d6c2f1b7": {
      "model_module": "@jupyter-widgets/controls",
      "model_module_version": "2.0.0",
      "model_name": "HTMLStyleModel",
      "state": {
       "description_width": "",
       "font_size": null,
       "text_color": null
      }
     },
     "e7f338fd20014ab8be7779d19a0245b0": {
      "model_module": "@jupyter-widgets/controls",
      "model_module_version": "2.0.0",
      "model_name": "HTMLStyleModel",
      "state": {
       "description_width": "",
       "font_size": null,
       "text_color": null
      }
     },
     "e81a37a1a56b49f0b695b48b401c09eb": {
      "model_module": "@jupyter-widgets/controls",
      "model_module_version": "2.0.0",
      "model_name": "FloatProgressModel",
      "state": {
       "bar_style": "success",
       "layout": "IPY_MODEL_99300ec00c694ee0b445131884e64a8f",
       "max": 40,
       "style": "IPY_MODEL_b3fecee0fec84f6a9aced80a7733bb3f",
       "value": 40
      }
     },
     "e8283a24aa9e4e409849a881fc115276": {
      "model_module": "@jupyter-widgets/base",
      "model_module_version": "2.0.0",
      "model_name": "LayoutModel",
      "state": {}
     },
     "e83cc5b78c6e4749a9cc1924c0496360": {
      "model_module": "@jupyter-widgets/controls",
      "model_module_version": "2.0.0",
      "model_name": "HTMLModel",
      "state": {
       "layout": "IPY_MODEL_2e2fb12a74824675b740ed8729f9df01",
       "style": "IPY_MODEL_8526454108ed4acfb710e80bf275debb",
       "value": " 40/40 [02:33&lt;00:00,  1.93s/it]"
      }
     },
     "e947691c69704d2dbdb0890d10b278f0": {
      "model_module": "@jupyter-widgets/controls",
      "model_module_version": "2.0.0",
      "model_name": "HTMLModel",
      "state": {
       "layout": "IPY_MODEL_806525ce57fc445482454ba66d8af5b5",
       "style": "IPY_MODEL_54da324a38f84044a82055a765885b14",
       "value": "Validate (1199 Steps) (DiceMetric=0.26405): 100%"
      }
     },
     "e9d3d1b45288450db4d8663bf9720aaa": {
      "model_module": "@jupyter-widgets/controls",
      "model_module_version": "2.0.0",
      "model_name": "FloatProgressModel",
      "state": {
       "bar_style": "success",
       "layout": "IPY_MODEL_179ff1b001ea4adba1491a33afc9bed6",
       "max": 40,
       "style": "IPY_MODEL_ae4f26be13d8466d8615bdf19540325c",
       "value": 40
      }
     },
     "e9e071339bff4082abd2d3097e4b2a09": {
      "model_module": "@jupyter-widgets/controls",
      "model_module_version": "2.0.0",
      "model_name": "HTMLStyleModel",
      "state": {
       "description_width": "",
       "font_size": null,
       "text_color": null
      }
     },
     "e9e275f138104e308b620b75ba01431d": {
      "model_module": "@jupyter-widgets/base",
      "model_module_version": "2.0.0",
      "model_name": "LayoutModel",
      "state": {
       "flex": "2"
      }
     },
     "e9fd8be2d55e4db0ae47f9ff8b489924": {
      "model_module": "@jupyter-widgets/controls",
      "model_module_version": "2.0.0",
      "model_name": "HTMLModel",
      "state": {
       "layout": "IPY_MODEL_b04f673e9d9d4ce6b94ced8a614931f7",
       "style": "IPY_MODEL_ffacb981cecd41649c0e25daa63923b1",
       "value": "Validate (9399 Steps) (DiceMetric=0.28469): 100%"
      }
     },
     "ea0154496abb44ff8b0440b0c07f550e": {
      "model_module": "@jupyter-widgets/controls",
      "model_module_version": "2.0.0",
      "model_name": "HTMLModel",
      "state": {
       "layout": "IPY_MODEL_be4f68e69efb4b6e8077842a3368d3bd",
       "style": "IPY_MODEL_3bf77fa4016e4593804ed57c458d1cdb",
       "value": "Validate (8099 Steps) (DiceMetric=0.28094): 100%"
      }
     },
     "ea6998264cee420ca29cc470042185ce": {
      "model_module": "@jupyter-widgets/base",
      "model_module_version": "2.0.0",
      "model_name": "LayoutModel",
      "state": {
       "display": "inline-flex",
       "flex_flow": "row wrap",
       "width": "100%"
      }
     },
     "eaad0e71e7f442788b228f595ce699e2": {
      "model_module": "@jupyter-widgets/controls",
      "model_module_version": "2.0.0",
      "model_name": "HBoxModel",
      "state": {
       "children": [
        "IPY_MODEL_a99a9fc331d749d5bbf639a13ec84464",
        "IPY_MODEL_4eda31e5f9e64a0a80850a3421eb14e3",
        "IPY_MODEL_9c5029fc8d6e4a7e9d8f4829ee13718c"
       ],
       "layout": "IPY_MODEL_ea6998264cee420ca29cc470042185ce"
      }
     },
     "eacebcc5ca2f42b8a08db9d08bd43a2e": {
      "model_module": "@jupyter-widgets/base",
      "model_module_version": "2.0.0",
      "model_name": "LayoutModel",
      "state": {}
     },
     "ead0b070b2da40318de9f38d4a472550": {
      "model_module": "@jupyter-widgets/base",
      "model_module_version": "2.0.0",
      "model_name": "LayoutModel",
      "state": {
       "flex": "2"
      }
     },
     "eb5ac3d5c6cd4a6484163537ed03c325": {
      "model_module": "@jupyter-widgets/controls",
      "model_module_version": "2.0.0",
      "model_name": "HBoxModel",
      "state": {
       "children": [
        "IPY_MODEL_b0bab522538c40ec97b752e164d41778",
        "IPY_MODEL_af19db7fd179426aae24770d8c7dab01",
        "IPY_MODEL_354d98fa84de458f9c0bb721f96e8cc6"
       ],
       "layout": "IPY_MODEL_3c9f21ec70494ce7a80f079361f9c94e"
      }
     },
     "eb905550b2e84536aa6cc6cf6769479f": {
      "model_module": "@jupyter-widgets/controls",
      "model_module_version": "2.0.0",
      "model_name": "HTMLStyleModel",
      "state": {
       "description_width": "",
       "font_size": null,
       "text_color": null
      }
     },
     "ebc30672817345bf8836e5c1f4352ecc": {
      "model_module": "@jupyter-widgets/controls",
      "model_module_version": "2.0.0",
      "model_name": "HTMLStyleModel",
      "state": {
       "description_width": "",
       "font_size": null,
       "text_color": null
      }
     },
     "ebe370ad85814bbf8f806c836d447cc4": {
      "model_module": "@jupyter-widgets/controls",
      "model_module_version": "2.0.0",
      "model_name": "HTMLStyleModel",
      "state": {
       "description_width": "",
       "font_size": null,
       "text_color": null
      }
     },
     "ec4d1cee863d45949fecc319158a3213": {
      "model_module": "@jupyter-widgets/base",
      "model_module_version": "2.0.0",
      "model_name": "LayoutModel",
      "state": {
       "display": "inline-flex",
       "flex_flow": "row wrap",
       "width": "100%"
      }
     },
     "ec5321faeecf49c3b4afd1f166826ebe": {
      "model_module": "@jupyter-widgets/controls",
      "model_module_version": "2.0.0",
      "model_name": "HBoxModel",
      "state": {
       "children": [
        "IPY_MODEL_af3dd2549a73408fb2889f3107dadcfa",
        "IPY_MODEL_c9c742f17dc2455290383770335a7668",
        "IPY_MODEL_1437d3bf5b4d43d2910200a0283d7c67"
       ],
       "layout": "IPY_MODEL_d59c408abc484a69a4cd842bcd339af4"
      }
     },
     "ec789d2acaa544bb9787e0a34c4dab7a": {
      "model_module": "@jupyter-widgets/controls",
      "model_module_version": "2.0.0",
      "model_name": "HTMLStyleModel",
      "state": {
       "description_width": "",
       "font_size": null,
       "text_color": null
      }
     },
     "ec7be40b32d84a55a60b443d17e4cb47": {
      "model_module": "@jupyter-widgets/base",
      "model_module_version": "2.0.0",
      "model_name": "LayoutModel",
      "state": {
       "flex": "2"
      }
     },
     "ecb62b67220243039c880cc6823cbdc8": {
      "model_module": "@jupyter-widgets/controls",
      "model_module_version": "2.0.0",
      "model_name": "HTMLStyleModel",
      "state": {
       "description_width": "",
       "font_size": null,
       "text_color": null
      }
     },
     "ed044f21202945869e92618e643360e2": {
      "model_module": "@jupyter-widgets/controls",
      "model_module_version": "2.0.0",
      "model_name": "FloatProgressModel",
      "state": {
       "bar_style": "success",
       "layout": "IPY_MODEL_353b67d9e9ae4111a8631f3badfc223e",
       "max": 40,
       "style": "IPY_MODEL_0e6628778c814810ab59a44df652867b",
       "value": 40
      }
     },
     "ed9ef0d813854ec3927658ab3a17eb3c": {
      "model_module": "@jupyter-widgets/controls",
      "model_module_version": "2.0.0",
      "model_name": "HTMLModel",
      "state": {
       "layout": "IPY_MODEL_27549caeed4b4314948e2aa7608f1eb0",
       "style": "IPY_MODEL_abc987bc3b7f42448602dfc77f7e4181",
       "value": "Validate (3199 Steps) (DiceMetric=0.26445): 100%"
      }
     },
     "edbeea3e23894406a55f6965c68881e3": {
      "model_module": "@jupyter-widgets/base",
      "model_module_version": "2.0.0",
      "model_name": "LayoutModel",
      "state": {}
     },
     "ede2b5cb581142b68f983a44e43bdfec": {
      "model_module": "@jupyter-widgets/controls",
      "model_module_version": "2.0.0",
      "model_name": "HTMLStyleModel",
      "state": {
       "description_width": "",
       "font_size": null,
       "text_color": null
      }
     },
     "ee23155cef8c45bc9eb950f663a3faca": {
      "model_module": "@jupyter-widgets/controls",
      "model_module_version": "2.0.0",
      "model_name": "HTMLStyleModel",
      "state": {
       "description_width": "",
       "font_size": null,
       "text_color": null
      }
     },
     "ee4c7ce7b16449729d016ad10ed9dec2": {
      "model_module": "@jupyter-widgets/controls",
      "model_module_version": "2.0.0",
      "model_name": "HTMLModel",
      "state": {
       "layout": "IPY_MODEL_6ca071595d3f49269a0524fd81a11988",
       "style": "IPY_MODEL_628a24c1c7324892aa82ef4f6fb55703",
       "value": " 40/40 [02:34&lt;00:00,  1.94s/it]"
      }
     },
     "ee4d5b857d7943fdb85b33a33e4ca009": {
      "model_module": "@jupyter-widgets/controls",
      "model_module_version": "2.0.0",
      "model_name": "ProgressStyleModel",
      "state": {
       "description_width": ""
      }
     },
     "ef2e24bf9361476397161e0a3f5c22c6": {
      "model_module": "@jupyter-widgets/controls",
      "model_module_version": "2.0.0",
      "model_name": "HTMLModel",
      "state": {
       "layout": "IPY_MODEL_07893b3b58ea4b32b31bf73bf067c174",
       "style": "IPY_MODEL_61791aebd68d4b4cbb227390c9c2f038",
       "value": " 40/40 [02:34&lt;00:00,  1.91s/it]"
      }
     },
     "ef2e5adbf3a5475e9a1eda8bd7d9770b": {
      "model_module": "@jupyter-widgets/controls",
      "model_module_version": "2.0.0",
      "model_name": "HTMLStyleModel",
      "state": {
       "description_width": "",
       "font_size": null,
       "text_color": null
      }
     },
     "ef2ffe6ac41f4c399d40497139e10682": {
      "model_module": "@jupyter-widgets/base",
      "model_module_version": "2.0.0",
      "model_name": "LayoutModel",
      "state": {
       "flex": "2"
      }
     },
     "ef30ddbdcf844a3fb35953d68b1723cf": {
      "model_module": "@jupyter-widgets/controls",
      "model_module_version": "2.0.0",
      "model_name": "FloatProgressModel",
      "state": {
       "bar_style": "success",
       "layout": "IPY_MODEL_247afb2b4e494e3b978bc6d5948f496b",
       "max": 40,
       "style": "IPY_MODEL_c259a7cab32f47bbb38056362867f9ed",
       "value": 40
      }
     },
     "ef401b39c3804126a3868e5ced0e681b": {
      "model_module": "@jupyter-widgets/controls",
      "model_module_version": "2.0.0",
      "model_name": "HTMLStyleModel",
      "state": {
       "description_width": "",
       "font_size": null,
       "text_color": null
      }
     },
     "ef481a7956a6469f96844ac698aadd3c": {
      "model_module": "@jupyter-widgets/controls",
      "model_module_version": "2.0.0",
      "model_name": "FloatProgressModel",
      "state": {
       "bar_style": "success",
       "layout": "IPY_MODEL_d0a74c4aa8404c48a563c9cb68c92ed2",
       "max": 40,
       "style": "IPY_MODEL_cb87cf873d064cda96e2b546666bb3b1",
       "value": 40
      }
     },
     "ef7a047e113240b2a8aea38cd76bf3fd": {
      "model_module": "@jupyter-widgets/controls",
      "model_module_version": "2.0.0",
      "model_name": "HTMLStyleModel",
      "state": {
       "description_width": "",
       "font_size": null,
       "text_color": null
      }
     },
     "eff96158bbfc4c8cba6f6d363bf2af78": {
      "model_module": "@jupyter-widgets/controls",
      "model_module_version": "2.0.0",
      "model_name": "HTMLStyleModel",
      "state": {
       "description_width": "",
       "font_size": null,
       "text_color": null
      }
     },
     "f0028970cfcd4568930b6d3bbf279e37": {
      "model_module": "@jupyter-widgets/controls",
      "model_module_version": "2.0.0",
      "model_name": "HBoxModel",
      "state": {
       "children": [
        "IPY_MODEL_b240a463ea0e4033ad0241117309723a",
        "IPY_MODEL_26a55586b0cd4415bc33c75b856f1d3d",
        "IPY_MODEL_fe5290394502417dbcabe9cd20630f13"
       ],
       "layout": "IPY_MODEL_fc3f6bcd7f3c4ac784dca125ac806364"
      }
     },
     "f040194c5b3045d0b0255b12b99af88c": {
      "model_module": "@jupyter-widgets/controls",
      "model_module_version": "2.0.0",
      "model_name": "HTMLStyleModel",
      "state": {
       "description_width": "",
       "font_size": null,
       "text_color": null
      }
     },
     "f0a099cdf6934c7d884f9d157d4186ca": {
      "model_module": "@jupyter-widgets/controls",
      "model_module_version": "2.0.0",
      "model_name": "ProgressStyleModel",
      "state": {
       "description_width": ""
      }
     },
     "f0a6ff6dd4234e08929fc4699d650c16": {
      "model_module": "@jupyter-widgets/base",
      "model_module_version": "2.0.0",
      "model_name": "LayoutModel",
      "state": {
       "display": "inline-flex",
       "flex_flow": "row wrap",
       "width": "100%"
      }
     },
     "f0bc8ad5f11f47efad377538315ddf9d": {
      "model_module": "@jupyter-widgets/base",
      "model_module_version": "2.0.0",
      "model_name": "LayoutModel",
      "state": {}
     },
     "f124dc2245fe4fbb841a18a51ad400cb": {
      "model_module": "@jupyter-widgets/controls",
      "model_module_version": "2.0.0",
      "model_name": "ProgressStyleModel",
      "state": {
       "description_width": ""
      }
     },
     "f13ef490ca86478e8e9e5a7b70422aaa": {
      "model_module": "@jupyter-widgets/base",
      "model_module_version": "2.0.0",
      "model_name": "LayoutModel",
      "state": {
       "flex": "2"
      }
     },
     "f14956d4a93242a8aa5b81f3ae065e25": {
      "model_module": "@jupyter-widgets/base",
      "model_module_version": "2.0.0",
      "model_name": "LayoutModel",
      "state": {
       "display": "inline-flex",
       "flex_flow": "row wrap",
       "width": "100%"
      }
     },
     "f17a1b67f31b4faba7337ef0b7feb527": {
      "model_module": "@jupyter-widgets/controls",
      "model_module_version": "2.0.0",
      "model_name": "HTMLStyleModel",
      "state": {
       "description_width": "",
       "font_size": null,
       "text_color": null
      }
     },
     "f1bbcead9d534760aaad98d4e783a6ec": {
      "model_module": "@jupyter-widgets/base",
      "model_module_version": "2.0.0",
      "model_name": "LayoutModel",
      "state": {}
     },
     "f21c2d2d5f764969b07766902bece6b7": {
      "model_module": "@jupyter-widgets/controls",
      "model_module_version": "2.0.0",
      "model_name": "HTMLModel",
      "state": {
       "layout": "IPY_MODEL_d4e51a8597f04ec09197695c21041978",
       "style": "IPY_MODEL_c69a2e9a688c4b4186e8f0d3bfbe6f6e",
       "value": " 40/40 [02:34&lt;00:00,  1.93s/it]"
      }
     },
     "f275636a857f40ba84584cc5ffea3e17": {
      "model_module": "@jupyter-widgets/controls",
      "model_module_version": "2.0.0",
      "model_name": "FloatProgressModel",
      "state": {
       "bar_style": "success",
       "layout": "IPY_MODEL_b209a2ce445d46dcb337125062973c89",
       "max": 40,
       "style": "IPY_MODEL_adaded992ccb42e69895bb0b33328b7f",
       "value": 40
      }
     },
     "f2a755a91d9249049fdadc6dc32cec3d": {
      "model_module": "@jupyter-widgets/base",
      "model_module_version": "2.0.0",
      "model_name": "LayoutModel",
      "state": {}
     },
     "f2da4679eac74e4a852a90ddf6d97078": {
      "model_module": "@jupyter-widgets/base",
      "model_module_version": "2.0.0",
      "model_name": "LayoutModel",
      "state": {
       "display": "inline-flex",
       "flex_flow": "row wrap",
       "width": "100%"
      }
     },
     "f3002cb30c7d41128032cb0394f54972": {
      "model_module": "@jupyter-widgets/controls",
      "model_module_version": "2.0.0",
      "model_name": "HTMLModel",
      "state": {
       "layout": "IPY_MODEL_78973a7ae7a641e3afac3aa773a968e1",
       "style": "IPY_MODEL_8b35b58d69594c928062a7cd10dc8ae8",
       "value": "Validate (5599 Steps) (DiceMetric=0.27398): 100%"
      }
     },
     "f355ff9a03ee49bea18593abd73e812d": {
      "model_module": "@jupyter-widgets/controls",
      "model_module_version": "2.0.0",
      "model_name": "HTMLModel",
      "state": {
       "layout": "IPY_MODEL_79fabae279e34d969bc727d1568e3d0b",
       "style": "IPY_MODEL_272bc979107f4bddb187e6c3fb14978e",
       "value": "Validate (1699 Steps) (DiceMetric=0.26309): 100%"
      }
     },
     "f4081461131a4d5281f940ae169a5ba8": {
      "model_module": "@jupyter-widgets/controls",
      "model_module_version": "2.0.0",
      "model_name": "HTMLModel",
      "state": {
       "layout": "IPY_MODEL_10c91af57e704a79a79a09f8f7241a84",
       "style": "IPY_MODEL_150ad850cc744c7594f4a4f1ec05740d",
       "value": "Validate (199 Steps) (DiceMetric=0.05171): 100%"
      }
     },
     "f4c8e2285ddb485c95af5a6b88405e2e": {
      "model_module": "@jupyter-widgets/base",
      "model_module_version": "2.0.0",
      "model_name": "LayoutModel",
      "state": {
       "display": "inline-flex",
       "flex_flow": "row wrap",
       "width": "100%"
      }
     },
     "f55ecddedc43499096d833e049c2e5ab": {
      "model_module": "@jupyter-widgets/controls",
      "model_module_version": "2.0.0",
      "model_name": "HTMLStyleModel",
      "state": {
       "description_width": "",
       "font_size": null,
       "text_color": null
      }
     },
     "f56a8fc4f999462e96535b94da8d701d": {
      "model_module": "@jupyter-widgets/base",
      "model_module_version": "2.0.0",
      "model_name": "LayoutModel",
      "state": {
       "flex": "2"
      }
     },
     "f62c4f8f3cd848d0bceb339aa56fcc01": {
      "model_module": "@jupyter-widgets/controls",
      "model_module_version": "2.0.0",
      "model_name": "HBoxModel",
      "state": {
       "children": [
        "IPY_MODEL_bb75ae2e7f284460b11c0604b8d0c9ac",
        "IPY_MODEL_53bb8f4ad6fb45e8ae80159843fbd56e",
        "IPY_MODEL_8c0433afaa1c4ff688c711dac97b3953"
       ],
       "layout": "IPY_MODEL_0fdb53e1525247f094f5fc9c9c5b1417"
      }
     },
     "f645ad204c1448b9940b7b517740806f": {
      "model_module": "@jupyter-widgets/base",
      "model_module_version": "2.0.0",
      "model_name": "LayoutModel",
      "state": {}
     },
     "f67fe80b6f9d42718b183c4bf5d7dbbe": {
      "model_module": "@jupyter-widgets/controls",
      "model_module_version": "2.0.0",
      "model_name": "HTMLModel",
      "state": {
       "layout": "IPY_MODEL_97a66d6889cd419cb6b4d13c493c703a",
       "style": "IPY_MODEL_71c65fb9ac1a4c1c9507e8425efec0fa",
       "value": " 40/40 [02:37&lt;00:00,  1.94s/it]"
      }
     },
     "f689094c0e06418fa9a0b4b89ef44b55": {
      "model_module": "@jupyter-widgets/controls",
      "model_module_version": "2.0.0",
      "model_name": "HTMLStyleModel",
      "state": {
       "description_width": "",
       "font_size": null,
       "text_color": null
      }
     },
     "f730d982d37946b790e8a34a4a041d1c": {
      "model_module": "@jupyter-widgets/controls",
      "model_module_version": "2.0.0",
      "model_name": "HTMLModel",
      "state": {
       "layout": "IPY_MODEL_4fa88c1351b2495bb13bac183b84e185",
       "style": "IPY_MODEL_68f66369e419427e87d8cb3739929b51",
       "value": "Validate (9299 Steps) (DiceMetric=0.28403): 100%"
      }
     },
     "f73413f4427147af9f48d22812fd59ac": {
      "model_module": "@jupyter-widgets/base",
      "model_module_version": "2.0.0",
      "model_name": "LayoutModel",
      "state": {
       "display": "inline-flex",
       "flex_flow": "row wrap",
       "width": "100%"
      }
     },
     "f7714930fc554c0ba1b0f9b8f2e0b8a4": {
      "model_module": "@jupyter-widgets/controls",
      "model_module_version": "2.0.0",
      "model_name": "HTMLModel",
      "state": {
       "layout": "IPY_MODEL_97751ca798d34b2099017067642c3ab2",
       "style": "IPY_MODEL_a9da5d6f7b524acfa0057297476a1e9a",
       "value": "Validate (3399 Steps) (DiceMetric=0.26672): 100%"
      }
     },
     "f7c397083e8242a88bd7ff06d03c5458": {
      "model_module": "@jupyter-widgets/controls",
      "model_module_version": "2.0.0",
      "model_name": "HTMLStyleModel",
      "state": {
       "description_width": "",
       "font_size": null,
       "text_color": null
      }
     },
     "f7d8dda5edf34cc3bca3a104b4c7f475": {
      "model_module": "@jupyter-widgets/base",
      "model_module_version": "2.0.0",
      "model_name": "LayoutModel",
      "state": {
       "display": "inline-flex",
       "flex_flow": "row wrap",
       "width": "100%"
      }
     },
     "f825aeae743947b1b3e2c3be34c0de3d": {
      "model_module": "@jupyter-widgets/base",
      "model_module_version": "2.0.0",
      "model_name": "LayoutModel",
      "state": {}
     },
     "f842b645412d4842a63b5601342c8c74": {
      "model_module": "@jupyter-widgets/base",
      "model_module_version": "2.0.0",
      "model_name": "LayoutModel",
      "state": {}
     },
     "f8585bc5b37543e59fcd2e9e9701a776": {
      "model_module": "@jupyter-widgets/controls",
      "model_module_version": "2.0.0",
      "model_name": "HBoxModel",
      "state": {
       "children": [
        "IPY_MODEL_a70ccea3244e41aeb7b92210f5d59cd6",
        "IPY_MODEL_84fe316d1b994b79a42da54507702521",
        "IPY_MODEL_4decaa1e9ccb4c0aac745f678052a80c"
       ],
       "layout": "IPY_MODEL_1a6c85312fcf421c9a1efc84e0e9ee14"
      }
     },
     "f895de18fb4b4ed7bf5e9ae8399733cb": {
      "model_module": "@jupyter-widgets/base",
      "model_module_version": "2.0.0",
      "model_name": "LayoutModel",
      "state": {
       "display": "inline-flex",
       "flex_flow": "row wrap",
       "width": "100%"
      }
     },
     "fa574500cbd147bead514ba9b7277fc2": {
      "model_module": "@jupyter-widgets/controls",
      "model_module_version": "2.0.0",
      "model_name": "HBoxModel",
      "state": {
       "children": [
        "IPY_MODEL_96d65fafc8114b1a8a929a7f0eda14d6",
        "IPY_MODEL_c562f6f611ea49ffb2a77009bd313da5",
        "IPY_MODEL_b575ccd1302140938bd335ea59fba2a1"
       ],
       "layout": "IPY_MODEL_c35c16f105d34d35b411b695c7fedc76"
      }
     },
     "fa767137f53b40f5bc7dbc6a26929c15": {
      "model_module": "@jupyter-widgets/base",
      "model_module_version": "2.0.0",
      "model_name": "LayoutModel",
      "state": {
       "flex": "2"
      }
     },
     "faaa558e660f474eab614e80d1c61f01": {
      "model_module": "@jupyter-widgets/base",
      "model_module_version": "2.0.0",
      "model_name": "LayoutModel",
      "state": {
       "display": "inline-flex",
       "flex_flow": "row wrap",
       "width": "100%"
      }
     },
     "fb438e608ed6467bb3463de4c8745ea5": {
      "model_module": "@jupyter-widgets/controls",
      "model_module_version": "2.0.0",
      "model_name": "HTMLStyleModel",
      "state": {
       "description_width": "",
       "font_size": null,
       "text_color": null
      }
     },
     "fc1062f167404a8697aedd447f8b35ed": {
      "model_module": "@jupyter-widgets/controls",
      "model_module_version": "2.0.0",
      "model_name": "HTMLModel",
      "state": {
       "layout": "IPY_MODEL_d86fdc0743e64238b762bbf32625e465",
       "style": "IPY_MODEL_7c6e2147b69c4a03b289ed425d4d4004",
       "value": " 40/40 [02:34&lt;00:00,  1.93s/it]"
      }
     },
     "fc3f6bcd7f3c4ac784dca125ac806364": {
      "model_module": "@jupyter-widgets/base",
      "model_module_version": "2.0.0",
      "model_name": "LayoutModel",
      "state": {
       "display": "inline-flex",
       "flex_flow": "row wrap",
       "width": "100%"
      }
     },
     "fc582809ad8f453495f2b411dc6080ea": {
      "model_module": "@jupyter-widgets/controls",
      "model_module_version": "2.0.0",
      "model_name": "HTMLModel",
      "state": {
       "layout": "IPY_MODEL_d5f74e407ebc463d9bd0ad892d93014d",
       "style": "IPY_MODEL_542505cc6c2944c09b2d98e2a7c242ac",
       "value": "Validate (4299 Steps) (DiceMetric=0.26817): 100%"
      }
     },
     "fc58df83595f4e48b6e3ec61edd28a2d": {
      "model_module": "@jupyter-widgets/controls",
      "model_module_version": "2.0.0",
      "model_name": "HTMLModel",
      "state": {
       "layout": "IPY_MODEL_f645ad204c1448b9940b7b517740806f",
       "style": "IPY_MODEL_1008422a62db4db68680f510b4bccfba",
       "value": " 40/40 [02:34&lt;00:00,  1.91s/it]"
      }
     },
     "fc91217145b94a0584c399924b182444": {
      "model_module": "@jupyter-widgets/controls",
      "model_module_version": "2.0.0",
      "model_name": "HTMLModel",
      "state": {
       "layout": "IPY_MODEL_b0268f79902e4ce18ef8947968fe2e14",
       "style": "IPY_MODEL_d8664416e7f1429bb96edad2272c8ba8",
       "value": " 40/40 [02:34&lt;00:00,  1.93s/it]"
      }
     },
     "fcc252f8b64644c0b4429641a21ece4e": {
      "model_module": "@jupyter-widgets/controls",
      "model_module_version": "2.0.0",
      "model_name": "HTMLStyleModel",
      "state": {
       "description_width": "",
       "font_size": null,
       "text_color": null
      }
     },
     "fce35a897c194bbc8379ba6f71f63dc4": {
      "model_module": "@jupyter-widgets/base",
      "model_module_version": "2.0.0",
      "model_name": "LayoutModel",
      "state": {
       "flex": "2"
      }
     },
     "fd0878694f9e4be8ad4fac4f59c5accf": {
      "model_module": "@jupyter-widgets/base",
      "model_module_version": "2.0.0",
      "model_name": "LayoutModel",
      "state": {}
     },
     "fd1bcea4ff994a9598cbdb9a3bec8aa9": {
      "model_module": "@jupyter-widgets/controls",
      "model_module_version": "2.0.0",
      "model_name": "HTMLStyleModel",
      "state": {
       "description_width": "",
       "font_size": null,
       "text_color": null
      }
     },
     "fd4b0e1ab8264d0dbbb3dc5cec94acb1": {
      "model_module": "@jupyter-widgets/base",
      "model_module_version": "2.0.0",
      "model_name": "LayoutModel",
      "state": {}
     },
     "fdb10fb76c55431caf13a6b315e506af": {
      "model_module": "@jupyter-widgets/controls",
      "model_module_version": "2.0.0",
      "model_name": "HTMLStyleModel",
      "state": {
       "description_width": "",
       "font_size": null,
       "text_color": null
      }
     },
     "fdb7e131315743169d676125d4cf2a27": {
      "model_module": "@jupyter-widgets/base",
      "model_module_version": "2.0.0",
      "model_name": "LayoutModel",
      "state": {
       "display": "inline-flex",
       "flex_flow": "row wrap",
       "width": "100%"
      }
     },
     "fdefd74c44eb4413979527e1bf9a37fd": {
      "model_module": "@jupyter-widgets/base",
      "model_module_version": "2.0.0",
      "model_name": "LayoutModel",
      "state": {}
     },
     "fdf3d4e3c212427ca74b1df7b305d1be": {
      "model_module": "@jupyter-widgets/controls",
      "model_module_version": "2.0.0",
      "model_name": "HBoxModel",
      "state": {
       "children": [
        "IPY_MODEL_e947691c69704d2dbdb0890d10b278f0",
        "IPY_MODEL_f275636a857f40ba84584cc5ffea3e17",
        "IPY_MODEL_d7c2f06cf58e4880ba7d72dee45b8f49"
       ],
       "layout": "IPY_MODEL_270d3ca715854889916c47c31dbe668a"
      }
     },
     "fdf69fcfb4034d2db67c83a88aa0ca81": {
      "model_module": "@jupyter-widgets/controls",
      "model_module_version": "2.0.0",
      "model_name": "HTMLStyleModel",
      "state": {
       "description_width": "",
       "font_size": null,
       "text_color": null
      }
     },
     "fe050bac2f7d45659727ea781b18e7f4": {
      "model_module": "@jupyter-widgets/base",
      "model_module_version": "2.0.0",
      "model_name": "LayoutModel",
      "state": {}
     },
     "fe12d8a7d72e4858a8504e7cc35c6682": {
      "model_module": "@jupyter-widgets/controls",
      "model_module_version": "2.0.0",
      "model_name": "HTMLStyleModel",
      "state": {
       "description_width": "",
       "font_size": null,
       "text_color": null
      }
     },
     "fe34968127054cf29b848d3d7c93258f": {
      "model_module": "@jupyter-widgets/controls",
      "model_module_version": "2.0.0",
      "model_name": "HBoxModel",
      "state": {
       "children": [
        "IPY_MODEL_7e3f1f1d89d8493ba3ffacc2c7a61856",
        "IPY_MODEL_5eedad1bd9c34f4887a208e020198f23",
        "IPY_MODEL_7c878f745c54441dafa1c4c543c61138"
       ],
       "layout": "IPY_MODEL_aabc16c61b584fb3856c6eefc6b0e609"
      }
     },
     "fe39fe8add90435d9fa8d3f6b66a7b3c": {
      "model_module": "@jupyter-widgets/controls",
      "model_module_version": "2.0.0",
      "model_name": "HTMLStyleModel",
      "state": {
       "description_width": "",
       "font_size": null,
       "text_color": null
      }
     },
     "fe5290394502417dbcabe9cd20630f13": {
      "model_module": "@jupyter-widgets/controls",
      "model_module_version": "2.0.0",
      "model_name": "HTMLModel",
      "state": {
       "layout": "IPY_MODEL_e15483c0d47f44c3b1c79861367ec277",
       "style": "IPY_MODEL_198ce19f916e40209a4c1da8cbd5ab58",
       "value": " 40/40 [02:39&lt;00:00,  2.04s/it]"
      }
     },
     "fe79eeed95ae4af2a97ea52739db5b7c": {
      "model_module": "@jupyter-widgets/controls",
      "model_module_version": "2.0.0",
      "model_name": "ProgressStyleModel",
      "state": {
       "description_width": ""
      }
     },
     "fe88ddda3e734ec2ac885ba194bc957c": {
      "model_module": "@jupyter-widgets/controls",
      "model_module_version": "2.0.0",
      "model_name": "HBoxModel",
      "state": {
       "children": [
        "IPY_MODEL_8203e01cf3c7495183bf9f3442eb7c11",
        "IPY_MODEL_52eac6051af7408faa9defb15ecb2210",
        "IPY_MODEL_1e487c67e0b14066aeb37bb88a3313e7"
       ],
       "layout": "IPY_MODEL_6057c58e3c974ef2816ae4dc014ec534"
      }
     },
     "fec95f1f0f4a4bc4bc97b21055f6c368": {
      "model_module": "@jupyter-widgets/base",
      "model_module_version": "2.0.0",
      "model_name": "LayoutModel",
      "state": {}
     },
     "ff050f2a58534f01884d817190b71e53": {
      "model_module": "@jupyter-widgets/controls",
      "model_module_version": "2.0.0",
      "model_name": "HTMLStyleModel",
      "state": {
       "description_width": "",
       "font_size": null,
       "text_color": null
      }
     },
     "ff46434340e6412f89466942749655c5": {
      "model_module": "@jupyter-widgets/controls",
      "model_module_version": "2.0.0",
      "model_name": "HTMLStyleModel",
      "state": {
       "description_width": "",
       "font_size": null,
       "text_color": null
      }
     },
     "ff5b9fc8d19a470cb4296bf5dc475088": {
      "model_module": "@jupyter-widgets/controls",
      "model_module_version": "2.0.0",
      "model_name": "HBoxModel",
      "state": {
       "children": [
        "IPY_MODEL_51ed4173488d482887659d291dfb48c4",
        "IPY_MODEL_739d886f7bd241a79a33cb5ff69b7e63",
        "IPY_MODEL_3470ecc6e9d94c1baa523e0cb160137d"
       ],
       "layout": "IPY_MODEL_ae728d2d25814724ba0950e710789844"
      }
     },
     "ff63f7136be447cba2b428cc8a9fa92d": {
      "model_module": "@jupyter-widgets/controls",
      "model_module_version": "2.0.0",
      "model_name": "ProgressStyleModel",
      "state": {
       "description_width": ""
      }
     },
     "ff826c4725954ac78be74d015273d601": {
      "model_module": "@jupyter-widgets/base",
      "model_module_version": "2.0.0",
      "model_name": "LayoutModel",
      "state": {}
     },
     "ffacb981cecd41649c0e25daa63923b1": {
      "model_module": "@jupyter-widgets/controls",
      "model_module_version": "2.0.0",
      "model_name": "HTMLStyleModel",
      "state": {
       "description_width": "",
       "font_size": null,
       "text_color": null
      }
     },
     "ffbddd9b44f84d4187a12b00fdb53963": {
      "model_module": "@jupyter-widgets/base",
      "model_module_version": "2.0.0",
      "model_name": "LayoutModel",
      "state": {
       "flex": "2"
      }
     },
     "ffe08d1196f24beb801244a14f863b56": {
      "model_module": "@jupyter-widgets/base",
      "model_module_version": "2.0.0",
      "model_name": "LayoutModel",
      "state": {}
     }
    },
    "version_major": 2,
    "version_minor": 0
   }
  }
 },
 "nbformat": 4,
 "nbformat_minor": 5
}
