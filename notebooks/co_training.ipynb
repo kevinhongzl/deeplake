{
 "cells": [
  {
   "cell_type": "code",
   "execution_count": 1,
   "id": "e1b05740-4b76-43fc-ba9b-5cb4f3e3545e",
   "metadata": {},
   "outputs": [
    {
     "name": "stdout",
     "output_type": "stream",
     "text": [
      "C:\\Users\\User\\Desktop\\Kevin\\Partial-DANN\n"
     ]
    }
   ],
   "source": [
    "# cwd = Partial-DANN/\n",
    "import os\n",
    "os.chdir(\"..\")\n",
    "print(os.getcwd())\n",
    "from main import *"
   ]
  },
  {
   "cell_type": "code",
   "execution_count": 2,
   "id": "40c00363-ee1a-41db-959c-9955ad47c163",
   "metadata": {},
   "outputs": [],
   "source": [
    "config = configparser.ConfigParser()\n",
    "config.read(\"./config.ini\")\n",
    "\n",
    "# Data\n",
    "root = config[\"path\"][\"root\"]\n",
    "output = config[\"path\"][\"output\"]\n",
    "debug = config[\"path\"][\"debug\"]\n",
    "dataset = datasets[\"simple_amos\"]\n",
    "modality = \"ct+mr:balance\"\n",
    "masked = True\n",
    "train_data = \"split\"\n",
    "mode = \"train\"\n",
    "\n",
    "# Module\n",
    "module_name = \"co_training\"\n",
    "pretrained = None\n",
    "batch_size = 1\n",
    "loss = \"dice2\"\n",
    "lr = 0.001\n",
    "optim = \"Adam\"\n",
    "max_iter = 10000\n",
    "eval_step = 100\n",
    "\n",
    "# Efficiency\n",
    "deterministic = False\n",
    "dev = False\n",
    "cache_rate = 0.1\n",
    "num_workers = 2"
   ]
  },
  {
   "cell_type": "code",
   "execution_count": 3,
   "id": "6523be00-49d3-4830-90a2-2a9cb1de7cfb",
   "metadata": {},
   "outputs": [
    {
     "name": "stdout",
     "output_type": "stream",
     "text": [
      "root dir: C:/Users/User/Desktop/TSM_Project/data/amos22\n",
      "checkpoint dir: ./checkpoints\n",
      "\n",
      "dataset info:\n"
     ]
    },
    {
     "data": {
      "text/plain": [
       "{'name': 'SIMPLE_AMOS',\n",
       " 'class': medaset.amos.SimpleAMOSDataset,\n",
       " 'train_transforms': <monai.transforms.compose.Compose at 0x28b2b56be80>,\n",
       " 'val_transforms': <monai.transforms.compose.Compose at 0x28b2b5c1910>,\n",
       " 'num_classes': 9,\n",
       " 'fg': {'ct': [1, 3, 5, 7], 'mr': [2, 4, 6, 8]},\n",
       " 'bg': {'ct': {2: 0, 4: 0, 6: 0, 8: 0}, 'mr': {1: 0, 3: 0, 5: 0, 7: 0}}}"
      ]
     },
     "metadata": {},
     "output_type": "display_data"
    }
   ],
   "source": [
    "print(\"root dir:\", root)\n",
    "print(\"checkpoint dir:\", output)\n",
    "print(\"\\ndataset info:\")\n",
    "display(dataset)"
   ]
  },
  {
   "cell_type": "code",
   "execution_count": null,
   "id": "62576e45-e805-4eb2-ba68-2c2b27c4466d",
   "metadata": {},
   "outputs": [
    {
     "name": "stdout",
     "output_type": "stream",
     "text": [
      "** Dataset = SIMPLE_AMOS\n",
      "** Modality = ct+mr:balance\n",
      "** Training set = split\n",
      "** Annotation masked = True\n",
      "** Foreground =\n",
      "  - ct: [1, 3, 5, 7] \n",
      "  - mr: [2, 4, 6, 8]\n"
     ]
    },
    {
     "name": "stderr",
     "output_type": "stream",
     "text": [
      "Loading dataset: 100%|█████████████████████████████████████████████████████████████████████████| 20/20 [00:00<?, ?it/s]\n",
      "Loading dataset: 100%|█████████████████████████████████████████████████████████████████████████| 20/20 [00:00<?, ?it/s]\n",
      "Loading dataset: 100%|█████████████████████████████████████████████████████████████████████████| 10/10 [00:00<?, ?it/s]\n",
      "Loading dataset: 100%|███████████████████████████████████████████████████████████████████████████| 4/4 [00:00<?, ?it/s]\n",
      "Loading dataset: 100%|███████████████████████████████████████████████████████████████████████████| 4/4 [00:00<?, ?it/s]\n",
      "Loading dataset: 100%|███████████████████████████████████████████████████████████████████████████| 2/2 [00:00<?, ?it/s]"
     ]
    },
    {
     "name": "stdout",
     "output_type": "stream",
     "text": [
      "BasicUNet features: (32, 32, 64, 128, 256, 32).\n",
      "BasicUNet features: (32, 32, 64, 128, 256, 32).\n"
     ]
    },
    {
     "name": "stderr",
     "output_type": "stream",
     "text": [
      "\n"
     ]
    },
    {
     "name": "stdout",
     "output_type": "stream",
     "text": [
      "BasicUNet features: (32, 32, 64, 128, 256, 32).\n",
      "BasicUNet features: (32, 32, 64, 128, 256, 32).\n",
      "** Mode = train\n"
     ]
    },
    {
     "data": {
      "application/vnd.jupyter.widget-view+json": {
       "model_id": "1cf9b511e8004e7da1fe99ef4c051eff",
       "version_major": 2,
       "version_minor": 0
      },
      "text/plain": [
       "  0%|          | 0/240 [00:00<?, ?it/s]"
      ]
     },
     "metadata": {},
     "output_type": "display_data"
    },
    {
     "name": "stdout",
     "output_type": "stream",
     "text": [
      "--------\n",
      "Device: cuda\n",
      "# of Training Samples: 180\n",
      "# of Validation Samples: 20\n",
      "Max iteration: 10000 steps (validates per 100 steps)\n",
      "Checkpoint directory: checkpoints\\20231025-165018\\pretrained_0\n",
      "Evaluation metric: DiceMetric\n",
      "Module: BasicUNet\n",
      "Optimizer: Adam (lr = 0.001)\n",
      "Loss function: DiceCELoss(\n",
      "  (dice): DiceLoss()\n",
      "  (cross_entropy): CrossEntropyLoss()\n",
      ")\n",
      "--------\n"
     ]
    },
    {
     "data": {
      "application/vnd.jupyter.widget-view+json": {
       "model_id": "7cfbfa93c0d240b0b9f502909d979724",
       "version_major": 2,
       "version_minor": 0
      },
      "text/plain": [
       "  0%|                                                                                        | 0/10000 [00:00<…"
      ]
     },
     "metadata": {},
     "output_type": "display_data"
    },
    {
     "data": {
      "application/vnd.jupyter.widget-view+json": {
       "model_id": "37831c69f8ef42d2b4f92df98d15b755",
       "version_major": 2,
       "version_minor": 0
      },
      "text/plain": [
       "  0%|                                                                                           | 0/20 [00:00<…"
      ]
     },
     "metadata": {},
     "output_type": "display_data"
    },
    {
     "name": "stdout",
     "output_type": "stream",
     "text": [
      "Model saved! Validation: (New) 0.1988377 > (Old) 0.0000000\n"
     ]
    },
    {
     "data": {
      "application/vnd.jupyter.widget-view+json": {
       "model_id": "41d1603e1be640f9b9c9e0673cd8de71",
       "version_major": 2,
       "version_minor": 0
      },
      "text/plain": [
       "  0%|                                                                                           | 0/20 [00:00<…"
      ]
     },
     "metadata": {},
     "output_type": "display_data"
    },
    {
     "name": "stdout",
     "output_type": "stream",
     "text": [
      "Model saved! Validation: (New) 0.1988380 > (Old) 0.1988377\n"
     ]
    },
    {
     "data": {
      "application/vnd.jupyter.widget-view+json": {
       "model_id": "9f0faa670c3741fb8f4e410c16ecc97f",
       "version_major": 2,
       "version_minor": 0
      },
      "text/plain": [
       "  0%|                                                                                           | 0/20 [00:00<…"
      ]
     },
     "metadata": {},
     "output_type": "display_data"
    },
    {
     "name": "stdout",
     "output_type": "stream",
     "text": [
      "No improvement. Validation: (New) 0.1988380 <= (Old) 0.1988380\n"
     ]
    }
   ],
   "source": [
    "## Whether train without randomness\n",
    "if deterministic:\n",
    "    set_determinism(seed=0)\n",
    "    print(\"** Deterministic = True\")\n",
    "\n",
    "## Dataloaders\n",
    "train_dataset, val_dataset, test_dataset = get_datasets(\n",
    "    dataset=dataset,\n",
    "    modality=modality,\n",
    "    train_data=train_data,\n",
    "    masked=masked,\n",
    "    return_modality_dataset=modules[module_name][\"return_modality_dataset\"],\n",
    "    root_dir=root,\n",
    "    cache_rate=cache_rate,\n",
    "    num_workers=num_workers,\n",
    "    dev=dev,\n",
    ")\n",
    "train_dataloader, val_dataloader, test_dataloader = modules[module_name][\"initializer\"].init_dataloaders(\n",
    "    train_dataset, val_dataset, test_dataset, batch_size, dev\n",
    ")\n",
    "\n",
    "## Initialize module\n",
    "module = modules[module_name][\"initializer\"].init_module(\n",
    "    loss, optim, lr, dataset, modality, masked, device,\n",
    ")\n",
    "if pretrained:\n",
    "    print(\"** Pretrained checkpoint =\", pretrained)\n",
    "    module.load(pretrained)\n",
    "module.to(device)\n",
    "\n",
    "## Train or test\n",
    "# ** note: temp checkpoints are saved in the \"debug\" directory\n",
    "#          to separate the result of experiments and temporary\n",
    "#          checkpoints generated in developer mode.\n",
    "checkpoint_dir = output if not dev else debug\n",
    "# create subfolder based on time\n",
    "checkpoint_dir = Path(checkpoint_dir) / datetime.now().strftime(\"%Y%m%d-%H%M%S\")\n",
    "trainer = modules[module_name][\"initializer\"].init_trainer(\n",
    "    num_classes=dataset[\"num_classes\"],\n",
    "    max_iter=max_iter,\n",
    "    eval_step=eval_step,\n",
    "    checkpoint_dir=checkpoint_dir,\n",
    "    device=device,\n",
    ")\n",
    "\n",
    "from torch.profiler import profile, record_function, ProfilerActivity\n",
    "\n",
    "print(\"** Mode =\", mode)\n",
    "if mode == \"train\":        \n",
    "    trainer.train(module, train_dataloader, val_dataloader)\n",
    "    # Save command-line arguments\n",
    "    Path(trainer.checkpoint_dir).mkdir(parents=True, exist_ok=True)\n",
    "\n",
    "    # Comment the code below since there is no args\n",
    "    # with open(Path(trainer.checkpoint_dir) / \"json\", \"w\") as f:\n",
    "    #     json.dump(vars(args), f, indent=4)\n",
    "if mode == \"test\" or test_dataloader:\n",
    "    test_metric = trainer.validation(module, test_dataloader, label=\"all\")\n",
    "    print(\"** Test (Final):\", test_metric)\n",
    "else:\n",
    "    raise ValueError(\"Got an invalid input of option --mode.\")"
   ]
  },
  {
   "cell_type": "code",
   "execution_count": null,
   "id": "fd378589-7e39-4e1a-8bb6-00a15a8c6283",
   "metadata": {},
   "outputs": [],
   "source": []
  }
 ],
 "metadata": {
  "kernelspec": {
   "display_name": "Python 3 (ipykernel)",
   "language": "python",
   "name": "python3"
  },
  "language_info": {
   "codemirror_mode": {
    "name": "ipython",
    "version": 3
   },
   "file_extension": ".py",
   "mimetype": "text/x-python",
   "name": "python",
   "nbconvert_exporter": "python",
   "pygments_lexer": "ipython3",
   "version": "3.8.17"
  },
  "widgets": {
   "application/vnd.jupyter.widget-state+json": {
    "state": {
     "0271aae24805457b8ca2e6226d75f616": {
      "model_module": "@jupyter-widgets/base",
      "model_module_version": "2.0.0",
      "model_name": "LayoutModel",
      "state": {
       "display": "inline-flex",
       "flex_flow": "row wrap",
       "width": "100%"
      }
     },
     "02efb775e5ee435982a9828c5862297b": {
      "model_module": "@jupyter-widgets/base",
      "model_module_version": "2.0.0",
      "model_name": "LayoutModel",
      "state": {
       "display": "inline-flex",
       "flex_flow": "row wrap",
       "width": "100%"
      }
     },
     "0695e5c8bfa2436d839af01afb80a969": {
      "model_module": "@jupyter-widgets/base",
      "model_module_version": "2.0.0",
      "model_name": "LayoutModel",
      "state": {
       "flex": "2"
      }
     },
     "0b361fa5533b466eb2c8aa779e945f9a": {
      "model_module": "@jupyter-widgets/controls",
      "model_module_version": "2.0.0",
      "model_name": "HTMLModel",
      "state": {
       "layout": "IPY_MODEL_ca1918a8487a46d1b2f9904428c1334c",
       "style": "IPY_MODEL_d0e3f56aac0d4243a89ce44be11af890",
       "value": " 20/20 [01:52&lt;00:00,  6.32s/it]"
      }
     },
     "112a143a29404e37a793e5362f67ee06": {
      "model_module": "@jupyter-widgets/controls",
      "model_module_version": "2.0.0",
      "model_name": "ProgressStyleModel",
      "state": {
       "description_width": ""
      }
     },
     "126a1dc8a6e145ae8d255a9f8930133a": {
      "model_module": "@jupyter-widgets/controls",
      "model_module_version": "2.0.0",
      "model_name": "HTMLModel",
      "state": {
       "layout": "IPY_MODEL_c6e684960cbc4c7d94d937211430657a",
       "style": "IPY_MODEL_d5c79213a88d467297891bf2ea331322",
       "value": "Validate (100 Steps) (DiceMetric=0.19912): 100%"
      }
     },
     "160042d4b2e7447eb10dac64142c8464": {
      "model_module": "@jupyter-widgets/base",
      "model_module_version": "2.0.0",
      "model_name": "LayoutModel",
      "state": {}
     },
     "1cf9b511e8004e7da1fe99ef4c051eff": {
      "model_module": "@jupyter-widgets/controls",
      "model_module_version": "2.0.0",
      "model_name": "HBoxModel",
      "state": {
       "children": [
        "IPY_MODEL_7b4f9ce3d4d7457bbee48a267edbff8f",
        "IPY_MODEL_3ce3db21a3d249d8a85bdc5997aa37cc",
        "IPY_MODEL_38b05fce247e4e64a4046747457bcd68"
       ],
       "layout": "IPY_MODEL_ac9c8054e82b4d389219ad5caad463f9"
      }
     },
     "1fa3fd1dcc7f46d0bbf42331ad3f4364": {
      "model_module": "@jupyter-widgets/controls",
      "model_module_version": "2.0.0",
      "model_name": "FloatProgressModel",
      "state": {
       "layout": "IPY_MODEL_2fbbccbb52254319908612d9537d840c",
       "max": 10000,
       "style": "IPY_MODEL_80291d722e71447595b2ec1e399ea1ee",
       "value": 300
      }
     },
     "21d14638c8e04005a3487c2b809c21df": {
      "model_module": "@jupyter-widgets/controls",
      "model_module_version": "2.0.0",
      "model_name": "FloatProgressModel",
      "state": {
       "bar_style": "success",
       "layout": "IPY_MODEL_59f9bae227184b87b13f43337390a088",
       "max": 20,
       "style": "IPY_MODEL_112a143a29404e37a793e5362f67ee06",
       "value": 20
      }
     },
     "27ce7daaa9f64beaa216d74ba1e27977": {
      "model_module": "@jupyter-widgets/controls",
      "model_module_version": "2.0.0",
      "model_name": "HTMLModel",
      "state": {
       "layout": "IPY_MODEL_78630fb723ab475898c6abfe78498ebf",
       "style": "IPY_MODEL_e11630fb3dd947e9bca4f1ac8964935f",
       "value": " 20/20 [01:50&lt;00:00,  6.19s/it]"
      }
     },
     "2bbcaf6deae84a2e98a8c9825e6e4588": {
      "model_module": "@jupyter-widgets/controls",
      "model_module_version": "2.0.0",
      "model_name": "HTMLStyleModel",
      "state": {
       "description_width": "",
       "font_size": null,
       "text_color": null
      }
     },
     "2cf7072a15414f318524f252e7d5dac3": {
      "model_module": "@jupyter-widgets/base",
      "model_module_version": "2.0.0",
      "model_name": "LayoutModel",
      "state": {}
     },
     "2fbbccbb52254319908612d9537d840c": {
      "model_module": "@jupyter-widgets/base",
      "model_module_version": "2.0.0",
      "model_name": "LayoutModel",
      "state": {
       "flex": "2"
      }
     },
     "3025d57a4a8843faac8b4aa887493ebf": {
      "model_module": "@jupyter-widgets/base",
      "model_module_version": "2.0.0",
      "model_name": "LayoutModel",
      "state": {}
     },
     "351b4721ddd1452ead894a43b807e4ed": {
      "model_module": "@jupyter-widgets/controls",
      "model_module_version": "2.0.0",
      "model_name": "ProgressStyleModel",
      "state": {
       "description_width": ""
      }
     },
     "37831c69f8ef42d2b4f92df98d15b755": {
      "model_module": "@jupyter-widgets/controls",
      "model_module_version": "2.0.0",
      "model_name": "HBoxModel",
      "state": {
       "children": [
        "IPY_MODEL_126a1dc8a6e145ae8d255a9f8930133a",
        "IPY_MODEL_51689968f58644bca408525556af289a",
        "IPY_MODEL_27ce7daaa9f64beaa216d74ba1e27977"
       ],
       "layout": "IPY_MODEL_02efb775e5ee435982a9828c5862297b"
      }
     },
     "38b05fce247e4e64a4046747457bcd68": {
      "model_module": "@jupyter-widgets/controls",
      "model_module_version": "2.0.0",
      "model_name": "HTMLModel",
      "state": {
       "layout": "IPY_MODEL_873059b210cc4b00a674f4100fe844d3",
       "style": "IPY_MODEL_f0e17ea6774046c7a27215981850aede",
       "value": " 240/240 [03:49&lt;00:00,  2.86it/s]"
      }
     },
     "3ce3db21a3d249d8a85bdc5997aa37cc": {
      "model_module": "@jupyter-widgets/controls",
      "model_module_version": "2.0.0",
      "model_name": "FloatProgressModel",
      "state": {
       "bar_style": "success",
       "layout": "IPY_MODEL_4bde9d50db8a4eb59749110e3185e562",
       "max": 240,
       "style": "IPY_MODEL_d81f088737724d56b1e3ee94be7b5dad",
       "value": 240
      }
     },
     "41d1603e1be640f9b9c9e0673cd8de71": {
      "model_module": "@jupyter-widgets/controls",
      "model_module_version": "2.0.0",
      "model_name": "HBoxModel",
      "state": {
       "children": [
        "IPY_MODEL_57594a6d7a7e428580558f259ec0be67",
        "IPY_MODEL_d4543885acfa45648637a0ce5d323875",
        "IPY_MODEL_aaf5467abe214d09a5e7ceb8a3dc7af1"
       ],
       "layout": "IPY_MODEL_70b316e7d3ea4aa1a7ccbcbb293cf437"
      }
     },
     "438e547dbfc24defa0eceea6c564a2d1": {
      "model_module": "@jupyter-widgets/controls",
      "model_module_version": "2.0.0",
      "model_name": "HTMLStyleModel",
      "state": {
       "description_width": "",
       "font_size": null,
       "text_color": null
      }
     },
     "4bde9d50db8a4eb59749110e3185e562": {
      "model_module": "@jupyter-widgets/base",
      "model_module_version": "2.0.0",
      "model_name": "LayoutModel",
      "state": {}
     },
     "4dfa9821333a4e79b4f5768559601991": {
      "model_module": "@jupyter-widgets/base",
      "model_module_version": "2.0.0",
      "model_name": "LayoutModel",
      "state": {}
     },
     "51689968f58644bca408525556af289a": {
      "model_module": "@jupyter-widgets/controls",
      "model_module_version": "2.0.0",
      "model_name": "FloatProgressModel",
      "state": {
       "bar_style": "success",
       "layout": "IPY_MODEL_0695e5c8bfa2436d839af01afb80a969",
       "max": 20,
       "style": "IPY_MODEL_351b4721ddd1452ead894a43b807e4ed",
       "value": 20
      }
     },
     "57594a6d7a7e428580558f259ec0be67": {
      "model_module": "@jupyter-widgets/controls",
      "model_module_version": "2.0.0",
      "model_name": "HTMLModel",
      "state": {
       "layout": "IPY_MODEL_ca1a2469ef01461aa038b1d402826c54",
       "style": "IPY_MODEL_8402b58d650b4f8ba73b5ae3bb24b516",
       "value": "Validate (200 Steps) (DiceMetric=0.19912): 100%"
      }
     },
     "59f9bae227184b87b13f43337390a088": {
      "model_module": "@jupyter-widgets/base",
      "model_module_version": "2.0.0",
      "model_name": "LayoutModel",
      "state": {
       "flex": "2"
      }
     },
     "5fd8681db74b420da71249491f47f7d7": {
      "model_module": "@jupyter-widgets/controls",
      "model_module_version": "2.0.0",
      "model_name": "HTMLModel",
      "state": {
       "layout": "IPY_MODEL_4dfa9821333a4e79b4f5768559601991",
       "style": "IPY_MODEL_438e547dbfc24defa0eceea6c564a2d1",
       "value": " 300/10000 [27:33&lt;102:32:09, 38.05s/it]"
      }
     },
     "6c96e69f053d45489b5fc748d2181cfb": {
      "model_module": "@jupyter-widgets/base",
      "model_module_version": "2.0.0",
      "model_name": "LayoutModel",
      "state": {
       "display": "inline-flex",
       "flex_flow": "row wrap",
       "width": "100%"
      }
     },
     "70b316e7d3ea4aa1a7ccbcbb293cf437": {
      "model_module": "@jupyter-widgets/base",
      "model_module_version": "2.0.0",
      "model_name": "LayoutModel",
      "state": {
       "display": "inline-flex",
       "flex_flow": "row wrap",
       "width": "100%"
      }
     },
     "78630fb723ab475898c6abfe78498ebf": {
      "model_module": "@jupyter-widgets/base",
      "model_module_version": "2.0.0",
      "model_name": "LayoutModel",
      "state": {}
     },
     "7b4f9ce3d4d7457bbee48a267edbff8f": {
      "model_module": "@jupyter-widgets/controls",
      "model_module_version": "2.0.0",
      "model_name": "HTMLModel",
      "state": {
       "layout": "IPY_MODEL_8cfd34c136ae4b6e9961143d11cfffc0",
       "style": "IPY_MODEL_7d802471eb96472c9e3dddd991896495",
       "value": "100%"
      }
     },
     "7cfbfa93c0d240b0b9f502909d979724": {
      "model_module": "@jupyter-widgets/controls",
      "model_module_version": "2.0.0",
      "model_name": "HBoxModel",
      "state": {
       "children": [
        "IPY_MODEL_be3c7ef3ef8c45888a30dc9855c91021",
        "IPY_MODEL_1fa3fd1dcc7f46d0bbf42331ad3f4364",
        "IPY_MODEL_5fd8681db74b420da71249491f47f7d7"
       ],
       "layout": "IPY_MODEL_6c96e69f053d45489b5fc748d2181cfb"
      }
     },
     "7d802471eb96472c9e3dddd991896495": {
      "model_module": "@jupyter-widgets/controls",
      "model_module_version": "2.0.0",
      "model_name": "HTMLStyleModel",
      "state": {
       "description_width": "",
       "font_size": null,
       "text_color": null
      }
     },
     "80291d722e71447595b2ec1e399ea1ee": {
      "model_module": "@jupyter-widgets/controls",
      "model_module_version": "2.0.0",
      "model_name": "ProgressStyleModel",
      "state": {
       "description_width": ""
      }
     },
     "8402b58d650b4f8ba73b5ae3bb24b516": {
      "model_module": "@jupyter-widgets/controls",
      "model_module_version": "2.0.0",
      "model_name": "HTMLStyleModel",
      "state": {
       "description_width": "",
       "font_size": null,
       "text_color": null
      }
     },
     "873059b210cc4b00a674f4100fe844d3": {
      "model_module": "@jupyter-widgets/base",
      "model_module_version": "2.0.0",
      "model_name": "LayoutModel",
      "state": {}
     },
     "8cfd34c136ae4b6e9961143d11cfffc0": {
      "model_module": "@jupyter-widgets/base",
      "model_module_version": "2.0.0",
      "model_name": "LayoutModel",
      "state": {}
     },
     "9f0faa670c3741fb8f4e410c16ecc97f": {
      "model_module": "@jupyter-widgets/controls",
      "model_module_version": "2.0.0",
      "model_name": "HBoxModel",
      "state": {
       "children": [
        "IPY_MODEL_dc417c25f51a4215ba64ec6ec9900b2e",
        "IPY_MODEL_21d14638c8e04005a3487c2b809c21df",
        "IPY_MODEL_0b361fa5533b466eb2c8aa779e945f9a"
       ],
       "layout": "IPY_MODEL_0271aae24805457b8ca2e6226d75f616"
      }
     },
     "a165811be361447eb81ad75641d342b5": {
      "model_module": "@jupyter-widgets/controls",
      "model_module_version": "2.0.0",
      "model_name": "HTMLStyleModel",
      "state": {
       "description_width": "",
       "font_size": null,
       "text_color": null
      }
     },
     "aaf5467abe214d09a5e7ceb8a3dc7af1": {
      "model_module": "@jupyter-widgets/controls",
      "model_module_version": "2.0.0",
      "model_name": "HTMLModel",
      "state": {
       "layout": "IPY_MODEL_160042d4b2e7447eb10dac64142c8464",
       "style": "IPY_MODEL_2bbcaf6deae84a2e98a8c9825e6e4588",
       "value": " 20/20 [01:49&lt;00:00,  6.08s/it]"
      }
     },
     "ac9c8054e82b4d389219ad5caad463f9": {
      "model_module": "@jupyter-widgets/base",
      "model_module_version": "2.0.0",
      "model_name": "LayoutModel",
      "state": {}
     },
     "b365e9a63bcb49f1a815f143fb935afe": {
      "model_module": "@jupyter-widgets/controls",
      "model_module_version": "2.0.0",
      "model_name": "HTMLStyleModel",
      "state": {
       "description_width": "",
       "font_size": null,
       "text_color": null
      }
     },
     "bc828f3262034f82840713d1769bf4bd": {
      "model_module": "@jupyter-widgets/controls",
      "model_module_version": "2.0.0",
      "model_name": "ProgressStyleModel",
      "state": {
       "description_width": ""
      }
     },
     "be3c7ef3ef8c45888a30dc9855c91021": {
      "model_module": "@jupyter-widgets/controls",
      "model_module_version": "2.0.0",
      "model_name": "HTMLModel",
      "state": {
       "layout": "IPY_MODEL_3025d57a4a8843faac8b4aa887493ebf",
       "style": "IPY_MODEL_a165811be361447eb81ad75641d342b5",
       "value": "Training (300 / 10000 Steps) (loss=0.95241):   3%"
      }
     },
     "c6e684960cbc4c7d94d937211430657a": {
      "model_module": "@jupyter-widgets/base",
      "model_module_version": "2.0.0",
      "model_name": "LayoutModel",
      "state": {}
     },
     "ca1918a8487a46d1b2f9904428c1334c": {
      "model_module": "@jupyter-widgets/base",
      "model_module_version": "2.0.0",
      "model_name": "LayoutModel",
      "state": {}
     },
     "ca1a2469ef01461aa038b1d402826c54": {
      "model_module": "@jupyter-widgets/base",
      "model_module_version": "2.0.0",
      "model_name": "LayoutModel",
      "state": {}
     },
     "d0e3f56aac0d4243a89ce44be11af890": {
      "model_module": "@jupyter-widgets/controls",
      "model_module_version": "2.0.0",
      "model_name": "HTMLStyleModel",
      "state": {
       "description_width": "",
       "font_size": null,
       "text_color": null
      }
     },
     "d4543885acfa45648637a0ce5d323875": {
      "model_module": "@jupyter-widgets/controls",
      "model_module_version": "2.0.0",
      "model_name": "FloatProgressModel",
      "state": {
       "bar_style": "success",
       "layout": "IPY_MODEL_dd016252d23a43d5b3fc329687cb9eb2",
       "max": 20,
       "style": "IPY_MODEL_bc828f3262034f82840713d1769bf4bd",
       "value": 20
      }
     },
     "d5c79213a88d467297891bf2ea331322": {
      "model_module": "@jupyter-widgets/controls",
      "model_module_version": "2.0.0",
      "model_name": "HTMLStyleModel",
      "state": {
       "description_width": "",
       "font_size": null,
       "text_color": null
      }
     },
     "d81f088737724d56b1e3ee94be7b5dad": {
      "model_module": "@jupyter-widgets/controls",
      "model_module_version": "2.0.0",
      "model_name": "ProgressStyleModel",
      "state": {
       "description_width": ""
      }
     },
     "dc417c25f51a4215ba64ec6ec9900b2e": {
      "model_module": "@jupyter-widgets/controls",
      "model_module_version": "2.0.0",
      "model_name": "HTMLModel",
      "state": {
       "layout": "IPY_MODEL_2cf7072a15414f318524f252e7d5dac3",
       "style": "IPY_MODEL_b365e9a63bcb49f1a815f143fb935afe",
       "value": "Validate (300 Steps) (DiceMetric=0.19912): 100%"
      }
     },
     "dd016252d23a43d5b3fc329687cb9eb2": {
      "model_module": "@jupyter-widgets/base",
      "model_module_version": "2.0.0",
      "model_name": "LayoutModel",
      "state": {
       "flex": "2"
      }
     },
     "e11630fb3dd947e9bca4f1ac8964935f": {
      "model_module": "@jupyter-widgets/controls",
      "model_module_version": "2.0.0",
      "model_name": "HTMLStyleModel",
      "state": {
       "description_width": "",
       "font_size": null,
       "text_color": null
      }
     },
     "f0e17ea6774046c7a27215981850aede": {
      "model_module": "@jupyter-widgets/controls",
      "model_module_version": "2.0.0",
      "model_name": "HTMLStyleModel",
      "state": {
       "description_width": "",
       "font_size": null,
       "text_color": null
      }
     }
    },
    "version_major": 2,
    "version_minor": 0
   }
  }
 },
 "nbformat": 4,
 "nbformat_minor": 5
}
