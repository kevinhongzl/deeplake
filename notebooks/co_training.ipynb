{
 "cells": [
  {
   "cell_type": "code",
   "execution_count": 1,
   "id": "e1b05740-4b76-43fc-ba9b-5cb4f3e3545e",
   "metadata": {},
   "outputs": [
    {
     "name": "stdout",
     "output_type": "stream",
     "text": [
      "C:\\Users\\User\\Desktop\\Kevin\\Partial-DANN\n"
     ]
    }
   ],
   "source": [
    "# cwd = Partial-DANN/\n",
    "import os\n",
    "os.chdir(\"..\")\n",
    "print(os.getcwd())\n",
    "from main import *"
   ]
  },
  {
   "cell_type": "code",
   "execution_count": 2,
   "id": "40c00363-ee1a-41db-959c-9955ad47c163",
   "metadata": {},
   "outputs": [],
   "source": [
    "config = configparser.ConfigParser()\n",
    "config.read(\"./config.ini\")\n",
    "\n",
    "# Data\n",
    "root = config[\"path\"][\"root\"]\n",
    "output = config[\"path\"][\"output\"]\n",
    "debug = config[\"path\"][\"debug\"]\n",
    "dataset = datasets[\"simple_amos\"]\n",
    "modality = \"ct+mr:balance\"\n",
    "masked = True\n",
    "train_data = \"split\"\n",
    "mode = \"train\"\n",
    "\n",
    "# Module\n",
    "module_name = \"co_training\"\n",
    "pretrained = None\n",
    "batch_size = 1\n",
    "loss = \"dice2\"\n",
    "lr = 0.001\n",
    "optim = \"Adam\"\n",
    "max_iter = 10000\n",
    "eval_step = 100\n",
    "\n",
    "# Efficiency\n",
    "deterministic = False\n",
    "dev = False\n",
    "cache_rate = 0.1\n",
    "num_workers = 2"
   ]
  },
  {
   "cell_type": "code",
   "execution_count": 3,
   "id": "6523be00-49d3-4830-90a2-2a9cb1de7cfb",
   "metadata": {},
   "outputs": [
    {
     "name": "stdout",
     "output_type": "stream",
     "text": [
      "root dir: C:/Users/User/Desktop/TSM_Project/data/amos22\n",
      "checkpoint dir: ./checkpoints\n",
      "\n",
      "dataset info:\n"
     ]
    },
    {
     "data": {
      "text/plain": [
       "{'name': 'SIMPLE_AMOS',\n",
       " 'class': medaset.amos.SimpleAMOSDataset,\n",
       " 'train_transforms': <monai.transforms.compose.Compose at 0x28b2b56be80>,\n",
       " 'val_transforms': <monai.transforms.compose.Compose at 0x28b2b5c1910>,\n",
       " 'num_classes': 9,\n",
       " 'fg': {'ct': [1, 3, 5, 7], 'mr': [2, 4, 6, 8]},\n",
       " 'bg': {'ct': {2: 0, 4: 0, 6: 0, 8: 0}, 'mr': {1: 0, 3: 0, 5: 0, 7: 0}}}"
      ]
     },
     "metadata": {},
     "output_type": "display_data"
    }
   ],
   "source": [
    "print(\"root dir:\", root)\n",
    "print(\"checkpoint dir:\", output)\n",
    "print(\"\\ndataset info:\")\n",
    "display(dataset)"
   ]
  },
  {
   "cell_type": "code",
   "execution_count": null,
   "id": "62576e45-e805-4eb2-ba68-2c2b27c4466d",
   "metadata": {},
   "outputs": [
    {
     "name": "stdout",
     "output_type": "stream",
     "text": [
      "** Dataset = SIMPLE_AMOS\n",
      "** Modality = ct+mr:balance\n",
      "** Training set = split\n",
      "** Annotation masked = True\n",
      "** Foreground =\n",
      "  - ct: [1, 3, 5, 7] \n",
      "  - mr: [2, 4, 6, 8]\n"
     ]
    },
    {
     "name": "stderr",
     "output_type": "stream",
     "text": [
      "Loading dataset: 100%|█████████████████████████████████████████████████████████████████████████| 20/20 [00:00<?, ?it/s]\n",
      "Loading dataset: 100%|█████████████████████████████████████████████████████████████████████████| 20/20 [00:00<?, ?it/s]\n",
      "Loading dataset: 100%|█████████████████████████████████████████████████████████████████████████| 10/10 [00:00<?, ?it/s]\n",
      "Loading dataset: 100%|███████████████████████████████████████████████████████████████████████████| 4/4 [00:00<?, ?it/s]\n",
      "Loading dataset: 100%|███████████████████████████████████████████████████████████████████████████| 4/4 [00:00<?, ?it/s]\n",
      "Loading dataset: 100%|███████████████████████████████████████████████████████████████████████████| 2/2 [00:00<?, ?it/s]"
     ]
    },
    {
     "name": "stdout",
     "output_type": "stream",
     "text": [
      "BasicUNet features: (32, 32, 64, 128, 256, 32).\n",
      "BasicUNet features: (32, 32, 64, 128, 256, 32).\n"
     ]
    },
    {
     "name": "stderr",
     "output_type": "stream",
     "text": [
      "\n"
     ]
    },
    {
     "name": "stdout",
     "output_type": "stream",
     "text": [
      "BasicUNet features: (32, 32, 64, 128, 256, 32).\n",
      "BasicUNet features: (32, 32, 64, 128, 256, 32).\n",
      "** Mode = train\n"
     ]
    },
    {
     "data": {
      "application/vnd.jupyter.widget-view+json": {
       "model_id": "1cf9b511e8004e7da1fe99ef4c051eff",
       "version_major": 2,
       "version_minor": 0
      },
      "text/plain": [
       "  0%|          | 0/240 [00:00<?, ?it/s]"
      ]
     },
     "metadata": {},
     "output_type": "display_data"
    },
    {
     "name": "stdout",
     "output_type": "stream",
     "text": [
      "--------\n",
      "Device: cuda\n",
      "# of Training Samples: 180\n",
      "# of Validation Samples: 20\n",
      "Max iteration: 10000 steps (validates per 100 steps)\n",
      "Checkpoint directory: checkpoints\\20231025-165018\\pretrained_0\n",
      "Evaluation metric: DiceMetric\n",
      "Module: BasicUNet\n",
      "Optimizer: Adam (lr = 0.001)\n",
      "Loss function: DiceCELoss(\n",
      "  (dice): DiceLoss()\n",
      "  (cross_entropy): CrossEntropyLoss()\n",
      ")\n",
      "--------\n"
     ]
    },
    {
     "data": {
      "application/vnd.jupyter.widget-view+json": {
       "model_id": "7cfbfa93c0d240b0b9f502909d979724",
       "version_major": 2,
       "version_minor": 0
      },
      "text/plain": [
       "  0%|                                                                                        | 0/10000 [00:00<…"
      ]
     },
     "metadata": {},
     "output_type": "display_data"
    },
    {
     "data": {
      "application/vnd.jupyter.widget-view+json": {
       "model_id": "37831c69f8ef42d2b4f92df98d15b755",
       "version_major": 2,
       "version_minor": 0
      },
      "text/plain": [
       "  0%|                                                                                           | 0/20 [00:00<…"
      ]
     },
     "metadata": {},
     "output_type": "display_data"
    },
    {
     "name": "stdout",
     "output_type": "stream",
     "text": [
      "Model saved! Validation: (New) 0.1988377 > (Old) 0.0000000\n"
     ]
    },
    {
     "data": {
      "application/vnd.jupyter.widget-view+json": {
       "model_id": "41d1603e1be640f9b9c9e0673cd8de71",
       "version_major": 2,
       "version_minor": 0
      },
      "text/plain": [
       "  0%|                                                                                           | 0/20 [00:00<…"
      ]
     },
     "metadata": {},
     "output_type": "display_data"
    },
    {
     "name": "stdout",
     "output_type": "stream",
     "text": [
      "Model saved! Validation: (New) 0.1988380 > (Old) 0.1988377\n"
     ]
    },
    {
     "data": {
      "application/vnd.jupyter.widget-view+json": {
       "model_id": "9f0faa670c3741fb8f4e410c16ecc97f",
       "version_major": 2,
       "version_minor": 0
      },
      "text/plain": [
       "  0%|                                                                                           | 0/20 [00:00<…"
      ]
     },
     "metadata": {},
     "output_type": "display_data"
    },
    {
     "name": "stdout",
     "output_type": "stream",
     "text": [
      "No improvement. Validation: (New) 0.1988380 <= (Old) 0.1988380\n"
     ]
    },
    {
     "data": {
      "application/vnd.jupyter.widget-view+json": {
       "model_id": "222d97deb3f04e6abc343c3612def4d8",
       "version_major": 2,
       "version_minor": 0
      },
      "text/plain": [
       "  0%|                                                                                           | 0/20 [00:00<…"
      ]
     },
     "metadata": {},
     "output_type": "display_data"
    },
    {
     "name": "stdout",
     "output_type": "stream",
     "text": [
      "No improvement. Validation: (New) 0.1988380 <= (Old) 0.1988380\n"
     ]
    },
    {
     "data": {
      "application/vnd.jupyter.widget-view+json": {
       "model_id": "9463839d61594966b3c0740e837b965b",
       "version_major": 2,
       "version_minor": 0
      },
      "text/plain": [
       "  0%|                                                                                           | 0/20 [00:00<…"
      ]
     },
     "metadata": {},
     "output_type": "display_data"
    },
    {
     "name": "stdout",
     "output_type": "stream",
     "text": [
      "No improvement. Validation: (New) 0.1988380 <= (Old) 0.1988380\n"
     ]
    },
    {
     "data": {
      "application/vnd.jupyter.widget-view+json": {
       "model_id": "733bf8a617a54eca9fac15626f221389",
       "version_major": 2,
       "version_minor": 0
      },
      "text/plain": [
       "  0%|                                                                                           | 0/20 [00:00<…"
      ]
     },
     "metadata": {},
     "output_type": "display_data"
    },
    {
     "name": "stdout",
     "output_type": "stream",
     "text": [
      "No improvement. Validation: (New) 0.1988379 <= (Old) 0.1988380\n"
     ]
    },
    {
     "data": {
      "application/vnd.jupyter.widget-view+json": {
       "model_id": "bcbe42135a5c4618b4c79a9be8eb1251",
       "version_major": 2,
       "version_minor": 0
      },
      "text/plain": [
       "  0%|                                                                                           | 0/20 [00:00<…"
      ]
     },
     "metadata": {},
     "output_type": "display_data"
    },
    {
     "name": "stdout",
     "output_type": "stream",
     "text": [
      "Model saved! Validation: (New) 0.2330695 > (Old) 0.1988380\n"
     ]
    },
    {
     "data": {
      "application/vnd.jupyter.widget-view+json": {
       "model_id": "96901b8355d34240a2e4795333dfbcf8",
       "version_major": 2,
       "version_minor": 0
      },
      "text/plain": [
       "  0%|                                                                                           | 0/20 [00:00<…"
      ]
     },
     "metadata": {},
     "output_type": "display_data"
    },
    {
     "name": "stdout",
     "output_type": "stream",
     "text": [
      "Model saved! Validation: (New) 0.2472801 > (Old) 0.2330695\n"
     ]
    },
    {
     "data": {
      "application/vnd.jupyter.widget-view+json": {
       "model_id": "2d562365c7fa42dba31cbe286c28c2e0",
       "version_major": 2,
       "version_minor": 0
      },
      "text/plain": [
       "  0%|                                                                                           | 0/20 [00:00<…"
      ]
     },
     "metadata": {},
     "output_type": "display_data"
    },
    {
     "name": "stdout",
     "output_type": "stream",
     "text": [
      "No improvement. Validation: (New) 0.1989887 <= (Old) 0.2472801\n"
     ]
    },
    {
     "data": {
      "application/vnd.jupyter.widget-view+json": {
       "model_id": "f4bdac4b343a406386a36846559ee2f0",
       "version_major": 2,
       "version_minor": 0
      },
      "text/plain": [
       "  0%|                                                                                           | 0/20 [00:00<…"
      ]
     },
     "metadata": {},
     "output_type": "display_data"
    },
    {
     "name": "stdout",
     "output_type": "stream",
     "text": [
      "Model saved! Validation: (New) 0.3431461 > (Old) 0.2472801\n"
     ]
    },
    {
     "data": {
      "application/vnd.jupyter.widget-view+json": {
       "model_id": "f6a6f0a04cdb4d0bad4fc1dd31b195ac",
       "version_major": 2,
       "version_minor": 0
      },
      "text/plain": [
       "  0%|                                                                                           | 0/20 [00:00<…"
      ]
     },
     "metadata": {},
     "output_type": "display_data"
    },
    {
     "name": "stdout",
     "output_type": "stream",
     "text": [
      "No improvement. Validation: (New) 0.3358502 <= (Old) 0.3431461\n"
     ]
    },
    {
     "data": {
      "application/vnd.jupyter.widget-view+json": {
       "model_id": "245d719861e7494a8f142abcf01d5ec6",
       "version_major": 2,
       "version_minor": 0
      },
      "text/plain": [
       "  0%|                                                                                           | 0/20 [00:00<…"
      ]
     },
     "metadata": {},
     "output_type": "display_data"
    },
    {
     "name": "stdout",
     "output_type": "stream",
     "text": [
      "No improvement. Validation: (New) 0.2405832 <= (Old) 0.3431461\n"
     ]
    },
    {
     "data": {
      "application/vnd.jupyter.widget-view+json": {
       "model_id": "c393e69da117452f953c4b8c7a41500a",
       "version_major": 2,
       "version_minor": 0
      },
      "text/plain": [
       "  0%|                                                                                           | 0/20 [00:00<…"
      ]
     },
     "metadata": {},
     "output_type": "display_data"
    },
    {
     "name": "stdout",
     "output_type": "stream",
     "text": [
      "Model saved! Validation: (New) 0.3843573 > (Old) 0.3431461\n"
     ]
    },
    {
     "data": {
      "application/vnd.jupyter.widget-view+json": {
       "model_id": "d7b26d17ac5a4ce2adaec25bf92f0422",
       "version_major": 2,
       "version_minor": 0
      },
      "text/plain": [
       "  0%|                                                                                           | 0/20 [00:00<…"
      ]
     },
     "metadata": {},
     "output_type": "display_data"
    },
    {
     "name": "stdout",
     "output_type": "stream",
     "text": [
      "Model saved! Validation: (New) 0.4581563 > (Old) 0.3843573\n"
     ]
    },
    {
     "data": {
      "application/vnd.jupyter.widget-view+json": {
       "model_id": "31abb361a2334a1793c8fa9948fe1b68",
       "version_major": 2,
       "version_minor": 0
      },
      "text/plain": [
       "  0%|                                                                                           | 0/20 [00:00<…"
      ]
     },
     "metadata": {},
     "output_type": "display_data"
    },
    {
     "name": "stdout",
     "output_type": "stream",
     "text": [
      "Model saved! Validation: (New) 0.4596579 > (Old) 0.4581563\n"
     ]
    },
    {
     "data": {
      "application/vnd.jupyter.widget-view+json": {
       "model_id": "b8eb01f86bfc4d86b1467f98d4d19e88",
       "version_major": 2,
       "version_minor": 0
      },
      "text/plain": [
       "  0%|                                                                                           | 0/20 [00:00<…"
      ]
     },
     "metadata": {},
     "output_type": "display_data"
    },
    {
     "name": "stdout",
     "output_type": "stream",
     "text": [
      "No improvement. Validation: (New) 0.4182636 <= (Old) 0.4596579\n"
     ]
    },
    {
     "data": {
      "application/vnd.jupyter.widget-view+json": {
       "model_id": "9af62edff03748efbd5300a0dd17eee6",
       "version_major": 2,
       "version_minor": 0
      },
      "text/plain": [
       "  0%|                                                                                           | 0/20 [00:00<…"
      ]
     },
     "metadata": {},
     "output_type": "display_data"
    },
    {
     "name": "stdout",
     "output_type": "stream",
     "text": [
      "Model saved! Validation: (New) 0.4688645 > (Old) 0.4596579\n"
     ]
    },
    {
     "data": {
      "application/vnd.jupyter.widget-view+json": {
       "model_id": "e1e99610991c4119a51a9c07f41186b9",
       "version_major": 2,
       "version_minor": 0
      },
      "text/plain": [
       "  0%|                                                                                           | 0/20 [00:00<…"
      ]
     },
     "metadata": {},
     "output_type": "display_data"
    },
    {
     "name": "stdout",
     "output_type": "stream",
     "text": [
      "Model saved! Validation: (New) 0.5336204 > (Old) 0.4688645\n"
     ]
    },
    {
     "data": {
      "application/vnd.jupyter.widget-view+json": {
       "model_id": "d34b7c2736824ef195b233f9aceb242a",
       "version_major": 2,
       "version_minor": 0
      },
      "text/plain": [
       "  0%|                                                                                           | 0/20 [00:00<…"
      ]
     },
     "metadata": {},
     "output_type": "display_data"
    },
    {
     "name": "stdout",
     "output_type": "stream",
     "text": [
      "No improvement. Validation: (New) 0.4978534 <= (Old) 0.5336204\n"
     ]
    },
    {
     "data": {
      "application/vnd.jupyter.widget-view+json": {
       "model_id": "3c8d7ca88ca4451ca6a17ff86abb22cf",
       "version_major": 2,
       "version_minor": 0
      },
      "text/plain": [
       "  0%|                                                                                           | 0/20 [00:00<…"
      ]
     },
     "metadata": {},
     "output_type": "display_data"
    },
    {
     "name": "stdout",
     "output_type": "stream",
     "text": [
      "No improvement. Validation: (New) 0.5140992 <= (Old) 0.5336204\n"
     ]
    },
    {
     "data": {
      "application/vnd.jupyter.widget-view+json": {
       "model_id": "0eeb9fe2e8c7416bb49e06df89354f43",
       "version_major": 2,
       "version_minor": 0
      },
      "text/plain": [
       "  0%|                                                                                           | 0/20 [00:00<…"
      ]
     },
     "metadata": {},
     "output_type": "display_data"
    },
    {
     "name": "stdout",
     "output_type": "stream",
     "text": [
      "No improvement. Validation: (New) 0.5203485 <= (Old) 0.5336204\n"
     ]
    },
    {
     "data": {
      "application/vnd.jupyter.widget-view+json": {
       "model_id": "0772195c554f489cabee518699e95db4",
       "version_major": 2,
       "version_minor": 0
      },
      "text/plain": [
       "  0%|                                                                                           | 0/20 [00:00<…"
      ]
     },
     "metadata": {},
     "output_type": "display_data"
    },
    {
     "name": "stdout",
     "output_type": "stream",
     "text": [
      "No improvement. Validation: (New) 0.5259034 <= (Old) 0.5336204\n"
     ]
    },
    {
     "data": {
      "application/vnd.jupyter.widget-view+json": {
       "model_id": "b340bbb20c8b401e87dfc410e1ab26da",
       "version_major": 2,
       "version_minor": 0
      },
      "text/plain": [
       "  0%|                                                                                           | 0/20 [00:00<…"
      ]
     },
     "metadata": {},
     "output_type": "display_data"
    },
    {
     "name": "stdout",
     "output_type": "stream",
     "text": [
      "No improvement. Validation: (New) 0.5116729 <= (Old) 0.5336204\n"
     ]
    },
    {
     "data": {
      "application/vnd.jupyter.widget-view+json": {
       "model_id": "ddb52223e96f437e8e03f6f4809c504b",
       "version_major": 2,
       "version_minor": 0
      },
      "text/plain": [
       "  0%|                                                                                           | 0/20 [00:00<…"
      ]
     },
     "metadata": {},
     "output_type": "display_data"
    },
    {
     "name": "stdout",
     "output_type": "stream",
     "text": [
      "Model saved! Validation: (New) 0.5834494 > (Old) 0.5336204\n"
     ]
    },
    {
     "data": {
      "application/vnd.jupyter.widget-view+json": {
       "model_id": "97b61ba317a4424e9268830e75f12e3a",
       "version_major": 2,
       "version_minor": 0
      },
      "text/plain": [
       "  0%|                                                                                           | 0/20 [00:00<…"
      ]
     },
     "metadata": {},
     "output_type": "display_data"
    },
    {
     "name": "stdout",
     "output_type": "stream",
     "text": [
      "No improvement. Validation: (New) 0.5030469 <= (Old) 0.5834494\n"
     ]
    },
    {
     "data": {
      "application/vnd.jupyter.widget-view+json": {
       "model_id": "697434ea42eb483993cbcad43b158f39",
       "version_major": 2,
       "version_minor": 0
      },
      "text/plain": [
       "  0%|                                                                                           | 0/20 [00:00<…"
      ]
     },
     "metadata": {},
     "output_type": "display_data"
    },
    {
     "name": "stdout",
     "output_type": "stream",
     "text": [
      "No improvement. Validation: (New) 0.5210269 <= (Old) 0.5834494\n"
     ]
    },
    {
     "data": {
      "application/vnd.jupyter.widget-view+json": {
       "model_id": "57fd1000c88642929a9a23de5d9e3efb",
       "version_major": 2,
       "version_minor": 0
      },
      "text/plain": [
       "  0%|                                                                                           | 0/20 [00:00<…"
      ]
     },
     "metadata": {},
     "output_type": "display_data"
    },
    {
     "name": "stdout",
     "output_type": "stream",
     "text": [
      "Model saved! Validation: (New) 0.6089007 > (Old) 0.5834494\n"
     ]
    },
    {
     "data": {
      "application/vnd.jupyter.widget-view+json": {
       "model_id": "aeb0b59c64654aa8a73105c31a0a393a",
       "version_major": 2,
       "version_minor": 0
      },
      "text/plain": [
       "  0%|                                                                                           | 0/20 [00:00<…"
      ]
     },
     "metadata": {},
     "output_type": "display_data"
    },
    {
     "name": "stdout",
     "output_type": "stream",
     "text": [
      "No improvement. Validation: (New) 0.5499242 <= (Old) 0.6089007\n"
     ]
    },
    {
     "data": {
      "application/vnd.jupyter.widget-view+json": {
       "model_id": "5981d4277e414c73a91e96a453893cf3",
       "version_major": 2,
       "version_minor": 0
      },
      "text/plain": [
       "  0%|                                                                                           | 0/20 [00:00<…"
      ]
     },
     "metadata": {},
     "output_type": "display_data"
    },
    {
     "name": "stdout",
     "output_type": "stream",
     "text": [
      "Model saved! Validation: (New) 0.6299671 > (Old) 0.6089007\n"
     ]
    },
    {
     "data": {
      "application/vnd.jupyter.widget-view+json": {
       "model_id": "98d299b95165433994e036fd02666a75",
       "version_major": 2,
       "version_minor": 0
      },
      "text/plain": [
       "  0%|                                                                                           | 0/20 [00:00<…"
      ]
     },
     "metadata": {},
     "output_type": "display_data"
    },
    {
     "name": "stdout",
     "output_type": "stream",
     "text": [
      "No improvement. Validation: (New) 0.6078744 <= (Old) 0.6299671\n"
     ]
    },
    {
     "data": {
      "application/vnd.jupyter.widget-view+json": {
       "model_id": "00de7c8b8df24b78918a4fce40b48de5",
       "version_major": 2,
       "version_minor": 0
      },
      "text/plain": [
       "  0%|                                                                                           | 0/20 [00:00<…"
      ]
     },
     "metadata": {},
     "output_type": "display_data"
    },
    {
     "name": "stdout",
     "output_type": "stream",
     "text": [
      "No improvement. Validation: (New) 0.5985064 <= (Old) 0.6299671\n"
     ]
    },
    {
     "data": {
      "application/vnd.jupyter.widget-view+json": {
       "model_id": "341650bc33b74fbf8a2724e283b463df",
       "version_major": 2,
       "version_minor": 0
      },
      "text/plain": [
       "  0%|                                                                                           | 0/20 [00:00<…"
      ]
     },
     "metadata": {},
     "output_type": "display_data"
    },
    {
     "name": "stdout",
     "output_type": "stream",
     "text": [
      "No improvement. Validation: (New) 0.6282263 <= (Old) 0.6299671\n"
     ]
    },
    {
     "data": {
      "application/vnd.jupyter.widget-view+json": {
       "model_id": "af11574bf483420ca7aaf21258779406",
       "version_major": 2,
       "version_minor": 0
      },
      "text/plain": [
       "  0%|                                                                                           | 0/20 [00:00<…"
      ]
     },
     "metadata": {},
     "output_type": "display_data"
    },
    {
     "name": "stdout",
     "output_type": "stream",
     "text": [
      "No improvement. Validation: (New) 0.5792950 <= (Old) 0.6299671\n"
     ]
    },
    {
     "data": {
      "application/vnd.jupyter.widget-view+json": {
       "model_id": "47b77f6d584046d982e9e80f9f72443e",
       "version_major": 2,
       "version_minor": 0
      },
      "text/plain": [
       "  0%|                                                                                           | 0/20 [00:00<…"
      ]
     },
     "metadata": {},
     "output_type": "display_data"
    },
    {
     "name": "stdout",
     "output_type": "stream",
     "text": [
      "Model saved! Validation: (New) 0.6370088 > (Old) 0.6299671\n"
     ]
    },
    {
     "data": {
      "application/vnd.jupyter.widget-view+json": {
       "model_id": "3a0a2e359f514744ad161310875f21c4",
       "version_major": 2,
       "version_minor": 0
      },
      "text/plain": [
       "  0%|                                                                                           | 0/20 [00:00<…"
      ]
     },
     "metadata": {},
     "output_type": "display_data"
    },
    {
     "name": "stdout",
     "output_type": "stream",
     "text": [
      "No improvement. Validation: (New) 0.5534816 <= (Old) 0.6370088\n"
     ]
    },
    {
     "data": {
      "application/vnd.jupyter.widget-view+json": {
       "model_id": "70f1e28e02004c659617cef084a31e27",
       "version_major": 2,
       "version_minor": 0
      },
      "text/plain": [
       "  0%|                                                                                           | 0/20 [00:00<…"
      ]
     },
     "metadata": {},
     "output_type": "display_data"
    },
    {
     "name": "stdout",
     "output_type": "stream",
     "text": [
      "No improvement. Validation: (New) 0.5979974 <= (Old) 0.6370088\n"
     ]
    },
    {
     "data": {
      "application/vnd.jupyter.widget-view+json": {
       "model_id": "6b30aea62cd744ffae9e8610c630b493",
       "version_major": 2,
       "version_minor": 0
      },
      "text/plain": [
       "  0%|                                                                                           | 0/20 [00:00<…"
      ]
     },
     "metadata": {},
     "output_type": "display_data"
    },
    {
     "name": "stdout",
     "output_type": "stream",
     "text": [
      "No improvement. Validation: (New) 0.5661811 <= (Old) 0.6370088\n"
     ]
    },
    {
     "data": {
      "application/vnd.jupyter.widget-view+json": {
       "model_id": "36ee5c78c8f64ad889faee81424ada64",
       "version_major": 2,
       "version_minor": 0
      },
      "text/plain": [
       "  0%|                                                                                           | 0/20 [00:00<…"
      ]
     },
     "metadata": {},
     "output_type": "display_data"
    },
    {
     "name": "stdout",
     "output_type": "stream",
     "text": [
      "No improvement. Validation: (New) 0.6358982 <= (Old) 0.6370088\n"
     ]
    },
    {
     "data": {
      "application/vnd.jupyter.widget-view+json": {
       "model_id": "993e8ddcdf3f40b9926d96abf7005ad2",
       "version_major": 2,
       "version_minor": 0
      },
      "text/plain": [
       "  0%|                                                                                           | 0/20 [00:00<…"
      ]
     },
     "metadata": {},
     "output_type": "display_data"
    },
    {
     "name": "stdout",
     "output_type": "stream",
     "text": [
      "No improvement. Validation: (New) 0.6117999 <= (Old) 0.6370088\n"
     ]
    },
    {
     "data": {
      "application/vnd.jupyter.widget-view+json": {
       "model_id": "95224c8fbb4d4bfbad37085516314119",
       "version_major": 2,
       "version_minor": 0
      },
      "text/plain": [
       "  0%|                                                                                           | 0/20 [00:00<…"
      ]
     },
     "metadata": {},
     "output_type": "display_data"
    },
    {
     "name": "stdout",
     "output_type": "stream",
     "text": [
      "Model saved! Validation: (New) 0.6496934 > (Old) 0.6370088\n"
     ]
    },
    {
     "data": {
      "application/vnd.jupyter.widget-view+json": {
       "model_id": "642db02e1fcc4aa0b64c4c3a1d823f42",
       "version_major": 2,
       "version_minor": 0
      },
      "text/plain": [
       "  0%|                                                                                           | 0/20 [00:00<…"
      ]
     },
     "metadata": {},
     "output_type": "display_data"
    },
    {
     "name": "stdout",
     "output_type": "stream",
     "text": [
      "Model saved! Validation: (New) 0.6601886 > (Old) 0.6496934\n"
     ]
    },
    {
     "data": {
      "application/vnd.jupyter.widget-view+json": {
       "model_id": "693098e5e54e48ebaf5d81102e93509a",
       "version_major": 2,
       "version_minor": 0
      },
      "text/plain": [
       "  0%|                                                                                           | 0/20 [00:00<…"
      ]
     },
     "metadata": {},
     "output_type": "display_data"
    },
    {
     "name": "stdout",
     "output_type": "stream",
     "text": [
      "No improvement. Validation: (New) 0.6574527 <= (Old) 0.6601886\n"
     ]
    },
    {
     "data": {
      "application/vnd.jupyter.widget-view+json": {
       "model_id": "26c40f7bdfd340c08a62968761b78ea9",
       "version_major": 2,
       "version_minor": 0
      },
      "text/plain": [
       "  0%|                                                                                           | 0/20 [00:00<…"
      ]
     },
     "metadata": {},
     "output_type": "display_data"
    },
    {
     "name": "stdout",
     "output_type": "stream",
     "text": [
      "No improvement. Validation: (New) 0.6584914 <= (Old) 0.6601886\n"
     ]
    },
    {
     "data": {
      "application/vnd.jupyter.widget-view+json": {
       "model_id": "370bd95ca56c42de8a0313f3fac58cd2",
       "version_major": 2,
       "version_minor": 0
      },
      "text/plain": [
       "  0%|                                                                                           | 0/20 [00:00<…"
      ]
     },
     "metadata": {},
     "output_type": "display_data"
    },
    {
     "name": "stdout",
     "output_type": "stream",
     "text": [
      "Model saved! Validation: (New) 0.6922460 > (Old) 0.6601886\n"
     ]
    },
    {
     "data": {
      "application/vnd.jupyter.widget-view+json": {
       "model_id": "4145718e6fb445e4b37ebff9daa54e09",
       "version_major": 2,
       "version_minor": 0
      },
      "text/plain": [
       "  0%|                                                                                           | 0/20 [00:00<…"
      ]
     },
     "metadata": {},
     "output_type": "display_data"
    },
    {
     "name": "stdout",
     "output_type": "stream",
     "text": [
      "Model saved! Validation: (New) 0.7272510 > (Old) 0.6922460\n"
     ]
    },
    {
     "data": {
      "application/vnd.jupyter.widget-view+json": {
       "model_id": "9dfb8f64bf7f480f8905ca776bbcabb3",
       "version_major": 2,
       "version_minor": 0
      },
      "text/plain": [
       "  0%|                                                                                           | 0/20 [00:00<…"
      ]
     },
     "metadata": {},
     "output_type": "display_data"
    },
    {
     "name": "stdout",
     "output_type": "stream",
     "text": [
      "Model saved! Validation: (New) 0.7587900 > (Old) 0.7272510\n"
     ]
    },
    {
     "data": {
      "application/vnd.jupyter.widget-view+json": {
       "model_id": "292d9d744fcf4b95a832424fb62d719a",
       "version_major": 2,
       "version_minor": 0
      },
      "text/plain": [
       "  0%|                                                                                           | 0/20 [00:00<…"
      ]
     },
     "metadata": {},
     "output_type": "display_data"
    },
    {
     "name": "stdout",
     "output_type": "stream",
     "text": [
      "Model saved! Validation: (New) 0.7643201 > (Old) 0.7587900\n"
     ]
    },
    {
     "data": {
      "application/vnd.jupyter.widget-view+json": {
       "model_id": "81810ca8efc244648c1e1d185009cc83",
       "version_major": 2,
       "version_minor": 0
      },
      "text/plain": [
       "  0%|                                                                                           | 0/20 [00:00<…"
      ]
     },
     "metadata": {},
     "output_type": "display_data"
    },
    {
     "name": "stdout",
     "output_type": "stream",
     "text": [
      "No improvement. Validation: (New) 0.7468947 <= (Old) 0.7643201\n"
     ]
    },
    {
     "data": {
      "application/vnd.jupyter.widget-view+json": {
       "model_id": "8ea800794a374d73a3fa9c50f7bb9935",
       "version_major": 2,
       "version_minor": 0
      },
      "text/plain": [
       "  0%|                                                                                           | 0/20 [00:00<…"
      ]
     },
     "metadata": {},
     "output_type": "display_data"
    },
    {
     "name": "stdout",
     "output_type": "stream",
     "text": [
      "No improvement. Validation: (New) 0.7625731 <= (Old) 0.7643201\n"
     ]
    },
    {
     "data": {
      "application/vnd.jupyter.widget-view+json": {
       "model_id": "ca7d093cfae74f2cbcb2733015ce2a0f",
       "version_major": 2,
       "version_minor": 0
      },
      "text/plain": [
       "  0%|                                                                                           | 0/20 [00:00<…"
      ]
     },
     "metadata": {},
     "output_type": "display_data"
    },
    {
     "name": "stdout",
     "output_type": "stream",
     "text": [
      "Model saved! Validation: (New) 0.7688721 > (Old) 0.7643201\n"
     ]
    },
    {
     "data": {
      "application/vnd.jupyter.widget-view+json": {
       "model_id": "2b113a43b22e4f5399ee94e2280cd65c",
       "version_major": 2,
       "version_minor": 0
      },
      "text/plain": [
       "  0%|                                                                                           | 0/20 [00:00<…"
      ]
     },
     "metadata": {},
     "output_type": "display_data"
    },
    {
     "name": "stdout",
     "output_type": "stream",
     "text": [
      "No improvement. Validation: (New) 0.6335375 <= (Old) 0.7688721\n"
     ]
    },
    {
     "data": {
      "application/vnd.jupyter.widget-view+json": {
       "model_id": "9f65af28e14a4af884b319f713fbc2da",
       "version_major": 2,
       "version_minor": 0
      },
      "text/plain": [
       "  0%|                                                                                           | 0/20 [00:00<…"
      ]
     },
     "metadata": {},
     "output_type": "display_data"
    },
    {
     "name": "stdout",
     "output_type": "stream",
     "text": [
      "No improvement. Validation: (New) 0.7493634 <= (Old) 0.7688721\n"
     ]
    },
    {
     "data": {
      "application/vnd.jupyter.widget-view+json": {
       "model_id": "911f9ee2f47e4b18bc066bd79e540258",
       "version_major": 2,
       "version_minor": 0
      },
      "text/plain": [
       "  0%|                                                                                           | 0/20 [00:00<…"
      ]
     },
     "metadata": {},
     "output_type": "display_data"
    },
    {
     "name": "stdout",
     "output_type": "stream",
     "text": [
      "No improvement. Validation: (New) 0.7505853 <= (Old) 0.7688721\n"
     ]
    },
    {
     "data": {
      "application/vnd.jupyter.widget-view+json": {
       "model_id": "46420333cf634ee7b0d0335b16e48623",
       "version_major": 2,
       "version_minor": 0
      },
      "text/plain": [
       "  0%|                                                                                           | 0/20 [00:00<…"
      ]
     },
     "metadata": {},
     "output_type": "display_data"
    },
    {
     "name": "stdout",
     "output_type": "stream",
     "text": [
      "No improvement. Validation: (New) 0.7418807 <= (Old) 0.7688721\n"
     ]
    },
    {
     "data": {
      "application/vnd.jupyter.widget-view+json": {
       "model_id": "f232e7af983b472db0255b87a1acb5c9",
       "version_major": 2,
       "version_minor": 0
      },
      "text/plain": [
       "  0%|                                                                                           | 0/20 [00:00<…"
      ]
     },
     "metadata": {},
     "output_type": "display_data"
    },
    {
     "name": "stdout",
     "output_type": "stream",
     "text": [
      "No improvement. Validation: (New) 0.7654887 <= (Old) 0.7688721\n"
     ]
    },
    {
     "data": {
      "application/vnd.jupyter.widget-view+json": {
       "model_id": "f9cbfa60e37b4032bdb10f5a36439ccd",
       "version_major": 2,
       "version_minor": 0
      },
      "text/plain": [
       "  0%|                                                                                           | 0/20 [00:00<…"
      ]
     },
     "metadata": {},
     "output_type": "display_data"
    },
    {
     "name": "stdout",
     "output_type": "stream",
     "text": [
      "No improvement. Validation: (New) 0.7608969 <= (Old) 0.7688721\n"
     ]
    },
    {
     "data": {
      "application/vnd.jupyter.widget-view+json": {
       "model_id": "92deaffc5d2643238f34249e2fa7d3c9",
       "version_major": 2,
       "version_minor": 0
      },
      "text/plain": [
       "  0%|                                                                                           | 0/20 [00:00<…"
      ]
     },
     "metadata": {},
     "output_type": "display_data"
    },
    {
     "name": "stdout",
     "output_type": "stream",
     "text": [
      "No improvement. Validation: (New) 0.7616569 <= (Old) 0.7688721\n"
     ]
    },
    {
     "data": {
      "application/vnd.jupyter.widget-view+json": {
       "model_id": "72a4bcb12ca74e778f5f0ed4f41d6d7e",
       "version_major": 2,
       "version_minor": 0
      },
      "text/plain": [
       "  0%|                                                                                           | 0/20 [00:00<…"
      ]
     },
     "metadata": {},
     "output_type": "display_data"
    },
    {
     "name": "stdout",
     "output_type": "stream",
     "text": [
      "No improvement. Validation: (New) 0.7642031 <= (Old) 0.7688721\n"
     ]
    },
    {
     "data": {
      "application/vnd.jupyter.widget-view+json": {
       "model_id": "77835ccaa7964975a178db210eed2c29",
       "version_major": 2,
       "version_minor": 0
      },
      "text/plain": [
       "  0%|                                                                                           | 0/20 [00:00<…"
      ]
     },
     "metadata": {},
     "output_type": "display_data"
    },
    {
     "name": "stdout",
     "output_type": "stream",
     "text": [
      "Model saved! Validation: (New) 0.7995502 > (Old) 0.7688721\n"
     ]
    },
    {
     "data": {
      "application/vnd.jupyter.widget-view+json": {
       "model_id": "1ec7a515bed44a92aec33acd9792cdea",
       "version_major": 2,
       "version_minor": 0
      },
      "text/plain": [
       "  0%|                                                                                           | 0/20 [00:00<…"
      ]
     },
     "metadata": {},
     "output_type": "display_data"
    },
    {
     "name": "stdout",
     "output_type": "stream",
     "text": [
      "No improvement. Validation: (New) 0.7904975 <= (Old) 0.7995502\n"
     ]
    },
    {
     "data": {
      "application/vnd.jupyter.widget-view+json": {
       "model_id": "d2987477d9cc4f2692a1776d8faf2705",
       "version_major": 2,
       "version_minor": 0
      },
      "text/plain": [
       "  0%|                                                                                           | 0/20 [00:00<…"
      ]
     },
     "metadata": {},
     "output_type": "display_data"
    },
    {
     "name": "stdout",
     "output_type": "stream",
     "text": [
      "No improvement. Validation: (New) 0.7753729 <= (Old) 0.7995502\n"
     ]
    },
    {
     "data": {
      "application/vnd.jupyter.widget-view+json": {
       "model_id": "3611070a80154269b0e2c927a146cb88",
       "version_major": 2,
       "version_minor": 0
      },
      "text/plain": [
       "  0%|                                                                                           | 0/20 [00:00<…"
      ]
     },
     "metadata": {},
     "output_type": "display_data"
    },
    {
     "name": "stdout",
     "output_type": "stream",
     "text": [
      "No improvement. Validation: (New) 0.7753772 <= (Old) 0.7995502\n"
     ]
    },
    {
     "data": {
      "application/vnd.jupyter.widget-view+json": {
       "model_id": "8eba32bc91c049b491e99cca2aa7b227",
       "version_major": 2,
       "version_minor": 0
      },
      "text/plain": [
       "  0%|                                                                                           | 0/20 [00:00<…"
      ]
     },
     "metadata": {},
     "output_type": "display_data"
    },
    {
     "name": "stdout",
     "output_type": "stream",
     "text": [
      "No improvement. Validation: (New) 0.7983356 <= (Old) 0.7995502\n"
     ]
    },
    {
     "data": {
      "application/vnd.jupyter.widget-view+json": {
       "model_id": "df43ed15c9cb42a7805dd5880361fd6c",
       "version_major": 2,
       "version_minor": 0
      },
      "text/plain": [
       "  0%|                                                                                           | 0/20 [00:00<…"
      ]
     },
     "metadata": {},
     "output_type": "display_data"
    },
    {
     "name": "stdout",
     "output_type": "stream",
     "text": [
      "Model saved! Validation: (New) 0.8212135 > (Old) 0.7995502\n"
     ]
    },
    {
     "data": {
      "application/vnd.jupyter.widget-view+json": {
       "model_id": "74fa5e0a9ef24c0cb333387d8051e0da",
       "version_major": 2,
       "version_minor": 0
      },
      "text/plain": [
       "  0%|                                                                                           | 0/20 [00:00<…"
      ]
     },
     "metadata": {},
     "output_type": "display_data"
    },
    {
     "name": "stdout",
     "output_type": "stream",
     "text": [
      "No improvement. Validation: (New) 0.7286104 <= (Old) 0.8212135\n"
     ]
    },
    {
     "data": {
      "application/vnd.jupyter.widget-view+json": {
       "model_id": "ebd32f1295584188a7338d976e3ace7e",
       "version_major": 2,
       "version_minor": 0
      },
      "text/plain": [
       "  0%|                                                                                           | 0/20 [00:00<…"
      ]
     },
     "metadata": {},
     "output_type": "display_data"
    },
    {
     "name": "stdout",
     "output_type": "stream",
     "text": [
      "No improvement. Validation: (New) 0.8031424 <= (Old) 0.8212135\n"
     ]
    },
    {
     "data": {
      "application/vnd.jupyter.widget-view+json": {
       "model_id": "a06ebf599b1c4c0cb68142b6e676ed80",
       "version_major": 2,
       "version_minor": 0
      },
      "text/plain": [
       "  0%|                                                                                           | 0/20 [00:00<…"
      ]
     },
     "metadata": {},
     "output_type": "display_data"
    },
    {
     "name": "stdout",
     "output_type": "stream",
     "text": [
      "No improvement. Validation: (New) 0.8160745 <= (Old) 0.8212135\n"
     ]
    },
    {
     "data": {
      "application/vnd.jupyter.widget-view+json": {
       "model_id": "8c7d0686bcd0405cbc0ac774268fc2fb",
       "version_major": 2,
       "version_minor": 0
      },
      "text/plain": [
       "  0%|                                                                                           | 0/20 [00:00<…"
      ]
     },
     "metadata": {},
     "output_type": "display_data"
    },
    {
     "name": "stdout",
     "output_type": "stream",
     "text": [
      "Model saved! Validation: (New) 0.8225003 > (Old) 0.8212135\n"
     ]
    },
    {
     "data": {
      "application/vnd.jupyter.widget-view+json": {
       "model_id": "9c7c5213f2cd46f89b7aa6dfd4b6602e",
       "version_major": 2,
       "version_minor": 0
      },
      "text/plain": [
       "  0%|                                                                                           | 0/20 [00:00<…"
      ]
     },
     "metadata": {},
     "output_type": "display_data"
    },
    {
     "name": "stdout",
     "output_type": "stream",
     "text": [
      "No improvement. Validation: (New) 0.8028120 <= (Old) 0.8225003\n"
     ]
    },
    {
     "data": {
      "application/vnd.jupyter.widget-view+json": {
       "model_id": "5d765f610cef4862aed83e7096eaa292",
       "version_major": 2,
       "version_minor": 0
      },
      "text/plain": [
       "  0%|                                                                                           | 0/20 [00:00<…"
      ]
     },
     "metadata": {},
     "output_type": "display_data"
    }
   ],
   "source": [
    "## Whether train without randomness\n",
    "if deterministic:\n",
    "    set_determinism(seed=0)\n",
    "    print(\"** Deterministic = True\")\n",
    "\n",
    "## Dataloaders\n",
    "train_dataset, val_dataset, test_dataset = get_datasets(\n",
    "    dataset=dataset,\n",
    "    modality=modality,\n",
    "    train_data=train_data,\n",
    "    masked=masked,\n",
    "    return_modality_dataset=modules[module_name][\"return_modality_dataset\"],\n",
    "    root_dir=root,\n",
    "    cache_rate=cache_rate,\n",
    "    num_workers=num_workers,\n",
    "    dev=dev,\n",
    ")\n",
    "train_dataloader, val_dataloader, test_dataloader = modules[module_name][\"initializer\"].init_dataloaders(\n",
    "    train_dataset, val_dataset, test_dataset, batch_size, dev\n",
    ")\n",
    "\n",
    "## Initialize module\n",
    "module = modules[module_name][\"initializer\"].init_module(\n",
    "    loss, optim, lr, dataset, modality, masked, device,\n",
    ")\n",
    "if pretrained:\n",
    "    print(\"** Pretrained checkpoint =\", pretrained)\n",
    "    module.load(pretrained)\n",
    "module.to(device)\n",
    "\n",
    "## Train or test\n",
    "# ** note: temp checkpoints are saved in the \"debug\" directory\n",
    "#          to separate the result of experiments and temporary\n",
    "#          checkpoints generated in developer mode.\n",
    "checkpoint_dir = output if not dev else debug\n",
    "# create subfolder based on time\n",
    "checkpoint_dir = Path(checkpoint_dir) / datetime.now().strftime(\"%Y%m%d-%H%M%S\")\n",
    "trainer = modules[module_name][\"initializer\"].init_trainer(\n",
    "    num_classes=dataset[\"num_classes\"],\n",
    "    max_iter=max_iter,\n",
    "    eval_step=eval_step,\n",
    "    checkpoint_dir=checkpoint_dir,\n",
    "    device=device,\n",
    ")\n",
    "\n",
    "from torch.profiler import profile, record_function, ProfilerActivity\n",
    "\n",
    "print(\"** Mode =\", mode)\n",
    "if mode == \"train\":        \n",
    "    trainer.train(module, train_dataloader, val_dataloader)\n",
    "    # Save command-line arguments\n",
    "    Path(trainer.checkpoint_dir).mkdir(parents=True, exist_ok=True)\n",
    "\n",
    "    # Comment the code below since there is no args\n",
    "    # with open(Path(trainer.checkpoint_dir) / \"json\", \"w\") as f:\n",
    "    #     json.dump(vars(args), f, indent=4)\n",
    "if mode == \"test\" or test_dataloader:\n",
    "    test_metric = trainer.validation(module, test_dataloader, label=\"all\")\n",
    "    print(\"** Test (Final):\", test_metric)\n",
    "else:\n",
    "    raise ValueError(\"Got an invalid input of option --mode.\")"
   ]
  },
  {
   "cell_type": "code",
   "execution_count": null,
   "id": "fd378589-7e39-4e1a-8bb6-00a15a8c6283",
   "metadata": {},
   "outputs": [],
   "source": []
  }
 ],
 "metadata": {
  "kernelspec": {
   "display_name": "Python 3 (ipykernel)",
   "language": "python",
   "name": "python3"
  },
  "language_info": {
   "codemirror_mode": {
    "name": "ipython",
    "version": 3
   },
   "file_extension": ".py",
   "mimetype": "text/x-python",
   "name": "python",
   "nbconvert_exporter": "python",
   "pygments_lexer": "ipython3",
   "version": "3.8.17"
  },
  "widgets": {
   "application/vnd.jupyter.widget-state+json": {
    "state": {
     "005978df1d02419b8494fe683ec60640": {
      "model_module": "@jupyter-widgets/controls",
      "model_module_version": "2.0.0",
      "model_name": "HTMLStyleModel",
      "state": {
       "description_width": "",
       "font_size": null,
       "text_color": null
      }
     },
     "007b99a82ce7446cb2e59581f6df12bf": {
      "model_module": "@jupyter-widgets/controls",
      "model_module_version": "2.0.0",
      "model_name": "HTMLStyleModel",
      "state": {
       "description_width": "",
       "font_size": null,
       "text_color": null
      }
     },
     "00de7c8b8df24b78918a4fce40b48de5": {
      "model_module": "@jupyter-widgets/controls",
      "model_module_version": "2.0.0",
      "model_name": "HBoxModel",
      "state": {
       "children": [
        "IPY_MODEL_f8a12540b8174de0b62f8d1de0ca2f0c",
        "IPY_MODEL_a1154593087944958d03abec3cbba96c",
        "IPY_MODEL_9f14ae9f1e874513b7d46b62e2dd0677"
       ],
       "layout": "IPY_MODEL_165fa1917bd24d909cacc60aeac5661d"
      }
     },
     "01ec8feae2df4d16b8b2a154f2bb7a39": {
      "model_module": "@jupyter-widgets/base",
      "model_module_version": "2.0.0",
      "model_name": "LayoutModel",
      "state": {}
     },
     "022ab8e73a2a4c17b0c0ed639409e955": {
      "model_module": "@jupyter-widgets/controls",
      "model_module_version": "2.0.0",
      "model_name": "HTMLStyleModel",
      "state": {
       "description_width": "",
       "font_size": null,
       "text_color": null
      }
     },
     "0271aae24805457b8ca2e6226d75f616": {
      "model_module": "@jupyter-widgets/base",
      "model_module_version": "2.0.0",
      "model_name": "LayoutModel",
      "state": {
       "display": "inline-flex",
       "flex_flow": "row wrap",
       "width": "100%"
      }
     },
     "02efb775e5ee435982a9828c5862297b": {
      "model_module": "@jupyter-widgets/base",
      "model_module_version": "2.0.0",
      "model_name": "LayoutModel",
      "state": {
       "display": "inline-flex",
       "flex_flow": "row wrap",
       "width": "100%"
      }
     },
     "035e3913b74841cba49bf2b650e6abdd": {
      "model_module": "@jupyter-widgets/controls",
      "model_module_version": "2.0.0",
      "model_name": "FloatProgressModel",
      "state": {
       "bar_style": "success",
       "layout": "IPY_MODEL_6572c63983a0465eb6fb913dfa8c7feb",
       "max": 20,
       "style": "IPY_MODEL_1165d7da1092464cbdb5197028e76ae4",
       "value": 20
      }
     },
     "045ba4dfe1324b7fbf4b1ab5e7c51703": {
      "model_module": "@jupyter-widgets/controls",
      "model_module_version": "2.0.0",
      "model_name": "HTMLStyleModel",
      "state": {
       "description_width": "",
       "font_size": null,
       "text_color": null
      }
     },
     "049f093993d24e2285370972bc0b199d": {
      "model_module": "@jupyter-widgets/controls",
      "model_module_version": "2.0.0",
      "model_name": "HTMLStyleModel",
      "state": {
       "description_width": "",
       "font_size": null,
       "text_color": null
      }
     },
     "0567b7e48d2c4773a8f3129f0e956b56": {
      "model_module": "@jupyter-widgets/controls",
      "model_module_version": "2.0.0",
      "model_name": "HTMLModel",
      "state": {
       "layout": "IPY_MODEL_3fe2a7a5d75d40b397732b2bfa1a45b4",
       "style": "IPY_MODEL_049f093993d24e2285370972bc0b199d",
       "value": " 20/20 [01:49&lt;00:00,  6.03s/it]"
      }
     },
     "065e3abf578f4b11832a024faa67f5e8": {
      "model_module": "@jupyter-widgets/base",
      "model_module_version": "2.0.0",
      "model_name": "LayoutModel",
      "state": {
       "display": "inline-flex",
       "flex_flow": "row wrap",
       "width": "100%"
      }
     },
     "0695e5c8bfa2436d839af01afb80a969": {
      "model_module": "@jupyter-widgets/base",
      "model_module_version": "2.0.0",
      "model_name": "LayoutModel",
      "state": {
       "flex": "2"
      }
     },
     "06e8625894fe4693ae49e861b3f37395": {
      "model_module": "@jupyter-widgets/controls",
      "model_module_version": "2.0.0",
      "model_name": "FloatProgressModel",
      "state": {
       "bar_style": "success",
       "layout": "IPY_MODEL_4aa4a5542e7a4d7991b79d4f0ad619d8",
       "max": 20,
       "style": "IPY_MODEL_32b93d3121b448b4a8ea338d55ef9728",
       "value": 20
      }
     },
     "0772195c554f489cabee518699e95db4": {
      "model_module": "@jupyter-widgets/controls",
      "model_module_version": "2.0.0",
      "model_name": "HBoxModel",
      "state": {
       "children": [
        "IPY_MODEL_bde207b4aa2942caac386824443943cd",
        "IPY_MODEL_3b96ffb8a98b4070b4c0a8b93c0a6ba2",
        "IPY_MODEL_bb9ade1b06404c1184dcc38e70c9c6bd"
       ],
       "layout": "IPY_MODEL_ae6653a07edc4a74b4ed4dcf846afc0c"
      }
     },
     "0956e666996748b18f3d73db53d3deef": {
      "model_module": "@jupyter-widgets/base",
      "model_module_version": "2.0.0",
      "model_name": "LayoutModel",
      "state": {}
     },
     "096e4f72ed884c25b72f067ef37115e9": {
      "model_module": "@jupyter-widgets/controls",
      "model_module_version": "2.0.0",
      "model_name": "ProgressStyleModel",
      "state": {
       "description_width": ""
      }
     },
     "0a00ebe7d46f4d0aa3def0d0c449e263": {
      "model_module": "@jupyter-widgets/controls",
      "model_module_version": "2.0.0",
      "model_name": "FloatProgressModel",
      "state": {
       "bar_style": "success",
       "layout": "IPY_MODEL_33e7bbfd3857455eada4efd247e781bc",
       "max": 20,
       "style": "IPY_MODEL_fe10507b837b4df985660d297e73e001",
       "value": 20
      }
     },
     "0a0979668cea4660b6a52ec93cbb858c": {
      "model_module": "@jupyter-widgets/controls",
      "model_module_version": "2.0.0",
      "model_name": "HTMLStyleModel",
      "state": {
       "description_width": "",
       "font_size": null,
       "text_color": null
      }
     },
     "0a15ff0edfcd43a984b1f5237b1d862f": {
      "model_module": "@jupyter-widgets/base",
      "model_module_version": "2.0.0",
      "model_name": "LayoutModel",
      "state": {
       "flex": "2"
      }
     },
     "0a1a8b79459e4546972ecdf1997c5c57": {
      "model_module": "@jupyter-widgets/base",
      "model_module_version": "2.0.0",
      "model_name": "LayoutModel",
      "state": {}
     },
     "0a88249435f34862970698eea9e099ed": {
      "model_module": "@jupyter-widgets/controls",
      "model_module_version": "2.0.0",
      "model_name": "HTMLStyleModel",
      "state": {
       "description_width": "",
       "font_size": null,
       "text_color": null
      }
     },
     "0b1666447723461a91c35fa7505d1f70": {
      "model_module": "@jupyter-widgets/base",
      "model_module_version": "2.0.0",
      "model_name": "LayoutModel",
      "state": {}
     },
     "0b361fa5533b466eb2c8aa779e945f9a": {
      "model_module": "@jupyter-widgets/controls",
      "model_module_version": "2.0.0",
      "model_name": "HTMLModel",
      "state": {
       "layout": "IPY_MODEL_ca1918a8487a46d1b2f9904428c1334c",
       "style": "IPY_MODEL_d0e3f56aac0d4243a89ce44be11af890",
       "value": " 20/20 [01:52&lt;00:00,  6.32s/it]"
      }
     },
     "0b43f4a1bd7944f396919d61627c5c01": {
      "model_module": "@jupyter-widgets/controls",
      "model_module_version": "2.0.0",
      "model_name": "ProgressStyleModel",
      "state": {
       "description_width": ""
      }
     },
     "0c224f9f74b441f4a829523e31a3dd88": {
      "model_module": "@jupyter-widgets/controls",
      "model_module_version": "2.0.0",
      "model_name": "ProgressStyleModel",
      "state": {
       "description_width": ""
      }
     },
     "0c46e48dcd0a4e60a618c180c8a7cfec": {
      "model_module": "@jupyter-widgets/controls",
      "model_module_version": "2.0.0",
      "model_name": "FloatProgressModel",
      "state": {
       "bar_style": "success",
       "layout": "IPY_MODEL_780f659ddb8d4f93ba368cdf67f45932",
       "max": 20,
       "style": "IPY_MODEL_1b3d3c5a97064e8fb3b5edf8825cb651",
       "value": 20
      }
     },
     "0c683f77603545ce90b5b36c6de06f5a": {
      "model_module": "@jupyter-widgets/base",
      "model_module_version": "2.0.0",
      "model_name": "LayoutModel",
      "state": {}
     },
     "0deedb2201f94339840bd6c6cdcbef52": {
      "model_module": "@jupyter-widgets/controls",
      "model_module_version": "2.0.0",
      "model_name": "FloatProgressModel",
      "state": {
       "bar_style": "success",
       "layout": "IPY_MODEL_1b65689a7dc746118dedce85ec181e81",
       "max": 20,
       "style": "IPY_MODEL_6e3300e0294945b1a2268739d5aab16b",
       "value": 20
      }
     },
     "0e1aa2feabd847219e45e8d553bf3e22": {
      "model_module": "@jupyter-widgets/controls",
      "model_module_version": "2.0.0",
      "model_name": "HTMLStyleModel",
      "state": {
       "description_width": "",
       "font_size": null,
       "text_color": null
      }
     },
     "0ea2e7bc1e8f454baf6f574c8e7d5bc9": {
      "model_module": "@jupyter-widgets/base",
      "model_module_version": "2.0.0",
      "model_name": "LayoutModel",
      "state": {}
     },
     "0ed77563f0514a699ced56034c887970": {
      "model_module": "@jupyter-widgets/base",
      "model_module_version": "2.0.0",
      "model_name": "LayoutModel",
      "state": {
       "flex": "2"
      }
     },
     "0eeb9fe2e8c7416bb49e06df89354f43": {
      "model_module": "@jupyter-widgets/controls",
      "model_module_version": "2.0.0",
      "model_name": "HBoxModel",
      "state": {
       "children": [
        "IPY_MODEL_d459962fa1bd4811be0f8a467c85a660",
        "IPY_MODEL_996a78b5495c4e90a1e16819ae6379c3",
        "IPY_MODEL_0567b7e48d2c4773a8f3129f0e956b56"
       ],
       "layout": "IPY_MODEL_708fef7ab9cf4e619da80892d8696eb0"
      }
     },
     "0fd11269ed05416da51a21e00ceea9c1": {
      "model_module": "@jupyter-widgets/base",
      "model_module_version": "2.0.0",
      "model_name": "LayoutModel",
      "state": {}
     },
     "10ca30ff5e3a429fbcfe9e796e317b67": {
      "model_module": "@jupyter-widgets/controls",
      "model_module_version": "2.0.0",
      "model_name": "HTMLStyleModel",
      "state": {
       "description_width": "",
       "font_size": null,
       "text_color": null
      }
     },
     "11169fc8dc844aa49fd6ae6f69410305": {
      "model_module": "@jupyter-widgets/controls",
      "model_module_version": "2.0.0",
      "model_name": "FloatProgressModel",
      "state": {
       "bar_style": "success",
       "layout": "IPY_MODEL_142b65692723425e82a72f5303f994e0",
       "max": 20,
       "style": "IPY_MODEL_81b6aafbb7a144cf970bdcd11d8a270c",
       "value": 20
      }
     },
     "112a143a29404e37a793e5362f67ee06": {
      "model_module": "@jupyter-widgets/controls",
      "model_module_version": "2.0.0",
      "model_name": "ProgressStyleModel",
      "state": {
       "description_width": ""
      }
     },
     "1165d7da1092464cbdb5197028e76ae4": {
      "model_module": "@jupyter-widgets/controls",
      "model_module_version": "2.0.0",
      "model_name": "ProgressStyleModel",
      "state": {
       "description_width": ""
      }
     },
     "116e888fb63c4691a9b6f5732883ad41": {
      "model_module": "@jupyter-widgets/controls",
      "model_module_version": "2.0.0",
      "model_name": "HTMLStyleModel",
      "state": {
       "description_width": "",
       "font_size": null,
       "text_color": null
      }
     },
     "11ef1d9cfa534ddbb22d174693dabbda": {
      "model_module": "@jupyter-widgets/controls",
      "model_module_version": "2.0.0",
      "model_name": "HTMLModel",
      "state": {
       "layout": "IPY_MODEL_ef6c32f1f5044918af96ad7642cac8ee",
       "style": "IPY_MODEL_5d59c9501fe84fdb95498a4168190c0b",
       "value": " 20/20 [01:49&lt;00:00,  6.10s/it]"
      }
     },
     "124d5f01f0584464addca40e85433bd2": {
      "model_module": "@jupyter-widgets/controls",
      "model_module_version": "2.0.0",
      "model_name": "HTMLStyleModel",
      "state": {
       "description_width": "",
       "font_size": null,
       "text_color": null
      }
     },
     "126a1dc8a6e145ae8d255a9f8930133a": {
      "model_module": "@jupyter-widgets/controls",
      "model_module_version": "2.0.0",
      "model_name": "HTMLModel",
      "state": {
       "layout": "IPY_MODEL_c6e684960cbc4c7d94d937211430657a",
       "style": "IPY_MODEL_d5c79213a88d467297891bf2ea331322",
       "value": "Validate (100 Steps) (DiceMetric=0.19912): 100%"
      }
     },
     "131ee7c828bd43318c682db946230cdc": {
      "model_module": "@jupyter-widgets/base",
      "model_module_version": "2.0.0",
      "model_name": "LayoutModel",
      "state": {
       "display": "inline-flex",
       "flex_flow": "row wrap",
       "width": "100%"
      }
     },
     "135a180d264e44abaa17b6501b9951ad": {
      "model_module": "@jupyter-widgets/base",
      "model_module_version": "2.0.0",
      "model_name": "LayoutModel",
      "state": {}
     },
     "142b65692723425e82a72f5303f994e0": {
      "model_module": "@jupyter-widgets/base",
      "model_module_version": "2.0.0",
      "model_name": "LayoutModel",
      "state": {
       "flex": "2"
      }
     },
     "15149f59538c411580441605df16d2a4": {
      "model_module": "@jupyter-widgets/base",
      "model_module_version": "2.0.0",
      "model_name": "LayoutModel",
      "state": {}
     },
     "15ee0422f56749f2bb20c9129d08bb81": {
      "model_module": "@jupyter-widgets/base",
      "model_module_version": "2.0.0",
      "model_name": "LayoutModel",
      "state": {
       "display": "inline-flex",
       "flex_flow": "row wrap",
       "width": "100%"
      }
     },
     "160042d4b2e7447eb10dac64142c8464": {
      "model_module": "@jupyter-widgets/base",
      "model_module_version": "2.0.0",
      "model_name": "LayoutModel",
      "state": {}
     },
     "165fa1917bd24d909cacc60aeac5661d": {
      "model_module": "@jupyter-widgets/base",
      "model_module_version": "2.0.0",
      "model_name": "LayoutModel",
      "state": {
       "display": "inline-flex",
       "flex_flow": "row wrap",
       "width": "100%"
      }
     },
     "16adb90995084157ad2051f6b9fa980c": {
      "model_module": "@jupyter-widgets/controls",
      "model_module_version": "2.0.0",
      "model_name": "HTMLModel",
      "state": {
       "layout": "IPY_MODEL_9ec5abe7441e46848cbbfe350e2e52be",
       "style": "IPY_MODEL_90a099711bde454aa2eb2dc5ed162603",
       "value": "Validate (3900 Steps) (DiceMetric=0.47247): 100%"
      }
     },
     "16afa0a732c94a4dba052684b70d7ae5": {
      "model_module": "@jupyter-widgets/base",
      "model_module_version": "2.0.0",
      "model_name": "LayoutModel",
      "state": {
       "flex": "2"
      }
     },
     "1772f95046ce478f8a955ec729601d6e": {
      "model_module": "@jupyter-widgets/base",
      "model_module_version": "2.0.0",
      "model_name": "LayoutModel",
      "state": {
       "flex": "2"
      }
     },
     "1821776a0a774ab7acf031623b423cac": {
      "model_module": "@jupyter-widgets/controls",
      "model_module_version": "2.0.0",
      "model_name": "FloatProgressModel",
      "state": {
       "bar_style": "success",
       "layout": "IPY_MODEL_9a8da7cd8e774ac1a5fccbda897ab93e",
       "max": 20,
       "style": "IPY_MODEL_eff4e8a47c7f47ccbad40684390ed8b9",
       "value": 20
      }
     },
     "18efc39154a24c0486d322af973e1a3d": {
      "model_module": "@jupyter-widgets/base",
      "model_module_version": "2.0.0",
      "model_name": "LayoutModel",
      "state": {}
     },
     "1931d6e30e1e4d6f910a5a857c134287": {
      "model_module": "@jupyter-widgets/controls",
      "model_module_version": "2.0.0",
      "model_name": "HTMLStyleModel",
      "state": {
       "description_width": "",
       "font_size": null,
       "text_color": null
      }
     },
     "19596d47bce14eaf9a89c9eb17f14aca": {
      "model_module": "@jupyter-widgets/base",
      "model_module_version": "2.0.0",
      "model_name": "LayoutModel",
      "state": {}
     },
     "19d75a494812451f9836f4291099e68c": {
      "model_module": "@jupyter-widgets/controls",
      "model_module_version": "2.0.0",
      "model_name": "HTMLModel",
      "state": {
       "layout": "IPY_MODEL_250a5ced6ad94fc2854845b1d2bca436",
       "style": "IPY_MODEL_22a07f4fdb5b4c6db686324196b35e4c",
       "value": " 20/20 [01:52&lt;00:00,  6.28s/it]"
      }
     },
     "1a37853f56c74be69ff46b82655c3033": {
      "model_module": "@jupyter-widgets/base",
      "model_module_version": "2.0.0",
      "model_name": "LayoutModel",
      "state": {
       "flex": "2"
      }
     },
     "1a3c7e4557de4c0d9903e8108825229d": {
      "model_module": "@jupyter-widgets/controls",
      "model_module_version": "2.0.0",
      "model_name": "HTMLModel",
      "state": {
       "layout": "IPY_MODEL_63f0df65d1b3430386805d8b8de63b1d",
       "style": "IPY_MODEL_4967285e19e84857b89019d93b898ffb",
       "value": "Validate (500 Steps) (DiceMetric=0.19912): 100%"
      }
     },
     "1a3d62bf2cbe4999a0ece14c5886ffc1": {
      "model_module": "@jupyter-widgets/controls",
      "model_module_version": "2.0.0",
      "model_name": "ProgressStyleModel",
      "state": {
       "description_width": ""
      }
     },
     "1a9fb0938fe94bfcb478918943b580fd": {
      "model_module": "@jupyter-widgets/controls",
      "model_module_version": "2.0.0",
      "model_name": "HTMLModel",
      "state": {
       "layout": "IPY_MODEL_4bab514befdd48fa9ccd4ee6a901e403",
       "style": "IPY_MODEL_93fec8342a8f4855b273d0c655855539",
       "value": " 20/20 [01:51&lt;00:00,  6.35s/it]"
      }
     },
     "1ab7c35a1955476dba8aa25ad05f83b8": {
      "model_module": "@jupyter-widgets/base",
      "model_module_version": "2.0.0",
      "model_name": "LayoutModel",
      "state": {
       "display": "inline-flex",
       "flex_flow": "row wrap",
       "width": "100%"
      }
     },
     "1acb086db2a44b53aad0abbcc8829060": {
      "model_module": "@jupyter-widgets/base",
      "model_module_version": "2.0.0",
      "model_name": "LayoutModel",
      "state": {
       "flex": "2"
      }
     },
     "1af464baf9df43e2ad475c81c59e4aaa": {
      "model_module": "@jupyter-widgets/controls",
      "model_module_version": "2.0.0",
      "model_name": "HTMLModel",
      "state": {
       "layout": "IPY_MODEL_4ad3e66fa1ce4dc2bc38b1b4be94dfe7",
       "style": "IPY_MODEL_e5cde9c17c2544f485d87afb94f31d45",
       "value": " 20/20 [01:50&lt;00:00,  6.08s/it]"
      }
     },
     "1b1a6c5c05f947a4bb025b9fe47ab7bb": {
      "model_module": "@jupyter-widgets/base",
      "model_module_version": "2.0.0",
      "model_name": "LayoutModel",
      "state": {}
     },
     "1b3d3c5a97064e8fb3b5edf8825cb651": {
      "model_module": "@jupyter-widgets/controls",
      "model_module_version": "2.0.0",
      "model_name": "ProgressStyleModel",
      "state": {
       "description_width": ""
      }
     },
     "1b456f5f8aaf47d19771bcb6c94954f1": {
      "model_module": "@jupyter-widgets/base",
      "model_module_version": "2.0.0",
      "model_name": "LayoutModel",
      "state": {
       "display": "inline-flex",
       "flex_flow": "row wrap",
       "width": "100%"
      }
     },
     "1b65689a7dc746118dedce85ec181e81": {
      "model_module": "@jupyter-widgets/base",
      "model_module_version": "2.0.0",
      "model_name": "LayoutModel",
      "state": {
       "flex": "2"
      }
     },
     "1bc44ad28ee241e6b8d22ed0a3ed80b1": {
      "model_module": "@jupyter-widgets/controls",
      "model_module_version": "2.0.0",
      "model_name": "HTMLStyleModel",
      "state": {
       "description_width": "",
       "font_size": null,
       "text_color": null
      }
     },
     "1bc6012360b948e7865cad8e91f63195": {
      "model_module": "@jupyter-widgets/controls",
      "model_module_version": "2.0.0",
      "model_name": "ProgressStyleModel",
      "state": {
       "description_width": ""
      }
     },
     "1bf601c4f4644eb1a7c93220d82b6bb8": {
      "model_module": "@jupyter-widgets/controls",
      "model_module_version": "2.0.0",
      "model_name": "HTMLModel",
      "state": {
       "layout": "IPY_MODEL_516c62c7145446dd9a546342b9fe206a",
       "style": "IPY_MODEL_c957ea19c5144bed8b5168214c700d7a",
       "value": " 20/20 [01:59&lt;00:00,  6.56s/it]"
      }
     },
     "1c175d0c11e8495d8da36836b290a7f7": {
      "model_module": "@jupyter-widgets/controls",
      "model_module_version": "2.0.0",
      "model_name": "FloatProgressModel",
      "state": {
       "bar_style": "success",
       "layout": "IPY_MODEL_16afa0a732c94a4dba052684b70d7ae5",
       "max": 20,
       "style": "IPY_MODEL_b60b5c73144343d9a9ae45141634c3e2",
       "value": 20
      }
     },
     "1cc7955ca20840a5bff00cf139f161eb": {
      "model_module": "@jupyter-widgets/controls",
      "model_module_version": "2.0.0",
      "model_name": "HTMLModel",
      "state": {
       "layout": "IPY_MODEL_375d1c6344eb45dd9edcfbf8b8c35c1f",
       "style": "IPY_MODEL_10ca30ff5e3a429fbcfe9e796e317b67",
       "value": " 20/20 [01:57&lt;00:00,  6.64s/it]"
      }
     },
     "1cd298e66cad4927a9d7b7168af02cdd": {
      "model_module": "@jupyter-widgets/base",
      "model_module_version": "2.0.0",
      "model_name": "LayoutModel",
      "state": {}
     },
     "1cf9b511e8004e7da1fe99ef4c051eff": {
      "model_module": "@jupyter-widgets/controls",
      "model_module_version": "2.0.0",
      "model_name": "HBoxModel",
      "state": {
       "children": [
        "IPY_MODEL_7b4f9ce3d4d7457bbee48a267edbff8f",
        "IPY_MODEL_3ce3db21a3d249d8a85bdc5997aa37cc",
        "IPY_MODEL_38b05fce247e4e64a4046747457bcd68"
       ],
       "layout": "IPY_MODEL_ac9c8054e82b4d389219ad5caad463f9"
      }
     },
     "1d4b5de4a7534cbb96f16a95923fa167": {
      "model_module": "@jupyter-widgets/controls",
      "model_module_version": "2.0.0",
      "model_name": "HTMLModel",
      "state": {
       "layout": "IPY_MODEL_f1745351071b4109afe5d29bcc1d0988",
       "style": "IPY_MODEL_7f7925c271b94671a169dfdfbd0c2ddb",
       "value": "Validate (6100 Steps) (DiceMetric=0.66005): 100%"
      }
     },
     "1de49ca26f1d4f1b9008ab4291e20a7a": {
      "model_module": "@jupyter-widgets/controls",
      "model_module_version": "2.0.0",
      "model_name": "HTMLStyleModel",
      "state": {
       "description_width": "",
       "font_size": null,
       "text_color": null
      }
     },
     "1e59e071b7cb4fb7a5a359cf127849db": {
      "model_module": "@jupyter-widgets/controls",
      "model_module_version": "2.0.0",
      "model_name": "HTMLStyleModel",
      "state": {
       "description_width": "",
       "font_size": null,
       "text_color": null
      }
     },
     "1ec7a515bed44a92aec33acd9792cdea": {
      "model_module": "@jupyter-widgets/controls",
      "model_module_version": "2.0.0",
      "model_name": "HBoxModel",
      "state": {
       "children": [
        "IPY_MODEL_a6d5cac278f34a84b6ab392ee4d51c2f",
        "IPY_MODEL_ca0e7e5ccaea4e1a84cc534ed39bf576",
        "IPY_MODEL_d0537ecb03f44d2f9c23ce1b1ede1d3e"
       ],
       "layout": "IPY_MODEL_edba92ef5f6740cbb8a75b45af7d5d7f"
      }
     },
     "1ec7de2083c04cb982b874df424c47c0": {
      "model_module": "@jupyter-widgets/controls",
      "model_module_version": "2.0.0",
      "model_name": "HTMLStyleModel",
      "state": {
       "description_width": "",
       "font_size": null,
       "text_color": null
      }
     },
     "1ee270672e154326bc0c5ae979acc763": {
      "model_module": "@jupyter-widgets/controls",
      "model_module_version": "2.0.0",
      "model_name": "ProgressStyleModel",
      "state": {
       "description_width": ""
      }
     },
     "1f2a9e85fea04fceaf94b61bbb9f75aa": {
      "model_module": "@jupyter-widgets/base",
      "model_module_version": "2.0.0",
      "model_name": "LayoutModel",
      "state": {}
     },
     "1f2b2c59063c44f0b9d00afd18673109": {
      "model_module": "@jupyter-widgets/controls",
      "model_module_version": "2.0.0",
      "model_name": "HTMLStyleModel",
      "state": {
       "description_width": "",
       "font_size": null,
       "text_color": null
      }
     },
     "1f9e25c419fe45f38f2b1499598a1bf4": {
      "model_module": "@jupyter-widgets/controls",
      "model_module_version": "2.0.0",
      "model_name": "HTMLStyleModel",
      "state": {
       "description_width": "",
       "font_size": null,
       "text_color": null
      }
     },
     "1fa3fd1dcc7f46d0bbf42331ad3f4364": {
      "model_module": "@jupyter-widgets/controls",
      "model_module_version": "2.0.0",
      "model_name": "FloatProgressModel",
      "state": {
       "layout": "IPY_MODEL_2fbbccbb52254319908612d9537d840c",
       "max": 10000,
       "style": "IPY_MODEL_80291d722e71447595b2ec1e399ea1ee",
       "value": 6999
      }
     },
     "207a253480ce41d89dc58ab28501a824": {
      "model_module": "@jupyter-widgets/base",
      "model_module_version": "2.0.0",
      "model_name": "LayoutModel",
      "state": {}
     },
     "21d14638c8e04005a3487c2b809c21df": {
      "model_module": "@jupyter-widgets/controls",
      "model_module_version": "2.0.0",
      "model_name": "FloatProgressModel",
      "state": {
       "bar_style": "success",
       "layout": "IPY_MODEL_59f9bae227184b87b13f43337390a088",
       "max": 20,
       "style": "IPY_MODEL_112a143a29404e37a793e5362f67ee06",
       "value": 20
      }
     },
     "222d97deb3f04e6abc343c3612def4d8": {
      "model_module": "@jupyter-widgets/controls",
      "model_module_version": "2.0.0",
      "model_name": "HBoxModel",
      "state": {
       "children": [
        "IPY_MODEL_92059c38f7254aaba025d061d0229048",
        "IPY_MODEL_23eb85506e7c4508a26090774a0c7625",
        "IPY_MODEL_6d054b3722bb4d0d9dd8ea7a1b778abd"
       ],
       "layout": "IPY_MODEL_af515bf2f8624e4e9c0f24d1b44338f8"
      }
     },
     "2249bc76501b482ca3e6ec4032550ce0": {
      "model_module": "@jupyter-widgets/controls",
      "model_module_version": "2.0.0",
      "model_name": "HTMLStyleModel",
      "state": {
       "description_width": "",
       "font_size": null,
       "text_color": null
      }
     },
     "224ac111d28a47f69462f0e8c1b49a1c": {
      "model_module": "@jupyter-widgets/base",
      "model_module_version": "2.0.0",
      "model_name": "LayoutModel",
      "state": {
       "display": "inline-flex",
       "flex_flow": "row wrap",
       "width": "100%"
      }
     },
     "22a07f4fdb5b4c6db686324196b35e4c": {
      "model_module": "@jupyter-widgets/controls",
      "model_module_version": "2.0.0",
      "model_name": "HTMLStyleModel",
      "state": {
       "description_width": "",
       "font_size": null,
       "text_color": null
      }
     },
     "23583680d80049299aed1a217a53e2cd": {
      "model_module": "@jupyter-widgets/base",
      "model_module_version": "2.0.0",
      "model_name": "LayoutModel",
      "state": {}
     },
     "23d42d76577c44d9a59b520c7414f4d6": {
      "model_module": "@jupyter-widgets/controls",
      "model_module_version": "2.0.0",
      "model_name": "HTMLStyleModel",
      "state": {
       "description_width": "",
       "font_size": null,
       "text_color": null
      }
     },
     "23eb85506e7c4508a26090774a0c7625": {
      "model_module": "@jupyter-widgets/controls",
      "model_module_version": "2.0.0",
      "model_name": "FloatProgressModel",
      "state": {
       "bar_style": "success",
       "layout": "IPY_MODEL_c060e5eefba84b6281b66c340b1f5b0e",
       "max": 20,
       "style": "IPY_MODEL_761434a95d734fa0ad4164cb89465a9e",
       "value": 20
      }
     },
     "24235cc22bd346158338ecba0c99cdcd": {
      "model_module": "@jupyter-widgets/base",
      "model_module_version": "2.0.0",
      "model_name": "LayoutModel",
      "state": {}
     },
     "245d719861e7494a8f142abcf01d5ec6": {
      "model_module": "@jupyter-widgets/controls",
      "model_module_version": "2.0.0",
      "model_name": "HBoxModel",
      "state": {
       "children": [
        "IPY_MODEL_e19f10d95c464133ab1c666d7ea40939",
        "IPY_MODEL_a12b670db2464dfbafeb9c8cb0657e63",
        "IPY_MODEL_c5069b87c88f452cb8d4d7c6f71b3fc3"
       ],
       "layout": "IPY_MODEL_7fd6bbf67b7a408bbb469925ec2c8106"
      }
     },
     "24ea6ee5473c47cab62233335a47f2b0": {
      "model_module": "@jupyter-widgets/controls",
      "model_module_version": "2.0.0",
      "model_name": "HTMLModel",
      "state": {
       "layout": "IPY_MODEL_7f33d14212234a79bd3ccdc59e6245cf",
       "style": "IPY_MODEL_045ba4dfe1324b7fbf4b1ab5e7c51703",
       "value": " 20/20 [01:50&lt;00:00,  6.16s/it]"
      }
     },
     "250a5ced6ad94fc2854845b1d2bca436": {
      "model_module": "@jupyter-widgets/base",
      "model_module_version": "2.0.0",
      "model_name": "LayoutModel",
      "state": {}
     },
     "25570f064952438aa834b98ba0a88483": {
      "model_module": "@jupyter-widgets/base",
      "model_module_version": "2.0.0",
      "model_name": "LayoutModel",
      "state": {
       "display": "inline-flex",
       "flex_flow": "row wrap",
       "width": "100%"
      }
     },
     "25e2157f753b4613934b6ac03714fb25": {
      "model_module": "@jupyter-widgets/base",
      "model_module_version": "2.0.0",
      "model_name": "LayoutModel",
      "state": {
       "flex": "2"
      }
     },
     "26c40f7bdfd340c08a62968761b78ea9": {
      "model_module": "@jupyter-widgets/controls",
      "model_module_version": "2.0.0",
      "model_name": "HBoxModel",
      "state": {
       "children": [
        "IPY_MODEL_62493ca3b34a470c9d2f994715c17c5b",
        "IPY_MODEL_a5b51451ae924460b6a6b516a09b3854",
        "IPY_MODEL_5bd1dc424e79447bb4a374efc3549642"
       ],
       "layout": "IPY_MODEL_1ab7c35a1955476dba8aa25ad05f83b8"
      }
     },
     "2724d70a1a2542619dc1eeb931befcef": {
      "model_module": "@jupyter-widgets/controls",
      "model_module_version": "2.0.0",
      "model_name": "HTMLModel",
      "state": {
       "layout": "IPY_MODEL_18efc39154a24c0486d322af973e1a3d",
       "style": "IPY_MODEL_7c02afa05615495f948a358f48d9d6f0",
       "value": " 20/20 [01:55&lt;00:00,  6.42s/it]"
      }
     },
     "27ce7daaa9f64beaa216d74ba1e27977": {
      "model_module": "@jupyter-widgets/controls",
      "model_module_version": "2.0.0",
      "model_name": "HTMLModel",
      "state": {
       "layout": "IPY_MODEL_78630fb723ab475898c6abfe78498ebf",
       "style": "IPY_MODEL_e11630fb3dd947e9bca4f1ac8964935f",
       "value": " 20/20 [01:50&lt;00:00,  6.19s/it]"
      }
     },
     "27ecac95ec9a4acfb340616c73daec7c": {
      "model_module": "@jupyter-widgets/controls",
      "model_module_version": "2.0.0",
      "model_name": "HTMLModel",
      "state": {
       "layout": "IPY_MODEL_a5d1604d40bf4ca6a2ee5f9fdafaf5d7",
       "style": "IPY_MODEL_eab6d69f70904ab895e376047f299a19",
       "value": " 20/20 [01:49&lt;00:00,  6.15s/it]"
      }
     },
     "283aa60ac6224d919b0b742b08e1dfda": {
      "model_module": "@jupyter-widgets/controls",
      "model_module_version": "2.0.0",
      "model_name": "HTMLModel",
      "state": {
       "layout": "IPY_MODEL_6c73800b2f784a47a0723c5e579c4c8b",
       "style": "IPY_MODEL_4e40531832d4478ebd9ec6ffd7416dad",
       "value": "Validate (2500 Steps) (DiceMetric=0.40900): 100%"
      }
     },
     "292d9d744fcf4b95a832424fb62d719a": {
      "model_module": "@jupyter-widgets/controls",
      "model_module_version": "2.0.0",
      "model_name": "HBoxModel",
      "state": {
       "children": [
        "IPY_MODEL_3ed8cfcb44484b5b9da0d8c41b6bc317",
        "IPY_MODEL_e48a32b4b73d402e841c1a0cdf8b8e76",
        "IPY_MODEL_27ecac95ec9a4acfb340616c73daec7c"
       ],
       "layout": "IPY_MODEL_b89ba941d44341999927cd2772a49f6b"
      }
     },
     "2a251be1c6d8422eb087e6be9b6d1816": {
      "model_module": "@jupyter-widgets/controls",
      "model_module_version": "2.0.0",
      "model_name": "FloatProgressModel",
      "state": {
       "bar_style": "success",
       "layout": "IPY_MODEL_b502432e04574266a49ed2da7b33e54b",
       "max": 20,
       "style": "IPY_MODEL_33600932756b40288b585db7ccbf66c4",
       "value": 20
      }
     },
     "2adc985eb3dc4c858fb0bb80c1faaf76": {
      "model_module": "@jupyter-widgets/controls",
      "model_module_version": "2.0.0",
      "model_name": "FloatProgressModel",
      "state": {
       "bar_style": "success",
       "layout": "IPY_MODEL_c712152430c1463f95fc8b022fd0a008",
       "max": 20,
       "style": "IPY_MODEL_0c224f9f74b441f4a829523e31a3dd88",
       "value": 20
      }
     },
     "2b113a43b22e4f5399ee94e2280cd65c": {
      "model_module": "@jupyter-widgets/controls",
      "model_module_version": "2.0.0",
      "model_name": "HBoxModel",
      "state": {
       "children": [
        "IPY_MODEL_2b402795105f4a2cb8d3640a3a652966",
        "IPY_MODEL_6a0c3c99d9b347049c22ba91cf3c002f",
        "IPY_MODEL_2cdf327397d342599a3003017200fe25"
       ],
       "layout": "IPY_MODEL_ea821d821f4a4b93b69483650978fde7"
      }
     },
     "2b402795105f4a2cb8d3640a3a652966": {
      "model_module": "@jupyter-widgets/controls",
      "model_module_version": "2.0.0",
      "model_name": "HTMLModel",
      "state": {
       "layout": "IPY_MODEL_3877b65519ea4dbe8e9362a771d5be6d",
       "style": "IPY_MODEL_f408a028d4fc4c948746846b5d0edb3b",
       "value": "Validate (5100 Steps) (DiceMetric=0.51877): 100%"
      }
     },
     "2b40e7628a3b452b8335e14e5f295e66": {
      "model_module": "@jupyter-widgets/controls",
      "model_module_version": "2.0.0",
      "model_name": "HTMLStyleModel",
      "state": {
       "description_width": "",
       "font_size": null,
       "text_color": null
      }
     },
     "2b74f8b68e0848979921cfa5db7a4f31": {
      "model_module": "@jupyter-widgets/controls",
      "model_module_version": "2.0.0",
      "model_name": "HTMLStyleModel",
      "state": {
       "description_width": "",
       "font_size": null,
       "text_color": null
      }
     },
     "2bb09a855cbf4186a1daf6df5107cd87": {
      "model_module": "@jupyter-widgets/controls",
      "model_module_version": "2.0.0",
      "model_name": "HTMLStyleModel",
      "state": {
       "description_width": "",
       "font_size": null,
       "text_color": null
      }
     },
     "2bb78f4bfcdc42528a13c68ad5766862": {
      "model_module": "@jupyter-widgets/base",
      "model_module_version": "2.0.0",
      "model_name": "LayoutModel",
      "state": {}
     },
     "2bbcaf6deae84a2e98a8c9825e6e4588": {
      "model_module": "@jupyter-widgets/controls",
      "model_module_version": "2.0.0",
      "model_name": "HTMLStyleModel",
      "state": {
       "description_width": "",
       "font_size": null,
       "text_color": null
      }
     },
     "2c06c4b5f07b4cfea98421d3bf20dc7b": {
      "model_module": "@jupyter-widgets/base",
      "model_module_version": "2.0.0",
      "model_name": "LayoutModel",
      "state": {
       "display": "inline-flex",
       "flex_flow": "row wrap",
       "width": "100%"
      }
     },
     "2cb9bf7d08724ac2b1397794f3721813": {
      "model_module": "@jupyter-widgets/base",
      "model_module_version": "2.0.0",
      "model_name": "LayoutModel",
      "state": {
       "flex": "2"
      }
     },
     "2cdf327397d342599a3003017200fe25": {
      "model_module": "@jupyter-widgets/controls",
      "model_module_version": "2.0.0",
      "model_name": "HTMLModel",
      "state": {
       "layout": "IPY_MODEL_801ddea6d5ea4097bedd3fd5692a3468",
       "style": "IPY_MODEL_eec6adf4007f461da689d08471d637be",
       "value": " 20/20 [01:58&lt;00:00,  6.70s/it]"
      }
     },
     "2cf7072a15414f318524f252e7d5dac3": {
      "model_module": "@jupyter-widgets/base",
      "model_module_version": "2.0.0",
      "model_name": "LayoutModel",
      "state": {}
     },
     "2d562365c7fa42dba31cbe286c28c2e0": {
      "model_module": "@jupyter-widgets/controls",
      "model_module_version": "2.0.0",
      "model_name": "HBoxModel",
      "state": {
       "children": [
        "IPY_MODEL_e321be2e8f2941ffb558063f95177c97",
        "IPY_MODEL_ecca002e4e6946d0918248c045ba92d4",
        "IPY_MODEL_19d75a494812451f9836f4291099e68c"
       ],
       "layout": "IPY_MODEL_e74c1c55f8ca41bcacc64d506735098b"
      }
     },
     "2d5c67ea0fba483185a3231d2579e852": {
      "model_module": "@jupyter-widgets/controls",
      "model_module_version": "2.0.0",
      "model_name": "ProgressStyleModel",
      "state": {
       "description_width": ""
      }
     },
     "2dac5268968a4f438668a1e3ccd506c9": {
      "model_module": "@jupyter-widgets/base",
      "model_module_version": "2.0.0",
      "model_name": "LayoutModel",
      "state": {}
     },
     "2e434552e991433a9d77ee245259dea2": {
      "model_module": "@jupyter-widgets/controls",
      "model_module_version": "2.0.0",
      "model_name": "HTMLModel",
      "state": {
       "layout": "IPY_MODEL_207a253480ce41d89dc58ab28501a824",
       "style": "IPY_MODEL_434fffa852f547489a3a417ba60b06af",
       "value": " 20/20 [01:51&lt;00:00,  6.21s/it]"
      }
     },
     "2e62347f666a4f91bdea04623d719bb3": {
      "model_module": "@jupyter-widgets/controls",
      "model_module_version": "2.0.0",
      "model_name": "ProgressStyleModel",
      "state": {
       "description_width": ""
      }
     },
     "2ec523651ebb493184fe2a5a87a29afd": {
      "model_module": "@jupyter-widgets/base",
      "model_module_version": "2.0.0",
      "model_name": "LayoutModel",
      "state": {
       "display": "inline-flex",
       "flex_flow": "row wrap",
       "width": "100%"
      }
     },
     "2ee6434a6538489d82c3caac480dd7c0": {
      "model_module": "@jupyter-widgets/controls",
      "model_module_version": "2.0.0",
      "model_name": "HTMLStyleModel",
      "state": {
       "description_width": "",
       "font_size": null,
       "text_color": null
      }
     },
     "2f6ef793241d4ca49712dc538b22987d": {
      "model_module": "@jupyter-widgets/base",
      "model_module_version": "2.0.0",
      "model_name": "LayoutModel",
      "state": {}
     },
     "2f9663e3f7dc4a2c9d42e5dd90e13736": {
      "model_module": "@jupyter-widgets/base",
      "model_module_version": "2.0.0",
      "model_name": "LayoutModel",
      "state": {
       "flex": "2"
      }
     },
     "2fba24166e3f434f87341b669b77e80f": {
      "model_module": "@jupyter-widgets/base",
      "model_module_version": "2.0.0",
      "model_name": "LayoutModel",
      "state": {}
     },
     "2fbbccbb52254319908612d9537d840c": {
      "model_module": "@jupyter-widgets/base",
      "model_module_version": "2.0.0",
      "model_name": "LayoutModel",
      "state": {
       "flex": "2"
      }
     },
     "3025d57a4a8843faac8b4aa887493ebf": {
      "model_module": "@jupyter-widgets/base",
      "model_module_version": "2.0.0",
      "model_name": "LayoutModel",
      "state": {}
     },
     "3060f94affcf4314b665be16bf86ec7b": {
      "model_module": "@jupyter-widgets/controls",
      "model_module_version": "2.0.0",
      "model_name": "ProgressStyleModel",
      "state": {
       "description_width": ""
      }
     },
     "3063814250904e29a1d537e195f937d6": {
      "model_module": "@jupyter-widgets/controls",
      "model_module_version": "2.0.0",
      "model_name": "FloatProgressModel",
      "state": {
       "bar_style": "success",
       "layout": "IPY_MODEL_ed90ba0d95e04c90a1aba7a277584837",
       "max": 20,
       "style": "IPY_MODEL_57f839761f294d7fada8c060b3e04e27",
       "value": 20
      }
     },
     "3198574267bf48ecab4a4a529eaa13af": {
      "model_module": "@jupyter-widgets/base",
      "model_module_version": "2.0.0",
      "model_name": "LayoutModel",
      "state": {}
     },
     "31abb361a2334a1793c8fa9948fe1b68": {
      "model_module": "@jupyter-widgets/controls",
      "model_module_version": "2.0.0",
      "model_name": "HBoxModel",
      "state": {
       "children": [
        "IPY_MODEL_b5d30c9e1b1549579f58bec34173ba0d",
        "IPY_MODEL_2adc985eb3dc4c858fb0bb80c1faaf76",
        "IPY_MODEL_d6c4de6a00824f798176cddffa9a6431"
       ],
       "layout": "IPY_MODEL_aead2ee9e5744be2ab13ba850561ad63"
      }
     },
     "3223e68a2e3045ae85bc2fd5f378f427": {
      "model_module": "@jupyter-widgets/controls",
      "model_module_version": "2.0.0",
      "model_name": "FloatProgressModel",
      "state": {
       "bar_style": "success",
       "layout": "IPY_MODEL_2cb9bf7d08724ac2b1397794f3721813",
       "max": 20,
       "style": "IPY_MODEL_98279973c46542f9932e028bb900f93d",
       "value": 20
      }
     },
     "32728d05b0334a6d97681c812d4e6409": {
      "model_module": "@jupyter-widgets/controls",
      "model_module_version": "2.0.0",
      "model_name": "ProgressStyleModel",
      "state": {
       "description_width": ""
      }
     },
     "32b93d3121b448b4a8ea338d55ef9728": {
      "model_module": "@jupyter-widgets/controls",
      "model_module_version": "2.0.0",
      "model_name": "ProgressStyleModel",
      "state": {
       "description_width": ""
      }
     },
     "32daa2ec73734c85a28bf817f3372843": {
      "model_module": "@jupyter-widgets/base",
      "model_module_version": "2.0.0",
      "model_name": "LayoutModel",
      "state": {}
     },
     "33600932756b40288b585db7ccbf66c4": {
      "model_module": "@jupyter-widgets/controls",
      "model_module_version": "2.0.0",
      "model_name": "ProgressStyleModel",
      "state": {
       "description_width": ""
      }
     },
     "33e7bbfd3857455eada4efd247e781bc": {
      "model_module": "@jupyter-widgets/base",
      "model_module_version": "2.0.0",
      "model_name": "LayoutModel",
      "state": {
       "flex": "2"
      }
     },
     "34042dd813e3436591e443699dd7c39a": {
      "model_module": "@jupyter-widgets/controls",
      "model_module_version": "2.0.0",
      "model_name": "HTMLStyleModel",
      "state": {
       "description_width": "",
       "font_size": null,
       "text_color": null
      }
     },
     "3410b3ff01644427a39b32aa60d06a19": {
      "model_module": "@jupyter-widgets/controls",
      "model_module_version": "2.0.0",
      "model_name": "HTMLStyleModel",
      "state": {
       "description_width": "",
       "font_size": null,
       "text_color": null
      }
     },
     "341650bc33b74fbf8a2724e283b463df": {
      "model_module": "@jupyter-widgets/controls",
      "model_module_version": "2.0.0",
      "model_name": "HBoxModel",
      "state": {
       "children": [
        "IPY_MODEL_59a7110af3914866a1a4917c0c655ec9",
        "IPY_MODEL_06e8625894fe4693ae49e861b3f37395",
        "IPY_MODEL_ae948018ea9541e18206696ab2356fb8"
       ],
       "layout": "IPY_MODEL_5ddb7a7f433942db9a997d10e8304adf"
      }
     },
     "347cc943265b4a4292de5413bc465ee4": {
      "model_module": "@jupyter-widgets/controls",
      "model_module_version": "2.0.0",
      "model_name": "HTMLModel",
      "state": {
       "layout": "IPY_MODEL_42dca27014f349b5a2ca4861ba2584bf",
       "style": "IPY_MODEL_f656f157fd85428f9e26d800d2e614a2",
       "value": " 10/20 [00:55&lt;00:53,  5.39s/it]"
      }
     },
     "34c866cead9e4e0bac8164c291f61b43": {
      "model_module": "@jupyter-widgets/controls",
      "model_module_version": "2.0.0",
      "model_name": "HTMLModel",
      "state": {
       "layout": "IPY_MODEL_70d8d65855ef4d7888f8f650a6e3d9b7",
       "style": "IPY_MODEL_d10896977f794d1d87afd19e7360eff2",
       "value": " 20/20 [01:49&lt;00:00,  6.16s/it]"
      }
     },
     "351b4721ddd1452ead894a43b807e4ed": {
      "model_module": "@jupyter-widgets/controls",
      "model_module_version": "2.0.0",
      "model_name": "ProgressStyleModel",
      "state": {
       "description_width": ""
      }
     },
     "3611070a80154269b0e2c927a146cb88": {
      "model_module": "@jupyter-widgets/controls",
      "model_module_version": "2.0.0",
      "model_name": "HBoxModel",
      "state": {
       "children": [
        "IPY_MODEL_ea95e92d4a2644b1bb2ebb55598abde5",
        "IPY_MODEL_40f112b325234810b4192efaccdae973",
        "IPY_MODEL_e635c33f005842f7847e4b6922ccf327"
       ],
       "layout": "IPY_MODEL_95f8af9d75264872835c95943049fa59"
      }
     },
     "362a3209eea44e5f8293a9b78e1edb9d": {
      "model_module": "@jupyter-widgets/base",
      "model_module_version": "2.0.0",
      "model_name": "LayoutModel",
      "state": {}
     },
     "366f123af23444c1a570bbe83a6d6631": {
      "model_module": "@jupyter-widgets/controls",
      "model_module_version": "2.0.0",
      "model_name": "HTMLStyleModel",
      "state": {
       "description_width": "",
       "font_size": null,
       "text_color": null
      }
     },
     "36ee5c78c8f64ad889faee81424ada64": {
      "model_module": "@jupyter-widgets/controls",
      "model_module_version": "2.0.0",
      "model_name": "HBoxModel",
      "state": {
       "children": [
        "IPY_MODEL_3e73381d9f3244139ae3d0d9d02335be",
        "IPY_MODEL_1821776a0a774ab7acf031623b423cac",
        "IPY_MODEL_abde2f08b7ba48e6b8dd95058e3464e4"
       ],
       "layout": "IPY_MODEL_fbcb6a5befa24aaa902d363275f9d9d5"
      }
     },
     "370bd95ca56c42de8a0313f3fac58cd2": {
      "model_module": "@jupyter-widgets/controls",
      "model_module_version": "2.0.0",
      "model_name": "HBoxModel",
      "state": {
       "children": [
        "IPY_MODEL_c57cf40948a844f98f976295a0fa04c6",
        "IPY_MODEL_7995a2603c524903896ce29878481956",
        "IPY_MODEL_1af464baf9df43e2ad475c81c59e4aaa"
       ],
       "layout": "IPY_MODEL_8e3c93ba302b4112b4eced709e21c56d"
      }
     },
     "375d1c6344eb45dd9edcfbf8b8c35c1f": {
      "model_module": "@jupyter-widgets/base",
      "model_module_version": "2.0.0",
      "model_name": "LayoutModel",
      "state": {}
     },
     "37831c69f8ef42d2b4f92df98d15b755": {
      "model_module": "@jupyter-widgets/controls",
      "model_module_version": "2.0.0",
      "model_name": "HBoxModel",
      "state": {
       "children": [
        "IPY_MODEL_126a1dc8a6e145ae8d255a9f8930133a",
        "IPY_MODEL_51689968f58644bca408525556af289a",
        "IPY_MODEL_27ce7daaa9f64beaa216d74ba1e27977"
       ],
       "layout": "IPY_MODEL_02efb775e5ee435982a9828c5862297b"
      }
     },
     "386de10c0ee44092b327c28217eb8307": {
      "model_module": "@jupyter-widgets/controls",
      "model_module_version": "2.0.0",
      "model_name": "ProgressStyleModel",
      "state": {
       "description_width": ""
      }
     },
     "3877b65519ea4dbe8e9362a771d5be6d": {
      "model_module": "@jupyter-widgets/base",
      "model_module_version": "2.0.0",
      "model_name": "LayoutModel",
      "state": {}
     },
     "38b05fce247e4e64a4046747457bcd68": {
      "model_module": "@jupyter-widgets/controls",
      "model_module_version": "2.0.0",
      "model_name": "HTMLModel",
      "state": {
       "layout": "IPY_MODEL_873059b210cc4b00a674f4100fe844d3",
       "style": "IPY_MODEL_f0e17ea6774046c7a27215981850aede",
       "value": " 240/240 [03:49&lt;00:00,  2.86it/s]"
      }
     },
     "3939a9f4a115403d8ae76bdcac4e510b": {
      "model_module": "@jupyter-widgets/controls",
      "model_module_version": "2.0.0",
      "model_name": "HTMLModel",
      "state": {
       "layout": "IPY_MODEL_99e5640e8aed4b2eb0aa1fbda348db6f",
       "style": "IPY_MODEL_022ab8e73a2a4c17b0c0ed639409e955",
       "value": " 20/20 [01:49&lt;00:00,  6.16s/it]"
      }
     },
     "3983fe2bd2174d49973dfabfb548095e": {
      "model_module": "@jupyter-widgets/controls",
      "model_module_version": "2.0.0",
      "model_name": "FloatProgressModel",
      "state": {
       "bar_style": "success",
       "layout": "IPY_MODEL_7638ab876ace4bb59124426a59d26d66",
       "max": 20,
       "style": "IPY_MODEL_8edbec94f96040f98d7b04c94857f185",
       "value": 20
      }
     },
     "39fbc9435cd94001ac1529c6e7202ff7": {
      "model_module": "@jupyter-widgets/base",
      "model_module_version": "2.0.0",
      "model_name": "LayoutModel",
      "state": {}
     },
     "3a0a2e359f514744ad161310875f21c4": {
      "model_module": "@jupyter-widgets/controls",
      "model_module_version": "2.0.0",
      "model_name": "HBoxModel",
      "state": {
       "children": [
        "IPY_MODEL_517f4f1e40034e3db52c3fceb043bc80",
        "IPY_MODEL_596bb173c3884644b5b5af7d373143f5",
        "IPY_MODEL_9d019dc17dd34d448780424cef33a3f8"
       ],
       "layout": "IPY_MODEL_fca540a382d849cd9f709b162a29a337"
      }
     },
     "3b5cfc267bae4f5daff447d5cafad0c8": {
      "model_module": "@jupyter-widgets/base",
      "model_module_version": "2.0.0",
      "model_name": "LayoutModel",
      "state": {
       "flex": "2"
      }
     },
     "3b6eeeaea45245b2a7f157ad6f314232": {
      "model_module": "@jupyter-widgets/base",
      "model_module_version": "2.0.0",
      "model_name": "LayoutModel",
      "state": {}
     },
     "3b96ffb8a98b4070b4c0a8b93c0a6ba2": {
      "model_module": "@jupyter-widgets/controls",
      "model_module_version": "2.0.0",
      "model_name": "FloatProgressModel",
      "state": {
       "bar_style": "success",
       "layout": "IPY_MODEL_d1f02fff4e634134b5cca9379da041ef",
       "max": 20,
       "style": "IPY_MODEL_49ba49a0f9b34357a3ae1aa3ec7229b4",
       "value": 20
      }
     },
     "3c8d7ca88ca4451ca6a17ff86abb22cf": {
      "model_module": "@jupyter-widgets/controls",
      "model_module_version": "2.0.0",
      "model_name": "HBoxModel",
      "state": {
       "children": [
        "IPY_MODEL_8c3cf6cf87d848baacbadb70c900aa27",
        "IPY_MODEL_11169fc8dc844aa49fd6ae6f69410305",
        "IPY_MODEL_446c2d8d23f641dcbeec6d1142a4b300"
       ],
       "layout": "IPY_MODEL_c03f564a62c54fbb870a838b7266ab2d"
      }
     },
     "3cdab48fe9b14ae3bb274b9d83c476da": {
      "model_module": "@jupyter-widgets/controls",
      "model_module_version": "2.0.0",
      "model_name": "FloatProgressModel",
      "state": {
       "bar_style": "success",
       "layout": "IPY_MODEL_1acb086db2a44b53aad0abbcc8829060",
       "max": 20,
       "style": "IPY_MODEL_7ec63020e5034531a787715001ba5773",
       "value": 20
      }
     },
     "3ce3db21a3d249d8a85bdc5997aa37cc": {
      "model_module": "@jupyter-widgets/controls",
      "model_module_version": "2.0.0",
      "model_name": "FloatProgressModel",
      "state": {
       "bar_style": "success",
       "layout": "IPY_MODEL_4bde9d50db8a4eb59749110e3185e562",
       "max": 240,
       "style": "IPY_MODEL_d81f088737724d56b1e3ee94be7b5dad",
       "value": 240
      }
     },
     "3da3837fc5d14962abce38a3694bbac0": {
      "model_module": "@jupyter-widgets/controls",
      "model_module_version": "2.0.0",
      "model_name": "HTMLModel",
      "state": {
       "layout": "IPY_MODEL_2f6ef793241d4ca49712dc538b22987d",
       "style": "IPY_MODEL_443df82b97734ba3b0def5ac77c7d343",
       "value": " 20/20 [01:51&lt;00:00,  6.16s/it]"
      }
     },
     "3e0b945877d74dce9630eb7bf8df8bd2": {
      "model_module": "@jupyter-widgets/controls",
      "model_module_version": "2.0.0",
      "model_name": "HTMLModel",
      "state": {
       "layout": "IPY_MODEL_362a3209eea44e5f8293a9b78e1edb9d",
       "style": "IPY_MODEL_93a2622ecf3d4cea82eba447531c72ac",
       "value": " 20/20 [01:50&lt;00:00,  6.13s/it]"
      }
     },
     "3e73381d9f3244139ae3d0d9d02335be": {
      "model_module": "@jupyter-widgets/controls",
      "model_module_version": "2.0.0",
      "model_name": "HTMLModel",
      "state": {
       "layout": "IPY_MODEL_42d1b34226a24706811ee72cac86a362",
       "style": "IPY_MODEL_67a127654cde43e7aba98fac558645b3",
       "value": "Validate (3800 Steps) (DiceMetric=0.51553): 100%"
      }
     },
     "3ea3b030a51847c9b30a6b3e7c2857a9": {
      "model_module": "@jupyter-widgets/base",
      "model_module_version": "2.0.0",
      "model_name": "LayoutModel",
      "state": {}
     },
     "3ed7703a20754f6ca3b112eb538b7ca1": {
      "model_module": "@jupyter-widgets/controls",
      "model_module_version": "2.0.0",
      "model_name": "ProgressStyleModel",
      "state": {
       "description_width": ""
      }
     },
     "3ed8cfcb44484b5b9da0d8c41b6bc317": {
      "model_module": "@jupyter-widgets/controls",
      "model_module_version": "2.0.0",
      "model_name": "HTMLModel",
      "state": {
       "layout": "IPY_MODEL_4905d72815ea42a7ad0c2986fd075b00",
       "style": "IPY_MODEL_4f899fb0bd1448288aeabd59d1f9e6c5",
       "value": "Validate (4700 Steps) (DiceMetric=0.68346): 100%"
      }
     },
     "3f194bacdd1848b48697f4fbd29ce1d9": {
      "model_module": "@jupyter-widgets/controls",
      "model_module_version": "2.0.0",
      "model_name": "FloatProgressModel",
      "state": {
       "bar_style": "success",
       "layout": "IPY_MODEL_eccd4546f32b4e7f9d07e6de6fbefd1b",
       "max": 20,
       "style": "IPY_MODEL_6ee36c4a3ddc47e0a87eb0738df8415a",
       "value": 20
      }
     },
     "3f7f610f4de4479f84cf6af19c21c584": {
      "model_module": "@jupyter-widgets/controls",
      "model_module_version": "2.0.0",
      "model_name": "ProgressStyleModel",
      "state": {
       "description_width": ""
      }
     },
     "3f97916f2d6545309ce965886621d148": {
      "model_module": "@jupyter-widgets/controls",
      "model_module_version": "2.0.0",
      "model_name": "HTMLStyleModel",
      "state": {
       "description_width": "",
       "font_size": null,
       "text_color": null
      }
     },
     "3fdafc285c4f487f9f1ec44f90c8d0de": {
      "model_module": "@jupyter-widgets/controls",
      "model_module_version": "2.0.0",
      "model_name": "ProgressStyleModel",
      "state": {
       "description_width": ""
      }
     },
     "3fe2a7a5d75d40b397732b2bfa1a45b4": {
      "model_module": "@jupyter-widgets/base",
      "model_module_version": "2.0.0",
      "model_name": "LayoutModel",
      "state": {}
     },
     "4030c50493ba4c708da91d8c69c7ad5b": {
      "model_module": "@jupyter-widgets/controls",
      "model_module_version": "2.0.0",
      "model_name": "HTMLStyleModel",
      "state": {
       "description_width": "",
       "font_size": null,
       "text_color": null
      }
     },
     "4091f1fc8e5f427a9a1356b3c80d219f": {
      "model_module": "@jupyter-widgets/base",
      "model_module_version": "2.0.0",
      "model_name": "LayoutModel",
      "state": {}
     },
     "40be59f53dda4104923c1337effc1a3f": {
      "model_module": "@jupyter-widgets/controls",
      "model_module_version": "2.0.0",
      "model_name": "HTMLModel",
      "state": {
       "layout": "IPY_MODEL_e25fc919b0344f3c93532fda96bbf62e",
       "style": "IPY_MODEL_dcb1ab63cacb47cd994bef95c6905a13",
       "value": " 20/20 [01:52&lt;00:00,  6.25s/it]"
      }
     },
     "40d1968f3585468c9778a697385e209d": {
      "model_module": "@jupyter-widgets/base",
      "model_module_version": "2.0.0",
      "model_name": "LayoutModel",
      "state": {}
     },
     "40f112b325234810b4192efaccdae973": {
      "model_module": "@jupyter-widgets/controls",
      "model_module_version": "2.0.0",
      "model_name": "FloatProgressModel",
      "state": {
       "bar_style": "success",
       "layout": "IPY_MODEL_3b5cfc267bae4f5daff447d5cafad0c8",
       "max": 20,
       "style": "IPY_MODEL_9b89cfb4b1874509bf81c7d5bd2416f4",
       "value": 20
      }
     },
     "41213ed316a04a01928c2d3f77531c17": {
      "model_module": "@jupyter-widgets/base",
      "model_module_version": "2.0.0",
      "model_name": "LayoutModel",
      "state": {}
     },
     "4145718e6fb445e4b37ebff9daa54e09": {
      "model_module": "@jupyter-widgets/controls",
      "model_module_version": "2.0.0",
      "model_name": "HBoxModel",
      "state": {
       "children": [
        "IPY_MODEL_672303c41b4042da9535b75b5f015c4d",
        "IPY_MODEL_42f30909ae0a477b846955247d77e835",
        "IPY_MODEL_24ea6ee5473c47cab62233335a47f2b0"
       ],
       "layout": "IPY_MODEL_c52e7498004f442f968e241e300f80b7"
      }
     },
     "41d1603e1be640f9b9c9e0673cd8de71": {
      "model_module": "@jupyter-widgets/controls",
      "model_module_version": "2.0.0",
      "model_name": "HBoxModel",
      "state": {
       "children": [
        "IPY_MODEL_57594a6d7a7e428580558f259ec0be67",
        "IPY_MODEL_d4543885acfa45648637a0ce5d323875",
        "IPY_MODEL_aaf5467abe214d09a5e7ceb8a3dc7af1"
       ],
       "layout": "IPY_MODEL_70b316e7d3ea4aa1a7ccbcbb293cf437"
      }
     },
     "41e77b0f7645479492612ad6b52ad4b0": {
      "model_module": "@jupyter-widgets/base",
      "model_module_version": "2.0.0",
      "model_name": "LayoutModel",
      "state": {}
     },
     "422acdfba1fc44359908303d7b1c65a1": {
      "model_module": "@jupyter-widgets/controls",
      "model_module_version": "2.0.0",
      "model_name": "FloatProgressModel",
      "state": {
       "bar_style": "success",
       "layout": "IPY_MODEL_d701b3a2af1445b99276523df09bbc08",
       "max": 20,
       "style": "IPY_MODEL_54af6244f8464fd49e3bfe3950637a3f",
       "value": 20
      }
     },
     "42d1b34226a24706811ee72cac86a362": {
      "model_module": "@jupyter-widgets/base",
      "model_module_version": "2.0.0",
      "model_name": "LayoutModel",
      "state": {}
     },
     "42dca27014f349b5a2ca4861ba2584bf": {
      "model_module": "@jupyter-widgets/base",
      "model_module_version": "2.0.0",
      "model_name": "LayoutModel",
      "state": {}
     },
     "42f30909ae0a477b846955247d77e835": {
      "model_module": "@jupyter-widgets/controls",
      "model_module_version": "2.0.0",
      "model_name": "FloatProgressModel",
      "state": {
       "bar_style": "success",
       "layout": "IPY_MODEL_ba262466be2e4fa9a059457c29435c15",
       "max": 20,
       "style": "IPY_MODEL_54a3fcfc46634576832e4a2338f1695d",
       "value": 20
      }
     },
     "4303012ed3b04b0789098e7cadd2f280": {
      "model_module": "@jupyter-widgets/base",
      "model_module_version": "2.0.0",
      "model_name": "LayoutModel",
      "state": {}
     },
     "434fffa852f547489a3a417ba60b06af": {
      "model_module": "@jupyter-widgets/controls",
      "model_module_version": "2.0.0",
      "model_name": "HTMLStyleModel",
      "state": {
       "description_width": "",
       "font_size": null,
       "text_color": null
      }
     },
     "438e547dbfc24defa0eceea6c564a2d1": {
      "model_module": "@jupyter-widgets/controls",
      "model_module_version": "2.0.0",
      "model_name": "HTMLStyleModel",
      "state": {
       "description_width": "",
       "font_size": null,
       "text_color": null
      }
     },
     "43aebbac6e2547ba957b696f4c846549": {
      "model_module": "@jupyter-widgets/base",
      "model_module_version": "2.0.0",
      "model_name": "LayoutModel",
      "state": {
       "display": "inline-flex",
       "flex_flow": "row wrap",
       "width": "100%"
      }
     },
     "43d11c4803e74858a09680d50ab48bd0": {
      "model_module": "@jupyter-widgets/base",
      "model_module_version": "2.0.0",
      "model_name": "LayoutModel",
      "state": {
       "display": "inline-flex",
       "flex_flow": "row wrap",
       "width": "100%"
      }
     },
     "443df82b97734ba3b0def5ac77c7d343": {
      "model_module": "@jupyter-widgets/controls",
      "model_module_version": "2.0.0",
      "model_name": "HTMLStyleModel",
      "state": {
       "description_width": "",
       "font_size": null,
       "text_color": null
      }
     },
     "44681f587b4845e59d0e1c6571d1aa43": {
      "model_module": "@jupyter-widgets/base",
      "model_module_version": "2.0.0",
      "model_name": "LayoutModel",
      "state": {
       "flex": "2"
      }
     },
     "446c2d8d23f641dcbeec6d1142a4b300": {
      "model_module": "@jupyter-widgets/controls",
      "model_module_version": "2.0.0",
      "model_name": "HTMLModel",
      "state": {
       "layout": "IPY_MODEL_32daa2ec73734c85a28bf817f3372843",
       "style": "IPY_MODEL_0e1aa2feabd847219e45e8d553bf3e22",
       "value": " 20/20 [01:49&lt;00:00,  6.05s/it]"
      }
     },
     "452540d6f1404571a6432a35e8443928": {
      "model_module": "@jupyter-widgets/base",
      "model_module_version": "2.0.0",
      "model_name": "LayoutModel",
      "state": {}
     },
     "452ea9d97881442489394ddb14bfb791": {
      "model_module": "@jupyter-widgets/controls",
      "model_module_version": "2.0.0",
      "model_name": "HTMLModel",
      "state": {
       "layout": "IPY_MODEL_15149f59538c411580441605df16d2a4",
       "style": "IPY_MODEL_a112ea317247437a9dc448bb433a8a36",
       "value": " 20/20 [01:50&lt;00:00,  6.16s/it]"
      }
     },
     "455454fbca874400a4900e2c6aceebef": {
      "model_module": "@jupyter-widgets/controls",
      "model_module_version": "2.0.0",
      "model_name": "HTMLStyleModel",
      "state": {
       "description_width": "",
       "font_size": null,
       "text_color": null
      }
     },
     "46420333cf634ee7b0d0335b16e48623": {
      "model_module": "@jupyter-widgets/controls",
      "model_module_version": "2.0.0",
      "model_name": "HBoxModel",
      "state": {
       "children": [
        "IPY_MODEL_df17e242073e46118c916505bd712fda",
        "IPY_MODEL_48aba098c37f49d9ad68955839543184",
        "IPY_MODEL_b0e853f18df343dd8fc02b45b66c7771"
       ],
       "layout": "IPY_MODEL_a340937fcb0e49cd89e683a9c69dab34"
      }
     },
     "47b77f6d584046d982e9e80f9f72443e": {
      "model_module": "@jupyter-widgets/controls",
      "model_module_version": "2.0.0",
      "model_name": "HBoxModel",
      "state": {
       "children": [
        "IPY_MODEL_d867e8cf8fd942aeb9a76981e2a861ef",
        "IPY_MODEL_545b81025bd846389884d50630cdac86",
        "IPY_MODEL_87d2ef2bbe994e5ebb90959109bf9f26"
       ],
       "layout": "IPY_MODEL_224ac111d28a47f69462f0e8c1b49a1c"
      }
     },
     "4832d8d836154287a8e5f8bdc6c2f81a": {
      "model_module": "@jupyter-widgets/controls",
      "model_module_version": "2.0.0",
      "model_name": "FloatProgressModel",
      "state": {
       "bar_style": "success",
       "layout": "IPY_MODEL_2f9663e3f7dc4a2c9d42e5dd90e13736",
       "max": 20,
       "style": "IPY_MODEL_1ee270672e154326bc0c5ae979acc763",
       "value": 20
      }
     },
     "484534ff67614c4ebd40f44e91fd2389": {
      "model_module": "@jupyter-widgets/controls",
      "model_module_version": "2.0.0",
      "model_name": "ProgressStyleModel",
      "state": {
       "description_width": ""
      }
     },
     "484541f6c78a4b44823fb5f640509158": {
      "model_module": "@jupyter-widgets/base",
      "model_module_version": "2.0.0",
      "model_name": "LayoutModel",
      "state": {
       "flex": "2"
      }
     },
     "48aba098c37f49d9ad68955839543184": {
      "model_module": "@jupyter-widgets/controls",
      "model_module_version": "2.0.0",
      "model_name": "FloatProgressModel",
      "state": {
       "bar_style": "success",
       "layout": "IPY_MODEL_7dc9f13bb4ea40428b82bfffeeec5651",
       "max": 20,
       "style": "IPY_MODEL_90d58a27a25e4eaca104e6da15260fd8",
       "value": 20
      }
     },
     "48ca42f1eee747ab8333025b25f517c9": {
      "model_module": "@jupyter-widgets/controls",
      "model_module_version": "2.0.0",
      "model_name": "HTMLModel",
      "state": {
       "layout": "IPY_MODEL_ed8364136b324dec8ae136af949f4cf1",
       "style": "IPY_MODEL_af6c1b30c4fb40cebf8d72e63afb44af",
       "value": " 20/20 [01:50&lt;00:00,  6.17s/it]"
      }
     },
     "4905d72815ea42a7ad0c2986fd075b00": {
      "model_module": "@jupyter-widgets/base",
      "model_module_version": "2.0.0",
      "model_name": "LayoutModel",
      "state": {}
     },
     "4967285e19e84857b89019d93b898ffb": {
      "model_module": "@jupyter-widgets/controls",
      "model_module_version": "2.0.0",
      "model_name": "HTMLStyleModel",
      "state": {
       "description_width": "",
       "font_size": null,
       "text_color": null
      }
     },
     "49ba49a0f9b34357a3ae1aa3ec7229b4": {
      "model_module": "@jupyter-widgets/controls",
      "model_module_version": "2.0.0",
      "model_name": "ProgressStyleModel",
      "state": {
       "description_width": ""
      }
     },
     "4a41a5b5d8a34a5eb113022b5cda896a": {
      "model_module": "@jupyter-widgets/controls",
      "model_module_version": "2.0.0",
      "model_name": "HTMLStyleModel",
      "state": {
       "description_width": "",
       "font_size": null,
       "text_color": null
      }
     },
     "4aa4a5542e7a4d7991b79d4f0ad619d8": {
      "model_module": "@jupyter-widgets/base",
      "model_module_version": "2.0.0",
      "model_name": "LayoutModel",
      "state": {
       "flex": "2"
      }
     },
     "4ad3e66fa1ce4dc2bc38b1b4be94dfe7": {
      "model_module": "@jupyter-widgets/base",
      "model_module_version": "2.0.0",
      "model_name": "LayoutModel",
      "state": {}
     },
     "4b6b7a85371c4a0e958fa64a17f8afcf": {
      "model_module": "@jupyter-widgets/controls",
      "model_module_version": "2.0.0",
      "model_name": "HTMLStyleModel",
      "state": {
       "description_width": "",
       "font_size": null,
       "text_color": null
      }
     },
     "4bab514befdd48fa9ccd4ee6a901e403": {
      "model_module": "@jupyter-widgets/base",
      "model_module_version": "2.0.0",
      "model_name": "LayoutModel",
      "state": {}
     },
     "4bd014b2fd8b4fb49cb087d4714ab268": {
      "model_module": "@jupyter-widgets/controls",
      "model_module_version": "2.0.0",
      "model_name": "ProgressStyleModel",
      "state": {
       "description_width": ""
      }
     },
     "4bde9d50db8a4eb59749110e3185e562": {
      "model_module": "@jupyter-widgets/base",
      "model_module_version": "2.0.0",
      "model_name": "LayoutModel",
      "state": {}
     },
     "4c1b865a3ec747b8bec701bbed7e0f46": {
      "model_module": "@jupyter-widgets/controls",
      "model_module_version": "2.0.0",
      "model_name": "ProgressStyleModel",
      "state": {
       "description_width": ""
      }
     },
     "4d729032b45d4fed8939f106f340059b": {
      "model_module": "@jupyter-widgets/controls",
      "model_module_version": "2.0.0",
      "model_name": "ProgressStyleModel",
      "state": {
       "description_width": ""
      }
     },
     "4d87536337764f149a0d96580127deee": {
      "model_module": "@jupyter-widgets/controls",
      "model_module_version": "2.0.0",
      "model_name": "HTMLModel",
      "state": {
       "layout": "IPY_MODEL_7ac8fe9a511448c78a5542fba805ec8f",
       "style": "IPY_MODEL_2b40e7628a3b452b8335e14e5f295e66",
       "value": "Validate (4600 Steps) (DiceMetric=0.62763): 100%"
      }
     },
     "4dcc4dfe16ec432597538a9d9b34e9d7": {
      "model_module": "@jupyter-widgets/controls",
      "model_module_version": "2.0.0",
      "model_name": "HTMLModel",
      "state": {
       "layout": "IPY_MODEL_a2a8cd047b514d29af59411604fd9b96",
       "style": "IPY_MODEL_2b74f8b68e0848979921cfa5db7a4f31",
       "value": " 20/20 [01:49&lt;00:00,  6.09s/it]"
      }
     },
     "4defcbc36ece46fda63e2fd31c378c3a": {
      "model_module": "@jupyter-widgets/controls",
      "model_module_version": "2.0.0",
      "model_name": "ProgressStyleModel",
      "state": {
       "description_width": ""
      }
     },
     "4dfa9821333a4e79b4f5768559601991": {
      "model_module": "@jupyter-widgets/base",
      "model_module_version": "2.0.0",
      "model_name": "LayoutModel",
      "state": {}
     },
     "4e40531832d4478ebd9ec6ffd7416dad": {
      "model_module": "@jupyter-widgets/controls",
      "model_module_version": "2.0.0",
      "model_name": "HTMLStyleModel",
      "state": {
       "description_width": "",
       "font_size": null,
       "text_color": null
      }
     },
     "4e821fcab8a3407cac05597ad47b0bc3": {
      "model_module": "@jupyter-widgets/controls",
      "model_module_version": "2.0.0",
      "model_name": "HTMLModel",
      "state": {
       "layout": "IPY_MODEL_3ea3b030a51847c9b30a6b3e7c2857a9",
       "style": "IPY_MODEL_005978df1d02419b8494fe683ec60640",
       "value": " 20/20 [01:50&lt;00:00,  6.16s/it]"
      }
     },
     "4e9c2e9a7380491b81999fbbeeb19b59": {
      "model_module": "@jupyter-widgets/base",
      "model_module_version": "2.0.0",
      "model_name": "LayoutModel",
      "state": {}
     },
     "4f044ffb57c2443b8a8352ceead008a1": {
      "model_module": "@jupyter-widgets/controls",
      "model_module_version": "2.0.0",
      "model_name": "HTMLStyleModel",
      "state": {
       "description_width": "",
       "font_size": null,
       "text_color": null
      }
     },
     "4f899fb0bd1448288aeabd59d1f9e6c5": {
      "model_module": "@jupyter-widgets/controls",
      "model_module_version": "2.0.0",
      "model_name": "HTMLStyleModel",
      "state": {
       "description_width": "",
       "font_size": null,
       "text_color": null
      }
     },
     "50ce6711c8744a5f8db97e38acc0822c": {
      "model_module": "@jupyter-widgets/base",
      "model_module_version": "2.0.0",
      "model_name": "LayoutModel",
      "state": {}
     },
     "50e425ca0bbe43888d2abaecaccdc78f": {
      "model_module": "@jupyter-widgets/base",
      "model_module_version": "2.0.0",
      "model_name": "LayoutModel",
      "state": {}
     },
     "5152a442c4b7464fb75de94be89bcd0c": {
      "model_module": "@jupyter-widgets/controls",
      "model_module_version": "2.0.0",
      "model_name": "ProgressStyleModel",
      "state": {
       "description_width": ""
      }
     },
     "51689968f58644bca408525556af289a": {
      "model_module": "@jupyter-widgets/controls",
      "model_module_version": "2.0.0",
      "model_name": "FloatProgressModel",
      "state": {
       "bar_style": "success",
       "layout": "IPY_MODEL_0695e5c8bfa2436d839af01afb80a969",
       "max": 20,
       "style": "IPY_MODEL_351b4721ddd1452ead894a43b807e4ed",
       "value": 20
      }
     },
     "516c62c7145446dd9a546342b9fe206a": {
      "model_module": "@jupyter-widgets/base",
      "model_module_version": "2.0.0",
      "model_name": "LayoutModel",
      "state": {}
     },
     "517f4f1e40034e3db52c3fceb043bc80": {
      "model_module": "@jupyter-widgets/controls",
      "model_module_version": "2.0.0",
      "model_name": "HTMLModel",
      "state": {
       "layout": "IPY_MODEL_0b1666447723461a91c35fa7505d1f70",
       "style": "IPY_MODEL_526aa169a40c4f22897dfd3c49cbba5f",
       "value": "Validate (3500 Steps) (DiceMetric=0.39551): 100%"
      }
     },
     "51853577069a4d6e9d9d41d45754581d": {
      "model_module": "@jupyter-widgets/controls",
      "model_module_version": "2.0.0",
      "model_name": "FloatProgressModel",
      "state": {
       "bar_style": "success",
       "layout": "IPY_MODEL_61f3b2cd0e944787a23566bd37d2a3a4",
       "max": 20,
       "style": "IPY_MODEL_5152a442c4b7464fb75de94be89bcd0c",
       "value": 20
      }
     },
     "526aa169a40c4f22897dfd3c49cbba5f": {
      "model_module": "@jupyter-widgets/controls",
      "model_module_version": "2.0.0",
      "model_name": "HTMLStyleModel",
      "state": {
       "description_width": "",
       "font_size": null,
       "text_color": null
      }
     },
     "526e997eaeb54f11b6b3800fae23fc8f": {
      "model_module": "@jupyter-widgets/controls",
      "model_module_version": "2.0.0",
      "model_name": "HTMLStyleModel",
      "state": {
       "description_width": "",
       "font_size": null,
       "text_color": null
      }
     },
     "528484f06b814e45b55ca7ab7273e207": {
      "model_module": "@jupyter-widgets/controls",
      "model_module_version": "2.0.0",
      "model_name": "ProgressStyleModel",
      "state": {
       "description_width": ""
      }
     },
     "52945881526b4e4a94218aefefb22764": {
      "model_module": "@jupyter-widgets/controls",
      "model_module_version": "2.0.0",
      "model_name": "HTMLModel",
      "state": {
       "layout": "IPY_MODEL_7f0a8b4345574c6ba06a0ab65b28d896",
       "style": "IPY_MODEL_aca56ca89cd747008faa78b827fd0e01",
       "value": " 20/20 [01:50&lt;00:00,  6.15s/it]"
      }
     },
     "52fd6e61fa844d359a1dada7507fa98d": {
      "model_module": "@jupyter-widgets/base",
      "model_module_version": "2.0.0",
      "model_name": "LayoutModel",
      "state": {}
     },
     "534b3930ebb040df9977f37f05c38623": {
      "model_module": "@jupyter-widgets/controls",
      "model_module_version": "2.0.0",
      "model_name": "HTMLModel",
      "state": {
       "layout": "IPY_MODEL_dd906b89047247bd8057b92f44288eb1",
       "style": "IPY_MODEL_c46b4667193d45f3a4faeee8c5c8222c",
       "value": "Validate (6800 Steps) (DiceMetric=0.71708): 100%"
      }
     },
     "5405f3a5d76e43ba8ea9356724f11759": {
      "model_module": "@jupyter-widgets/controls",
      "model_module_version": "2.0.0",
      "model_name": "HTMLStyleModel",
      "state": {
       "description_width": "",
       "font_size": null,
       "text_color": null
      }
     },
     "54086198d9a14f91a25954cab8848d9e": {
      "model_module": "@jupyter-widgets/controls",
      "model_module_version": "2.0.0",
      "model_name": "HTMLModel",
      "state": {
       "layout": "IPY_MODEL_ddcd0ef8930e4bf3850eba5bd9e6e62d",
       "style": "IPY_MODEL_1bc44ad28ee241e6b8d22ed0a3ed80b1",
       "value": " 20/20 [01:51&lt;00:00,  6.33s/it]"
      }
     },
     "545a3c9f868f4811971eb02a1194c3bf": {
      "model_module": "@jupyter-widgets/controls",
      "model_module_version": "2.0.0",
      "model_name": "FloatProgressModel",
      "state": {
       "bar_style": "success",
       "layout": "IPY_MODEL_1772f95046ce478f8a955ec729601d6e",
       "max": 20,
       "style": "IPY_MODEL_b4b36748373e467099ee01193cf0eeee",
       "value": 20
      }
     },
     "545b81025bd846389884d50630cdac86": {
      "model_module": "@jupyter-widgets/controls",
      "model_module_version": "2.0.0",
      "model_name": "FloatProgressModel",
      "state": {
       "bar_style": "success",
       "layout": "IPY_MODEL_840c443f17954847ba35db93d71f4086",
       "max": 20,
       "style": "IPY_MODEL_f59b8516e1244e43ab3b7b8dcb2871ab",
       "value": 20
      }
     },
     "54a3fcfc46634576832e4a2338f1695d": {
      "model_module": "@jupyter-widgets/controls",
      "model_module_version": "2.0.0",
      "model_name": "ProgressStyleModel",
      "state": {
       "description_width": ""
      }
     },
     "54af6244f8464fd49e3bfe3950637a3f": {
      "model_module": "@jupyter-widgets/controls",
      "model_module_version": "2.0.0",
      "model_name": "ProgressStyleModel",
      "state": {
       "description_width": ""
      }
     },
     "54bd069560e141d687907b3d98715b4d": {
      "model_module": "@jupyter-widgets/base",
      "model_module_version": "2.0.0",
      "model_name": "LayoutModel",
      "state": {}
     },
     "552e1cc353f946e48ec19c0866fec864": {
      "model_module": "@jupyter-widgets/controls",
      "model_module_version": "2.0.0",
      "model_name": "FloatProgressModel",
      "state": {
       "bar_style": "success",
       "layout": "IPY_MODEL_903f26ae3eae4f8f8e14879fd1dc6302",
       "max": 20,
       "style": "IPY_MODEL_3fdafc285c4f487f9f1ec44f90c8d0de",
       "value": 20
      }
     },
     "556566ed96b04caf84ae1056b495dd2c": {
      "model_module": "@jupyter-widgets/base",
      "model_module_version": "2.0.0",
      "model_name": "LayoutModel",
      "state": {}
     },
     "560a7f1c1bad4553b8009a3f63a95993": {
      "model_module": "@jupyter-widgets/controls",
      "model_module_version": "2.0.0",
      "model_name": "FloatProgressModel",
      "state": {
       "bar_style": "success",
       "layout": "IPY_MODEL_a00a93d7c72e4895a2d42b299d15cd1c",
       "max": 20,
       "style": "IPY_MODEL_fdf059de2a3248c6b6fddbd54d30402a",
       "value": 20
      }
     },
     "57594a6d7a7e428580558f259ec0be67": {
      "model_module": "@jupyter-widgets/controls",
      "model_module_version": "2.0.0",
      "model_name": "HTMLModel",
      "state": {
       "layout": "IPY_MODEL_ca1a2469ef01461aa038b1d402826c54",
       "style": "IPY_MODEL_8402b58d650b4f8ba73b5ae3bb24b516",
       "value": "Validate (200 Steps) (DiceMetric=0.19912): 100%"
      }
     },
     "5759e3eafd984881aea360e2e8f1526d": {
      "model_module": "@jupyter-widgets/controls",
      "model_module_version": "2.0.0",
      "model_name": "HTMLStyleModel",
      "state": {
       "description_width": "",
       "font_size": null,
       "text_color": null
      }
     },
     "57f839761f294d7fada8c060b3e04e27": {
      "model_module": "@jupyter-widgets/controls",
      "model_module_version": "2.0.0",
      "model_name": "ProgressStyleModel",
      "state": {
       "description_width": ""
      }
     },
     "57fd1000c88642929a9a23de5d9e3efb": {
      "model_module": "@jupyter-widgets/controls",
      "model_module_version": "2.0.0",
      "model_name": "HBoxModel",
      "state": {
       "children": [
        "IPY_MODEL_5e67b8a155174dec8c86993320158cfa",
        "IPY_MODEL_0deedb2201f94339840bd6c6cdcbef52",
        "IPY_MODEL_3e0b945877d74dce9630eb7bf8df8bd2"
       ],
       "layout": "IPY_MODEL_bc61584814ec46a596154b9c10d2386e"
      }
     },
     "586a988fff1f462ea92990012207f051": {
      "model_module": "@jupyter-widgets/base",
      "model_module_version": "2.0.0",
      "model_name": "LayoutModel",
      "state": {}
     },
     "589774c08afa4b36b1979346b0b62cda": {
      "model_module": "@jupyter-widgets/controls",
      "model_module_version": "2.0.0",
      "model_name": "HTMLStyleModel",
      "state": {
       "description_width": "",
       "font_size": null,
       "text_color": null
      }
     },
     "594d8a8e77e944cfbcd80e01c04763f8": {
      "model_module": "@jupyter-widgets/controls",
      "model_module_version": "2.0.0",
      "model_name": "HTMLStyleModel",
      "state": {
       "description_width": "",
       "font_size": null,
       "text_color": null
      }
     },
     "596bb173c3884644b5b5af7d373143f5": {
      "model_module": "@jupyter-widgets/controls",
      "model_module_version": "2.0.0",
      "model_name": "FloatProgressModel",
      "state": {
       "bar_style": "success",
       "layout": "IPY_MODEL_59b5821b93254441b62285a6b1f09914",
       "max": 20,
       "style": "IPY_MODEL_7d8b913dfa1349f49f9dd5e424c7b2cd",
       "value": 20
      }
     },
     "5981d4277e414c73a91e96a453893cf3": {
      "model_module": "@jupyter-widgets/controls",
      "model_module_version": "2.0.0",
      "model_name": "HBoxModel",
      "state": {
       "children": [
        "IPY_MODEL_c7d3e27cdf394e32a3b5d0bc105fc2c1",
        "IPY_MODEL_3cdab48fe9b14ae3bb274b9d83c476da",
        "IPY_MODEL_34c866cead9e4e0bac8164c291f61b43"
       ],
       "layout": "IPY_MODEL_e7013314193b4d858737ab4a64ebb4b7"
      }
     },
     "59a7110af3914866a1a4917c0c655ec9": {
      "model_module": "@jupyter-widgets/controls",
      "model_module_version": "2.0.0",
      "model_name": "HTMLModel",
      "state": {
       "layout": "IPY_MODEL_2dac5268968a4f438668a1e3ccd506c9",
       "style": "IPY_MODEL_d6a49f6335ca436989ad80455578893b",
       "value": "Validate (3200 Steps) (DiceMetric=0.48863): 100%"
      }
     },
     "59b5821b93254441b62285a6b1f09914": {
      "model_module": "@jupyter-widgets/base",
      "model_module_version": "2.0.0",
      "model_name": "LayoutModel",
      "state": {
       "flex": "2"
      }
     },
     "59f9bae227184b87b13f43337390a088": {
      "model_module": "@jupyter-widgets/base",
      "model_module_version": "2.0.0",
      "model_name": "LayoutModel",
      "state": {
       "flex": "2"
      }
     },
     "5a37cab5b9d740fe95e6f872d0d7b512": {
      "model_module": "@jupyter-widgets/controls",
      "model_module_version": "2.0.0",
      "model_name": "HTMLModel",
      "state": {
       "layout": "IPY_MODEL_5f034dea753e457cacc632effa71de83",
       "style": "IPY_MODEL_61cadd5d652e4211a278630e4a1fcd53",
       "value": "Validate (4000 Steps) (DiceMetric=0.48999): 100%"
      }
     },
     "5a500bc3ac724852bc8efda1765d4abd": {
      "model_module": "@jupyter-widgets/controls",
      "model_module_version": "2.0.0",
      "model_name": "HTMLStyleModel",
      "state": {
       "description_width": "",
       "font_size": null,
       "text_color": null
      }
     },
     "5b0908a02b23481e911420c6ce3ea0dd": {
      "model_module": "@jupyter-widgets/controls",
      "model_module_version": "2.0.0",
      "model_name": "HTMLModel",
      "state": {
       "layout": "IPY_MODEL_f6e573fb23294bb595c3b30a0db85cc0",
       "style": "IPY_MODEL_3410b3ff01644427a39b32aa60d06a19",
       "value": "Validate (5700 Steps) (DiceMetric=0.65804): 100%"
      }
     },
     "5b89ba706a1e43949267eaf6de9596cf": {
      "model_module": "@jupyter-widgets/base",
      "model_module_version": "2.0.0",
      "model_name": "LayoutModel",
      "state": {
       "display": "inline-flex",
       "flex_flow": "row wrap",
       "width": "100%"
      }
     },
     "5bd1dc424e79447bb4a374efc3549642": {
      "model_module": "@jupyter-widgets/controls",
      "model_module_version": "2.0.0",
      "model_name": "HTMLModel",
      "state": {
       "layout": "IPY_MODEL_2fba24166e3f434f87341b669b77e80f",
       "style": "IPY_MODEL_fa60e9d0967141b2a4428c7823321b07",
       "value": " 20/20 [01:50&lt;00:00,  6.13s/it]"
      }
     },
     "5bf5add1e5e043cabaefa4b89724a6ab": {
      "model_module": "@jupyter-widgets/controls",
      "model_module_version": "2.0.0",
      "model_name": "HTMLStyleModel",
      "state": {
       "description_width": "",
       "font_size": null,
       "text_color": null
      }
     },
     "5c003b863a034a35a95af52701efa6ab": {
      "model_module": "@jupyter-widgets/base",
      "model_module_version": "2.0.0",
      "model_name": "LayoutModel",
      "state": {}
     },
     "5c0d94956dc04b31942370607b2972fe": {
      "model_module": "@jupyter-widgets/base",
      "model_module_version": "2.0.0",
      "model_name": "LayoutModel",
      "state": {
       "flex": "2"
      }
     },
     "5c6a324901764f4faad5f544e9e2e106": {
      "model_module": "@jupyter-widgets/controls",
      "model_module_version": "2.0.0",
      "model_name": "HTMLStyleModel",
      "state": {
       "description_width": "",
       "font_size": null,
       "text_color": null
      }
     },
     "5d1feb86781245619b2005888866a924": {
      "model_module": "@jupyter-widgets/base",
      "model_module_version": "2.0.0",
      "model_name": "LayoutModel",
      "state": {
       "display": "inline-flex",
       "flex_flow": "row wrap",
       "width": "100%"
      }
     },
     "5d59c9501fe84fdb95498a4168190c0b": {
      "model_module": "@jupyter-widgets/controls",
      "model_module_version": "2.0.0",
      "model_name": "HTMLStyleModel",
      "state": {
       "description_width": "",
       "font_size": null,
       "text_color": null
      }
     },
     "5d654d188ea944d0b8ab6fe536d6c590": {
      "model_module": "@jupyter-widgets/controls",
      "model_module_version": "2.0.0",
      "model_name": "ProgressStyleModel",
      "state": {
       "description_width": ""
      }
     },
     "5d765f610cef4862aed83e7096eaa292": {
      "model_module": "@jupyter-widgets/controls",
      "model_module_version": "2.0.0",
      "model_name": "HBoxModel",
      "state": {
       "children": [
        "IPY_MODEL_fea680a80912470b8de86eed466294c1",
        "IPY_MODEL_7455698651224013a3a5dda4083a70e5",
        "IPY_MODEL_347cc943265b4a4292de5413bc465ee4"
       ],
       "layout": "IPY_MODEL_131ee7c828bd43318c682db946230cdc"
      }
     },
     "5dafa9b6ac4641f2abf45af2aa836f92": {
      "model_module": "@jupyter-widgets/controls",
      "model_module_version": "2.0.0",
      "model_name": "HTMLModel",
      "state": {
       "layout": "IPY_MODEL_c88c96421f364e82ae4de176a0999715",
       "style": "IPY_MODEL_ef4da4e66c24471b9ed5c100f47cc91e",
       "value": "Validate (3700 Steps) (DiceMetric=0.39908): 100%"
      }
     },
     "5dc42a8ea7674ce4968fb3be0720ad10": {
      "model_module": "@jupyter-widgets/base",
      "model_module_version": "2.0.0",
      "model_name": "LayoutModel",
      "state": {}
     },
     "5ddb7a7f433942db9a997d10e8304adf": {
      "model_module": "@jupyter-widgets/base",
      "model_module_version": "2.0.0",
      "model_name": "LayoutModel",
      "state": {
       "display": "inline-flex",
       "flex_flow": "row wrap",
       "width": "100%"
      }
     },
     "5e66e9fa821b4c6bb37a88ac0b741549": {
      "model_module": "@jupyter-widgets/controls",
      "model_module_version": "2.0.0",
      "model_name": "FloatProgressModel",
      "state": {
       "bar_style": "success",
       "layout": "IPY_MODEL_9928b03066714b90b0cf3677e75a0a42",
       "max": 20,
       "style": "IPY_MODEL_3f7f610f4de4479f84cf6af19c21c584",
       "value": 20
      }
     },
     "5e67b8a155174dec8c86993320158cfa": {
      "model_module": "@jupyter-widgets/controls",
      "model_module_version": "2.0.0",
      "model_name": "HTMLModel",
      "state": {
       "layout": "IPY_MODEL_3198574267bf48ecab4a4a529eaa13af",
       "style": "IPY_MODEL_ed4af6df8b6648c39442da37119da47f",
       "value": "Validate (2700 Steps) (DiceMetric=0.47222): 100%"
      }
     },
     "5ea4133776944aac9fac59c9b3497815": {
      "model_module": "@jupyter-widgets/controls",
      "model_module_version": "2.0.0",
      "model_name": "HTMLModel",
      "state": {
       "layout": "IPY_MODEL_fc20d717c4b44cd5b93a0b1048a1a0b0",
       "style": "IPY_MODEL_d82c69b0a6084b9c9e6140aed413e246",
       "value": "Validate (600 Steps) (DiceMetric=0.19912): 100%"
      }
     },
     "5ef2182852934e8cbb58031d56f6e4a6": {
      "model_module": "@jupyter-widgets/controls",
      "model_module_version": "2.0.0",
      "model_name": "HTMLStyleModel",
      "state": {
       "description_width": "",
       "font_size": null,
       "text_color": null
      }
     },
     "5f034dea753e457cacc632effa71de83": {
      "model_module": "@jupyter-widgets/base",
      "model_module_version": "2.0.0",
      "model_name": "LayoutModel",
      "state": {}
     },
     "5f5cb51d3b684d8ca03bd3d8b5356b47": {
      "model_module": "@jupyter-widgets/controls",
      "model_module_version": "2.0.0",
      "model_name": "ProgressStyleModel",
      "state": {
       "description_width": ""
      }
     },
     "5f6bf761ba114c5db312368ce3d70bc4": {
      "model_module": "@jupyter-widgets/controls",
      "model_module_version": "2.0.0",
      "model_name": "ProgressStyleModel",
      "state": {
       "description_width": ""
      }
     },
     "5f7d201dcc0b40c2832dafcee5282100": {
      "model_module": "@jupyter-widgets/controls",
      "model_module_version": "2.0.0",
      "model_name": "FloatProgressModel",
      "state": {
       "bar_style": "success",
       "layout": "IPY_MODEL_64fd885ed06d4d13bbaa98ae3bbe9b1b",
       "max": 20,
       "style": "IPY_MODEL_2d5c67ea0fba483185a3231d2579e852",
       "value": 20
      }
     },
     "5fbd54c209d74c92beb93036fda6e7cd": {
      "model_module": "@jupyter-widgets/controls",
      "model_module_version": "2.0.0",
      "model_name": "HTMLModel",
      "state": {
       "layout": "IPY_MODEL_50ce6711c8744a5f8db97e38acc0822c",
       "style": "IPY_MODEL_aed44bcb88f44a3583bad1c4a3f6f814",
       "value": "Validate (1600 Steps) (DiceMetric=0.38948): 100%"
      }
     },
     "5fd8681db74b420da71249491f47f7d7": {
      "model_module": "@jupyter-widgets/controls",
      "model_module_version": "2.0.0",
      "model_name": "HTMLModel",
      "state": {
       "layout": "IPY_MODEL_4dfa9821333a4e79b4f5768559601991",
       "style": "IPY_MODEL_438e547dbfc24defa0eceea6c564a2d1",
       "value": " 6999/10000 [10:50:17&lt;3:47:07,  4.54s/it]"
      }
     },
     "603fda3fc7a944768b1065e88045e98a": {
      "model_module": "@jupyter-widgets/base",
      "model_module_version": "2.0.0",
      "model_name": "LayoutModel",
      "state": {
       "flex": "2"
      }
     },
     "60ad15a2e9be4fb993d7638e34f24b03": {
      "model_module": "@jupyter-widgets/controls",
      "model_module_version": "2.0.0",
      "model_name": "FloatProgressModel",
      "state": {
       "bar_style": "success",
       "layout": "IPY_MODEL_25e2157f753b4613934b6ac03714fb25",
       "max": 20,
       "style": "IPY_MODEL_2e62347f666a4f91bdea04623d719bb3",
       "value": 20
      }
     },
     "60d427106b524c71aebd136074445621": {
      "model_module": "@jupyter-widgets/controls",
      "model_module_version": "2.0.0",
      "model_name": "HTMLStyleModel",
      "state": {
       "description_width": "",
       "font_size": null,
       "text_color": null
      }
     },
     "619d5a5b70f24def80dff9975023931c": {
      "model_module": "@jupyter-widgets/base",
      "model_module_version": "2.0.0",
      "model_name": "LayoutModel",
      "state": {
       "flex": "2"
      }
     },
     "61cadd5d652e4211a278630e4a1fcd53": {
      "model_module": "@jupyter-widgets/controls",
      "model_module_version": "2.0.0",
      "model_name": "HTMLStyleModel",
      "state": {
       "description_width": "",
       "font_size": null,
       "text_color": null
      }
     },
     "61f3b2cd0e944787a23566bd37d2a3a4": {
      "model_module": "@jupyter-widgets/base",
      "model_module_version": "2.0.0",
      "model_name": "LayoutModel",
      "state": {
       "flex": "2"
      }
     },
     "621299bccea945979388c882fb5fadd6": {
      "model_module": "@jupyter-widgets/controls",
      "model_module_version": "2.0.0",
      "model_name": "HTMLStyleModel",
      "state": {
       "description_width": "",
       "font_size": null,
       "text_color": null
      }
     },
     "62493ca3b34a470c9d2f994715c17c5b": {
      "model_module": "@jupyter-widgets/controls",
      "model_module_version": "2.0.0",
      "model_name": "HTMLModel",
      "state": {
       "layout": "IPY_MODEL_769626e21471499195fc0c88c33d800c",
       "style": "IPY_MODEL_96906bc8bdca47958a5a6e9c46054666",
       "value": "Validate (4300 Steps) (DiceMetric=0.53706): 100%"
      }
     },
     "6398b8a9fecb474b9022a59da60db2ab": {
      "model_module": "@jupyter-widgets/base",
      "model_module_version": "2.0.0",
      "model_name": "LayoutModel",
      "state": {
       "display": "inline-flex",
       "flex_flow": "row wrap",
       "width": "100%"
      }
     },
     "63a2e1e8c4ed49349126fe37831449bb": {
      "model_module": "@jupyter-widgets/controls",
      "model_module_version": "2.0.0",
      "model_name": "HTMLStyleModel",
      "state": {
       "description_width": "",
       "font_size": null,
       "text_color": null
      }
     },
     "63cf187ab7054f2ba46d11e7123ad1e1": {
      "model_module": "@jupyter-widgets/controls",
      "model_module_version": "2.0.0",
      "model_name": "FloatProgressModel",
      "state": {
       "bar_style": "success",
       "layout": "IPY_MODEL_603fda3fc7a944768b1065e88045e98a",
       "max": 20,
       "style": "IPY_MODEL_4defcbc36ece46fda63e2fd31c378c3a",
       "value": 20
      }
     },
     "63f0df65d1b3430386805d8b8de63b1d": {
      "model_module": "@jupyter-widgets/base",
      "model_module_version": "2.0.0",
      "model_name": "LayoutModel",
      "state": {}
     },
     "642db02e1fcc4aa0b64c4c3a1d823f42": {
      "model_module": "@jupyter-widgets/controls",
      "model_module_version": "2.0.0",
      "model_name": "HBoxModel",
      "state": {
       "children": [
        "IPY_MODEL_7a64e41471814238b95e70e1ec119343",
        "IPY_MODEL_63cf187ab7054f2ba46d11e7123ad1e1",
        "IPY_MODEL_52945881526b4e4a94218aefefb22764"
       ],
       "layout": "IPY_MODEL_d472bb413c0a4f79bde62cc193647c53"
      }
     },
     "64fd885ed06d4d13bbaa98ae3bbe9b1b": {
      "model_module": "@jupyter-widgets/base",
      "model_module_version": "2.0.0",
      "model_name": "LayoutModel",
      "state": {
       "flex": "2"
      }
     },
     "651fe5e45b844b96871ce5d1a3f3c25b": {
      "model_module": "@jupyter-widgets/controls",
      "model_module_version": "2.0.0",
      "model_name": "HTMLModel",
      "state": {
       "layout": "IPY_MODEL_4091f1fc8e5f427a9a1356b3c80d219f",
       "style": "IPY_MODEL_6cabfc1437f54eaab6950388a8103720",
       "value": "Validate (5200 Steps) (DiceMetric=0.62746): 100%"
      }
     },
     "6572c63983a0465eb6fb913dfa8c7feb": {
      "model_module": "@jupyter-widgets/base",
      "model_module_version": "2.0.0",
      "model_name": "LayoutModel",
      "state": {
       "flex": "2"
      }
     },
     "65a756a5dc8f4c3cbc77949bffe63ab6": {
      "model_module": "@jupyter-widgets/base",
      "model_module_version": "2.0.0",
      "model_name": "LayoutModel",
      "state": {}
     },
     "65d60c076b7746e0a312b1b215d905d8": {
      "model_module": "@jupyter-widgets/base",
      "model_module_version": "2.0.0",
      "model_name": "LayoutModel",
      "state": {
       "flex": "2"
      }
     },
     "672303c41b4042da9535b75b5f015c4d": {
      "model_module": "@jupyter-widgets/controls",
      "model_module_version": "2.0.0",
      "model_name": "HTMLModel",
      "state": {
       "layout": "IPY_MODEL_cc99e2a80080435ca692dc63b0bf880b",
       "style": "IPY_MODEL_76e602af5fc6414c8f699e449146cf63",
       "value": "Validate (4500 Steps) (DiceMetric=0.60457): 100%"
      }
     },
     "67a127654cde43e7aba98fac558645b3": {
      "model_module": "@jupyter-widgets/controls",
      "model_module_version": "2.0.0",
      "model_name": "HTMLStyleModel",
      "state": {
       "description_width": "",
       "font_size": null,
       "text_color": null
      }
     },
     "67f859f5d850408a9058004509ba2890": {
      "model_module": "@jupyter-widgets/controls",
      "model_module_version": "2.0.0",
      "model_name": "ProgressStyleModel",
      "state": {
       "description_width": ""
      }
     },
     "68e6b0e2aa9f4980b3673962f161e5ee": {
      "model_module": "@jupyter-widgets/base",
      "model_module_version": "2.0.0",
      "model_name": "LayoutModel",
      "state": {}
     },
     "6924e19f532f4d7d9a862e156fc86394": {
      "model_module": "@jupyter-widgets/base",
      "model_module_version": "2.0.0",
      "model_name": "LayoutModel",
      "state": {
       "display": "inline-flex",
       "flex_flow": "row wrap",
       "width": "100%"
      }
     },
     "693098e5e54e48ebaf5d81102e93509a": {
      "model_module": "@jupyter-widgets/controls",
      "model_module_version": "2.0.0",
      "model_name": "HBoxModel",
      "state": {
       "children": [
        "IPY_MODEL_a3df8472ef4741f0a916810cb9585ee8",
        "IPY_MODEL_8c46b1625b8c4385bbbb54773e9f7575",
        "IPY_MODEL_d8394d96a0184f22a48f04267e5e4795"
       ],
       "layout": "IPY_MODEL_d5fe6cb6581343a49b18d7b2047c2384"
      }
     },
     "697434ea42eb483993cbcad43b158f39": {
      "model_module": "@jupyter-widgets/controls",
      "model_module_version": "2.0.0",
      "model_name": "HBoxModel",
      "state": {
       "children": [
        "IPY_MODEL_9782bc894c0249398a80a0c73a245edf",
        "IPY_MODEL_c677a9863d6a405e93ca3b66f68b8862",
        "IPY_MODEL_f6e1016dac0540f3aa63187528ae785a"
       ],
       "layout": "IPY_MODEL_9d2c751cd7f641fdba93f216bccff47e"
      }
     },
     "69cf9e53a6384ee5a549c485af83a5c4": {
      "model_module": "@jupyter-widgets/controls",
      "model_module_version": "2.0.0",
      "model_name": "HTMLStyleModel",
      "state": {
       "description_width": "",
       "font_size": null,
       "text_color": null
      }
     },
     "69f1d5ae245d49b3b40fa11fd585bf4d": {
      "model_module": "@jupyter-widgets/base",
      "model_module_version": "2.0.0",
      "model_name": "LayoutModel",
      "state": {
       "flex": "2"
      }
     },
     "6a05e3c09e4d4343b83e1bd3a7a05eb4": {
      "model_module": "@jupyter-widgets/base",
      "model_module_version": "2.0.0",
      "model_name": "LayoutModel",
      "state": {
       "flex": "2"
      }
     },
     "6a0c3c99d9b347049c22ba91cf3c002f": {
      "model_module": "@jupyter-widgets/controls",
      "model_module_version": "2.0.0",
      "model_name": "FloatProgressModel",
      "state": {
       "bar_style": "success",
       "layout": "IPY_MODEL_f309ba1582bc4c2ebba224c428d32e5d",
       "max": 20,
       "style": "IPY_MODEL_1bc6012360b948e7865cad8e91f63195",
       "value": 20
      }
     },
     "6b30aea62cd744ffae9e8610c630b493": {
      "model_module": "@jupyter-widgets/controls",
      "model_module_version": "2.0.0",
      "model_name": "HBoxModel",
      "state": {
       "children": [
        "IPY_MODEL_5dafa9b6ac4641f2abf45af2aa836f92",
        "IPY_MODEL_4832d8d836154287a8e5f8bdc6c2f81a",
        "IPY_MODEL_4e821fcab8a3407cac05597ad47b0bc3"
       ],
       "layout": "IPY_MODEL_b96bc5c52a434a32bd99337ae2c41087"
      }
     },
     "6b682a08c12a4c03ad1ae99d4a9d9a16": {
      "model_module": "@jupyter-widgets/base",
      "model_module_version": "2.0.0",
      "model_name": "LayoutModel",
      "state": {
       "flex": "2"
      }
     },
     "6bf09def632347699080f447db2c7725": {
      "model_module": "@jupyter-widgets/controls",
      "model_module_version": "2.0.0",
      "model_name": "ProgressStyleModel",
      "state": {
       "description_width": ""
      }
     },
     "6bf190728e6745afaab739d77ceeb067": {
      "model_module": "@jupyter-widgets/controls",
      "model_module_version": "2.0.0",
      "model_name": "HTMLModel",
      "state": {
       "layout": "IPY_MODEL_b410c15bcb0b43729873c4710f193bf1",
       "style": "IPY_MODEL_589774c08afa4b36b1979346b0b62cda",
       "value": "Validate (5600 Steps) (DiceMetric=0.64075): 100%"
      }
     },
     "6c5b871bb59d43ceac1bcaf7a09919d1": {
      "model_module": "@jupyter-widgets/base",
      "model_module_version": "2.0.0",
      "model_name": "LayoutModel",
      "state": {}
     },
     "6c6743f13aa74efdb659cf1e5151e44b": {
      "model_module": "@jupyter-widgets/base",
      "model_module_version": "2.0.0",
      "model_name": "LayoutModel",
      "state": {
       "flex": "2"
      }
     },
     "6c73800b2f784a47a0723c5e579c4c8b": {
      "model_module": "@jupyter-widgets/base",
      "model_module_version": "2.0.0",
      "model_name": "LayoutModel",
      "state": {}
     },
     "6c96e69f053d45489b5fc748d2181cfb": {
      "model_module": "@jupyter-widgets/base",
      "model_module_version": "2.0.0",
      "model_name": "LayoutModel",
      "state": {
       "display": "inline-flex",
       "flex_flow": "row wrap",
       "width": "100%"
      }
     },
     "6cabfc1437f54eaab6950388a8103720": {
      "model_module": "@jupyter-widgets/controls",
      "model_module_version": "2.0.0",
      "model_name": "HTMLStyleModel",
      "state": {
       "description_width": "",
       "font_size": null,
       "text_color": null
      }
     },
     "6d054b3722bb4d0d9dd8ea7a1b778abd": {
      "model_module": "@jupyter-widgets/controls",
      "model_module_version": "2.0.0",
      "model_name": "HTMLModel",
      "state": {
       "layout": "IPY_MODEL_39fbc9435cd94001ac1529c6e7202ff7",
       "style": "IPY_MODEL_6f913f15d6ee4c8ebe7e046c24e91544",
       "value": " 20/20 [01:50&lt;00:00,  6.13s/it]"
      }
     },
     "6e3300e0294945b1a2268739d5aab16b": {
      "model_module": "@jupyter-widgets/controls",
      "model_module_version": "2.0.0",
      "model_name": "ProgressStyleModel",
      "state": {
       "description_width": ""
      }
     },
     "6e8cf6e66ccd480b8bba3309bcfa436d": {
      "model_module": "@jupyter-widgets/controls",
      "model_module_version": "2.0.0",
      "model_name": "FloatProgressModel",
      "state": {
       "bar_style": "success",
       "layout": "IPY_MODEL_b218be6506f843c892835e73c1e4813e",
       "max": 20,
       "style": "IPY_MODEL_a77a7d9d349745818a13dd4080fe0abc",
       "value": 20
      }
     },
     "6ee36c4a3ddc47e0a87eb0738df8415a": {
      "model_module": "@jupyter-widgets/controls",
      "model_module_version": "2.0.0",
      "model_name": "ProgressStyleModel",
      "state": {
       "description_width": ""
      }
     },
     "6f913f15d6ee4c8ebe7e046c24e91544": {
      "model_module": "@jupyter-widgets/controls",
      "model_module_version": "2.0.0",
      "model_name": "HTMLStyleModel",
      "state": {
       "description_width": "",
       "font_size": null,
       "text_color": null
      }
     },
     "6f96c1807230465fb1c24c4810fb73de": {
      "model_module": "@jupyter-widgets/controls",
      "model_module_version": "2.0.0",
      "model_name": "HTMLModel",
      "state": {
       "layout": "IPY_MODEL_586a988fff1f462ea92990012207f051",
       "style": "IPY_MODEL_7756c94eb168482f94aaa1dd0a74df17",
       "value": " 20/20 [01:52&lt;00:00,  6.32s/it]"
      }
     },
     "6fe0c5c4a01c49638556544949c42f2d": {
      "model_module": "@jupyter-widgets/controls",
      "model_module_version": "2.0.0",
      "model_name": "HTMLModel",
      "state": {
       "layout": "IPY_MODEL_829dff3672fc4e44ad319b4cad75b225",
       "style": "IPY_MODEL_c638a41bea9a4c12af7a8b1c800efe48",
       "value": " 20/20 [01:49&lt;00:00,  6.11s/it]"
      }
     },
     "7017895cec884c2b999d42440dd320bc": {
      "model_module": "@jupyter-widgets/controls",
      "model_module_version": "2.0.0",
      "model_name": "HTMLStyleModel",
      "state": {
       "description_width": "",
       "font_size": null,
       "text_color": null
      }
     },
     "708fef7ab9cf4e619da80892d8696eb0": {
      "model_module": "@jupyter-widgets/base",
      "model_module_version": "2.0.0",
      "model_name": "LayoutModel",
      "state": {
       "display": "inline-flex",
       "flex_flow": "row wrap",
       "width": "100%"
      }
     },
     "7093bee209904f96a6f64f46f32c990f": {
      "model_module": "@jupyter-widgets/base",
      "model_module_version": "2.0.0",
      "model_name": "LayoutModel",
      "state": {}
     },
     "70b316e7d3ea4aa1a7ccbcbb293cf437": {
      "model_module": "@jupyter-widgets/base",
      "model_module_version": "2.0.0",
      "model_name": "LayoutModel",
      "state": {
       "display": "inline-flex",
       "flex_flow": "row wrap",
       "width": "100%"
      }
     },
     "70d8d65855ef4d7888f8f650a6e3d9b7": {
      "model_module": "@jupyter-widgets/base",
      "model_module_version": "2.0.0",
      "model_name": "LayoutModel",
      "state": {}
     },
     "70d9b931e1ff4033b8508561e0e9a7b7": {
      "model_module": "@jupyter-widgets/base",
      "model_module_version": "2.0.0",
      "model_name": "LayoutModel",
      "state": {
       "display": "inline-flex",
       "flex_flow": "row wrap",
       "width": "100%"
      }
     },
     "70f1e28e02004c659617cef084a31e27": {
      "model_module": "@jupyter-widgets/controls",
      "model_module_version": "2.0.0",
      "model_name": "HBoxModel",
      "state": {
       "children": [
        "IPY_MODEL_79374cd2b59b41bb850d3b0544d8c1ec",
        "IPY_MODEL_c66b05ef08a34116ab42e61a134cdd0a",
        "IPY_MODEL_dec3a5c6ac0e4f2d952fa31182547cb1"
       ],
       "layout": "IPY_MODEL_9ec8ddf237464b5395439734af1afe25"
      }
     },
     "71400b40d9794f88969f718f7b1e6dc1": {
      "model_module": "@jupyter-widgets/controls",
      "model_module_version": "2.0.0",
      "model_name": "FloatProgressModel",
      "state": {
       "bar_style": "success",
       "layout": "IPY_MODEL_5c0d94956dc04b31942370607b2972fe",
       "max": 20,
       "style": "IPY_MODEL_81942f85a5b741b09197324d5e00e2b5",
       "value": 20
      }
     },
     "71fd78a6e5bd45a3a2532c9efa64088d": {
      "model_module": "@jupyter-widgets/controls",
      "model_module_version": "2.0.0",
      "model_name": "HTMLStyleModel",
      "state": {
       "description_width": "",
       "font_size": null,
       "text_color": null
      }
     },
     "720045d5c727464eb20b94484bdb014b": {
      "model_module": "@jupyter-widgets/controls",
      "model_module_version": "2.0.0",
      "model_name": "FloatProgressModel",
      "state": {
       "bar_style": "success",
       "layout": "IPY_MODEL_e48ca962a13f4617a7d016329e89ea9b",
       "max": 20,
       "style": "IPY_MODEL_dc48a14e891f4015bb74d4e1618da11c",
       "value": 20
      }
     },
     "72a4bcb12ca74e778f5f0ed4f41d6d7e": {
      "model_module": "@jupyter-widgets/controls",
      "model_module_version": "2.0.0",
      "model_name": "HBoxModel",
      "state": {
       "children": [
        "IPY_MODEL_c11760f15ca443a1832bafa0df0b31e7",
        "IPY_MODEL_9837a51e7b634b89b5d6bd87a55c1298",
        "IPY_MODEL_3da3837fc5d14962abce38a3694bbac0"
       ],
       "layout": "IPY_MODEL_b578a08f275f456798906f967a1b9dc4"
      }
     },
     "733bf8a617a54eca9fac15626f221389": {
      "model_module": "@jupyter-widgets/controls",
      "model_module_version": "2.0.0",
      "model_name": "HBoxModel",
      "state": {
       "children": [
        "IPY_MODEL_5ea4133776944aac9fac59c9b3497815",
        "IPY_MODEL_3983fe2bd2174d49973dfabfb548095e",
        "IPY_MODEL_f6a0a29024154398ab20171c3bff0972"
       ],
       "layout": "IPY_MODEL_9e6692b12f0d4d8991fc3eb7a391a4ce"
      }
     },
     "7382ccb89aef4169b262818a59daed70": {
      "model_module": "@jupyter-widgets/controls",
      "model_module_version": "2.0.0",
      "model_name": "HTMLModel",
      "state": {
       "layout": "IPY_MODEL_c91e8013d4274e8cb83a6a787be49f8e",
       "style": "IPY_MODEL_f1cfd1f5e702403ba3946cf84e6ea6ae",
       "value": " 20/20 [01:50&lt;00:00,  6.16s/it]"
      }
     },
     "7455698651224013a3a5dda4083a70e5": {
      "model_module": "@jupyter-widgets/controls",
      "model_module_version": "2.0.0",
      "model_name": "FloatProgressModel",
      "state": {
       "layout": "IPY_MODEL_bc3e548f9ec0437f88d4a27ccce9948b",
       "max": 20,
       "style": "IPY_MODEL_096e4f72ed884c25b72f067ef37115e9",
       "value": 10
      }
     },
     "745ef784d17c4e3288f66f858869348e": {
      "model_module": "@jupyter-widgets/base",
      "model_module_version": "2.0.0",
      "model_name": "LayoutModel",
      "state": {}
     },
     "749d76df9caa4b48a744e0a2c7351324": {
      "model_module": "@jupyter-widgets/controls",
      "model_module_version": "2.0.0",
      "model_name": "HTMLStyleModel",
      "state": {
       "description_width": "",
       "font_size": null,
       "text_color": null
      }
     },
     "74fa5e0a9ef24c0cb333387d8051e0da": {
      "model_module": "@jupyter-widgets/controls",
      "model_module_version": "2.0.0",
      "model_name": "HBoxModel",
      "state": {
       "children": [
        "IPY_MODEL_fa3dbb49228849b69abe318c3fc71d84",
        "IPY_MODEL_e7d558d48ba049e8885874d1d2612c00",
        "IPY_MODEL_2e434552e991433a9d77ee245259dea2"
       ],
       "layout": "IPY_MODEL_a6d6e322024a46588707a5fb429ba06d"
      }
     },
     "761434a95d734fa0ad4164cb89465a9e": {
      "model_module": "@jupyter-widgets/controls",
      "model_module_version": "2.0.0",
      "model_name": "ProgressStyleModel",
      "state": {
       "description_width": ""
      }
     },
     "7638ab876ace4bb59124426a59d26d66": {
      "model_module": "@jupyter-widgets/base",
      "model_module_version": "2.0.0",
      "model_name": "LayoutModel",
      "state": {
       "flex": "2"
      }
     },
     "769626e21471499195fc0c88c33d800c": {
      "model_module": "@jupyter-widgets/base",
      "model_module_version": "2.0.0",
      "model_name": "LayoutModel",
      "state": {}
     },
     "76e602af5fc6414c8f699e449146cf63": {
      "model_module": "@jupyter-widgets/controls",
      "model_module_version": "2.0.0",
      "model_name": "HTMLStyleModel",
      "state": {
       "description_width": "",
       "font_size": null,
       "text_color": null
      }
     },
     "7756c94eb168482f94aaa1dd0a74df17": {
      "model_module": "@jupyter-widgets/controls",
      "model_module_version": "2.0.0",
      "model_name": "HTMLStyleModel",
      "state": {
       "description_width": "",
       "font_size": null,
       "text_color": null
      }
     },
     "77835ccaa7964975a178db210eed2c29": {
      "model_module": "@jupyter-widgets/controls",
      "model_module_version": "2.0.0",
      "model_name": "HBoxModel",
      "state": {
       "children": [
        "IPY_MODEL_db0bad12a32f443ba2005296b462db23",
        "IPY_MODEL_fc217a38b23d44a0b32ddc6aaf30d3c9",
        "IPY_MODEL_6f96c1807230465fb1c24c4810fb73de"
       ],
       "layout": "IPY_MODEL_065e3abf578f4b11832a024faa67f5e8"
      }
     },
     "7807313f88f449b78c3966230305e40f": {
      "model_module": "@jupyter-widgets/base",
      "model_module_version": "2.0.0",
      "model_name": "LayoutModel",
      "state": {
       "display": "inline-flex",
       "flex_flow": "row wrap",
       "width": "100%"
      }
     },
     "780f659ddb8d4f93ba368cdf67f45932": {
      "model_module": "@jupyter-widgets/base",
      "model_module_version": "2.0.0",
      "model_name": "LayoutModel",
      "state": {
       "flex": "2"
      }
     },
     "7835e6f79cad4bb19ce211b6e10a8d23": {
      "model_module": "@jupyter-widgets/controls",
      "model_module_version": "2.0.0",
      "model_name": "FloatProgressModel",
      "state": {
       "bar_style": "success",
       "layout": "IPY_MODEL_65d60c076b7746e0a312b1b215d905d8",
       "max": 20,
       "style": "IPY_MODEL_67f859f5d850408a9058004509ba2890",
       "value": 20
      }
     },
     "784bbda270504a89a7b981a594cc27dd": {
      "model_module": "@jupyter-widgets/base",
      "model_module_version": "2.0.0",
      "model_name": "LayoutModel",
      "state": {}
     },
     "78630fb723ab475898c6abfe78498ebf": {
      "model_module": "@jupyter-widgets/base",
      "model_module_version": "2.0.0",
      "model_name": "LayoutModel",
      "state": {}
     },
     "79267e520c1e4b07940272e03ccf1c89": {
      "model_module": "@jupyter-widgets/controls",
      "model_module_version": "2.0.0",
      "model_name": "ProgressStyleModel",
      "state": {
       "description_width": ""
      }
     },
     "79374cd2b59b41bb850d3b0544d8c1ec": {
      "model_module": "@jupyter-widgets/controls",
      "model_module_version": "2.0.0",
      "model_name": "HTMLModel",
      "state": {
       "layout": "IPY_MODEL_aabd1045ec254a27ad035e078292211f",
       "style": "IPY_MODEL_594d8a8e77e944cfbcd80e01c04763f8",
       "value": "Validate (3600 Steps) (DiceMetric=0.44402): 100%"
      }
     },
     "7995a2603c524903896ce29878481956": {
      "model_module": "@jupyter-widgets/controls",
      "model_module_version": "2.0.0",
      "model_name": "FloatProgressModel",
      "state": {
       "bar_style": "success",
       "layout": "IPY_MODEL_8bb1e5db5262457c8a06f5f230f94cfc",
       "max": 20,
       "style": "IPY_MODEL_aa469f2b4a224565b1ffe57974b22263",
       "value": 20
      }
     },
     "79b32c112fba4adc9ba3a7313cd256ba": {
      "model_module": "@jupyter-widgets/controls",
      "model_module_version": "2.0.0",
      "model_name": "HTMLStyleModel",
      "state": {
       "description_width": "",
       "font_size": null,
       "text_color": null
      }
     },
     "7a64e41471814238b95e70e1ec119343": {
      "model_module": "@jupyter-widgets/controls",
      "model_module_version": "2.0.0",
      "model_name": "HTMLModel",
      "state": {
       "layout": "IPY_MODEL_745ef784d17c4e3288f66f858869348e",
       "style": "IPY_MODEL_bd5a2757041c4250a994ab55f1c50d8e",
       "value": "Validate (4100 Steps) (DiceMetric=0.56125): 100%"
      }
     },
     "7a6fcfee28d745459571d55fa0a41ad2": {
      "model_module": "@jupyter-widgets/base",
      "model_module_version": "2.0.0",
      "model_name": "LayoutModel",
      "state": {}
     },
     "7a920587b75c496bb4b79cbbc8b394c0": {
      "model_module": "@jupyter-widgets/controls",
      "model_module_version": "2.0.0",
      "model_name": "HTMLModel",
      "state": {
       "layout": "IPY_MODEL_aae4d7f874ff4894b23c87bc16244b8f",
       "style": "IPY_MODEL_7017895cec884c2b999d42440dd320bc",
       "value": " 20/20 [01:49&lt;00:00,  6.11s/it]"
      }
     },
     "7ac8fe9a511448c78a5542fba805ec8f": {
      "model_module": "@jupyter-widgets/base",
      "model_module_version": "2.0.0",
      "model_name": "LayoutModel",
      "state": {}
     },
     "7b4f9ce3d4d7457bbee48a267edbff8f": {
      "model_module": "@jupyter-widgets/controls",
      "model_module_version": "2.0.0",
      "model_name": "HTMLModel",
      "state": {
       "layout": "IPY_MODEL_8cfd34c136ae4b6e9961143d11cfffc0",
       "style": "IPY_MODEL_7d802471eb96472c9e3dddd991896495",
       "value": "100%"
      }
     },
     "7c02afa05615495f948a358f48d9d6f0": {
      "model_module": "@jupyter-widgets/controls",
      "model_module_version": "2.0.0",
      "model_name": "HTMLStyleModel",
      "state": {
       "description_width": "",
       "font_size": null,
       "text_color": null
      }
     },
     "7c2c0ad4808f438cb5aa0b0adfeec7d3": {
      "model_module": "@jupyter-widgets/base",
      "model_module_version": "2.0.0",
      "model_name": "LayoutModel",
      "state": {
       "display": "inline-flex",
       "flex_flow": "row wrap",
       "width": "100%"
      }
     },
     "7c5de9db8987428da56acbdedb0e8bac": {
      "model_module": "@jupyter-widgets/controls",
      "model_module_version": "2.0.0",
      "model_name": "HTMLStyleModel",
      "state": {
       "description_width": "",
       "font_size": null,
       "text_color": null
      }
     },
     "7c8be4727d4943b399c01e11ba77bd21": {
      "model_module": "@jupyter-widgets/controls",
      "model_module_version": "2.0.0",
      "model_name": "FloatProgressModel",
      "state": {
       "bar_style": "success",
       "layout": "IPY_MODEL_6a05e3c09e4d4343b83e1bd3a7a05eb4",
       "max": 20,
       "style": "IPY_MODEL_1a3d62bf2cbe4999a0ece14c5886ffc1",
       "value": 20
      }
     },
     "7cf2297b881b4fdda48d16ab05d99c50": {
      "model_module": "@jupyter-widgets/base",
      "model_module_version": "2.0.0",
      "model_name": "LayoutModel",
      "state": {}
     },
     "7cfbfa93c0d240b0b9f502909d979724": {
      "model_module": "@jupyter-widgets/controls",
      "model_module_version": "2.0.0",
      "model_name": "HBoxModel",
      "state": {
       "children": [
        "IPY_MODEL_be3c7ef3ef8c45888a30dc9855c91021",
        "IPY_MODEL_1fa3fd1dcc7f46d0bbf42331ad3f4364",
        "IPY_MODEL_5fd8681db74b420da71249491f47f7d7"
       ],
       "layout": "IPY_MODEL_6c96e69f053d45489b5fc748d2181cfb"
      }
     },
     "7d549c74b46045bb8945393dc97142e2": {
      "model_module": "@jupyter-widgets/controls",
      "model_module_version": "2.0.0",
      "model_name": "ProgressStyleModel",
      "state": {
       "description_width": ""
      }
     },
     "7d802471eb96472c9e3dddd991896495": {
      "model_module": "@jupyter-widgets/controls",
      "model_module_version": "2.0.0",
      "model_name": "HTMLStyleModel",
      "state": {
       "description_width": "",
       "font_size": null,
       "text_color": null
      }
     },
     "7d8b913dfa1349f49f9dd5e424c7b2cd": {
      "model_module": "@jupyter-widgets/controls",
      "model_module_version": "2.0.0",
      "model_name": "ProgressStyleModel",
      "state": {
       "description_width": ""
      }
     },
     "7dc0721c1d7b41589119e344e21f8fcf": {
      "model_module": "@jupyter-widgets/base",
      "model_module_version": "2.0.0",
      "model_name": "LayoutModel",
      "state": {}
     },
     "7dc9f13bb4ea40428b82bfffeeec5651": {
      "model_module": "@jupyter-widgets/base",
      "model_module_version": "2.0.0",
      "model_name": "LayoutModel",
      "state": {
       "flex": "2"
      }
     },
     "7e32ab411e754202b1f32129ef947d1d": {
      "model_module": "@jupyter-widgets/base",
      "model_module_version": "2.0.0",
      "model_name": "LayoutModel",
      "state": {
       "display": "inline-flex",
       "flex_flow": "row wrap",
       "width": "100%"
      }
     },
     "7e3e00e42414480abc1cbba5eac11908": {
      "model_module": "@jupyter-widgets/controls",
      "model_module_version": "2.0.0",
      "model_name": "ProgressStyleModel",
      "state": {
       "description_width": ""
      }
     },
     "7e60cf1142ad4ba59a3049bffe5d1e7f": {
      "model_module": "@jupyter-widgets/base",
      "model_module_version": "2.0.0",
      "model_name": "LayoutModel",
      "state": {}
     },
     "7ec63020e5034531a787715001ba5773": {
      "model_module": "@jupyter-widgets/controls",
      "model_module_version": "2.0.0",
      "model_name": "ProgressStyleModel",
      "state": {
       "description_width": ""
      }
     },
     "7f0a8b4345574c6ba06a0ab65b28d896": {
      "model_module": "@jupyter-widgets/base",
      "model_module_version": "2.0.0",
      "model_name": "LayoutModel",
      "state": {}
     },
     "7f0b4b9060684d16ade4f8e6597c7e97": {
      "model_module": "@jupyter-widgets/controls",
      "model_module_version": "2.0.0",
      "model_name": "FloatProgressModel",
      "state": {
       "bar_style": "success",
       "layout": "IPY_MODEL_69f1d5ae245d49b3b40fa11fd585bf4d",
       "max": 20,
       "style": "IPY_MODEL_32728d05b0334a6d97681c812d4e6409",
       "value": 20
      }
     },
     "7f33d14212234a79bd3ccdc59e6245cf": {
      "model_module": "@jupyter-widgets/base",
      "model_module_version": "2.0.0",
      "model_name": "LayoutModel",
      "state": {}
     },
     "7f7925c271b94671a169dfdfbd0c2ddb": {
      "model_module": "@jupyter-widgets/controls",
      "model_module_version": "2.0.0",
      "model_name": "HTMLStyleModel",
      "state": {
       "description_width": "",
       "font_size": null,
       "text_color": null
      }
     },
     "7fd6bbf67b7a408bbb469925ec2c8106": {
      "model_module": "@jupyter-widgets/base",
      "model_module_version": "2.0.0",
      "model_name": "LayoutModel",
      "state": {
       "display": "inline-flex",
       "flex_flow": "row wrap",
       "width": "100%"
      }
     },
     "801ddea6d5ea4097bedd3fd5692a3468": {
      "model_module": "@jupyter-widgets/base",
      "model_module_version": "2.0.0",
      "model_name": "LayoutModel",
      "state": {}
     },
     "80291d722e71447595b2ec1e399ea1ee": {
      "model_module": "@jupyter-widgets/controls",
      "model_module_version": "2.0.0",
      "model_name": "ProgressStyleModel",
      "state": {
       "description_width": ""
      }
     },
     "8036848105b345e58a098bafd7a2d7b0": {
      "model_module": "@jupyter-widgets/base",
      "model_module_version": "2.0.0",
      "model_name": "LayoutModel",
      "state": {
       "flex": "2"
      }
     },
     "80549da0b7574537b42d911c20223a1c": {
      "model_module": "@jupyter-widgets/base",
      "model_module_version": "2.0.0",
      "model_name": "LayoutModel",
      "state": {}
     },
     "80bb3628fda34e0795df746cb7fc267b": {
      "model_module": "@jupyter-widgets/controls",
      "model_module_version": "2.0.0",
      "model_name": "HTMLModel",
      "state": {
       "layout": "IPY_MODEL_52fd6e61fa844d359a1dada7507fa98d",
       "style": "IPY_MODEL_ffd910ad0cb345939ab1f9cf62a26192",
       "value": "Validate (1400 Steps) (DiceMetric=0.37048): 100%"
      }
     },
     "81810ca8efc244648c1e1d185009cc83": {
      "model_module": "@jupyter-widgets/controls",
      "model_module_version": "2.0.0",
      "model_name": "HBoxModel",
      "state": {
       "children": [
        "IPY_MODEL_b89096cc43d94eeb9125ee5dcb872eab",
        "IPY_MODEL_c1fa70fc3d9a4d768c037670328c4390",
        "IPY_MODEL_9b9a0aa086384b1daa8d4ff1afc0c72f"
       ],
       "layout": "IPY_MODEL_70d9b931e1ff4033b8508561e0e9a7b7"
      }
     },
     "818efe1cfbb84d04a8b6e212490cb141": {
      "model_module": "@jupyter-widgets/base",
      "model_module_version": "2.0.0",
      "model_name": "LayoutModel",
      "state": {}
     },
     "81942f85a5b741b09197324d5e00e2b5": {
      "model_module": "@jupyter-widgets/controls",
      "model_module_version": "2.0.0",
      "model_name": "ProgressStyleModel",
      "state": {
       "description_width": ""
      }
     },
     "81a08ef17fb743c8a504300a9b934f15": {
      "model_module": "@jupyter-widgets/controls",
      "model_module_version": "2.0.0",
      "model_name": "HTMLModel",
      "state": {
       "layout": "IPY_MODEL_9b2b8ae09b734e369fe198af5cf48454",
       "style": "IPY_MODEL_ffa43501e6bf44d197ff929c71c1098d",
       "value": " 20/20 [01:50&lt;00:00,  6.14s/it]"
      }
     },
     "81b6aafbb7a144cf970bdcd11d8a270c": {
      "model_module": "@jupyter-widgets/controls",
      "model_module_version": "2.0.0",
      "model_name": "ProgressStyleModel",
      "state": {
       "description_width": ""
      }
     },
     "81e63cc55afc47568277e08371221886": {
      "model_module": "@jupyter-widgets/controls",
      "model_module_version": "2.0.0",
      "model_name": "ProgressStyleModel",
      "state": {
       "description_width": ""
      }
     },
     "829dff3672fc4e44ad319b4cad75b225": {
      "model_module": "@jupyter-widgets/base",
      "model_module_version": "2.0.0",
      "model_name": "LayoutModel",
      "state": {}
     },
     "82dd2d6503eb4fb1bf7393d69c6248c7": {
      "model_module": "@jupyter-widgets/controls",
      "model_module_version": "2.0.0",
      "model_name": "HTMLModel",
      "state": {
       "layout": "IPY_MODEL_0a1a8b79459e4546972ecdf1997c5c57",
       "style": "IPY_MODEL_c410efc1969f4529860ebe4fac8618f5",
       "value": "Validate (3300 Steps) (DiceMetric=0.44175): 100%"
      }
     },
     "83b6aae351a4490dbeaca04c2ab328d9": {
      "model_module": "@jupyter-widgets/base",
      "model_module_version": "2.0.0",
      "model_name": "LayoutModel",
      "state": {}
     },
     "8402b58d650b4f8ba73b5ae3bb24b516": {
      "model_module": "@jupyter-widgets/controls",
      "model_module_version": "2.0.0",
      "model_name": "HTMLStyleModel",
      "state": {
       "description_width": "",
       "font_size": null,
       "text_color": null
      }
     },
     "840c443f17954847ba35db93d71f4086": {
      "model_module": "@jupyter-widgets/base",
      "model_module_version": "2.0.0",
      "model_name": "LayoutModel",
      "state": {
       "flex": "2"
      }
     },
     "84304ecfc27148a8b694888d9d2a17db": {
      "model_module": "@jupyter-widgets/base",
      "model_module_version": "2.0.0",
      "model_name": "LayoutModel",
      "state": {
       "display": "inline-flex",
       "flex_flow": "row wrap",
       "width": "100%"
      }
     },
     "845581ee204241e8ae75c9fda4da5f75": {
      "model_module": "@jupyter-widgets/controls",
      "model_module_version": "2.0.0",
      "model_name": "HTMLModel",
      "state": {
       "layout": "IPY_MODEL_a4a9b557aabf459d965b624ff169f501",
       "style": "IPY_MODEL_455454fbca874400a4900e2c6aceebef",
       "value": "Validate (1700 Steps) (DiceMetric=0.43007): 100%"
      }
     },
     "85026b88e4c34d1787de666b811ba591": {
      "model_module": "@jupyter-widgets/controls",
      "model_module_version": "2.0.0",
      "model_name": "ProgressStyleModel",
      "state": {
       "description_width": ""
      }
     },
     "85b7d47c0e884320a463ab73451e0191": {
      "model_module": "@jupyter-widgets/base",
      "model_module_version": "2.0.0",
      "model_name": "LayoutModel",
      "state": {
       "display": "inline-flex",
       "flex_flow": "row wrap",
       "width": "100%"
      }
     },
     "8722da0361484c999618990068b66dc6": {
      "model_module": "@jupyter-widgets/base",
      "model_module_version": "2.0.0",
      "model_name": "LayoutModel",
      "state": {}
     },
     "873059b210cc4b00a674f4100fe844d3": {
      "model_module": "@jupyter-widgets/base",
      "model_module_version": "2.0.0",
      "model_name": "LayoutModel",
      "state": {}
     },
     "87d2ef2bbe994e5ebb90959109bf9f26": {
      "model_module": "@jupyter-widgets/controls",
      "model_module_version": "2.0.0",
      "model_name": "HTMLModel",
      "state": {
       "layout": "IPY_MODEL_4303012ed3b04b0789098e7cadd2f280",
       "style": "IPY_MODEL_366f123af23444c1a570bbe83a6d6631",
       "value": " 20/20 [01:51&lt;00:00,  6.20s/it]"
      }
     },
     "886fc756405a48b5bfee3d469dbd872e": {
      "model_module": "@jupyter-widgets/controls",
      "model_module_version": "2.0.0",
      "model_name": "ProgressStyleModel",
      "state": {
       "description_width": ""
      }
     },
     "88bc811e0996447a99f59fbf3f642238": {
      "model_module": "@jupyter-widgets/controls",
      "model_module_version": "2.0.0",
      "model_name": "HTMLStyleModel",
      "state": {
       "description_width": "",
       "font_size": null,
       "text_color": null
      }
     },
     "8b6e2b2edabd4f61890cd7df030e0bb3": {
      "model_module": "@jupyter-widgets/controls",
      "model_module_version": "2.0.0",
      "model_name": "HTMLStyleModel",
      "state": {
       "description_width": "",
       "font_size": null,
       "text_color": null
      }
     },
     "8b8b57bd5cf642c29198230b1665a0e2": {
      "model_module": "@jupyter-widgets/base",
      "model_module_version": "2.0.0",
      "model_name": "LayoutModel",
      "state": {}
     },
     "8b9ebd3d2c0047c488408643325dc11e": {
      "model_module": "@jupyter-widgets/controls",
      "model_module_version": "2.0.0",
      "model_name": "FloatProgressModel",
      "state": {
       "bar_style": "success",
       "layout": "IPY_MODEL_bb479c14c5f74887bb261c5de8705809",
       "max": 20,
       "style": "IPY_MODEL_5f5cb51d3b684d8ca03bd3d8b5356b47",
       "value": 20
      }
     },
     "8bb1e5db5262457c8a06f5f230f94cfc": {
      "model_module": "@jupyter-widgets/base",
      "model_module_version": "2.0.0",
      "model_name": "LayoutModel",
      "state": {
       "flex": "2"
      }
     },
     "8c3cf6cf87d848baacbadb70c900aa27": {
      "model_module": "@jupyter-widgets/controls",
      "model_module_version": "2.0.0",
      "model_name": "HTMLModel",
      "state": {
       "layout": "IPY_MODEL_5c003b863a034a35a95af52701efa6ab",
       "style": "IPY_MODEL_eb2c882a097041d588e6c19c4c1f31ae",
       "value": "Validate (2000 Steps) (DiceMetric=0.38750): 100%"
      }
     },
     "8c46b1625b8c4385bbbb54773e9f7575": {
      "model_module": "@jupyter-widgets/controls",
      "model_module_version": "2.0.0",
      "model_name": "FloatProgressModel",
      "state": {
       "bar_style": "success",
       "layout": "IPY_MODEL_e6864ee7446d4417867009546453a109",
       "max": 20,
       "style": "IPY_MODEL_85026b88e4c34d1787de666b811ba591",
       "value": 20
      }
     },
     "8c79c7befabe433cbfaa333cf27e4b4f": {
      "model_module": "@jupyter-widgets/controls",
      "model_module_version": "2.0.0",
      "model_name": "HTMLModel",
      "state": {
       "layout": "IPY_MODEL_9b9926ebcc764b13813fc33305fafd81",
       "style": "IPY_MODEL_f87ce78bd7a1472a9f3db416088c06d6",
       "value": "Validate (5500 Steps) (DiceMetric=0.67368): 100%"
      }
     },
     "8c7d0686bcd0405cbc0ac774268fc2fb": {
      "model_module": "@jupyter-widgets/controls",
      "model_module_version": "2.0.0",
      "model_name": "HBoxModel",
      "state": {
       "children": [
        "IPY_MODEL_534b3930ebb040df9977f37f05c38623",
        "IPY_MODEL_99192c149d9e41628917d48df878a8de",
        "IPY_MODEL_a36b288e729646518784d922dacc8320"
       ],
       "layout": "IPY_MODEL_2ec523651ebb493184fe2a5a87a29afd"
      }
     },
     "8cfd34c136ae4b6e9961143d11cfffc0": {
      "model_module": "@jupyter-widgets/base",
      "model_module_version": "2.0.0",
      "model_name": "LayoutModel",
      "state": {}
     },
     "8d16536058ee4d679d74b416070efd97": {
      "model_module": "@jupyter-widgets/controls",
      "model_module_version": "2.0.0",
      "model_name": "HTMLStyleModel",
      "state": {
       "description_width": "",
       "font_size": null,
       "text_color": null
      }
     },
     "8d5fe3e9e17344a580b0efd609b642f2": {
      "model_module": "@jupyter-widgets/controls",
      "model_module_version": "2.0.0",
      "model_name": "HTMLStyleModel",
      "state": {
       "description_width": "",
       "font_size": null,
       "text_color": null
      }
     },
     "8defe2291ce84eac858db3d27fd9e351": {
      "model_module": "@jupyter-widgets/base",
      "model_module_version": "2.0.0",
      "model_name": "LayoutModel",
      "state": {}
     },
     "8e00a05759d84cd7b08c2a17c0275f23": {
      "model_module": "@jupyter-widgets/base",
      "model_module_version": "2.0.0",
      "model_name": "LayoutModel",
      "state": {}
     },
     "8e3c93ba302b4112b4eced709e21c56d": {
      "model_module": "@jupyter-widgets/base",
      "model_module_version": "2.0.0",
      "model_name": "LayoutModel",
      "state": {
       "display": "inline-flex",
       "flex_flow": "row wrap",
       "width": "100%"
      }
     },
     "8ea800794a374d73a3fa9c50f7bb9935": {
      "model_module": "@jupyter-widgets/controls",
      "model_module_version": "2.0.0",
      "model_name": "HBoxModel",
      "state": {
       "children": [
        "IPY_MODEL_f6889e52bc4e489fa395a5ef2861ed23",
        "IPY_MODEL_60ad15a2e9be4fb993d7638e34f24b03",
        "IPY_MODEL_2724d70a1a2542619dc1eeb931befcef"
       ],
       "layout": "IPY_MODEL_5b89ba706a1e43949267eaf6de9596cf"
      }
     },
     "8eba32bc91c049b491e99cca2aa7b227": {
      "model_module": "@jupyter-widgets/controls",
      "model_module_version": "2.0.0",
      "model_name": "HBoxModel",
      "state": {
       "children": [
        "IPY_MODEL_d701452af6d2439697087f5f0a03138f",
        "IPY_MODEL_1c175d0c11e8495d8da36836b290a7f7",
        "IPY_MODEL_ab4595188e694250b215dedc701935ba"
       ],
       "layout": "IPY_MODEL_43d11c4803e74858a09680d50ab48bd0"
      }
     },
     "8edbec94f96040f98d7b04c94857f185": {
      "model_module": "@jupyter-widgets/controls",
      "model_module_version": "2.0.0",
      "model_name": "ProgressStyleModel",
      "state": {
       "description_width": ""
      }
     },
     "8fa9aa1203a54d38b6d23b345e997619": {
      "model_module": "@jupyter-widgets/controls",
      "model_module_version": "2.0.0",
      "model_name": "HTMLModel",
      "state": {
       "layout": "IPY_MODEL_818efe1cfbb84d04a8b6e212490cb141",
       "style": "IPY_MODEL_1ec7de2083c04cb982b874df424c47c0",
       "value": "Validate (2400 Steps) (DiceMetric=0.48575): 100%"
      }
     },
     "8fd935a5e5594e74921653c66665d06d": {
      "model_module": "@jupyter-widgets/controls",
      "model_module_version": "2.0.0",
      "model_name": "ProgressStyleModel",
      "state": {
       "description_width": ""
      }
     },
     "9028f744d5d64671b6b8df523c19bf96": {
      "model_module": "@jupyter-widgets/base",
      "model_module_version": "2.0.0",
      "model_name": "LayoutModel",
      "state": {}
     },
     "903f26ae3eae4f8f8e14879fd1dc6302": {
      "model_module": "@jupyter-widgets/base",
      "model_module_version": "2.0.0",
      "model_name": "LayoutModel",
      "state": {
       "flex": "2"
      }
     },
     "908cb1c76e1f4c7ebc3d89345819775f": {
      "model_module": "@jupyter-widgets/base",
      "model_module_version": "2.0.0",
      "model_name": "LayoutModel",
      "state": {}
     },
     "90a099711bde454aa2eb2dc5ed162603": {
      "model_module": "@jupyter-widgets/controls",
      "model_module_version": "2.0.0",
      "model_name": "HTMLStyleModel",
      "state": {
       "description_width": "",
       "font_size": null,
       "text_color": null
      }
     },
     "90d58a27a25e4eaca104e6da15260fd8": {
      "model_module": "@jupyter-widgets/controls",
      "model_module_version": "2.0.0",
      "model_name": "ProgressStyleModel",
      "state": {
       "description_width": ""
      }
     },
     "910b6021a9ad491789dab00ecf801b06": {
      "model_module": "@jupyter-widgets/base",
      "model_module_version": "2.0.0",
      "model_name": "LayoutModel",
      "state": {
       "flex": "2"
      }
     },
     "911f9ee2f47e4b18bc066bd79e540258": {
      "model_module": "@jupyter-widgets/controls",
      "model_module_version": "2.0.0",
      "model_name": "HBoxModel",
      "state": {
       "children": [
        "IPY_MODEL_d225c569770f4e1584d53589c055107b",
        "IPY_MODEL_71400b40d9794f88969f718f7b1e6dc1",
        "IPY_MODEL_1cc7955ca20840a5bff00cf139f161eb"
       ],
       "layout": "IPY_MODEL_add7d7c91ca34e14b90f41d18ae33a46"
      }
     },
     "9127d6f900d94f40b2cc8fa4ada6444d": {
      "model_module": "@jupyter-widgets/base",
      "model_module_version": "2.0.0",
      "model_name": "LayoutModel",
      "state": {
       "flex": "2"
      }
     },
     "92059c38f7254aaba025d061d0229048": {
      "model_module": "@jupyter-widgets/controls",
      "model_module_version": "2.0.0",
      "model_name": "HTMLModel",
      "state": {
       "layout": "IPY_MODEL_c482d5a938134dd88a60425f0319795f",
       "style": "IPY_MODEL_a705a102cb67468a8f7d08ef969c6e46",
       "value": "Validate (400 Steps) (DiceMetric=0.19912): 100%"
      }
     },
     "920741b9d7864965925a18cb7ea53df2": {
      "model_module": "@jupyter-widgets/controls",
      "model_module_version": "2.0.0",
      "model_name": "HTMLModel",
      "state": {
       "layout": "IPY_MODEL_1b1a6c5c05f947a4bb025b9fe47ab7bb",
       "style": "IPY_MODEL_0a0979668cea4660b6a52ec93cbb858c",
       "value": "Validate (1000 Steps) (DiceMetric=0.33151): 100%"
      }
     },
     "923bb5e167284f38b04f31c569c3aef0": {
      "model_module": "@jupyter-widgets/controls",
      "model_module_version": "2.0.0",
      "model_name": "FloatProgressModel",
      "state": {
       "bar_style": "success",
       "layout": "IPY_MODEL_f9f06a7b6a1c4185b8027faae27c797f",
       "max": 20,
       "style": "IPY_MODEL_8fd935a5e5594e74921653c66665d06d",
       "value": 20
      }
     },
     "9277d189fcca473783aa45dc69819870": {
      "model_module": "@jupyter-widgets/controls",
      "model_module_version": "2.0.0",
      "model_name": "FloatProgressModel",
      "state": {
       "bar_style": "success",
       "layout": "IPY_MODEL_bee5304fd4134d6ba78c9a476a2bd735",
       "max": 20,
       "style": "IPY_MODEL_5f6bf761ba114c5db312368ce3d70bc4",
       "value": 20
      }
     },
     "92deaffc5d2643238f34249e2fa7d3c9": {
      "model_module": "@jupyter-widgets/controls",
      "model_module_version": "2.0.0",
      "model_name": "HBoxModel",
      "state": {
       "children": [
        "IPY_MODEL_5b0908a02b23481e911420c6ce3ea0dd",
        "IPY_MODEL_545a3c9f868f4811971eb02a1194c3bf",
        "IPY_MODEL_f84bf91e8d9f495e997f825ec8e6c7f3"
       ],
       "layout": "IPY_MODEL_a6aab6ab58eb4290b40fb308a0288021"
      }
     },
     "93a2622ecf3d4cea82eba447531c72ac": {
      "model_module": "@jupyter-widgets/controls",
      "model_module_version": "2.0.0",
      "model_name": "HTMLStyleModel",
      "state": {
       "description_width": "",
       "font_size": null,
       "text_color": null
      }
     },
     "93fec8342a8f4855b273d0c655855539": {
      "model_module": "@jupyter-widgets/controls",
      "model_module_version": "2.0.0",
      "model_name": "HTMLStyleModel",
      "state": {
       "description_width": "",
       "font_size": null,
       "text_color": null
      }
     },
     "9463839d61594966b3c0740e837b965b": {
      "model_module": "@jupyter-widgets/controls",
      "model_module_version": "2.0.0",
      "model_name": "HBoxModel",
      "state": {
       "children": [
        "IPY_MODEL_1a3c7e4557de4c0d9903e8108825229d",
        "IPY_MODEL_5e66e9fa821b4c6bb37a88ac0b741549",
        "IPY_MODEL_bbaa847d2234458cbe36a9884b0d1621"
       ],
       "layout": "IPY_MODEL_f239bfc170614be78558d7e22d42c892"
      }
     },
     "94be79ace5e64ea0a653654e33f3bc5a": {
      "model_module": "@jupyter-widgets/controls",
      "model_module_version": "2.0.0",
      "model_name": "HTMLModel",
      "state": {
       "layout": "IPY_MODEL_9f0c9c9ad5d44e22af112a7258c708ac",
       "style": "IPY_MODEL_e5747da28bcf4e45a8cf3352028a677c",
       "value": "Validate (2800 Steps) (DiceMetric=0.43365): 100%"
      }
     },
     "95224c8fbb4d4bfbad37085516314119": {
      "model_module": "@jupyter-widgets/controls",
      "model_module_version": "2.0.0",
      "model_name": "HBoxModel",
      "state": {
       "children": [
        "IPY_MODEL_5a37cab5b9d740fe95e6f872d0d7b512",
        "IPY_MODEL_c57edae12219497a8cab07255225e9e4",
        "IPY_MODEL_aa9866bbdcd8467191402c94eccacdf0"
       ],
       "layout": "IPY_MODEL_fa214056eb8a4564aaa18b21ee851fbb"
      }
     },
     "95e212c0d4644e628ff84ef658a88203": {
      "model_module": "@jupyter-widgets/base",
      "model_module_version": "2.0.0",
      "model_name": "LayoutModel",
      "state": {
       "flex": "2"
      }
     },
     "95f8af9d75264872835c95943049fa59": {
      "model_module": "@jupyter-widgets/base",
      "model_module_version": "2.0.0",
      "model_name": "LayoutModel",
      "state": {
       "display": "inline-flex",
       "flex_flow": "row wrap",
       "width": "100%"
      }
     },
     "9621422711cf432f898132cb47bfd185": {
      "model_module": "@jupyter-widgets/controls",
      "model_module_version": "2.0.0",
      "model_name": "ProgressStyleModel",
      "state": {
       "description_width": ""
      }
     },
     "96635ff8b4e24876a34366fcf316f109": {
      "model_module": "@jupyter-widgets/controls",
      "model_module_version": "2.0.0",
      "model_name": "HTMLStyleModel",
      "state": {
       "description_width": "",
       "font_size": null,
       "text_color": null
      }
     },
     "96901b8355d34240a2e4795333dfbcf8": {
      "model_module": "@jupyter-widgets/controls",
      "model_module_version": "2.0.0",
      "model_name": "HBoxModel",
      "state": {
       "children": [
        "IPY_MODEL_cfdebcb84fa044c5a332c834904b4781",
        "IPY_MODEL_422acdfba1fc44359908303d7b1c65a1",
        "IPY_MODEL_7a920587b75c496bb4b79cbbc8b394c0"
       ],
       "layout": "IPY_MODEL_ed416620a64e4185b529d226a0aa6fda"
      }
     },
     "96906bc8bdca47958a5a6e9c46054666": {
      "model_module": "@jupyter-widgets/controls",
      "model_module_version": "2.0.0",
      "model_name": "HTMLStyleModel",
      "state": {
       "description_width": "",
       "font_size": null,
       "text_color": null
      }
     },
     "9782bc894c0249398a80a0c73a245edf": {
      "model_module": "@jupyter-widgets/controls",
      "model_module_version": "2.0.0",
      "model_name": "HTMLModel",
      "state": {
       "layout": "IPY_MODEL_d9e0ff444e0b49419fc105380369ab84",
       "style": "IPY_MODEL_79b32c112fba4adc9ba3a7313cd256ba",
       "value": "Validate (2600 Steps) (DiceMetric=0.43615): 100%"
      }
     },
     "97b61ba317a4424e9268830e75f12e3a": {
      "model_module": "@jupyter-widgets/controls",
      "model_module_version": "2.0.0",
      "model_name": "HBoxModel",
      "state": {
       "children": [
        "IPY_MODEL_283aa60ac6224d919b0b742b08e1dfda",
        "IPY_MODEL_8b9ebd3d2c0047c488408643325dc11e",
        "IPY_MODEL_4dcc4dfe16ec432597538a9d9b34e9d7"
       ],
       "layout": "IPY_MODEL_25570f064952438aa834b98ba0a88483"
      }
     },
     "98279973c46542f9932e028bb900f93d": {
      "model_module": "@jupyter-widgets/controls",
      "model_module_version": "2.0.0",
      "model_name": "ProgressStyleModel",
      "state": {
       "description_width": ""
      }
     },
     "9837a51e7b634b89b5d6bd87a55c1298": {
      "model_module": "@jupyter-widgets/controls",
      "model_module_version": "2.0.0",
      "model_name": "FloatProgressModel",
      "state": {
       "bar_style": "success",
       "layout": "IPY_MODEL_adaa1162b1b7435c949fb7b85bdd95ad",
       "max": 20,
       "style": "IPY_MODEL_4d729032b45d4fed8939f106f340059b",
       "value": 20
      }
     },
     "98636326b7944478b791b694f99556ba": {
      "model_module": "@jupyter-widgets/controls",
      "model_module_version": "2.0.0",
      "model_name": "HTMLModel",
      "state": {
       "layout": "IPY_MODEL_e3fd5ea77e284b2f9dff0089e7654b9a",
       "style": "IPY_MODEL_2249bc76501b482ca3e6ec4032550ce0",
       "value": " 20/20 [01:53&lt;00:00,  6.29s/it]"
      }
     },
     "98be6441d4a04d0dbaab349941b65680": {
      "model_module": "@jupyter-widgets/base",
      "model_module_version": "2.0.0",
      "model_name": "LayoutModel",
      "state": {}
     },
     "98c7248f448b412d95515bc3546f1551": {
      "model_module": "@jupyter-widgets/controls",
      "model_module_version": "2.0.0",
      "model_name": "HTMLStyleModel",
      "state": {
       "description_width": "",
       "font_size": null,
       "text_color": null
      }
     },
     "98d299b95165433994e036fd02666a75": {
      "model_module": "@jupyter-widgets/controls",
      "model_module_version": "2.0.0",
      "model_name": "HBoxModel",
      "state": {
       "children": [
        "IPY_MODEL_f7ce32c9d4cd4e9481ef12000902d2b8",
        "IPY_MODEL_923bb5e167284f38b04f31c569c3aef0",
        "IPY_MODEL_48ca42f1eee747ab8333025b25f517c9"
       ],
       "layout": "IPY_MODEL_9c1935a235a44d42ad07b23f1c3295a3"
      }
     },
     "98e21a8676e840fc8f542c6b954ba90d": {
      "model_module": "@jupyter-widgets/controls",
      "model_module_version": "2.0.0",
      "model_name": "HTMLModel",
      "state": {
       "layout": "IPY_MODEL_99213a26db2e4d2ea158d45f38c545f2",
       "style": "IPY_MODEL_dab86cb0fabf455aa9f53d3b0086337f",
       "value": " 20/20 [01:50&lt;00:00,  6.17s/it]"
      }
     },
     "99192c149d9e41628917d48df878a8de": {
      "model_module": "@jupyter-widgets/controls",
      "model_module_version": "2.0.0",
      "model_name": "FloatProgressModel",
      "state": {
       "bar_style": "success",
       "layout": "IPY_MODEL_910b6021a9ad491789dab00ecf801b06",
       "max": 20,
       "style": "IPY_MODEL_386de10c0ee44092b327c28217eb8307",
       "value": 20
      }
     },
     "99213a26db2e4d2ea158d45f38c545f2": {
      "model_module": "@jupyter-widgets/base",
      "model_module_version": "2.0.0",
      "model_name": "LayoutModel",
      "state": {}
     },
     "9928b03066714b90b0cf3677e75a0a42": {
      "model_module": "@jupyter-widgets/base",
      "model_module_version": "2.0.0",
      "model_name": "LayoutModel",
      "state": {
       "flex": "2"
      }
     },
     "993e8ddcdf3f40b9926d96abf7005ad2": {
      "model_module": "@jupyter-widgets/controls",
      "model_module_version": "2.0.0",
      "model_name": "HBoxModel",
      "state": {
       "children": [
        "IPY_MODEL_16adb90995084157ad2051f6b9fa980c",
        "IPY_MODEL_2a251be1c6d8422eb087e6be9b6d1816",
        "IPY_MODEL_cfc7bd38944747c7bccfb89920170aa4"
       ],
       "layout": "IPY_MODEL_fddb644d47b94c1d8565132209896be0"
      }
     },
     "996a78b5495c4e90a1e16819ae6379c3": {
      "model_module": "@jupyter-widgets/controls",
      "model_module_version": "2.0.0",
      "model_name": "FloatProgressModel",
      "state": {
       "bar_style": "success",
       "layout": "IPY_MODEL_484541f6c78a4b44823fb5f640509158",
       "max": 20,
       "style": "IPY_MODEL_81e63cc55afc47568277e08371221886",
       "value": 20
      }
     },
     "99e5640e8aed4b2eb0aa1fbda348db6f": {
      "model_module": "@jupyter-widgets/base",
      "model_module_version": "2.0.0",
      "model_name": "LayoutModel",
      "state": {}
     },
     "9a8da7cd8e774ac1a5fccbda897ab93e": {
      "model_module": "@jupyter-widgets/base",
      "model_module_version": "2.0.0",
      "model_name": "LayoutModel",
      "state": {
       "flex": "2"
      }
     },
     "9abe8967e1534cbaa621d97fe8035394": {
      "model_module": "@jupyter-widgets/controls",
      "model_module_version": "2.0.0",
      "model_name": "HTMLModel",
      "state": {
       "layout": "IPY_MODEL_41e77b0f7645479492612ad6b52ad4b0",
       "style": "IPY_MODEL_8d5fe3e9e17344a580b0efd609b642f2",
       "value": " 20/20 [01:59&lt;00:00,  6.66s/it]"
      }
     },
     "9adfa17c0ee44a2cb10f663868e649e1": {
      "model_module": "@jupyter-widgets/base",
      "model_module_version": "2.0.0",
      "model_name": "LayoutModel",
      "state": {
       "flex": "2"
      }
     },
     "9af62edff03748efbd5300a0dd17eee6": {
      "model_module": "@jupyter-widgets/controls",
      "model_module_version": "2.0.0",
      "model_name": "HBoxModel",
      "state": {
       "children": [
        "IPY_MODEL_845581ee204241e8ae75c9fda4da5f75",
        "IPY_MODEL_560a7f1c1bad4553b8009a3f63a95993",
        "IPY_MODEL_6fe0c5c4a01c49638556544949c42f2d"
       ],
       "layout": "IPY_MODEL_2c06c4b5f07b4cfea98421d3bf20dc7b"
      }
     },
     "9b2b8ae09b734e369fe198af5cf48454": {
      "model_module": "@jupyter-widgets/base",
      "model_module_version": "2.0.0",
      "model_name": "LayoutModel",
      "state": {}
     },
     "9b89cfb4b1874509bf81c7d5bd2416f4": {
      "model_module": "@jupyter-widgets/controls",
      "model_module_version": "2.0.0",
      "model_name": "ProgressStyleModel",
      "state": {
       "description_width": ""
      }
     },
     "9b97ff2e42e14d2bbb663eb64cd09fd4": {
      "model_module": "@jupyter-widgets/controls",
      "model_module_version": "2.0.0",
      "model_name": "HTMLModel",
      "state": {
       "layout": "IPY_MODEL_fb0c7ffd0030419bab1215eced671d14",
       "style": "IPY_MODEL_4a41a5b5d8a34a5eb113022b5cda896a",
       "value": "Validate (1100 Steps) (DiceMetric=0.27976): 100%"
      }
     },
     "9b9926ebcc764b13813fc33305fafd81": {
      "model_module": "@jupyter-widgets/base",
      "model_module_version": "2.0.0",
      "model_name": "LayoutModel",
      "state": {}
     },
     "9b9a0aa086384b1daa8d4ff1afc0c72f": {
      "model_module": "@jupyter-widgets/controls",
      "model_module_version": "2.0.0",
      "model_name": "HTMLModel",
      "state": {
       "layout": "IPY_MODEL_aa5adf84ef394b97a112c37b82d7b504",
       "style": "IPY_MODEL_f4aad8e3419b4c79a81190d07054f4bf",
       "value": " 20/20 [01:53&lt;00:00,  6.27s/it]"
      }
     },
     "9c1935a235a44d42ad07b23f1c3295a3": {
      "model_module": "@jupyter-widgets/base",
      "model_module_version": "2.0.0",
      "model_name": "LayoutModel",
      "state": {
       "display": "inline-flex",
       "flex_flow": "row wrap",
       "width": "100%"
      }
     },
     "9c605ed7853b42b791d6d49c3de3a71e": {
      "model_module": "@jupyter-widgets/base",
      "model_module_version": "2.0.0",
      "model_name": "LayoutModel",
      "state": {}
     },
     "9c7c5213f2cd46f89b7aa6dfd4b6602e": {
      "model_module": "@jupyter-widgets/controls",
      "model_module_version": "2.0.0",
      "model_name": "HBoxModel",
      "state": {
       "children": [
        "IPY_MODEL_dc42677be6a9459c8eb53486b65f50b1",
        "IPY_MODEL_51853577069a4d6e9d9d41d45754581d",
        "IPY_MODEL_40be59f53dda4104923c1337effc1a3f"
       ],
       "layout": "IPY_MODEL_fbd03644f26244bcaa2e397187016912"
      }
     },
     "9d019dc17dd34d448780424cef33a3f8": {
      "model_module": "@jupyter-widgets/controls",
      "model_module_version": "2.0.0",
      "model_name": "HTMLModel",
      "state": {
       "layout": "IPY_MODEL_908cb1c76e1f4c7ebc3d89345819775f",
       "style": "IPY_MODEL_8b6e2b2edabd4f61890cd7df030e0bb3",
       "value": " 20/20 [01:52&lt;00:00,  6.26s/it]"
      }
     },
     "9d2c751cd7f641fdba93f216bccff47e": {
      "model_module": "@jupyter-widgets/base",
      "model_module_version": "2.0.0",
      "model_name": "LayoutModel",
      "state": {
       "display": "inline-flex",
       "flex_flow": "row wrap",
       "width": "100%"
      }
     },
     "9dfb8f64bf7f480f8905ca776bbcabb3": {
      "model_module": "@jupyter-widgets/controls",
      "model_module_version": "2.0.0",
      "model_name": "HBoxModel",
      "state": {
       "children": [
        "IPY_MODEL_4d87536337764f149a0d96580127deee",
        "IPY_MODEL_f9b9b704b2a0494482282168823f0351",
        "IPY_MODEL_11ef1d9cfa534ddbb22d174693dabbda"
       ],
       "layout": "IPY_MODEL_d14621d77b96456f9f948f989fb2b6cc"
      }
     },
     "9e6692b12f0d4d8991fc3eb7a391a4ce": {
      "model_module": "@jupyter-widgets/base",
      "model_module_version": "2.0.0",
      "model_name": "LayoutModel",
      "state": {
       "display": "inline-flex",
       "flex_flow": "row wrap",
       "width": "100%"
      }
     },
     "9eb9b2ac387d4613b038a69986a55727": {
      "model_module": "@jupyter-widgets/controls",
      "model_module_version": "2.0.0",
      "model_name": "HTMLStyleModel",
      "state": {
       "description_width": "",
       "font_size": null,
       "text_color": null
      }
     },
     "9ec5abe7441e46848cbbfe350e2e52be": {
      "model_module": "@jupyter-widgets/base",
      "model_module_version": "2.0.0",
      "model_name": "LayoutModel",
      "state": {}
     },
     "9ec8ddf237464b5395439734af1afe25": {
      "model_module": "@jupyter-widgets/base",
      "model_module_version": "2.0.0",
      "model_name": "LayoutModel",
      "state": {
       "display": "inline-flex",
       "flex_flow": "row wrap",
       "width": "100%"
      }
     },
     "9f0c9c9ad5d44e22af112a7258c708ac": {
      "model_module": "@jupyter-widgets/base",
      "model_module_version": "2.0.0",
      "model_name": "LayoutModel",
      "state": {}
     },
     "9f0faa670c3741fb8f4e410c16ecc97f": {
      "model_module": "@jupyter-widgets/controls",
      "model_module_version": "2.0.0",
      "model_name": "HBoxModel",
      "state": {
       "children": [
        "IPY_MODEL_dc417c25f51a4215ba64ec6ec9900b2e",
        "IPY_MODEL_21d14638c8e04005a3487c2b809c21df",
        "IPY_MODEL_0b361fa5533b466eb2c8aa779e945f9a"
       ],
       "layout": "IPY_MODEL_0271aae24805457b8ca2e6226d75f616"
      }
     },
     "9f14ae9f1e874513b7d46b62e2dd0677": {
      "model_module": "@jupyter-widgets/controls",
      "model_module_version": "2.0.0",
      "model_name": "HTMLModel",
      "state": {
       "layout": "IPY_MODEL_3b6eeeaea45245b2a7f157ad6f314232",
       "style": "IPY_MODEL_dd6a35338d4542b58e4ae7c4064edb6f",
       "value": " 20/20 [01:49&lt;00:00,  6.10s/it]"
      }
     },
     "9f443a8a4eae43a7803de1d51d8ff842": {
      "model_module": "@jupyter-widgets/controls",
      "model_module_version": "2.0.0",
      "model_name": "HTMLModel",
      "state": {
       "layout": "IPY_MODEL_83b6aae351a4490dbeaca04c2ab328d9",
       "style": "IPY_MODEL_d61ee65c1a6b420c8a7eda1ab351039c",
       "value": "Validate (6700 Steps) (DiceMetric=0.68162): 100%"
      }
     },
     "9f65af28e14a4af884b319f713fbc2da": {
      "model_module": "@jupyter-widgets/controls",
      "model_module_version": "2.0.0",
      "model_name": "HBoxModel",
      "state": {
       "children": [
        "IPY_MODEL_651fe5e45b844b96871ce5d1a3f3c25b",
        "IPY_MODEL_3223e68a2e3045ae85bc2fd5f378f427",
        "IPY_MODEL_1bf601c4f4644eb1a7c93220d82b6bb8"
       ],
       "layout": "IPY_MODEL_84304ecfc27148a8b694888d9d2a17db"
      }
     },
     "a00a93d7c72e4895a2d42b299d15cd1c": {
      "model_module": "@jupyter-widgets/base",
      "model_module_version": "2.0.0",
      "model_name": "LayoutModel",
      "state": {
       "flex": "2"
      }
     },
     "a06ebf599b1c4c0cb68142b6e676ed80": {
      "model_module": "@jupyter-widgets/controls",
      "model_module_version": "2.0.0",
      "model_name": "HBoxModel",
      "state": {
       "children": [
        "IPY_MODEL_9f443a8a4eae43a7803de1d51d8ff842",
        "IPY_MODEL_f5a54cc4545f4c11aa274db6d8cb9efb",
        "IPY_MODEL_aa394748a0b74f8799522f1bd72230b8"
       ],
       "layout": "IPY_MODEL_5d1feb86781245619b2005888866a924"
      }
     },
     "a112ea317247437a9dc448bb433a8a36": {
      "model_module": "@jupyter-widgets/controls",
      "model_module_version": "2.0.0",
      "model_name": "HTMLStyleModel",
      "state": {
       "description_width": "",
       "font_size": null,
       "text_color": null
      }
     },
     "a1154593087944958d03abec3cbba96c": {
      "model_module": "@jupyter-widgets/controls",
      "model_module_version": "2.0.0",
      "model_name": "FloatProgressModel",
      "state": {
       "bar_style": "success",
       "layout": "IPY_MODEL_c4c6e96d820d47a8be2f48e3988bb5e7",
       "max": 20,
       "style": "IPY_MODEL_0b43f4a1bd7944f396919d61627c5c01",
       "value": 20
      }
     },
     "a12b670db2464dfbafeb9c8cb0657e63": {
      "model_module": "@jupyter-widgets/controls",
      "model_module_version": "2.0.0",
      "model_name": "FloatProgressModel",
      "state": {
       "bar_style": "success",
       "layout": "IPY_MODEL_d4163e96dae141b085397af8614c9182",
       "max": 20,
       "style": "IPY_MODEL_79267e520c1e4b07940272e03ccf1c89",
       "value": 20
      }
     },
     "a15e549a773a4665b043d7ed7c302d72": {
      "model_module": "@jupyter-widgets/controls",
      "model_module_version": "2.0.0",
      "model_name": "HTMLStyleModel",
      "state": {
       "description_width": "",
       "font_size": null,
       "text_color": null
      }
     },
     "a165811be361447eb81ad75641d342b5": {
      "model_module": "@jupyter-widgets/controls",
      "model_module_version": "2.0.0",
      "model_name": "HTMLStyleModel",
      "state": {
       "description_width": "",
       "font_size": null,
       "text_color": null
      }
     },
     "a1c8367df21244db8f7880261920827d": {
      "model_module": "@jupyter-widgets/base",
      "model_module_version": "2.0.0",
      "model_name": "LayoutModel",
      "state": {
       "flex": "2"
      }
     },
     "a292f4cda4ab415f8beb4d9fd1f29811": {
      "model_module": "@jupyter-widgets/base",
      "model_module_version": "2.0.0",
      "model_name": "LayoutModel",
      "state": {}
     },
     "a2a8cd047b514d29af59411604fd9b96": {
      "model_module": "@jupyter-widgets/base",
      "model_module_version": "2.0.0",
      "model_name": "LayoutModel",
      "state": {}
     },
     "a33e7b6e690a40439fbce54bd2fc7e29": {
      "model_module": "@jupyter-widgets/controls",
      "model_module_version": "2.0.0",
      "model_name": "FloatProgressModel",
      "state": {
       "bar_style": "success",
       "layout": "IPY_MODEL_1a37853f56c74be69ff46b82655c3033",
       "max": 20,
       "style": "IPY_MODEL_9621422711cf432f898132cb47bfd185",
       "value": 20
      }
     },
     "a340937fcb0e49cd89e683a9c69dab34": {
      "model_module": "@jupyter-widgets/base",
      "model_module_version": "2.0.0",
      "model_name": "LayoutModel",
      "state": {
       "display": "inline-flex",
       "flex_flow": "row wrap",
       "width": "100%"
      }
     },
     "a36b288e729646518784d922dacc8320": {
      "model_module": "@jupyter-widgets/controls",
      "model_module_version": "2.0.0",
      "model_name": "HTMLModel",
      "state": {
       "layout": "IPY_MODEL_23583680d80049299aed1a217a53e2cd",
       "style": "IPY_MODEL_c5cb9b07c2534a0b943822adac59064d",
       "value": " 20/20 [01:53&lt;00:00,  6.25s/it]"
      }
     },
     "a3df8472ef4741f0a916810cb9585ee8": {
      "model_module": "@jupyter-widgets/controls",
      "model_module_version": "2.0.0",
      "model_name": "HTMLModel",
      "state": {
       "layout": "IPY_MODEL_d4c64cfafd4a4171b82829426da1fcd2",
       "style": "IPY_MODEL_4f044ffb57c2443b8a8352ceead008a1",
       "value": "Validate (4200 Steps) (DiceMetric=0.51540): 100%"
      }
     },
     "a4a9b557aabf459d965b624ff169f501": {
      "model_module": "@jupyter-widgets/base",
      "model_module_version": "2.0.0",
      "model_name": "LayoutModel",
      "state": {}
     },
     "a5679bbcbeae459fa08786025467c10f": {
      "model_module": "@jupyter-widgets/controls",
      "model_module_version": "2.0.0",
      "model_name": "HTMLStyleModel",
      "state": {
       "description_width": "",
       "font_size": null,
       "text_color": null
      }
     },
     "a5b0fcdd5a9e442f9bcf0be1929893ea": {
      "model_module": "@jupyter-widgets/base",
      "model_module_version": "2.0.0",
      "model_name": "LayoutModel",
      "state": {}
     },
     "a5b51451ae924460b6a6b516a09b3854": {
      "model_module": "@jupyter-widgets/controls",
      "model_module_version": "2.0.0",
      "model_name": "FloatProgressModel",
      "state": {
       "bar_style": "success",
       "layout": "IPY_MODEL_b35633722c2c4810b994b7c68df9884e",
       "max": 20,
       "style": "IPY_MODEL_c45ff1ebd0ed4ec593bdf83db1ecd359",
       "value": 20
      }
     },
     "a5d1604d40bf4ca6a2ee5f9fdafaf5d7": {
      "model_module": "@jupyter-widgets/base",
      "model_module_version": "2.0.0",
      "model_name": "LayoutModel",
      "state": {}
     },
     "a6aab6ab58eb4290b40fb308a0288021": {
      "model_module": "@jupyter-widgets/base",
      "model_module_version": "2.0.0",
      "model_name": "LayoutModel",
      "state": {
       "display": "inline-flex",
       "flex_flow": "row wrap",
       "width": "100%"
      }
     },
     "a6d30f76187d48eab765ed2ff61b59f8": {
      "model_module": "@jupyter-widgets/base",
      "model_module_version": "2.0.0",
      "model_name": "LayoutModel",
      "state": {
       "display": "inline-flex",
       "flex_flow": "row wrap",
       "width": "100%"
      }
     },
     "a6d5cac278f34a84b6ab392ee4d51c2f": {
      "model_module": "@jupyter-widgets/controls",
      "model_module_version": "2.0.0",
      "model_name": "HTMLModel",
      "state": {
       "layout": "IPY_MODEL_f29a4e9a3f8444909d29b4e5b0f83e1c",
       "style": "IPY_MODEL_2bb09a855cbf4186a1daf6df5107cd87",
       "value": "Validate (6000 Steps) (DiceMetric=0.71292): 100%"
      }
     },
     "a6d6e322024a46588707a5fb429ba06d": {
      "model_module": "@jupyter-widgets/base",
      "model_module_version": "2.0.0",
      "model_name": "LayoutModel",
      "state": {
       "display": "inline-flex",
       "flex_flow": "row wrap",
       "width": "100%"
      }
     },
     "a6e14e739d924c81b14f6be8d043e020": {
      "model_module": "@jupyter-widgets/controls",
      "model_module_version": "2.0.0",
      "model_name": "FloatProgressModel",
      "state": {
       "bar_style": "success",
       "layout": "IPY_MODEL_8036848105b345e58a098bafd7a2d7b0",
       "max": 20,
       "style": "IPY_MODEL_886fc756405a48b5bfee3d469dbd872e",
       "value": 20
      }
     },
     "a705a102cb67468a8f7d08ef969c6e46": {
      "model_module": "@jupyter-widgets/controls",
      "model_module_version": "2.0.0",
      "model_name": "HTMLStyleModel",
      "state": {
       "description_width": "",
       "font_size": null,
       "text_color": null
      }
     },
     "a74ac7c2d632489da08f33b61cba37a0": {
      "model_module": "@jupyter-widgets/controls",
      "model_module_version": "2.0.0",
      "model_name": "HTMLStyleModel",
      "state": {
       "description_width": "",
       "font_size": null,
       "text_color": null
      }
     },
     "a77a7d9d349745818a13dd4080fe0abc": {
      "model_module": "@jupyter-widgets/controls",
      "model_module_version": "2.0.0",
      "model_name": "ProgressStyleModel",
      "state": {
       "description_width": ""
      }
     },
     "a7d363d8691446a9867e6383312ccc83": {
      "model_module": "@jupyter-widgets/controls",
      "model_module_version": "2.0.0",
      "model_name": "HTMLStyleModel",
      "state": {
       "description_width": "",
       "font_size": null,
       "text_color": null
      }
     },
     "a7fb75d2addd406ab6287acb1244473c": {
      "model_module": "@jupyter-widgets/controls",
      "model_module_version": "2.0.0",
      "model_name": "ProgressStyleModel",
      "state": {
       "description_width": ""
      }
     },
     "a83a6e29fe4a4e4f96b9a62fdc432333": {
      "model_module": "@jupyter-widgets/controls",
      "model_module_version": "2.0.0",
      "model_name": "HTMLModel",
      "state": {
       "layout": "IPY_MODEL_8b8b57bd5cf642c29198230b1665a0e2",
       "style": "IPY_MODEL_749d76df9caa4b48a744e0a2c7351324",
       "value": " 20/20 [01:49&lt;00:00,  6.07s/it]"
      }
     },
     "a8dcb4f10d1e4cf4826a5f4375092def": {
      "model_module": "@jupyter-widgets/base",
      "model_module_version": "2.0.0",
      "model_name": "LayoutModel",
      "state": {}
     },
     "aa1d04ef18fa4b93abf11bbaeccb92cc": {
      "model_module": "@jupyter-widgets/controls",
      "model_module_version": "2.0.0",
      "model_name": "HTMLStyleModel",
      "state": {
       "description_width": "",
       "font_size": null,
       "text_color": null
      }
     },
     "aa394748a0b74f8799522f1bd72230b8": {
      "model_module": "@jupyter-widgets/controls",
      "model_module_version": "2.0.0",
      "model_name": "HTMLModel",
      "state": {
       "layout": "IPY_MODEL_0ea2e7bc1e8f454baf6f574c8e7d5bc9",
       "style": "IPY_MODEL_34042dd813e3436591e443699dd7c39a",
       "value": " 20/20 [01:53&lt;00:00,  6.30s/it]"
      }
     },
     "aa469f2b4a224565b1ffe57974b22263": {
      "model_module": "@jupyter-widgets/controls",
      "model_module_version": "2.0.0",
      "model_name": "ProgressStyleModel",
      "state": {
       "description_width": ""
      }
     },
     "aa5adf84ef394b97a112c37b82d7b504": {
      "model_module": "@jupyter-widgets/base",
      "model_module_version": "2.0.0",
      "model_name": "LayoutModel",
      "state": {}
     },
     "aa9866bbdcd8467191402c94eccacdf0": {
      "model_module": "@jupyter-widgets/controls",
      "model_module_version": "2.0.0",
      "model_name": "HTMLModel",
      "state": {
       "layout": "IPY_MODEL_7093bee209904f96a6f64f46f32c990f",
       "style": "IPY_MODEL_a74ac7c2d632489da08f33b61cba37a0",
       "value": " 20/20 [01:50&lt;00:00,  6.19s/it]"
      }
     },
     "aabd1045ec254a27ad035e078292211f": {
      "model_module": "@jupyter-widgets/base",
      "model_module_version": "2.0.0",
      "model_name": "LayoutModel",
      "state": {}
     },
     "aae4d7f874ff4894b23c87bc16244b8f": {
      "model_module": "@jupyter-widgets/base",
      "model_module_version": "2.0.0",
      "model_name": "LayoutModel",
      "state": {}
     },
     "aaf5467abe214d09a5e7ceb8a3dc7af1": {
      "model_module": "@jupyter-widgets/controls",
      "model_module_version": "2.0.0",
      "model_name": "HTMLModel",
      "state": {
       "layout": "IPY_MODEL_160042d4b2e7447eb10dac64142c8464",
       "style": "IPY_MODEL_2bbcaf6deae84a2e98a8c9825e6e4588",
       "value": " 20/20 [01:49&lt;00:00,  6.08s/it]"
      }
     },
     "ab1c9742181f4a30bbad92780b6a058b": {
      "model_module": "@jupyter-widgets/controls",
      "model_module_version": "2.0.0",
      "model_name": "HTMLStyleModel",
      "state": {
       "description_width": "",
       "font_size": null,
       "text_color": null
      }
     },
     "ab41f02abdf34e509741108fdd6e9507": {
      "model_module": "@jupyter-widgets/base",
      "model_module_version": "2.0.0",
      "model_name": "LayoutModel",
      "state": {}
     },
     "ab4595188e694250b215dedc701935ba": {
      "model_module": "@jupyter-widgets/controls",
      "model_module_version": "2.0.0",
      "model_name": "HTMLModel",
      "state": {
       "layout": "IPY_MODEL_98be6441d4a04d0dbaab349941b65680",
       "style": "IPY_MODEL_8d16536058ee4d679d74b416070efd97",
       "value": " 20/20 [01:51&lt;00:00,  6.17s/it]"
      }
     },
     "aba977cd782c427ca696c679b3a6dc4d": {
      "model_module": "@jupyter-widgets/controls",
      "model_module_version": "2.0.0",
      "model_name": "HTMLStyleModel",
      "state": {
       "description_width": "",
       "font_size": null,
       "text_color": null
      }
     },
     "abde2f08b7ba48e6b8dd95058e3464e4": {
      "model_module": "@jupyter-widgets/controls",
      "model_module_version": "2.0.0",
      "model_name": "HTMLModel",
      "state": {
       "layout": "IPY_MODEL_54bd069560e141d687907b3d98715b4d",
       "style": "IPY_MODEL_cdd00dc0162f4f35875cb5b5cfcec20b",
       "value": " 20/20 [01:50&lt;00:00,  6.20s/it]"
      }
     },
     "abf051fa417c49ad85ae9ce3bf185c35": {
      "model_module": "@jupyter-widgets/controls",
      "model_module_version": "2.0.0",
      "model_name": "HTMLModel",
      "state": {
       "layout": "IPY_MODEL_24235cc22bd346158338ecba0c99cdcd",
       "style": "IPY_MODEL_2ee6434a6538489d82c3caac480dd7c0",
       "value": "Validate (1800 Steps) (DiceMetric=0.41131): 100%"
      }
     },
     "ac9c8054e82b4d389219ad5caad463f9": {
      "model_module": "@jupyter-widgets/base",
      "model_module_version": "2.0.0",
      "model_name": "LayoutModel",
      "state": {}
     },
     "aca56ca89cd747008faa78b827fd0e01": {
      "model_module": "@jupyter-widgets/controls",
      "model_module_version": "2.0.0",
      "model_name": "HTMLStyleModel",
      "state": {
       "description_width": "",
       "font_size": null,
       "text_color": null
      }
     },
     "ad9aca994bb549ebb2d358132e1caeb4": {
      "model_module": "@jupyter-widgets/controls",
      "model_module_version": "2.0.0",
      "model_name": "HTMLModel",
      "state": {
       "layout": "IPY_MODEL_ff6f262cb07947278fdc6448b9486e27",
       "style": "IPY_MODEL_69cf9e53a6384ee5a549c485af83a5c4",
       "value": " 20/20 [01:50&lt;00:00,  6.14s/it]"
      }
     },
     "adaa1162b1b7435c949fb7b85bdd95ad": {
      "model_module": "@jupyter-widgets/base",
      "model_module_version": "2.0.0",
      "model_name": "LayoutModel",
      "state": {
       "flex": "2"
      }
     },
     "add7d7c91ca34e14b90f41d18ae33a46": {
      "model_module": "@jupyter-widgets/base",
      "model_module_version": "2.0.0",
      "model_name": "LayoutModel",
      "state": {
       "display": "inline-flex",
       "flex_flow": "row wrap",
       "width": "100%"
      }
     },
     "ae315b8828fd4ce5aa2875bc68376167": {
      "model_module": "@jupyter-widgets/base",
      "model_module_version": "2.0.0",
      "model_name": "LayoutModel",
      "state": {}
     },
     "ae6653a07edc4a74b4ed4dcf846afc0c": {
      "model_module": "@jupyter-widgets/base",
      "model_module_version": "2.0.0",
      "model_name": "LayoutModel",
      "state": {
       "display": "inline-flex",
       "flex_flow": "row wrap",
       "width": "100%"
      }
     },
     "ae948018ea9541e18206696ab2356fb8": {
      "model_module": "@jupyter-widgets/controls",
      "model_module_version": "2.0.0",
      "model_name": "HTMLModel",
      "state": {
       "layout": "IPY_MODEL_8722da0361484c999618990068b66dc6",
       "style": "IPY_MODEL_a5679bbcbeae459fa08786025467c10f",
       "value": " 20/20 [01:50&lt;00:00,  6.17s/it]"
      }
     },
     "aead2ee9e5744be2ab13ba850561ad63": {
      "model_module": "@jupyter-widgets/base",
      "model_module_version": "2.0.0",
      "model_name": "LayoutModel",
      "state": {
       "display": "inline-flex",
       "flex_flow": "row wrap",
       "width": "100%"
      }
     },
     "aeb0b59c64654aa8a73105c31a0a393a": {
      "model_module": "@jupyter-widgets/controls",
      "model_module_version": "2.0.0",
      "model_name": "HBoxModel",
      "state": {
       "children": [
        "IPY_MODEL_94be79ace5e64ea0a653654e33f3bc5a",
        "IPY_MODEL_fe4a0c149d384fda9fc8346dce16bb27",
        "IPY_MODEL_fea065a27bd248da80ac2fd04147cdaa"
       ],
       "layout": "IPY_MODEL_7c2c0ad4808f438cb5aa0b0adfeec7d3"
      }
     },
     "aed44bcb88f44a3583bad1c4a3f6f814": {
      "model_module": "@jupyter-widgets/controls",
      "model_module_version": "2.0.0",
      "model_name": "HTMLStyleModel",
      "state": {
       "description_width": "",
       "font_size": null,
       "text_color": null
      }
     },
     "af11574bf483420ca7aaf21258779406": {
      "model_module": "@jupyter-widgets/controls",
      "model_module_version": "2.0.0",
      "model_name": "HBoxModel",
      "state": {
       "children": [
        "IPY_MODEL_82dd2d6503eb4fb1bf7393d69c6248c7",
        "IPY_MODEL_720045d5c727464eb20b94484bdb014b",
        "IPY_MODEL_d0370d5318e84de6bb1d238e4006e7d3"
       ],
       "layout": "IPY_MODEL_cd962505fad24422a3817cf0b41acfc3"
      }
     },
     "af515bf2f8624e4e9c0f24d1b44338f8": {
      "model_module": "@jupyter-widgets/base",
      "model_module_version": "2.0.0",
      "model_name": "LayoutModel",
      "state": {
       "display": "inline-flex",
       "flex_flow": "row wrap",
       "width": "100%"
      }
     },
     "af6c1b30c4fb40cebf8d72e63afb44af": {
      "model_module": "@jupyter-widgets/controls",
      "model_module_version": "2.0.0",
      "model_name": "HTMLStyleModel",
      "state": {
       "description_width": "",
       "font_size": null,
       "text_color": null
      }
     },
     "afd28535f0584ce6b5f5473e6bf32e22": {
      "model_module": "@jupyter-widgets/controls",
      "model_module_version": "2.0.0",
      "model_name": "HTMLStyleModel",
      "state": {
       "description_width": "",
       "font_size": null,
       "text_color": null
      }
     },
     "b0e853f18df343dd8fc02b45b66c7771": {
      "model_module": "@jupyter-widgets/controls",
      "model_module_version": "2.0.0",
      "model_name": "HTMLModel",
      "state": {
       "layout": "IPY_MODEL_80549da0b7574537b42d911c20223a1c",
       "style": "IPY_MODEL_5c6a324901764f4faad5f544e9e2e106",
       "value": " 20/20 [01:57&lt;00:00,  6.61s/it]"
      }
     },
     "b173ee8aae9c498d88d969003b120917": {
      "model_module": "@jupyter-widgets/base",
      "model_module_version": "2.0.0",
      "model_name": "LayoutModel",
      "state": {}
     },
     "b218be6506f843c892835e73c1e4813e": {
      "model_module": "@jupyter-widgets/base",
      "model_module_version": "2.0.0",
      "model_name": "LayoutModel",
      "state": {
       "flex": "2"
      }
     },
     "b340bbb20c8b401e87dfc410e1ab26da": {
      "model_module": "@jupyter-widgets/controls",
      "model_module_version": "2.0.0",
      "model_name": "HBoxModel",
      "state": {
       "children": [
        "IPY_MODEL_e6782c7388c549bbb8374bf71c7468df",
        "IPY_MODEL_7c8be4727d4943b399c01e11ba77bd21",
        "IPY_MODEL_81a08ef17fb743c8a504300a9b934f15"
       ],
       "layout": "IPY_MODEL_6924e19f532f4d7d9a862e156fc86394"
      }
     },
     "b3526cf68a1f45dd9ec2ea3edf150978": {
      "model_module": "@jupyter-widgets/base",
      "model_module_version": "2.0.0",
      "model_name": "LayoutModel",
      "state": {}
     },
     "b35633722c2c4810b994b7c68df9884e": {
      "model_module": "@jupyter-widgets/base",
      "model_module_version": "2.0.0",
      "model_name": "LayoutModel",
      "state": {
       "flex": "2"
      }
     },
     "b365e9a63bcb49f1a815f143fb935afe": {
      "model_module": "@jupyter-widgets/controls",
      "model_module_version": "2.0.0",
      "model_name": "HTMLStyleModel",
      "state": {
       "description_width": "",
       "font_size": null,
       "text_color": null
      }
     },
     "b3b3944842f64609a0d2ac51c7becd23": {
      "model_module": "@jupyter-widgets/base",
      "model_module_version": "2.0.0",
      "model_name": "LayoutModel",
      "state": {
       "flex": "2"
      }
     },
     "b400ae18b42c49d6beaa02a7c13e4399": {
      "model_module": "@jupyter-widgets/controls",
      "model_module_version": "2.0.0",
      "model_name": "HTMLModel",
      "state": {
       "layout": "IPY_MODEL_fb89eeb52e194ee3b5b0ff2922a1969b",
       "style": "IPY_MODEL_5bf5add1e5e043cabaefa4b89724a6ab",
       "value": " 20/20 [01:53&lt;00:00,  6.11s/it]"
      }
     },
     "b410c15bcb0b43729873c4710f193bf1": {
      "model_module": "@jupyter-widgets/base",
      "model_module_version": "2.0.0",
      "model_name": "LayoutModel",
      "state": {}
     },
     "b4674778368645098c71ea3925925260": {
      "model_module": "@jupyter-widgets/controls",
      "model_module_version": "2.0.0",
      "model_name": "HTMLModel",
      "state": {
       "layout": "IPY_MODEL_7dc0721c1d7b41589119e344e21f8fcf",
       "style": "IPY_MODEL_c7d68b7257e34212a3fae340368f65df",
       "value": " 20/20 [01:49&lt;00:00,  6.09s/it]"
      }
     },
     "b48af7e0877846b8ab8410c2990512f5": {
      "model_module": "@jupyter-widgets/controls",
      "model_module_version": "2.0.0",
      "model_name": "HTMLStyleModel",
      "state": {
       "description_width": "",
       "font_size": null,
       "text_color": null
      }
     },
     "b4b36748373e467099ee01193cf0eeee": {
      "model_module": "@jupyter-widgets/controls",
      "model_module_version": "2.0.0",
      "model_name": "ProgressStyleModel",
      "state": {
       "description_width": ""
      }
     },
     "b502432e04574266a49ed2da7b33e54b": {
      "model_module": "@jupyter-widgets/base",
      "model_module_version": "2.0.0",
      "model_name": "LayoutModel",
      "state": {
       "flex": "2"
      }
     },
     "b578a08f275f456798906f967a1b9dc4": {
      "model_module": "@jupyter-widgets/base",
      "model_module_version": "2.0.0",
      "model_name": "LayoutModel",
      "state": {
       "display": "inline-flex",
       "flex_flow": "row wrap",
       "width": "100%"
      }
     },
     "b5d30c9e1b1549579f58bec34173ba0d": {
      "model_module": "@jupyter-widgets/controls",
      "model_module_version": "2.0.0",
      "model_name": "HTMLModel",
      "state": {
       "layout": "IPY_MODEL_f761b597da44408abc8accc957b5ba45",
       "style": "IPY_MODEL_ab1c9742181f4a30bbad92780b6a058b",
       "value": "Validate (1500 Steps) (DiceMetric=0.35899): 100%"
      }
     },
     "b60b5c73144343d9a9ae45141634c3e2": {
      "model_module": "@jupyter-widgets/controls",
      "model_module_version": "2.0.0",
      "model_name": "ProgressStyleModel",
      "state": {
       "description_width": ""
      }
     },
     "b749b6c3894d498ab3776d3bd27b9512": {
      "model_module": "@jupyter-widgets/base",
      "model_module_version": "2.0.0",
      "model_name": "LayoutModel",
      "state": {
       "flex": "2"
      }
     },
     "b873481795a146d8a9170676a121dd53": {
      "model_module": "@jupyter-widgets/base",
      "model_module_version": "2.0.0",
      "model_name": "LayoutModel",
      "state": {}
     },
     "b89096cc43d94eeb9125ee5dcb872eab": {
      "model_module": "@jupyter-widgets/controls",
      "model_module_version": "2.0.0",
      "model_name": "HTMLModel",
      "state": {
       "layout": "IPY_MODEL_5dc42a8ea7674ce4968fb3be0720ad10",
       "style": "IPY_MODEL_c9e704fb28c94c11bfc4642c4d4f9a55",
       "value": "Validate (4800 Steps) (DiceMetric=0.69031): 100%"
      }
     },
     "b89ba941d44341999927cd2772a49f6b": {
      "model_module": "@jupyter-widgets/base",
      "model_module_version": "2.0.0",
      "model_name": "LayoutModel",
      "state": {
       "display": "inline-flex",
       "flex_flow": "row wrap",
       "width": "100%"
      }
     },
     "b8eb01f86bfc4d86b1467f98d4d19e88": {
      "model_module": "@jupyter-widgets/controls",
      "model_module_version": "2.0.0",
      "model_name": "HBoxModel",
      "state": {
       "children": [
        "IPY_MODEL_5fbd54c209d74c92beb93036fda6e7cd",
        "IPY_MODEL_0a00ebe7d46f4d0aa3def0d0c449e263",
        "IPY_MODEL_ad9aca994bb549ebb2d358132e1caeb4"
       ],
       "layout": "IPY_MODEL_43aebbac6e2547ba957b696f4c846549"
      }
     },
     "b96bc5c52a434a32bd99337ae2c41087": {
      "model_module": "@jupyter-widgets/base",
      "model_module_version": "2.0.0",
      "model_name": "LayoutModel",
      "state": {
       "display": "inline-flex",
       "flex_flow": "row wrap",
       "width": "100%"
      }
     },
     "b9aad5cc2c294d3fa8aa8dcde461e47a": {
      "model_module": "@jupyter-widgets/controls",
      "model_module_version": "2.0.0",
      "model_name": "HTMLStyleModel",
      "state": {
       "description_width": "",
       "font_size": null,
       "text_color": null
      }
     },
     "ba262466be2e4fa9a059457c29435c15": {
      "model_module": "@jupyter-widgets/base",
      "model_module_version": "2.0.0",
      "model_name": "LayoutModel",
      "state": {
       "flex": "2"
      }
     },
     "bb479c14c5f74887bb261c5de8705809": {
      "model_module": "@jupyter-widgets/base",
      "model_module_version": "2.0.0",
      "model_name": "LayoutModel",
      "state": {
       "flex": "2"
      }
     },
     "bb619ac8be9b4479815e5b74942f479a": {
      "model_module": "@jupyter-widgets/controls",
      "model_module_version": "2.0.0",
      "model_name": "HTMLStyleModel",
      "state": {
       "description_width": "",
       "font_size": null,
       "text_color": null
      }
     },
     "bb9ade1b06404c1184dcc38e70c9c6bd": {
      "model_module": "@jupyter-widgets/controls",
      "model_module_version": "2.0.0",
      "model_name": "HTMLModel",
      "state": {
       "layout": "IPY_MODEL_d2fc4ec560dd43aaa973a99f0d987e48",
       "style": "IPY_MODEL_0a88249435f34862970698eea9e099ed",
       "value": " 20/20 [01:49&lt;00:00,  6.10s/it]"
      }
     },
     "bbaa847d2234458cbe36a9884b0d1621": {
      "model_module": "@jupyter-widgets/controls",
      "model_module_version": "2.0.0",
      "model_name": "HTMLModel",
      "state": {
       "layout": "IPY_MODEL_ddf21155d00c451891516779c073814b",
       "style": "IPY_MODEL_e48791cc218d4a9ca9f60e96effa5906",
       "value": " 20/20 [01:50&lt;00:00,  6.13s/it]"
      }
     },
     "bc3e548f9ec0437f88d4a27ccce9948b": {
      "model_module": "@jupyter-widgets/base",
      "model_module_version": "2.0.0",
      "model_name": "LayoutModel",
      "state": {
       "flex": "2"
      }
     },
     "bc61584814ec46a596154b9c10d2386e": {
      "model_module": "@jupyter-widgets/base",
      "model_module_version": "2.0.0",
      "model_name": "LayoutModel",
      "state": {
       "display": "inline-flex",
       "flex_flow": "row wrap",
       "width": "100%"
      }
     },
     "bc828f3262034f82840713d1769bf4bd": {
      "model_module": "@jupyter-widgets/controls",
      "model_module_version": "2.0.0",
      "model_name": "ProgressStyleModel",
      "state": {
       "description_width": ""
      }
     },
     "bcbe42135a5c4618b4c79a9be8eb1251": {
      "model_module": "@jupyter-widgets/controls",
      "model_module_version": "2.0.0",
      "model_name": "HBoxModel",
      "state": {
       "children": [
        "IPY_MODEL_ce5322645d8a4b4780c3b5dfd7b21e2a",
        "IPY_MODEL_a33e7b6e690a40439fbce54bd2fc7e29",
        "IPY_MODEL_98e21a8676e840fc8f542c6b954ba90d"
       ],
       "layout": "IPY_MODEL_e6481789b43548ec8c2145b38992fc8e"
      }
     },
     "bd5a2757041c4250a994ab55f1c50d8e": {
      "model_module": "@jupyter-widgets/controls",
      "model_module_version": "2.0.0",
      "model_name": "HTMLStyleModel",
      "state": {
       "description_width": "",
       "font_size": null,
       "text_color": null
      }
     },
     "bde207b4aa2942caac386824443943cd": {
      "model_module": "@jupyter-widgets/controls",
      "model_module_version": "2.0.0",
      "model_name": "HTMLModel",
      "state": {
       "layout": "IPY_MODEL_65a756a5dc8f4c3cbc77949bffe63ab6",
       "style": "IPY_MODEL_23d42d76577c44d9a59b520c7414f4d6",
       "value": "Validate (2200 Steps) (DiceMetric=0.44764): 100%"
      }
     },
     "be3c7ef3ef8c45888a30dc9855c91021": {
      "model_module": "@jupyter-widgets/controls",
      "model_module_version": "2.0.0",
      "model_name": "HTMLModel",
      "state": {
       "layout": "IPY_MODEL_3025d57a4a8843faac8b4aa887493ebf",
       "style": "IPY_MODEL_a165811be361447eb81ad75641d342b5",
       "value": "Training (7000 / 10000 Steps) (loss=0.89553):  70%"
      }
     },
     "bee5304fd4134d6ba78c9a476a2bd735": {
      "model_module": "@jupyter-widgets/base",
      "model_module_version": "2.0.0",
      "model_name": "LayoutModel",
      "state": {
       "flex": "2"
      }
     },
     "bfd4f5e34cc945e0b5643095da8e098a": {
      "model_module": "@jupyter-widgets/base",
      "model_module_version": "2.0.0",
      "model_name": "LayoutModel",
      "state": {
       "display": "inline-flex",
       "flex_flow": "row wrap",
       "width": "100%"
      }
     },
     "c03f564a62c54fbb870a838b7266ab2d": {
      "model_module": "@jupyter-widgets/base",
      "model_module_version": "2.0.0",
      "model_name": "LayoutModel",
      "state": {
       "display": "inline-flex",
       "flex_flow": "row wrap",
       "width": "100%"
      }
     },
     "c060e5eefba84b6281b66c340b1f5b0e": {
      "model_module": "@jupyter-widgets/base",
      "model_module_version": "2.0.0",
      "model_name": "LayoutModel",
      "state": {
       "flex": "2"
      }
     },
     "c0e40074c4124689a78d366569348e7f": {
      "model_module": "@jupyter-widgets/controls",
      "model_module_version": "2.0.0",
      "model_name": "ProgressStyleModel",
      "state": {
       "description_width": ""
      }
     },
     "c11760f15ca443a1832bafa0df0b31e7": {
      "model_module": "@jupyter-widgets/controls",
      "model_module_version": "2.0.0",
      "model_name": "HTMLModel",
      "state": {
       "layout": "IPY_MODEL_01ec8feae2df4d16b8b2a154f2bb7a39",
       "style": "IPY_MODEL_4b6b7a85371c4a0e958fa64a17f8afcf",
       "value": "Validate (5800 Steps) (DiceMetric=0.67799): 100%"
      }
     },
     "c1fa70fc3d9a4d768c037670328c4390": {
      "model_module": "@jupyter-widgets/controls",
      "model_module_version": "2.0.0",
      "model_name": "FloatProgressModel",
      "state": {
       "bar_style": "success",
       "layout": "IPY_MODEL_0ed77563f0514a699ced56034c887970",
       "max": 20,
       "style": "IPY_MODEL_f87c2466d11848f885e1415dc0a085c1",
       "value": 20
      }
     },
     "c1fe0755d3d84b418fe490731617d5b2": {
      "model_module": "@jupyter-widgets/controls",
      "model_module_version": "2.0.0",
      "model_name": "HTMLModel",
      "state": {
       "layout": "IPY_MODEL_556566ed96b04caf84ae1056b495dd2c",
       "style": "IPY_MODEL_facee070df904568a79c4e016715a96e",
       "value": "Validate (6600 Steps) (DiceMetric=0.67525): 100%"
      }
     },
     "c393e69da117452f953c4b8c7a41500a": {
      "model_module": "@jupyter-widgets/controls",
      "model_module_version": "2.0.0",
      "model_name": "HBoxModel",
      "state": {
       "children": [
        "IPY_MODEL_e40777c6174b476f97f73eceef7c9510",
        "IPY_MODEL_552e1cc353f946e48ec19c0866fec864",
        "IPY_MODEL_7382ccb89aef4169b262818a59daed70"
       ],
       "layout": "IPY_MODEL_1b456f5f8aaf47d19771bcb6c94954f1"
      }
     },
     "c3c5a6eadc1342e8ad726dc4bf38337f": {
      "model_module": "@jupyter-widgets/base",
      "model_module_version": "2.0.0",
      "model_name": "LayoutModel",
      "state": {
       "display": "inline-flex",
       "flex_flow": "row wrap",
       "width": "100%"
      }
     },
     "c410efc1969f4529860ebe4fac8618f5": {
      "model_module": "@jupyter-widgets/controls",
      "model_module_version": "2.0.0",
      "model_name": "HTMLStyleModel",
      "state": {
       "description_width": "",
       "font_size": null,
       "text_color": null
      }
     },
     "c45ff1ebd0ed4ec593bdf83db1ecd359": {
      "model_module": "@jupyter-widgets/controls",
      "model_module_version": "2.0.0",
      "model_name": "ProgressStyleModel",
      "state": {
       "description_width": ""
      }
     },
     "c46b4667193d45f3a4faeee8c5c8222c": {
      "model_module": "@jupyter-widgets/controls",
      "model_module_version": "2.0.0",
      "model_name": "HTMLStyleModel",
      "state": {
       "description_width": "",
       "font_size": null,
       "text_color": null
      }
     },
     "c482d5a938134dd88a60425f0319795f": {
      "model_module": "@jupyter-widgets/base",
      "model_module_version": "2.0.0",
      "model_name": "LayoutModel",
      "state": {}
     },
     "c4aab593c516460eb49a52725482d31e": {
      "model_module": "@jupyter-widgets/controls",
      "model_module_version": "2.0.0",
      "model_name": "HTMLModel",
      "state": {
       "layout": "IPY_MODEL_ce0a06608e0b476faff4183f21077b00",
       "style": "IPY_MODEL_60d427106b524c71aebd136074445621",
       "value": " 20/20 [01:50&lt;00:00,  6.15s/it]"
      }
     },
     "c4c6e96d820d47a8be2f48e3988bb5e7": {
      "model_module": "@jupyter-widgets/base",
      "model_module_version": "2.0.0",
      "model_name": "LayoutModel",
      "state": {
       "flex": "2"
      }
     },
     "c5069b87c88f452cb8d4d7c6f71b3fc3": {
      "model_module": "@jupyter-widgets/controls",
      "model_module_version": "2.0.0",
      "model_name": "HTMLModel",
      "state": {
       "layout": "IPY_MODEL_a292f4cda4ab415f8beb4d9fd1f29811",
       "style": "IPY_MODEL_71fd78a6e5bd45a3a2532c9efa64088d",
       "value": " 20/20 [01:49&lt;00:00,  6.09s/it]"
      }
     },
     "c52e7498004f442f968e241e300f80b7": {
      "model_module": "@jupyter-widgets/base",
      "model_module_version": "2.0.0",
      "model_name": "LayoutModel",
      "state": {
       "display": "inline-flex",
       "flex_flow": "row wrap",
       "width": "100%"
      }
     },
     "c57cf40948a844f98f976295a0fa04c6": {
      "model_module": "@jupyter-widgets/controls",
      "model_module_version": "2.0.0",
      "model_name": "HTMLModel",
      "state": {
       "layout": "IPY_MODEL_dede211b694941f8a9daa439c405c12b",
       "style": "IPY_MODEL_63a2e1e8c4ed49349126fe37831449bb",
       "value": "Validate (4400 Steps) (DiceMetric=0.58431): 100%"
      }
     },
     "c57edae12219497a8cab07255225e9e4": {
      "model_module": "@jupyter-widgets/controls",
      "model_module_version": "2.0.0",
      "model_name": "FloatProgressModel",
      "state": {
       "bar_style": "success",
       "layout": "IPY_MODEL_44681f587b4845e59d0e1c6571d1aa43",
       "max": 20,
       "style": "IPY_MODEL_6bf09def632347699080f447db2c7725",
       "value": 20
      }
     },
     "c5cb9b07c2534a0b943822adac59064d": {
      "model_module": "@jupyter-widgets/controls",
      "model_module_version": "2.0.0",
      "model_name": "HTMLStyleModel",
      "state": {
       "description_width": "",
       "font_size": null,
       "text_color": null
      }
     },
     "c638a41bea9a4c12af7a8b1c800efe48": {
      "model_module": "@jupyter-widgets/controls",
      "model_module_version": "2.0.0",
      "model_name": "HTMLStyleModel",
      "state": {
       "description_width": "",
       "font_size": null,
       "text_color": null
      }
     },
     "c66b05ef08a34116ab42e61a134cdd0a": {
      "model_module": "@jupyter-widgets/controls",
      "model_module_version": "2.0.0",
      "model_name": "FloatProgressModel",
      "state": {
       "bar_style": "success",
       "layout": "IPY_MODEL_95e212c0d4644e628ff84ef658a88203",
       "max": 20,
       "style": "IPY_MODEL_5d654d188ea944d0b8ab6fe536d6c590",
       "value": 20
      }
     },
     "c677a9863d6a405e93ca3b66f68b8862": {
      "model_module": "@jupyter-widgets/controls",
      "model_module_version": "2.0.0",
      "model_name": "FloatProgressModel",
      "state": {
       "bar_style": "success",
       "layout": "IPY_MODEL_9127d6f900d94f40b2cc8fa4ada6444d",
       "max": 20,
       "style": "IPY_MODEL_cfc82a930e2c4f4d95e83c6ff3c1a4bc",
       "value": 20
      }
     },
     "c6b94c25500742ada8e1c477b78e38c9": {
      "model_module": "@jupyter-widgets/controls",
      "model_module_version": "2.0.0",
      "model_name": "HTMLModel",
      "state": {
       "layout": "IPY_MODEL_135a180d264e44abaa17b6501b9951ad",
       "style": "IPY_MODEL_98c7248f448b412d95515bc3546f1551",
       "value": "Validate (6400 Steps) (DiceMetric=0.71092): 100%"
      }
     },
     "c6e04f10c79a4532a5f85a98b9952291": {
      "model_module": "@jupyter-widgets/controls",
      "model_module_version": "2.0.0",
      "model_name": "HTMLModel",
      "state": {
       "layout": "IPY_MODEL_d49223144995458195e477ebb8f34c19",
       "style": "IPY_MODEL_ebde199965354d1e8f453fe0bb6c9307",
       "value": " 20/20 [01:49&lt;00:00,  6.08s/it]"
      }
     },
     "c6e684960cbc4c7d94d937211430657a": {
      "model_module": "@jupyter-widgets/base",
      "model_module_version": "2.0.0",
      "model_name": "LayoutModel",
      "state": {}
     },
     "c712152430c1463f95fc8b022fd0a008": {
      "model_module": "@jupyter-widgets/base",
      "model_module_version": "2.0.0",
      "model_name": "LayoutModel",
      "state": {
       "flex": "2"
      }
     },
     "c7d3e27cdf394e32a3b5d0bc105fc2c1": {
      "model_module": "@jupyter-widgets/controls",
      "model_module_version": "2.0.0",
      "model_name": "HTMLModel",
      "state": {
       "layout": "IPY_MODEL_19596d47bce14eaf9a89c9eb17f14aca",
       "style": "IPY_MODEL_aba977cd782c427ca696c679b3a6dc4d",
       "value": "Validate (2900 Steps) (DiceMetric=0.51325): 100%"
      }
     },
     "c7d68b7257e34212a3fae340368f65df": {
      "model_module": "@jupyter-widgets/controls",
      "model_module_version": "2.0.0",
      "model_name": "HTMLStyleModel",
      "state": {
       "description_width": "",
       "font_size": null,
       "text_color": null
      }
     },
     "c88c96421f364e82ae4de176a0999715": {
      "model_module": "@jupyter-widgets/base",
      "model_module_version": "2.0.0",
      "model_name": "LayoutModel",
      "state": {}
     },
     "c91e8013d4274e8cb83a6a787be49f8e": {
      "model_module": "@jupyter-widgets/base",
      "model_module_version": "2.0.0",
      "model_name": "LayoutModel",
      "state": {}
     },
     "c957ea19c5144bed8b5168214c700d7a": {
      "model_module": "@jupyter-widgets/controls",
      "model_module_version": "2.0.0",
      "model_name": "HTMLStyleModel",
      "state": {
       "description_width": "",
       "font_size": null,
       "text_color": null
      }
     },
     "c9e704fb28c94c11bfc4642c4d4f9a55": {
      "model_module": "@jupyter-widgets/controls",
      "model_module_version": "2.0.0",
      "model_name": "HTMLStyleModel",
      "state": {
       "description_width": "",
       "font_size": null,
       "text_color": null
      }
     },
     "ca0e7e5ccaea4e1a84cc534ed39bf576": {
      "model_module": "@jupyter-widgets/controls",
      "model_module_version": "2.0.0",
      "model_name": "FloatProgressModel",
      "state": {
       "bar_style": "success",
       "layout": "IPY_MODEL_cb0522ebb10e4d56a55f7eca879a7b72",
       "max": 20,
       "style": "IPY_MODEL_7e3e00e42414480abc1cbba5eac11908",
       "value": 20
      }
     },
     "ca1918a8487a46d1b2f9904428c1334c": {
      "model_module": "@jupyter-widgets/base",
      "model_module_version": "2.0.0",
      "model_name": "LayoutModel",
      "state": {}
     },
     "ca1a2469ef01461aa038b1d402826c54": {
      "model_module": "@jupyter-widgets/base",
      "model_module_version": "2.0.0",
      "model_name": "LayoutModel",
      "state": {}
     },
     "ca7d093cfae74f2cbcb2733015ce2a0f": {
      "model_module": "@jupyter-widgets/controls",
      "model_module_version": "2.0.0",
      "model_name": "HBoxModel",
      "state": {
       "children": [
        "IPY_MODEL_e76d425b53014c988b51eafee92498e7",
        "IPY_MODEL_0c46e48dcd0a4e60a618c180c8a7cfec",
        "IPY_MODEL_54086198d9a14f91a25954cab8848d9e"
       ],
       "layout": "IPY_MODEL_7e32ab411e754202b1f32129ef947d1d"
      }
     },
     "cb0522ebb10e4d56a55f7eca879a7b72": {
      "model_module": "@jupyter-widgets/base",
      "model_module_version": "2.0.0",
      "model_name": "LayoutModel",
      "state": {
       "flex": "2"
      }
     },
     "cc57a43c8a4142088a042b48800678a7": {
      "model_module": "@jupyter-widgets/controls",
      "model_module_version": "2.0.0",
      "model_name": "HTMLModel",
      "state": {
       "layout": "IPY_MODEL_7a6fcfee28d745459571d55fa0a41ad2",
       "style": "IPY_MODEL_96635ff8b4e24876a34366fcf316f109",
       "value": "Validate (1900 Steps) (DiceMetric=0.31137): 100%"
      }
     },
     "cc99e2a80080435ca692dc63b0bf880b": {
      "model_module": "@jupyter-widgets/base",
      "model_module_version": "2.0.0",
      "model_name": "LayoutModel",
      "state": {}
     },
     "cd962505fad24422a3817cf0b41acfc3": {
      "model_module": "@jupyter-widgets/base",
      "model_module_version": "2.0.0",
      "model_name": "LayoutModel",
      "state": {
       "display": "inline-flex",
       "flex_flow": "row wrap",
       "width": "100%"
      }
     },
     "cdd00dc0162f4f35875cb5b5cfcec20b": {
      "model_module": "@jupyter-widgets/controls",
      "model_module_version": "2.0.0",
      "model_name": "HTMLStyleModel",
      "state": {
       "description_width": "",
       "font_size": null,
       "text_color": null
      }
     },
     "ce0a06608e0b476faff4183f21077b00": {
      "model_module": "@jupyter-widgets/base",
      "model_module_version": "2.0.0",
      "model_name": "LayoutModel",
      "state": {}
     },
     "ce5322645d8a4b4780c3b5dfd7b21e2a": {
      "model_module": "@jupyter-widgets/controls",
      "model_module_version": "2.0.0",
      "model_name": "HTMLModel",
      "state": {
       "layout": "IPY_MODEL_e893a102991f449b99a1ed7a95d6fee6",
       "style": "IPY_MODEL_a15e549a773a4665b043d7ed7c302d72",
       "value": "Validate (700 Steps) (DiceMetric=0.20776): 100%"
      }
     },
     "cf716b0184924910851acf929d8039a2": {
      "model_module": "@jupyter-widgets/base",
      "model_module_version": "2.0.0",
      "model_name": "LayoutModel",
      "state": {
       "display": "inline-flex",
       "flex_flow": "row wrap",
       "width": "100%"
      }
     },
     "cfc7bd38944747c7bccfb89920170aa4": {
      "model_module": "@jupyter-widgets/controls",
      "model_module_version": "2.0.0",
      "model_name": "HTMLModel",
      "state": {
       "layout": "IPY_MODEL_ab41f02abdf34e509741108fdd6e9507",
       "style": "IPY_MODEL_1931d6e30e1e4d6f910a5a857c134287",
       "value": " 20/20 [01:50&lt;00:00,  6.12s/it]"
      }
     },
     "cfc82a930e2c4f4d95e83c6ff3c1a4bc": {
      "model_module": "@jupyter-widgets/controls",
      "model_module_version": "2.0.0",
      "model_name": "ProgressStyleModel",
      "state": {
       "description_width": ""
      }
     },
     "cfdebcb84fa044c5a332c834904b4781": {
      "model_module": "@jupyter-widgets/controls",
      "model_module_version": "2.0.0",
      "model_name": "HTMLModel",
      "state": {
       "layout": "IPY_MODEL_ae315b8828fd4ce5aa2875bc68376167",
       "style": "IPY_MODEL_3f97916f2d6545309ce965886621d148",
       "value": "Validate (800 Steps) (DiceMetric=0.20838): 100%"
      }
     },
     "d0370d5318e84de6bb1d238e4006e7d3": {
      "model_module": "@jupyter-widgets/controls",
      "model_module_version": "2.0.0",
      "model_name": "HTMLModel",
      "state": {
       "layout": "IPY_MODEL_6c5b871bb59d43ceac1bcaf7a09919d1",
       "style": "IPY_MODEL_e6c7e3f2c5be4effa81e2230186c12a1",
       "value": " 20/20 [01:49&lt;00:00,  6.09s/it]"
      }
     },
     "d0537ecb03f44d2f9c23ce1b1ede1d3e": {
      "model_module": "@jupyter-widgets/controls",
      "model_module_version": "2.0.0",
      "model_name": "HTMLModel",
      "state": {
       "layout": "IPY_MODEL_0fd11269ed05416da51a21e00ceea9c1",
       "style": "IPY_MODEL_007b99a82ce7446cb2e59581f6df12bf",
       "value": " 20/20 [01:51&lt;00:00,  6.25s/it]"
      }
     },
     "d0e3f56aac0d4243a89ce44be11af890": {
      "model_module": "@jupyter-widgets/controls",
      "model_module_version": "2.0.0",
      "model_name": "HTMLStyleModel",
      "state": {
       "description_width": "",
       "font_size": null,
       "text_color": null
      }
     },
     "d10896977f794d1d87afd19e7360eff2": {
      "model_module": "@jupyter-widgets/controls",
      "model_module_version": "2.0.0",
      "model_name": "HTMLStyleModel",
      "state": {
       "description_width": "",
       "font_size": null,
       "text_color": null
      }
     },
     "d14621d77b96456f9f948f989fb2b6cc": {
      "model_module": "@jupyter-widgets/base",
      "model_module_version": "2.0.0",
      "model_name": "LayoutModel",
      "state": {
       "display": "inline-flex",
       "flex_flow": "row wrap",
       "width": "100%"
      }
     },
     "d1f02fff4e634134b5cca9379da041ef": {
      "model_module": "@jupyter-widgets/base",
      "model_module_version": "2.0.0",
      "model_name": "LayoutModel",
      "state": {
       "flex": "2"
      }
     },
     "d225c569770f4e1584d53589c055107b": {
      "model_module": "@jupyter-widgets/controls",
      "model_module_version": "2.0.0",
      "model_name": "HTMLModel",
      "state": {
       "layout": "IPY_MODEL_e3b1a5d2cedb4c4090394bc34ffdaa94",
       "style": "IPY_MODEL_1f2b2c59063c44f0b9d00afd18673109",
       "value": "Validate (5300 Steps) (DiceMetric=0.62089): 100%"
      }
     },
     "d228554852e749b795096b0492e39295": {
      "model_module": "@jupyter-widgets/base",
      "model_module_version": "2.0.0",
      "model_name": "LayoutModel",
      "state": {
       "display": "inline-flex",
       "flex_flow": "row wrap",
       "width": "100%"
      }
     },
     "d2987477d9cc4f2692a1776d8faf2705": {
      "model_module": "@jupyter-widgets/controls",
      "model_module_version": "2.0.0",
      "model_name": "HBoxModel",
      "state": {
       "children": [
        "IPY_MODEL_1d4b5de4a7534cbb96f16a95923fa167",
        "IPY_MODEL_5f7d201dcc0b40c2832dafcee5282100",
        "IPY_MODEL_452ea9d97881442489394ddb14bfb791"
       ],
       "layout": "IPY_MODEL_7807313f88f449b78c3966230305e40f"
      }
     },
     "d2fc4ec560dd43aaa973a99f0d987e48": {
      "model_module": "@jupyter-widgets/base",
      "model_module_version": "2.0.0",
      "model_name": "LayoutModel",
      "state": {}
     },
     "d34b7c2736824ef195b233f9aceb242a": {
      "model_module": "@jupyter-widgets/controls",
      "model_module_version": "2.0.0",
      "model_name": "HBoxModel",
      "state": {
       "children": [
        "IPY_MODEL_cc57a43c8a4142088a042b48800678a7",
        "IPY_MODEL_9277d189fcca473783aa45dc69819870",
        "IPY_MODEL_b4674778368645098c71ea3925925260"
       ],
       "layout": "IPY_MODEL_cf716b0184924910851acf929d8039a2"
      }
     },
     "d4163e96dae141b085397af8614c9182": {
      "model_module": "@jupyter-widgets/base",
      "model_module_version": "2.0.0",
      "model_name": "LayoutModel",
      "state": {
       "flex": "2"
      }
     },
     "d4543885acfa45648637a0ce5d323875": {
      "model_module": "@jupyter-widgets/controls",
      "model_module_version": "2.0.0",
      "model_name": "FloatProgressModel",
      "state": {
       "bar_style": "success",
       "layout": "IPY_MODEL_dd016252d23a43d5b3fc329687cb9eb2",
       "max": 20,
       "style": "IPY_MODEL_bc828f3262034f82840713d1769bf4bd",
       "value": 20
      }
     },
     "d459962fa1bd4811be0f8a467c85a660": {
      "model_module": "@jupyter-widgets/controls",
      "model_module_version": "2.0.0",
      "model_name": "HTMLModel",
      "state": {
       "layout": "IPY_MODEL_b873481795a146d8a9170676a121dd53",
       "style": "IPY_MODEL_5759e3eafd984881aea360e2e8f1526d",
       "value": "Validate (2100 Steps) (DiceMetric=0.35391): 100%"
      }
     },
     "d472bb413c0a4f79bde62cc193647c53": {
      "model_module": "@jupyter-widgets/base",
      "model_module_version": "2.0.0",
      "model_name": "LayoutModel",
      "state": {
       "display": "inline-flex",
       "flex_flow": "row wrap",
       "width": "100%"
      }
     },
     "d49223144995458195e477ebb8f34c19": {
      "model_module": "@jupyter-widgets/base",
      "model_module_version": "2.0.0",
      "model_name": "LayoutModel",
      "state": {}
     },
     "d4c64cfafd4a4171b82829426da1fcd2": {
      "model_module": "@jupyter-widgets/base",
      "model_module_version": "2.0.0",
      "model_name": "LayoutModel",
      "state": {}
     },
     "d5c79213a88d467297891bf2ea331322": {
      "model_module": "@jupyter-widgets/controls",
      "model_module_version": "2.0.0",
      "model_name": "HTMLStyleModel",
      "state": {
       "description_width": "",
       "font_size": null,
       "text_color": null
      }
     },
     "d5fe6cb6581343a49b18d7b2047c2384": {
      "model_module": "@jupyter-widgets/base",
      "model_module_version": "2.0.0",
      "model_name": "LayoutModel",
      "state": {
       "display": "inline-flex",
       "flex_flow": "row wrap",
       "width": "100%"
      }
     },
     "d61ee65c1a6b420c8a7eda1ab351039c": {
      "model_module": "@jupyter-widgets/controls",
      "model_module_version": "2.0.0",
      "model_name": "HTMLStyleModel",
      "state": {
       "description_width": "",
       "font_size": null,
       "text_color": null
      }
     },
     "d64846dee73744d29eebb4b94267ffbd": {
      "model_module": "@jupyter-widgets/controls",
      "model_module_version": "2.0.0",
      "model_name": "HTMLStyleModel",
      "state": {
       "description_width": "",
       "font_size": null,
       "text_color": null
      }
     },
     "d6a49f6335ca436989ad80455578893b": {
      "model_module": "@jupyter-widgets/controls",
      "model_module_version": "2.0.0",
      "model_name": "HTMLStyleModel",
      "state": {
       "description_width": "",
       "font_size": null,
       "text_color": null
      }
     },
     "d6bc347770654ad0b17ab84adc47b5ec": {
      "model_module": "@jupyter-widgets/controls",
      "model_module_version": "2.0.0",
      "model_name": "HTMLModel",
      "state": {
       "layout": "IPY_MODEL_50e425ca0bbe43888d2abaecaccdc78f",
       "style": "IPY_MODEL_9eb9b2ac387d4613b038a69986a55727",
       "value": " 20/20 [01:59&lt;00:00,  6.54s/it]"
      }
     },
     "d6c4de6a00824f798176cddffa9a6431": {
      "model_module": "@jupyter-widgets/controls",
      "model_module_version": "2.0.0",
      "model_name": "HTMLModel",
      "state": {
       "layout": "IPY_MODEL_1cd298e66cad4927a9d7b7168af02cdd",
       "style": "IPY_MODEL_1f9e25c419fe45f38f2b1499598a1bf4",
       "value": " 20/20 [01:50&lt;00:00,  6.19s/it]"
      }
     },
     "d701452af6d2439697087f5f0a03138f": {
      "model_module": "@jupyter-widgets/controls",
      "model_module_version": "2.0.0",
      "model_name": "HTMLModel",
      "state": {
       "layout": "IPY_MODEL_e8f6e44d769d4ef0969d18fc4ea1ff29",
       "style": "IPY_MODEL_5405f3a5d76e43ba8ea9356724f11759",
       "value": "Validate (6300 Steps) (DiceMetric=0.71922): 100%"
      }
     },
     "d701b3a2af1445b99276523df09bbc08": {
      "model_module": "@jupyter-widgets/base",
      "model_module_version": "2.0.0",
      "model_name": "LayoutModel",
      "state": {
       "flex": "2"
      }
     },
     "d7b26d17ac5a4ce2adaec25bf92f0422": {
      "model_module": "@jupyter-widgets/controls",
      "model_module_version": "2.0.0",
      "model_name": "HBoxModel",
      "state": {
       "children": [
        "IPY_MODEL_80bb3628fda34e0795df746cb7fc267b",
        "IPY_MODEL_035e3913b74841cba49bf2b650e6abdd",
        "IPY_MODEL_a83a6e29fe4a4e4f96b9a62fdc432333"
       ],
       "layout": "IPY_MODEL_6398b8a9fecb474b9022a59da60db2ab"
      }
     },
     "d81f088737724d56b1e3ee94be7b5dad": {
      "model_module": "@jupyter-widgets/controls",
      "model_module_version": "2.0.0",
      "model_name": "ProgressStyleModel",
      "state": {
       "description_width": ""
      }
     },
     "d82c69b0a6084b9c9e6140aed413e246": {
      "model_module": "@jupyter-widgets/controls",
      "model_module_version": "2.0.0",
      "model_name": "HTMLStyleModel",
      "state": {
       "description_width": "",
       "font_size": null,
       "text_color": null
      }
     },
     "d8394d96a0184f22a48f04267e5e4795": {
      "model_module": "@jupyter-widgets/controls",
      "model_module_version": "2.0.0",
      "model_name": "HTMLModel",
      "state": {
       "layout": "IPY_MODEL_9c605ed7853b42b791d6d49c3de3a71e",
       "style": "IPY_MODEL_5a500bc3ac724852bc8efda1765d4abd",
       "value": " 20/20 [01:49&lt;00:00,  6.11s/it]"
      }
     },
     "d867e8cf8fd942aeb9a76981e2a861ef": {
      "model_module": "@jupyter-widgets/controls",
      "model_module_version": "2.0.0",
      "model_name": "HTMLModel",
      "state": {
       "layout": "IPY_MODEL_7cf2297b881b4fdda48d16ab05d99c50",
       "style": "IPY_MODEL_88bc811e0996447a99f59fbf3f642238",
       "value": "Validate (3400 Steps) (DiceMetric=0.51244): 100%"
      }
     },
     "d90b9ee37df14342beeda4dc4c0541f8": {
      "model_module": "@jupyter-widgets/base",
      "model_module_version": "2.0.0",
      "model_name": "LayoutModel",
      "state": {
       "display": "inline-flex",
       "flex_flow": "row wrap",
       "width": "100%"
      }
     },
     "d9e0ff444e0b49419fc105380369ab84": {
      "model_module": "@jupyter-widgets/base",
      "model_module_version": "2.0.0",
      "model_name": "LayoutModel",
      "state": {}
     },
     "dab86cb0fabf455aa9f53d3b0086337f": {
      "model_module": "@jupyter-widgets/controls",
      "model_module_version": "2.0.0",
      "model_name": "HTMLStyleModel",
      "state": {
       "description_width": "",
       "font_size": null,
       "text_color": null
      }
     },
     "db0bad12a32f443ba2005296b462db23": {
      "model_module": "@jupyter-widgets/controls",
      "model_module_version": "2.0.0",
      "model_name": "HTMLModel",
      "state": {
       "layout": "IPY_MODEL_b3526cf68a1f45dd9ec2ea3edf150978",
       "style": "IPY_MODEL_5ef2182852934e8cbb58031d56f6e4a6",
       "value": "Validate (5900 Steps) (DiceMetric=0.69742): 100%"
      }
     },
     "dc417c25f51a4215ba64ec6ec9900b2e": {
      "model_module": "@jupyter-widgets/controls",
      "model_module_version": "2.0.0",
      "model_name": "HTMLModel",
      "state": {
       "layout": "IPY_MODEL_2cf7072a15414f318524f252e7d5dac3",
       "style": "IPY_MODEL_b365e9a63bcb49f1a815f143fb935afe",
       "value": "Validate (300 Steps) (DiceMetric=0.19912): 100%"
      }
     },
     "dc42677be6a9459c8eb53486b65f50b1": {
      "model_module": "@jupyter-widgets/controls",
      "model_module_version": "2.0.0",
      "model_name": "HTMLModel",
      "state": {
       "layout": "IPY_MODEL_452540d6f1404571a6432a35e8443928",
       "style": "IPY_MODEL_a7d363d8691446a9867e6383312ccc83",
       "value": "Validate (6900 Steps) (DiceMetric=0.69718): 100%"
      }
     },
     "dc48a14e891f4015bb74d4e1618da11c": {
      "model_module": "@jupyter-widgets/controls",
      "model_module_version": "2.0.0",
      "model_name": "ProgressStyleModel",
      "state": {
       "description_width": ""
      }
     },
     "dcb1ab63cacb47cd994bef95c6905a13": {
      "model_module": "@jupyter-widgets/controls",
      "model_module_version": "2.0.0",
      "model_name": "HTMLStyleModel",
      "state": {
       "description_width": "",
       "font_size": null,
       "text_color": null
      }
     },
     "dd016252d23a43d5b3fc329687cb9eb2": {
      "model_module": "@jupyter-widgets/base",
      "model_module_version": "2.0.0",
      "model_name": "LayoutModel",
      "state": {
       "flex": "2"
      }
     },
     "dd568c3c9dd84c75aa0886af1dc2e649": {
      "model_module": "@jupyter-widgets/base",
      "model_module_version": "2.0.0",
      "model_name": "LayoutModel",
      "state": {}
     },
     "dd6a35338d4542b58e4ae7c4064edb6f": {
      "model_module": "@jupyter-widgets/controls",
      "model_module_version": "2.0.0",
      "model_name": "HTMLStyleModel",
      "state": {
       "description_width": "",
       "font_size": null,
       "text_color": null
      }
     },
     "dd906b89047247bd8057b92f44288eb1": {
      "model_module": "@jupyter-widgets/base",
      "model_module_version": "2.0.0",
      "model_name": "LayoutModel",
      "state": {}
     },
     "ddb52223e96f437e8e03f6f4809c504b": {
      "model_module": "@jupyter-widgets/controls",
      "model_module_version": "2.0.0",
      "model_name": "HBoxModel",
      "state": {
       "children": [
        "IPY_MODEL_8fa9aa1203a54d38b6d23b345e997619",
        "IPY_MODEL_7f0b4b9060684d16ade4f8e6597c7e97",
        "IPY_MODEL_3939a9f4a115403d8ae76bdcac4e510b"
       ],
       "layout": "IPY_MODEL_d228554852e749b795096b0492e39295"
      }
     },
     "ddcd0ef8930e4bf3850eba5bd9e6e62d": {
      "model_module": "@jupyter-widgets/base",
      "model_module_version": "2.0.0",
      "model_name": "LayoutModel",
      "state": {}
     },
     "ddf21155d00c451891516779c073814b": {
      "model_module": "@jupyter-widgets/base",
      "model_module_version": "2.0.0",
      "model_name": "LayoutModel",
      "state": {}
     },
     "dec3a5c6ac0e4f2d952fa31182547cb1": {
      "model_module": "@jupyter-widgets/controls",
      "model_module_version": "2.0.0",
      "model_name": "HTMLModel",
      "state": {
       "layout": "IPY_MODEL_41213ed316a04a01928c2d3f77531c17",
       "style": "IPY_MODEL_1e59e071b7cb4fb7a5a359cf127849db",
       "value": " 20/20 [01:51&lt;00:00,  6.19s/it]"
      }
     },
     "deccd086d8de41ddb020327396c49049": {
      "model_module": "@jupyter-widgets/base",
      "model_module_version": "2.0.0",
      "model_name": "LayoutModel",
      "state": {
       "flex": "2"
      }
     },
     "dede211b694941f8a9daa439c405c12b": {
      "model_module": "@jupyter-widgets/base",
      "model_module_version": "2.0.0",
      "model_name": "LayoutModel",
      "state": {}
     },
     "df17e242073e46118c916505bd712fda": {
      "model_module": "@jupyter-widgets/controls",
      "model_module_version": "2.0.0",
      "model_name": "HTMLModel",
      "state": {
       "layout": "IPY_MODEL_8e00a05759d84cd7b08c2a17c0275f23",
       "style": "IPY_MODEL_1de49ca26f1d4f1b9008ab4291e20a7a",
       "value": "Validate (5400 Steps) (DiceMetric=0.66028): 100%"
      }
     },
     "df43ed15c9cb42a7805dd5880361fd6c": {
      "model_module": "@jupyter-widgets/controls",
      "model_module_version": "2.0.0",
      "model_name": "HBoxModel",
      "state": {
       "children": [
        "IPY_MODEL_c6b94c25500742ada8e1c477b78e38c9",
        "IPY_MODEL_6e8cf6e66ccd480b8bba3309bcfa436d",
        "IPY_MODEL_b400ae18b42c49d6beaa02a7c13e4399"
       ],
       "layout": "IPY_MODEL_15ee0422f56749f2bb20c9129d08bb81"
      }
     },
     "e0036ce12a75439f81ec9bec19f59620": {
      "model_module": "@jupyter-widgets/controls",
      "model_module_version": "2.0.0",
      "model_name": "HTMLStyleModel",
      "state": {
       "description_width": "",
       "font_size": null,
       "text_color": null
      }
     },
     "e00e0a2084da467fa814accdeb6a815a": {
      "model_module": "@jupyter-widgets/controls",
      "model_module_version": "2.0.0",
      "model_name": "HTMLStyleModel",
      "state": {
       "description_width": "",
       "font_size": null,
       "text_color": null
      }
     },
     "e11630fb3dd947e9bca4f1ac8964935f": {
      "model_module": "@jupyter-widgets/controls",
      "model_module_version": "2.0.0",
      "model_name": "HTMLStyleModel",
      "state": {
       "description_width": "",
       "font_size": null,
       "text_color": null
      }
     },
     "e19f10d95c464133ab1c666d7ea40939": {
      "model_module": "@jupyter-widgets/controls",
      "model_module_version": "2.0.0",
      "model_name": "HTMLModel",
      "state": {
       "layout": "IPY_MODEL_b173ee8aae9c498d88d969003b120917",
       "style": "IPY_MODEL_e00e0a2084da467fa814accdeb6a815a",
       "value": "Validate (1200 Steps) (DiceMetric=0.22814): 100%"
      }
     },
     "e1e99610991c4119a51a9c07f41186b9": {
      "model_module": "@jupyter-widgets/controls",
      "model_module_version": "2.0.0",
      "model_name": "HBoxModel",
      "state": {
       "children": [
        "IPY_MODEL_abf051fa417c49ad85ae9ce3bf185c35",
        "IPY_MODEL_3f194bacdd1848b48697f4fbd29ce1d9",
        "IPY_MODEL_c4aab593c516460eb49a52725482d31e"
       ],
       "layout": "IPY_MODEL_bfd4f5e34cc945e0b5643095da8e098a"
      }
     },
     "e25fc919b0344f3c93532fda96bbf62e": {
      "model_module": "@jupyter-widgets/base",
      "model_module_version": "2.0.0",
      "model_name": "LayoutModel",
      "state": {}
     },
     "e321be2e8f2941ffb558063f95177c97": {
      "model_module": "@jupyter-widgets/controls",
      "model_module_version": "2.0.0",
      "model_name": "HTMLModel",
      "state": {
       "layout": "IPY_MODEL_0956e666996748b18f3d73db53d3deef",
       "style": "IPY_MODEL_aa1d04ef18fa4b93abf11bbaeccb92cc",
       "value": "Validate (900 Steps) (DiceMetric=0.19912): 100%"
      }
     },
     "e3b1a5d2cedb4c4090394bc34ffdaa94": {
      "model_module": "@jupyter-widgets/base",
      "model_module_version": "2.0.0",
      "model_name": "LayoutModel",
      "state": {}
     },
     "e3fd5ea77e284b2f9dff0089e7654b9a": {
      "model_module": "@jupyter-widgets/base",
      "model_module_version": "2.0.0",
      "model_name": "LayoutModel",
      "state": {}
     },
     "e40777c6174b476f97f73eceef7c9510": {
      "model_module": "@jupyter-widgets/controls",
      "model_module_version": "2.0.0",
      "model_name": "HTMLModel",
      "state": {
       "layout": "IPY_MODEL_0c683f77603545ce90b5b36c6de06f5a",
       "style": "IPY_MODEL_eede14681f2242b4b4ede592a5dda9ac",
       "value": "Validate (1300 Steps) (DiceMetric=0.37606): 100%"
      }
     },
     "e48791cc218d4a9ca9f60e96effa5906": {
      "model_module": "@jupyter-widgets/controls",
      "model_module_version": "2.0.0",
      "model_name": "HTMLStyleModel",
      "state": {
       "description_width": "",
       "font_size": null,
       "text_color": null
      }
     },
     "e48a32b4b73d402e841c1a0cdf8b8e76": {
      "model_module": "@jupyter-widgets/controls",
      "model_module_version": "2.0.0",
      "model_name": "FloatProgressModel",
      "state": {
       "bar_style": "success",
       "layout": "IPY_MODEL_a1c8367df21244db8f7880261920827d",
       "max": 20,
       "style": "IPY_MODEL_3ed7703a20754f6ca3b112eb538b7ca1",
       "value": 20
      }
     },
     "e48ca962a13f4617a7d016329e89ea9b": {
      "model_module": "@jupyter-widgets/base",
      "model_module_version": "2.0.0",
      "model_name": "LayoutModel",
      "state": {
       "flex": "2"
      }
     },
     "e5747da28bcf4e45a8cf3352028a677c": {
      "model_module": "@jupyter-widgets/controls",
      "model_module_version": "2.0.0",
      "model_name": "HTMLStyleModel",
      "state": {
       "description_width": "",
       "font_size": null,
       "text_color": null
      }
     },
     "e5cde9c17c2544f485d87afb94f31d45": {
      "model_module": "@jupyter-widgets/controls",
      "model_module_version": "2.0.0",
      "model_name": "HTMLStyleModel",
      "state": {
       "description_width": "",
       "font_size": null,
       "text_color": null
      }
     },
     "e635c33f005842f7847e4b6922ccf327": {
      "model_module": "@jupyter-widgets/controls",
      "model_module_version": "2.0.0",
      "model_name": "HTMLModel",
      "state": {
       "layout": "IPY_MODEL_40d1968f3585468c9778a697385e209d",
       "style": "IPY_MODEL_124d5f01f0584464addca40e85433bd2",
       "value": " 20/20 [01:52&lt;00:00,  6.35s/it]"
      }
     },
     "e6481789b43548ec8c2145b38992fc8e": {
      "model_module": "@jupyter-widgets/base",
      "model_module_version": "2.0.0",
      "model_name": "LayoutModel",
      "state": {
       "display": "inline-flex",
       "flex_flow": "row wrap",
       "width": "100%"
      }
     },
     "e6782c7388c549bbb8374bf71c7468df": {
      "model_module": "@jupyter-widgets/controls",
      "model_module_version": "2.0.0",
      "model_name": "HTMLModel",
      "state": {
       "layout": "IPY_MODEL_dd568c3c9dd84c75aa0886af1dc2e649",
       "style": "IPY_MODEL_b9aad5cc2c294d3fa8aa8dcde461e47a",
       "value": "Validate (2300 Steps) (DiceMetric=0.40556): 100%"
      }
     },
     "e6864ee7446d4417867009546453a109": {
      "model_module": "@jupyter-widgets/base",
      "model_module_version": "2.0.0",
      "model_name": "LayoutModel",
      "state": {
       "flex": "2"
      }
     },
     "e6c7e3f2c5be4effa81e2230186c12a1": {
      "model_module": "@jupyter-widgets/controls",
      "model_module_version": "2.0.0",
      "model_name": "HTMLStyleModel",
      "state": {
       "description_width": "",
       "font_size": null,
       "text_color": null
      }
     },
     "e7013314193b4d858737ab4a64ebb4b7": {
      "model_module": "@jupyter-widgets/base",
      "model_module_version": "2.0.0",
      "model_name": "LayoutModel",
      "state": {
       "display": "inline-flex",
       "flex_flow": "row wrap",
       "width": "100%"
      }
     },
     "e74c1c55f8ca41bcacc64d506735098b": {
      "model_module": "@jupyter-widgets/base",
      "model_module_version": "2.0.0",
      "model_name": "LayoutModel",
      "state": {
       "display": "inline-flex",
       "flex_flow": "row wrap",
       "width": "100%"
      }
     },
     "e76d425b53014c988b51eafee92498e7": {
      "model_module": "@jupyter-widgets/controls",
      "model_module_version": "2.0.0",
      "model_name": "HTMLModel",
      "state": {
       "layout": "IPY_MODEL_9028f744d5d64671b6b8df523c19bf96",
       "style": "IPY_MODEL_4030c50493ba4c708da91d8c69c7ad5b",
       "value": "Validate (5000 Steps) (DiceMetric=0.71007): 100%"
      }
     },
     "e7d558d48ba049e8885874d1d2612c00": {
      "model_module": "@jupyter-widgets/controls",
      "model_module_version": "2.0.0",
      "model_name": "FloatProgressModel",
      "state": {
       "bar_style": "success",
       "layout": "IPY_MODEL_6c6743f13aa74efdb659cf1e5151e44b",
       "max": 20,
       "style": "IPY_MODEL_7d549c74b46045bb8945393dc97142e2",
       "value": 20
      }
     },
     "e893a102991f449b99a1ed7a95d6fee6": {
      "model_module": "@jupyter-widgets/base",
      "model_module_version": "2.0.0",
      "model_name": "LayoutModel",
      "state": {}
     },
     "e8f6e44d769d4ef0969d18fc4ea1ff29": {
      "model_module": "@jupyter-widgets/base",
      "model_module_version": "2.0.0",
      "model_name": "LayoutModel",
      "state": {}
     },
     "ea821d821f4a4b93b69483650978fde7": {
      "model_module": "@jupyter-widgets/base",
      "model_module_version": "2.0.0",
      "model_name": "LayoutModel",
      "state": {
       "display": "inline-flex",
       "flex_flow": "row wrap",
       "width": "100%"
      }
     },
     "ea95e92d4a2644b1bb2ebb55598abde5": {
      "model_module": "@jupyter-widgets/controls",
      "model_module_version": "2.0.0",
      "model_name": "HTMLModel",
      "state": {
       "layout": "IPY_MODEL_784bbda270504a89a7b981a594cc27dd",
       "style": "IPY_MODEL_526e997eaeb54f11b6b3800fae23fc8f",
       "value": "Validate (6200 Steps) (DiceMetric=0.70371): 100%"
      }
     },
     "eab6d69f70904ab895e376047f299a19": {
      "model_module": "@jupyter-widgets/controls",
      "model_module_version": "2.0.0",
      "model_name": "HTMLStyleModel",
      "state": {
       "description_width": "",
       "font_size": null,
       "text_color": null
      }
     },
     "eb2c882a097041d588e6c19c4c1f31ae": {
      "model_module": "@jupyter-widgets/controls",
      "model_module_version": "2.0.0",
      "model_name": "HTMLStyleModel",
      "state": {
       "description_width": "",
       "font_size": null,
       "text_color": null
      }
     },
     "ebd32f1295584188a7338d976e3ace7e": {
      "model_module": "@jupyter-widgets/controls",
      "model_module_version": "2.0.0",
      "model_name": "HBoxModel",
      "state": {
       "children": [
        "IPY_MODEL_c1fe0755d3d84b418fe490731617d5b2",
        "IPY_MODEL_ee52e3467ba240cea5d9815f8fab0a1a",
        "IPY_MODEL_1a9fb0938fe94bfcb478918943b580fd"
       ],
       "layout": "IPY_MODEL_a6d30f76187d48eab765ed2ff61b59f8"
      }
     },
     "ebde199965354d1e8f453fe0bb6c9307": {
      "model_module": "@jupyter-widgets/controls",
      "model_module_version": "2.0.0",
      "model_name": "HTMLStyleModel",
      "state": {
       "description_width": "",
       "font_size": null,
       "text_color": null
      }
     },
     "ecca002e4e6946d0918248c045ba92d4": {
      "model_module": "@jupyter-widgets/controls",
      "model_module_version": "2.0.0",
      "model_name": "FloatProgressModel",
      "state": {
       "bar_style": "success",
       "layout": "IPY_MODEL_6b682a08c12a4c03ad1ae99d4a9d9a16",
       "max": 20,
       "style": "IPY_MODEL_484534ff67614c4ebd40f44e91fd2389",
       "value": 20
      }
     },
     "eccd4546f32b4e7f9d07e6de6fbefd1b": {
      "model_module": "@jupyter-widgets/base",
      "model_module_version": "2.0.0",
      "model_name": "LayoutModel",
      "state": {
       "flex": "2"
      }
     },
     "ed416620a64e4185b529d226a0aa6fda": {
      "model_module": "@jupyter-widgets/base",
      "model_module_version": "2.0.0",
      "model_name": "LayoutModel",
      "state": {
       "display": "inline-flex",
       "flex_flow": "row wrap",
       "width": "100%"
      }
     },
     "ed4af6df8b6648c39442da37119da47f": {
      "model_module": "@jupyter-widgets/controls",
      "model_module_version": "2.0.0",
      "model_name": "HTMLStyleModel",
      "state": {
       "description_width": "",
       "font_size": null,
       "text_color": null
      }
     },
     "ed8364136b324dec8ae136af949f4cf1": {
      "model_module": "@jupyter-widgets/base",
      "model_module_version": "2.0.0",
      "model_name": "LayoutModel",
      "state": {}
     },
     "ed90ba0d95e04c90a1aba7a277584837": {
      "model_module": "@jupyter-widgets/base",
      "model_module_version": "2.0.0",
      "model_name": "LayoutModel",
      "state": {
       "flex": "2"
      }
     },
     "edba92ef5f6740cbb8a75b45af7d5d7f": {
      "model_module": "@jupyter-widgets/base",
      "model_module_version": "2.0.0",
      "model_name": "LayoutModel",
      "state": {
       "display": "inline-flex",
       "flex_flow": "row wrap",
       "width": "100%"
      }
     },
     "ee52e3467ba240cea5d9815f8fab0a1a": {
      "model_module": "@jupyter-widgets/controls",
      "model_module_version": "2.0.0",
      "model_name": "FloatProgressModel",
      "state": {
       "bar_style": "success",
       "layout": "IPY_MODEL_b749b6c3894d498ab3776d3bd27b9512",
       "max": 20,
       "style": "IPY_MODEL_c0e40074c4124689a78d366569348e7f",
       "value": 20
      }
     },
     "eec6adf4007f461da689d08471d637be": {
      "model_module": "@jupyter-widgets/controls",
      "model_module_version": "2.0.0",
      "model_name": "HTMLStyleModel",
      "state": {
       "description_width": "",
       "font_size": null,
       "text_color": null
      }
     },
     "eede14681f2242b4b4ede592a5dda9ac": {
      "model_module": "@jupyter-widgets/controls",
      "model_module_version": "2.0.0",
      "model_name": "HTMLStyleModel",
      "state": {
       "description_width": "",
       "font_size": null,
       "text_color": null
      }
     },
     "ef4da4e66c24471b9ed5c100f47cc91e": {
      "model_module": "@jupyter-widgets/controls",
      "model_module_version": "2.0.0",
      "model_name": "HTMLStyleModel",
      "state": {
       "description_width": "",
       "font_size": null,
       "text_color": null
      }
     },
     "ef6c32f1f5044918af96ad7642cac8ee": {
      "model_module": "@jupyter-widgets/base",
      "model_module_version": "2.0.0",
      "model_name": "LayoutModel",
      "state": {}
     },
     "eff4e8a47c7f47ccbad40684390ed8b9": {
      "model_module": "@jupyter-widgets/controls",
      "model_module_version": "2.0.0",
      "model_name": "ProgressStyleModel",
      "state": {
       "description_width": ""
      }
     },
     "f0ca902d0b17423190fb6f5e87b00bfd": {
      "model_module": "@jupyter-widgets/base",
      "model_module_version": "2.0.0",
      "model_name": "LayoutModel",
      "state": {}
     },
     "f0e17ea6774046c7a27215981850aede": {
      "model_module": "@jupyter-widgets/controls",
      "model_module_version": "2.0.0",
      "model_name": "HTMLStyleModel",
      "state": {
       "description_width": "",
       "font_size": null,
       "text_color": null
      }
     },
     "f1745351071b4109afe5d29bcc1d0988": {
      "model_module": "@jupyter-widgets/base",
      "model_module_version": "2.0.0",
      "model_name": "LayoutModel",
      "state": {}
     },
     "f1cfd1f5e702403ba3946cf84e6ea6ae": {
      "model_module": "@jupyter-widgets/controls",
      "model_module_version": "2.0.0",
      "model_name": "HTMLStyleModel",
      "state": {
       "description_width": "",
       "font_size": null,
       "text_color": null
      }
     },
     "f232e7af983b472db0255b87a1acb5c9": {
      "model_module": "@jupyter-widgets/controls",
      "model_module_version": "2.0.0",
      "model_name": "HBoxModel",
      "state": {
       "children": [
        "IPY_MODEL_8c79c7befabe433cbfaa333cf27e4b4f",
        "IPY_MODEL_a6e14e739d924c81b14f6be8d043e020",
        "IPY_MODEL_d6bc347770654ad0b17ab84adc47b5ec"
       ],
       "layout": "IPY_MODEL_f77eee21282b46b6a2c90d574e9df526"
      }
     },
     "f239bfc170614be78558d7e22d42c892": {
      "model_module": "@jupyter-widgets/base",
      "model_module_version": "2.0.0",
      "model_name": "LayoutModel",
      "state": {
       "display": "inline-flex",
       "flex_flow": "row wrap",
       "width": "100%"
      }
     },
     "f29a4e9a3f8444909d29b4e5b0f83e1c": {
      "model_module": "@jupyter-widgets/base",
      "model_module_version": "2.0.0",
      "model_name": "LayoutModel",
      "state": {}
     },
     "f309ba1582bc4c2ebba224c428d32e5d": {
      "model_module": "@jupyter-widgets/base",
      "model_module_version": "2.0.0",
      "model_name": "LayoutModel",
      "state": {
       "flex": "2"
      }
     },
     "f408a028d4fc4c948746846b5d0edb3b": {
      "model_module": "@jupyter-widgets/controls",
      "model_module_version": "2.0.0",
      "model_name": "HTMLStyleModel",
      "state": {
       "description_width": "",
       "font_size": null,
       "text_color": null
      }
     },
     "f4aad8e3419b4c79a81190d07054f4bf": {
      "model_module": "@jupyter-widgets/controls",
      "model_module_version": "2.0.0",
      "model_name": "HTMLStyleModel",
      "state": {
       "description_width": "",
       "font_size": null,
       "text_color": null
      }
     },
     "f4bdac4b343a406386a36846559ee2f0": {
      "model_module": "@jupyter-widgets/controls",
      "model_module_version": "2.0.0",
      "model_name": "HBoxModel",
      "state": {
       "children": [
        "IPY_MODEL_920741b9d7864965925a18cb7ea53df2",
        "IPY_MODEL_7835e6f79cad4bb19ce211b6e10a8d23",
        "IPY_MODEL_98636326b7944478b791b694f99556ba"
       ],
       "layout": "IPY_MODEL_d90b9ee37df14342beeda4dc4c0541f8"
      }
     },
     "f59b8516e1244e43ab3b7b8dcb2871ab": {
      "model_module": "@jupyter-widgets/controls",
      "model_module_version": "2.0.0",
      "model_name": "ProgressStyleModel",
      "state": {
       "description_width": ""
      }
     },
     "f5a54cc4545f4c11aa274db6d8cb9efb": {
      "model_module": "@jupyter-widgets/controls",
      "model_module_version": "2.0.0",
      "model_name": "FloatProgressModel",
      "state": {
       "bar_style": "success",
       "layout": "IPY_MODEL_b3b3944842f64609a0d2ac51c7becd23",
       "max": 20,
       "style": "IPY_MODEL_528484f06b814e45b55ca7ab7273e207",
       "value": 20
      }
     },
     "f656f157fd85428f9e26d800d2e614a2": {
      "model_module": "@jupyter-widgets/controls",
      "model_module_version": "2.0.0",
      "model_name": "HTMLStyleModel",
      "state": {
       "description_width": "",
       "font_size": null,
       "text_color": null
      }
     },
     "f6889e52bc4e489fa395a5ef2861ed23": {
      "model_module": "@jupyter-widgets/controls",
      "model_module_version": "2.0.0",
      "model_name": "HTMLModel",
      "state": {
       "layout": "IPY_MODEL_1f2a9e85fea04fceaf94b61bbb9f75aa",
       "style": "IPY_MODEL_e0036ce12a75439f81ec9bec19f59620",
       "value": "Validate (4900 Steps) (DiceMetric=0.70743): 100%"
      }
     },
     "f6a0a29024154398ab20171c3bff0972": {
      "model_module": "@jupyter-widgets/controls",
      "model_module_version": "2.0.0",
      "model_name": "HTMLModel",
      "state": {
       "layout": "IPY_MODEL_8defe2291ce84eac858db3d27fd9e351",
       "style": "IPY_MODEL_ff27177f59eb4d98809af5453c4096cc",
       "value": " 20/20 [01:50&lt;00:00,  6.15s/it]"
      }
     },
     "f6a6f0a04cdb4d0bad4fc1dd31b195ac": {
      "model_module": "@jupyter-widgets/controls",
      "model_module_version": "2.0.0",
      "model_name": "HBoxModel",
      "state": {
       "children": [
        "IPY_MODEL_9b97ff2e42e14d2bbb663eb64cd09fd4",
        "IPY_MODEL_3063814250904e29a1d537e195f937d6",
        "IPY_MODEL_c6e04f10c79a4532a5f85a98b9952291"
       ],
       "layout": "IPY_MODEL_c3c5a6eadc1342e8ad726dc4bf38337f"
      }
     },
     "f6e1016dac0540f3aa63187528ae785a": {
      "model_module": "@jupyter-widgets/controls",
      "model_module_version": "2.0.0",
      "model_name": "HTMLModel",
      "state": {
       "layout": "IPY_MODEL_68e6b0e2aa9f4980b3673962f161e5ee",
       "style": "IPY_MODEL_621299bccea945979388c882fb5fadd6",
       "value": " 20/20 [01:50&lt;00:00,  6.15s/it]"
      }
     },
     "f6e573fb23294bb595c3b30a0db85cc0": {
      "model_module": "@jupyter-widgets/base",
      "model_module_version": "2.0.0",
      "model_name": "LayoutModel",
      "state": {}
     },
     "f761b597da44408abc8accc957b5ba45": {
      "model_module": "@jupyter-widgets/base",
      "model_module_version": "2.0.0",
      "model_name": "LayoutModel",
      "state": {}
     },
     "f77eee21282b46b6a2c90d574e9df526": {
      "model_module": "@jupyter-widgets/base",
      "model_module_version": "2.0.0",
      "model_name": "LayoutModel",
      "state": {
       "display": "inline-flex",
       "flex_flow": "row wrap",
       "width": "100%"
      }
     },
     "f7b0010415934f5d9af48acdb40080de": {
      "model_module": "@jupyter-widgets/controls",
      "model_module_version": "2.0.0",
      "model_name": "FloatProgressModel",
      "state": {
       "bar_style": "success",
       "layout": "IPY_MODEL_619d5a5b70f24def80dff9975023931c",
       "max": 20,
       "style": "IPY_MODEL_4c1b865a3ec747b8bec701bbed7e0f46",
       "value": 20
      }
     },
     "f7ce32c9d4cd4e9481ef12000902d2b8": {
      "model_module": "@jupyter-widgets/controls",
      "model_module_version": "2.0.0",
      "model_name": "HTMLModel",
      "state": {
       "layout": "IPY_MODEL_a5b0fcdd5a9e442f9bcf0be1929893ea",
       "style": "IPY_MODEL_116e888fb63c4691a9b6f5732883ad41",
       "value": "Validate (3000 Steps) (DiceMetric=0.44999): 100%"
      }
     },
     "f84bf91e8d9f495e997f825ec8e6c7f3": {
      "model_module": "@jupyter-widgets/controls",
      "model_module_version": "2.0.0",
      "model_name": "HTMLModel",
      "state": {
       "layout": "IPY_MODEL_7e60cf1142ad4ba59a3049bffe5d1e7f",
       "style": "IPY_MODEL_bb619ac8be9b4479815e5b74942f479a",
       "value": " 20/20 [01:51&lt;00:00,  6.15s/it]"
      }
     },
     "f87c2466d11848f885e1415dc0a085c1": {
      "model_module": "@jupyter-widgets/controls",
      "model_module_version": "2.0.0",
      "model_name": "ProgressStyleModel",
      "state": {
       "description_width": ""
      }
     },
     "f87ce78bd7a1472a9f3db416088c06d6": {
      "model_module": "@jupyter-widgets/controls",
      "model_module_version": "2.0.0",
      "model_name": "HTMLStyleModel",
      "state": {
       "description_width": "",
       "font_size": null,
       "text_color": null
      }
     },
     "f8a12540b8174de0b62f8d1de0ca2f0c": {
      "model_module": "@jupyter-widgets/controls",
      "model_module_version": "2.0.0",
      "model_name": "HTMLModel",
      "state": {
       "layout": "IPY_MODEL_a8dcb4f10d1e4cf4826a5f4375092def",
       "style": "IPY_MODEL_afd28535f0584ce6b5f5473e6bf32e22",
       "value": "Validate (3100 Steps) (DiceMetric=0.52659): 100%"
      }
     },
     "f9b9b704b2a0494482282168823f0351": {
      "model_module": "@jupyter-widgets/controls",
      "model_module_version": "2.0.0",
      "model_name": "FloatProgressModel",
      "state": {
       "bar_style": "success",
       "layout": "IPY_MODEL_deccd086d8de41ddb020327396c49049",
       "max": 20,
       "style": "IPY_MODEL_3060f94affcf4314b665be16bf86ec7b",
       "value": 20
      }
     },
     "f9cbfa60e37b4032bdb10f5a36439ccd": {
      "model_module": "@jupyter-widgets/controls",
      "model_module_version": "2.0.0",
      "model_name": "HBoxModel",
      "state": {
       "children": [
        "IPY_MODEL_6bf190728e6745afaab739d77ceeb067",
        "IPY_MODEL_f7b0010415934f5d9af48acdb40080de",
        "IPY_MODEL_9abe8967e1534cbaa621d97fe8035394"
       ],
       "layout": "IPY_MODEL_85b7d47c0e884320a463ab73451e0191"
      }
     },
     "f9f06a7b6a1c4185b8027faae27c797f": {
      "model_module": "@jupyter-widgets/base",
      "model_module_version": "2.0.0",
      "model_name": "LayoutModel",
      "state": {
       "flex": "2"
      }
     },
     "fa214056eb8a4564aaa18b21ee851fbb": {
      "model_module": "@jupyter-widgets/base",
      "model_module_version": "2.0.0",
      "model_name": "LayoutModel",
      "state": {
       "display": "inline-flex",
       "flex_flow": "row wrap",
       "width": "100%"
      }
     },
     "fa3dbb49228849b69abe318c3fc71d84": {
      "model_module": "@jupyter-widgets/controls",
      "model_module_version": "2.0.0",
      "model_name": "HTMLModel",
      "state": {
       "layout": "IPY_MODEL_4e9c2e9a7380491b81999fbbeeb19b59",
       "style": "IPY_MODEL_7c5de9db8987428da56acbdedb0e8bac",
       "value": "Validate (6500 Steps) (DiceMetric=0.61196): 100%"
      }
     },
     "fa60e9d0967141b2a4428c7823321b07": {
      "model_module": "@jupyter-widgets/controls",
      "model_module_version": "2.0.0",
      "model_name": "HTMLStyleModel",
      "state": {
       "description_width": "",
       "font_size": null,
       "text_color": null
      }
     },
     "facee070df904568a79c4e016715a96e": {
      "model_module": "@jupyter-widgets/controls",
      "model_module_version": "2.0.0",
      "model_name": "HTMLStyleModel",
      "state": {
       "description_width": "",
       "font_size": null,
       "text_color": null
      }
     },
     "fb0c7ffd0030419bab1215eced671d14": {
      "model_module": "@jupyter-widgets/base",
      "model_module_version": "2.0.0",
      "model_name": "LayoutModel",
      "state": {}
     },
     "fb89eeb52e194ee3b5b0ff2922a1969b": {
      "model_module": "@jupyter-widgets/base",
      "model_module_version": "2.0.0",
      "model_name": "LayoutModel",
      "state": {}
     },
     "fbcb6a5befa24aaa902d363275f9d9d5": {
      "model_module": "@jupyter-widgets/base",
      "model_module_version": "2.0.0",
      "model_name": "LayoutModel",
      "state": {
       "display": "inline-flex",
       "flex_flow": "row wrap",
       "width": "100%"
      }
     },
     "fbd03644f26244bcaa2e397187016912": {
      "model_module": "@jupyter-widgets/base",
      "model_module_version": "2.0.0",
      "model_name": "LayoutModel",
      "state": {
       "display": "inline-flex",
       "flex_flow": "row wrap",
       "width": "100%"
      }
     },
     "fc20d717c4b44cd5b93a0b1048a1a0b0": {
      "model_module": "@jupyter-widgets/base",
      "model_module_version": "2.0.0",
      "model_name": "LayoutModel",
      "state": {}
     },
     "fc217a38b23d44a0b32ddc6aaf30d3c9": {
      "model_module": "@jupyter-widgets/controls",
      "model_module_version": "2.0.0",
      "model_name": "FloatProgressModel",
      "state": {
       "bar_style": "success",
       "layout": "IPY_MODEL_9adfa17c0ee44a2cb10f663868e649e1",
       "max": 20,
       "style": "IPY_MODEL_4bd014b2fd8b4fb49cb087d4714ab268",
       "value": 20
      }
     },
     "fca540a382d849cd9f709b162a29a337": {
      "model_module": "@jupyter-widgets/base",
      "model_module_version": "2.0.0",
      "model_name": "LayoutModel",
      "state": {
       "display": "inline-flex",
       "flex_flow": "row wrap",
       "width": "100%"
      }
     },
     "fddb644d47b94c1d8565132209896be0": {
      "model_module": "@jupyter-widgets/base",
      "model_module_version": "2.0.0",
      "model_name": "LayoutModel",
      "state": {
       "display": "inline-flex",
       "flex_flow": "row wrap",
       "width": "100%"
      }
     },
     "fdf059de2a3248c6b6fddbd54d30402a": {
      "model_module": "@jupyter-widgets/controls",
      "model_module_version": "2.0.0",
      "model_name": "ProgressStyleModel",
      "state": {
       "description_width": ""
      }
     },
     "fe10507b837b4df985660d297e73e001": {
      "model_module": "@jupyter-widgets/controls",
      "model_module_version": "2.0.0",
      "model_name": "ProgressStyleModel",
      "state": {
       "description_width": ""
      }
     },
     "fe4a0c149d384fda9fc8346dce16bb27": {
      "model_module": "@jupyter-widgets/controls",
      "model_module_version": "2.0.0",
      "model_name": "FloatProgressModel",
      "state": {
       "bar_style": "success",
       "layout": "IPY_MODEL_0a15ff0edfcd43a984b1f5237b1d862f",
       "max": 20,
       "style": "IPY_MODEL_a7fb75d2addd406ab6287acb1244473c",
       "value": 20
      }
     },
     "fea065a27bd248da80ac2fd04147cdaa": {
      "model_module": "@jupyter-widgets/controls",
      "model_module_version": "2.0.0",
      "model_name": "HTMLModel",
      "state": {
       "layout": "IPY_MODEL_2bb78f4bfcdc42528a13c68ad5766862",
       "style": "IPY_MODEL_b48af7e0877846b8ab8410c2990512f5",
       "value": " 20/20 [01:50&lt;00:00,  6.18s/it]"
      }
     },
     "fea680a80912470b8de86eed466294c1": {
      "model_module": "@jupyter-widgets/controls",
      "model_module_version": "2.0.0",
      "model_name": "HTMLModel",
      "state": {
       "layout": "IPY_MODEL_f0ca902d0b17423190fb6f5e87b00bfd",
       "style": "IPY_MODEL_d64846dee73744d29eebb4b94267ffbd",
       "value": "Validate (7000 Steps) (DiceMetric=0.85692):  50%"
      }
     },
     "ff27177f59eb4d98809af5453c4096cc": {
      "model_module": "@jupyter-widgets/controls",
      "model_module_version": "2.0.0",
      "model_name": "HTMLStyleModel",
      "state": {
       "description_width": "",
       "font_size": null,
       "text_color": null
      }
     },
     "ff6f262cb07947278fdc6448b9486e27": {
      "model_module": "@jupyter-widgets/base",
      "model_module_version": "2.0.0",
      "model_name": "LayoutModel",
      "state": {}
     },
     "ffa43501e6bf44d197ff929c71c1098d": {
      "model_module": "@jupyter-widgets/controls",
      "model_module_version": "2.0.0",
      "model_name": "HTMLStyleModel",
      "state": {
       "description_width": "",
       "font_size": null,
       "text_color": null
      }
     },
     "ffd910ad0cb345939ab1f9cf62a26192": {
      "model_module": "@jupyter-widgets/controls",
      "model_module_version": "2.0.0",
      "model_name": "HTMLStyleModel",
      "state": {
       "description_width": "",
       "font_size": null,
       "text_color": null
      }
     }
    },
    "version_major": 2,
    "version_minor": 0
   }
  }
 },
 "nbformat": 4,
 "nbformat_minor": 5
}
